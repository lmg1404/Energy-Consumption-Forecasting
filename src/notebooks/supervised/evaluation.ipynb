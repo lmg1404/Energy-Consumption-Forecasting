{
 "cells": [
  {
   "cell_type": "markdown",
   "id": "c44e344d-2b71-464f-af29-cb5ef4a094f5",
   "metadata": {},
   "source": [
    "# Evaluation"
   ]
  },
  {
   "cell_type": "markdown",
   "id": "ec1c1b8c-c1ce-4f42-a5b7-08127e07014b",
   "metadata": {},
   "source": [
    "## Imports"
   ]
  },
  {
   "cell_type": "code",
   "execution_count": 1,
   "id": "f0f4ff19-7f65-41e6-9126-b80efbfb115a",
   "metadata": {},
   "outputs": [],
   "source": [
    "import pandas as pd\n",
    "import numpy as np\n",
    "\n",
    "import plotly.express as px\n",
    "from plotly.subplots import make_subplots\n",
    "import plotly.graph_objs as go\n",
    "\n",
    "from statsmodels.tsa.arima.model import ARIMA\n",
    "from sklearn.metrics import mean_absolute_error, mean_squared_error, mean_absolute_percentage_error\n",
    "from skforecast.ForecasterAutoreg import ForecasterAutoreg\n",
    "from xgboost import XGBRegressor\n",
    "\n",
    "from tqdm.notebook import tqdm\n",
    "import json\n",
    "import pickle\n",
    "from typing import List, Dict, Union, Tuple\n",
    "\n",
    "RANDOM_STATE = 42\n",
    "np.random.seed(RANDOM_STATE)"
   ]
  },
  {
   "cell_type": "code",
   "execution_count": 2,
   "id": "8d95dd0f-aa23-4453-b3bb-f4e8acd67a8a",
   "metadata": {},
   "outputs": [],
   "source": [
    "import sys\n",
    "import os\n",
    "\n",
    "notebook_dir = os.path.dirname(os.path.abspath(\"__file__\"))\n",
    "scripts_dir = os.path.join(notebook_dir, '../..')\n",
    "sys.path.append(scripts_dir)\n",
    "\n",
    "from scripts.utils import *\n",
    "from scripts.optimization import BayesianOptimization, BayesianOptimizationConfig"
   ]
  },
  {
   "cell_type": "markdown",
   "id": "fd53ceb0-20a4-4826-91d4-eab18263ae61",
   "metadata": {},
   "source": [
    "## Reporting the Model Families and our Best Model\n",
    "\n",
    "Overall results reporting.\n",
    "- State and justify your choice of evaluation metrics used.\n",
    "- Provide at least one overall summary of results that compares the best model from each family you used, in a clear, concise table.\n",
    "- If comparing an evaluation metric between model families (e.g. comparing accuracy of support vector machines vs logistic regression), do not use just the result of a single training/test split: you must report the mean metric across multiple cross-validation folds (typically 5-fold CV), along with the standard deviation of the metric."
   ]
  },
  {
   "cell_type": "code",
   "execution_count": 3,
   "id": "c13c0e77-5149-4964-9e97-c31d65fc0ff7",
   "metadata": {},
   "outputs": [
    {
     "data": {
      "text/plain": [
       "[[4, 2, 3], [7, 2, 5], [9, 2, 4]]"
      ]
     },
     "execution_count": 3,
     "metadata": {},
     "output_type": "execute_result"
    }
   ],
   "source": [
    "with open(\"ARIMA_top3.json\", 'r') as f:\n",
    "    arima_params = json.load(f)\n",
    "arima_params"
   ]
  },
  {
   "cell_type": "code",
   "execution_count": 6,
   "id": "e80e1fb4-c346-4b9d-a9ee-ce5a79684b05",
   "metadata": {},
   "outputs": [
    {
     "data": {
      "text/plain": [
       "{'params': [7, 1, 3], 'mean': 255283624.6019246, 'std': 134643144.14765683}"
      ]
     },
     "execution_count": 6,
     "metadata": {},
     "output_type": "execute_result"
    }
   ],
   "source": [
    "with open(\"ARIMA_params.json\", 'r') as f:\n",
    "    d = json.load(f)\n",
    "d"
   ]
  },
  {
   "cell_type": "code",
   "execution_count": 5,
   "id": "e6a43e7f-2e46-4587-868a-56e5922071e5",
   "metadata": {},
   "outputs": [
    {
     "data": {
      "text/plain": [
       "{'params': {'n_estimators': 584,\n",
       "  'max_depth': 6,\n",
       "  'learning_rate': 0.545,\n",
       "  'subsample': 0.776,\n",
       "  'colsample_bytree': 0.549,\n",
       "  'gamma': 0.386,\n",
       "  'reg_alpha': 0.833,\n",
       "  'reg_lambda': 0.973},\n",
       " 'lag': 6,\n",
       " 'differentiation': None,\n",
       " 'mean': 187443293.5457216,\n",
       " 'std': 97598006.91018973}"
      ]
     },
     "execution_count": 5,
     "metadata": {},
     "output_type": "execute_result"
    }
   ],
   "source": [
    "with open('xgboostforecaster.pkl', 'rb') as picklefile:\n",
    "    bayesian_opt = pickle.load(picklefile)\n",
    "bayesian_opt.best_params()"
   ]
  },
  {
   "cell_type": "code",
   "execution_count": null,
   "id": "d1b37418-ecc5-4cf1-8947-c39bdfae0376",
   "metadata": {},
   "outputs": [],
   "source": []
  },
  {
   "cell_type": "code",
   "execution_count": null,
   "id": "04dec7de-4eb9-4203-8110-bf696960ab3c",
   "metadata": {},
   "outputs": [],
   "source": []
  },
  {
   "cell_type": "code",
   "execution_count": null,
   "id": "9861c89a-a9cf-4ca4-8bd6-611cb5241d40",
   "metadata": {},
   "outputs": [],
   "source": []
  },
  {
   "cell_type": "code",
   "execution_count": null,
   "id": "a6caa734-c2a8-4602-840e-18b3f24906ed",
   "metadata": {},
   "outputs": [],
   "source": []
  },
  {
   "cell_type": "markdown",
   "id": "916e7606-351f-4654-89e2-01a2fd53960f",
   "metadata": {},
   "source": [
    "## Deep Dive on the Best Performing Model\n",
    "### Feature Importance and Ablation Analysis"
   ]
  },
  {
   "cell_type": "code",
   "execution_count": null,
   "id": "364ef9da-4ea3-491d-a21a-d2b63172b9d6",
   "metadata": {},
   "outputs": [],
   "source": []
  },
  {
   "cell_type": "markdown",
   "id": "8758042c-96ce-42e6-89b4-c6874fc505da",
   "metadata": {},
   "source": [
    "### Sensitivity Analysis"
   ]
  },
  {
   "cell_type": "code",
   "execution_count": null,
   "id": "80fcb26a-2acc-4814-8049-721a5c7dc234",
   "metadata": {},
   "outputs": [],
   "source": []
  },
  {
   "cell_type": "markdown",
   "id": "6e02b05e-f20b-4cdf-a2d2-bc1fe7b1203e",
   "metadata": {},
   "source": [
    "### Trade-Offs Between Metrics"
   ]
  },
  {
   "cell_type": "code",
   "execution_count": null,
   "id": "4092a6ab-4c12-4f6f-831d-683c4973ee46",
   "metadata": {},
   "outputs": [],
   "source": []
  },
  {
   "cell_type": "markdown",
   "id": "ce003998-a7e4-4018-9b40-13f47ef71949",
   "metadata": {},
   "source": [
    "## Failure Analysis"
   ]
  },
  {
   "cell_type": "code",
   "execution_count": null,
   "id": "34dbbce2-be2c-41ab-9aff-63fdb27937bc",
   "metadata": {},
   "outputs": [],
   "source": []
  }
 ],
 "metadata": {
  "kernelspec": {
   "display_name": "Python 3 (ipykernel)",
   "language": "python",
   "name": "python3"
  },
  "language_info": {
   "codemirror_mode": {
    "name": "ipython",
    "version": 3
   },
   "file_extension": ".py",
   "mimetype": "text/x-python",
   "name": "python",
   "nbconvert_exporter": "python",
   "pygments_lexer": "ipython3",
   "version": "3.10.14"
  }
 },
 "nbformat": 4,
 "nbformat_minor": 5
}
