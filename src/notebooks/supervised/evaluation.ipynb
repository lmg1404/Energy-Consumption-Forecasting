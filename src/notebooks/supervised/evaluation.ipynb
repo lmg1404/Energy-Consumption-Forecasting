{
 "cells": [
  {
   "cell_type": "markdown",
   "id": "c44e344d-2b71-464f-af29-cb5ef4a094f5",
   "metadata": {},
   "source": [
    "# Evaluation\n",
    "\n",
    "The most important part of our project includes the evaluation of our ARIMA, XGBoost, and LSTM forecasters. We have saved JSON and pickle files containing the hyperparameters, mean, and standard deviation of the best performing model from each class of forecaster. We will be conducting feature importance, feature ablation, learning curve, and sensitivity analysis on our best model. This notebook will also finish up on a failure analysis which will be included in the final report. Failure analysis may refer to previous plots to illustrate the point of failure."
   ]
  },
  {
   "cell_type": "markdown",
   "id": "ec1c1b8c-c1ce-4f42-a5b7-08127e07014b",
   "metadata": {},
   "source": [
    "## Imports"
   ]
  },
  {
   "cell_type": "code",
   "execution_count": 111,
   "id": "f0f4ff19-7f65-41e6-9126-b80efbfb115a",
   "metadata": {},
   "outputs": [],
   "source": [
    "import pandas as pd\n",
    "import numpy as np\n",
    "import itertools\n",
    "\n",
    "import plotly.express as px\n",
    "from plotly.subplots import make_subplots\n",
    "import plotly.graph_objs as go\n",
    "import matplotlib.pyplot as plt\n",
    "\n",
    "from statsmodels.tsa.arima.model import ARIMA\n",
    "from sklearn.metrics import mean_absolute_error, mean_squared_error, mean_absolute_percentage_error\n",
    "from skforecast.ForecasterAutoreg import ForecasterAutoreg\n",
    "from xgboost import XGBRegressor\n",
    "import shap\n",
    "\n",
    "from tqdm.notebook import tqdm\n",
    "import json\n",
    "import pickle\n",
    "from typing import List, Dict, Union, Tuple\n",
    "import warnings\n",
    "\n",
    "# warnings.resetwarnings()\n",
    "warnings.filterwarnings('ignore')\n",
    "RANDOM_STATE = 42\n",
    "np.random.seed(RANDOM_STATE)"
   ]
  },
  {
   "cell_type": "code",
   "execution_count": 2,
   "id": "8d95dd0f-aa23-4453-b3bb-f4e8acd67a8a",
   "metadata": {},
   "outputs": [],
   "source": [
    "import sys\n",
    "import os\n",
    "\n",
    "notebook_dir = os.path.dirname(os.path.abspath(\"__file__\"))\n",
    "scripts_dir = os.path.join(notebook_dir, '../..')\n",
    "sys.path.append(scripts_dir)\n",
    "\n",
    "from scripts.utils import *\n",
    "from scripts.optimization import BayesianOptimization, BayesianOptimizationConfig"
   ]
  },
  {
   "cell_type": "markdown",
   "id": "fd53ceb0-20a4-4826-91d4-eab18263ae61",
   "metadata": {},
   "source": [
    "## Reporting the Model Families and our Best Model\n",
    "\n",
    "Each of these files have their own notebook behind them. Please refer to them if you need clarification on how this was completed. MAE was used in order to correctly capture the magnitude of errors without becoming out of hand."
   ]
  },
  {
   "cell_type": "code",
   "execution_count": 3,
   "id": "e80e1fb4-c346-4b9d-a9ee-ce5a79684b05",
   "metadata": {},
   "outputs": [
    {
     "data": {
      "text/plain": [
       "{'params': [3, 1, 4], 'mean': 8982.000373589684, 'std': 1079.1711995197873}"
      ]
     },
     "execution_count": 3,
     "metadata": {},
     "output_type": "execute_result"
    }
   ],
   "source": [
    "with open(\"ARIMA_params.json\", 'r') as f:\n",
    "    arima = json.load(f)\n",
    "arima"
   ]
  },
  {
   "cell_type": "code",
   "execution_count": 4,
   "id": "e6a43e7f-2e46-4587-868a-56e5922071e5",
   "metadata": {},
   "outputs": [
    {
     "data": {
      "text/plain": [
       "{'params': {'n_estimators': 1027,\n",
       "  'max_depth': 9,\n",
       "  'learning_rate': 0.58,\n",
       "  'subsample': 0.966,\n",
       "  'colsample_bytree': 0.724,\n",
       "  'gamma': 0.157,\n",
       "  'reg_alpha': 0.269,\n",
       "  'reg_lambda': 0.022},\n",
       " 'lag': 6,\n",
       " 'differentiation': None,\n",
       " 'mean': 14329.429607928241,\n",
       " 'std': 6344.947220145858}"
      ]
     },
     "execution_count": 4,
     "metadata": {},
     "output_type": "execute_result"
    }
   ],
   "source": [
    "with open('xgboostforecaster.pkl', 'rb') as picklefile:\n",
    "    bayesian_opt = pickle.load(picklefile)\n",
    "bayesian_opt.best_params()"
   ]
  },
  {
   "cell_type": "code",
   "execution_count": 5,
   "id": "a6caa734-c2a8-4602-840e-18b3f24906ed",
   "metadata": {},
   "outputs": [
    {
     "data": {
      "text/plain": [
       "([8, 1, 0.005], 91951.585546875)"
      ]
     },
     "execution_count": 5,
     "metadata": {},
     "output_type": "execute_result"
    }
   ],
   "source": [
    "with open(\"lstm_params.json\", 'r') as f:\n",
    "    lstm = json.load(f)\n",
    "idx = np.argmin(lstm['objectives'])\n",
    "lstm['hyperparameters'][idx], lstm['objectives'][idx]"
   ]
  },
  {
   "cell_type": "markdown",
   "id": "916e7606-351f-4654-89e2-01a2fd53960f",
   "metadata": {},
   "source": [
    "## Deep Dive on the Best Performing Model (ARIMA)"
   ]
  },
  {
   "cell_type": "code",
   "execution_count": 113,
   "id": "79f16644-fb45-4265-8f50-07cd298062fa",
   "metadata": {},
   "outputs": [],
   "source": [
    "data = pd.read_csv(\"../../../data/dataset.csv\", parse_dates=['date'])\n",
    "thresh = int(0.9 * len(data))\n",
    "data = data.dropna(axis=1, thresh=thresh).bfill().ffill().drop('demand', axis=1)\n",
    "split = int(len(data) * 0.85)\n",
    "train, test = data.iloc[:split, :], data.iloc[split:, :]\n",
    "\n",
    "order = (3, 1, 4)"
   ]
  },
  {
   "cell_type": "markdown",
   "id": "1548322e-45b0-402f-9c9c-f090a9655cf1",
   "metadata": {},
   "source": [
    "### Feature Importance\n",
    "\n",
    "The SHAP library does a lot of the heavy lifting for us by having a KernelExplainer that essentially jitters input to help see what is the most important. This was done by training on the entire train set from above using the best ARIMA order.\n",
    "\n",
    "Running the feature importance cell will take about 12 minutes."
   ]
  },
  {
   "cell_type": "code",
   "execution_count": 114,
   "id": "eb217145-0890-4f73-9e88-dca472a17da3",
   "metadata": {},
   "outputs": [],
   "source": [
    "endog_train, exog_train = train['consumption'], train.drop(['date', 'consumption'], axis=1)\n",
    "endog_test, exog_test = test['consumption'], test.drop(['date', 'consumption'], axis=1)"
   ]
  },
  {
   "cell_type": "code",
   "execution_count": 8,
   "id": "5f1eddb9-50c9-410d-b754-d83e425f5473",
   "metadata": {},
   "outputs": [
    {
     "name": "stderr",
     "output_type": "stream",
     "text": [
      "/home/luismg0203/miniconda3/envs/forecasting/lib/python3.10/site-packages/statsmodels/base/model.py:607: ConvergenceWarning: Maximum Likelihood optimization failed to converge. Check mle_retvals\n",
      "  warnings.warn(\"Maximum Likelihood optimization failed to \"\n"
     ]
    }
   ],
   "source": [
    "model = ARIMA(endog_train, exog_train.astype(float), order=order).fit()"
   ]
  },
  {
   "cell_type": "code",
   "execution_count": 9,
   "id": "364ef9da-4ea3-491d-a21a-d2b63172b9d6",
   "metadata": {
    "scrolled": true
   },
   "outputs": [
    {
     "data": {
      "application/vnd.jupyter.widget-view+json": {
       "model_id": "c5c3de86f0f24767a25f6242a668ee47",
       "version_major": 2,
       "version_minor": 0
      },
      "text/plain": [
       "  0%|          | 0/480 [00:00<?, ?it/s]"
      ]
     },
     "metadata": {},
     "output_type": "display_data"
    },
    {
     "name": "stderr",
     "output_type": "stream",
     "text": [
      "shap       INFO  num_full_subsets = 1\n",
      "shap       INFO  remaining_weight_vector = array([0.20701126, 0.14490788, 0.11440096, 0.09660526, 0.08523993,\n",
      "       0.07762922, 0.07245394, 0.06900375, 0.06688056, 0.06586722])\n",
      "shap       INFO  num_paired_subset_sizes = 11\n",
      "shap       INFO  weight_left = 0.7167414131850209\n",
      "shap       INFO  np.sum(w_aug) = 23.0\n",
      "shap       INFO  np.sum(self.kernelWeights) = 1.0000000000000002\n",
      "shap       INFO  phi = array([ 6.38269137e+03,  2.43930692e+03, -5.99391732e+02, -1.26148319e+03,\n",
      "        3.74307239e+02,  4.05691984e+02, -2.40122293e+02,  1.60669179e+03,\n",
      "        3.27430463e+01,  4.06065684e+00,  2.89251323e+02, -1.73274481e+01,\n",
      "       -8.19648705e+02,  1.70198835e+03,  2.44029557e+01, -1.18331105e+01,\n",
      "        4.74120572e+02, -5.29657947e+02,  4.42869687e+01, -6.84398812e+01,\n",
      "        3.55484691e+01, -3.79848405e+01,  2.31478373e+01])\n",
      "shap       INFO  num_full_subsets = 1\n",
      "shap       INFO  remaining_weight_vector = array([0.20701126, 0.14490788, 0.11440096, 0.09660526, 0.08523993,\n",
      "       0.07762922, 0.07245394, 0.06900375, 0.06688056, 0.06586722])\n",
      "shap       INFO  num_paired_subset_sizes = 11\n",
      "shap       INFO  weight_left = 0.7167414131850209\n",
      "shap       INFO  np.sum(w_aug) = 23.0\n",
      "shap       INFO  np.sum(self.kernelWeights) = 1.0000000000000002\n",
      "shap       INFO  phi = array([3687.3556915 ,  642.72991917, -289.58985928, -918.2671925 ,\n",
      "        319.41803925,  620.74073622,  -46.82711313, 1017.79329047,\n",
      "         21.36333066,    7.93460121,  288.41526278,    0.        ,\n",
      "       -762.56668657, 1701.42837815,   32.09263527,    0.        ,\n",
      "        492.7399127 , -531.09674885,   45.47138186, -111.30075989,\n",
      "         36.76398009,  -41.51192305,   10.5918182 ])\n",
      "shap       INFO  num_full_subsets = 1\n",
      "shap       INFO  remaining_weight_vector = array([0.20701126, 0.14490788, 0.11440096, 0.09660526, 0.08523993,\n",
      "       0.07762922, 0.07245394, 0.06900375, 0.06688056, 0.06586722])\n",
      "shap       INFO  num_paired_subset_sizes = 11\n",
      "shap       INFO  weight_left = 0.7167414131850209\n",
      "shap       INFO  np.sum(w_aug) = 23.000000000000004\n",
      "shap       INFO  np.sum(self.kernelWeights) = 1.0000000000000002\n",
      "shap       INFO  phi = array([-1906.49711907, -1157.98352837,   262.51312221,   724.78826321,\n",
      "         391.23959251,   898.14979604,   322.16293523,  -794.44760406,\n",
      "         -22.47631403,     0.        ,   199.98023219,    99.37676714,\n",
      "        -885.23063099,  1688.76213684,    34.13011424,     0.        ,\n",
      "         491.61954308,  -627.62731607,    40.44363372,  -105.95826935,\n",
      "          34.79628374,   -39.62467529,    13.10922131])\n",
      "shap       INFO  num_full_subsets = 1\n",
      "shap       INFO  remaining_weight_vector = array([0.20701126, 0.14490788, 0.11440096, 0.09660526, 0.08523993,\n",
      "       0.07762922, 0.07245394, 0.06900375, 0.06688056, 0.06586722])\n",
      "shap       INFO  num_paired_subset_sizes = 11\n",
      "shap       INFO  weight_left = 0.7167414131850209\n",
      "shap       INFO  np.sum(w_aug) = 23.000000000000004\n",
      "shap       INFO  np.sum(self.kernelWeights) = 1.0000000000000002\n",
      "shap       INFO  phi = array([ 3.84238424e+03, -2.74278239e+02, -4.40135529e+01, -1.17931455e+03,\n",
      "        4.02312894e+02,  7.48240863e+02, -1.02389834e+01,  8.71123628e+02,\n",
      "        3.73110256e+00,  7.03903553e+00,  1.01335962e+02,  4.35692966e+01,\n",
      "       -7.94293427e+02,  1.41101919e+03,  2.45454302e+01,  0.00000000e+00,\n",
      "        2.81293627e+02, -4.45454767e+02,  6.19506341e+00, -1.48740491e+01,\n",
      "        1.38405767e+01, -4.45351910e+01,  2.25940826e+01])\n",
      "shap       INFO  num_full_subsets = 1\n",
      "shap       INFO  remaining_weight_vector = array([0.20701126, 0.14490788, 0.11440096, 0.09660526, 0.08523993,\n",
      "       0.07762922, 0.07245394, 0.06900375, 0.06688056, 0.06586722])\n",
      "shap       INFO  num_paired_subset_sizes = 11\n",
      "shap       INFO  weight_left = 0.7167414131850209\n",
      "shap       INFO  np.sum(w_aug) = 23.000000000000007\n",
      "shap       INFO  np.sum(self.kernelWeights) = 1.0000000000000004\n",
      "shap       INFO  phi = array([5014.82965527, 1973.3645357 ,  -93.52872348, -532.12419628,\n",
      "        396.63379921,  658.30936965,  112.39212974,   27.53060776,\n",
      "        -15.70260252,   11.02006094,  111.6054861 ,    0.        ,\n",
      "       -650.91436932, 1261.43695341,   27.44075075,    0.        ,\n",
      "        217.68047316, -310.27146923,   24.94865835,  -59.97454364,\n",
      "         32.88534489,  -40.25754878,   27.56950992])\n",
      "shap       INFO  num_full_subsets = 1\n",
      "shap       INFO  remaining_weight_vector = array([0.20701126, 0.14490788, 0.11440096, 0.09660526, 0.08523993,\n",
      "       0.07762922, 0.07245394, 0.06900375, 0.06688056, 0.06586722])\n",
      "shap       INFO  num_paired_subset_sizes = 11\n",
      "shap       INFO  weight_left = 0.7167414131850209\n",
      "shap       INFO  np.sum(w_aug) = 23.0\n",
      "shap       INFO  np.sum(self.kernelWeights) = 1.0\n",
      "shap       INFO  phi = array([ 8.30246065e+03,  4.12912114e+03, -6.35864419e+02, -1.79123966e+03,\n",
      "        3.57699605e+02,  4.70286209e+02, -7.15032545e+00,  1.77103845e+03,\n",
      "        0.00000000e+00,  1.94670909e+01,  1.10739906e+02,  2.61451021e+01,\n",
      "       -5.56408404e+02,  1.13934318e+03,  2.46108065e+01,  0.00000000e+00,\n",
      "        2.25721143e+02, -3.00405596e+02,  3.83995952e+01, -1.37687518e+02,\n",
      "        4.12240432e+01, -4.16048869e+01,  1.90104665e+01])\n",
      "shap       INFO  num_full_subsets = 1\n",
      "shap       INFO  remaining_weight_vector = array([0.20701126, 0.14490788, 0.11440096, 0.09660526, 0.08523993,\n",
      "       0.07762922, 0.07245394, 0.06900375, 0.06688056, 0.06586722])\n",
      "shap       INFO  num_paired_subset_sizes = 11\n",
      "shap       INFO  weight_left = 0.7167414131850209\n",
      "shap       INFO  np.sum(w_aug) = 23.000000000000004\n",
      "shap       INFO  np.sum(self.kernelWeights) = 1.0000000000000004\n",
      "shap       INFO  phi = array([ 1.30641020e+04,  1.74041095e+03, -7.09657243e+02, -1.96861620e+03,\n",
      "        2.95952398e+02,  4.75288261e+02, -1.74892444e+01,  1.24735194e+03,\n",
      "        4.61337817e+01,  1.16201344e+01,  1.82326493e+02, -1.11333429e+01,\n",
      "       -6.94969520e+02,  1.26732937e+03,  2.07634256e+01, -1.28339376e+01,\n",
      "        3.44086695e+02, -3.48419786e+02,  4.88200788e+01, -1.49094583e+02,\n",
      "        4.06816272e+01, -3.33631217e+01, -1.13857218e+02])\n",
      "shap       INFO  num_full_subsets = 1\n",
      "shap       INFO  remaining_weight_vector = array([0.20701126, 0.14490788, 0.11440096, 0.09660526, 0.08523993,\n",
      "       0.07762922, 0.07245394, 0.06900375, 0.06688056, 0.06586722])\n",
      "shap       INFO  num_paired_subset_sizes = 11\n",
      "shap       INFO  weight_left = 0.7167414131850209\n",
      "shap       INFO  np.sum(w_aug) = 23.0\n",
      "shap       INFO  np.sum(self.kernelWeights) = 1.0\n",
      "shap       INFO  phi = array([ 8992.16713634,   925.13852601,  -499.68373301, -1410.68048315,\n",
      "         315.84337625,   469.01996766,  -129.39726405,  1061.51366222,\n",
      "         114.88097905,    22.89925004,   204.49190952,   -23.92111435,\n",
      "        -532.32903721,   977.21750249,    31.33709704,   -14.93056188,\n",
      "         334.58567645,  -290.02618829,    40.50090415,   -98.06336126,\n",
      "          29.24228437,   -43.29025304,   -98.87928001])\n",
      "shap       INFO  num_full_subsets = 1\n",
      "shap       INFO  remaining_weight_vector = array([0.20701126, 0.14490788, 0.11440096, 0.09660526, 0.08523993,\n",
      "       0.07762922, 0.07245394, 0.06900375, 0.06688056, 0.06586722])\n",
      "shap       INFO  num_paired_subset_sizes = 11\n",
      "shap       INFO  weight_left = 0.7167414131850209\n",
      "shap       INFO  np.sum(w_aug) = 23.0\n",
      "shap       INFO  np.sum(self.kernelWeights) = 1.0\n",
      "shap       INFO  phi = array([5166.29073934, 1911.15593847, -502.52574363, -696.83729856,\n",
      "        596.71624185,  500.98387346, -299.64816081, 1287.03038229,\n",
      "        325.58400066,   11.17400101,  206.34548356,  -10.43214271,\n",
      "       -695.00461835, 1133.60063443,   27.90266446,   -9.54967389,\n",
      "        418.3462691 , -401.99198852,   37.0262683 , -105.68498903,\n",
      "         47.27810559,  -46.26427389,  -90.33566032])\n",
      "shap       INFO  num_full_subsets = 1\n",
      "shap       INFO  remaining_weight_vector = array([0.20701126, 0.14490788, 0.11440096, 0.09660526, 0.08523993,\n",
      "       0.07762922, 0.07245394, 0.06900375, 0.06688056, 0.06586722])\n",
      "shap       INFO  num_paired_subset_sizes = 11\n",
      "shap       INFO  weight_left = 0.7167414131850209\n",
      "shap       INFO  np.sum(w_aug) = 23.000000000000004\n",
      "shap       INFO  np.sum(self.kernelWeights) = 1.0\n",
      "shap       INFO  phi = array([4879.16204018, 1057.31241503, -669.06264953, -641.97171764,\n",
      "        658.50575093,  551.68313209,  -54.90727256, 1559.77594428,\n",
      "        400.36381922,   17.2519229 ,  198.35565435,   39.1404499 ,\n",
      "       -867.34277328, 1259.77159271,   29.71297901,   -8.58536776,\n",
      "        511.44940564, -537.26896365,   57.19965665, -168.81871849,\n",
      "         46.67063283,  -36.34634567,  -99.4192116 ])\n",
      "shap       INFO  num_full_subsets = 1\n",
      "shap       INFO  remaining_weight_vector = array([0.20701126, 0.14490788, 0.11440096, 0.09660526, 0.08523993,\n",
      "       0.07762922, 0.07245394, 0.06900375, 0.06688056, 0.06586722])\n",
      "shap       INFO  num_paired_subset_sizes = 11\n",
      "shap       INFO  weight_left = 0.7167414131850209\n",
      "shap       INFO  np.sum(w_aug) = 23.000000000000004\n",
      "shap       INFO  np.sum(self.kernelWeights) = 1.0\n",
      "shap       INFO  phi = array([ 2.14773051e+04,  9.57623260e+02, -9.34521692e+02, -1.69430174e+03,\n",
      "        7.93957925e+02,  3.43462773e+02, -2.05992530e+02,  4.84356822e+02,\n",
      "        3.86692021e+02,  1.65808172e+01,  1.26531923e+02,  2.55976870e+01,\n",
      "       -9.55693729e+02,  1.69381938e+03,  2.90327376e+01,  0.00000000e+00,\n",
      "        4.66033126e+02, -5.84328583e+02,  5.90873678e+01, -2.28874764e+02,\n",
      "        6.07054449e+01, -3.62884739e+01, -1.05936096e+02])\n",
      "shap       INFO  num_full_subsets = 1\n",
      "shap       INFO  remaining_weight_vector = array([0.20701126, 0.14490788, 0.11440096, 0.09660526, 0.08523993,\n",
      "       0.07762922, 0.07245394, 0.06900375, 0.06688056, 0.06586722])\n",
      "shap       INFO  num_paired_subset_sizes = 11\n",
      "shap       INFO  weight_left = 0.7167414131850209\n",
      "shap       INFO  np.sum(w_aug) = 23.000000000000004\n",
      "shap       INFO  np.sum(self.kernelWeights) = 1.0\n",
      "shap       INFO  phi = array([ 2.70457964e+04, -4.13057073e+02, -9.76696663e+02, -1.30673174e+03,\n",
      "        8.48038758e+02,  5.35574392e+02, -3.29470881e+02, -7.58064729e+02,\n",
      "        4.31734599e+02,  1.81190561e+01,  1.47617537e+02,  4.48752531e+00,\n",
      "       -1.15705190e+03,  2.12844719e+03,  3.61164016e+01, -7.16686644e+00,\n",
      "        5.25422151e+02, -6.73870665e+02,  7.50524262e+01, -2.68253811e+02,\n",
      "        6.73362696e+01, -3.38220652e+01, -1.09957872e+02])\n",
      "shap       INFO  num_full_subsets = 1\n",
      "shap       INFO  remaining_weight_vector = array([0.20701126, 0.14490788, 0.11440096, 0.09660526, 0.08523993,\n",
      "       0.07762922, 0.07245394, 0.06900375, 0.06688056, 0.06586722])\n",
      "shap       INFO  num_paired_subset_sizes = 11\n",
      "shap       INFO  weight_left = 0.7167414131850209\n",
      "shap       INFO  np.sum(w_aug) = 23.000000000000004\n",
      "shap       INFO  np.sum(self.kernelWeights) = 1.0\n",
      "shap       INFO  phi = array([ 2.52633126e+04,  2.59259699e+03, -1.21802508e+03, -1.59364169e+03,\n",
      "        8.04752801e+02,  3.98290369e+02, -2.64865670e+02,  2.29521696e+02,\n",
      "        4.38701661e+02,  1.74910802e+01,  1.56063372e+02,  1.33590989e+01,\n",
      "       -1.25875191e+03,  2.13223244e+03,  1.59557265e+01, -1.06199129e+01,\n",
      "        5.78690789e+02, -6.81246967e+02,  6.89963028e+01, -2.61465767e+02,\n",
      "        6.15356962e+01, -4.50101947e+01, -9.82837732e+01])\n",
      "shap       INFO  num_full_subsets = 1\n",
      "shap       INFO  remaining_weight_vector = array([0.20701126, 0.14490788, 0.11440096, 0.09660526, 0.08523993,\n",
      "       0.07762922, 0.07245394, 0.06900375, 0.06688056, 0.06586722])\n",
      "shap       INFO  num_paired_subset_sizes = 11\n",
      "shap       INFO  weight_left = 0.7167414131850209\n",
      "shap       INFO  np.sum(w_aug) = 23.000000000000007\n",
      "shap       INFO  np.sum(self.kernelWeights) = 1.0000000000000002\n",
      "shap       INFO  phi = array([ 2.20885216e+04,  2.89753778e+03, -1.40708198e+03, -1.96984362e+03,\n",
      "        8.60591731e+02,  4.69497309e+02, -1.93190828e+02,  1.48565105e+03,\n",
      "        4.29727190e+02,  1.27067116e+01,  1.44762046e+02, -3.21907453e+01,\n",
      "       -1.32937856e+03,  2.13085798e+03,  3.20580619e+01, -7.10143625e+00,\n",
      "        5.65032073e+02, -7.66463461e+02,  5.96342643e+01, -2.66181749e+02,\n",
      "        5.41316838e+01, -3.76945809e+01, -1.08311141e+02])\n",
      "shap       INFO  num_full_subsets = 1\n",
      "shap       INFO  remaining_weight_vector = array([0.20701126, 0.14490788, 0.11440096, 0.09660526, 0.08523993,\n",
      "       0.07762922, 0.07245394, 0.06900375, 0.06688056, 0.06586722])\n",
      "shap       INFO  num_paired_subset_sizes = 11\n",
      "shap       INFO  weight_left = 0.7167414131850209\n",
      "shap       INFO  np.sum(w_aug) = 23.000000000000007\n",
      "shap       INFO  np.sum(self.kernelWeights) = 1.0000000000000002\n",
      "shap       INFO  phi = array([ 2.05627073e+04,  1.96395533e+03, -1.52511160e+03, -1.93259271e+03,\n",
      "        8.08066514e+02,  4.54331576e+02, -1.08289081e+02,  1.81728311e+03,\n",
      "        3.02738322e+02,  2.04555433e+01,  1.51978657e+02, -1.99718900e+01,\n",
      "       -1.32201457e+03,  2.26198078e+03,  2.51190241e+01,  0.00000000e+00,\n",
      "        5.80432124e+02, -7.66363560e+02,  6.60944012e+01, -2.56573629e+02,\n",
      "        4.65769034e+01, -4.29760516e+01, -1.11284444e+02])\n",
      "shap       INFO  num_full_subsets = 1\n",
      "shap       INFO  remaining_weight_vector = array([0.20701126, 0.14490788, 0.11440096, 0.09660526, 0.08523993,\n",
      "       0.07762922, 0.07245394, 0.06900375, 0.06688056, 0.06586722])\n",
      "shap       INFO  num_paired_subset_sizes = 11\n",
      "shap       INFO  weight_left = 0.7167414131850209\n",
      "shap       INFO  np.sum(w_aug) = 23.000000000000004\n",
      "shap       INFO  np.sum(self.kernelWeights) = 0.9999999999999999\n",
      "shap       INFO  phi = array([ 2.29593068e+04, -1.90213810e+03, -9.83363315e+02, -1.30525587e+03,\n",
      "        8.42684760e+02,  5.12996727e+02, -2.30745212e+02, -1.36155323e+02,\n",
      "        2.41153519e+02,  1.69694218e+01,  1.44944956e+02,  1.06812089e+01,\n",
      "       -1.44974520e+03,  2.54752099e+03,  2.14818683e+01, -4.40376091e+00,\n",
      "        6.50581351e+02, -8.17510303e+02,  6.37972062e+01, -2.48365442e+02,\n",
      "        6.71408590e+01, -3.92955222e+01, -1.01727329e+02])\n",
      "shap       INFO  num_full_subsets = 1\n",
      "shap       INFO  remaining_weight_vector = array([0.20701126, 0.14490788, 0.11440096, 0.09660526, 0.08523993,\n",
      "       0.07762922, 0.07245394, 0.06900375, 0.06688056, 0.06586722])\n",
      "shap       INFO  num_paired_subset_sizes = 11\n",
      "shap       INFO  weight_left = 0.7167414131850209\n",
      "shap       INFO  np.sum(w_aug) = 23.000000000000004\n",
      "shap       INFO  np.sum(self.kernelWeights) = 1.0000000000000004\n",
      "shap       INFO  phi = array([ 2.23925235e+04, -2.88700434e+03, -6.88424782e+02, -1.54603170e+02,\n",
      "        8.19792860e+02,  5.28322723e+02,  7.16835168e+00, -1.82870879e+03,\n",
      "        2.34264740e+02,  1.50560115e+01,  1.50626327e+02,  1.45688204e+02,\n",
      "       -1.55322954e+03,  2.70006076e+03,  2.15584217e+01, -5.54407404e+00,\n",
      "        6.49096016e+02, -8.65351040e+02,  6.67499602e+01, -2.99173687e+02,\n",
      "        6.44703364e+01, -4.44939797e+01, -9.70952433e+01])\n",
      "shap       INFO  num_full_subsets = 1\n",
      "shap       INFO  remaining_weight_vector = array([0.20701126, 0.14490788, 0.11440096, 0.09660526, 0.08523993,\n",
      "       0.07762922, 0.07245394, 0.06900375, 0.06688056, 0.06586722])\n",
      "shap       INFO  num_paired_subset_sizes = 11\n",
      "shap       INFO  weight_left = 0.7167414131850209\n",
      "shap       INFO  np.sum(w_aug) = 23.000000000000004\n",
      "shap       INFO  np.sum(self.kernelWeights) = 1.0\n",
      "shap       INFO  phi = array([ 2.33973635e+04, -3.82735136e+03, -9.71856121e+02, -1.05353600e+03,\n",
      "        8.85925343e+02,  1.91647621e+02,  1.60105896e+02, -5.25665580e+02,\n",
      "        2.38406032e+02,  1.63647142e+01,  2.37280630e+02,  7.61486650e+01,\n",
      "       -1.40768531e+03,  2.41679225e+03,  2.40942228e+01, -8.19505087e+00,\n",
      "        6.79550950e+02, -7.16846259e+02,  5.13290126e+01, -2.72351606e+02,\n",
      "        5.52769872e+01, -3.68576602e+01,  2.36329257e+01])\n",
      "shap       INFO  num_full_subsets = 1\n",
      "shap       INFO  remaining_weight_vector = array([0.20701126, 0.14490788, 0.11440096, 0.09660526, 0.08523993,\n",
      "       0.07762922, 0.07245394, 0.06900375, 0.06688056, 0.06586722])\n",
      "shap       INFO  num_paired_subset_sizes = 11\n",
      "shap       INFO  weight_left = 0.7167414131850209\n",
      "shap       INFO  np.sum(w_aug) = 23.0\n",
      "shap       INFO  np.sum(self.kernelWeights) = 1.0000000000000002\n",
      "shap       INFO  phi = array([ 1.88574974e+04,  1.54973464e+03, -1.04045147e+03, -1.72921323e+03,\n",
      "        8.88716239e+02,  2.53631440e+02, -1.20542421e+01,  1.11394759e+03,\n",
      "        2.55984473e+02,  2.00475267e+01,  2.25630959e+02,  0.00000000e+00,\n",
      "       -1.35647612e+03,  1.97742704e+03,  2.92168107e+01,  0.00000000e+00,\n",
      "        5.59881932e+02, -7.30840151e+02,  4.16224290e+01, -2.16937408e+02,\n",
      "        5.41628107e+01, -4.11925722e+01,  2.36258933e+01])\n",
      "shap       INFO  num_full_subsets = 1\n",
      "shap       INFO  remaining_weight_vector = array([0.20701126, 0.14490788, 0.11440096, 0.09660526, 0.08523993,\n",
      "       0.07762922, 0.07245394, 0.06900375, 0.06688056, 0.06586722])\n",
      "shap       INFO  num_paired_subset_sizes = 11\n",
      "shap       INFO  weight_left = 0.7167414131850209\n",
      "shap       INFO  np.sum(w_aug) = 23.000000000000004\n",
      "shap       INFO  np.sum(self.kernelWeights) = 1.0\n",
      "shap       INFO  phi = array([ 2.45542699e+04, -4.63711082e+02, -9.70082399e+02, -1.89209780e+03,\n",
      "        8.92410411e+02,  3.34692719e+02, -5.49886141e+01,  1.96746870e+02,\n",
      "        2.49527788e+02,  7.70933111e+00,  2.23075525e+02,  0.00000000e+00,\n",
      "       -1.18088151e+03,  1.84373398e+03,  3.48560895e+01, -1.35601451e+01,\n",
      "        5.70487314e+02, -5.86092230e+02,  4.90649079e+01, -2.11172885e+02,\n",
      "        4.39696787e+01, -3.76296202e+01,  1.92424111e+01])\n",
      "shap       INFO  num_full_subsets = 1\n",
      "shap       INFO  remaining_weight_vector = array([0.20701126, 0.14490788, 0.11440096, 0.09660526, 0.08523993,\n",
      "       0.07762922, 0.07245394, 0.06900375, 0.06688056, 0.06586722])\n",
      "shap       INFO  num_paired_subset_sizes = 11\n",
      "shap       INFO  weight_left = 0.7167414131850209\n",
      "shap       INFO  np.sum(w_aug) = 23.000000000000007\n",
      "shap       INFO  np.sum(self.kernelWeights) = 1.0000000000000002\n",
      "shap       INFO  phi = array([ 2.76159951e+04,  1.82509106e+03, -1.24364822e+03, -3.12799213e+03,\n",
      "        8.73429753e+02,  4.75170881e+02,  3.71983419e+01,  1.35000063e+03,\n",
      "        2.71709193e+02,  7.57398424e+00,  1.04814648e+02,  3.43764019e+01,\n",
      "       -1.18087238e+03,  1.98828785e+03,  3.01029844e+01,  0.00000000e+00,\n",
      "        5.38109316e+02, -5.80290245e+02,  6.17473441e+01, -2.75740372e+02,\n",
      "        6.87796868e+01, -3.61232262e+01,  1.86374407e+01])\n",
      "shap       INFO  num_full_subsets = 1\n",
      "shap       INFO  remaining_weight_vector = array([0.20701126, 0.14490788, 0.11440096, 0.09660526, 0.08523993,\n",
      "       0.07762922, 0.07245394, 0.06900375, 0.06688056, 0.06586722])\n",
      "shap       INFO  num_paired_subset_sizes = 11\n",
      "shap       INFO  weight_left = 0.7167414131850209\n",
      "shap       INFO  np.sum(w_aug) = 23.000000000000007\n",
      "shap       INFO  np.sum(self.kernelWeights) = 1.0\n",
      "shap       INFO  phi = array([ 3.11931140e+04,  1.51226944e+03, -1.51409570e+03, -3.84624785e+03,\n",
      "        8.69018127e+02,  2.61781845e+02, -9.90996595e+01,  2.02382343e+03,\n",
      "        2.52362361e+02,  1.81196893e+01,  1.12996783e+02,  7.88128241e+01,\n",
      "       -1.31976957e+03,  2.13817127e+03,  2.39938916e+01,  0.00000000e+00,\n",
      "        5.84980041e+02, -6.26925318e+02,  7.42601465e+01, -3.08845070e+02,\n",
      "        6.84248602e+01, -4.71297401e+01,  1.53160177e+01])\n",
      "shap       INFO  num_full_subsets = 1\n",
      "shap       INFO  remaining_weight_vector = array([0.20701126, 0.14490788, 0.11440096, 0.09660526, 0.08523993,\n",
      "       0.07762922, 0.07245394, 0.06900375, 0.06688056, 0.06586722])\n",
      "shap       INFO  num_paired_subset_sizes = 11\n",
      "shap       INFO  weight_left = 0.7167414131850209\n",
      "shap       INFO  np.sum(w_aug) = 23.000000000000004\n",
      "shap       INFO  np.sum(self.kernelWeights) = 1.0\n",
      "shap       INFO  phi = array([ 2.00423779e+04,  1.48074064e+03, -1.34772230e+03, -2.38149104e+03,\n",
      "        8.40344839e+02,  3.51126020e+02,  1.42778366e+02,  2.02211403e+03,\n",
      "        2.17807576e+02, -8.99758716e+00,  3.82260097e+02,  9.08696727e+01,\n",
      "       -1.36814474e+03,  2.25579605e+03,  3.16006208e+01, -1.29972528e+01,\n",
      "        6.88990761e+02, -7.21299132e+02,  7.41496836e+01, -3.29136150e+02,\n",
      "        7.72812103e+01, -3.54729248e+01,  2.35688748e+01])\n",
      "shap       INFO  num_full_subsets = 1\n",
      "shap       INFO  remaining_weight_vector = array([0.20701126, 0.14490788, 0.11440096, 0.09660526, 0.08523993,\n",
      "       0.07762922, 0.07245394, 0.06900375, 0.06688056, 0.06586722])\n",
      "shap       INFO  num_paired_subset_sizes = 11\n",
      "shap       INFO  weight_left = 0.7167414131850209\n",
      "shap       INFO  np.sum(w_aug) = 23.0\n",
      "shap       INFO  np.sum(self.kernelWeights) = 1.0000000000000002\n",
      "shap       INFO  phi = array([ 1.71146355e+04, -7.71497286e+02, -1.32859452e+03, -1.52578712e+03,\n",
      "        8.68265765e+02,  5.26290997e+02,  3.98147712e+01,  1.60495601e+03,\n",
      "        2.10247111e+02,  1.85586345e+00,  3.69437684e+02,  1.29900311e+02,\n",
      "       -1.49411422e+03,  2.40933700e+03,  1.17757974e+01, -8.57201711e+00,\n",
      "        6.68074438e+02, -7.70965240e+02,  6.57887347e+01, -3.34283808e+02,\n",
      "        7.30613957e+01, -4.74594492e+01,  2.21758425e+01])\n",
      "shap       INFO  num_full_subsets = 1\n",
      "shap       INFO  remaining_weight_vector = array([0.20701126, 0.14490788, 0.11440096, 0.09660526, 0.08523993,\n",
      "       0.07762922, 0.07245394, 0.06900375, 0.06688056, 0.06586722])\n",
      "shap       INFO  num_paired_subset_sizes = 11\n",
      "shap       INFO  weight_left = 0.7167414131850209\n",
      "shap       INFO  np.sum(w_aug) = 23.0\n",
      "shap       INFO  np.sum(self.kernelWeights) = 1.0000000000000004\n",
      "shap       INFO  phi = array([ 2.45563807e+04, -1.15414496e+03, -1.41859083e+03, -2.21822116e+03,\n",
      "        8.67827414e+02,  2.17243671e+02, -1.78363457e+02,  1.33955920e+03,\n",
      "        2.33100562e+02, -6.52515522e+00,  2.31443378e+02,  4.68130175e+01,\n",
      "       -1.58330351e+03,  2.54579380e+03,  2.21745017e+01, -5.25881146e+00,\n",
      "        7.23777855e+02, -8.18739721e+02,  6.81122168e+01, -2.98852746e+02,\n",
      "        7.38343293e+01, -4.34852022e+01,  0.00000000e+00])\n",
      "shap       INFO  num_full_subsets = 1\n",
      "shap       INFO  remaining_weight_vector = array([0.20701126, 0.14490788, 0.11440096, 0.09660526, 0.08523993,\n",
      "       0.07762922, 0.07245394, 0.06900375, 0.06688056, 0.06586722])\n",
      "shap       INFO  num_paired_subset_sizes = 11\n",
      "shap       INFO  weight_left = 0.7167414131850209\n",
      "shap       INFO  np.sum(w_aug) = 23.0\n",
      "shap       INFO  np.sum(self.kernelWeights) = 0.9999999999999998\n",
      "shap       INFO  phi = array([ 2.34894027e+04, -1.96138761e+03, -1.56579769e+03, -1.48925833e+03,\n",
      "        8.59018343e+02,  2.89126307e+02, -6.96626034e+01,  9.80685949e+02,\n",
      "        2.43379998e+02, -7.80002943e+00,  2.63656857e+02,  4.22661626e+01,\n",
      "       -1.63196559e+03,  2.54257887e+03,  2.05963377e+01,  0.00000000e+00,\n",
      "        7.63021323e+02, -8.21866924e+02,  7.46088658e+01, -3.08415253e+02,\n",
      "        7.21258043e+01, -4.05533516e+01,  0.00000000e+00])\n",
      "shap       INFO  num_full_subsets = 1\n",
      "shap       INFO  remaining_weight_vector = array([0.20701126, 0.14490788, 0.11440096, 0.09660526, 0.08523993,\n",
      "       0.07762922, 0.07245394, 0.06900375, 0.06688056, 0.06586722])\n",
      "shap       INFO  num_paired_subset_sizes = 11\n",
      "shap       INFO  weight_left = 0.7167414131850209\n",
      "shap       INFO  np.sum(w_aug) = 23.000000000000007\n",
      "shap       INFO  np.sum(self.kernelWeights) = 1.0\n",
      "shap       INFO  phi = array([ 3.30054051e+04, -3.13493707e+03, -1.76157560e+03, -2.41582468e+03,\n",
      "        8.61561683e+02,  3.72418891e+02, -4.39127515e+01,  6.39829501e+02,\n",
      "        3.76908543e+02,  0.00000000e+00,  2.68806397e+02,  5.05606899e+01,\n",
      "       -1.73573272e+03,  2.85038827e+03,  2.10560685e+01,  0.00000000e+00,\n",
      "        7.38104661e+02, -8.71835775e+02,  6.63260490e+01, -3.25251400e+02,\n",
      "        7.06388460e+01, -3.83662315e+01,  0.00000000e+00])\n",
      "shap       INFO  num_full_subsets = 1\n",
      "shap       INFO  remaining_weight_vector = array([0.20701126, 0.14490788, 0.11440096, 0.09660526, 0.08523993,\n",
      "       0.07762922, 0.07245394, 0.06900375, 0.06688056, 0.06586722])\n",
      "shap       INFO  num_paired_subset_sizes = 11\n",
      "shap       INFO  weight_left = 0.7167414131850209\n",
      "shap       INFO  np.sum(w_aug) = 23.000000000000004\n",
      "shap       INFO  np.sum(self.kernelWeights) = 1.0000000000000002\n",
      "shap       INFO  phi = array([ 2.63486945e+04, -3.20578893e+03, -1.73990256e+03, -2.08851612e+03,\n",
      "        8.78180366e+02,  2.90937408e+02, -1.19326029e+02,  1.46088182e+03,\n",
      "        3.61804869e+02,  8.08662534e+00,  2.53299156e+02,  7.31082429e+01,\n",
      "       -1.80915065e+03,  2.68965040e+03,  1.99837135e+01, -1.85868515e+01,\n",
      "        7.28830470e+02, -8.23835946e+02,  5.06479555e+01, -2.29589780e+02,\n",
      "        5.47017226e+01, -4.42283831e+01,  0.00000000e+00])\n",
      "shap       INFO  num_full_subsets = 1\n",
      "shap       INFO  remaining_weight_vector = array([0.20701126, 0.14490788, 0.11440096, 0.09660526, 0.08523993,\n",
      "       0.07762922, 0.07245394, 0.06900375, 0.06688056, 0.06586722])\n",
      "shap       INFO  num_paired_subset_sizes = 11\n",
      "shap       INFO  weight_left = 0.7167414131850209\n",
      "shap       INFO  np.sum(w_aug) = 23.0\n",
      "shap       INFO  np.sum(self.kernelWeights) = 1.0000000000000004\n",
      "shap       INFO  phi = array([ 2.01049803e+04, -1.86963977e+03, -1.26439886e+03, -1.83989429e+03,\n",
      "        8.87229391e+02,  3.25424366e+02, -1.41204588e+02,  1.48134862e+03,\n",
      "        3.58201972e+02, -8.79029567e+00,  2.62245123e+02, -8.38984111e+00,\n",
      "       -1.48871969e+03,  2.40880658e+03,  2.69239800e+01, -1.31933680e+01,\n",
      "        6.66471144e+02, -8.23317076e+02,  4.60847055e+01, -1.56858502e+02,\n",
      "        5.16536610e+01, -4.48126637e+01,  0.00000000e+00])\n",
      "shap       INFO  num_full_subsets = 1\n",
      "shap       INFO  remaining_weight_vector = array([0.20701126, 0.14490788, 0.11440096, 0.09660526, 0.08523993,\n",
      "       0.07762922, 0.07245394, 0.06900375, 0.06688056, 0.06586722])\n",
      "shap       INFO  num_paired_subset_sizes = 11\n",
      "shap       INFO  weight_left = 0.7167414131850209\n",
      "shap       INFO  np.sum(w_aug) = 23.000000000000007\n",
      "shap       INFO  np.sum(self.kernelWeights) = 1.0\n",
      "shap       INFO  phi = array([12524.26136261, -2822.29653384,  -895.60176107, -1327.60060746,\n",
      "         888.76642479,   787.12322173,    53.89859579,  1433.20975979,\n",
      "         267.58985773,     0.        ,   261.58163994,    85.7972222 ,\n",
      "       -1577.77604777,  2129.59055901,    31.59943342,     0.        ,\n",
      "         733.49611463,  -825.82193624,    41.28930219,  -199.58395771,\n",
      "          47.35526211,   -38.98076374,     0.        ])\n",
      "shap       INFO  num_full_subsets = 1\n",
      "shap       INFO  remaining_weight_vector = array([0.20701126, 0.14490788, 0.11440096, 0.09660526, 0.08523993,\n",
      "       0.07762922, 0.07245394, 0.06900375, 0.06688056, 0.06586722])\n",
      "shap       INFO  num_paired_subset_sizes = 11\n",
      "shap       INFO  weight_left = 0.7167414131850209\n",
      "shap       INFO  np.sum(w_aug) = 23.000000000000007\n",
      "shap       INFO  np.sum(self.kernelWeights) = 1.0000000000000004\n",
      "shap       INFO  phi = array([ 1.17046821e+04, -3.04455226e+03, -6.80375332e+02, -1.00228330e+03,\n",
      "        8.89612166e+02,  5.98649031e+02, -1.89201608e+02,  9.46950380e+02,\n",
      "        2.34959304e+02, -1.44866459e+01,  2.53168836e+02,  4.51098784e+01,\n",
      "       -1.48421664e+03,  2.40946100e+03,  3.67559001e+01, -1.09835545e+01,\n",
      "        6.20716523e+02, -7.69832138e+02,  5.12128642e+01, -1.76552440e+02,\n",
      "        4.86703823e+01, -4.37366453e+01,  6.39866960e+00])\n",
      "shap       INFO  num_full_subsets = 1\n",
      "shap       INFO  remaining_weight_vector = array([0.20701126, 0.14490788, 0.11440096, 0.09660526, 0.08523993,\n",
      "       0.07762922, 0.07245394, 0.06900375, 0.06688056, 0.06586722])\n",
      "shap       INFO  num_paired_subset_sizes = 11\n",
      "shap       INFO  weight_left = 0.7167414131850209\n",
      "shap       INFO  np.sum(w_aug) = 23.000000000000004\n",
      "shap       INFO  np.sum(self.kernelWeights) = 1.0000000000000002\n",
      "shap       INFO  phi = array([ 2.82576334e+04, -2.00582664e+03, -1.07062239e+03, -1.60534917e+03,\n",
      "        8.97173734e+02,  3.46829774e+02, -2.10895015e+02, -4.86429888e+02,\n",
      "        2.33977409e+02, -1.80938011e+01,  3.22391068e+02,  2.65388094e+01,\n",
      "       -1.31013371e+03,  2.41781929e+03,  2.07980221e+01, -4.39602352e+00,\n",
      "        6.54965276e+02, -7.22905007e+02,  5.72720162e+01, -2.03673335e+02,\n",
      "        4.08308407e+01, -4.86040892e+01, -7.45678757e+00])\n",
      "shap       INFO  num_full_subsets = 1\n",
      "shap       INFO  remaining_weight_vector = array([0.20701126, 0.14490788, 0.11440096, 0.09660526, 0.08523993,\n",
      "       0.07762922, 0.07245394, 0.06900375, 0.06688056, 0.06586722])\n",
      "shap       INFO  num_paired_subset_sizes = 11\n",
      "shap       INFO  weight_left = 0.7167414131850209\n",
      "shap       INFO  np.sum(w_aug) = 23.000000000000004\n",
      "shap       INFO  np.sum(self.kernelWeights) = 1.0000000000000002\n",
      "shap       INFO  phi = array([ 2.77188653e+04, -7.68606931e+02, -1.29965551e+03, -2.32311226e+03,\n",
      "        8.75452364e+02,  3.73780417e+02, -1.59013857e+02,  7.07558426e+02,\n",
      "        2.56217642e+02, -9.55408046e+00,  3.73249379e+02,  0.00000000e+00,\n",
      "       -1.04048107e+03,  2.40848233e+03,  2.59338322e+01, -1.23146044e+01,\n",
      "        5.92356027e+02, -7.66925825e+02,  6.16243598e+01, -2.05587763e+02,\n",
      "        5.38038029e+01, -4.07711686e+01,  1.17327147e+01])\n",
      "shap       INFO  num_full_subsets = 1\n",
      "shap       INFO  remaining_weight_vector = array([0.20701126, 0.14490788, 0.11440096, 0.09660526, 0.08523993,\n",
      "       0.07762922, 0.07245394, 0.06900375, 0.06688056, 0.06586722])\n",
      "shap       INFO  num_paired_subset_sizes = 11\n",
      "shap       INFO  weight_left = 0.7167414131850209\n",
      "shap       INFO  np.sum(w_aug) = 23.000000000000004\n",
      "shap       INFO  np.sum(self.kernelWeights) = 1.0000000000000004\n",
      "shap       INFO  phi = array([ 2.47708494e+04, -9.77170962e+02, -1.28348571e+03, -2.19263295e+03,\n",
      "        8.44978589e+02,  2.77167182e+02,  1.94055320e+02,  9.09780158e+02,\n",
      "        2.43521784e+02, -1.33448868e+01,  3.76040401e+02,  5.94856566e+01,\n",
      "       -1.46670294e+03,  2.41798825e+03,  3.44977470e+01, -1.34463139e+01,\n",
      "        6.62740254e+02, -6.81539704e+02,  5.14625221e+01, -2.35322477e+02,\n",
      "        5.54780222e+01, -5.28101583e+01,  8.57400697e+00])\n",
      "shap       INFO  num_full_subsets = 1\n",
      "shap       INFO  remaining_weight_vector = array([0.20701126, 0.14490788, 0.11440096, 0.09660526, 0.08523993,\n",
      "       0.07762922, 0.07245394, 0.06900375, 0.06688056, 0.06586722])\n",
      "shap       INFO  num_paired_subset_sizes = 11\n",
      "shap       INFO  weight_left = 0.7167414131850209\n",
      "shap       INFO  np.sum(w_aug) = 23.000000000000007\n",
      "shap       INFO  np.sum(self.kernelWeights) = 1.0000000000000004\n",
      "shap       INFO  phi = array([ 2.90461381e+04, -2.32256079e+03, -1.50725470e+03, -2.72225594e+03,\n",
      "        8.86829874e+02,  2.29104298e+02,  6.27038607e+01,  1.18481144e+03,\n",
      "        2.42775874e+02, -2.43204117e+01,  4.52888459e+02,  1.40322131e+02,\n",
      "       -1.49583750e+03,  2.25690954e+03,  2.05398015e+01,  0.00000000e+00,\n",
      "        5.90334754e+02, -7.16948646e+02,  4.87695012e+01, -2.54738142e+02,\n",
      "        6.31740483e+01, -5.06600884e+01,  1.29955443e+01])\n",
      "shap       INFO  num_full_subsets = 1\n",
      "shap       INFO  remaining_weight_vector = array([0.20701126, 0.14490788, 0.11440096, 0.09660526, 0.08523993,\n",
      "       0.07762922, 0.07245394, 0.06900375, 0.06688056, 0.06586722])\n",
      "shap       INFO  num_paired_subset_sizes = 11\n",
      "shap       INFO  weight_left = 0.7167414131850209\n",
      "shap       INFO  np.sum(w_aug) = 23.000000000000004\n",
      "shap       INFO  np.sum(self.kernelWeights) = 1.0\n",
      "shap       INFO  phi = array([ 3.10583047e+04,  2.16830213e+02, -1.28509377e+03, -3.00123293e+03,\n",
      "        8.86836348e+02,  1.57330726e+02, -1.02044368e+02,  7.82063138e+02,\n",
      "        2.36026913e+02, -1.61509129e+01,  4.52236488e+02,  4.94909057e+01,\n",
      "       -1.51992626e+03,  2.41674495e+03,  2.16467826e+01, -9.08952496e+00,\n",
      "        6.60923431e+02, -8.15412098e+02,  6.47517823e+01, -2.80882585e+02,\n",
      "        7.21295718e+01, -3.32719363e+01, -5.71526709e+01])\n",
      "shap       INFO  num_full_subsets = 1\n",
      "shap       INFO  remaining_weight_vector = array([0.20701126, 0.14490788, 0.11440096, 0.09660526, 0.08523993,\n",
      "       0.07762922, 0.07245394, 0.06900375, 0.06688056, 0.06586722])\n",
      "shap       INFO  num_paired_subset_sizes = 11\n",
      "shap       INFO  weight_left = 0.7167414131850209\n",
      "shap       INFO  np.sum(w_aug) = 23.000000000000007\n",
      "shap       INFO  np.sum(self.kernelWeights) = 1.0\n",
      "shap       INFO  phi = array([ 2.20137455e+04, -2.11796860e+03, -1.18611275e+03, -1.80528599e+03,\n",
      "        8.91766722e+02,  3.20420945e+02,  7.19826276e+01,  8.69486926e+02,\n",
      "        2.20446124e+02, -2.17393241e+01,  4.61421863e+02,  8.98843289e+01,\n",
      "       -1.46644665e+03,  2.41073513e+03,  3.41937146e+01,  0.00000000e+00,\n",
      "        7.24517025e+02, -8.21613757e+02,  6.46649878e+01, -2.98715592e+02,\n",
      "        6.25529809e+01, -4.45734895e+01, -7.64161064e+00])\n",
      "shap       INFO  num_full_subsets = 1\n",
      "shap       INFO  remaining_weight_vector = array([0.20701126, 0.14490788, 0.11440096, 0.09660526, 0.08523993,\n",
      "       0.07762922, 0.07245394, 0.06900375, 0.06688056, 0.06586722])\n",
      "shap       INFO  num_paired_subset_sizes = 11\n",
      "shap       INFO  weight_left = 0.7167414131850209\n",
      "shap       INFO  np.sum(w_aug) = 23.0\n",
      "shap       INFO  np.sum(self.kernelWeights) = 0.9999999999999999\n",
      "shap       INFO  phi = array([ 1.69261823e+04, -3.08809145e+03, -7.60691145e+02, -1.36447474e+03,\n",
      "        8.93336936e+02,  4.24104414e+02, -1.61488544e+01,  5.76781523e+02,\n",
      "        2.66658750e+02,  3.18487913e+00,  2.72687329e+02,  8.84310113e+00,\n",
      "       -1.54046231e+03,  2.70187685e+03,  2.32722147e+01,  0.00000000e+00,\n",
      "        7.04581583e+02, -8.70879908e+02,  5.59459723e+01, -2.42058334e+02,\n",
      "        5.13639860e+01, -4.11575968e+01,  1.88761213e+01])\n",
      "shap       INFO  num_full_subsets = 1\n",
      "shap       INFO  remaining_weight_vector = array([0.20701126, 0.14490788, 0.11440096, 0.09660526, 0.08523993,\n",
      "       0.07762922, 0.07245394, 0.06900375, 0.06688056, 0.06586722])\n",
      "shap       INFO  num_paired_subset_sizes = 11\n",
      "shap       INFO  weight_left = 0.7167414131850209\n",
      "shap       INFO  np.sum(w_aug) = 23.0\n",
      "shap       INFO  np.sum(self.kernelWeights) = 1.0\n",
      "shap       INFO  phi = array([ 2.20413655e+04, -1.99904035e+03, -1.23801520e+03, -2.28594895e+03,\n",
      "        9.07513275e+02,  1.92535455e+02, -5.92883383e+01,  1.54554878e+03,\n",
      "        3.20520327e+02,  6.84526349e+00,  4.70472426e+02,  4.26178108e+01,\n",
      "       -1.50927328e+03,  2.69577308e+03,  2.67572522e+01, -3.89355186e+00,\n",
      "        6.97169882e+02, -8.61515308e+02,  4.85990498e+01, -2.10964639e+02,\n",
      "        4.07988067e+01, -4.05906138e+01,  2.10646695e+01])\n",
      "shap       INFO  num_full_subsets = 1\n",
      "shap       INFO  remaining_weight_vector = array([0.20701126, 0.14490788, 0.11440096, 0.09660526, 0.08523993,\n",
      "       0.07762922, 0.07245394, 0.06900375, 0.06688056, 0.06586722])\n",
      "shap       INFO  num_paired_subset_sizes = 11\n",
      "shap       INFO  weight_left = 0.7167414131850209\n",
      "shap       INFO  np.sum(w_aug) = 23.000000000000004\n",
      "shap       INFO  np.sum(self.kernelWeights) = 1.0\n",
      "shap       INFO  phi = array([ 2.41686941e+04, -1.55536449e+03, -1.53401975e+03, -2.40683063e+03,\n",
      "        8.98066103e+02,  2.08529948e+02, -1.56840875e+02,  1.79759025e+03,\n",
      "        2.15256354e+02,  0.00000000e+00,  6.09899049e+02,  0.00000000e+00,\n",
      "       -1.67762130e+03,  2.41257106e+03,  2.60459619e+01,  0.00000000e+00,\n",
      "        7.17594339e+02, -7.71459660e+02,  3.66270982e+01, -1.93366692e+02,\n",
      "        4.75006315e+01, -4.34190452e+01,  1.34205785e+01])\n",
      "shap       INFO  num_full_subsets = 1\n",
      "shap       INFO  remaining_weight_vector = array([0.20701126, 0.14490788, 0.11440096, 0.09660526, 0.08523993,\n",
      "       0.07762922, 0.07245394, 0.06900375, 0.06688056, 0.06586722])\n",
      "shap       INFO  num_paired_subset_sizes = 11\n",
      "shap       INFO  weight_left = 0.7167414131850209\n",
      "shap       INFO  np.sum(w_aug) = 23.000000000000004\n",
      "shap       INFO  np.sum(self.kernelWeights) = 1.0\n",
      "shap       INFO  phi = array([ 2.98739832e+04, -8.29238775e+02, -1.48139702e+03, -2.52748678e+03,\n",
      "        8.86428495e+02,  1.54901602e+02, -1.53865941e+02,  9.00381036e+02,\n",
      "        3.38015151e+02,  5.20640739e+00,  6.10822352e+02,  1.39550391e+01,\n",
      "       -1.45279831e+03,  2.42422012e+03,  2.27188635e+01, -1.22699523e+01,\n",
      "        6.13358258e+02, -7.67174148e+02,  5.09979654e+01, -2.26016315e+02,\n",
      "        5.04872995e+01, -3.56292511e+01,  1.12383019e+01])\n",
      "shap       INFO  num_full_subsets = 1\n",
      "shap       INFO  remaining_weight_vector = array([0.20701126, 0.14490788, 0.11440096, 0.09660526, 0.08523993,\n",
      "       0.07762922, 0.07245394, 0.06900375, 0.06688056, 0.06586722])\n",
      "shap       INFO  num_paired_subset_sizes = 11\n",
      "shap       INFO  weight_left = 0.7167414131850209\n",
      "shap       INFO  np.sum(w_aug) = 23.000000000000007\n",
      "shap       INFO  np.sum(self.kernelWeights) = 1.0000000000000004\n",
      "shap       INFO  phi = array([ 3.26431664e+04, -1.55537373e+03, -1.44626372e+03, -2.27432128e+03,\n",
      "        8.82833507e+02,  1.56547047e+02, -8.51200936e+01,  1.08892507e+02,\n",
      "        3.55516280e+02,  1.29404310e+01,  5.97158788e+02,  9.44730018e+00,\n",
      "       -1.55023985e+03,  2.54033074e+03,  2.92407151e+01, -4.12326829e+00,\n",
      "        6.46869549e+02, -7.24959518e+02,  5.87280373e+01, -2.86626425e+02,\n",
      "        6.78083463e+01, -3.97044917e+01, -1.27861280e+01])\n",
      "shap       INFO  num_full_subsets = 1\n",
      "shap       INFO  remaining_weight_vector = array([0.20701126, 0.14490788, 0.11440096, 0.09660526, 0.08523993,\n",
      "       0.07762922, 0.07245394, 0.06900375, 0.06688056, 0.06586722])\n",
      "shap       INFO  num_paired_subset_sizes = 11\n",
      "shap       INFO  weight_left = 0.7167414131850209\n",
      "shap       INFO  np.sum(w_aug) = 23.000000000000007\n",
      "shap       INFO  np.sum(self.kernelWeights) = 1.0000000000000002\n",
      "shap       INFO  phi = array([ 2.24934310e+04,  4.44767660e+02, -1.58181125e+03, -2.20664226e+03,\n",
      "        8.96625218e+02,  1.34663610e+02, -1.61474970e+02,  2.04540656e+03,\n",
      "        4.18615073e+02,  6.80452183e+00,  5.64718538e+02, -2.47471202e+01,\n",
      "       -1.67258006e+03,  2.53977197e+03,  2.27850446e+01,  0.00000000e+00,\n",
      "        6.26420544e+02, -7.11573257e+02,  5.34460360e+01, -2.28814469e+02,\n",
      "        4.82110678e+01, -4.27127638e+01, -1.96742937e+01])\n",
      "shap       INFO  num_full_subsets = 1\n",
      "shap       INFO  remaining_weight_vector = array([0.20701126, 0.14490788, 0.11440096, 0.09660526, 0.08523993,\n",
      "       0.07762922, 0.07245394, 0.06900375, 0.06688056, 0.06586722])\n",
      "shap       INFO  num_paired_subset_sizes = 11\n",
      "shap       INFO  weight_left = 0.7167414131850209\n",
      "shap       INFO  np.sum(w_aug) = 23.0\n",
      "shap       INFO  np.sum(self.kernelWeights) = 1.0000000000000002\n",
      "shap       INFO  phi = array([ 1.64827054e+04, -9.98773634e+02, -1.45936369e+03, -1.27929058e+03,\n",
      "        9.12729925e+02,  4.39992483e+02, -1.78840491e+02,  1.84264757e+03,\n",
      "        3.84672871e+02,  0.00000000e+00,  5.69827416e+02, -6.19991538e+00,\n",
      "       -1.38667668e+03,  2.41522362e+03,  3.23684118e+01, -8.60462332e+00,\n",
      "        6.58884585e+02, -6.80750506e+02,  5.36136506e+01, -2.08558535e+02,\n",
      "        5.86746650e+01, -3.76503338e+01, -1.90463066e+01])\n",
      "shap       INFO  num_full_subsets = 1\n",
      "shap       INFO  remaining_weight_vector = array([0.20701126, 0.14490788, 0.11440096, 0.09660526, 0.08523993,\n",
      "       0.07762922, 0.07245394, 0.06900375, 0.06688056, 0.06586722])\n",
      "shap       INFO  num_paired_subset_sizes = 11\n",
      "shap       INFO  weight_left = 0.7167414131850209\n",
      "shap       INFO  np.sum(w_aug) = 23.000000000000007\n",
      "shap       INFO  np.sum(self.kernelWeights) = 1.0000000000000002\n",
      "shap       INFO  phi = array([ 1.62528085e+04, -1.80893706e+03, -1.46423868e+03, -1.42167899e+03,\n",
      "        9.05446966e+02,  3.95087366e+02, -1.69139921e+02,  2.01686035e+03,\n",
      "        3.86684710e+02,  7.79304494e+00,  4.04192830e+02,  2.54554715e+01,\n",
      "       -1.41604979e+03,  2.54700270e+03,  3.49534478e+01,  0.00000000e+00,\n",
      "        6.69130299e+02, -7.67725506e+02,  6.67664256e+01, -2.23737386e+02,\n",
      "        5.37561473e+01, -4.24853816e+01,  0.00000000e+00])\n",
      "shap       INFO  num_full_subsets = 1\n",
      "shap       INFO  remaining_weight_vector = array([0.20701126, 0.14490788, 0.11440096, 0.09660526, 0.08523993,\n",
      "       0.07762922, 0.07245394, 0.06900375, 0.06688056, 0.06586722])\n",
      "shap       INFO  num_paired_subset_sizes = 11\n",
      "shap       INFO  weight_left = 0.7167414131850209\n",
      "shap       INFO  np.sum(w_aug) = 23.000000000000004\n",
      "shap       INFO  np.sum(self.kernelWeights) = 1.0\n",
      "shap       INFO  phi = array([ 2.85931483e+04,  1.82777188e+03, -1.82581723e+03, -2.66833823e+03,\n",
      "        8.52846947e+02,  1.33589929e+02, -2.08283853e+02,  1.87801340e+03,\n",
      "        4.28702527e+02,  1.09665204e+01,  3.81665439e+02, -2.27871193e+01,\n",
      "       -1.37236597e+03,  2.54582290e+03,  3.34372314e+01, -5.28422076e+00,\n",
      "        6.55560788e+02, -7.64778606e+02,  7.16014402e+01, -2.46133315e+02,\n",
      "        5.19587091e+01, -4.00358641e+01,  4.67215616e+00])\n",
      "shap       INFO  num_full_subsets = 1\n",
      "shap       INFO  remaining_weight_vector = array([0.20701126, 0.14490788, 0.11440096, 0.09660526, 0.08523993,\n",
      "       0.07762922, 0.07245394, 0.06900375, 0.06688056, 0.06586722])\n",
      "shap       INFO  num_paired_subset_sizes = 11\n",
      "shap       INFO  weight_left = 0.7167414131850209\n",
      "shap       INFO  np.sum(w_aug) = 23.000000000000004\n",
      "shap       INFO  np.sum(self.kernelWeights) = 1.0\n",
      "shap       INFO  phi = array([ 3.80264793e+04, -6.76845786e+02, -1.98630486e+03, -2.80987105e+03,\n",
      "        8.36896667e+02,  3.50552763e+02, -2.37621371e+02,  6.36154566e+02,\n",
      "        3.88099310e+02,  8.25956262e+00,  1.50952699e+02, -1.79142991e+01,\n",
      "       -1.46278683e+03,  2.54894357e+03,  3.21639219e+01, -9.84321700e+00,\n",
      "        6.88885981e+02, -7.72438873e+02,  7.28003047e+01, -2.77971827e+02,\n",
      "        6.45270118e+01, -3.83701218e+01,  0.00000000e+00])\n",
      "shap       INFO  num_full_subsets = 1\n",
      "shap       INFO  remaining_weight_vector = array([0.20701126, 0.14490788, 0.11440096, 0.09660526, 0.08523993,\n",
      "       0.07762922, 0.07245394, 0.06900375, 0.06688056, 0.06586722])\n",
      "shap       INFO  num_paired_subset_sizes = 11\n",
      "shap       INFO  weight_left = 0.7167414131850209\n",
      "shap       INFO  np.sum(w_aug) = 23.000000000000007\n",
      "shap       INFO  np.sum(self.kernelWeights) = 1.0000000000000002\n",
      "shap       INFO  phi = array([ 3.73040934e+04,  4.30784449e+02, -2.00951758e+03, -3.18843493e+03,\n",
      "        8.48024891e+02,  2.77423192e+02,  7.08891349e+01,  1.10945044e+03,\n",
      "        3.89816791e+02,  9.23721433e+00,  1.41222253e+02,  2.67730994e+01,\n",
      "       -1.37649759e+03,  2.54347084e+03,  3.07067427e+01, -7.96453213e+00,\n",
      "        6.94564894e+02, -8.20811226e+02,  8.58388379e+01, -3.40597708e+02,\n",
      "        8.75113649e+01, -3.61263515e+01, -1.10543732e+02])\n",
      "shap       INFO  num_full_subsets = 1\n",
      "shap       INFO  remaining_weight_vector = array([0.20701126, 0.14490788, 0.11440096, 0.09660526, 0.08523993,\n",
      "       0.07762922, 0.07245394, 0.06900375, 0.06688056, 0.06586722])\n",
      "shap       INFO  num_paired_subset_sizes = 11\n",
      "shap       INFO  weight_left = 0.7167414131850209\n",
      "shap       INFO  np.sum(w_aug) = 23.000000000000004\n",
      "shap       INFO  np.sum(self.kernelWeights) = 1.0000000000000004\n",
      "shap       INFO  phi = array([ 4.57979924e+04, -1.74569630e+03, -2.27584281e+03, -3.59140600e+03,\n",
      "        8.29528004e+02,  1.23399440e+02, -2.15544624e+02,  6.28709986e+02,\n",
      "        3.38371217e+02,  1.47359183e+01,  2.60127718e+02,  2.64384557e+01,\n",
      "       -1.74115352e+03,  2.55284541e+03,  2.91851532e+01, -5.95011524e+00,\n",
      "        6.70102197e+02, -8.23267539e+02,  8.48389917e+01, -4.01529030e+02,\n",
      "        8.62769139e+01, -4.53338082e+01, -1.02122618e+02])\n",
      "shap       INFO  num_full_subsets = 1\n",
      "shap       INFO  remaining_weight_vector = array([0.20701126, 0.14490788, 0.11440096, 0.09660526, 0.08523993,\n",
      "       0.07762922, 0.07245394, 0.06900375, 0.06688056, 0.06586722])\n",
      "shap       INFO  num_paired_subset_sizes = 11\n",
      "shap       INFO  weight_left = 0.7167414131850209\n",
      "shap       INFO  np.sum(w_aug) = 23.000000000000007\n",
      "shap       INFO  np.sum(self.kernelWeights) = 1.0000000000000004\n",
      "shap       INFO  phi = array([ 4.74125187e+04, -4.43450356e+03, -2.37560828e+03, -3.74690723e+03,\n",
      "        8.27446520e+02,  1.91069547e+02, -1.27700343e+02,  6.62978271e+02,\n",
      "        3.93429713e+02,  1.59591969e+01,  2.58989200e+02,  9.57640026e+01,\n",
      "       -1.84171639e+03,  2.70135936e+03,  3.42775713e+01,  0.00000000e+00,\n",
      "        8.48945666e+02, -8.25525914e+02,  9.09676891e+01, -3.98226620e+02,\n",
      "        8.18239212e+01, -4.23321619e+01, -1.04691790e+02])\n",
      "shap       INFO  num_full_subsets = 1\n",
      "shap       INFO  remaining_weight_vector = array([0.20701126, 0.14490788, 0.11440096, 0.09660526, 0.08523993,\n",
      "       0.07762922, 0.07245394, 0.06900375, 0.06688056, 0.06586722])\n",
      "shap       INFO  num_paired_subset_sizes = 11\n",
      "shap       INFO  weight_left = 0.7167414131850209\n",
      "shap       INFO  np.sum(w_aug) = 23.000000000000007\n",
      "shap       INFO  np.sum(self.kernelWeights) = 1.0\n",
      "shap       INFO  phi = array([ 3.02013061e+04, -3.89235184e+03, -1.89235252e+03, -2.18392276e+03,\n",
      "        8.28701937e+02,  4.21637004e+02, -1.42526740e+02,  1.09955969e+03,\n",
      "        3.68582681e+02,  1.61587214e+01,  2.54202025e+02,  1.51318193e+02,\n",
      "       -1.84324962e+03,  2.85425054e+03,  2.64409614e+01, -1.18085665e+01,\n",
      "        8.03727907e+02, -8.14028852e+02,  8.30575393e+01, -3.29442863e+02,\n",
      "        6.94323136e+01, -3.89002083e+01, -9.63785763e+01])\n",
      "shap       INFO  num_full_subsets = 1\n",
      "shap       INFO  remaining_weight_vector = array([0.20701126, 0.14490788, 0.11440096, 0.09660526, 0.08523993,\n",
      "       0.07762922, 0.07245394, 0.06900375, 0.06688056, 0.06586722])\n",
      "shap       INFO  num_paired_subset_sizes = 11\n",
      "shap       INFO  weight_left = 0.7167414131850209\n",
      "shap       INFO  np.sum(w_aug) = 23.000000000000004\n",
      "shap       INFO  np.sum(self.kernelWeights) = 1.0000000000000004\n",
      "shap       INFO  phi = array([ 2.04661407e+04, -1.05315793e+03, -1.73137043e+03, -1.50534261e+03,\n",
      "        8.37187143e+02,  4.84894887e+02, -2.80728469e+02,  1.85779591e+03,\n",
      "        3.73090560e+02,  1.31837643e+01,  3.17888160e+02, -8.41137781e+00,\n",
      "       -1.74236933e+03,  2.68693718e+03,  2.09730536e+01,  4.56270284e+00,\n",
      "        7.37536743e+02, -8.25198498e+02,  6.47293372e+01, -2.56667651e+02,\n",
      "        6.02098894e+01, -3.30063861e+01, -1.03937176e+02])\n",
      "shap       INFO  num_full_subsets = 1\n",
      "shap       INFO  remaining_weight_vector = array([0.20701126, 0.14490788, 0.11440096, 0.09660526, 0.08523993,\n",
      "       0.07762922, 0.07245394, 0.06900375, 0.06688056, 0.06586722])\n",
      "shap       INFO  num_paired_subset_sizes = 11\n",
      "shap       INFO  weight_left = 0.7167414131850209\n",
      "shap       INFO  np.sum(w_aug) = 23.000000000000007\n",
      "shap       INFO  np.sum(self.kernelWeights) = 1.0\n",
      "shap       INFO  phi = array([ 2.59831871e+04,  1.56221441e+02, -1.88455535e+03, -1.82915503e+03,\n",
      "        7.36868792e+02,  3.58871583e+02, -2.42214016e+02,  1.42891994e+03,\n",
      "        4.29054926e+02,  1.16116131e+01,  5.28417960e+02, -3.82321148e+01,\n",
      "       -1.58327177e+03,  2.70055507e+03,  2.92376207e+01, -1.16418052e+01,\n",
      "        7.00923304e+02, -7.71067134e+02,  7.00316351e+01, -2.30317309e+02,\n",
      "        5.22581000e+01, -4.95586591e+01, -9.63670319e+01])\n",
      "shap       INFO  num_full_subsets = 1\n",
      "shap       INFO  remaining_weight_vector = array([0.20701126, 0.14490788, 0.11440096, 0.09660526, 0.08523993,\n",
      "       0.07762922, 0.07245394, 0.06900375, 0.06688056, 0.06586722])\n",
      "shap       INFO  num_paired_subset_sizes = 11\n",
      "shap       INFO  weight_left = 0.7167414131850209\n",
      "shap       INFO  np.sum(w_aug) = 23.000000000000004\n",
      "shap       INFO  np.sum(self.kernelWeights) = 1.0\n",
      "shap       INFO  phi = array([ 2.77364423e+04,  8.55126249e+02, -1.83883912e+03, -2.01458307e+03,\n",
      "        7.19213273e+02,  1.08196388e+02, -1.77109730e+02,  1.26538185e+03,\n",
      "        4.56450414e+02,  1.87853802e+01,  5.20653621e+02, -2.71764367e+01,\n",
      "       -1.60923255e+03,  2.54535397e+03,  1.99002364e+01, -1.29305678e+01,\n",
      "        6.38608380e+02, -7.71962794e+02,  6.67078744e+01, -2.47437902e+02,\n",
      "        6.05289504e+01, -3.23533005e+01, -9.58802956e+01])\n",
      "shap       INFO  num_full_subsets = 1\n",
      "shap       INFO  remaining_weight_vector = array([0.20701126, 0.14490788, 0.11440096, 0.09660526, 0.08523993,\n",
      "       0.07762922, 0.07245394, 0.06900375, 0.06688056, 0.06586722])\n",
      "shap       INFO  num_paired_subset_sizes = 11\n",
      "shap       INFO  weight_left = 0.7167414131850209\n",
      "shap       INFO  np.sum(w_aug) = 23.000000000000007\n",
      "shap       INFO  np.sum(self.kernelWeights) = 1.0000000000000004\n",
      "shap       INFO  phi = array([ 3.09156766e+04,  8.43742691e+02, -1.76307715e+03, -2.84316390e+03,\n",
      "        7.59410733e+02,  2.27566150e+02,  1.11539897e+01,  1.38682202e+03,\n",
      "        3.98123264e+02,  1.34483039e+01,  4.91370507e+02,  1.43467750e+01,\n",
      "       -1.48428171e+03,  2.54759105e+03,  3.14565625e+01, -1.34167018e+01,\n",
      "        6.75932920e+02, -7.73563160e+02,  6.26274434e+01, -2.92691243e+02,\n",
      "        5.90808040e+01, -3.73156078e+01, -9.70794226e+01])\n",
      "shap       INFO  num_full_subsets = 1\n",
      "shap       INFO  remaining_weight_vector = array([0.20701126, 0.14490788, 0.11440096, 0.09660526, 0.08523993,\n",
      "       0.07762922, 0.07245394, 0.06900375, 0.06688056, 0.06586722])\n",
      "shap       INFO  num_paired_subset_sizes = 11\n",
      "shap       INFO  weight_left = 0.7167414131850209\n",
      "shap       INFO  np.sum(w_aug) = 23.0\n",
      "shap       INFO  np.sum(self.kernelWeights) = 1.0\n",
      "shap       INFO  phi = array([ 3.48187702e+04,  2.65272756e+03, -2.00191457e+03, -3.66446279e+03,\n",
      "        8.62570725e+02,  2.59426605e+02, -1.23225843e+02,  2.09384930e+03,\n",
      "        4.37923320e+02,  1.72006004e+01,  4.74616281e+02,  3.19214928e+01,\n",
      "       -1.56868988e+03,  2.54506015e+03,  2.15502153e+01,  0.00000000e+00,\n",
      "        6.30014756e+02, -8.24546971e+02,  6.34343948e+01, -3.16136544e+02,\n",
      "        6.78257525e+01, -4.75693769e+01, -7.00920028e+00])\n",
      "shap       INFO  num_full_subsets = 1\n",
      "shap       INFO  remaining_weight_vector = array([0.20701126, 0.14490788, 0.11440096, 0.09660526, 0.08523993,\n",
      "       0.07762922, 0.07245394, 0.06900375, 0.06688056, 0.06586722])\n",
      "shap       INFO  num_paired_subset_sizes = 11\n",
      "shap       INFO  weight_left = 0.7167414131850209\n",
      "shap       INFO  np.sum(w_aug) = 23.0\n",
      "shap       INFO  np.sum(self.kernelWeights) = 1.0\n",
      "shap       INFO  phi = array([ 3.43542621e+04,  1.55127289e+03, -1.94335132e+03, -3.31582929e+03,\n",
      "        8.81225593e+02,  3.25122319e+02, -1.48523005e+02,  1.74920227e+03,\n",
      "        3.98832794e+02,  7.95018329e+00,  4.69356131e+02,  0.00000000e+00,\n",
      "       -1.67499554e+03,  2.85117029e+03,  2.64867170e+01,  0.00000000e+00,\n",
      "        7.38078034e+02, -8.27416161e+02,  7.34812699e+01, -3.14577333e+02,\n",
      "        6.68960002e+01, -3.73049666e+01, -1.57757191e+01])\n",
      "shap       INFO  num_full_subsets = 1\n",
      "shap       INFO  remaining_weight_vector = array([0.20701126, 0.14490788, 0.11440096, 0.09660526, 0.08523993,\n",
      "       0.07762922, 0.07245394, 0.06900375, 0.06688056, 0.06586722])\n",
      "shap       INFO  num_paired_subset_sizes = 11\n",
      "shap       INFO  weight_left = 0.7167414131850209\n",
      "shap       INFO  np.sum(w_aug) = 23.000000000000004\n",
      "shap       INFO  np.sum(self.kernelWeights) = 1.0\n",
      "shap       INFO  phi = array([ 2.44103345e+04, -3.42324388e+02, -1.39181467e+03, -1.59589907e+03,\n",
      "        8.75329660e+02,  5.11392206e+02,  8.12173567e+01,  5.75362128e+02,\n",
      "        3.76842176e+02,  7.81334391e+00,  4.31158702e+02,  7.48198003e+01,\n",
      "       -1.41546939e+03,  2.86086283e+03,  2.93579737e+01,  0.00000000e+00,\n",
      "        5.74130460e+02, -8.14319068e+02,  6.94730175e+01, -3.33833311e+02,\n",
      "        6.43292426e+01, -3.83532926e+01, -2.46980553e+01])\n",
      "shap       INFO  num_full_subsets = 1\n",
      "shap       INFO  remaining_weight_vector = array([0.20701126, 0.14490788, 0.11440096, 0.09660526, 0.08523993,\n",
      "       0.07762922, 0.07245394, 0.06900375, 0.06688056, 0.06586722])\n",
      "shap       INFO  num_paired_subset_sizes = 11\n",
      "shap       INFO  weight_left = 0.7167414131850209\n",
      "shap       INFO  np.sum(w_aug) = 23.000000000000007\n",
      "shap       INFO  np.sum(self.kernelWeights) = 1.0\n",
      "shap       INFO  phi = array([ 1.80603788e+04, -1.58141251e+03, -1.13874498e+03, -8.34001399e+02,\n",
      "        8.68201047e+02,  5.44948264e+02,  1.94642274e+02,  3.92684571e+02,\n",
      "        3.74166242e+02,  8.33540589e+00,  4.22455253e+02,  1.19770683e+02,\n",
      "       -1.33543485e+03,  2.84388339e+03,  2.66142984e+01, -6.09438387e+00,\n",
      "        6.24908250e+02, -8.74624514e+02,  6.63860156e+01, -2.98799286e+02,\n",
      "        6.62008842e+01, -4.02827402e+01, -7.50976510e+00])\n",
      "shap       INFO  num_full_subsets = 1\n",
      "shap       INFO  remaining_weight_vector = array([0.20701126, 0.14490788, 0.11440096, 0.09660526, 0.08523993,\n",
      "       0.07762922, 0.07245394, 0.06900375, 0.06688056, 0.06586722])\n",
      "shap       INFO  num_paired_subset_sizes = 11\n",
      "shap       INFO  weight_left = 0.7167414131850209\n",
      "shap       INFO  np.sum(w_aug) = 23.000000000000004\n",
      "shap       INFO  np.sum(self.kernelWeights) = 1.0000000000000002\n",
      "shap       INFO  phi = array([ 2.38102338e+04, -4.28029872e+02, -1.61894000e+03, -1.87275298e+03,\n",
      "        8.91636641e+02,  3.53410516e+02,  5.92336595e+01,  1.33874384e+03,\n",
      "        2.34322658e+02,  1.57057417e+01,  3.66088938e+02,  1.77601305e+02,\n",
      "       -1.59376654e+03,  2.70397903e+03,  3.23349479e+01,  0.00000000e+00,\n",
      "        5.50615562e+02, -8.23289106e+02,  3.69594601e+01, -2.83383800e+02,\n",
      "        5.28014574e+01, -3.57880961e+01, -2.19765441e+01])\n",
      "shap       INFO  num_full_subsets = 1\n",
      "shap       INFO  remaining_weight_vector = array([0.20701126, 0.14490788, 0.11440096, 0.09660526, 0.08523993,\n",
      "       0.07762922, 0.07245394, 0.06900375, 0.06688056, 0.06586722])\n",
      "shap       INFO  num_paired_subset_sizes = 11\n",
      "shap       INFO  weight_left = 0.7167414131850209\n",
      "shap       INFO  np.sum(w_aug) = 23.000000000000004\n",
      "shap       INFO  np.sum(self.kernelWeights) = 1.0000000000000002\n",
      "shap       INFO  phi = array([ 2.32091737e+04,  1.88104764e+03, -1.56529519e+03, -2.35721601e+03,\n",
      "        8.90604663e+02,  2.70380520e+02, -1.36368365e+02,  1.95676107e+03,\n",
      "        2.59286656e+02,  8.96184652e+00,  3.56460583e+02,  0.00000000e+00,\n",
      "       -1.20372789e+03,  2.69296031e+03,  3.08806085e+01,  0.00000000e+00,\n",
      "        4.26429899e+02, -8.31604992e+02,  5.17233120e+01, -2.39042708e+02,\n",
      "        4.70777133e+01, -3.19256283e+01, -1.48059088e+01])\n",
      "shap       INFO  num_full_subsets = 1\n",
      "shap       INFO  remaining_weight_vector = array([0.20701126, 0.14490788, 0.11440096, 0.09660526, 0.08523993,\n",
      "       0.07762922, 0.07245394, 0.06900375, 0.06688056, 0.06586722])\n",
      "shap       INFO  num_paired_subset_sizes = 11\n",
      "shap       INFO  weight_left = 0.7167414131850209\n",
      "shap       INFO  np.sum(w_aug) = 23.0\n",
      "shap       INFO  np.sum(self.kernelWeights) = 1.0000000000000002\n",
      "shap       INFO  phi = array([ 2.35906265e+04,  1.27060874e+03, -1.56433335e+03, -2.48452726e+03,\n",
      "        8.89485124e+02,  1.93608365e+02,  1.27909728e+02,  1.94875423e+03,\n",
      "        2.61620019e+02,  1.59665589e+01,  3.50432105e+02,  3.54346969e+01,\n",
      "       -1.31482673e+03,  2.85573406e+03,  2.61424984e+01, -6.92490415e+00,\n",
      "        4.78004948e+02, -8.23019245e+02,  4.85300834e+01, -2.43698121e+02,\n",
      "        5.18446859e+01, -4.04160121e+01, -9.86431879e+00])\n",
      "shap       INFO  num_full_subsets = 1\n",
      "shap       INFO  remaining_weight_vector = array([0.20701126, 0.14490788, 0.11440096, 0.09660526, 0.08523993,\n",
      "       0.07762922, 0.07245394, 0.06900375, 0.06688056, 0.06586722])\n",
      "shap       INFO  num_paired_subset_sizes = 11\n",
      "shap       INFO  weight_left = 0.7167414131850209\n",
      "shap       INFO  np.sum(w_aug) = 23.000000000000004\n",
      "shap       INFO  np.sum(self.kernelWeights) = 1.0\n",
      "shap       INFO  phi = array([ 2.73105552e+04,  9.10126494e+02, -1.56759111e+03, -2.19487462e+03,\n",
      "        8.95253884e+02,  2.04679161e+02, -7.96435021e+01,  1.07009825e+03,\n",
      "        2.63856150e+02,  1.61974547e+01,  3.48558502e+02,  9.53053269e+01,\n",
      "       -1.25432038e+03,  2.69721107e+03,  1.93110140e+01,  0.00000000e+00,\n",
      "        4.40075967e+02, -8.21049094e+02,  5.03145979e+01, -2.52348694e+02,\n",
      "        5.34166081e+01, -3.01899553e+01, -1.82542046e+01])\n",
      "shap       INFO  num_full_subsets = 1\n",
      "shap       INFO  remaining_weight_vector = array([0.20701126, 0.14490788, 0.11440096, 0.09660526, 0.08523993,\n",
      "       0.07762922, 0.07245394, 0.06900375, 0.06688056, 0.06586722])\n",
      "shap       INFO  num_paired_subset_sizes = 11\n",
      "shap       INFO  weight_left = 0.7167414131850209\n",
      "shap       INFO  np.sum(w_aug) = 23.000000000000004\n",
      "shap       INFO  np.sum(self.kernelWeights) = 1.0\n",
      "shap       INFO  phi = array([ 3.28280540e+04, -2.61965831e+03, -1.75512243e+03, -2.36620819e+03,\n",
      "        8.90143336e+02,  2.55182150e+02, -4.11582663e+01,  6.09824128e+02,\n",
      "        2.82803029e+02,  1.19654381e+01,  3.18396472e+02,  7.76411840e+01,\n",
      "       -1.13915317e+03,  2.70108154e+03,  2.00193273e+01, -9.50005236e+00,\n",
      "        4.48794289e+02, -7.74847420e+02,  6.09947772e+01, -2.71085185e+02,\n",
      "        7.02564528e+01, -3.33016979e+01, -1.27427030e+01])\n",
      "shap       INFO  num_full_subsets = 1\n",
      "shap       INFO  remaining_weight_vector = array([0.20701126, 0.14490788, 0.11440096, 0.09660526, 0.08523993,\n",
      "       0.07762922, 0.07245394, 0.06900375, 0.06688056, 0.06586722])\n",
      "shap       INFO  num_paired_subset_sizes = 11\n",
      "shap       INFO  weight_left = 0.7167414131850209\n",
      "shap       INFO  np.sum(w_aug) = 23.0\n",
      "shap       INFO  np.sum(self.kernelWeights) = 1.0\n",
      "shap       INFO  phi = array([ 2.58799156e+04, -2.21372822e+03, -1.46954921e+03, -2.04432468e+03,\n",
      "        8.82421519e+02,  3.78006030e+02, -1.33914750e+02,  1.03282675e+03,\n",
      "        3.84769575e+02,  2.05052861e+01,  3.23758886e+02,  3.96789314e+01,\n",
      "       -1.23857677e+03,  2.54432824e+03,  2.13553175e+01, -1.11481575e+01,\n",
      "        3.97377137e+02, -7.08564979e+02,  7.34010970e+01, -2.90770358e+02,\n",
      "        6.68866822e+01, -4.79267657e+01, -1.48791473e+01])\n",
      "shap       INFO  num_full_subsets = 1\n",
      "shap       INFO  remaining_weight_vector = array([0.20701126, 0.14490788, 0.11440096, 0.09660526, 0.08523993,\n",
      "       0.07762922, 0.07245394, 0.06900375, 0.06688056, 0.06586722])\n",
      "shap       INFO  num_paired_subset_sizes = 11\n",
      "shap       INFO  weight_left = 0.7167414131850209\n",
      "shap       INFO  np.sum(w_aug) = 23.000000000000007\n",
      "shap       INFO  np.sum(self.kernelWeights) = 1.0000000000000004\n",
      "shap       INFO  phi = array([ 2.05727990e+04, -3.62126344e+03, -1.35348526e+03, -1.75702462e+03,\n",
      "        8.99475215e+02,  3.89426239e+02,  9.76094324e+01,  1.38738398e+03,\n",
      "        4.06327783e+02,  1.23444159e+01,  2.74189889e+02,  1.70597976e+01,\n",
      "       -1.19777204e+03,  2.41014943e+03,  2.71090194e+01, -1.48283168e+01,\n",
      "        4.34454799e+02, -7.64933145e+02,  6.04936856e+01, -2.67446472e+02,\n",
      "        5.28242407e+01, -5.07649486e+01, -1.17411213e+01])\n",
      "shap       INFO  num_full_subsets = 1\n",
      "shap       INFO  remaining_weight_vector = array([0.20701126, 0.14490788, 0.11440096, 0.09660526, 0.08523993,\n",
      "       0.07762922, 0.07245394, 0.06900375, 0.06688056, 0.06586722])\n",
      "shap       INFO  num_paired_subset_sizes = 11\n",
      "shap       INFO  weight_left = 0.7167414131850209\n",
      "shap       INFO  np.sum(w_aug) = 23.000000000000004\n",
      "shap       INFO  np.sum(self.kernelWeights) = 1.0\n",
      "shap       INFO  phi = array([ 2.74983903e+04, -4.44898622e+03, -1.35313946e+03, -1.33095707e+03,\n",
      "        8.98577787e+02,  4.56498462e+02,  2.57146273e+02, -3.07613959e+02,\n",
      "        4.31660489e+02,  2.14717802e+01,  1.25570809e+02,  1.11114209e+02,\n",
      "       -1.16743595e+03,  2.42372194e+03,  4.17636886e+01, -9.25881849e+00,\n",
      "        4.76957365e+02, -7.19882745e+02,  3.33163561e+01, -2.79916323e+02,\n",
      "        5.27936873e+01, -4.26910994e+01, -1.48021597e+01])\n",
      "shap       INFO  num_full_subsets = 1\n",
      "shap       INFO  remaining_weight_vector = array([0.20701126, 0.14490788, 0.11440096, 0.09660526, 0.08523993,\n",
      "       0.07762922, 0.07245394, 0.06900375, 0.06688056, 0.06586722])\n",
      "shap       INFO  num_paired_subset_sizes = 11\n",
      "shap       INFO  weight_left = 0.7167414131850209\n",
      "shap       INFO  np.sum(w_aug) = 23.000000000000004\n",
      "shap       INFO  np.sum(self.kernelWeights) = 1.0\n",
      "shap       INFO  phi = array([ 2.11402249e+04, -3.76492680e+03, -1.34794796e+03, -1.51398198e+03,\n",
      "        9.16423940e+02,  1.46684159e+02, -4.52320305e+01,  1.13772001e+03,\n",
      "        3.99790492e+02,  1.17285821e+01,  5.98311989e+01,  1.02174022e+02,\n",
      "       -1.48487605e+03,  2.25693751e+03,  3.07526589e+01, -5.66393404e+00,\n",
      "        5.41884250e+02, -6.78729163e+02,  3.59779296e+01, -2.06709099e+02,\n",
      "        3.91201910e+01, -3.87717044e+01, -1.48160257e+01])\n",
      "shap       INFO  num_full_subsets = 1\n",
      "shap       INFO  remaining_weight_vector = array([0.20701126, 0.14490788, 0.11440096, 0.09660526, 0.08523993,\n",
      "       0.07762922, 0.07245394, 0.06900375, 0.06688056, 0.06586722])\n",
      "shap       INFO  num_paired_subset_sizes = 11\n",
      "shap       INFO  weight_left = 0.7167414131850209\n",
      "shap       INFO  np.sum(w_aug) = 23.000000000000007\n",
      "shap       INFO  np.sum(self.kernelWeights) = 1.0000000000000004\n",
      "shap       INFO  phi = array([ 2.46894475e+04, -4.82795630e+03, -9.45474850e+02, -3.17628306e+02,\n",
      "        9.08814660e+02,  3.18605649e+02, -3.29943326e+02, -1.37469028e+03,\n",
      "        3.83002177e+02,  1.48633528e+01,  5.66959333e+01, -4.21316984e+01,\n",
      "       -1.35873985e+03,  2.40932017e+03,  2.20943541e+01,  0.00000000e+00,\n",
      "        5.22325788e+02, -7.19389363e+02,  4.46275607e+01, -1.53868014e+02,\n",
      "        4.13512084e+01, -3.76724286e+01,  0.00000000e+00])\n",
      "shap       INFO  num_full_subsets = 1\n",
      "shap       INFO  remaining_weight_vector = array([0.20701126, 0.14490788, 0.11440096, 0.09660526, 0.08523993,\n",
      "       0.07762922, 0.07245394, 0.06900375, 0.06688056, 0.06586722])\n",
      "shap       INFO  num_paired_subset_sizes = 11\n",
      "shap       INFO  weight_left = 0.7167414131850209\n",
      "shap       INFO  np.sum(w_aug) = 23.000000000000004\n",
      "shap       INFO  np.sum(self.kernelWeights) = 1.0\n",
      "shap       INFO  phi = array([ 1.97794751e+04, -1.92289317e+03, -7.64324337e+02, -1.65852822e+02,\n",
      "        9.07640386e+02,  4.77360267e+02, -8.38407241e+01, -1.10416749e+03,\n",
      "        3.66752797e+02,  1.24250978e+01,  6.61565065e+01,  2.74807911e+01,\n",
      "       -1.43130474e+03,  2.54497820e+03,  4.15880264e+01, -8.10875373e+00,\n",
      "        5.65643243e+02, -7.74539732e+02,  6.26127875e+01, -1.82658020e+02,\n",
      "        4.70466844e+01, -3.89698762e+01,  2.67359530e+01])\n",
      "shap       INFO  num_full_subsets = 1\n",
      "shap       INFO  remaining_weight_vector = array([0.20701126, 0.14490788, 0.11440096, 0.09660526, 0.08523993,\n",
      "       0.07762922, 0.07245394, 0.06900375, 0.06688056, 0.06586722])\n",
      "shap       INFO  num_paired_subset_sizes = 11\n",
      "shap       INFO  weight_left = 0.7167414131850209\n",
      "shap       INFO  np.sum(w_aug) = 23.0\n",
      "shap       INFO  np.sum(self.kernelWeights) = 1.0000000000000002\n",
      "shap       INFO  phi = array([ 1.87537991e+04, -2.15440992e+03, -6.94396522e+02, -5.51969370e+02,\n",
      "        9.01736552e+02,  3.62703187e+02, -2.73989191e+02, -5.96435930e+02,\n",
      "        3.62371912e+02,  1.87638683e+01,  1.00562679e+02,  3.98312106e+00,\n",
      "       -1.29255358e+03,  2.41576051e+03,  3.17894568e+01, -6.00701381e+00,\n",
      "        4.50739782e+02, -7.70463725e+02,  3.52641633e+01, -1.14347749e+02,\n",
      "        4.03733857e+01, -3.72983241e+01,  1.27775040e+01])\n",
      "shap       INFO  num_full_subsets = 1\n",
      "shap       INFO  remaining_weight_vector = array([0.20701126, 0.14490788, 0.11440096, 0.09660526, 0.08523993,\n",
      "       0.07762922, 0.07245394, 0.06900375, 0.06688056, 0.06586722])\n",
      "shap       INFO  num_paired_subset_sizes = 11\n",
      "shap       INFO  weight_left = 0.7167414131850209\n",
      "shap       INFO  np.sum(w_aug) = 23.0\n",
      "shap       INFO  np.sum(self.kernelWeights) = 1.0000000000000002\n",
      "shap       INFO  phi = array([ 1.64448750e+04,  2.56432434e+03, -8.27042929e+02, -2.49671802e+02,\n",
      "        5.59515495e+02,  3.79922112e+02, -2.27265575e+02, -5.67897175e+02,\n",
      "        3.48711187e+02,  1.21914116e+01,  9.73450939e+01, -3.68078729e+01,\n",
      "       -1.31045139e+03,  2.42122032e+03,  2.84818356e+01, -7.36742559e+00,\n",
      "        5.51281128e+02, -7.16915230e+02,  4.49460295e+01, -1.54288823e+02,\n",
      "        5.10599554e+01, -5.24939535e+01,  1.01650621e+01])\n",
      "shap       INFO  num_full_subsets = 1\n",
      "shap       INFO  remaining_weight_vector = array([0.20701126, 0.14490788, 0.11440096, 0.09660526, 0.08523993,\n",
      "       0.07762922, 0.07245394, 0.06900375, 0.06688056, 0.06586722])\n",
      "shap       INFO  num_paired_subset_sizes = 11\n",
      "shap       INFO  weight_left = 0.7167414131850209\n",
      "shap       INFO  np.sum(w_aug) = 23.000000000000007\n",
      "shap       INFO  np.sum(self.kernelWeights) = 1.0000000000000004\n",
      "shap       INFO  phi = array([ 2.68754138e+04,  2.25493034e+03, -1.32148765e+03, -2.08652309e+03,\n",
      "        5.25964667e+02,  2.11241162e+02, -1.92283216e+02,  4.36682311e+02,\n",
      "        3.74310409e+02,  1.50296046e+01,  5.41501784e+01, -4.62723920e+01,\n",
      "       -1.33801413e+03,  2.55482318e+03,  1.94151101e+01, -8.38347584e+00,\n",
      "        5.74691733e+02, -7.73872776e+02,  7.81806988e+01, -2.67623377e+02,\n",
      "        7.68350237e+01, -3.90063929e+01,  6.97515239e+00])\n",
      "shap       INFO  num_full_subsets = 1\n",
      "shap       INFO  remaining_weight_vector = array([0.20701126, 0.14490788, 0.11440096, 0.09660526, 0.08523993,\n",
      "       0.07762922, 0.07245394, 0.06900375, 0.06688056, 0.06586722])\n",
      "shap       INFO  num_paired_subset_sizes = 11\n",
      "shap       INFO  weight_left = 0.7167414131850209\n",
      "shap       INFO  np.sum(w_aug) = 23.000000000000004\n",
      "shap       INFO  np.sum(self.kernelWeights) = 1.0000000000000004\n",
      "shap       INFO  phi = array([ 3.89041349e+04, -5.32399539e+02, -1.95221709e+03, -3.42555040e+03,\n",
      "        5.17868802e+02,  2.45146247e+02, -4.58271434e+01,  8.03612630e+02,\n",
      "        4.00127405e+02,  1.48154694e+01,  2.10882596e+01, -3.72226865e+01,\n",
      "       -1.41452513e+03,  2.55397277e+03,  2.86877140e+01, -4.44752137e+00,\n",
      "        6.20513643e+02, -7.72357544e+02,  7.45968368e+01, -3.31708895e+02,\n",
      "        6.41212109e+01, -4.87197187e+01,  1.40221766e+01])\n",
      "shap       INFO  num_full_subsets = 1\n",
      "shap       INFO  remaining_weight_vector = array([0.20701126, 0.14490788, 0.11440096, 0.09660526, 0.08523993,\n",
      "       0.07762922, 0.07245394, 0.06900375, 0.06688056, 0.06586722])\n",
      "shap       INFO  num_paired_subset_sizes = 11\n",
      "shap       INFO  weight_left = 0.7167414131850209\n",
      "shap       INFO  np.sum(w_aug) = 23.0\n",
      "shap       INFO  np.sum(self.kernelWeights) = 1.0\n",
      "shap       INFO  phi = array([ 4.20887541e+04, -8.18991795e+02, -1.93507610e+03, -3.23087336e+03,\n",
      "        5.13356223e+02,  3.96482898e+02, -1.44949132e+02, -4.97326242e+00,\n",
      "        3.69003889e+02,  1.33957042e+01,  1.63988821e+01, -3.21308974e+01,\n",
      "       -1.55872888e+03,  2.55001167e+03,  2.49452831e+01, -1.24724154e+01,\n",
      "        6.24215908e+02, -7.76749994e+02,  7.20031610e+01, -3.53285446e+02,\n",
      "        7.24713458e+01, -3.65460466e+01,  1.19653795e+01])\n",
      "shap       INFO  num_full_subsets = 1\n",
      "shap       INFO  remaining_weight_vector = array([0.20701126, 0.14490788, 0.11440096, 0.09660526, 0.08523993,\n",
      "       0.07762922, 0.07245394, 0.06900375, 0.06688056, 0.06586722])\n",
      "shap       INFO  num_paired_subset_sizes = 11\n",
      "shap       INFO  weight_left = 0.7167414131850209\n",
      "shap       INFO  np.sum(w_aug) = 23.000000000000004\n",
      "shap       INFO  np.sum(self.kernelWeights) = 1.0\n",
      "shap       INFO  phi = array([ 4.94259484e+04,  0.00000000e+00, -2.18871192e+03, -3.72015246e+03,\n",
      "        5.04774749e+02,  2.39013323e+02, -1.33799672e+02, -2.80293044e+02,\n",
      "        3.68690237e+02,  0.00000000e+00, -1.95804537e+01, -4.78086909e+01,\n",
      "       -1.60508133e+03,  2.40848649e+03,  3.73248521e+01,  0.00000000e+00,\n",
      "        6.09793599e+02, -6.82661553e+02,  8.45408140e+01, -3.99133892e+02,\n",
      "        9.01324718e+01, -3.19232691e+01,  0.00000000e+00])\n",
      "shap       INFO  num_full_subsets = 1\n",
      "shap       INFO  remaining_weight_vector = array([0.20701126, 0.14490788, 0.11440096, 0.09660526, 0.08523993,\n",
      "       0.07762922, 0.07245394, 0.06900375, 0.06688056, 0.06586722])\n",
      "shap       INFO  num_paired_subset_sizes = 11\n",
      "shap       INFO  weight_left = 0.7167414131850209\n",
      "shap       INFO  np.sum(w_aug) = 23.000000000000007\n",
      "shap       INFO  np.sum(self.kernelWeights) = 1.0\n",
      "shap       INFO  phi = array([ 4.85338213e+04,  1.49892997e+03, -2.40745390e+03, -4.39755665e+03,\n",
      "        5.04615555e+02,  2.44253529e+02, -9.22110358e+01,  9.32936241e+02,\n",
      "        4.45628126e+02,  1.03717744e+01, -2.79973750e+01, -2.40024099e+01,\n",
      "       -1.69414410e+03,  2.41707956e+03,  2.23672852e+01, -1.05530333e+01,\n",
      "        5.94570958e+02, -7.29365280e+02,  9.41216944e+01, -4.33949968e+02,\n",
      "        8.92404969e+01, -4.02813146e+01, -7.56949209e+01])\n",
      "shap       INFO  num_full_subsets = 1\n",
      "shap       INFO  remaining_weight_vector = array([0.20701126, 0.14490788, 0.11440096, 0.09660526, 0.08523993,\n",
      "       0.07762922, 0.07245394, 0.06900375, 0.06688056, 0.06586722])\n",
      "shap       INFO  num_paired_subset_sizes = 11\n",
      "shap       INFO  weight_left = 0.7167414131850209\n",
      "shap       INFO  np.sum(w_aug) = 23.000000000000007\n",
      "shap       INFO  np.sum(self.kernelWeights) = 1.0000000000000004\n",
      "shap       INFO  phi = array([ 4.19567190e+04, -4.98358259e+02, -2.23886504e+03, -3.75657484e+03,\n",
      "        4.97046142e+02,  3.89649263e+02, -7.89878966e+00,  1.05645097e+03,\n",
      "        4.23796444e+02,  0.00000000e+00, -3.56518644e+01,  0.00000000e+00,\n",
      "       -1.77828541e+03,  2.41666036e+03,  2.02221148e+01,  0.00000000e+00,\n",
      "        6.63810993e+02, -6.85537163e+02,  8.66128335e+01, -4.14980903e+02,\n",
      "        7.49859947e+01, -4.34680241e+01, -7.72945284e+01])\n",
      "shap       INFO  num_full_subsets = 1\n",
      "shap       INFO  remaining_weight_vector = array([0.20701126, 0.14490788, 0.11440096, 0.09660526, 0.08523993,\n",
      "       0.07762922, 0.07245394, 0.06900375, 0.06688056, 0.06586722])\n",
      "shap       INFO  num_paired_subset_sizes = 11\n",
      "shap       INFO  weight_left = 0.7167414131850209\n",
      "shap       INFO  np.sum(w_aug) = 23.000000000000004\n",
      "shap       INFO  np.sum(self.kernelWeights) = 0.9999999999999999\n",
      "shap       INFO  phi = array([ 2.55409988e+04, -4.37188822e+03, -1.39449017e+03, -1.80929602e+03,\n",
      "        5.07671033e+02,  6.37920910e+02,  7.24199855e+01,  2.92867779e+02,\n",
      "        3.56298868e+02,  7.04761474e+00, -2.31731615e+01,  4.49268103e+01,\n",
      "       -1.66648682e+03,  2.41220086e+03,  3.74310861e+01, -6.58476751e+00,\n",
      "        6.85983947e+02, -7.26108391e+02,  7.46419653e+01, -3.20317552e+02,\n",
      "        6.11808079e+01, -4.42641289e+01, -8.54469254e+01])\n",
      "shap       INFO  num_full_subsets = 1\n",
      "shap       INFO  remaining_weight_vector = array([0.20701126, 0.14490788, 0.11440096, 0.09660526, 0.08523993,\n",
      "       0.07762922, 0.07245394, 0.06900375, 0.06688056, 0.06586722])\n",
      "shap       INFO  num_paired_subset_sizes = 11\n",
      "shap       INFO  weight_left = 0.7167414131850209\n",
      "shap       INFO  np.sum(w_aug) = 23.000000000000007\n",
      "shap       INFO  np.sum(self.kernelWeights) = 1.0000000000000004\n",
      "shap       INFO  phi = array([ 1.37667643e+04, -3.01620122e+03, -1.20457586e+03, -1.21840276e+03,\n",
      "        5.16401144e+02,  7.64769047e+02, -1.60212758e+02,  1.45026565e+03,\n",
      "        3.63627758e+02,  9.40598459e+00, -3.93747373e+01,  0.00000000e+00,\n",
      "       -1.54203638e+03,  2.25670000e+03,  2.49738280e+01,  0.00000000e+00,\n",
      "        6.57737473e+02, -7.78221130e+02,  5.17664818e+01, -2.04995221e+02,\n",
      "        4.06819917e+01, -4.78167009e+01, -7.96589794e+01])\n",
      "shap       INFO  num_full_subsets = 1\n",
      "shap       INFO  remaining_weight_vector = array([0.20701126, 0.14490788, 0.11440096, 0.09660526, 0.08523993,\n",
      "       0.07762922, 0.07245394, 0.06900375, 0.06688056, 0.06586722])\n",
      "shap       INFO  num_paired_subset_sizes = 11\n",
      "shap       INFO  weight_left = 0.7167414131850209\n",
      "shap       INFO  np.sum(w_aug) = 23.0\n",
      "shap       INFO  np.sum(self.kernelWeights) = 1.0\n",
      "shap       INFO  phi = array([ 1.95205607e+04, -1.36947358e+03, -1.38506362e+03, -1.77175850e+03,\n",
      "        5.20805933e+02,  4.35686319e+02, -2.78503261e+02,  1.43204439e+03,\n",
      "        3.99411032e+02,  0.00000000e+00,  1.67790153e+01,  0.00000000e+00,\n",
      "       -1.36909301e+03,  2.13152007e+03,  1.85386697e+01, -9.70057646e+00,\n",
      "        5.56766668e+02, -7.16514302e+02,  4.24957705e+01, -1.49011992e+02,\n",
      "        3.92642256e+01, -5.00448271e+01, -8.40125937e+01])\n",
      "shap       INFO  num_full_subsets = 1\n",
      "shap       INFO  remaining_weight_vector = array([0.20701126, 0.14490788, 0.11440096, 0.09660526, 0.08523993,\n",
      "       0.07762922, 0.07245394, 0.06900375, 0.06688056, 0.06586722])\n",
      "shap       INFO  num_paired_subset_sizes = 11\n",
      "shap       INFO  weight_left = 0.7167414131850209\n",
      "shap       INFO  np.sum(w_aug) = 23.000000000000007\n",
      "shap       INFO  np.sum(self.kernelWeights) = 1.0\n",
      "shap       INFO  phi = array([ 2.17009816e+04, -1.93937540e+03, -1.36387495e+03, -1.52959975e+03,\n",
      "        5.01976566e+02,  5.22196358e+02, -2.27721072e+02,  7.47220873e+02,\n",
      "        3.46769948e+02,  3.99856403e+00,  3.23225620e+01,  9.00671195e+00,\n",
      "       -1.24165916e+03,  2.26316327e+03,  1.99951444e+01, -1.19216952e+01,\n",
      "        4.57010438e+02, -7.21597771e+02,  5.80313167e+01, -1.68025050e+02,\n",
      "        4.94440478e+01, -4.23203140e+01, -8.31672734e+01])\n",
      "shap       INFO  num_full_subsets = 1\n",
      "shap       INFO  remaining_weight_vector = array([0.20701126, 0.14490788, 0.11440096, 0.09660526, 0.08523993,\n",
      "       0.07762922, 0.07245394, 0.06900375, 0.06688056, 0.06586722])\n",
      "shap       INFO  num_paired_subset_sizes = 11\n",
      "shap       INFO  weight_left = 0.7167414131850209\n",
      "shap       INFO  np.sum(w_aug) = 23.000000000000007\n",
      "shap       INFO  np.sum(self.kernelWeights) = 1.0000000000000002\n",
      "shap       INFO  phi = array([ 1.61197896e+04, -1.13834685e+03, -1.01250787e+03, -1.09336473e+03,\n",
      "        5.15880800e+02,  6.27368705e+02, -3.04252892e+02,  6.47228237e+02,\n",
      "        3.58261308e+02,  1.41214233e+01,  3.29393487e+01, -2.70853755e+01,\n",
      "       -1.10137236e+03,  1.97433561e+03,  2.31257424e+01,  0.00000000e+00,\n",
      "        4.30211131e+02, -6.24793684e+02,  5.33470799e+01, -1.27669692e+02,\n",
      "        2.67315515e+01, -3.75970061e+01, -7.97796289e+01])\n",
      "shap       INFO  num_full_subsets = 1\n",
      "shap       INFO  remaining_weight_vector = array([0.20701126, 0.14490788, 0.11440096, 0.09660526, 0.08523993,\n",
      "       0.07762922, 0.07245394, 0.06900375, 0.06688056, 0.06586722])\n",
      "shap       INFO  num_paired_subset_sizes = 11\n",
      "shap       INFO  weight_left = 0.7167414131850209\n",
      "shap       INFO  np.sum(w_aug) = 23.000000000000007\n",
      "shap       INFO  np.sum(self.kernelWeights) = 1.0\n",
      "shap       INFO  phi = array([ 1.05707552e+04,  2.54341447e+03, -3.86906609e+02,  2.94724253e+02,\n",
      "        5.20840383e+02,  7.32618179e+02, -4.00308156e+02, -8.90805475e+02,\n",
      "        3.45834166e+02,  8.46413891e+00,  2.98377338e+01, -4.23792906e+01,\n",
      "       -8.85169340e+02,  1.97799738e+03,  2.68824975e+01, -1.33452255e+01,\n",
      "        4.39106987e+02, -6.23005505e+02,  2.94589335e+01, -7.07722848e+01,\n",
      "        3.16175003e+01, -4.78983182e+01, -7.51868901e+01])\n",
      "shap       INFO  num_full_subsets = 1\n",
      "shap       INFO  remaining_weight_vector = array([0.20701126, 0.14490788, 0.11440096, 0.09660526, 0.08523993,\n",
      "       0.07762922, 0.07245394, 0.06900375, 0.06688056, 0.06586722])\n",
      "shap       INFO  num_paired_subset_sizes = 11\n",
      "shap       INFO  weight_left = 0.7167414131850209\n",
      "shap       INFO  np.sum(w_aug) = 23.000000000000007\n",
      "shap       INFO  np.sum(self.kernelWeights) = 1.0\n",
      "shap       INFO  phi = array([13104.83620424,  2043.88618569,  -493.35131285,   227.84974321,\n",
      "         527.57133072,   444.61586953,  -326.69387307, -1017.64941313,\n",
      "         453.51441744,    13.17224493,    27.52711783,   -46.05132395,\n",
      "       -1031.1342358 ,  1987.3809284 ,    29.10665851,   -13.42520273,\n",
      "         397.29465485,  -585.19413796,    52.62899557,   -96.83089459,\n",
      "          29.02415036,   -37.50422139,    20.61131711])\n",
      "shap       INFO  num_full_subsets = 1\n",
      "shap       INFO  remaining_weight_vector = array([0.20701126, 0.14490788, 0.11440096, 0.09660526, 0.08523993,\n",
      "       0.07762922, 0.07245394, 0.06900375, 0.06688056, 0.06586722])\n",
      "shap       INFO  num_paired_subset_sizes = 11\n",
      "shap       INFO  weight_left = 0.7167414131850209\n",
      "shap       INFO  np.sum(w_aug) = 23.0\n",
      "shap       INFO  np.sum(self.kernelWeights) = 1.0\n",
      "shap       INFO  phi = array([ 1.43416549e+04,  1.56847509e+03, -5.56707111e+02,  3.49878100e+02,\n",
      "        5.19193561e+02,  7.03695884e+02, -6.15391901e+01, -1.40071463e+03,\n",
      "        4.25611894e+02,  1.47496376e+01, -4.76820159e+01, -2.93934981e+01,\n",
      "       -1.01981958e+03,  2.14734330e+03,  2.76295038e+01, -3.15864928e+00,\n",
      "        4.29018414e+02, -5.80810948e+02,  6.72107069e+01, -1.68452964e+02,\n",
      "        5.07771835e+01, -4.18178516e+01,  2.26275030e+01])\n",
      "shap       INFO  num_full_subsets = 1\n",
      "shap       INFO  remaining_weight_vector = array([0.20701126, 0.14490788, 0.11440096, 0.09660526, 0.08523993,\n",
      "       0.07762922, 0.07245394, 0.06900375, 0.06688056, 0.06586722])\n",
      "shap       INFO  num_paired_subset_sizes = 11\n",
      "shap       INFO  weight_left = 0.7167414131850209\n",
      "shap       INFO  np.sum(w_aug) = 23.000000000000004\n",
      "shap       INFO  np.sum(self.kernelWeights) = 1.0\n",
      "shap       INFO  phi = array([ 2.42314111e+04, -1.19904000e+03, -8.94430681e+02, -6.05951522e+02,\n",
      "        5.09356271e+02,  6.20446623e+02, -2.29246469e+02, -1.44560556e+03,\n",
      "        4.51731711e+02,  1.49107822e+01, -5.41415674e+01, -1.31407478e+01,\n",
      "       -1.13494418e+03,  2.26409380e+03,  3.20164441e+01, -1.04700030e+01,\n",
      "        4.39056754e+02, -7.67033950e+02,  7.95416787e+01, -2.83315058e+02,\n",
      "        6.62333676e+01, -3.81687378e+01,  1.99360786e+01])\n",
      "shap       INFO  num_full_subsets = 1\n",
      "shap       INFO  remaining_weight_vector = array([0.20701126, 0.14490788, 0.11440096, 0.09660526, 0.08523993,\n",
      "       0.07762922, 0.07245394, 0.06900375, 0.06688056, 0.06586722])\n",
      "shap       INFO  num_paired_subset_sizes = 11\n",
      "shap       INFO  weight_left = 0.7167414131850209\n",
      "shap       INFO  np.sum(w_aug) = 23.000000000000007\n",
      "shap       INFO  np.sum(self.kernelWeights) = 1.0\n",
      "shap       INFO  phi = array([ 3.12818969e+04, -1.87485103e+03, -1.20879367e+03, -1.07749309e+03,\n",
      "        5.03433059e+02,  5.94417091e+02, -1.95572510e+02, -1.60840850e+03,\n",
      "        4.73505829e+02,  1.71149942e+01, -5.50169826e+01, -2.83644175e+01,\n",
      "       -1.45090429e+03,  2.41410612e+03,  2.78957512e+01, -1.22866713e+01,\n",
      "        5.04814824e+02, -8.58742247e+02,  9.08211052e+01, -3.35140241e+02,\n",
      "        7.35033294e+01, -3.78280671e+01,  1.26674790e+01])\n",
      "shap       INFO  num_full_subsets = 1\n",
      "shap       INFO  remaining_weight_vector = array([0.20701126, 0.14490788, 0.11440096, 0.09660526, 0.08523993,\n",
      "       0.07762922, 0.07245394, 0.06900375, 0.06688056, 0.06586722])\n",
      "shap       INFO  num_paired_subset_sizes = 11\n",
      "shap       INFO  weight_left = 0.7167414131850209\n",
      "shap       INFO  np.sum(w_aug) = 23.000000000000004\n",
      "shap       INFO  np.sum(self.kernelWeights) = 1.0\n",
      "shap       INFO  phi = array([ 4.26670694e+04, -4.73975770e+03, -1.70448602e+03, -2.42744715e+03,\n",
      "        5.09862602e+02,  4.43518718e+02,  4.03792921e+01, -1.35537766e+03,\n",
      "        4.57635840e+02,  0.00000000e+00, -7.96912447e+00,  9.58484597e+00,\n",
      "       -1.48604427e+03,  2.86053209e+03,  2.67579034e+01,  0.00000000e+00,\n",
      "        5.51755736e+02, -8.24073944e+02,  9.31817855e+01, -3.62742690e+02,\n",
      "        6.94219634e+01, -3.82934270e+01,  1.45267327e+01])\n",
      "shap       INFO  num_full_subsets = 1\n",
      "shap       INFO  remaining_weight_vector = array([0.20701126, 0.14490788, 0.11440096, 0.09660526, 0.08523993,\n",
      "       0.07762922, 0.07245394, 0.06900375, 0.06688056, 0.06586722])\n",
      "shap       INFO  num_paired_subset_sizes = 11\n",
      "shap       INFO  weight_left = 0.7167414131850209\n",
      "shap       INFO  np.sum(w_aug) = 23.000000000000007\n",
      "shap       INFO  np.sum(self.kernelWeights) = 1.0000000000000002\n",
      "shap       INFO  phi = array([ 3.29092755e+04, -4.56595896e+03, -1.56187543e+03, -1.70735195e+03,\n",
      "        5.08137510e+02,  6.60669473e+02,  1.61505684e+02, -7.65164684e+02,\n",
      "        4.82534673e+02,  1.71098584e+01, -4.07063486e+00,  6.02513389e+01,\n",
      "       -1.47450094e+03,  2.84975698e+03,  2.64985095e+01, -4.49312826e+00,\n",
      "        5.97219432e+02, -9.07074057e+02,  7.16116303e+01, -3.08370209e+02,\n",
      "        5.06641471e+01, -5.10736568e+01,  1.74995691e+01])\n",
      "shap       INFO  num_full_subsets = 1\n",
      "shap       INFO  remaining_weight_vector = array([0.20701126, 0.14490788, 0.11440096, 0.09660526, 0.08523993,\n",
      "       0.07762922, 0.07245394, 0.06900375, 0.06688056, 0.06586722])\n",
      "shap       INFO  num_paired_subset_sizes = 11\n",
      "shap       INFO  weight_left = 0.7167414131850209\n",
      "shap       INFO  np.sum(w_aug) = 23.000000000000004\n",
      "shap       INFO  np.sum(self.kernelWeights) = 1.0\n",
      "shap       INFO  phi = array([ 2.13121723e+04, -4.08493997e+03, -1.75767432e+03, -1.68503811e+03,\n",
      "        5.10858717e+02,  4.91366112e+02,  2.49744636e+02,  1.53615182e+03,\n",
      "        5.11289224e+02,  0.00000000e+00, -1.17086669e+01,  3.24458095e+01,\n",
      "       -1.29237587e+03,  2.54645787e+03,  2.19877539e+01,  0.00000000e+00,\n",
      "        5.10132189e+02, -8.60024420e+02,  3.72759337e+01, -1.84690056e+02,\n",
      "        3.79600194e+01, -4.59243462e+01,  1.00130564e+01])\n",
      "shap       INFO  num_full_subsets = 1\n",
      "shap       INFO  remaining_weight_vector = array([0.20701126, 0.14490788, 0.11440096, 0.09660526, 0.08523993,\n",
      "       0.07762922, 0.07245394, 0.06900375, 0.06688056, 0.06586722])\n",
      "shap       INFO  num_paired_subset_sizes = 11\n",
      "shap       INFO  weight_left = 0.7167414131850209\n",
      "shap       INFO  np.sum(w_aug) = 23.000000000000004\n",
      "shap       INFO  np.sum(self.kernelWeights) = 1.0000000000000004\n",
      "shap       INFO  phi = array([ 1.18312630e+04, -2.83805268e+03, -1.29262330e+03, -1.10688919e+03,\n",
      "        5.45772329e+02,  7.68879387e+02,  1.68490321e+02,  1.75811907e+03,\n",
      "        5.04217320e+02,  0.00000000e+00, -4.25955935e+00, -1.18568174e+01,\n",
      "       -1.20926755e+03,  2.12953324e+03,  2.52118285e+01,  0.00000000e+00,\n",
      "        3.85223867e+02, -7.21309500e+02,  1.70693457e+01, -1.33347390e+02,\n",
      "        2.64769056e+01, -5.15774234e+01,  2.48282875e+01])\n",
      "shap       INFO  num_full_subsets = 1\n",
      "shap       INFO  remaining_weight_vector = array([0.20701126, 0.14490788, 0.11440096, 0.09660526, 0.08523993,\n",
      "       0.07762922, 0.07245394, 0.06900375, 0.06688056, 0.06586722])\n",
      "shap       INFO  num_paired_subset_sizes = 11\n",
      "shap       INFO  weight_left = 0.7167414131850209\n",
      "shap       INFO  np.sum(w_aug) = 23.000000000000007\n",
      "shap       INFO  np.sum(self.kernelWeights) = 1.0000000000000004\n",
      "shap       INFO  phi = array([ 3204.54050654, -1900.55463151,  -796.79965987,  -121.71330802,\n",
      "         816.15238312,  1025.52561119,  -130.01247034,  1624.57994851,\n",
      "         457.85019344,     6.05158223,    10.12424741,   -12.60879865,\n",
      "       -1136.95914754,  1982.67077057,    30.42382926,    -4.43565056,\n",
      "         368.10272328,  -585.46260605,    25.66871335,   -99.00781819,\n",
      "          23.76162647,   -45.04622064,    28.35441739])\n",
      "shap       INFO  num_full_subsets = 1\n",
      "shap       INFO  remaining_weight_vector = array([0.20701126, 0.14490788, 0.11440096, 0.09660526, 0.08523993,\n",
      "       0.07762922, 0.07245394, 0.06900375, 0.06688056, 0.06586722])\n",
      "shap       INFO  num_paired_subset_sizes = 11\n",
      "shap       INFO  weight_left = 0.7167414131850209\n",
      "shap       INFO  np.sum(w_aug) = 23.0\n",
      "shap       INFO  np.sum(self.kernelWeights) = 1.0000000000000002\n",
      "shap       INFO  phi = array([ 2858.4006017 , -2908.89704467,  -947.96807593,    32.72802006,\n",
      "         743.09410449,   754.30884066,  -134.57998378,  1776.0094171 ,\n",
      "         456.22357599,     3.41602328,    18.21589276,   -24.35461499,\n",
      "       -1056.56589355,  1982.14485136,    23.89842849,    -6.64167727,\n",
      "         336.57660574,  -579.0488965 ,    31.16577841,   -78.05958377,\n",
      "          30.61468024,   -35.59742207,    15.59927088])\n",
      "shap       INFO  num_full_subsets = 1\n",
      "shap       INFO  remaining_weight_vector = array([0.20701126, 0.14490788, 0.11440096, 0.09660526, 0.08523993,\n",
      "       0.07762922, 0.07245394, 0.06900375, 0.06688056, 0.06586722])\n",
      "shap       INFO  num_paired_subset_sizes = 11\n",
      "shap       INFO  weight_left = 0.7167414131850209\n",
      "shap       INFO  np.sum(w_aug) = 23.000000000000007\n",
      "shap       INFO  np.sum(self.kernelWeights) = 1.0\n",
      "shap       INFO  phi = array([ 1.19440473e+04, -4.06633276e+03, -1.39490801e+03, -8.69503717e+02,\n",
      "        5.22357734e+02,  6.00007879e+02,  2.02820083e+02,  1.65022418e+03,\n",
      "        5.04060043e+02,  5.59696041e+00,  1.10511398e+01,  4.53616395e+01,\n",
      "       -1.07124648e+03,  1.98130842e+03,  2.25564894e+01,  0.00000000e+00,\n",
      "        3.51983760e+02, -5.27409823e+02,  1.81153395e+01, -9.58757089e+01,\n",
      "        2.46662998e+01, -3.61876061e+01,  2.25459047e+01])\n",
      "shap       INFO  num_full_subsets = 1\n",
      "shap       INFO  remaining_weight_vector = array([0.20701126, 0.14490788, 0.11440096, 0.09660526, 0.08523993,\n",
      "       0.07762922, 0.07245394, 0.06900375, 0.06688056, 0.06586722])\n",
      "shap       INFO  num_paired_subset_sizes = 11\n",
      "shap       INFO  weight_left = 0.7167414131850209\n",
      "shap       INFO  np.sum(w_aug) = 23.000000000000004\n",
      "shap       INFO  np.sum(self.kernelWeights) = 1.0000000000000002\n",
      "shap       INFO  phi = array([ 1.23058381e+04, -5.47402829e+03, -1.26894397e+03, -9.58788819e+02,\n",
      "        5.13942293e+02,  5.41564321e+02,  4.56859171e+01,  1.51426410e+03,\n",
      "        4.50040269e+02,  1.40958700e+01,  5.31796316e+00,  2.97395616e+01,\n",
      "       -1.00513300e+03,  1.85249583e+03,  2.57274221e+01,  2.43277696e+00,\n",
      "        2.73608284e+02, -4.93714940e+02,  1.87045111e+01, -9.50282913e+01,\n",
      "        2.52795647e+01, -3.42000193e+01,  1.35137074e+01])\n",
      "shap       INFO  num_full_subsets = 1\n",
      "shap       INFO  remaining_weight_vector = array([0.20701126, 0.14490788, 0.11440096, 0.09660526, 0.08523993,\n",
      "       0.07762922, 0.07245394, 0.06900375, 0.06688056, 0.06586722])\n",
      "shap       INFO  num_paired_subset_sizes = 11\n",
      "shap       INFO  weight_left = 0.7167414131850209\n",
      "shap       INFO  np.sum(w_aug) = 23.000000000000004\n",
      "shap       INFO  np.sum(self.kernelWeights) = 1.0000000000000002\n",
      "shap       INFO  phi = array([ 8.14200976e+03, -4.50680994e+03, -9.30044886e+02, -3.82767528e+02,\n",
      "        5.16925044e+02,  1.00507310e+03, -1.23189700e+02,  1.02746039e+03,\n",
      "        4.17766033e+02,  1.30326738e+01, -4.61805804e+00, -6.14807846e+00,\n",
      "       -8.65507902e+02,  1.69630755e+03,  2.68926540e+01, -1.18696035e+01,\n",
      "        2.08441741e+02, -4.84800178e+02,  2.22839726e+01, -6.16465783e+00,\n",
      "        7.40065107e+00, -4.06046178e+01,  1.21772807e+01])\n",
      "shap       INFO  num_full_subsets = 1\n",
      "shap       INFO  remaining_weight_vector = array([0.20701126, 0.14490788, 0.11440096, 0.09660526, 0.08523993,\n",
      "       0.07762922, 0.07245394, 0.06900375, 0.06688056, 0.06586722])\n",
      "shap       INFO  num_paired_subset_sizes = 11\n",
      "shap       INFO  weight_left = 0.7167414131850209\n",
      "shap       INFO  np.sum(w_aug) = 23.0\n",
      "shap       INFO  np.sum(self.kernelWeights) = 1.0\n",
      "shap       INFO  phi = array([ 8.39774103e+03, -4.96075959e+03, -7.06143880e+02,  1.15624570e+02,\n",
      "        5.09633996e+02,  7.45372242e+02, -1.40161349e+02,  1.20692579e+02,\n",
      "        4.14142169e+02,  7.48064916e+00,  0.00000000e+00, -7.78500896e+00,\n",
      "       -6.76592601e+02,  1.69801779e+03,  2.22200583e+01, -6.78894624e+00,\n",
      "        1.96657895e+02, -4.30255555e+02,  2.14481319e+01,  0.00000000e+00,\n",
      "        1.69376731e+01, -4.50668907e+01,  2.17522251e+01])\n",
      "shap       INFO  num_full_subsets = 1\n",
      "shap       INFO  remaining_weight_vector = array([0.20701126, 0.14490788, 0.11440096, 0.09660526, 0.08523993,\n",
      "       0.07762922, 0.07245394, 0.06900375, 0.06688056, 0.06586722])\n",
      "shap       INFO  num_paired_subset_sizes = 11\n",
      "shap       INFO  weight_left = 0.7167414131850209\n",
      "shap       INFO  np.sum(w_aug) = 23.000000000000007\n",
      "shap       INFO  np.sum(self.kernelWeights) = 1.0000000000000002\n",
      "shap       INFO  phi = array([4060.04197995, -481.79606899, -567.26555726,  -67.97697509,\n",
      "        514.37460699,  776.38350779, -173.77225295,  839.87323441,\n",
      "        441.49857952,    8.73407904,   38.82353907,  -33.95245063,\n",
      "       -652.38716155, 1701.0785408 ,   26.67211241,  -15.89950787,\n",
      "        228.1610424 , -491.85521419,   29.13337639,  -34.42221743,\n",
      "         24.37083656,  -34.28393013,   22.34778655])\n",
      "shap       INFO  num_full_subsets = 1\n",
      "shap       INFO  remaining_weight_vector = array([0.20701126, 0.14490788, 0.11440096, 0.09660526, 0.08523993,\n",
      "       0.07762922, 0.07245394, 0.06900375, 0.06688056, 0.06586722])\n",
      "shap       INFO  num_paired_subset_sizes = 11\n",
      "shap       INFO  weight_left = 0.7167414131850209\n",
      "shap       INFO  np.sum(w_aug) = 23.000000000000007\n",
      "shap       INFO  np.sum(self.kernelWeights) = 1.0\n",
      "shap       INFO  phi = array([ -762.57455719, -1802.62941955,  -592.47069009,    90.55424427,\n",
      "         517.95253839,  1082.54907856,    79.74897277,  1386.73449157,\n",
      "         419.43809163,     4.41942093,    30.00414611,    -6.95605555,\n",
      "        -612.47506537,  1695.55369461,    15.85220181,    -4.82289307,\n",
      "         222.40436994,  -491.51731941,    29.99974145,   -51.2602741 ,\n",
      "          22.13033078,   -48.46202557,    26.94065742])\n",
      "shap       INFO  num_full_subsets = 1\n",
      "shap       INFO  remaining_weight_vector = array([0.20701126, 0.14490788, 0.11440096, 0.09660526, 0.08523993,\n",
      "       0.07762922, 0.07245394, 0.06900375, 0.06688056, 0.06586722])\n",
      "shap       INFO  num_paired_subset_sizes = 11\n",
      "shap       INFO  weight_left = 0.7167414131850209\n",
      "shap       INFO  np.sum(w_aug) = 23.0\n",
      "shap       INFO  np.sum(self.kernelWeights) = 0.9999999999999999\n",
      "shap       INFO  phi = array([-2092.55193998, -2101.3297219 ,  -619.76078089,   346.56336578,\n",
      "         527.98246358,  1105.96566237,   -72.84233543,  1438.35947719,\n",
      "         409.57953572,     5.0333479 ,    -9.4659783 ,     8.82978998,\n",
      "        -719.95046795,  1706.5431434 ,    20.51218403,   -13.91149924,\n",
      "         212.06902208,  -543.57916987,    31.28249436,   -46.63448384,\n",
      "          24.16943332,   -36.05687431,    27.58663935])\n",
      "shap       INFO  num_full_subsets = 1\n",
      "shap       INFO  remaining_weight_vector = array([0.20701126, 0.14490788, 0.11440096, 0.09660526, 0.08523993,\n",
      "       0.07762922, 0.07245394, 0.06900375, 0.06688056, 0.06586722])\n",
      "shap       INFO  num_paired_subset_sizes = 11\n",
      "shap       INFO  weight_left = 0.7167414131850209\n",
      "shap       INFO  np.sum(w_aug) = 23.000000000000004\n",
      "shap       INFO  np.sum(self.kernelWeights) = 1.0\n",
      "shap       INFO  phi = array([ 5.94390836e+03, -2.10959740e+03, -5.12774269e+02,  6.25590213e+02,\n",
      "        5.22200016e+02,  9.62364301e+02, -1.38412794e+02, -3.44683689e+02,\n",
      "        4.00672271e+02,  1.36750090e+01,  4.94172261e+00, -3.17437799e+01,\n",
      "       -6.14552221e+02,  1.69346180e+03,  2.70313291e+01,  0.00000000e+00,\n",
      "        1.75021061e+02, -4.93156310e+02,  1.64460612e+01,  1.76276326e+01,\n",
      "        1.12449539e+01, -4.66059271e+01,  1.91589466e+01])\n",
      "shap       INFO  num_full_subsets = 1\n",
      "shap       INFO  remaining_weight_vector = array([0.20701126, 0.14490788, 0.11440096, 0.09660526, 0.08523993,\n",
      "       0.07762922, 0.07245394, 0.06900375, 0.06688056, 0.06586722])\n",
      "shap       INFO  num_paired_subset_sizes = 11\n",
      "shap       INFO  weight_left = 0.7167414131850209\n",
      "shap       INFO  np.sum(w_aug) = 23.000000000000007\n",
      "shap       INFO  np.sum(self.kernelWeights) = 1.0000000000000004\n",
      "shap       INFO  phi = array([5093.3914287 ,  783.47503627, -508.04599622,  493.4985363 ,\n",
      "        519.58348343,  966.73911771,   42.18443562, -125.08043618,\n",
      "        436.0101873 ,    5.93795978,   30.3588949 ,  -20.80325019,\n",
      "       -536.73804743, 1420.74096506,   29.40991056,    0.        ,\n",
      "        110.3780777 , -439.97211982,   29.2747893 ,    0.        ,\n",
      "         22.44333414,  -51.18870534,   23.87134676])\n",
      "shap       INFO  num_full_subsets = 1\n",
      "shap       INFO  remaining_weight_vector = array([0.20701126, 0.14490788, 0.11440096, 0.09660526, 0.08523993,\n",
      "       0.07762922, 0.07245394, 0.06900375, 0.06688056, 0.06586722])\n",
      "shap       INFO  num_paired_subset_sizes = 11\n",
      "shap       INFO  weight_left = 0.7167414131850209\n",
      "shap       INFO  np.sum(w_aug) = 23.000000000000004\n",
      "shap       INFO  np.sum(self.kernelWeights) = 1.0\n",
      "shap       INFO  phi = array([ 8.25122103e+03,  7.03042455e+02, -8.43868803e+02,  6.91884979e+01,\n",
      "        5.25831891e+02,  9.15938935e+02,  8.04167212e+01,  3.42495178e+02,\n",
      "        4.67878364e+02,  2.01330151e+01, -1.22663556e+02, -2.64614416e+01,\n",
      "       -4.50310263e+02,  1.42100201e+03,  2.44095689e+01, -6.68628587e+00,\n",
      "        1.15386723e+02, -3.90528696e+02,  3.91255141e+01, -9.04451086e+01,\n",
      "        3.38564771e+01, -5.13692570e+01,  1.87122235e+01])\n",
      "shap       INFO  num_full_subsets = 1\n",
      "shap       INFO  remaining_weight_vector = array([0.20701126, 0.14490788, 0.11440096, 0.09660526, 0.08523993,\n",
      "       0.07762922, 0.07245394, 0.06900375, 0.06688056, 0.06586722])\n",
      "shap       INFO  num_paired_subset_sizes = 11\n",
      "shap       INFO  weight_left = 0.7167414131850209\n",
      "shap       INFO  np.sum(w_aug) = 23.0\n",
      "shap       INFO  np.sum(self.kernelWeights) = 1.0\n",
      "shap       INFO  phi = array([ 1.43339684e+04, -7.18571450e+02, -1.06789867e+03, -5.95545851e+02,\n",
      "        5.32786793e+02,  8.80292386e+02,  1.05342742e+02,  3.82835747e+02,\n",
      "        3.99171435e+02,  2.24092965e+01, -1.26164969e+02,  1.43221209e+01,\n",
      "       -4.95993549e+02,  1.41973836e+03,  2.60577967e+01,  2.68158200e+00,\n",
      "        1.50121103e+02, -4.35332101e+02,  4.80415065e+01, -1.56146262e+02,\n",
      "        3.95200033e+01, -4.19711470e+01,  1.78282262e+01])\n",
      "shap       INFO  num_full_subsets = 1\n",
      "shap       INFO  remaining_weight_vector = array([0.20701126, 0.14490788, 0.11440096, 0.09660526, 0.08523993,\n",
      "       0.07762922, 0.07245394, 0.06900375, 0.06688056, 0.06586722])\n",
      "shap       INFO  num_paired_subset_sizes = 11\n",
      "shap       INFO  weight_left = 0.7167414131850209\n",
      "shap       INFO  np.sum(w_aug) = 23.000000000000004\n",
      "shap       INFO  np.sum(self.kernelWeights) = 1.0\n",
      "shap       INFO  phi = array([ 1.04547788e+04,  1.50269937e+03, -1.12880381e+03, -4.54833064e+02,\n",
      "        5.46783199e+02,  8.47294352e+02,  1.28466702e+02,  1.00541181e+03,\n",
      "        3.86799039e+02,  1.59376214e+01, -1.13792085e+02,  9.26707584e+00,\n",
      "       -6.89115109e+02,  1.57055168e+03,  2.58285325e+01, -1.03888469e+01,\n",
      "        1.95716796e+02, -5.32770870e+02,  5.34969931e+01, -1.88176832e+02,\n",
      "        3.73109642e+01, -4.22698416e+01,  1.51897620e+01])\n",
      "shap       INFO  num_full_subsets = 1\n",
      "shap       INFO  remaining_weight_vector = array([0.20701126, 0.14490788, 0.11440096, 0.09660526, 0.08523993,\n",
      "       0.07762922, 0.07245394, 0.06900375, 0.06688056, 0.06586722])\n",
      "shap       INFO  num_paired_subset_sizes = 11\n",
      "shap       INFO  weight_left = 0.7167414131850209\n",
      "shap       INFO  np.sum(w_aug) = 23.000000000000004\n",
      "shap       INFO  np.sum(self.kernelWeights) = 1.0\n",
      "shap       INFO  phi = array([4151.31292792,  329.33973901, -709.36910144,  535.34859476,\n",
      "        532.08875962, 1102.37936934,  -85.97117538,  342.66813115,\n",
      "        321.16630704,   20.02755018, -122.70244201,   81.26929493,\n",
      "       -729.36060681, 1979.74597222,   31.10811625,   -9.55713599,\n",
      "        264.70326807, -588.03344301,   40.52405817, -207.48032534,\n",
      "         43.85937409,  -35.81990794,   21.07855828])\n",
      "shap       INFO  num_full_subsets = 1\n",
      "shap       INFO  remaining_weight_vector = array([0.20701126, 0.14490788, 0.11440096, 0.09660526, 0.08523993,\n",
      "       0.07762922, 0.07245394, 0.06900375, 0.06688056, 0.06586722])\n",
      "shap       INFO  num_paired_subset_sizes = 11\n",
      "shap       INFO  weight_left = 0.7167414131850209\n",
      "shap       INFO  np.sum(w_aug) = 23.000000000000004\n",
      "shap       INFO  np.sum(self.kernelWeights) = 1.0\n",
      "shap       INFO  phi = array([-933.16725984, 1601.15228643, -614.42788219,  644.25461885,\n",
      "        538.52961686,  984.27729198,   71.736722  ,  892.34779536,\n",
      "        335.87672794,   30.02853136, -117.58203255,  136.69533496,\n",
      "       -732.95141081, 2142.68182795,   32.21008825,   -5.99674146,\n",
      "        255.70669387, -622.84205586,   33.9473641 , -171.61116751,\n",
      "         40.65079229,  -36.89378544,   31.41930976])\n",
      "shap       INFO  num_full_subsets = 1\n",
      "shap       INFO  remaining_weight_vector = array([0.20701126, 0.14490788, 0.11440096, 0.09660526, 0.08523993,\n",
      "       0.07762922, 0.07245394, 0.06900375, 0.06688056, 0.06586722])\n",
      "shap       INFO  num_paired_subset_sizes = 11\n",
      "shap       INFO  weight_left = 0.7167414131850209\n",
      "shap       INFO  np.sum(w_aug) = 23.000000000000004\n",
      "shap       INFO  np.sum(self.kernelWeights) = 1.0000000000000002\n",
      "shap       INFO  phi = array([ 9.51068107e+03,  5.23091661e+01, -1.14619572e+03, -6.95479943e+02,\n",
      "        5.26065068e+02,  5.62106824e+02,  1.28932919e+02,  1.48078299e+03,\n",
      "        3.80823875e+02,  1.10516021e+01,  1.45318124e+02,  4.38176917e+01,\n",
      "       -6.57228170e+02,  1.97159623e+03,  3.17201264e+01, -8.81753487e+00,\n",
      "        2.30110867e+02, -5.29165089e+02,  3.29618305e+01, -1.54673929e+02,\n",
      "        3.63301879e+01, -4.54815822e+01,  2.85887842e+01])\n",
      "shap       INFO  num_full_subsets = 1\n",
      "shap       INFO  remaining_weight_vector = array([0.20701126, 0.14490788, 0.11440096, 0.09660526, 0.08523993,\n",
      "       0.07762922, 0.07245394, 0.06900375, 0.06688056, 0.06586722])\n",
      "shap       INFO  num_paired_subset_sizes = 11\n",
      "shap       INFO  weight_left = 0.7167414131850209\n",
      "shap       INFO  np.sum(w_aug) = 23.000000000000007\n",
      "shap       INFO  np.sum(self.kernelWeights) = 1.0000000000000004\n",
      "shap       INFO  phi = array([ 1.01001572e+04, -3.42255179e+02, -1.02559697e+03, -1.13787662e+03,\n",
      "        4.63713829e+02,  9.85217526e+02,  2.20927767e+02,  1.47772050e+03,\n",
      "        3.65053551e+02,  1.12614251e+01,  6.52120975e+01,  5.94346385e+01,\n",
      "       -7.21507276e+02,  1.84890449e+03,  2.03193335e+01,  5.61171665e+00,\n",
      "        2.62081969e+02, -5.33635633e+02,  3.57921376e+01, -1.71343348e+02,\n",
      "        3.96647986e+01, -4.07890692e+01,  3.01776107e+01])\n",
      "shap       INFO  num_full_subsets = 1\n",
      "shap       INFO  remaining_weight_vector = array([0.20701126, 0.14490788, 0.11440096, 0.09660526, 0.08523993,\n",
      "       0.07762922, 0.07245394, 0.06900375, 0.06688056, 0.06586722])\n",
      "shap       INFO  num_paired_subset_sizes = 11\n",
      "shap       INFO  weight_left = 0.7167414131850209\n",
      "shap       INFO  np.sum(w_aug) = 23.000000000000004\n",
      "shap       INFO  np.sum(self.kernelWeights) = 1.0\n",
      "shap       INFO  phi = array([ 8.71031276e+03, -3.90859066e+02, -9.87302289e+02, -9.55038734e+02,\n",
      "        3.80154884e+02,  1.03710809e+03,  3.06619394e+02,  1.33146823e+03,\n",
      "        3.72862790e+02,  1.66233318e+01,  5.06689187e+01,  7.74679824e+01,\n",
      "       -5.78229318e+02,  1.85724860e+03,  1.90202350e+01, -8.41578175e+00,\n",
      "        1.94657857e+02, -4.97384882e+02,  2.63329064e+01, -1.81579669e+02,\n",
      "        3.35330261e+01, -3.93390405e+01,  2.92171371e+01])\n",
      "shap       INFO  num_full_subsets = 1\n",
      "shap       INFO  remaining_weight_vector = array([0.20701126, 0.14490788, 0.11440096, 0.09660526, 0.08523993,\n",
      "       0.07762922, 0.07245394, 0.06900375, 0.06688056, 0.06586722])\n",
      "shap       INFO  num_paired_subset_sizes = 11\n",
      "shap       INFO  weight_left = 0.7167414131850209\n",
      "shap       INFO  np.sum(w_aug) = 23.0\n",
      "shap       INFO  np.sum(self.kernelWeights) = 1.0\n",
      "shap       INFO  phi = array([7876.7691524 ,  257.86039252, -599.78521595, -101.76828148,\n",
      "        301.77051895, 1160.44554088,  225.41073515, -115.4995261 ,\n",
      "        356.71184835,    0.        ,   36.00109773,   21.35327539,\n",
      "       -608.52548397, 1697.42888226,   36.61672995,   -9.08644307,\n",
      "        153.94709405, -491.11149718,   25.71758653, -181.32129837,\n",
      "         33.8110509 ,  -36.14569638,   23.26669465])\n",
      "shap       INFO  num_full_subsets = 1\n",
      "shap       INFO  remaining_weight_vector = array([0.20701126, 0.14490788, 0.11440096, 0.09660526, 0.08523993,\n",
      "       0.07762922, 0.07245394, 0.06900375, 0.06688056, 0.06586722])\n",
      "shap       INFO  num_paired_subset_sizes = 11\n",
      "shap       INFO  weight_left = 0.7167414131850209\n",
      "shap       INFO  np.sum(w_aug) = 23.000000000000007\n",
      "shap       INFO  np.sum(self.kernelWeights) = 1.0\n",
      "shap       INFO  phi = array([ 8.45533585e+03,  8.16965041e+00, -3.31048653e+02, -1.04307438e+02,\n",
      "        2.74582170e+02,  1.05766541e+03,  1.65129301e+01, -5.83371397e+02,\n",
      "        3.75584695e+02,  1.15050642e+01,  4.28217882e+01, -2.54503962e+01,\n",
      "       -5.78787068e+02,  1.68791900e+03,  2.58220585e+01, -3.96901322e+00,\n",
      "        1.56863168e+02, -4.95476560e+02,  2.04678256e+01, -1.50334039e+02,\n",
      "        4.66867185e+01, -3.49053343e+01,  2.64856287e+01])\n",
      "shap       INFO  num_full_subsets = 1\n",
      "shap       INFO  remaining_weight_vector = array([0.20701126, 0.14490788, 0.11440096, 0.09660526, 0.08523993,\n",
      "       0.07762922, 0.07245394, 0.06900375, 0.06688056, 0.06586722])\n",
      "shap       INFO  num_paired_subset_sizes = 11\n",
      "shap       INFO  weight_left = 0.7167414131850209\n",
      "shap       INFO  np.sum(w_aug) = 23.000000000000004\n",
      "shap       INFO  np.sum(self.kernelWeights) = 0.9999999999999999\n",
      "shap       INFO  phi = array([ 5.24110076e+03,  3.84181183e+01, -4.01471662e+02,  3.14184149e+02,\n",
      "       -1.46683929e+02,  1.12823109e+03, -2.67055355e+01, -7.04283035e+02,\n",
      "        3.32461276e+02,  1.51902546e+01,  4.41153954e+01, -1.53940351e+01,\n",
      "       -6.33978383e+02,  1.85308021e+03,  3.35584283e+01, -4.09220654e+00,\n",
      "        1.80351717e+02, -4.94006501e+02,  4.15708193e+01, -1.53909617e+02,\n",
      "        4.43148043e+01, -4.30705146e+01,  2.39666850e+01])\n",
      "shap       INFO  num_full_subsets = 1\n",
      "shap       INFO  remaining_weight_vector = array([0.20701126, 0.14490788, 0.11440096, 0.09660526, 0.08523993,\n",
      "       0.07762922, 0.07245394, 0.06900375, 0.06688056, 0.06586722])\n",
      "shap       INFO  num_paired_subset_sizes = 11\n",
      "shap       INFO  weight_left = 0.7167414131850209\n",
      "shap       INFO  np.sum(w_aug) = 23.000000000000007\n",
      "shap       INFO  np.sum(self.kernelWeights) = 1.0\n",
      "shap       INFO  phi = array([ 5.72954888e+03,  8.46678170e+01, -3.35490461e+02,  6.04423654e+02,\n",
      "       -1.08976225e+02,  1.08168242e+03, -1.23903504e+02, -1.14228869e+03,\n",
      "        3.25422304e+02,  1.93697588e+01,  3.90928346e+01, -1.78526646e+01,\n",
      "       -7.50618974e+02,  1.98322637e+03,  2.55239633e+01, -4.52988426e+00,\n",
      "        2.29196278e+02, -5.23649265e+02,  6.23184292e+01, -2.06886126e+02,\n",
      "        5.35010406e+01, -3.72746970e+01,  2.22107884e+01])\n",
      "shap       INFO  num_full_subsets = 1\n",
      "shap       INFO  remaining_weight_vector = array([0.20701126, 0.14490788, 0.11440096, 0.09660526, 0.08523993,\n",
      "       0.07762922, 0.07245394, 0.06900375, 0.06688056, 0.06586722])\n",
      "shap       INFO  num_paired_subset_sizes = 11\n",
      "shap       INFO  weight_left = 0.7167414131850209\n",
      "shap       INFO  np.sum(w_aug) = 23.0\n",
      "shap       INFO  np.sum(self.kernelWeights) = 1.0000000000000004\n",
      "shap       INFO  phi = array([ 1.49605065e+04, -9.48717343e+02, -7.01105792e+02, -7.14664911e+02,\n",
      "       -1.12576649e+02,  1.02660517e+03, -1.46807953e+02, -6.81971562e+02,\n",
      "        3.77408688e+02,  1.19907801e+01, -1.14853707e+02, -3.90753225e+01,\n",
      "       -7.74804620e+02,  1.97007774e+03,  1.24953624e+01,  0.00000000e+00,\n",
      "        2.66714819e+02, -5.36374048e+02,  6.24264152e+01, -1.87883068e+02,\n",
      "        3.18689524e+01, -3.31138401e+01,  2.88257568e+01])\n",
      "shap       INFO  num_full_subsets = 1\n",
      "shap       INFO  remaining_weight_vector = array([0.20701126, 0.14490788, 0.11440096, 0.09660526, 0.08523993,\n",
      "       0.07762922, 0.07245394, 0.06900375, 0.06688056, 0.06586722])\n",
      "shap       INFO  num_paired_subset_sizes = 11\n",
      "shap       INFO  weight_left = 0.7167414131850209\n",
      "shap       INFO  np.sum(w_aug) = 23.000000000000004\n",
      "shap       INFO  np.sum(self.kernelWeights) = 0.9999999999999999\n",
      "shap       INFO  phi = array([ 1.70431177e+04, -2.59315748e+03, -6.60730404e+02, -2.81640521e+02,\n",
      "       -1.16881235e+02,  1.13641553e+03, -2.49473556e+01, -1.62279600e+03,\n",
      "        3.53972159e+02,  7.29054295e+00, -1.37638543e+02, -2.64710387e+01,\n",
      "       -8.86899544e+02,  1.98008884e+03,  2.80492007e+01, -4.76664637e+00,\n",
      "        3.26812752e+02, -5.84242165e+02,  6.49323821e+01, -1.80823410e+02,\n",
      "        5.09648117e+01, -5.11251220e+01,  1.54514407e+01])\n",
      "shap       INFO  num_full_subsets = 1\n",
      "shap       INFO  remaining_weight_vector = array([0.20701126, 0.14490788, 0.11440096, 0.09660526, 0.08523993,\n",
      "       0.07762922, 0.07245394, 0.06900375, 0.06688056, 0.06586722])\n",
      "shap       INFO  num_paired_subset_sizes = 11\n",
      "shap       INFO  weight_left = 0.7167414131850209\n",
      "shap       INFO  np.sum(w_aug) = 23.0\n",
      "shap       INFO  np.sum(self.kernelWeights) = 1.0000000000000002\n",
      "shap       INFO  phi = array([ 1.27265710e+04, -2.77626649e+03, -7.64114000e+02, -3.93886661e+02,\n",
      "       -1.07293687e+02,  1.15491026e+03,  2.91981050e+02, -6.84290054e+02,\n",
      "        3.75389596e+02,  1.31130427e+01, -1.45447907e+02,  1.15719529e+01,\n",
      "       -7.48924059e+02,  1.98409241e+03,  2.83860826e+01, -7.30766690e+00,\n",
      "        2.73582479e+02, -5.82731268e+02,  5.40297380e+01, -1.78796274e+02,\n",
      "        4.88053663e+01, -3.84949742e+01,  1.89135255e+01])\n",
      "shap       INFO  num_full_subsets = 1\n",
      "shap       INFO  remaining_weight_vector = array([0.20701126, 0.14490788, 0.11440096, 0.09660526, 0.08523993,\n",
      "       0.07762922, 0.07245394, 0.06900375, 0.06688056, 0.06586722])\n",
      "shap       INFO  num_paired_subset_sizes = 11\n",
      "shap       INFO  weight_left = 0.7167414131850209\n",
      "shap       INFO  np.sum(w_aug) = 23.0\n",
      "shap       INFO  np.sum(self.kernelWeights) = 1.0000000000000004\n",
      "shap       INFO  phi = array([ 6.47224577e+03, -3.30401872e+03, -5.49008088e+02,  7.07303125e+02,\n",
      "       -1.11821308e+02,  1.17757658e+03,  3.73503217e+02, -1.19573042e+03,\n",
      "        3.49411255e+02,  1.74452663e+01, -1.14003727e+02,  9.86785528e+01,\n",
      "       -9.28280582e+02,  2.13697011e+03,  2.72921564e+01, -4.56563935e+00,\n",
      "        2.45763271e+02, -5.81589921e+02,  3.68604440e+01, -1.28460241e+02,\n",
      "        3.08619797e+01, -4.07596859e+01,  2.50338486e+01])\n",
      "shap       INFO  num_full_subsets = 1\n",
      "shap       INFO  remaining_weight_vector = array([0.20701126, 0.14490788, 0.11440096, 0.09660526, 0.08523993,\n",
      "       0.07762922, 0.07245394, 0.06900375, 0.06688056, 0.06586722])\n",
      "shap       INFO  num_paired_subset_sizes = 11\n",
      "shap       INFO  weight_left = 0.7167414131850209\n",
      "shap       INFO  np.sum(w_aug) = 23.000000000000004\n",
      "shap       INFO  np.sum(self.kernelWeights) = 1.0000000000000002\n",
      "shap       INFO  phi = array([ 2381.72607169, -5142.06020216,  -211.03899544,  1704.04000696,\n",
      "        -222.07745434,  1293.56964096,    83.13899923, -2110.35555251,\n",
      "         330.8574472 ,     0.        ,   -73.4054494 ,   100.69532514,\n",
      "        -323.25058298,  1696.33346012,    30.37563045,    -7.36411604,\n",
      "         276.76686054,  -585.00528069,     0.        ,    15.64806721,\n",
      "           0.        ,   -38.84074016,    19.36341494])\n",
      "shap       INFO  num_full_subsets = 1\n",
      "shap       INFO  remaining_weight_vector = array([0.20701126, 0.14490788, 0.11440096, 0.09660526, 0.08523993,\n",
      "       0.07762922, 0.07245394, 0.06900375, 0.06688056, 0.06586722])\n",
      "shap       INFO  num_paired_subset_sizes = 11\n",
      "shap       INFO  weight_left = 0.7167414131850209\n",
      "shap       INFO  np.sum(w_aug) = 23.000000000000007\n",
      "shap       INFO  np.sum(self.kernelWeights) = 1.0\n",
      "shap       INFO  phi = array([-1.28373246e+04, -1.58876139e+03, -2.86189625e+02,  2.11052403e+03,\n",
      "       -3.42307271e+02,  1.31834500e+03, -1.29213809e+02,  1.62462262e+02,\n",
      "        3.08251924e+02,  2.05025527e+01, -1.90719282e+01,  0.00000000e+00,\n",
      "       -2.58241225e+02,  1.42163497e+03,  2.96698250e+01, -1.60882706e+01,\n",
      "        9.83290746e+01, -4.97293187e+02, -3.40468586e+01,  1.55642185e+02,\n",
      "       -1.60227585e+01, -4.42712611e+01,  5.37041143e+00])\n",
      "shap       INFO  num_full_subsets = 1\n",
      "shap       INFO  remaining_weight_vector = array([0.20701126, 0.14490788, 0.11440096, 0.09660526, 0.08523993,\n",
      "       0.07762922, 0.07245394, 0.06900375, 0.06688056, 0.06586722])\n",
      "shap       INFO  num_paired_subset_sizes = 11\n",
      "shap       INFO  weight_left = 0.7167414131850209\n",
      "shap       INFO  np.sum(w_aug) = 23.000000000000004\n",
      "shap       INFO  np.sum(self.kernelWeights) = 1.0000000000000002\n",
      "shap       INFO  phi = array([-1.42457145e+04, -1.57834648e+03, -2.72746767e+02,  1.92554076e+03,\n",
      "       -2.18684498e+02,  1.41496275e+03,  3.61660559e+01,  4.76201800e+02,\n",
      "       -4.24424245e+01,  0.00000000e+00, -7.23586006e+00, -3.32698546e+01,\n",
      "       -5.48040851e+01,  9.82920665e+02,  2.93381812e+01, -1.41503093e+01,\n",
      "       -1.03561672e+02, -2.89501209e+02, -3.35980502e+01,  2.05611587e+02,\n",
      "       -2.20848535e+01, -3.43038524e+01,  9.43151146e+00])\n",
      "shap       INFO  num_full_subsets = 1\n",
      "shap       INFO  remaining_weight_vector = array([0.20701126, 0.14490788, 0.11440096, 0.09660526, 0.08523993,\n",
      "       0.07762922, 0.07245394, 0.06900375, 0.06688056, 0.06586722])\n",
      "shap       INFO  num_paired_subset_sizes = 11\n",
      "shap       INFO  weight_left = 0.7167414131850209\n",
      "shap       INFO  np.sum(w_aug) = 23.000000000000007\n",
      "shap       INFO  np.sum(self.kernelWeights) = 1.0000000000000004\n",
      "shap       INFO  phi = array([-2425.44395886, -3731.80789804,  -769.8062762 ,   510.48724767,\n",
      "        -211.29239536,  1240.26692608,  -166.14229977,   869.94993829,\n",
      "         -55.47028641,     9.8654297 ,     0.        ,   -31.41281102,\n",
      "         100.83883136,   695.4607411 ,    26.0434085 ,    -8.68499559,\n",
      "        -200.00725264,  -196.14147825,   -35.73417653,   214.99324027,\n",
      "         -20.52436977,   -49.16176794,    13.51067352])\n",
      "shap       INFO  num_full_subsets = 1\n",
      "shap       INFO  remaining_weight_vector = array([0.20701126, 0.14490788, 0.11440096, 0.09660526, 0.08523993,\n",
      "       0.07762922, 0.07245394, 0.06900375, 0.06688056, 0.06586722])\n",
      "shap       INFO  num_paired_subset_sizes = 11\n",
      "shap       INFO  weight_left = 0.7167414131850209\n",
      "shap       INFO  np.sum(w_aug) = 23.000000000000004\n",
      "shap       INFO  np.sum(self.kernelWeights) = 1.0\n",
      "shap       INFO  phi = array([-1542.23239403, -2949.87600396,  -990.40579649,    -6.53960311,\n",
      "        -207.46929199,  1157.92558398,    34.42771466,  1599.41167563,\n",
      "         -30.95164584,    12.92262097,   -12.52228019,   -24.39283909,\n",
      "         278.4407544 ,   566.99740397,    14.92293201,    -5.48494522,\n",
      "        -237.03203599,  -103.23764795,   -35.43613863,   247.42569243,\n",
      "         -28.43985779,   -40.30726116,    13.49500662])\n",
      "shap       INFO  num_full_subsets = 1\n",
      "shap       INFO  remaining_weight_vector = array([0.20701126, 0.14490788, 0.11440096, 0.09660526, 0.08523993,\n",
      "       0.07762922, 0.07245394, 0.06900375, 0.06688056, 0.06586722])\n",
      "shap       INFO  num_paired_subset_sizes = 11\n",
      "shap       INFO  weight_left = 0.7167414131850209\n",
      "shap       INFO  np.sum(w_aug) = 23.0\n",
      "shap       INFO  np.sum(self.kernelWeights) = 0.9999999999999999\n",
      "shap       INFO  phi = array([  189.59618385, -4867.81711953,  -727.64344017,   763.95608197,\n",
      "        -179.89260897,  1391.13948134,   231.00007451,   -59.73832428,\n",
      "         -41.86606283,     8.8633599 ,   -17.33112737,   -14.86613269,\n",
      "         273.50016883,   573.96120528,    26.09782997,    -9.61506987,\n",
      "        -272.85324412,  -101.53539089,   -23.90431127,   225.11923428,\n",
      "         -21.69994927,   -34.64864859,    22.94716212])\n",
      "shap       INFO  num_full_subsets = 1\n",
      "shap       INFO  remaining_weight_vector = array([0.20701126, 0.14490788, 0.11440096, 0.09660526, 0.08523993,\n",
      "       0.07762922, 0.07245394, 0.06900375, 0.06688056, 0.06586722])\n",
      "shap       INFO  num_paired_subset_sizes = 11\n",
      "shap       INFO  weight_left = 0.7167414131850209\n",
      "shap       INFO  np.sum(w_aug) = 23.000000000000004\n",
      "shap       INFO  np.sum(self.kernelWeights) = 1.0000000000000002\n",
      "shap       INFO  phi = array([  731.00675163, -4522.08050846,  -198.5321075 ,  1322.62432269,\n",
      "        -224.9192662 ,  1390.47427433,   246.60547346, -1639.61562701,\n",
      "         -57.58735472,     9.93847545,   -13.9175223 ,    70.31392942,\n",
      "         598.54883864,   560.11212137,    26.54071473,   -13.38495305,\n",
      "        -213.8811109 ,   -59.74488617,   -14.6736543 ,   151.18710702,\n",
      "           0.        ,   -36.65161587,    22.34593945])\n",
      "shap       INFO  num_full_subsets = 1\n",
      "shap       INFO  remaining_weight_vector = array([0.20701126, 0.14490788, 0.11440096, 0.09660526, 0.08523993,\n",
      "       0.07762922, 0.07245394, 0.06900375, 0.06688056, 0.06586722])\n",
      "shap       INFO  num_paired_subset_sizes = 11\n",
      "shap       INFO  weight_left = 0.7167414131850209\n",
      "shap       INFO  np.sum(w_aug) = 23.000000000000004\n",
      "shap       INFO  np.sum(self.kernelWeights) = 1.0000000000000002\n",
      "shap       INFO  phi = array([ 2572.17241988, -5086.04994598,  -339.31334953,  1442.48510767,\n",
      "        -181.47763853,  1256.75253003,   525.0058403 , -1859.14119593,\n",
      "         -47.93416052,    12.67188136,   -30.47491114,   177.12720803,\n",
      "         144.36746631,   284.88771513,    18.85974374,    -6.21446838,\n",
      "        -189.75772384,   -61.87238869,   -16.01622496,    31.37117122,\n",
      "          11.15504555,   -30.72667239,    11.62542369])\n",
      "shap       INFO  num_full_subsets = 1\n",
      "shap       INFO  remaining_weight_vector = array([0.20701126, 0.14490788, 0.11440096, 0.09660526, 0.08523993,\n",
      "       0.07762922, 0.07245394, 0.06900375, 0.06688056, 0.06586722])\n",
      "shap       INFO  num_paired_subset_sizes = 11\n",
      "shap       INFO  weight_left = 0.7167414131850209\n",
      "shap       INFO  np.sum(w_aug) = 23.000000000000004\n",
      "shap       INFO  np.sum(self.kernelWeights) = 1.0\n",
      "shap       INFO  phi = array([-5751.90091273, -6182.31301583,  -135.12467221,  1666.6750911 ,\n",
      "        -431.57477827,  1183.47577237,   464.01133034, -1183.76955868,\n",
      "         -47.60859022,    21.53921823,   -22.08395481,   230.8413898 ,\n",
      "         113.49282295,   413.62565454,    20.71080234,     0.        ,\n",
      "        -219.52860332,   -71.71538847,   -36.48506653,    39.51345941,\n",
      "          -9.97395439,   -42.07365724,    18.33804463])\n",
      "shap       INFO  num_full_subsets = 1\n",
      "shap       INFO  remaining_weight_vector = array([0.20701126, 0.14490788, 0.11440096, 0.09660526, 0.08523993,\n",
      "       0.07762922, 0.07245394, 0.06900375, 0.06688056, 0.06586722])\n",
      "shap       INFO  num_paired_subset_sizes = 11\n",
      "shap       INFO  weight_left = 0.7167414131850209\n",
      "shap       INFO  np.sum(w_aug) = 23.0\n",
      "shap       INFO  np.sum(self.kernelWeights) = 1.0\n",
      "shap       INFO  phi = array([-1.05134206e+04, -4.61633205e+03,  5.94633366e+01,  1.57341148e+03,\n",
      "       -4.20028449e+02,  1.33653397e+03,  3.04513269e+02, -5.83638498e+02,\n",
      "       -5.32490134e+01,  2.14298464e+01, -7.12519098e+01, -5.86094958e+00,\n",
      "        1.41267839e+02,  4.11447021e+02,  1.90638733e+01, -9.79991386e+00,\n",
      "       -1.87444075e+02, -7.41229342e+01, -5.39799818e+01,  1.17841646e+02,\n",
      "       -1.27086384e+01, -4.63511250e+01,  1.95942298e+01])\n",
      "shap       INFO  num_full_subsets = 1\n",
      "shap       INFO  remaining_weight_vector = array([0.20701126, 0.14490788, 0.11440096, 0.09660526, 0.08523993,\n",
      "       0.07762922, 0.07245394, 0.06900375, 0.06688056, 0.06586722])\n",
      "shap       INFO  num_paired_subset_sizes = 11\n",
      "shap       INFO  weight_left = 0.7167414131850209\n",
      "shap       INFO  np.sum(w_aug) = 23.000000000000004\n",
      "shap       INFO  np.sum(self.kernelWeights) = 1.0000000000000002\n",
      "shap       INFO  phi = array([ 3.91314154e+02, -6.10530776e+03, -7.93837646e+02,  8.69912446e+01,\n",
      "       -4.02323642e+02,  1.07502229e+03,  1.39930281e+02,  6.72579285e+02,\n",
      "       -5.21942825e+01,  1.07745590e+01, -8.26582160e+01, -2.99410786e+01,\n",
      "        2.27352947e+02,  4.10950509e+02,  2.42372742e+01, -4.77415553e+00,\n",
      "       -2.74952670e+02, -1.82396416e+01, -3.92334659e+01,  1.87640482e+02,\n",
      "       -2.87303252e+01, -3.91077175e+01,  3.10317685e+01])\n",
      "shap       INFO  num_full_subsets = 1\n",
      "shap       INFO  remaining_weight_vector = array([0.20701126, 0.14490788, 0.11440096, 0.09660526, 0.08523993,\n",
      "       0.07762922, 0.07245394, 0.06900375, 0.06688056, 0.06586722])\n",
      "shap       INFO  num_paired_subset_sizes = 11\n",
      "shap       INFO  weight_left = 0.7167414131850209\n",
      "shap       INFO  np.sum(w_aug) = 23.000000000000007\n",
      "shap       INFO  np.sum(self.kernelWeights) = 1.0000000000000002\n",
      "shap       INFO  phi = array([ 2.34886631e+03, -6.60022682e+03, -9.40450175e+02, -1.16550784e+02,\n",
      "       -4.00864462e+02,  1.12714134e+03, -7.23757980e+01,  8.51839289e+02,\n",
      "       -3.01186127e+01,  9.14238270e+00, -4.12726757e+01, -3.31856971e+01,\n",
      "        3.95615773e+02,  2.82736201e+02,  2.04184293e+01,  4.10969309e+00,\n",
      "       -3.50067901e+02, -1.42531916e+01, -3.56902170e+01,  2.48154828e+02,\n",
      "       -3.84371253e+01, -4.40204989e+01,  1.55076273e+01])\n",
      "shap       INFO  num_full_subsets = 1\n",
      "shap       INFO  remaining_weight_vector = array([0.20701126, 0.14490788, 0.11440096, 0.09660526, 0.08523993,\n",
      "       0.07762922, 0.07245394, 0.06900375, 0.06688056, 0.06586722])\n",
      "shap       INFO  num_paired_subset_sizes = 11\n",
      "shap       INFO  weight_left = 0.7167414131850209\n",
      "shap       INFO  np.sum(w_aug) = 23.000000000000007\n",
      "shap       INFO  np.sum(self.kernelWeights) = 0.9999999999999999\n",
      "shap       INFO  phi = array([ 3056.7351791 , -6799.93417937,  -383.807362  ,  1062.00534628,\n",
      "        -412.80935656,  1094.11782556,    65.94981914, -1479.52169701,\n",
      "         -40.76768434,     0.        ,   -34.58003406,   -23.33306171,\n",
      "         447.17229686,   130.55391257,    16.79416943,    -9.92516206,\n",
      "        -240.12885498,    34.61297985,   -17.40902153,   219.27589083,\n",
      "         -11.40184213,   -43.13329473,    20.97949163])\n",
      "shap       INFO  num_full_subsets = 1\n",
      "shap       INFO  remaining_weight_vector = array([0.20701126, 0.14490788, 0.11440096, 0.09660526, 0.08523993,\n",
      "       0.07762922, 0.07245394, 0.06900375, 0.06688056, 0.06586722])\n",
      "shap       INFO  num_paired_subset_sizes = 11\n",
      "shap       INFO  weight_left = 0.7167414131850209\n",
      "shap       INFO  np.sum(w_aug) = 23.000000000000007\n",
      "shap       INFO  np.sum(self.kernelWeights) = 1.0000000000000002\n",
      "shap       INFO  phi = array([ 1880.66390727, -5124.53417568,  -865.81041903,   407.92008146,\n",
      "        -509.27094168,   846.25769781,   366.9270805 ,    76.02526819,\n",
      "         -37.66238391,     0.        ,   -28.964373  ,    25.18661839,\n",
      "         388.89506838,   140.27666076,    30.78883929,     0.        ,\n",
      "        -269.67004523,    27.40299642,   -19.00462183,    89.1632881 ,\n",
      "           0.        ,   -39.14571046,    21.46818777])\n",
      "shap       INFO  num_full_subsets = 1\n",
      "shap       INFO  remaining_weight_vector = array([0.20701126, 0.14490788, 0.11440096, 0.09660526, 0.08523993,\n",
      "       0.07762922, 0.07245394, 0.06900375, 0.06688056, 0.06586722])\n",
      "shap       INFO  num_paired_subset_sizes = 11\n",
      "shap       INFO  weight_left = 0.7167414131850209\n",
      "shap       INFO  np.sum(w_aug) = 23.0\n",
      "shap       INFO  np.sum(self.kernelWeights) = 0.9999999999999999\n",
      "shap       INFO  phi = array([ 1.27025660e+03, -5.32303251e+03, -8.11283548e+02,  1.87414204e+02,\n",
      "       -6.03433826e+02,  7.95236071e+02,  7.52207535e+01,  3.52744011e+02,\n",
      "       -3.29624255e+01,  5.45529516e+00, -3.64602200e+01,  1.91555203e+01,\n",
      "        2.45470855e+02,  5.65381124e+02,  2.93978677e+01, -3.73802879e+00,\n",
      "       -2.96602981e+02, -9.27666656e+01, -2.27064942e+01,  8.38812804e+01,\n",
      "       -1.58377279e+01, -4.04464445e+01,  2.83075289e+01])\n",
      "shap       INFO  num_full_subsets = 1\n",
      "shap       INFO  remaining_weight_vector = array([0.20701126, 0.14490788, 0.11440096, 0.09660526, 0.08523993,\n",
      "       0.07762922, 0.07245394, 0.06900375, 0.06688056, 0.06586722])\n",
      "shap       INFO  num_paired_subset_sizes = 11\n",
      "shap       INFO  weight_left = 0.7167414131850209\n",
      "shap       INFO  np.sum(w_aug) = 23.0\n",
      "shap       INFO  np.sum(self.kernelWeights) = 0.9999999999999999\n",
      "shap       INFO  phi = array([-1.29718371e+03, -8.02805939e+03,  4.69108615e+01,  1.03421016e+03,\n",
      "       -5.85238293e+02,  9.95347502e+02,  1.56683009e+02, -1.58794486e+03,\n",
      "       -3.15921561e+01, -2.56921279e+00, -3.88378887e+01, -2.58954865e+01,\n",
      "        3.61037845e+02,  2.87749367e+02,  2.03583572e+01, -6.42945700e+00,\n",
      "       -2.89866771e+02, -6.28877544e+01, -1.01569408e+01,  1.66204235e+02,\n",
      "       -9.12946904e+00, -4.13298496e+01,  1.90724860e+01])\n",
      "shap       INFO  num_full_subsets = 1\n",
      "shap       INFO  remaining_weight_vector = array([0.20701126, 0.14490788, 0.11440096, 0.09660526, 0.08523993,\n",
      "       0.07762922, 0.07245394, 0.06900375, 0.06688056, 0.06586722])\n",
      "shap       INFO  num_paired_subset_sizes = 11\n",
      "shap       INFO  weight_left = 0.7167414131850209\n",
      "shap       INFO  np.sum(w_aug) = 23.000000000000007\n",
      "shap       INFO  np.sum(self.kernelWeights) = 1.0000000000000002\n",
      "shap       INFO  phi = array([-4.58372337e+03, -6.30106254e+03, -3.05393809e+02,  8.15999571e+01,\n",
      "       -5.89792858e+02,  1.19543535e+03, -1.36569953e+01,  5.71374391e+02,\n",
      "       -2.75931565e+01,  1.21719487e+01, -9.03876332e+01, -3.40270931e+01,\n",
      "        3.24406322e+02,  1.25583726e+02,  3.20863505e+01, -5.73843251e+00,\n",
      "       -3.08632537e+02, -7.64084168e+00, -2.74517330e+01,  1.97820634e+02,\n",
      "       -1.96089928e+01, -4.42380246e+01,  0.00000000e+00])\n",
      "shap       INFO  num_full_subsets = 1\n",
      "shap       INFO  remaining_weight_vector = array([0.20701126, 0.14490788, 0.11440096, 0.09660526, 0.08523993,\n",
      "       0.07762922, 0.07245394, 0.06900375, 0.06688056, 0.06586722])\n",
      "shap       INFO  num_paired_subset_sizes = 11\n",
      "shap       INFO  weight_left = 0.7167414131850209\n",
      "shap       INFO  np.sum(w_aug) = 23.0\n",
      "shap       INFO  np.sum(self.kernelWeights) = 1.0\n",
      "shap       INFO  phi = array([ 5.35982069e+03, -6.86847843e+03, -3.61589662e+02, -1.73280310e+02,\n",
      "       -5.99645131e+02,  8.59182682e+02,  1.55153673e+02, -7.65628297e+02,\n",
      "       -1.98689166e+01,  1.21993104e+01, -1.10018471e+02, -1.28169032e+01,\n",
      "        5.36400786e+02, -2.38523630e+01,  3.24872810e+01,  0.00000000e+00,\n",
      "       -3.08054050e+02,  7.09294459e+01, -2.26571186e+01,  2.05193177e+02,\n",
      "       -8.75327295e+00, -3.93551168e+01,  4.56423391e+00])\n",
      "shap       INFO  num_full_subsets = 1\n",
      "shap       INFO  remaining_weight_vector = array([0.20701126, 0.14490788, 0.11440096, 0.09660526, 0.08523993,\n",
      "       0.07762922, 0.07245394, 0.06900375, 0.06688056, 0.06586722])\n",
      "shap       INFO  num_paired_subset_sizes = 11\n",
      "shap       INFO  weight_left = 0.7167414131850209\n",
      "shap       INFO  np.sum(w_aug) = 23.000000000000007\n",
      "shap       INFO  np.sum(self.kernelWeights) = 1.0000000000000002\n",
      "shap       INFO  phi = array([ 8.65462830e+03, -8.04163463e+03, -2.74706743e+02, -1.88624236e+02,\n",
      "       -6.06275847e+02,  9.03499493e+02,  2.10176879e+02, -1.47390439e+03,\n",
      "       -7.11235485e+00,  1.62643810e+01,  4.87522967e+00, -1.55567950e+01,\n",
      "        6.27639112e+02, -1.58792153e+02,  3.08102387e+01, -5.94607102e+00,\n",
      "       -3.28993146e+02,  1.26246338e+02,  3.03649799e+00,  8.30707504e+01,\n",
      "        1.44648573e+01, -3.98103803e+01,  1.63261949e+01])\n",
      "shap       INFO  num_full_subsets = 1\n",
      "shap       INFO  remaining_weight_vector = array([0.20701126, 0.14490788, 0.11440096, 0.09660526, 0.08523993,\n",
      "       0.07762922, 0.07245394, 0.06900375, 0.06688056, 0.06586722])\n",
      "shap       INFO  num_paired_subset_sizes = 11\n",
      "shap       INFO  weight_left = 0.7167414131850209\n",
      "shap       INFO  np.sum(w_aug) = 23.000000000000004\n",
      "shap       INFO  np.sum(self.kernelWeights) = 1.0000000000000004\n",
      "shap       INFO  phi = array([ 5709.95539198, -5111.51294782,  -880.64005773,  -944.17104687,\n",
      "        -598.68067773,   750.35415758,   454.71738654,   791.32860649,\n",
      "          -8.70116596,     8.92734161,     0.        ,    86.86762777,\n",
      "         890.74163524,   -17.19841158,    25.08908784,     0.        ,\n",
      "        -264.81564829,    36.89974583,     6.53948576,   -76.83013398,\n",
      "          27.31383438,   -41.39688421,     9.61359283])\n",
      "shap       INFO  num_full_subsets = 1\n",
      "shap       INFO  remaining_weight_vector = array([0.20701126, 0.14490788, 0.11440096, 0.09660526, 0.08523993,\n",
      "       0.07762922, 0.07245394, 0.06900375, 0.06688056, 0.06586722])\n",
      "shap       INFO  num_paired_subset_sizes = 11\n",
      "shap       INFO  weight_left = 0.7167414131850209\n",
      "shap       INFO  np.sum(w_aug) = 23.000000000000007\n",
      "shap       INFO  np.sum(self.kernelWeights) = 1.0000000000000004\n",
      "shap       INFO  phi = array([ 7.50557927e+03, -5.90396921e+03, -8.79513251e+02, -6.41745362e+02,\n",
      "       -6.05533808e+02,  7.60490477e+02,  4.66931407e+02,  1.72987964e+02,\n",
      "       -9.75211650e+00,  4.63060983e+00, -9.81768166e+00,  6.22112243e+01,\n",
      "        0.00000000e+00,  2.88797597e+02,  0.00000000e+00,  8.99667833e+00,\n",
      "       -2.44576320e+02,  3.21609962e+01, -1.13035996e+01, -1.20110817e+02,\n",
      "        2.60894169e+01, -4.00400393e+01,  9.27453548e+00])\n",
      "shap       INFO  num_full_subsets = 1\n",
      "shap       INFO  remaining_weight_vector = array([0.20701126, 0.14490788, 0.11440096, 0.09660526, 0.08523993,\n",
      "       0.07762922, 0.07245394, 0.06900375, 0.06688056, 0.06586722])\n",
      "shap       INFO  num_paired_subset_sizes = 11\n",
      "shap       INFO  weight_left = 0.7167414131850209\n",
      "shap       INFO  np.sum(w_aug) = 23.000000000000004\n",
      "shap       INFO  np.sum(self.kernelWeights) = 1.0000000000000002\n",
      "shap       INFO  phi = array([ 1.01527996e+04, -7.85887168e+03, -2.63038418e+02,  3.25327522e+02,\n",
      "       -6.03348416e+02,  6.20915857e+02,  4.39056132e+02, -2.32103827e+03,\n",
      "       -1.95741296e+01,  2.12500075e+01, -1.54122504e+01,  8.37666237e+01,\n",
      "        7.21065917e+00,  2.80309654e+02, -3.77988909e+01,  6.51922196e+01,\n",
      "       -1.67303767e+02,  3.02022233e+01, -1.23219594e+01, -3.89071636e+01,\n",
      "        2.70523873e+01, -4.24540822e+01,  9.79698200e+00])\n",
      "shap       INFO  num_full_subsets = 1\n",
      "shap       INFO  remaining_weight_vector = array([0.20701126, 0.14490788, 0.11440096, 0.09660526, 0.08523993,\n",
      "       0.07762922, 0.07245394, 0.06900375, 0.06688056, 0.06586722])\n",
      "shap       INFO  num_paired_subset_sizes = 11\n",
      "shap       INFO  weight_left = 0.7167414131850209\n",
      "shap       INFO  np.sum(w_aug) = 23.000000000000007\n",
      "shap       INFO  np.sum(self.kernelWeights) = 1.0\n",
      "shap       INFO  phi = array([  347.07840823, -6952.87820463,  -487.59313387,  -204.61058895,\n",
      "        -588.22946229,   773.27237195,   410.82176627,   269.78766941,\n",
      "         -18.25500045,    17.42601303,   -19.85315694,    22.59706298,\n",
      "         -68.5543283 ,   291.88367116,     0.        ,    58.48530508,\n",
      "        -114.52152213,   -14.66898507,   -26.58396469,   205.40160804,\n",
      "         -34.85196027,   -34.22194281,     9.45904588])\n",
      "shap       INFO  num_full_subsets = 1\n",
      "shap       INFO  remaining_weight_vector = array([0.20701126, 0.14490788, 0.11440096, 0.09660526, 0.08523993,\n",
      "       0.07762922, 0.07245394, 0.06900375, 0.06688056, 0.06586722])\n",
      "shap       INFO  num_paired_subset_sizes = 11\n",
      "shap       INFO  weight_left = 0.7167414131850209\n",
      "shap       INFO  np.sum(w_aug) = 23.0\n",
      "shap       INFO  np.sum(self.kernelWeights) = 1.0\n",
      "shap       INFO  phi = array([ -888.09042229, -5737.04645039,  -617.46232813,   290.23893388,\n",
      "        -742.07187381,   785.71095587,   517.47566728,    45.6865767 ,\n",
      "         -16.63605854,    13.9560226 ,   -26.6086869 ,   122.90698734,\n",
      "         300.6988643 ,  -153.65723719,   -18.58680378,    69.12247864,\n",
      "        -198.18671526,    28.62913374,   -82.25867198,   240.39716418,\n",
      "         -33.99098401,   -19.6839696 ,    14.51008658])\n",
      "shap       INFO  num_full_subsets = 1\n",
      "shap       INFO  remaining_weight_vector = array([0.20701126, 0.14490788, 0.11440096, 0.09660526, 0.08523993,\n",
      "       0.07762922, 0.07245394, 0.06900375, 0.06688056, 0.06586722])\n",
      "shap       INFO  num_paired_subset_sizes = 11\n",
      "shap       INFO  weight_left = 0.7167414131850209\n",
      "shap       INFO  np.sum(w_aug) = 23.000000000000004\n",
      "shap       INFO  np.sum(self.kernelWeights) = 1.0000000000000004\n",
      "shap       INFO  phi = array([ 8868.61860025, -6685.49719054,  -577.65969495,    46.7005266 ,\n",
      "        -755.13024852,   505.74113367,   136.83826112, -1261.76009417,\n",
      "         -37.14239135,    15.18852019,    14.94825057,    53.65847757,\n",
      "         582.8196734 ,  -444.22792099,    11.20595054,    39.26131422,\n",
      "        -354.86686197,   127.24754086,   -94.64132883,   395.56004264,\n",
      "         -62.1318963 ,   -40.81421397,    21.62703905])\n",
      "shap       INFO  num_full_subsets = 1\n",
      "shap       INFO  remaining_weight_vector = array([0.20701126, 0.14490788, 0.11440096, 0.09660526, 0.08523993,\n",
      "       0.07762922, 0.07245394, 0.06900375, 0.06688056, 0.06586722])\n",
      "shap       INFO  num_paired_subset_sizes = 11\n",
      "shap       INFO  weight_left = 0.7167414131850209\n",
      "shap       INFO  np.sum(w_aug) = 23.000000000000004\n",
      "shap       INFO  np.sum(self.kernelWeights) = 1.0\n",
      "shap       INFO  phi = array([ 1.11018168e+04, -3.86601527e+03, -8.02972888e+02,  1.37330295e+02,\n",
      "       -7.40361177e+02,  4.59533327e+02,  2.67211779e+02, -1.36573298e+03,\n",
      "       -7.49901103e+00,  1.08649374e+01,  7.09991897e+01, -2.60293590e+01,\n",
      "        9.29849153e+02, -7.19616565e+02, -9.88714819e+01,  9.16551839e+01,\n",
      "       -3.87964366e+02,  3.16191600e+02, -1.07260935e+02,  4.94458723e+02,\n",
      "       -6.91583462e+01, -4.25552835e+01,  1.49316466e+01])\n",
      "shap       INFO  num_full_subsets = 1\n",
      "shap       INFO  remaining_weight_vector = array([0.20701126, 0.14490788, 0.11440096, 0.09660526, 0.08523993,\n",
      "       0.07762922, 0.07245394, 0.06900375, 0.06688056, 0.06586722])\n",
      "shap       INFO  num_paired_subset_sizes = 11\n",
      "shap       INFO  weight_left = 0.7167414131850209\n",
      "shap       INFO  np.sum(w_aug) = 23.000000000000007\n",
      "shap       INFO  np.sum(self.kernelWeights) = 1.0000000000000002\n",
      "shap       INFO  phi = array([ 1.38159785e+04, -5.82630669e+03, -1.09253049e+03, -3.92879569e+02,\n",
      "       -7.17847158e+02,  3.41935402e+02,  7.88484380e+01, -7.03639385e+02,\n",
      "       -1.32550772e+01,  1.14458263e+01,  5.74012973e+01, -2.92243331e+01,\n",
      "        1.11886217e+03, -1.00128554e+03,  0.00000000e+00,  7.56086177e+01,\n",
      "       -5.16160856e+02,  3.61065213e+02, -1.24669139e+02,  5.38191192e+02,\n",
      "       -8.43260854e+01, -3.90290014e+01,  8.70343101e+00])\n",
      "shap       INFO  num_full_subsets = 1\n",
      "shap       INFO  remaining_weight_vector = array([0.20701126, 0.14490788, 0.11440096, 0.09660526, 0.08523993,\n",
      "       0.07762922, 0.07245394, 0.06900375, 0.06688056, 0.06586722])\n",
      "shap       INFO  num_paired_subset_sizes = 11\n",
      "shap       INFO  weight_left = 0.7167414131850209\n",
      "shap       INFO  np.sum(w_aug) = 23.000000000000004\n",
      "shap       INFO  np.sum(self.kernelWeights) = 1.0000000000000002\n",
      "shap       INFO  phi = array([ 9.88173443e+03, -4.26030217e+03, -1.02069668e+03, -5.62856811e+02,\n",
      "       -6.55499371e+02,  4.34319258e+02,  3.37105974e+01,  5.34150485e+01,\n",
      "       -2.67009767e+01,  1.23141255e+01,  5.83357011e+01, -4.53948921e+01,\n",
      "        1.11030794e+03, -9.94420337e+02,  3.22551426e+01,  1.46690868e+01,\n",
      "       -5.19927922e+02,  4.15397408e+02, -1.03872406e+02,  5.07467977e+02,\n",
      "       -6.32264358e+01, -4.12246816e+01,  9.37585559e+00])\n",
      "shap       INFO  num_full_subsets = 1\n",
      "shap       INFO  remaining_weight_vector = array([0.20701126, 0.14490788, 0.11440096, 0.09660526, 0.08523993,\n",
      "       0.07762922, 0.07245394, 0.06900375, 0.06688056, 0.06586722])\n",
      "shap       INFO  num_paired_subset_sizes = 11\n",
      "shap       INFO  weight_left = 0.7167414131850209\n",
      "shap       INFO  np.sum(w_aug) = 23.000000000000007\n",
      "shap       INFO  np.sum(self.kernelWeights) = 1.0000000000000004\n",
      "shap       INFO  phi = array([ 3670.22430528, -3569.13256635,  -590.37471777,   518.88091794,\n",
      "        -567.64249377,   618.09428154,   208.94669177,  -766.86403061,\n",
      "         -29.17264001,    20.01518469,   143.91058941,   -39.76050948,\n",
      "        1207.94778633,  -995.93664354,    18.04277666,     0.        ,\n",
      "        -514.37154109,   461.40551614,   -67.87362934,   412.8171331 ,\n",
      "         -48.10342167,   -42.98838609,    29.01145034])\n",
      "shap       INFO  num_full_subsets = 1\n",
      "shap       INFO  remaining_weight_vector = array([0.20701126, 0.14490788, 0.11440096, 0.09660526, 0.08523993,\n",
      "       0.07762922, 0.07245394, 0.06900375, 0.06688056, 0.06586722])\n",
      "shap       INFO  num_paired_subset_sizes = 11\n",
      "shap       INFO  weight_left = 0.7167414131850209\n",
      "shap       INFO  np.sum(w_aug) = 23.000000000000007\n",
      "shap       INFO  np.sum(self.kernelWeights) = 1.0\n",
      "shap       INFO  phi = array([-7.26068227e+03, -2.38389725e+03, -5.73695841e+02,  2.82975328e+02,\n",
      "       -5.50347253e+02,  5.69275170e+02,  8.44561580e+01,  1.38548764e+03,\n",
      "       -2.20601817e+01,  3.15262545e+00,  3.13448497e+02, -4.59256829e+01,\n",
      "        1.07745812e+03, -9.96355001e+02,  3.17646157e+01,  1.41066202e+01,\n",
      "       -4.61763575e+02,  4.52958089e+02, -6.02646956e+01,  3.36324804e+02,\n",
      "       -3.85974390e+01, -3.96987835e+01,  1.87890209e+01])\n",
      "shap       INFO  num_full_subsets = 1\n",
      "shap       INFO  remaining_weight_vector = array([0.20701126, 0.14490788, 0.11440096, 0.09660526, 0.08523993,\n",
      "       0.07762922, 0.07245394, 0.06900375, 0.06688056, 0.06586722])\n",
      "shap       INFO  num_paired_subset_sizes = 11\n",
      "shap       INFO  weight_left = 0.7167414131850209\n",
      "shap       INFO  np.sum(w_aug) = 23.000000000000007\n",
      "shap       INFO  np.sum(self.kernelWeights) = 1.0\n",
      "shap       INFO  phi = array([-4.61775789e+03, -5.37852553e+03, -2.56276161e+02,  1.61902454e+03,\n",
      "       -5.43152477e+02,  7.14328912e+02,  1.19847036e+02, -1.03500753e+03,\n",
      "       -2.66046948e+01,  5.25817707e+00,  3.09224326e+02, -3.18556662e+01,\n",
      "        1.08019951e+03, -9.98627130e+02,  2.87856529e+01,  6.37200053e+00,\n",
      "       -5.23941749e+02,  4.06215793e+02, -4.92710383e+01,  3.49147807e+02,\n",
      "       -4.07539679e+01, -3.68714075e+01,  2.33006545e+01])\n",
      "shap       INFO  num_full_subsets = 1\n",
      "shap       INFO  remaining_weight_vector = array([0.20701126, 0.14490788, 0.11440096, 0.09660526, 0.08523993,\n",
      "       0.07762922, 0.07245394, 0.06900375, 0.06688056, 0.06586722])\n",
      "shap       INFO  num_paired_subset_sizes = 11\n",
      "shap       INFO  weight_left = 0.7167414131850209\n",
      "shap       INFO  np.sum(w_aug) = 23.000000000000004\n",
      "shap       INFO  np.sum(self.kernelWeights) = 1.0000000000000004\n",
      "shap       INFO  phi = array([  219.45729079, -2854.85898741,  -127.05981656,  1237.38290966,\n",
      "        -540.49728665,   402.34554101,   261.47788508, -1644.83748984,\n",
      "         -13.74611693,    -5.4087553 ,   251.45648501,   -24.62278367,\n",
      "        1120.4418044 ,  -863.81410423,    15.32704816,     0.        ,\n",
      "        -493.6951898 ,   362.19624032,   -35.98299344,   221.27040857,\n",
      "           6.49696662,   -44.65481919,   -21.49034244])\n",
      "shap       INFO  num_full_subsets = 1\n",
      "shap       INFO  remaining_weight_vector = array([0.20701126, 0.14490788, 0.11440096, 0.09660526, 0.08523993,\n",
      "       0.07762922, 0.07245394, 0.06900375, 0.06688056, 0.06586722])\n",
      "shap       INFO  num_paired_subset_sizes = 11\n",
      "shap       INFO  weight_left = 0.7167414131850209\n",
      "shap       INFO  np.sum(w_aug) = 23.0\n",
      "shap       INFO  np.sum(self.kernelWeights) = 1.0000000000000002\n",
      "shap       INFO  phi = array([-678.68588418, -437.97355288, -114.04766692,  269.09102887,\n",
      "       -427.71793652,  739.39627683,  181.53461794, -453.70670347,\n",
      "          0.        ,   -4.63428942,  338.73022669,  -35.82821108,\n",
      "       1037.0429002 , -716.04712945,   24.13036497,   14.84820746,\n",
      "       -451.70218555,  366.03670862,  -22.1066187 ,  172.14001345,\n",
      "        -13.54566392,  -42.8131507 ,   27.22425142])\n",
      "shap       INFO  num_full_subsets = 1\n",
      "shap       INFO  remaining_weight_vector = array([0.20701126, 0.14490788, 0.11440096, 0.09660526, 0.08523993,\n",
      "       0.07762922, 0.07245394, 0.06900375, 0.06688056, 0.06586722])\n",
      "shap       INFO  num_paired_subset_sizes = 11\n",
      "shap       INFO  weight_left = 0.7167414131850209\n",
      "shap       INFO  np.sum(w_aug) = 23.000000000000007\n",
      "shap       INFO  np.sum(self.kernelWeights) = 1.0\n",
      "shap       INFO  phi = array([ 3555.21344232, -2387.29940769,   -53.86931461,   188.96372648,\n",
      "        -257.91907014,   586.31357167,   411.87343026, -1102.72011689,\n",
      "           0.        ,     0.        ,   256.5787919 ,   -28.22437963,\n",
      "         887.28784165,  -868.43856409,    18.50712107,     0.        ,\n",
      "        -444.49157635,   357.15215298,   -45.1098259 ,   140.10726434,\n",
      "         -15.22641912,   -36.08421593,    24.10825011])\n",
      "shap       INFO  num_full_subsets = 1\n",
      "shap       INFO  remaining_weight_vector = array([0.20701126, 0.14490788, 0.11440096, 0.09660526, 0.08523993,\n",
      "       0.07762922, 0.07245394, 0.06900375, 0.06688056, 0.06586722])\n",
      "shap       INFO  num_paired_subset_sizes = 11\n",
      "shap       INFO  weight_left = 0.7167414131850209\n",
      "shap       INFO  np.sum(w_aug) = 23.000000000000004\n",
      "shap       INFO  np.sum(self.kernelWeights) = 1.0\n",
      "shap       INFO  phi = array([ 3193.05090338, -4444.58974079,   -10.21986985,  1121.01345655,\n",
      "        -143.52902393,   719.00273391,   194.12132061, -1964.04361205,\n",
      "           0.        ,    -8.49651572,   273.3375971 ,   -12.04816467,\n",
      "         966.31886152,  -995.93638382,    26.31085648,     0.        ,\n",
      "        -439.23631149,   442.76446973,   -32.06187706,   195.45440344,\n",
      "         -26.20432934,   -33.74794153,    20.84855158])\n",
      "shap       INFO  num_full_subsets = 1\n",
      "shap       INFO  remaining_weight_vector = array([0.20701126, 0.14490788, 0.11440096, 0.09660526, 0.08523993,\n",
      "       0.07762922, 0.07245394, 0.06900375, 0.06688056, 0.06586722])\n",
      "shap       INFO  num_paired_subset_sizes = 11\n",
      "shap       INFO  weight_left = 0.7167414131850209\n",
      "shap       INFO  np.sum(w_aug) = 23.000000000000004\n",
      "shap       INFO  np.sum(self.kernelWeights) = 1.0000000000000002\n",
      "shap       INFO  phi = array([ -305.16356009, -2449.61230856,  -497.86565789,   -48.52177916,\n",
      "        -139.79104937,   450.87027112,   293.64259438,   701.78145782,\n",
      "          20.89214079,    -3.09030686,   276.8154573 ,   -12.72732518,\n",
      "         989.29855871, -1001.45533274,    33.91235204,    -3.70730329,\n",
      "        -488.34399614,   445.40216955,   -60.73780285,   273.92819495,\n",
      "         -38.71600396,   -40.65023131,    14.14586348])\n",
      "shap       INFO  num_full_subsets = 1\n",
      "shap       INFO  remaining_weight_vector = array([0.20701126, 0.14490788, 0.11440096, 0.09660526, 0.08523993,\n",
      "       0.07762922, 0.07245394, 0.06900375, 0.06688056, 0.06586722])\n",
      "shap       INFO  num_paired_subset_sizes = 11\n",
      "shap       INFO  weight_left = 0.7167414131850209\n",
      "shap       INFO  np.sum(w_aug) = 23.000000000000004\n",
      "shap       INFO  np.sum(self.kernelWeights) = 1.0\n",
      "shap       INFO  phi = array([  696.62266752, -7523.43295407,  -158.44682239,   767.15635693,\n",
      "        -163.88725105,   739.70246874,   222.68401719,  -924.49638878,\n",
      "           0.        ,     0.        ,   267.69864056,   -26.17270968,\n",
      "         984.38292342,  -995.92539097,    28.88607345,     0.        ,\n",
      "        -463.23310847,   448.35937165,   -88.41551561,   372.88968357,\n",
      "         -50.09165581,   -41.32371972,     8.97166044])\n",
      "shap       INFO  num_full_subsets = 1\n",
      "shap       INFO  remaining_weight_vector = array([0.20701126, 0.14490788, 0.11440096, 0.09660526, 0.08523993,\n",
      "       0.07762922, 0.07245394, 0.06900375, 0.06688056, 0.06586722])\n",
      "shap       INFO  num_paired_subset_sizes = 11\n",
      "shap       INFO  weight_left = 0.7167414131850209\n",
      "shap       INFO  np.sum(w_aug) = 23.000000000000007\n",
      "shap       INFO  np.sum(self.kernelWeights) = 1.0000000000000004\n",
      "shap       INFO  phi = array([-2843.21501426, -6686.05982721,   148.92338704,  1890.84806688,\n",
      "        -126.59322108,   949.88229071,   191.32490372, -2029.35753139,\n",
      "         -20.65349989,     0.        ,   270.00237634,   -23.91393678,\n",
      "        1225.30784098,  -993.42042287,    12.3416741 ,     0.        ,\n",
      "        -603.89289173,   454.24580708,   -71.12360548,   330.03540884,\n",
      "         -36.649732  ,   -39.84684082,     0.        ])\n",
      "shap       INFO  num_full_subsets = 1\n",
      "shap       INFO  remaining_weight_vector = array([0.20701126, 0.14490788, 0.11440096, 0.09660526, 0.08523993,\n",
      "       0.07762922, 0.07245394, 0.06900375, 0.06688056, 0.06586722])\n",
      "shap       INFO  num_paired_subset_sizes = 11\n",
      "shap       INFO  weight_left = 0.7167414131850209\n",
      "shap       INFO  np.sum(w_aug) = 23.000000000000007\n",
      "shap       INFO  np.sum(self.kernelWeights) = 1.0000000000000004\n",
      "shap       INFO  phi = array([ 3.77542788e+03, -6.35753863e+03, -4.30294403e+02,  4.83265414e+02,\n",
      "       -1.37057581e+02,  5.95876287e+02,  1.26100915e+02, -6.10281811e+02,\n",
      "        0.00000000e+00, -5.68632272e+00,  2.57499026e+02, -2.86761169e+01,\n",
      "        1.30456824e+03, -1.00390423e+03,  2.43712667e+01,  0.00000000e+00,\n",
      "       -6.28026000e+02,  4.47466312e+02, -4.35211972e+01,  2.93860801e+02,\n",
      "       -4.61866190e+01, -3.56632607e+01,  0.00000000e+00])\n",
      "shap       INFO  num_full_subsets = 1\n",
      "shap       INFO  remaining_weight_vector = array([0.20701126, 0.14490788, 0.11440096, 0.09660526, 0.08523993,\n",
      "       0.07762922, 0.07245394, 0.06900375, 0.06688056, 0.06586722])\n",
      "shap       INFO  num_paired_subset_sizes = 11\n",
      "shap       INFO  weight_left = 0.7167414131850209\n",
      "shap       INFO  np.sum(w_aug) = 23.000000000000007\n",
      "shap       INFO  np.sum(self.kernelWeights) = 1.0000000000000004\n",
      "shap       INFO  phi = array([ 6.57997069e+03, -6.93015632e+03, -2.20327633e+02,  1.02526929e+03,\n",
      "       -1.20885941e+02,  5.36834317e+02,  2.13434566e+02, -2.03105569e+03,\n",
      "       -3.52707419e+01, -1.37193047e+01,  3.84457821e+02, -2.67831693e+01,\n",
      "        1.21156122e+03, -1.14319812e+03,  3.39182985e+01, -8.73227756e+00,\n",
      "       -7.06040135e+02,  4.61336350e+02, -3.38472013e+01,  3.33528988e+02,\n",
      "       -4.52551076e+01, -4.71912682e+01, -3.55626473e+00])\n",
      "shap       INFO  num_full_subsets = 1\n",
      "shap       INFO  remaining_weight_vector = array([0.20701126, 0.14490788, 0.11440096, 0.09660526, 0.08523993,\n",
      "       0.07762922, 0.07245394, 0.06900375, 0.06688056, 0.06586722])\n",
      "shap       INFO  num_paired_subset_sizes = 11\n",
      "shap       INFO  weight_left = 0.7167414131850209\n",
      "shap       INFO  np.sum(w_aug) = 23.000000000000007\n",
      "shap       INFO  np.sum(self.kernelWeights) = 1.0000000000000002\n",
      "shap       INFO  phi = array([ 2.40537193e+03, -4.34979884e+03, -4.47949440e+02,  7.56360649e+02,\n",
      "       -1.16878198e+02,  7.38239802e+02,  1.67613476e+02, -6.74389413e+02,\n",
      "       -1.83914746e+01, -1.41486915e+01,  3.93102845e+02, -3.48434508e+01,\n",
      "        1.45065290e+03, -1.43792430e+03,  2.45919215e+01, -2.97354353e+00,\n",
      "       -6.49689349e+02,  4.55236634e+02, -2.74379028e+01,  3.11038235e+02,\n",
      "       -3.39273946e+01, -3.55271020e+01, -7.37721671e+00])\n",
      "shap       INFO  num_full_subsets = 1\n",
      "shap       INFO  remaining_weight_vector = array([0.20701126, 0.14490788, 0.11440096, 0.09660526, 0.08523993,\n",
      "       0.07762922, 0.07245394, 0.06900375, 0.06688056, 0.06586722])\n",
      "shap       INFO  num_paired_subset_sizes = 11\n",
      "shap       INFO  weight_left = 0.7167414131850209\n",
      "shap       INFO  np.sum(w_aug) = 23.000000000000007\n",
      "shap       INFO  np.sum(self.kernelWeights) = 1.0000000000000002\n",
      "shap       INFO  phi = array([ 2.86447990e+03, -4.74707174e+03, -1.17074219e+01,  1.93776057e+03,\n",
      "       -9.72018280e+01,  8.20579599e+02,  3.28325622e+02, -2.78163693e+03,\n",
      "       -2.90755665e+01, -1.60608512e+01,  3.87248069e+02, -3.64751600e+01,\n",
      "        1.31488868e+03, -1.14985721e+03,  3.48351828e+01, -1.22063221e+01,\n",
      "       -7.12549123e+02,  4.55111789e+02, -1.94084502e+01,  2.71755589e+02,\n",
      "       -1.80479313e+01, -4.69161128e+01, -2.76248160e+00])\n",
      "shap       INFO  num_full_subsets = 1\n",
      "shap       INFO  remaining_weight_vector = array([0.20701126, 0.14490788, 0.11440096, 0.09660526, 0.08523993,\n",
      "       0.07762922, 0.07245394, 0.06900375, 0.06688056, 0.06586722])\n",
      "shap       INFO  num_paired_subset_sizes = 11\n",
      "shap       INFO  weight_left = 0.7167414131850209\n",
      "shap       INFO  np.sum(w_aug) = 23.000000000000007\n",
      "shap       INFO  np.sum(self.kernelWeights) = 1.0000000000000004\n",
      "shap       INFO  phi = array([-1272.43969407, -2206.40802481,  -349.19679082,  1095.95109545,\n",
      "         -95.93923988,   647.23518629,   357.21812896,  -582.16505101,\n",
      "         -18.17659607,     3.61063274,   337.56361847,   -26.15108676,\n",
      "        1292.11979119, -1000.63873303,    22.95593766,   -12.17562078,\n",
      "        -652.95903404,   453.80636853,   -31.29072225,   280.66487427,\n",
      "         -44.14620316,   -45.23802468,    -8.52336801])\n",
      "shap       INFO  num_full_subsets = 1\n",
      "shap       INFO  remaining_weight_vector = array([0.20701126, 0.14490788, 0.11440096, 0.09660526, 0.08523993,\n",
      "       0.07762922, 0.07245394, 0.06900375, 0.06688056, 0.06586722])\n",
      "shap       INFO  num_paired_subset_sizes = 11\n",
      "shap       INFO  weight_left = 0.7167414131850209\n",
      "shap       INFO  np.sum(w_aug) = 23.000000000000004\n",
      "shap       INFO  np.sum(self.kernelWeights) = 1.0000000000000002\n",
      "shap       INFO  phi = array([-5288.45110668, -3105.571709  ,  -534.96665287,   598.26360593,\n",
      "        -142.72487114,   759.13237794,    40.31861963,   971.81364933,\n",
      "         -25.60954939,     0.        ,   167.72263355,   -28.19178383,\n",
      "        1261.39274478, -1717.35746891,    29.60847855,   -10.09230984,\n",
      "        -641.56388528,   502.30267057,   -59.2305369 ,   403.16488706,\n",
      "         -48.94088521,   -44.7415049 ,    -7.26038891])\n",
      "shap       INFO  num_full_subsets = 1\n",
      "shap       INFO  remaining_weight_vector = array([0.20701126, 0.14490788, 0.11440096, 0.09660526, 0.08523993,\n",
      "       0.07762922, 0.07245394, 0.06900375, 0.06688056, 0.06586722])\n",
      "shap       INFO  num_paired_subset_sizes = 11\n",
      "shap       INFO  weight_left = 0.7167414131850209\n",
      "shap       INFO  np.sum(w_aug) = 23.0\n",
      "shap       INFO  np.sum(self.kernelWeights) = 0.9999999999999999\n",
      "shap       INFO  phi = array([-5.50959855e+03, -3.07020028e+03, -2.25061193e+02,  1.07273813e+03,\n",
      "       -1.18747134e+02,  1.06422788e+03,  5.75506631e+01, -6.34133298e+01,\n",
      "       -3.99345228e+01,  1.33577684e+01, -2.59484622e+02, -3.84938374e+01,\n",
      "        1.52171683e+03, -1.30875644e+03,  2.64480709e+01, -5.47368023e+00,\n",
      "       -6.79426845e+02,  5.08234854e+02, -5.92747996e+01,  4.26001385e+02,\n",
      "       -5.41017464e+01, -4.15415724e+01,  0.00000000e+00])\n",
      "shap       INFO  num_full_subsets = 1\n",
      "shap       INFO  remaining_weight_vector = array([0.20701126, 0.14490788, 0.11440096, 0.09660526, 0.08523993,\n",
      "       0.07762922, 0.07245394, 0.06900375, 0.06688056, 0.06586722])\n",
      "shap       INFO  num_paired_subset_sizes = 11\n",
      "shap       INFO  weight_left = 0.7167414131850209\n",
      "shap       INFO  np.sum(w_aug) = 23.0\n",
      "shap       INFO  np.sum(self.kernelWeights) = 1.0000000000000002\n",
      "shap       INFO  phi = array([ 2764.6956202 , -2077.30074939,  -333.78570186,   468.2936017 ,\n",
      "        -126.23508472,   817.09582327,   552.14379835,  -788.27675979,\n",
      "         -26.33039079,    20.02990278,  -187.79232744,   -21.76837712,\n",
      "        1474.25662458, -1429.78957029,    26.93319884,     4.88803123,\n",
      "        -761.61170918,   605.58042868,   -55.77138017,   354.60721233,\n",
      "         -35.25556991,    -7.95986421,    10.73502939])\n",
      "shap       INFO  num_full_subsets = 1\n",
      "shap       INFO  remaining_weight_vector = array([0.20701126, 0.14490788, 0.11440096, 0.09660526, 0.08523993,\n",
      "       0.07762922, 0.07245394, 0.06900375, 0.06688056, 0.06586722])\n",
      "shap       INFO  num_paired_subset_sizes = 11\n",
      "shap       INFO  weight_left = 0.7167414131850209\n",
      "shap       INFO  np.sum(w_aug) = 23.000000000000004\n",
      "shap       INFO  np.sum(self.kernelWeights) = 1.0\n",
      "shap       INFO  phi = array([ 3301.66610169, -1130.06776395,  -149.35886629,  1092.43032996,\n",
      "           0.        ,   833.19834551,   601.45213615, -1763.54356443,\n",
      "         -21.77927643,    10.86759899,  -176.92791743,   170.86076985,\n",
      "        1415.83261256, -1429.79811469,    18.26383581,    -9.53648724,\n",
      "        -803.7725862 ,   597.32719619,   -77.03157867,   253.69566177,\n",
      "         -28.66784496,   -12.57259044,    28.24079045])\n",
      "shap       INFO  num_full_subsets = 1\n",
      "shap       INFO  remaining_weight_vector = array([0.20701126, 0.14490788, 0.11440096, 0.09660526, 0.08523993,\n",
      "       0.07762922, 0.07245394, 0.06900375, 0.06688056, 0.06586722])\n",
      "shap       INFO  num_paired_subset_sizes = 11\n",
      "shap       INFO  weight_left = 0.7167414131850209\n",
      "shap       INFO  np.sum(w_aug) = 23.000000000000007\n",
      "shap       INFO  np.sum(self.kernelWeights) = 1.0\n",
      "shap       INFO  phi = array([ 3.77031280e+03, -1.99690945e+03, -2.02569773e+02,  8.13129354e+02,\n",
      "        1.28762614e+02,  4.16212033e+02,  3.39812037e+02, -1.18019284e+03,\n",
      "        3.40526842e+00,  1.27580692e+01, -1.76466467e+02, -2.28191823e+01,\n",
      "        1.38738855e+03, -1.44869929e+03,  2.16613767e+01, -3.91522640e+00,\n",
      "       -7.87779016e+02,  6.00107260e+02, -9.49130438e+01,  3.78770091e+02,\n",
      "       -5.82098481e+01, -1.68840982e+01,  2.13061733e+01])\n",
      "shap       INFO  num_full_subsets = 1\n",
      "shap       INFO  remaining_weight_vector = array([0.20701126, 0.14490788, 0.11440096, 0.09660526, 0.08523993,\n",
      "       0.07762922, 0.07245394, 0.06900375, 0.06688056, 0.06586722])\n",
      "shap       INFO  num_paired_subset_sizes = 11\n",
      "shap       INFO  weight_left = 0.7167414131850209\n",
      "shap       INFO  np.sum(w_aug) = 23.000000000000007\n",
      "shap       INFO  np.sum(self.kernelWeights) = 1.0000000000000004\n",
      "shap       INFO  phi = array([-3073.05353637, -3510.58869352,   353.99501941,  2238.06539648,\n",
      "         183.51007858,  1067.95069949,   159.47427275, -2461.33650943,\n",
      "           9.668824  ,     3.73039349,  -160.32062055,   -41.88554702,\n",
      "        1478.0312093 , -1427.5812619 ,    24.20972766,    -8.90777933,\n",
      "        -808.19364627,   604.90085365,  -106.23145373,   450.83634504,\n",
      "         -68.69173732,   -15.04928795,    12.6562342 ])\n",
      "shap       INFO  num_full_subsets = 1\n",
      "shap       INFO  remaining_weight_vector = array([0.20701126, 0.14490788, 0.11440096, 0.09660526, 0.08523993,\n",
      "       0.07762922, 0.07245394, 0.06900375, 0.06688056, 0.06586722])\n",
      "shap       INFO  num_paired_subset_sizes = 11\n",
      "shap       INFO  weight_left = 0.7167414131850209\n",
      "shap       INFO  np.sum(w_aug) = 23.000000000000004\n",
      "shap       INFO  np.sum(self.kernelWeights) = 1.0\n",
      "shap       INFO  phi = array([-2680.85207145, -2813.84509857,  -273.21862314,   862.72193691,\n",
      "         152.95457212,   784.20012316,   212.9549493 ,     0.        ,\n",
      "           0.        ,    10.74810856,  -162.98142952,   -40.47326455,\n",
      "        1592.48119571, -2295.56826781,    28.05848378,     0.        ,\n",
      "        -847.64892705,   888.83506121,  -108.24511194,   531.39658343,\n",
      "         -82.66920309,   -10.77441537,    11.62190093])\n",
      "shap       INFO  num_full_subsets = 1\n",
      "shap       INFO  remaining_weight_vector = array([0.20701126, 0.14490788, 0.11440096, 0.09660526, 0.08523993,\n",
      "       0.07762922, 0.07245394, 0.06900375, 0.06688056, 0.06586722])\n",
      "shap       INFO  num_paired_subset_sizes = 11\n",
      "shap       INFO  weight_left = 0.7167414131850209\n",
      "shap       INFO  np.sum(w_aug) = 23.000000000000007\n",
      "shap       INFO  np.sum(self.kernelWeights) = 1.0000000000000002\n",
      "shap       INFO  phi = array([ -447.62683073, -3211.81056584,  -864.78473608,    54.13870139,\n",
      "         190.73677638,   904.62135024,   316.55792917,  1428.37593424,\n",
      "          38.29438487,    15.67186495,  -133.94408995,   -32.013842  ,\n",
      "        1707.14999977, -2446.56911562,    28.39650003,   -10.50086323,\n",
      "        -941.90349506,   923.74354138,  -124.21995821,   551.19103147,\n",
      "         -84.87919008,   -38.01618862,    14.73712226])\n",
      "shap       INFO  num_full_subsets = 1\n",
      "shap       INFO  remaining_weight_vector = array([0.20701126, 0.14490788, 0.11440096, 0.09660526, 0.08523993,\n",
      "       0.07762922, 0.07245394, 0.06900375, 0.06688056, 0.06586722])\n",
      "shap       INFO  num_paired_subset_sizes = 11\n",
      "shap       INFO  weight_left = 0.7167414131850209\n",
      "shap       INFO  np.sum(w_aug) = 23.000000000000007\n",
      "shap       INFO  np.sum(self.kernelWeights) = 1.0000000000000002\n",
      "shap       INFO  phi = array([ 3662.06390722, -4932.77897355,  -378.6569019 ,  1188.186951  ,\n",
      "         182.93343695,  1204.53321676,   571.2274209 , -1424.73062304,\n",
      "          -5.50684469,    11.77584107,  -132.92967502,    14.20909494,\n",
      "        1748.56444321, -1873.950632  ,  -219.58428678,   206.30603129,\n",
      "       -1002.05930746,   686.08288109,  -135.08486994,   500.91254415,\n",
      "         -68.00817907,   -17.0742621 ,    23.31423067])\n",
      "shap       INFO  num_full_subsets = 1\n",
      "shap       INFO  remaining_weight_vector = array([0.20701126, 0.14490788, 0.11440096, 0.09660526, 0.08523993,\n",
      "       0.07762922, 0.07245394, 0.06900375, 0.06688056, 0.06586722])\n",
      "shap       INFO  num_paired_subset_sizes = 11\n",
      "shap       INFO  weight_left = 0.7167414131850209\n",
      "shap       INFO  np.sum(w_aug) = 23.000000000000007\n",
      "shap       INFO  np.sum(self.kernelWeights) = 1.0\n",
      "shap       INFO  phi = array([ 1.61270607e+04, -2.99373445e+03, -5.15163993e+02,  2.26465970e+02,\n",
      "        2.23344801e+02,  8.06226439e+02,  2.58715667e+02, -2.13092221e+03,\n",
      "        0.00000000e+00,  8.91947407e+00, -1.28923533e+02, -1.73370198e+01,\n",
      "        1.85489710e+03, -1.87091448e+03, -7.37039628e+01,  2.32644452e+02,\n",
      "       -1.00243565e+03,  6.92864238e+02, -1.36912468e+02,  6.07132784e+02,\n",
      "       -1.06990110e+02, -1.52142246e+01,  0.00000000e+00])\n",
      "shap       INFO  num_full_subsets = 1\n",
      "shap       INFO  remaining_weight_vector = array([0.20701126, 0.14490788, 0.11440096, 0.09660526, 0.08523993,\n",
      "       0.07762922, 0.07245394, 0.06900375, 0.06688056, 0.06586722])\n",
      "shap       INFO  num_paired_subset_sizes = 11\n",
      "shap       INFO  weight_left = 0.7167414131850209\n",
      "shap       INFO  np.sum(w_aug) = 23.000000000000004\n",
      "shap       INFO  np.sum(self.kernelWeights) = 1.0000000000000004\n",
      "shap       INFO  phi = array([ 2.32985287e+04, -7.08469748e+03, -7.92072192e+02, -1.16805234e+03,\n",
      "        2.02209949e+02,  3.55929695e+02,  1.73851744e+02, -1.32411122e+03,\n",
      "        9.20405245e+00,  2.63936428e+01, -1.34750431e+02, -3.92992867e+01,\n",
      "        1.89490583e+03, -1.87863591e+03, -3.52547650e+01,  2.30328535e+02,\n",
      "       -1.04415012e+03,  6.92896075e+02, -1.61894965e+02,  7.13628071e+02,\n",
      "       -1.23005572e+02, -1.51499507e+01,  0.00000000e+00])\n",
      "shap       INFO  num_full_subsets = 1\n",
      "shap       INFO  remaining_weight_vector = array([0.20701126, 0.14490788, 0.11440096, 0.09660526, 0.08523993,\n",
      "       0.07762922, 0.07245394, 0.06900375, 0.06688056, 0.06586722])\n",
      "shap       INFO  num_paired_subset_sizes = 11\n",
      "shap       INFO  weight_left = 0.7167414131850209\n",
      "shap       INFO  np.sum(w_aug) = 23.000000000000007\n",
      "shap       INFO  np.sum(self.kernelWeights) = 1.0000000000000004\n",
      "shap       INFO  phi = array([ 1.97412033e+04, -7.24876529e+03, -5.62108154e+02, -7.39025196e+02,\n",
      "        2.02996003e+02,  7.31945109e+02,  1.56753318e+02, -1.63550820e+03,\n",
      "       -2.36957722e+01,  1.09570837e+01, -1.07520976e+02, -3.13089601e+01,\n",
      "        2.02407815e+03, -1.87142353e+03,  0.00000000e+00,  1.83533489e+02,\n",
      "       -1.02720994e+03,  6.93483933e+02, -1.43207132e+02,  6.92599917e+02,\n",
      "       -7.58365394e+01, -1.81507876e+01,  3.52645627e+00])\n",
      "shap       INFO  num_full_subsets = 1\n",
      "shap       INFO  remaining_weight_vector = array([0.20701126, 0.14490788, 0.11440096, 0.09660526, 0.08523993,\n",
      "       0.07762922, 0.07245394, 0.06900375, 0.06688056, 0.06586722])\n",
      "shap       INFO  num_paired_subset_sizes = 11\n",
      "shap       INFO  weight_left = 0.7167414131850209\n",
      "shap       INFO  np.sum(w_aug) = 23.000000000000004\n",
      "shap       INFO  np.sum(self.kernelWeights) = 0.9999999999999999\n",
      "shap       INFO  phi = array([ 1.30761988e+04, -5.06963790e+03, -2.83162917e+02,  1.79787423e+02,\n",
      "        2.03512424e+02,  7.33219673e+02,  3.75764280e+02, -1.98696028e+03,\n",
      "       -9.71590287e+00,  1.95783659e+01, -1.08267912e+02, -2.21119552e+01,\n",
      "        2.01867855e+03, -1.87393235e+03,  2.56129052e+01,  1.03009394e+02,\n",
      "       -1.05922416e+03,  7.41889481e+02, -8.91680488e+01,  4.99706789e+02,\n",
      "       -6.74162209e+01, -1.09270654e+01,  2.46632073e+01])\n",
      "shap       INFO  num_full_subsets = 1\n",
      "shap       INFO  remaining_weight_vector = array([0.20701126, 0.14490788, 0.11440096, 0.09660526, 0.08523993,\n",
      "       0.07762922, 0.07245394, 0.06900375, 0.06688056, 0.06586722])\n",
      "shap       INFO  num_paired_subset_sizes = 11\n",
      "shap       INFO  weight_left = 0.7167414131850209\n",
      "shap       INFO  np.sum(w_aug) = 23.000000000000004\n",
      "shap       INFO  np.sum(self.kernelWeights) = 1.0000000000000004\n",
      "shap       INFO  phi = array([ 6563.08367861, -2965.88218579,  -551.71156076,  -168.98705554,\n",
      "         189.05878624,   439.9050092 ,   582.06033818,   -76.98350261,\n",
      "         -17.9473962 ,    17.07009731,   -92.64716687,   240.25251875,\n",
      "        2057.26358586, -1861.00207305,    23.32812835,    41.44597004,\n",
      "       -1056.86154171,   741.72809873,   -82.81763776,   406.01265434,\n",
      "         -55.5053244 ,   -17.1958295 ,    14.85029799])\n",
      "shap       INFO  num_full_subsets = 1\n",
      "shap       INFO  remaining_weight_vector = array([0.20701126, 0.14490788, 0.11440096, 0.09660526, 0.08523993,\n",
      "       0.07762922, 0.07245394, 0.06900375, 0.06688056, 0.06586722])\n",
      "shap       INFO  num_paired_subset_sizes = 11\n",
      "shap       INFO  weight_left = 0.7167414131850209\n",
      "shap       INFO  np.sum(w_aug) = 23.000000000000004\n",
      "shap       INFO  np.sum(self.kernelWeights) = 1.0\n",
      "shap       INFO  phi = array([ -803.63825322, -1564.92945785,  -459.92004825,   232.39858673,\n",
      "         206.43137265,   974.39528016,   565.56942603,   505.23974079,\n",
      "         -10.68641432,     9.75791591,   -81.94561577,    72.69950505,\n",
      "        1902.27002216, -1995.04948325,   -11.84836325,    31.74832578,\n",
      "        -993.53344975,   791.06239805,  -103.58971241,   355.51520898,\n",
      "         -59.85232448,    -5.56136509,    14.05175883])\n",
      "shap       INFO  num_full_subsets = 1\n",
      "shap       INFO  remaining_weight_vector = array([0.20701126, 0.14490788, 0.11440096, 0.09660526, 0.08523993,\n",
      "       0.07762922, 0.07245394, 0.06900375, 0.06688056, 0.06586722])\n",
      "shap       INFO  num_paired_subset_sizes = 11\n",
      "shap       INFO  weight_left = 0.7167414131850209\n",
      "shap       INFO  np.sum(w_aug) = 23.000000000000004\n",
      "shap       INFO  np.sum(self.kernelWeights) = 1.0000000000000004\n",
      "shap       INFO  phi = array([-3146.41670712,  -781.20997667,  -618.2056183 ,  -100.13165625,\n",
      "         183.39022737,   862.95795563,   480.76966528,  1555.84967116,\n",
      "          19.63415068,    11.65705989,   -77.42390386,     4.85639511,\n",
      "        1776.01426363, -2150.81660262,   -58.02446613,    89.2380769 ,\n",
      "        -994.24380076,   788.56402391,  -113.20845107,   377.96686672,\n",
      "         -45.98362767,    -4.7354457 ,    22.44428242])\n",
      "shap       INFO  num_full_subsets = 1\n",
      "shap       INFO  remaining_weight_vector = array([0.20701126, 0.14490788, 0.11440096, 0.09660526, 0.08523993,\n",
      "       0.07762922, 0.07245394, 0.06900375, 0.06688056, 0.06586722])\n",
      "shap       INFO  num_paired_subset_sizes = 11\n",
      "shap       INFO  weight_left = 0.7167414131850209\n",
      "shap       INFO  np.sum(w_aug) = 23.000000000000004\n",
      "shap       INFO  np.sum(self.kernelWeights) = 0.9999999999999999\n",
      "shap       INFO  phi = array([ 6474.31312678,  -749.67461461,  -980.97146153,  -690.71594841,\n",
      "         -84.85561316,   538.44638972,   385.47464119,  1039.78388501,\n",
      "          34.96849666,    13.959567  ,   -88.71534662,   -26.22025571,\n",
      "        1799.8970087 , -2155.43458933,    -6.9652659 ,    76.71127368,\n",
      "        -969.76582136,   784.65996058,  -115.37075154,   395.99517401,\n",
      "         -62.91958099,    -7.33664564,    11.08734126])\n",
      "shap       INFO  num_full_subsets = 1\n",
      "shap       INFO  remaining_weight_vector = array([0.20701126, 0.14490788, 0.11440096, 0.09660526, 0.08523993,\n",
      "       0.07762922, 0.07245394, 0.06900375, 0.06688056, 0.06586722])\n",
      "shap       INFO  num_paired_subset_sizes = 11\n",
      "shap       INFO  weight_left = 0.7167414131850209\n",
      "shap       INFO  np.sum(w_aug) = 23.0\n",
      "shap       INFO  np.sum(self.kernelWeights) = 1.0000000000000004\n",
      "shap       INFO  phi = array([ 1.35084485e+04, -4.27695450e+03, -9.91606545e+02, -8.10050652e+02,\n",
      "       -8.40255890e+01,  5.71143410e+02,  4.35225385e+02, -3.06370484e+01,\n",
      "        2.88851198e+01,  1.40201472e+01, -9.19691338e+01, -3.14282276e+01,\n",
      "        1.84918394e+03, -1.99451019e+03, -3.54220449e+01,  7.89676791e+01,\n",
      "       -9.99843340e+02,  7.84873029e+02, -1.26044320e+02,  4.09226261e+02,\n",
      "       -6.84242568e+01, -5.74959493e+00,  2.03804144e+01])\n",
      "shap       INFO  num_full_subsets = 1\n",
      "shap       INFO  remaining_weight_vector = array([0.20701126, 0.14490788, 0.11440096, 0.09660526, 0.08523993,\n",
      "       0.07762922, 0.07245394, 0.06900375, 0.06688056, 0.06586722])\n",
      "shap       INFO  num_paired_subset_sizes = 11\n",
      "shap       INFO  weight_left = 0.7167414131850209\n",
      "shap       INFO  np.sum(w_aug) = 23.000000000000004\n",
      "shap       INFO  np.sum(self.kernelWeights) = 1.0000000000000004\n",
      "shap       INFO  phi = array([ 1.64741298e+04, -6.51281172e+03, -5.73663570e+02, -1.54322389e+02,\n",
      "        1.12851004e+02,  6.41628406e+02,  2.96898449e+02, -1.75305273e+03,\n",
      "        9.85185469e+00,  6.68628769e+00, -8.89217778e+01, -3.77380151e+01,\n",
      "        1.78504235e+03, -2.00445115e+03,  7.39016490e+00,  4.95623973e+01,\n",
      "       -9.74758316e+02,  7.83316665e+02, -1.06219351e+02,  4.44756965e+02,\n",
      "       -7.77568339e+01, -1.51669393e+01,  2.40829165e+01])\n",
      "shap       INFO  num_full_subsets = 1\n",
      "shap       INFO  remaining_weight_vector = array([0.20701126, 0.14490788, 0.11440096, 0.09660526, 0.08523993,\n",
      "       0.07762922, 0.07245394, 0.06900375, 0.06688056, 0.06586722])\n",
      "shap       INFO  num_paired_subset_sizes = 11\n",
      "shap       INFO  weight_left = 0.7167414131850209\n",
      "shap       INFO  np.sum(w_aug) = 23.000000000000007\n",
      "shap       INFO  np.sum(self.kernelWeights) = 1.0\n",
      "shap       INFO  phi = array([ 1.24775128e+04, -5.13299986e+03, -4.34772325e+02,  9.40060284e+01,\n",
      "        1.95683912e+02,  5.63809212e+02,  1.57595175e+02, -1.43614655e+03,\n",
      "        3.92246786e+00,  1.72648110e+01, -8.95832431e+01, -4.55179045e+01,\n",
      "        1.87962881e+03, -2.00457356e+03,  1.57866832e+01,  3.26564886e+01,\n",
      "       -9.84892290e+02,  7.92410346e+02, -1.03336328e+02,  4.06504209e+02,\n",
      "       -6.37829598e+01, -3.86935105e+01,  0.00000000e+00])\n",
      "shap       INFO  num_full_subsets = 1\n",
      "shap       INFO  remaining_weight_vector = array([0.20701126, 0.14490788, 0.11440096, 0.09660526, 0.08523993,\n",
      "       0.07762922, 0.07245394, 0.06900375, 0.06688056, 0.06586722])\n",
      "shap       INFO  num_paired_subset_sizes = 11\n",
      "shap       INFO  weight_left = 0.7167414131850209\n",
      "shap       INFO  np.sum(w_aug) = 23.0\n",
      "shap       INFO  np.sum(self.kernelWeights) = 1.0000000000000002\n",
      "shap       INFO  phi = array([ 6320.28858378, -4175.41646304,   -17.92788917,  1217.3194163 ,\n",
      "         197.42563594,   627.98656879,   457.44143343, -2388.3993273 ,\n",
      "          11.1085764 ,    15.40471704,   -87.22622782,   -31.22725794,\n",
      "        1850.99733472, -2001.92232098,   -14.15018731,    19.52656622,\n",
      "        -973.25606705,   794.04734911,   -64.19114303,   324.89823873,\n",
      "         -32.11550629,   -40.11351215,     0.        ])\n",
      "shap       INFO  num_full_subsets = 1\n",
      "shap       INFO  remaining_weight_vector = array([0.20701126, 0.14490788, 0.11440096, 0.09660526, 0.08523993,\n",
      "       0.07762922, 0.07245394, 0.06900375, 0.06688056, 0.06586722])\n",
      "shap       INFO  num_paired_subset_sizes = 11\n",
      "shap       INFO  weight_left = 0.7167414131850209\n",
      "shap       INFO  np.sum(w_aug) = 23.000000000000007\n",
      "shap       INFO  np.sum(self.kernelWeights) = 1.0\n",
      "shap       INFO  phi = array([-1120.70493721, -3641.99011567,   381.39853515,  2604.23207956,\n",
      "         189.28183811,   922.76315638,   508.12545267, -3318.97240734,\n",
      "         -15.41396192,    17.81926611,  -122.18422153,     9.66472084,\n",
      "        1876.69844365, -1995.33618507,    -5.34524654,    39.82457819,\n",
      "        -869.76744087,   794.0757199 ,   -68.27986198,   232.29930099,\n",
      "         -26.11989942,   -34.39313802,     0.        ])\n",
      "shap       INFO  num_full_subsets = 1\n",
      "shap       INFO  remaining_weight_vector = array([0.20701126, 0.14490788, 0.11440096, 0.09660526, 0.08523993,\n",
      "       0.07762922, 0.07245394, 0.06900375, 0.06688056, 0.06586722])\n",
      "shap       INFO  num_paired_subset_sizes = 11\n",
      "shap       INFO  weight_left = 0.7167414131850209\n",
      "shap       INFO  np.sum(w_aug) = 23.000000000000004\n",
      "shap       INFO  np.sum(self.kernelWeights) = 1.0\n",
      "shap       INFO  phi = array([ 1381.60863469, -1650.3494667 ,  -416.85534856,   197.15639102,\n",
      "         206.99363808,   793.8851947 ,   412.15270887,   189.57085558,\n",
      "          14.86595975,    19.82349177,   -97.2910123 ,    10.57552914,\n",
      "        1745.96151917, -1871.33241603,   -35.59597721,    69.54882921,\n",
      "        -868.68022961,   690.52328735,   -98.38962046,   428.33603215,\n",
      "         -75.39936038,   -33.51922896,     6.41763203])\n",
      "shap       INFO  num_full_subsets = 1\n",
      "shap       INFO  remaining_weight_vector = array([0.20701126, 0.14490788, 0.11440096, 0.09660526, 0.08523993,\n",
      "       0.07762922, 0.07245394, 0.06900375, 0.06688056, 0.06586722])\n",
      "shap       INFO  num_paired_subset_sizes = 11\n",
      "shap       INFO  weight_left = 0.7167414131850209\n",
      "shap       INFO  np.sum(w_aug) = 23.0\n",
      "shap       INFO  np.sum(self.kernelWeights) = 0.9999999999999998\n",
      "shap       INFO  phi = array([ 1.79779983e+04, -4.79469217e+03, -8.74642618e+02, -1.35090660e+03,\n",
      "        1.99345900e+02,  5.99252540e+02,  2.77035353e+02, -1.65271937e+02,\n",
      "        3.08808083e+01,  1.42715928e+01, -2.72569917e+01, -3.82016117e+01,\n",
      "        1.87626289e+03, -1.85943385e+03,  0.00000000e+00,  8.01387251e+01,\n",
      "       -8.43518350e+02,  6.90481150e+02, -1.45549235e+02,  5.57900416e+02,\n",
      "       -9.95843544e+01,  1.07159487e+02,  5.74299790e+00])\n",
      "shap       INFO  num_full_subsets = 1\n",
      "shap       INFO  remaining_weight_vector = array([0.20701126, 0.14490788, 0.11440096, 0.09660526, 0.08523993,\n",
      "       0.07762922, 0.07245394, 0.06900375, 0.06688056, 0.06586722])\n",
      "shap       INFO  num_paired_subset_sizes = 11\n",
      "shap       INFO  weight_left = 0.7167414131850209\n",
      "shap       INFO  np.sum(w_aug) = 23.000000000000007\n",
      "shap       INFO  np.sum(self.kernelWeights) = 1.0000000000000004\n",
      "shap       INFO  phi = array([ 1.87724519e+04, -6.23970191e+03, -6.37154136e+02, -1.04708475e+03,\n",
      "        2.06649754e+02,  5.70958682e+02,  1.31555291e+02, -9.63404802e+02,\n",
      "        4.44467668e+01,  1.58460621e+01, -3.03539366e+01, -4.35981000e+01,\n",
      "        1.98467412e+03, -1.86716203e+03,  8.46776072e+00,  6.28335182e+01,\n",
      "       -9.67107411e+02,  7.40092722e+02, -1.25342816e+02,  5.60512253e+02,\n",
      "       -8.68043195e+01,  1.06469494e+02,  1.16594819e+01])\n",
      "shap       INFO  num_full_subsets = 1\n",
      "shap       INFO  remaining_weight_vector = array([0.20701126, 0.14490788, 0.11440096, 0.09660526, 0.08523993,\n",
      "       0.07762922, 0.07245394, 0.06900375, 0.06688056, 0.06586722])\n",
      "shap       INFO  num_paired_subset_sizes = 11\n",
      "shap       INFO  weight_left = 0.7167414131850209\n",
      "shap       INFO  np.sum(w_aug) = 23.000000000000007\n",
      "shap       INFO  np.sum(self.kernelWeights) = 1.0\n",
      "shap       INFO  phi = array([15381.90047901, -4267.4765442 ,  -763.52794631, -1520.24238168,\n",
      "         -99.91098395,   525.08534027,   227.04411276,    54.99207736,\n",
      "          46.2360911 ,    30.0106848 ,   -25.99990442,   -35.29886184,\n",
      "        2024.86727685, -1993.5826024 ,    16.70002023,    60.14827495,\n",
      "        -954.14345767,   793.71315031,  -119.43457532,   546.23158632,\n",
      "         -88.05642424,   107.28829878,    18.33321185])\n",
      "shap       INFO  num_full_subsets = 1\n",
      "shap       INFO  remaining_weight_vector = array([0.20701126, 0.14490788, 0.11440096, 0.09660526, 0.08523993,\n",
      "       0.07762922, 0.07245394, 0.06900375, 0.06688056, 0.06586722])\n",
      "shap       INFO  num_paired_subset_sizes = 11\n",
      "shap       INFO  weight_left = 0.7167414131850209\n",
      "shap       INFO  np.sum(w_aug) = 23.000000000000007\n",
      "shap       INFO  np.sum(self.kernelWeights) = 1.0000000000000004\n",
      "shap       INFO  phi = array([ 1.41019456e+04, -5.66526202e+03, -3.97383949e+02, -3.40466073e+02,\n",
      "       -1.43690494e+02,  7.70424314e+02,  1.07339739e+02, -1.62198121e+03,\n",
      "        1.11117253e+01,  1.25477643e+01, -2.19907670e+01, -4.52375307e+01,\n",
      "        2.00199872e+03, -1.99194415e+03,  6.06927523e+00,  5.79928072e+01,\n",
      "       -9.64343923e+02,  7.83827349e+02, -1.00372848e+02,  5.17129908e+02,\n",
      "       -6.49749666e+01,  9.88240981e+01,  1.12296958e+01])\n",
      "shap       INFO  num_full_subsets = 1\n",
      "shap       INFO  remaining_weight_vector = array([0.20701126, 0.14490788, 0.11440096, 0.09660526, 0.08523993,\n",
      "       0.07762922, 0.07245394, 0.06900375, 0.06688056, 0.06586722])\n",
      "shap       INFO  num_paired_subset_sizes = 11\n",
      "shap       INFO  weight_left = 0.7167414131850209\n",
      "shap       INFO  np.sum(w_aug) = 23.000000000000007\n",
      "shap       INFO  np.sum(self.kernelWeights) = 1.0000000000000004\n",
      "shap       INFO  phi = array([ 7.24037509e+03, -3.23476516e+03, -5.71953775e+02, -5.35216538e+02,\n",
      "       -1.35708101e+02,  5.56346136e+02,  2.94659619e+02,  4.14130432e+01,\n",
      "        1.52860578e+01,  2.39345490e+01,  0.00000000e+00, -4.08394268e+01,\n",
      "        2.19036710e+03, -1.99757301e+03,  2.65690003e+00,  2.47445097e+01,\n",
      "       -9.68714909e+02,  7.95532628e+02, -6.74075494e+01,  4.13723378e+02,\n",
      "       -5.41878330e+01,  8.76274570e+01,  1.16044138e+01])\n",
      "shap       INFO  num_full_subsets = 1\n",
      "shap       INFO  remaining_weight_vector = array([0.20701126, 0.14490788, 0.11440096, 0.09660526, 0.08523993,\n",
      "       0.07762922, 0.07245394, 0.06900375, 0.06688056, 0.06586722])\n",
      "shap       INFO  num_paired_subset_sizes = 11\n",
      "shap       INFO  weight_left = 0.7167414131850209\n",
      "shap       INFO  np.sum(w_aug) = 23.000000000000007\n",
      "shap       INFO  np.sum(self.kernelWeights) = 1.0\n",
      "shap       INFO  phi = array([ -167.47637921, -2805.32034379,  -577.40089834,  -196.73444929,\n",
      "        -501.76402182,   987.68096356,   619.95696573,   499.09978416,\n",
      "         -11.19485301,    26.98953228,   -10.01260035,    50.48277095,\n",
      "        2198.47813583, -2153.42067096,     0.        ,    30.71208111,\n",
      "       -1029.48991585,   847.32804071,   -81.32090676,   303.87042342,\n",
      "         -41.52911412,    90.95623995,    17.15219698])\n",
      "shap       INFO  num_full_subsets = 1\n",
      "shap       INFO  remaining_weight_vector = array([0.20701126, 0.14490788, 0.11440096, 0.09660526, 0.08523993,\n",
      "       0.07762922, 0.07245394, 0.06900375, 0.06688056, 0.06586722])\n",
      "shap       INFO  num_paired_subset_sizes = 11\n",
      "shap       INFO  weight_left = 0.7167414131850209\n",
      "shap       INFO  np.sum(w_aug) = 23.000000000000007\n",
      "shap       INFO  np.sum(self.kernelWeights) = 1.0000000000000002\n",
      "shap       INFO  phi = array([ 1.99014208e+03, -3.97936379e+03, -3.39724779e+02,  5.90700063e+02,\n",
      "       -3.55068141e+02,  1.12282865e+03,  4.79912267e+02, -9.68862764e+02,\n",
      "        3.19790998e+00,  2.25574109e+01, -2.61728562e+01,  6.09486521e+01,\n",
      "        2.08906665e+03, -1.99763375e+03,  2.18974277e+01,  3.51549034e+01,\n",
      "       -9.98159033e+02,  7.79523515e+02, -1.00385404e+02,  2.91641812e+02,\n",
      "       -5.92893847e+01,  1.15354679e+02,  1.99182832e+01])\n",
      "shap       INFO  num_full_subsets = 1\n",
      "shap       INFO  remaining_weight_vector = array([0.20701126, 0.14490788, 0.11440096, 0.09660526, 0.08523993,\n",
      "       0.07762922, 0.07245394, 0.06900375, 0.06688056, 0.06586722])\n",
      "shap       INFO  num_paired_subset_sizes = 11\n",
      "shap       INFO  weight_left = 0.7167414131850209\n",
      "shap       INFO  np.sum(w_aug) = 23.0\n",
      "shap       INFO  np.sum(self.kernelWeights) = 1.0000000000000004\n",
      "shap       INFO  phi = array([ 1.54709141e+04, -3.70237548e+03, -5.13766045e+02, -3.15469378e+01,\n",
      "       -3.29480388e+02,  7.18677136e+02,  2.75553487e+02, -2.15720371e+03,\n",
      "        0.00000000e+00,  9.93139090e+00,  3.71821432e+01, -2.42431046e+01,\n",
      "        1.84221662e+03, -1.99525706e+03, -2.37975162e+01,  4.90538503e+01,\n",
      "       -9.69598692e+02,  7.80389811e+02, -1.15033538e+02,  4.82200383e+02,\n",
      "       -8.76374042e+01, -4.37661282e+01, -1.74423013e+01])\n",
      "shap       INFO  num_full_subsets = 1\n",
      "shap       INFO  remaining_weight_vector = array([0.20701126, 0.14490788, 0.11440096, 0.09660526, 0.08523993,\n",
      "       0.07762922, 0.07245394, 0.06900375, 0.06688056, 0.06586722])\n",
      "shap       INFO  num_paired_subset_sizes = 11\n",
      "shap       INFO  weight_left = 0.7167414131850209\n",
      "shap       INFO  np.sum(w_aug) = 23.000000000000007\n",
      "shap       INFO  np.sum(self.kernelWeights) = 1.0000000000000004\n",
      "shap       INFO  phi = array([ 2.39787704e+04, -7.84990705e+03, -1.23624241e+03, -7.47293231e+02,\n",
      "       -4.46332532e+02,  4.90480072e+02,  2.48499021e+02, -1.65329998e+03,\n",
      "        1.51157705e+01,  1.99179296e+01,  1.07863840e+02, -3.18145647e+01,\n",
      "        2.04238856e+03, -1.87810608e+03,  9.88388877e+00,  5.78945777e+01,\n",
      "       -9.68244131e+02,  7.54957386e+02, -1.47081599e+02,  6.59315127e+02,\n",
      "       -9.81865125e+01, -4.31494022e+01, -3.77364644e+01])\n",
      "shap       INFO  num_full_subsets = 1\n",
      "shap       INFO  remaining_weight_vector = array([0.20701126, 0.14490788, 0.11440096, 0.09660526, 0.08523993,\n",
      "       0.07762922, 0.07245394, 0.06900375, 0.06688056, 0.06586722])\n",
      "shap       INFO  num_paired_subset_sizes = 11\n",
      "shap       INFO  weight_left = 0.7167414131850209\n",
      "shap       INFO  np.sum(w_aug) = 23.000000000000004\n",
      "shap       INFO  np.sum(self.kernelWeights) = 1.0000000000000002\n",
      "shap       INFO  phi = array([19394.92058399, -8082.86603354, -1207.48735055, -1585.9579199 ,\n",
      "        -414.96627422,   669.48217711,   254.2503916 ,   -90.53585593,\n",
      "          33.60742168,    30.75515661,   122.52992145,   -36.09217987,\n",
      "        2154.0445569 , -1997.8643117 ,    24.37117752,    39.60735196,\n",
      "       -1060.54464094,   731.12261859,  -124.49358907,   562.94752257,\n",
      "         -79.36817537,   -36.42364586,   -26.9788661 ])\n",
      "shap       INFO  num_full_subsets = 1\n",
      "shap       INFO  remaining_weight_vector = array([0.20701126, 0.14490788, 0.11440096, 0.09660526, 0.08523993,\n",
      "       0.07762922, 0.07245394, 0.06900375, 0.06688056, 0.06586722])\n",
      "shap       INFO  num_paired_subset_sizes = 11\n",
      "shap       INFO  weight_left = 0.7167414131850209\n",
      "shap       INFO  np.sum(w_aug) = 23.000000000000007\n",
      "shap       INFO  np.sum(self.kernelWeights) = 1.0000000000000004\n",
      "shap       INFO  phi = array([14632.45900862, -7190.11026016, -1139.67332613, -1259.95307522,\n",
      "        -290.9569421 ,   618.89838261,   476.45277248,   288.59544038,\n",
      "          23.78161418,    24.36807747,   126.78621779,   -37.50067947,\n",
      "        2158.0314231 , -2000.14712893,    36.07683216,    43.42972489,\n",
      "       -1070.32366919,   739.78779895,   -97.64338921,   430.18313842,\n",
      "         -50.09499517,   -35.49269007,   -19.25299585])\n",
      "shap       INFO  num_full_subsets = 1\n",
      "shap       INFO  remaining_weight_vector = array([0.20701126, 0.14490788, 0.11440096, 0.09660526, 0.08523993,\n",
      "       0.07762922, 0.07245394, 0.06900375, 0.06688056, 0.06586722])\n",
      "shap       INFO  num_paired_subset_sizes = 11\n",
      "shap       INFO  weight_left = 0.7167414131850209\n",
      "shap       INFO  np.sum(w_aug) = 23.0\n",
      "shap       INFO  np.sum(self.kernelWeights) = 0.9999999999999999\n",
      "shap       INFO  phi = array([ 6348.43272477, -5774.69816541,  -942.44398765, -1419.7527759 ,\n",
      "        -281.2300183 ,   435.72607806,   532.58420781,  1573.32258407,\n",
      "          34.84057727,    15.42052122,    89.45051533,   -18.19649119,\n",
      "        2170.06597893, -1999.61130835,    15.38363284,    20.74266428,\n",
      "       -1072.86432248,   788.08341589,   -91.40763685,   319.69827804,\n",
      "         -42.36783715,   -38.83226081,   -18.86416001])\n",
      "shap       INFO  num_full_subsets = 1\n",
      "shap       INFO  remaining_weight_vector = array([0.20701126, 0.14490788, 0.11440096, 0.09660526, 0.08523993,\n",
      "       0.07762922, 0.07245394, 0.06900375, 0.06688056, 0.06586722])\n",
      "shap       INFO  num_paired_subset_sizes = 11\n",
      "shap       INFO  weight_left = 0.7167414131850209\n",
      "shap       INFO  np.sum(w_aug) = 23.000000000000007\n",
      "shap       INFO  np.sum(self.kernelWeights) = 1.0000000000000004\n",
      "shap       INFO  phi = array([-2.48926648e+03, -5.62247568e+03, -2.40805954e+02,  2.07352082e+02,\n",
      "       -2.74927162e+02,  1.01794318e+03,  5.83999255e+02,  7.17194733e+01,\n",
      "        4.95817364e+00,  2.31293111e+01,  7.08249112e+01,  1.44990981e+01,\n",
      "        2.08213511e+03, -2.01009924e+03,  2.97905539e+01,  1.19908472e+01,\n",
      "       -1.00902319e+03,  7.86523374e+02, -7.68422972e+01,  2.14033568e+02,\n",
      "       -2.19146184e+01, -3.70712365e+01, -2.14672356e+01])\n",
      "shap       INFO  num_full_subsets = 1\n",
      "shap       INFO  remaining_weight_vector = array([0.20701126, 0.14490788, 0.11440096, 0.09660526, 0.08523993,\n",
      "       0.07762922, 0.07245394, 0.06900375, 0.06688056, 0.06586722])\n",
      "shap       INFO  num_paired_subset_sizes = 11\n",
      "shap       INFO  weight_left = 0.7167414131850209\n",
      "shap       INFO  np.sum(w_aug) = 23.000000000000007\n",
      "shap       INFO  np.sum(self.kernelWeights) = 1.0000000000000002\n",
      "shap       INFO  phi = array([-5994.00228267, -5903.2049966 ,   363.16452663,  2020.58203147,\n",
      "        -280.73390416,  1086.21197604,   601.33163632, -2270.26796494,\n",
      "         -40.55411652,    31.14072048,    77.09545   ,    32.89865889,\n",
      "        1907.82591002, -1876.31462521,    23.46617989,     0.        ,\n",
      "        -944.52258274,   747.09401876,   -74.26478184,   156.62423713,\n",
      "         -15.75234325,   -35.45799311,   -17.40011307])\n",
      "shap       INFO  num_full_subsets = 1\n",
      "shap       INFO  remaining_weight_vector = array([0.20701126, 0.14490788, 0.11440096, 0.09660526, 0.08523993,\n",
      "       0.07762922, 0.07245394, 0.06900375, 0.06688056, 0.06586722])\n",
      "shap       INFO  num_paired_subset_sizes = 11\n",
      "shap       INFO  weight_left = 0.7167414131850209\n",
      "shap       INFO  np.sum(w_aug) = 23.000000000000007\n",
      "shap       INFO  np.sum(self.kernelWeights) = 0.9999999999999999\n",
      "shap       INFO  phi = array([-1.28490160e+04, -1.51479665e+03,  5.79891394e+02,  2.43103400e+03,\n",
      "       -2.68938317e+02,  9.33153416e+02,  5.87318244e+02, -1.86855399e+03,\n",
      "       -4.04054079e+01,  1.47030607e+01,  7.08735702e+01,  1.47023602e+02,\n",
      "        1.59559022e+03, -1.72262660e+03,  1.09851059e+01,  1.39768232e+01,\n",
      "       -8.52069404e+02,  5.54982884e+02, -7.07851342e+01,  1.48118852e+02,\n",
      "       -2.07123177e+01, -3.17877270e+01, -1.39263340e+01])\n",
      "shap       INFO  num_full_subsets = 1\n",
      "shap       INFO  remaining_weight_vector = array([0.20701126, 0.14490788, 0.11440096, 0.09660526, 0.08523993,\n",
      "       0.07762922, 0.07245394, 0.06900375, 0.06688056, 0.06586722])\n",
      "shap       INFO  num_paired_subset_sizes = 11\n",
      "shap       INFO  weight_left = 0.7167414131850209\n",
      "shap       INFO  np.sum(w_aug) = 23.000000000000004\n",
      "shap       INFO  np.sum(self.kernelWeights) = 1.0000000000000004\n",
      "shap       INFO  phi = array([-3878.28271486,  -555.69822936,  -204.83444961,   -99.9816833 ,\n",
      "        -276.00188777,   276.32100651,   412.36474531,   764.68681579,\n",
      "         -14.05384879,    18.30741648,   273.71143808,   136.46966046,\n",
      "        1413.73351458, -1594.63348548,    30.9268933 ,    23.37649374,\n",
      "        -820.21894419,   555.9197979 ,   -79.64308774,   273.61307896,\n",
      "         -46.66363694,   -37.60515571,   -16.2026201 ])\n",
      "shap       INFO  num_full_subsets = 1\n",
      "shap       INFO  remaining_weight_vector = array([0.20701126, 0.14490788, 0.11440096, 0.09660526, 0.08523993,\n",
      "       0.07762922, 0.07245394, 0.06900375, 0.06688056, 0.06586722])\n",
      "shap       INFO  num_paired_subset_sizes = 11\n",
      "shap       INFO  weight_left = 0.7167414131850209\n",
      "shap       INFO  np.sum(w_aug) = 23.000000000000007\n",
      "shap       INFO  np.sum(self.kernelWeights) = 1.0\n",
      "shap       INFO  phi = array([ 3150.45010712,  -489.47883324,  -278.00726932,  -911.10364164,\n",
      "        -269.35706201,   294.83895151,   419.27267472,   525.18614833,\n",
      "          10.78781154,     9.59945247,   267.11705149,    -9.2568413 ,\n",
      "        1519.88296036, -1311.49497212,    -6.62811063,    24.80603454,\n",
      "        -854.59998432,   557.51834674,  -104.78067031,   369.84474916,\n",
      "         -61.01081218,   -38.24951007,   -15.92885496])\n",
      "shap       INFO  num_full_subsets = 1\n",
      "shap       INFO  remaining_weight_vector = array([0.20701126, 0.14490788, 0.11440096, 0.09660526, 0.08523993,\n",
      "       0.07762922, 0.07245394, 0.06900375, 0.06688056, 0.06586722])\n",
      "shap       INFO  num_paired_subset_sizes = 11\n",
      "shap       INFO  weight_left = 0.7167414131850209\n",
      "shap       INFO  np.sum(w_aug) = 23.000000000000007\n",
      "shap       INFO  np.sum(self.kernelWeights) = 1.0000000000000002\n",
      "shap       INFO  phi = array([ 8.22529877e+03, -1.15666329e+03, -3.72257257e+02, -3.56950755e+02,\n",
      "       -2.69686911e+02,  6.38892840e+02,  5.43022011e+02, -8.43568772e+02,\n",
      "       -1.93639757e+01,  1.60568649e+01,  2.26362035e+02,  1.26802630e+01,\n",
      "        1.61656006e+03, -1.31083187e+03, -3.82328509e+00,  3.23540490e+01,\n",
      "       -9.14388541e+02,  5.58562656e+02, -1.14439954e+02,  4.06536978e+02,\n",
      "       -6.69834570e+01, -3.93846159e+01, -2.16787477e+01])\n",
      "shap       INFO  num_full_subsets = 1\n",
      "shap       INFO  remaining_weight_vector = array([0.20701126, 0.14490788, 0.11440096, 0.09660526, 0.08523993,\n",
      "       0.07762922, 0.07245394, 0.06900375, 0.06688056, 0.06586722])\n",
      "shap       INFO  num_paired_subset_sizes = 11\n",
      "shap       INFO  weight_left = 0.7167414131850209\n",
      "shap       INFO  np.sum(w_aug) = 23.0\n",
      "shap       INFO  np.sum(self.kernelWeights) = 1.0\n",
      "shap       INFO  phi = array([ 1.00029687e+04, -2.79326190e+03, -6.84462730e+02, -4.17573027e+02,\n",
      "       -2.81388589e+02,  5.42460818e+02,  4.23838028e+02, -5.27881605e+02,\n",
      "        0.00000000e+00,  1.33777197e+01,  2.29068793e+02,  1.04808588e+01,\n",
      "        1.65325528e+03, -1.31055583e+03, -6.74268355e+01,  7.02384886e+01,\n",
      "       -9.24022878e+02,  5.58290730e+02, -1.33235688e+02,  4.16487643e+02,\n",
      "       -6.33924278e+01, -2.60102609e+01, -8.43565465e+00])\n",
      "shap       INFO  num_full_subsets = 1\n",
      "shap       INFO  remaining_weight_vector = array([0.20701126, 0.14490788, 0.11440096, 0.09660526, 0.08523993,\n",
      "       0.07762922, 0.07245394, 0.06900375, 0.06688056, 0.06586722])\n",
      "shap       INFO  num_paired_subset_sizes = 11\n",
      "shap       INFO  weight_left = 0.7167414131850209\n",
      "shap       INFO  np.sum(w_aug) = 23.000000000000004\n",
      "shap       INFO  np.sum(self.kernelWeights) = 1.0\n",
      "shap       INFO  phi = array([ 8.63356584e+03, -5.14072060e+03, -4.83153443e+02,  2.87797638e+02,\n",
      "       -2.73958958e+02,  7.95785417e+02,  2.93528058e+02, -1.34814959e+03,\n",
      "       -6.98964206e+00,  9.66732131e+00,  1.67549524e+02, -2.92402275e+01,\n",
      "        1.68943020e+03, -1.59123630e+03,  2.78791946e+01,  2.60739654e+01,\n",
      "       -9.62341993e+02,  6.02410514e+02, -1.17877065e+02,  4.66208990e+02,\n",
      "       -8.40309324e+01, -3.08147899e+01, -1.04900246e+01])\n",
      "shap       INFO  num_full_subsets = 1\n",
      "shap       INFO  remaining_weight_vector = array([0.20701126, 0.14490788, 0.11440096, 0.09660526, 0.08523993,\n",
      "       0.07762922, 0.07245394, 0.06900375, 0.06688056, 0.06586722])\n",
      "shap       INFO  num_paired_subset_sizes = 11\n",
      "shap       INFO  weight_left = 0.7167414131850209\n",
      "shap       INFO  np.sum(w_aug) = 23.0\n",
      "shap       INFO  np.sum(self.kernelWeights) = 1.0000000000000002\n",
      "shap       INFO  phi = array([ 5760.71205189, -4728.6923516 ,  -504.55931548,    95.1330856 ,\n",
      "        -300.30808111,   729.27346081,   519.86596051,  -711.23109706,\n",
      "           5.7777381 ,    10.72573681,   159.28225519,   -32.88385719,\n",
      "        1767.5538564 , -1711.87254633,     0.        ,    32.81506379,\n",
      "        -993.03044277,   657.30139361,  -127.70958731,   459.45351213,\n",
      "         -84.45510187,   -16.25508155,   -10.05544904])\n",
      "shap       INFO  num_full_subsets = 1\n",
      "shap       INFO  remaining_weight_vector = array([0.20701126, 0.14490788, 0.11440096, 0.09660526, 0.08523993,\n",
      "       0.07762922, 0.07245394, 0.06900375, 0.06688056, 0.06586722])\n",
      "shap       INFO  num_paired_subset_sizes = 11\n",
      "shap       INFO  weight_left = 0.7167414131850209\n",
      "shap       INFO  np.sum(w_aug) = 23.000000000000004\n",
      "shap       INFO  np.sum(self.kernelWeights) = 0.9999999999999999\n",
      "shap       INFO  phi = array([ 4380.75866354, -3818.05572472,  -749.32355939,  -207.00405712,\n",
      "        -271.7932832 ,   849.19757752,   508.1730851 ,   235.14596146,\n",
      "           7.37122453,    13.88570432,   163.94086426,   -37.59182337,\n",
      "        1888.28653003, -1717.16918246,    26.12271076,    43.06854451,\n",
      "       -1035.41185796,   645.12767869,  -131.63469944,   472.23376672,\n",
      "         -69.81949285,     0.        ,    -8.22111769])\n",
      "shap       INFO  num_full_subsets = 1\n",
      "shap       INFO  remaining_weight_vector = array([0.20701126, 0.14490788, 0.11440096, 0.09660526, 0.08523993,\n",
      "       0.07762922, 0.07245394, 0.06900375, 0.06688056, 0.06586722])\n",
      "shap       INFO  num_paired_subset_sizes = 11\n",
      "shap       INFO  weight_left = 0.7167414131850209\n",
      "shap       INFO  np.sum(w_aug) = 23.000000000000004\n",
      "shap       INFO  np.sum(self.kernelWeights) = 1.0\n",
      "shap       INFO  phi = array([ 1.87209774e+04, -6.69184459e+03, -1.09592307e+03, -8.10252550e+02,\n",
      "       -2.76254026e+02,  5.63716006e+02,  3.61238831e+02, -8.59244191e+02,\n",
      "       -3.58011874e+00,  1.46365082e+01,  7.34452417e+01, -4.11791699e+01,\n",
      "        1.87258759e+03, -1.87083902e+03,  1.81398787e+01,  4.25763410e+01,\n",
      "       -1.08153990e+03,  6.98224747e+02, -1.48839307e+02,  5.18353821e+02,\n",
      "       -8.57622238e+01,  4.82831873e+00, -8.70790481e+00])\n",
      "shap       INFO  num_full_subsets = 1\n",
      "shap       INFO  remaining_weight_vector = array([0.20701126, 0.14490788, 0.11440096, 0.09660526, 0.08523993,\n",
      "       0.07762922, 0.07245394, 0.06900375, 0.06688056, 0.06586722])\n",
      "shap       INFO  num_paired_subset_sizes = 11\n",
      "shap       INFO  weight_left = 0.7167414131850209\n",
      "shap       INFO  np.sum(w_aug) = 23.000000000000004\n",
      "shap       INFO  np.sum(self.kernelWeights) = 1.0000000000000004\n",
      "shap       INFO  phi = array([ 2.07802552e+04, -7.34398238e+03, -1.49186641e+03, -2.14388735e+03,\n",
      "       -2.37936842e+02,  3.43843295e+02,  5.01131726e+02,  8.34876373e+02,\n",
      "        4.05526407e+01,  1.26362857e+01,  7.50848317e+00, -1.32914329e+01,\n",
      "        2.11508047e+03, -2.00252110e+03,  9.26060198e+00,  3.51493568e+01,\n",
      "       -1.10949170e+03,  7.84797320e+02, -1.22767610e+02,  4.99243776e+02,\n",
      "       -8.82841108e+01,  0.00000000e+00, -7.61984080e+00])\n",
      "shap       INFO  num_full_subsets = 1\n",
      "shap       INFO  remaining_weight_vector = array([0.20701126, 0.14490788, 0.11440096, 0.09660526, 0.08523993,\n",
      "       0.07762922, 0.07245394, 0.06900375, 0.06688056, 0.06586722])\n",
      "shap       INFO  num_paired_subset_sizes = 11\n",
      "shap       INFO  weight_left = 0.7167414131850209\n",
      "shap       INFO  np.sum(w_aug) = 23.000000000000007\n",
      "shap       INFO  np.sum(self.kernelWeights) = 1.0\n",
      "shap       INFO  phi = array([ 1.99660908e+04, -5.28816430e+03, -1.47218279e+03, -2.53301077e+03,\n",
      "        4.84875347e+01,  1.77038836e+02,  3.60308938e+02,  1.66097690e+03,\n",
      "        2.95624256e+01,  1.75829806e+01, -1.04530676e+02, -3.51651308e+01,\n",
      "        2.17983228e+03, -1.99871564e+03,  3.89259241e+00,  5.33298739e+01,\n",
      "       -1.16387136e+03,  7.88622685e+02, -1.32815676e+02,  5.24925527e+02,\n",
      "       -8.81530883e+01,  1.63664406e+01, -1.16605817e+01])\n",
      "shap       INFO  num_full_subsets = 1\n",
      "shap       INFO  remaining_weight_vector = array([0.20701126, 0.14490788, 0.11440096, 0.09660526, 0.08523993,\n",
      "       0.07762922, 0.07245394, 0.06900375, 0.06688056, 0.06586722])\n",
      "shap       INFO  num_paired_subset_sizes = 11\n",
      "shap       INFO  weight_left = 0.7167414131850209\n",
      "shap       INFO  np.sum(w_aug) = 23.000000000000004\n",
      "shap       INFO  np.sum(self.kernelWeights) = 1.0000000000000004\n",
      "shap       INFO  phi = array([ 2.39410044e+04, -8.14767585e+03, -1.68913798e+03, -2.21921437e+03,\n",
      "        6.26771255e+01,  2.36324204e+02,  5.18925400e+02,  9.69047831e+02,\n",
      "        1.21377402e+01,  1.21886340e+01, -1.07250696e+02, -2.08721960e+01,\n",
      "        2.21099673e+03, -2.15166724e+03,  7.24167556e+00,  5.33085596e+01,\n",
      "       -1.15729060e+03,  7.88418265e+02, -1.49991791e+02,  5.59874966e+02,\n",
      "       -7.55812517e+01,  1.33809939e+01, -1.47115619e+01])\n",
      "shap       INFO  num_full_subsets = 1\n",
      "shap       INFO  remaining_weight_vector = array([0.20701126, 0.14490788, 0.11440096, 0.09660526, 0.08523993,\n",
      "       0.07762922, 0.07245394, 0.06900375, 0.06688056, 0.06586722])\n",
      "shap       INFO  num_paired_subset_sizes = 11\n",
      "shap       INFO  weight_left = 0.7167414131850209\n",
      "shap       INFO  np.sum(w_aug) = 23.000000000000007\n",
      "shap       INFO  np.sum(self.kernelWeights) = 1.0000000000000004\n",
      "shap       INFO  phi = array([ 1.41831595e+04, -7.43814104e+03, -1.57390528e+03, -1.35491439e+03,\n",
      "        1.61795438e+02,  5.38184548e+02,  5.84910776e+02,  1.56396537e+03,\n",
      "        1.38498487e+01,  1.55313013e+01, -9.71174709e+01,  7.02185664e+01,\n",
      "        2.22617912e+03, -2.14986319e+03, -2.34290452e+02,  2.39951486e+02,\n",
      "       -1.16833764e+03,  8.46542818e+02, -1.36270089e+02,  4.83017076e+02,\n",
      "       -7.06495454e+01,  1.45293215e+01, -1.71742018e+01])\n",
      "shap       INFO  num_full_subsets = 1\n",
      "shap       INFO  remaining_weight_vector = array([0.20701126, 0.14490788, 0.11440096, 0.09660526, 0.08523993,\n",
      "       0.07762922, 0.07245394, 0.06900375, 0.06688056, 0.06586722])\n",
      "shap       INFO  num_paired_subset_sizes = 11\n",
      "shap       INFO  weight_left = 0.7167414131850209\n",
      "shap       INFO  np.sum(w_aug) = 23.000000000000004\n",
      "shap       INFO  np.sum(self.kernelWeights) = 1.0000000000000002\n",
      "shap       INFO  phi = array([ 1.09741252e+04, -5.03081245e+03, -1.28833338e+03, -9.29529477e+02,\n",
      "        2.10801003e+02,  6.88035333e+02,  3.94482092e+02,  1.24102074e+03,\n",
      "        1.13160230e+01,  1.01474889e+01,  1.12675391e+02, -1.46526579e+01,\n",
      "        2.19443784e+03, -2.15768432e+03, -9.60236584e+01,  2.69979436e+02,\n",
      "       -1.17515718e+03,  7.81185907e+02, -1.42024580e+02,  4.72159586e+02,\n",
      "       -8.24982353e+01,  5.49721879e+00, -1.44533498e+01])\n",
      "shap       INFO  num_full_subsets = 1\n",
      "shap       INFO  remaining_weight_vector = array([0.20701126, 0.14490788, 0.11440096, 0.09660526, 0.08523993,\n",
      "       0.07762922, 0.07245394, 0.06900375, 0.06688056, 0.06586722])\n",
      "shap       INFO  num_paired_subset_sizes = 11\n",
      "shap       INFO  weight_left = 0.7167414131850209\n",
      "shap       INFO  np.sum(w_aug) = 23.000000000000004\n",
      "shap       INFO  np.sum(self.kernelWeights) = 1.0000000000000002\n",
      "shap       INFO  phi = array([ 2.07342402e+04, -7.17115210e+03, -1.34419784e+03, -4.85883735e+02,\n",
      "        1.96789401e+02,  4.79426447e+02,  6.00897182e+02, -8.46307177e+02,\n",
      "       -8.51995933e+00,  2.12831744e+01,  9.75312890e+01,  0.00000000e+00,\n",
      "        2.02193499e+03, -2.14677475e+03, -6.33017786e+01,  2.90959516e+02,\n",
      "       -1.06905707e+03,  8.44294924e+02, -1.46723335e+02,  5.02812557e+02,\n",
      "       -8.03438225e+01,  1.61890185e+02, -8.16270146e+00])\n",
      "shap       INFO  num_full_subsets = 1\n",
      "shap       INFO  remaining_weight_vector = array([0.20701126, 0.14490788, 0.11440096, 0.09660526, 0.08523993,\n",
      "       0.07762922, 0.07245394, 0.06900375, 0.06688056, 0.06586722])\n",
      "shap       INFO  num_paired_subset_sizes = 11\n",
      "shap       INFO  weight_left = 0.7167414131850209\n",
      "shap       INFO  np.sum(w_aug) = 23.000000000000007\n",
      "shap       INFO  np.sum(self.kernelWeights) = 1.0000000000000004\n",
      "shap       INFO  phi = array([ 2.09587071e+04, -6.90797379e+03, -9.18954676e+02,  2.98535392e+02,\n",
      "        2.02338272e+02,  8.09346614e+02,  5.81935803e+02, -2.48216658e+03,\n",
      "       -5.80845051e+01,  2.58214934e+01,  1.12777766e+02,  3.43791539e+02,\n",
      "        2.22281822e+03, -2.15672651e+03, -5.08982979e+02,  6.71471639e+02,\n",
      "       -1.16745133e+03,  8.37601879e+02, -1.39145460e+02,  4.47420021e+02,\n",
      "       -7.09328288e+01,  3.25363534e+02, -8.61894365e+00])\n",
      "shap       INFO  num_full_subsets = 1\n",
      "shap       INFO  remaining_weight_vector = array([0.20701126, 0.14490788, 0.11440096, 0.09660526, 0.08523993,\n",
      "       0.07762922, 0.07245394, 0.06900375, 0.06688056, 0.06586722])\n",
      "shap       INFO  num_paired_subset_sizes = 11\n",
      "shap       INFO  weight_left = 0.7167414131850209\n",
      "shap       INFO  np.sum(w_aug) = 23.000000000000004\n",
      "shap       INFO  np.sum(self.kernelWeights) = 1.0000000000000004\n",
      "shap       INFO  phi = array([ 1.94445938e+04, -3.81611094e+03, -1.41839843e+03, -5.95084158e+02,\n",
      "        2.00579759e+02,  4.52509230e+02,  3.64963319e+02, -2.93572768e+02,\n",
      "       -9.82146143e+00,  2.39697764e+01,  1.43786246e+02,  9.01171421e+01,\n",
      "        2.48263489e+03, -2.15661787e+03, -4.13123250e+02,  9.45872271e+02,\n",
      "       -1.18051647e+03,  8.37246609e+02, -1.41134057e+02,  5.17655669e+02,\n",
      "       -8.06559752e+01,  8.02658058e+02,  1.05619130e+01])\n",
      "shap       INFO  num_full_subsets = 1\n",
      "shap       INFO  remaining_weight_vector = array([0.20701126, 0.14490788, 0.11440096, 0.09660526, 0.08523993,\n",
      "       0.07762922, 0.07245394, 0.06900375, 0.06688056, 0.06586722])\n",
      "shap       INFO  num_paired_subset_sizes = 11\n",
      "shap       INFO  weight_left = 0.7167414131850209\n",
      "shap       INFO  np.sum(w_aug) = 23.000000000000007\n",
      "shap       INFO  np.sum(self.kernelWeights) = 1.0000000000000004\n",
      "shap       INFO  phi = array([ 1.63143874e+04, -4.42569505e+03, -1.62799767e+03,  2.15203637e+02,\n",
      "        2.07709195e+02,  4.66426692e+02,  3.39212508e+02, -2.47577790e+02,\n",
      "        4.17409046e+00,  1.53705687e+01,  1.35138845e+02,  5.05224415e+00,\n",
      "        2.34123373e+03, -2.15338224e+03, -1.99282982e+02,  1.04871291e+03,\n",
      "       -1.17695316e+03,  8.39255647e+02, -1.43153870e+02,  5.46637474e+02,\n",
      "       -9.21188786e+01,  4.53815584e+02,  1.03930979e+01])\n",
      "shap       INFO  num_full_subsets = 1\n",
      "shap       INFO  remaining_weight_vector = array([0.20701126, 0.14490788, 0.11440096, 0.09660526, 0.08523993,\n",
      "       0.07762922, 0.07245394, 0.06900375, 0.06688056, 0.06586722])\n",
      "shap       INFO  num_paired_subset_sizes = 11\n",
      "shap       INFO  weight_left = 0.7167414131850209\n",
      "shap       INFO  np.sum(w_aug) = 23.000000000000004\n",
      "shap       INFO  np.sum(self.kernelWeights) = 0.9999999999999999\n",
      "shap       INFO  phi = array([ 1.87932781e+04, -6.14868937e+03, -1.05925068e+03,  1.50243948e+03,\n",
      "        1.86304498e+02,  9.99415184e+02,  5.40277967e+02, -3.12890556e+03,\n",
      "       -1.27769938e+01,  2.26877708e+01,  1.75960512e+02,  1.39750599e+02,\n",
      "        2.34264386e+03, -2.15180693e+03, -4.38987879e+02,  1.32182159e+03,\n",
      "       -1.14431168e+03,  8.37948593e+02, -1.40832017e+02,  5.81103899e+02,\n",
      "       -7.54036771e+01,  5.76775121e+02,  2.16133509e+01])\n",
      "shap       INFO  num_full_subsets = 1\n",
      "shap       INFO  remaining_weight_vector = array([0.20701126, 0.14490788, 0.11440096, 0.09660526, 0.08523993,\n",
      "       0.07762922, 0.07245394, 0.06900375, 0.06688056, 0.06586722])\n",
      "shap       INFO  num_paired_subset_sizes = 11\n",
      "shap       INFO  weight_left = 0.7167414131850209\n",
      "shap       INFO  np.sum(w_aug) = 23.0\n",
      "shap       INFO  np.sum(self.kernelWeights) = 1.0000000000000004\n",
      "shap       INFO  phi = array([ 2.09703391e+04, -2.77598778e+03, -1.41440531e+03,  1.95327393e+03,\n",
      "        1.98964523e+02,  8.81195756e+02,  2.97792161e+02, -3.29228184e+03,\n",
      "       -7.33605442e+00,  1.85193101e+01,  3.00382347e+02,  1.54919886e+02,\n",
      "        2.41446592e+03, -2.14617644e+03, -9.16293207e+02,  1.85523964e+03,\n",
      "       -1.17594220e+03,  8.41063757e+02, -1.47757136e+02,  7.42621022e+02,\n",
      "       -1.23909305e+02,  7.14843901e+02, -1.87569951e+01])\n",
      "shap       INFO  num_full_subsets = 1\n",
      "shap       INFO  remaining_weight_vector = array([0.20701126, 0.14490788, 0.11440096, 0.09660526, 0.08523993,\n",
      "       0.07762922, 0.07245394, 0.06900375, 0.06688056, 0.06586722])\n",
      "shap       INFO  num_paired_subset_sizes = 11\n",
      "shap       INFO  weight_left = 0.7167414131850209\n",
      "shap       INFO  np.sum(w_aug) = 23.000000000000004\n",
      "shap       INFO  np.sum(self.kernelWeights) = 1.0000000000000002\n",
      "shap       INFO  phi = array([ 2.93821577e+04, -3.18857396e+03, -2.15479651e+03,  4.03227418e+02,\n",
      "        2.00706780e+02,  5.96231087e+02,  4.13139680e+02, -1.78943932e+03,\n",
      "        3.56585957e+01,  2.52241666e+01,  2.49053503e+02,  0.00000000e+00,\n",
      "        2.41928605e+03, -2.28564232e+03, -2.89518970e+02,  1.96151397e+03,\n",
      "       -1.22453130e+03,  8.37863657e+02, -2.13980906e+02,  1.01020755e+03,\n",
      "       -1.75141105e+02,  8.41135750e+02, -5.79700827e+00])\n",
      "shap       INFO  num_full_subsets = 1\n",
      "shap       INFO  remaining_weight_vector = array([0.20701126, 0.14490788, 0.11440096, 0.09660526, 0.08523993,\n",
      "       0.07762922, 0.07245394, 0.06900375, 0.06688056, 0.06586722])\n",
      "shap       INFO  num_paired_subset_sizes = 11\n",
      "shap       INFO  weight_left = 0.7167414131850209\n",
      "shap       INFO  np.sum(w_aug) = 23.000000000000007\n",
      "shap       INFO  np.sum(self.kernelWeights) = 1.0\n",
      "shap       INFO  phi = array([ 4.03597470e+04, -1.66268742e+03, -2.59255058e+03, -9.89725159e+02,\n",
      "        2.06800246e+02,  3.42536618e+02,  3.72582765e+02, -1.34207913e+03,\n",
      "        2.54782155e+02,  1.70110812e+01,  1.61619530e+02,  0.00000000e+00,\n",
      "        2.58123208e+03, -2.15703276e+03, -1.11616782e+02,  1.97647326e+03,\n",
      "       -1.34245161e+03,  8.34962153e+02, -2.52928149e+02,  1.06806076e+03,\n",
      "       -1.80017307e+02,  8.24093236e+02, -8.94816840e+00])\n",
      "shap       INFO  num_full_subsets = 1\n",
      "shap       INFO  remaining_weight_vector = array([0.20701126, 0.14490788, 0.11440096, 0.09660526, 0.08523993,\n",
      "       0.07762922, 0.07245394, 0.06900375, 0.06688056, 0.06586722])\n",
      "shap       INFO  num_paired_subset_sizes = 11\n",
      "shap       INFO  weight_left = 0.7167414131850209\n",
      "shap       INFO  np.sum(w_aug) = 23.000000000000007\n",
      "shap       INFO  np.sum(self.kernelWeights) = 1.0000000000000004\n",
      "shap       INFO  phi = array([ 5.14769588e+04, -6.45376964e+03, -2.59349554e+03, -1.38101935e+03,\n",
      "        2.06018307e+02,  2.44423163e+02,  8.87538362e+01, -2.69248262e+03,\n",
      "        3.24420994e+02,  6.64354267e+00,  1.42718148e+02,  2.21744301e+00,\n",
      "        2.65285616e+03, -2.15255823e+03, -4.31039351e+01,  1.96248926e+03,\n",
      "       -1.26390974e+03,  8.39665242e+02, -2.51866122e+02,  1.07654288e+03,\n",
      "       -1.79883197e+02,  8.59432249e+02, -6.78671587e+00])\n",
      "shap       INFO  num_full_subsets = 1\n",
      "shap       INFO  remaining_weight_vector = array([0.20701126, 0.14490788, 0.11440096, 0.09660526, 0.08523993,\n",
      "       0.07762922, 0.07245394, 0.06900375, 0.06688056, 0.06586722])\n",
      "shap       INFO  num_paired_subset_sizes = 11\n",
      "shap       INFO  weight_left = 0.7167414131850209\n",
      "shap       INFO  np.sum(w_aug) = 23.0\n",
      "shap       INFO  np.sum(self.kernelWeights) = 1.0\n",
      "shap       INFO  phi = array([ 4.45477543e+04, -5.43577327e+03, -2.55839177e+03, -2.47043038e+03,\n",
      "        1.95452776e+01,  5.59786885e+02,  6.73262267e+01, -6.71856384e+02,\n",
      "        2.54496719e+02,  1.35138579e+01,  1.99028828e+02, -3.55513239e+01,\n",
      "        2.62476534e+03, -2.15504474e+03,  0.00000000e+00,  1.84446563e+03,\n",
      "       -1.36782014e+03,  8.31988441e+02, -2.25642935e+02,  1.02918099e+03,\n",
      "       -1.54683859e+02,  8.73906440e+02,  7.38316515e+00])\n",
      "shap       INFO  num_full_subsets = 1\n",
      "shap       INFO  remaining_weight_vector = array([0.20701126, 0.14490788, 0.11440096, 0.09660526, 0.08523993,\n",
      "       0.07762922, 0.07245394, 0.06900375, 0.06688056, 0.06586722])\n",
      "shap       INFO  num_paired_subset_sizes = 11\n",
      "shap       INFO  weight_left = 0.7167414131850209\n",
      "shap       INFO  np.sum(w_aug) = 23.0\n",
      "shap       INFO  np.sum(self.kernelWeights) = 1.0000000000000002\n",
      "shap       INFO  phi = array([ 3.21627589e+04, -6.79307899e+03, -2.47643268e+03, -1.74647041e+03,\n",
      "       -1.80599183e+02,  6.88575937e+02,  3.75765298e+02,  2.70339145e+02,\n",
      "        2.83408942e+02,  1.56176711e+01,  1.55428222e+02, -2.41548100e+01,\n",
      "        2.65778647e+03, -2.16455131e+03, -3.58242230e+01,  1.80626250e+03,\n",
      "       -1.39850490e+03,  8.40681256e+02, -2.01822869e+02,  9.03635376e+02,\n",
      "       -1.22474178e+02,  9.23563758e+02,  1.95369549e+01])\n",
      "shap       INFO  num_full_subsets = 1\n",
      "shap       INFO  remaining_weight_vector = array([0.20701126, 0.14490788, 0.11440096, 0.09660526, 0.08523993,\n",
      "       0.07762922, 0.07245394, 0.06900375, 0.06688056, 0.06586722])\n",
      "shap       INFO  num_paired_subset_sizes = 11\n",
      "shap       INFO  weight_left = 0.7167414131850209\n",
      "shap       INFO  np.sum(w_aug) = 23.000000000000004\n",
      "shap       INFO  np.sum(self.kernelWeights) = 1.0000000000000004\n",
      "shap       INFO  phi = array([ 3.60800479e+04, -8.35938170e+03, -1.93315586e+03, -9.63514531e+02,\n",
      "       -2.11992380e+02,  8.54759456e+02,  7.62742734e+01, -2.07388572e+03,\n",
      "        2.96489562e+02,  2.34018623e+01,  1.55075280e+02, -1.19051879e+01,\n",
      "        2.57714943e+03, -2.14985255e+03, -4.13781886e+02,  2.11238063e+03,\n",
      "       -1.32259379e+03,  8.39331447e+02, -1.88867046e+02,  8.51109245e+02,\n",
      "       -1.51220663e+02,  8.75283614e+02,  1.80136306e+01])\n",
      "shap       INFO  num_full_subsets = 1\n",
      "shap       INFO  remaining_weight_vector = array([0.20701126, 0.14490788, 0.11440096, 0.09660526, 0.08523993,\n",
      "       0.07762922, 0.07245394, 0.06900375, 0.06688056, 0.06586722])\n",
      "shap       INFO  num_paired_subset_sizes = 11\n",
      "shap       INFO  weight_left = 0.7167414131850209\n",
      "shap       INFO  np.sum(w_aug) = 23.0\n",
      "shap       INFO  np.sum(self.kernelWeights) = 1.0\n",
      "shap       INFO  phi = array([ 4.21826598e+04, -1.07346406e+04, -2.52422876e+03, -2.89475311e+03,\n",
      "       -2.04169943e+02,  4.83037065e+02, -4.50555329e+01,  1.56735493e+01,\n",
      "        3.03792960e+02,  1.17001155e+01,  1.45357917e+02, -4.58961879e+01,\n",
      "        2.68572223e+03, -2.14886813e+03, -5.27928371e+01,  2.03891398e+03,\n",
      "       -1.36860753e+03,  8.35257131e+02, -2.12514528e+02,  1.02693554e+03,\n",
      "       -1.65641884e+02,  8.87593662e+02,  1.66878329e+01])\n",
      "shap       INFO  num_full_subsets = 1\n",
      "shap       INFO  remaining_weight_vector = array([0.20701126, 0.14490788, 0.11440096, 0.09660526, 0.08523993,\n",
      "       0.07762922, 0.07245394, 0.06900375, 0.06688056, 0.06586722])\n",
      "shap       INFO  num_paired_subset_sizes = 11\n",
      "shap       INFO  weight_left = 0.7167414131850209\n",
      "shap       INFO  np.sum(w_aug) = 23.000000000000007\n",
      "shap       INFO  np.sum(self.kernelWeights) = 1.0000000000000002\n",
      "shap       INFO  phi = array([ 4.25081208e+04, -1.35906822e+04, -2.10145914e+03, -1.53530642e+03,\n",
      "       -2.29969470e+02,  7.56411702e+02,  1.15569653e+02, -2.34375169e+03,\n",
      "        1.46874026e+02,  1.49674119e+01,  1.10543233e+02, -4.17876764e+01,\n",
      "        2.74501477e+03, -2.14814872e+03,  1.08886771e+01,  1.94792318e+03,\n",
      "       -1.43112504e+03,  9.82882048e+02, -2.17911429e+02,  1.02169689e+03,\n",
      "       -1.50044928e+02,  7.98516987e+02,  1.91329448e+01])\n",
      "shap       INFO  num_full_subsets = 1\n",
      "shap       INFO  remaining_weight_vector = array([0.20701126, 0.14490788, 0.11440096, 0.09660526, 0.08523993,\n",
      "       0.07762922, 0.07245394, 0.06900375, 0.06688056, 0.06586722])\n",
      "shap       INFO  num_paired_subset_sizes = 11\n",
      "shap       INFO  weight_left = 0.7167414131850209\n",
      "shap       INFO  np.sum(w_aug) = 23.000000000000007\n",
      "shap       INFO  np.sum(self.kernelWeights) = 1.0000000000000004\n",
      "shap       INFO  phi = array([ 3.05595819e+04, -9.63235699e+03, -2.32862610e+03, -9.68010426e+02,\n",
      "       -1.61322758e+02,  2.13303803e+02,  4.74105571e+02, -5.29762878e+02,\n",
      "       -7.59856060e+01,  5.77227136e+00,  1.42962066e+02, -2.84457928e+01,\n",
      "        2.60396086e+03, -2.15114385e+03,  6.67567328e+00,  1.79969017e+03,\n",
      "       -1.30837957e+03,  1.07998896e+03, -1.57417032e+02,  8.41857760e+02,\n",
      "       -9.71089791e+01,  7.65021397e+02,  1.59542785e+01])\n",
      "shap       INFO  num_full_subsets = 1\n",
      "shap       INFO  remaining_weight_vector = array([0.20701126, 0.14490788, 0.11440096, 0.09660526, 0.08523993,\n",
      "       0.07762922, 0.07245394, 0.06900375, 0.06688056, 0.06586722])\n",
      "shap       INFO  num_paired_subset_sizes = 11\n",
      "shap       INFO  weight_left = 0.7167414131850209\n",
      "shap       INFO  np.sum(w_aug) = 23.0\n",
      "shap       INFO  np.sum(self.kernelWeights) = 1.0000000000000004\n",
      "shap       INFO  phi = array([ 1.81624014e+04, -7.54600549e+03, -2.25944921e+03, -1.31658213e+03,\n",
      "       -5.14534291e+01,  6.57245973e+01,  5.93948892e+02,  1.89415852e+03,\n",
      "       -7.26818563e+01,  5.01719495e+00,  2.19972401e+02,  1.26715841e+02,\n",
      "        2.61999717e+03, -2.14981361e+03, -1.61833895e+01,  1.53529452e+03,\n",
      "       -1.28530449e+03,  8.83569073e+02, -1.29868782e+02,  4.89672184e+02,\n",
      "       -6.03068305e+01,  8.30248156e+02,  1.11075737e+01])\n",
      "shap       INFO  num_full_subsets = 1\n",
      "shap       INFO  remaining_weight_vector = array([0.20701126, 0.14490788, 0.11440096, 0.09660526, 0.08523993,\n",
      "       0.07762922, 0.07245394, 0.06900375, 0.06688056, 0.06586722])\n",
      "shap       INFO  num_paired_subset_sizes = 11\n",
      "shap       INFO  weight_left = 0.7167414131850209\n",
      "shap       INFO  np.sum(w_aug) = 23.000000000000007\n",
      "shap       INFO  np.sum(self.kernelWeights) = 1.0000000000000002\n",
      "shap       INFO  phi = array([ 7383.95683782, -1393.91332971, -1712.63398817,  -595.54168888,\n",
      "         -11.80860395,   564.11357675,   586.94323273,  1968.14405317,\n",
      "         -67.8998646 ,    30.51256985,   265.6126379 ,   221.37623751,\n",
      "        2671.75527154, -2151.84636923,     0.        ,  1296.52101877,\n",
      "       -1221.1792711 ,   883.22864745,  -117.94831646,   313.27069373,\n",
      "         -44.60944523,   801.77184245,    14.37778973])\n",
      "shap       INFO  num_full_subsets = 1\n",
      "shap       INFO  remaining_weight_vector = array([0.20701126, 0.14490788, 0.11440096, 0.09660526, 0.08523993,\n",
      "       0.07762922, 0.07245394, 0.06900375, 0.06688056, 0.06586722])\n",
      "shap       INFO  num_paired_subset_sizes = 11\n",
      "shap       INFO  weight_left = 0.7167414131850209\n",
      "shap       INFO  np.sum(w_aug) = 23.000000000000007\n",
      "shap       INFO  np.sum(self.kernelWeights) = 1.0000000000000002\n",
      "shap       INFO  phi = array([ 3353.05252076,  1322.17677392, -1464.50109973,  -501.94115594,\n",
      "          -5.93051691,   381.50424235,   543.38343425,  2228.96022453,\n",
      "         -29.56358961,    10.26679586,   270.90945301,   201.56729494,\n",
      "        2597.87728168, -2155.78174631,    23.33563176,  1053.67544143,\n",
      "       -1282.77647593,   874.73772574,  -101.33249872,   252.39846512,\n",
      "         -43.27581798,   740.52245162,    11.52442846])\n",
      "shap       INFO  num_full_subsets = 1\n",
      "shap       INFO  remaining_weight_vector = array([0.20701126, 0.14490788, 0.11440096, 0.09660526, 0.08523993,\n",
      "       0.07762922, 0.07245394, 0.06900375, 0.06688056, 0.06586722])\n",
      "shap       INFO  num_paired_subset_sizes = 11\n",
      "shap       INFO  weight_left = 0.7167414131850209\n",
      "shap       INFO  np.sum(w_aug) = 23.0\n",
      "shap       INFO  np.sum(self.kernelWeights) = 0.9999999999999999\n",
      "shap       INFO  phi = array([ 5031.86950997,  -501.8312163 , -1479.52393254,  -258.89794709,\n",
      "           0.        ,   595.16668345,   547.83943427,  1647.92372293,\n",
      "         -37.84308196,    24.71338477,   273.38444802,   167.13864557,\n",
      "        2602.36912517, -2155.85327268,    27.88785562,   780.59354758,\n",
      "       -1275.06317109,   885.01770136,  -109.21785182,   266.65023937,\n",
      "         -50.70364057,   825.40745895,     7.50024555])\n",
      "shap       INFO  num_full_subsets = 1\n",
      "shap       INFO  remaining_weight_vector = array([0.20701126, 0.14490788, 0.11440096, 0.09660526, 0.08523993,\n",
      "       0.07762922, 0.07245394, 0.06900375, 0.06688056, 0.06586722])\n",
      "shap       INFO  num_paired_subset_sizes = 11\n",
      "shap       INFO  weight_left = 0.7167414131850209\n",
      "shap       INFO  np.sum(w_aug) = 23.000000000000007\n",
      "shap       INFO  np.sum(self.kernelWeights) = 1.0\n",
      "shap       INFO  phi = array([ -179.68502249,  -254.88627295, -1164.75801128,   144.22109407,\n",
      "          20.10711922,   720.31852495,   549.12601814,  1597.67727177,\n",
      "         -45.34463246,    17.67919865,   277.77610037,    99.90632104,\n",
      "        2554.98209173, -2162.45406887,    28.74053513,   617.03013601,\n",
      "       -1234.37492037,   877.88919212,  -117.14860245,   286.94571607,\n",
      "         -55.62295849,   655.83868104,     5.30353188])\n",
      "shap       INFO  num_full_subsets = 1\n",
      "shap       INFO  remaining_weight_vector = array([0.20701126, 0.14490788, 0.11440096, 0.09660526, 0.08523993,\n",
      "       0.07762922, 0.07245394, 0.06900375, 0.06688056, 0.06586722])\n",
      "shap       INFO  num_paired_subset_sizes = 11\n",
      "shap       INFO  weight_left = 0.7167414131850209\n",
      "shap       INFO  np.sum(w_aug) = 23.000000000000007\n",
      "shap       INFO  np.sum(self.kernelWeights) = 1.0\n",
      "shap       INFO  phi = array([ 3579.12532696, -1715.2561178 ,  -756.14224359,   303.84544987,\n",
      "         132.76402916,   592.58993494,   464.14624463,   232.04300093,\n",
      "         -52.32538657,    18.17957917,   377.18610827,    90.2120023 ,\n",
      "        2470.33405458, -2284.92867107,    33.82863177,   479.29751302,\n",
      "       -1224.26968167,   980.08256989,  -116.48085611,   351.94581526,\n",
      "         -68.22020916,   592.02950693,     0.        ])\n",
      "shap       INFO  num_full_subsets = 1\n",
      "shap       INFO  remaining_weight_vector = array([0.20701126, 0.14490788, 0.11440096, 0.09660526, 0.08523993,\n",
      "       0.07762922, 0.07245394, 0.06900375, 0.06688056, 0.06586722])\n",
      "shap       INFO  num_paired_subset_sizes = 11\n",
      "shap       INFO  weight_left = 0.7167414131850209\n",
      "shap       INFO  np.sum(w_aug) = 23.000000000000007\n",
      "shap       INFO  np.sum(self.kernelWeights) = 1.0\n",
      "shap       INFO  phi = array([ 1.68655164e+04, -5.81941292e+03, -8.90174445e+02, -1.34644162e+02,\n",
      "        2.82355974e+02,  4.58143674e+02,  1.69890204e+02, -1.11110754e+03,\n",
      "       -5.44188613e+01,  7.05500345e+00,  4.64250913e+02,  0.00000000e+00,\n",
      "        2.40321931e+03, -2.28633518e+03,  2.64400846e+01,  3.86970353e+02,\n",
      "       -1.21147246e+03,  9.35404477e+02, -1.21713435e+02,  4.12169714e+02,\n",
      "       -7.26856591e+01,  5.14226609e+02,  1.21143502e+01])\n",
      "shap       INFO  num_full_subsets = 1\n",
      "shap       INFO  remaining_weight_vector = array([0.20701126, 0.14490788, 0.11440096, 0.09660526, 0.08523993,\n",
      "       0.07762922, 0.07245394, 0.06900375, 0.06688056, 0.06586722])\n",
      "shap       INFO  num_paired_subset_sizes = 11\n",
      "shap       INFO  weight_left = 0.7167414131850209\n",
      "shap       INFO  np.sum(w_aug) = 23.000000000000007\n",
      "shap       INFO  np.sum(self.kernelWeights) = 1.0\n",
      "shap       INFO  phi = array([ 1.53413667e+04, -5.45073597e+03, -1.12927701e+03, -4.74269396e+01,\n",
      "        3.75713671e+02,  3.54735979e+02,  3.71268273e+02, -5.29938390e+02,\n",
      "       -7.08527464e+01,  2.11987525e+01,  5.44689773e+02,  0.00000000e+00,\n",
      "        2.52789184e+03, -2.15769252e+03, -7.07396123e+00,  3.32245562e+02,\n",
      "       -1.19102573e+03,  9.17250556e+02, -1.12412501e+02,  3.91969449e+02,\n",
      "       -5.18608031e+01,  4.42331072e+02,  1.02531880e+01])\n",
      "shap       INFO  num_full_subsets = 1\n",
      "shap       INFO  remaining_weight_vector = array([0.20701126, 0.14490788, 0.11440096, 0.09660526, 0.08523993,\n",
      "       0.07762922, 0.07245394, 0.06900375, 0.06688056, 0.06586722])\n",
      "shap       INFO  num_paired_subset_sizes = 11\n",
      "shap       INFO  weight_left = 0.7167414131850209\n",
      "shap       INFO  np.sum(w_aug) = 23.000000000000007\n",
      "shap       INFO  np.sum(self.kernelWeights) = 1.0\n",
      "shap       INFO  phi = array([ 1.05764653e+04, -4.76876877e+03, -6.35850320e+02, -1.23444606e+02,\n",
      "        4.00270735e+02,  1.35896460e+02,  9.04239707e+01, -3.26077969e+02,\n",
      "       -5.84616817e+01,  1.04986961e+01,  5.43755904e+02, -2.42737427e+01,\n",
      "        2.47912570e+03, -2.28245197e+03,  2.76656626e+01,  2.63809903e+02,\n",
      "       -1.20961777e+03,  9.86566416e+02, -9.69025661e+01,  3.56821678e+02,\n",
      "       -6.57350187e+01,  4.47058028e+02,  4.10912352e+00])\n",
      "shap       INFO  num_full_subsets = 1\n",
      "shap       INFO  remaining_weight_vector = array([0.20701126, 0.14490788, 0.11440096, 0.09660526, 0.08523993,\n",
      "       0.07762922, 0.07245394, 0.06900375, 0.06688056, 0.06586722])\n",
      "shap       INFO  num_paired_subset_sizes = 11\n",
      "shap       INFO  weight_left = 0.7167414131850209\n",
      "shap       INFO  np.sum(w_aug) = 23.000000000000004\n",
      "shap       INFO  np.sum(self.kernelWeights) = 1.0\n",
      "shap       INFO  phi = array([ 8.56444318e+03, -3.50792112e+03, -5.16468962e+02, -2.71355537e+01,\n",
      "        3.84208802e+02,  3.29037672e+02,  9.23175437e+01, -3.15438938e+02,\n",
      "       -5.00275015e+01,  1.95566009e+01,  5.49914721e+02, -3.96845962e+01,\n",
      "        2.54346157e+03, -2.28833701e+03,  2.47221664e+01,  1.73277419e+02,\n",
      "       -1.14303700e+03,  8.32306655e+02, -8.41241198e+01,  3.73748209e+02,\n",
      "       -6.59782010e+01,  4.50377616e+02, -4.65891571e+00])\n",
      "shap       INFO  num_full_subsets = 1\n",
      "shap       INFO  remaining_weight_vector = array([0.20701126, 0.14490788, 0.11440096, 0.09660526, 0.08523993,\n",
      "       0.07762922, 0.07245394, 0.06900375, 0.06688056, 0.06586722])\n",
      "shap       INFO  num_paired_subset_sizes = 11\n",
      "shap       INFO  weight_left = 0.7167414131850209\n",
      "shap       INFO  np.sum(w_aug) = 23.000000000000004\n",
      "shap       INFO  np.sum(self.kernelWeights) = 1.0000000000000004\n",
      "shap       INFO  phi = array([ 7411.66519291, -3429.82296407,   -93.63963444,  1137.47618978,\n",
      "         392.22448445,   191.54552698,   154.27391371, -2032.30062885,\n",
      "         -70.91503087,    22.03747447,   549.06012633,   -40.65527375,\n",
      "        2289.64527557, -2157.02072828,    21.66248775,   145.88567035,\n",
      "       -1098.62992564,   838.51132879,   -83.20264148,   360.66596141,\n",
      "         -61.84459224,   374.95263928,     0.        ])\n",
      "shap       INFO  num_full_subsets = 1\n",
      "shap       INFO  remaining_weight_vector = array([0.20701126, 0.14490788, 0.11440096, 0.09660526, 0.08523993,\n",
      "       0.07762922, 0.07245394, 0.06900375, 0.06688056, 0.06586722])\n",
      "shap       INFO  num_paired_subset_sizes = 11\n",
      "shap       INFO  weight_left = 0.7167414131850209\n",
      "shap       INFO  np.sum(w_aug) = 23.000000000000004\n",
      "shap       INFO  np.sum(self.kernelWeights) = 1.0000000000000004\n",
      "shap       INFO  phi = array([ 1742.69816531, -3383.34984829,  -134.51938438,  1258.17537251,\n",
      "         389.57730349,   522.56913378,   185.51060437, -1222.59908628,\n",
      "         -68.37175499,     8.07470526,   647.73318437,   -12.35323684,\n",
      "        2211.93650272, -2160.39909   ,    34.07845456,   126.89795217,\n",
      "       -1093.78567824,   832.53428003,   -95.96537722,   374.84247884,\n",
      "         -48.72122404,   387.72547555,    -5.29528511])\n",
      "shap       INFO  num_full_subsets = 1\n",
      "shap       INFO  remaining_weight_vector = array([0.20701126, 0.14490788, 0.11440096, 0.09660526, 0.08523993,\n",
      "       0.07762922, 0.07245394, 0.06900375, 0.06688056, 0.06586722])\n",
      "shap       INFO  num_paired_subset_sizes = 11\n",
      "shap       INFO  weight_left = 0.7167414131850209\n",
      "shap       INFO  np.sum(w_aug) = 23.0\n",
      "shap       INFO  np.sum(self.kernelWeights) = 1.0\n",
      "shap       INFO  phi = array([-2517.34789719, -1930.97228561,  -261.54410791,   368.44013429,\n",
      "         393.61785049,   514.20913502,    93.48374395,   704.58305534,\n",
      "         -39.25985158,    12.01188309,   536.69516766,    41.99049661,\n",
      "        2254.5514305 , -2151.65096837,    19.43404145,   124.66654827,\n",
      "       -1119.62334403,   783.15631059,  -103.3990855 ,   393.66755349,\n",
      "         -71.11132749,   394.04006334,     9.03467627])\n",
      "shap       INFO  num_full_subsets = 1\n",
      "shap       INFO  remaining_weight_vector = array([0.20701126, 0.14490788, 0.11440096, 0.09660526, 0.08523993,\n",
      "       0.07762922, 0.07245394, 0.06900375, 0.06688056, 0.06586722])\n",
      "shap       INFO  num_paired_subset_sizes = 11\n",
      "shap       INFO  weight_left = 0.7167414131850209\n",
      "shap       INFO  np.sum(w_aug) = 23.000000000000007\n",
      "shap       INFO  np.sum(self.kernelWeights) = 1.0000000000000002\n",
      "shap       INFO  phi = array([ 5802.76880118, -1660.50085481,  -719.7103306 ,  -819.35862462,\n",
      "         404.03971852,   124.25746533,   -93.61451521,  1435.73314075,\n",
      "         -20.02408496,    -9.09303625,   473.70819088,     5.99889573,\n",
      "        2245.55590879, -2162.1884298 ,    24.07061203,    98.73756021,\n",
      "       -1124.76345681,   829.18018099,   -80.69324043,   412.41081128,\n",
      "         -66.50974207,   346.56947502,    13.00825758])\n",
      "shap       INFO  num_full_subsets = 1\n",
      "shap       INFO  remaining_weight_vector = array([0.20701126, 0.14490788, 0.11440096, 0.09660526, 0.08523993,\n",
      "       0.07762922, 0.07245394, 0.06900375, 0.06688056, 0.06586722])\n",
      "shap       INFO  num_paired_subset_sizes = 11\n",
      "shap       INFO  weight_left = 0.7167414131850209\n",
      "shap       INFO  np.sum(w_aug) = 23.000000000000004\n",
      "shap       INFO  np.sum(self.kernelWeights) = 1.0\n",
      "shap       INFO  phi = array([ 1.14923594e+04, -5.34931711e+03, -6.13131528e+02, -4.14488192e+02,\n",
      "        4.75237390e+02,  6.46667735e+01, -1.31079903e+02, -6.23638327e+01,\n",
      "       -3.66287381e+01,  9.08095808e+00,  4.75594684e+02, -3.87846694e+01,\n",
      "        2.31450282e+03, -2.27001135e+03,  2.41069619e+01,  8.14865906e+01,\n",
      "       -1.12870513e+03,  8.78952502e+02, -8.56180687e+01,  4.30515983e+02,\n",
      "       -6.15522432e+01,  2.23623090e+02,  6.28664288e+00])\n",
      "shap       INFO  num_full_subsets = 1\n",
      "shap       INFO  remaining_weight_vector = array([0.20701126, 0.14490788, 0.11440096, 0.09660526, 0.08523993,\n",
      "       0.07762922, 0.07245394, 0.06900375, 0.06688056, 0.06586722])\n",
      "shap       INFO  num_paired_subset_sizes = 11\n",
      "shap       INFO  weight_left = 0.7167414131850209\n",
      "shap       INFO  np.sum(w_aug) = 23.0\n",
      "shap       INFO  np.sum(self.kernelWeights) = 1.0000000000000002\n",
      "shap       INFO  phi = array([ 1.18612649e+04, -6.37828936e+03, -2.76885697e+02,  8.82238737e+02,\n",
      "        5.80898197e+02,  2.00564526e+02,  2.34800357e+02, -2.08616096e+03,\n",
      "       -6.32767591e+01, -1.45311576e+01,  8.22197142e+02, -4.84069270e+01,\n",
      "        2.26625265e+03, -2.15594398e+03,  2.07892418e+01,  6.80048263e+01,\n",
      "       -1.10790810e+03,  8.21335075e+02, -7.64948915e+01,  3.99564968e+02,\n",
      "       -5.74218756e+01,  2.27130033e+02,  1.10667856e+01])\n",
      "shap       INFO  num_full_subsets = 1\n",
      "shap       INFO  remaining_weight_vector = array([0.20701126, 0.14490788, 0.11440096, 0.09660526, 0.08523993,\n",
      "       0.07762922, 0.07245394, 0.06900375, 0.06688056, 0.06586722])\n",
      "shap       INFO  num_paired_subset_sizes = 11\n",
      "shap       INFO  weight_left = 0.7167414131850209\n",
      "shap       INFO  np.sum(w_aug) = 23.000000000000004\n",
      "shap       INFO  np.sum(self.kernelWeights) = 1.0000000000000002\n",
      "shap       INFO  phi = array([ 6422.47600206, -5137.16324246,   206.6209542 ,  2109.65697177,\n",
      "         621.40166997,   227.8733233 ,   327.92089601, -3280.97430251,\n",
      "         -67.82170626,   -13.44698441,   824.17897332,   -30.59102723,\n",
      "        2264.63797774, -2150.94536844,    28.85149917,    59.51133181,\n",
      "       -1064.72830457,   835.31327823,   -64.05528496,   305.53151258,\n",
      "         -27.58056178,    15.45222705,     0.        ])\n",
      "shap       INFO  num_full_subsets = 1\n",
      "shap       INFO  remaining_weight_vector = array([0.20701126, 0.14490788, 0.11440096, 0.09660526, 0.08523993,\n",
      "       0.07762922, 0.07245394, 0.06900375, 0.06688056, 0.06586722])\n",
      "shap       INFO  num_paired_subset_sizes = 11\n",
      "shap       INFO  weight_left = 0.7167414131850209\n",
      "shap       INFO  np.sum(w_aug) = 23.0\n",
      "shap       INFO  np.sum(self.kernelWeights) = 1.0000000000000002\n",
      "shap       INFO  phi = array([-1144.93034966, -1291.70273107,   415.67792044,  2139.52538632,\n",
      "         571.20607907,   -32.09030115,   251.36993792, -2361.20613016,\n",
      "         -50.34978478,   -14.74034859,   826.46448001,     0.        ,\n",
      "        2169.90833668, -2147.50502062,    15.70460139,    48.22935564,\n",
      "        -991.3192153 ,   832.64082985,   -49.2606305 ,   223.93673862,\n",
      "         -33.99670692,    10.81054254,   -15.18008951])\n",
      "shap       INFO  num_full_subsets = 1\n",
      "shap       INFO  remaining_weight_vector = array([0.20701126, 0.14490788, 0.11440096, 0.09660526, 0.08523993,\n",
      "       0.07762922, 0.07245394, 0.06900375, 0.06688056, 0.06586722])\n",
      "shap       INFO  num_paired_subset_sizes = 11\n",
      "shap       INFO  weight_left = 0.7167414131850209\n",
      "shap       INFO  np.sum(w_aug) = 23.000000000000004\n",
      "shap       INFO  np.sum(self.kernelWeights) = 1.0\n",
      "shap       INFO  phi = array([-5715.78145365,  -265.96562716,   290.48025257,  1290.32726218,\n",
      "         585.11236157,   137.15499717,   291.99007321,  -474.56626923,\n",
      "         -24.40408818,   -20.45130016,   833.70599377,     0.        ,\n",
      "        1825.97930489, -2151.75701862,    19.77251487,    25.69065257,\n",
      "        -903.76664447,   831.09025654,   -74.09481688,   303.60276522,\n",
      "         -61.32126504,     0.        ,    -6.7872865 ])\n",
      "shap       INFO  num_full_subsets = 1\n",
      "shap       INFO  remaining_weight_vector = array([0.20701126, 0.14490788, 0.11440096, 0.09660526, 0.08523993,\n",
      "       0.07762922, 0.07245394, 0.06900375, 0.06688056, 0.06586722])\n",
      "shap       INFO  num_paired_subset_sizes = 11\n",
      "shap       INFO  weight_left = 0.7167414131850209\n",
      "shap       INFO  np.sum(w_aug) = 23.000000000000007\n",
      "shap       INFO  np.sum(self.kernelWeights) = 1.0000000000000004\n",
      "shap       INFO  phi = array([-5609.01043001,   124.12463165,    39.4285073 ,   498.08502524,\n",
      "         587.85898017,    77.40215216,   125.94434747,   835.19305482,\n",
      "           0.        ,   -13.42210402,   818.05418375,    33.66928344,\n",
      "        1780.69030205, -2164.36118178,    29.45026078,    19.37394756,\n",
      "        -930.82063655,   778.53332679,  -102.54389495,   407.23432925,\n",
      "         -65.81572106,    24.05575203,    -7.95512145])\n",
      "shap       INFO  num_full_subsets = 1\n",
      "shap       INFO  remaining_weight_vector = array([0.20701126, 0.14490788, 0.11440096, 0.09660526, 0.08523993,\n",
      "       0.07762922, 0.07245394, 0.06900375, 0.06688056, 0.06586722])\n",
      "shap       INFO  num_paired_subset_sizes = 11\n",
      "shap       INFO  weight_left = 0.7167414131850209\n",
      "shap       INFO  np.sum(w_aug) = 23.0\n",
      "shap       INFO  np.sum(self.kernelWeights) = 0.9999999999999999\n",
      "shap       INFO  phi = array([ 6593.22088457, -3009.8390558 ,  -227.97570153,  -665.57723643,\n",
      "         598.54071252,  -236.33452541,   -58.76457575,   528.48049831,\n",
      "           0.        ,    13.62208342,    20.88544897,    57.98860973,\n",
      "        1834.36438031, -2152.19509836,    30.55014274,    33.5231722 ,\n",
      "        -959.09186782,   827.55008081,  -113.44856307,   437.89505297,\n",
      "         -64.16182487,    40.84895735,     0.        ])\n",
      "shap       INFO  num_full_subsets = 1\n",
      "shap       INFO  remaining_weight_vector = array([0.20701126, 0.14490788, 0.11440096, 0.09660526, 0.08523993,\n",
      "       0.07762922, 0.07245394, 0.06900375, 0.06688056, 0.06586722])\n",
      "shap       INFO  num_paired_subset_sizes = 11\n",
      "shap       INFO  weight_left = 0.7167414131850209\n",
      "shap       INFO  np.sum(w_aug) = 23.000000000000007\n",
      "shap       INFO  np.sum(self.kernelWeights) = 0.9999999999999999\n",
      "shap       INFO  phi = array([ 8.60081096e+03, -2.15350168e+03, -6.07784990e+02, -1.10282978e+03,\n",
      "        6.48348663e+02, -1.98180953e+02, -1.64183076e+02,  1.35192834e+03,\n",
      "        2.39168759e+01, -5.22330632e+00,  2.53350816e+01,  5.14203623e+00,\n",
      "        1.99420960e+03, -2.28142635e+03,  1.84339239e+01,  4.83962238e+01,\n",
      "       -1.01165168e+03,  8.84043385e+02, -1.03449064e+02,  4.73781705e+02,\n",
      "       -7.01685399e+01,  3.05058163e+01, -2.02204956e+01])\n",
      "shap       INFO  num_full_subsets = 1\n",
      "shap       INFO  remaining_weight_vector = array([0.20701126, 0.14490788, 0.11440096, 0.09660526, 0.08523993,\n",
      "       0.07762922, 0.07245394, 0.06900375, 0.06688056, 0.06586722])\n",
      "shap       INFO  num_paired_subset_sizes = 11\n",
      "shap       INFO  weight_left = 0.7167414131850209\n",
      "shap       INFO  np.sum(w_aug) = 23.000000000000004\n",
      "shap       INFO  np.sum(self.kernelWeights) = 1.0000000000000002\n",
      "shap       INFO  phi = array([ 9.45743652e+03, -4.89653592e+03, -2.03936496e+02, -5.43967107e+02,\n",
      "        4.86491370e+02,  4.40075080e+01, -2.28508235e+02, -2.11521720e+02,\n",
      "        3.02758099e+01,  9.93183910e+00,  1.48404916e+01, -2.45447771e+01,\n",
      "        2.08006649e+03, -2.29607224e+03, -7.81069050e+00,  5.22900687e+01,\n",
      "       -1.00484107e+03,  8.74861411e+02, -9.53429513e+01,  4.94951160e+02,\n",
      "       -7.42956443e+01,  3.38901981e+01, -3.37937157e+00])\n",
      "shap       INFO  num_full_subsets = 1\n",
      "shap       INFO  remaining_weight_vector = array([0.20701126, 0.14490788, 0.11440096, 0.09660526, 0.08523993,\n",
      "       0.07762922, 0.07245394, 0.06900375, 0.06688056, 0.06586722])\n",
      "shap       INFO  num_paired_subset_sizes = 11\n",
      "shap       INFO  weight_left = 0.7167414131850209\n",
      "shap       INFO  np.sum(w_aug) = 23.000000000000007\n",
      "shap       INFO  np.sum(self.kernelWeights) = 1.0\n",
      "shap       INFO  phi = array([ 7153.66663587, -2760.54993736,   -88.87292148,   250.61183933,\n",
      "         255.00769749,   197.6315237 ,   -42.90346689, -1104.63851244,\n",
      "          23.80894833,    10.32967611,    22.76010156,    11.10109271,\n",
      "        2024.58346648, -2284.24898517,  -175.71554084,   213.04340749,\n",
      "        -971.36246684,   872.53466204,   -97.86744123,   487.32418618,\n",
      "         -64.51566536,    39.37458415,   -37.78192039])\n",
      "shap       INFO  num_full_subsets = 1\n",
      "shap       INFO  remaining_weight_vector = array([0.20701126, 0.14490788, 0.11440096, 0.09660526, 0.08523993,\n",
      "       0.07762922, 0.07245394, 0.06900375, 0.06688056, 0.06586722])\n",
      "shap       INFO  num_paired_subset_sizes = 11\n",
      "shap       INFO  weight_left = 0.7167414131850209\n",
      "shap       INFO  np.sum(w_aug) = 23.000000000000007\n",
      "shap       INFO  np.sum(self.kernelWeights) = 1.0000000000000004\n",
      "shap       INFO  phi = array([ 1.00005952e+04, -2.10415812e+03, -2.76881009e+02, -1.96156974e+02,\n",
      "        1.82734581e+02,  2.54322792e+02,  3.25846915e+02, -9.98424356e+02,\n",
      "        2.09654476e+01,  1.52041625e+01,  2.35090763e+01, -7.58573380e+00,\n",
      "        2.00988071e+03, -2.27812530e+03, -1.82727021e+02,  3.45405509e+02,\n",
      "       -9.87091044e+02,  8.75812610e+02, -1.18407145e+02,  5.25022208e+02,\n",
      "       -9.68431308e+01,  2.93697039e+01, -4.55231808e+01])\n",
      "shap       INFO  num_full_subsets = 1\n",
      "shap       INFO  remaining_weight_vector = array([0.20701126, 0.14490788, 0.11440096, 0.09660526, 0.08523993,\n",
      "       0.07762922, 0.07245394, 0.06900375, 0.06688056, 0.06586722])\n",
      "shap       INFO  num_paired_subset_sizes = 11\n",
      "shap       INFO  weight_left = 0.7167414131850209\n",
      "shap       INFO  np.sum(w_aug) = 23.000000000000004\n",
      "shap       INFO  np.sum(self.kernelWeights) = 1.0\n",
      "shap       INFO  phi = array([ 1.72221744e+04, -6.83323203e+03, -2.51334224e+02,  4.34330522e+02,\n",
      "        2.00742488e+02,  5.72135801e+02, -1.21175089e+02, -2.83930662e+03,\n",
      "       -1.33660120e+01, -2.96720661e+00,  2.58149114e+01,  8.32992742e+00,\n",
      "        2.04440244e+03, -2.28399311e+03, -2.33830591e+02,  5.29205246e+02,\n",
      "       -1.03013869e+03,  8.87625835e+02, -1.49724430e+02,  7.25439182e+02,\n",
      "       -1.17686142e+02,  1.44296333e+01,  0.00000000e+00])\n",
      "shap       INFO  num_full_subsets = 1\n",
      "shap       INFO  remaining_weight_vector = array([0.20701126, 0.14490788, 0.11440096, 0.09660526, 0.08523993,\n",
      "       0.07762922, 0.07245394, 0.06900375, 0.06688056, 0.06586722])\n",
      "shap       INFO  num_paired_subset_sizes = 11\n",
      "shap       INFO  weight_left = 0.7167414131850209\n",
      "shap       INFO  np.sum(w_aug) = 23.000000000000007\n",
      "shap       INFO  np.sum(self.kernelWeights) = 1.0000000000000004\n",
      "shap       INFO  phi = array([ 1.00657953e+04, -4.16339122e+03, -9.42526706e+01, -3.16274381e+02,\n",
      "        2.08957596e+02,  4.21989850e+02, -4.02866667e+02, -9.91681033e+02,\n",
      "       -1.01057516e+01,  1.68120335e+01, -4.58972411e+01, -2.70601920e+01,\n",
      "        2.15113483e+03, -2.27961764e+03,  4.24809857e+00,  3.95895916e+02,\n",
      "       -1.04687589e+03,  8.39090701e+02, -1.54154908e+02,  6.94574352e+02,\n",
      "       -8.92138067e+01,  2.69683822e+01, -1.42234796e+01])\n",
      "shap       INFO  num_full_subsets = 1\n",
      "shap       INFO  remaining_weight_vector = array([0.20701126, 0.14490788, 0.11440096, 0.09660526, 0.08523993,\n",
      "       0.07762922, 0.07245394, 0.06900375, 0.06688056, 0.06586722])\n",
      "shap       INFO  num_paired_subset_sizes = 11\n",
      "shap       INFO  weight_left = 0.7167414131850209\n",
      "shap       INFO  np.sum(w_aug) = 23.000000000000004\n",
      "shap       INFO  np.sum(self.kernelWeights) = 1.0000000000000004\n",
      "shap       INFO  phi = array([ 1.23739139e+04, -3.55578938e+03, -3.40450300e+02, -1.15729330e+03,\n",
      "        1.84957220e+02,  1.88292280e+02, -4.09424536e+02, -4.48740991e+01,\n",
      "       -1.26195451e+01,  1.24285681e+01, -4.22045543e+01, -3.84909825e+01,\n",
      "        2.37842551e+03, -2.29607401e+03,  1.20963125e+01,  2.47007176e+02,\n",
      "       -1.15169641e+03,  8.85488259e+02, -1.05415159e+02,  6.15829018e+02,\n",
      "       -9.82880818e+01,  2.34750163e+01, -6.15434435e+00])\n",
      "shap       INFO  num_full_subsets = 1\n",
      "shap       INFO  remaining_weight_vector = array([0.20701126, 0.14490788, 0.11440096, 0.09660526, 0.08523993,\n",
      "       0.07762922, 0.07245394, 0.06900375, 0.06688056, 0.06586722])\n",
      "shap       INFO  num_paired_subset_sizes = 11\n",
      "shap       INFO  weight_left = 0.7167414131850209\n",
      "shap       INFO  np.sum(w_aug) = 23.0\n",
      "shap       INFO  np.sum(self.kernelWeights) = 1.0000000000000002\n",
      "shap       INFO  phi = array([ 6.90125556e+03, -3.81793043e+03, -1.33992413e+02, -7.38126404e+02,\n",
      "        1.88392492e+02,  1.66551942e+02, -4.40659822e+02,  1.13193343e+02,\n",
      "       -4.21107447e+01,  1.47867102e+01, -4.65410632e+01, -4.68842720e+01,\n",
      "        2.40164562e+03, -2.27320648e+03,  2.98820038e+01,  1.26819383e+02,\n",
      "       -1.12182283e+03,  8.36178066e+02, -8.54016658e+01,  5.70817583e+02,\n",
      "       -6.98123424e+01, -3.83880297e+00, -1.43809469e+01])\n",
      "shap       INFO  num_full_subsets = 1\n",
      "shap       INFO  remaining_weight_vector = array([0.20701126, 0.14490788, 0.11440096, 0.09660526, 0.08523993,\n",
      "       0.07762922, 0.07245394, 0.06900375, 0.06688056, 0.06586722])\n",
      "shap       INFO  num_paired_subset_sizes = 11\n",
      "shap       INFO  weight_left = 0.7167414131850209\n",
      "shap       INFO  np.sum(w_aug) = 23.000000000000007\n",
      "shap       INFO  np.sum(self.kernelWeights) = 1.0000000000000002\n",
      "shap       INFO  phi = array([  359.23689133, -1855.52728111,   104.13036135,  -261.71760059,\n",
      "         271.72512315,   267.87268819,  -144.0095084 ,   262.95097519,\n",
      "         -33.25408815,    12.67373397,   -46.19922458,   -38.97799832,\n",
      "        2352.85893665, -2276.13881059,    29.56100673,    70.04190986,\n",
      "       -1087.0357794 ,   832.35564364,   -52.69675844,   424.63057551,\n",
      "         -44.07175701,    -5.730298  ,    16.48355701])\n",
      "shap       INFO  num_full_subsets = 1\n",
      "shap       INFO  remaining_weight_vector = array([0.20701126, 0.14490788, 0.11440096, 0.09660526, 0.08523993,\n",
      "       0.07762922, 0.07245394, 0.06900375, 0.06688056, 0.06586722])\n",
      "shap       INFO  num_paired_subset_sizes = 11\n",
      "shap       INFO  weight_left = 0.7167414131850209\n",
      "shap       INFO  np.sum(w_aug) = 23.000000000000004\n",
      "shap       INFO  np.sum(self.kernelWeights) = 1.0000000000000004\n",
      "shap       INFO  phi = array([ 1.42090580e+03, -4.80070100e+03,  1.50767104e+02,  5.14039544e+02,\n",
      "        6.67918886e+02,  2.08914578e+02,  2.81206266e+01, -5.37693169e+02,\n",
      "       -5.97713352e+01,  2.04978275e+01, -3.88239329e+01, -2.85123094e+01,\n",
      "        2.39878402e+03, -2.27995415e+03,  2.37274962e+01,  4.28556485e+01,\n",
      "       -9.76764049e+02,  8.36764098e+02, -3.17960810e+01,  3.03668473e+02,\n",
      "       -4.41282807e+01, -4.62175555e+00,  1.77011471e+01])\n",
      "shap       INFO  num_full_subsets = 1\n",
      "shap       INFO  remaining_weight_vector = array([0.20701126, 0.14490788, 0.11440096, 0.09660526, 0.08523993,\n",
      "       0.07762922, 0.07245394, 0.06900375, 0.06688056, 0.06586722])\n",
      "shap       INFO  num_paired_subset_sizes = 11\n",
      "shap       INFO  weight_left = 0.7167414131850209\n",
      "shap       INFO  np.sum(w_aug) = 23.0\n",
      "shap       INFO  np.sum(self.kernelWeights) = 1.0000000000000002\n",
      "shap       INFO  phi = array([ 1464.39377803, -3044.9660114 ,   577.69981151,  1275.789413  ,\n",
      "         755.50935968,   287.58498308,  -236.43301199, -1910.29569113,\n",
      "         -54.62633768,     4.94136934,   -37.548517  ,    -7.73836089,\n",
      "        2138.11374513, -2279.14107727,    35.00744893,    35.22985052,\n",
      "        -984.9694096 ,   841.01108849,   -49.28208157,   355.45008951,\n",
      "         -53.12508886,     0.        ,    32.00588897])\n",
      "shap       INFO  num_full_subsets = 1\n",
      "shap       INFO  remaining_weight_vector = array([0.20701126, 0.14490788, 0.11440096, 0.09660526, 0.08523993,\n",
      "       0.07762922, 0.07245394, 0.06900375, 0.06688056, 0.06586722])\n",
      "shap       INFO  num_paired_subset_sizes = 11\n",
      "shap       INFO  weight_left = 0.7167414131850209\n",
      "shap       INFO  np.sum(w_aug) = 23.0\n",
      "shap       INFO  np.sum(self.kernelWeights) = 1.0000000000000002\n",
      "shap       INFO  phi = array([ 1445.24016568, -5589.39638059,   530.85595426,   824.7665727 ,\n",
      "         781.62347695,   292.22118669,  -504.11740635, -1257.21140142,\n",
      "         -38.27772788,    16.77878798,   -35.10406535,   -30.09820406,\n",
      "        2115.77040923, -2286.07021742,   -10.96085695,    50.14134645,\n",
      "        -993.00783594,   882.0307799 ,   -81.11795121,   545.39187665,\n",
      "         -84.99228465,     8.24289459,    13.60555319])\n",
      "shap       INFO  num_full_subsets = 1\n",
      "shap       INFO  remaining_weight_vector = array([0.20701126, 0.14490788, 0.11440096, 0.09660526, 0.08523993,\n",
      "       0.07762922, 0.07245394, 0.06900375, 0.06688056, 0.06586722])\n",
      "shap       INFO  num_paired_subset_sizes = 11\n",
      "shap       INFO  weight_left = 0.7167414131850209\n",
      "shap       INFO  np.sum(w_aug) = 23.0\n",
      "shap       INFO  np.sum(self.kernelWeights) = 1.0000000000000004\n",
      "shap       INFO  phi = array([-2.35055234e+03, -5.62177590e+03,  6.74953164e+02,  6.40146949e+02,\n",
      "        7.70700490e+02,  3.83928013e+02, -3.81651533e+02, -7.34364955e+02,\n",
      "       -2.77700500e+01,  2.20447481e+01, -2.06732374e+02, -4.19423825e+01,\n",
      "        2.24879291e+03, -2.28398755e+03,  2.84331684e+01,  2.49098049e+01,\n",
      "       -1.01044598e+03,  8.34595402e+02, -8.32331376e+01,  5.08443513e+02,\n",
      "       -4.26560489e+01,  0.00000000e+00,  4.32669238e+00])\n",
      "shap       INFO  num_full_subsets = 1\n",
      "shap       INFO  remaining_weight_vector = array([0.20701126, 0.14490788, 0.11440096, 0.09660526, 0.08523993,\n",
      "       0.07762922, 0.07245394, 0.06900375, 0.06688056, 0.06586722])\n",
      "shap       INFO  num_paired_subset_sizes = 11\n",
      "shap       INFO  weight_left = 0.7167414131850209\n",
      "shap       INFO  np.sum(w_aug) = 23.000000000000007\n",
      "shap       INFO  np.sum(self.kernelWeights) = 1.0\n",
      "shap       INFO  phi = array([ 2494.4310908 , -5318.31753234,   623.02458457,   882.15148486,\n",
      "         771.65479553,   148.72270471,  -311.974784  , -1713.04251089,\n",
      "         -86.41223871,    13.83275363,  -222.21803189,   -33.48249268,\n",
      "        2200.95460203, -2283.26835494,     6.50669144,    38.33547377,\n",
      "        -953.28671669,   878.29261046,   -37.16021894,   367.03423547,\n",
      "         -42.73606599,     0.        ,     5.71752508])\n",
      "shap       INFO  num_full_subsets = 1\n",
      "shap       INFO  remaining_weight_vector = array([0.20701126, 0.14490788, 0.11440096, 0.09660526, 0.08523993,\n",
      "       0.07762922, 0.07245394, 0.06900375, 0.06688056, 0.06586722])\n",
      "shap       INFO  num_paired_subset_sizes = 11\n",
      "shap       INFO  weight_left = 0.7167414131850209\n",
      "shap       INFO  np.sum(w_aug) = 23.0\n",
      "shap       INFO  np.sum(self.kernelWeights) = 1.0\n",
      "shap       INFO  phi = array([ 2207.57852501, -3895.58106275,   900.29972206,  1422.83249298,\n",
      "         756.20187546,   416.19956789,   -98.66458138, -2809.08144558,\n",
      "         -65.76597487,    18.40763225,  -229.70429891,   -31.90979657,\n",
      "        2084.10549366, -2281.61579371,   -46.97900599,    55.38290546,\n",
      "        -886.46196264,   884.17466615,   -16.45631294,   305.42065107,\n",
      "         -16.00090289,   -34.86195563,   -13.68039198])\n",
      "shap       INFO  num_full_subsets = 1\n",
      "shap       INFO  remaining_weight_vector = array([0.20701126, 0.14490788, 0.11440096, 0.09660526, 0.08523993,\n",
      "       0.07762922, 0.07245394, 0.06900375, 0.06688056, 0.06586722])\n",
      "shap       INFO  num_paired_subset_sizes = 11\n",
      "shap       INFO  weight_left = 0.7167414131850209\n",
      "shap       INFO  np.sum(w_aug) = 23.000000000000004\n",
      "shap       INFO  np.sum(self.kernelWeights) = 0.9999999999999999\n",
      "shap       INFO  phi = array([ 6378.66267619, -2122.36462832,   372.97091076,   534.19205145,\n",
      "         641.13164509,   289.30605906,  -142.95772539, -1772.07094868,\n",
      "         -48.65958688,    19.07073437,  -184.61298739,     0.        ,\n",
      "        1820.77912697, -2275.2956213 ,   -61.46569523,    94.21894535,\n",
      "        -757.34785411,   891.36265386,   -34.62125168,   566.65291995,\n",
      "         -98.02635811,   -47.33565823,   -38.94575823])\n",
      "shap       INFO  num_full_subsets = 1\n",
      "shap       INFO  remaining_weight_vector = array([0.20701126, 0.14490788, 0.11440096, 0.09660526, 0.08523993,\n",
      "       0.07762922, 0.07245394, 0.06900375, 0.06688056, 0.06586722])\n",
      "shap       INFO  num_paired_subset_sizes = 11\n",
      "shap       INFO  weight_left = 0.7167414131850209\n",
      "shap       INFO  np.sum(w_aug) = 23.000000000000007\n",
      "shap       INFO  np.sum(self.kernelWeights) = 1.0000000000000004\n",
      "shap       INFO  phi = array([ 1.55571121e+04, -7.50373026e+03,  1.63899404e+02,  6.17360392e+00,\n",
      "        5.47056353e+02,  1.16446404e+02, -3.23016475e+02, -2.41422849e+03,\n",
      "       -3.40556458e+01,  3.02200274e+01, -1.94212829e+02, -2.20225487e+01,\n",
      "        2.04130985e+03, -2.27841206e+03, -9.92021206e+00,  1.02441136e+02,\n",
      "       -8.14575355e+02,  8.71702503e+02, -1.22060681e+02,  6.56408389e+02,\n",
      "       -9.52245869e+01, -3.65446739e+01, -3.12179587e+01])\n",
      "shap       INFO  num_full_subsets = 1\n",
      "shap       INFO  remaining_weight_vector = array([0.20701126, 0.14490788, 0.11440096, 0.09660526, 0.08523993,\n",
      "       0.07762922, 0.07245394, 0.06900375, 0.06688056, 0.06586722])\n",
      "shap       INFO  num_paired_subset_sizes = 11\n",
      "shap       INFO  weight_left = 0.7167414131850209\n",
      "shap       INFO  np.sum(w_aug) = 23.000000000000004\n",
      "shap       INFO  np.sum(self.kernelWeights) = 1.0000000000000004\n",
      "shap       INFO  phi = array([ 1.21846492e+04, -8.75679492e+03,  2.09537738e+02,  4.77976295e+02,\n",
      "        3.29054223e+02,  4.91529176e+02,  9.88221917e+00, -2.74228483e+03,\n",
      "       -5.93960911e+01,  2.42179865e+01, -1.82290025e+02,  2.06154634e+01,\n",
      "        2.15605107e+03, -2.28813089e+03,  2.90238209e+01,  8.05536657e+01,\n",
      "       -9.06975564e+02,  8.72228510e+02, -8.04946760e+01,  5.29170496e+02,\n",
      "       -5.47443250e+01, -3.53008454e+01, -3.31970720e+01])\n",
      "shap       INFO  num_full_subsets = 1\n",
      "shap       INFO  remaining_weight_vector = array([0.20701126, 0.14490788, 0.11440096, 0.09660526, 0.08523993,\n",
      "       0.07762922, 0.07245394, 0.06900375, 0.06688056, 0.06586722])\n",
      "shap       INFO  num_paired_subset_sizes = 11\n",
      "shap       INFO  weight_left = 0.7167414131850209\n",
      "shap       INFO  np.sum(w_aug) = 23.000000000000004\n",
      "shap       INFO  np.sum(self.kernelWeights) = 0.9999999999999999\n",
      "shap       INFO  phi = array([ -760.28995957, -7157.65508875,   499.12679228,  1118.45307833,\n",
      "         118.3990861 ,   703.43428839,  -438.97701025, -1733.47509283,\n",
      "         -47.71506922,    19.76132062,  -180.62617701,    -8.56759297,\n",
      "        2175.05941046, -2281.16517083,    29.14572823,    47.57650232,\n",
      "        -881.13483794,   832.05226961,   -76.99891813,   361.64286824,\n",
      "         -48.58487012,   -42.27410267,   -35.2051794 ])\n",
      "shap       INFO  num_full_subsets = 1\n",
      "shap       INFO  remaining_weight_vector = array([0.20701126, 0.14490788, 0.11440096, 0.09660526, 0.08523993,\n",
      "       0.07762922, 0.07245394, 0.06900375, 0.06688056, 0.06586722])\n",
      "shap       INFO  num_paired_subset_sizes = 11\n",
      "shap       INFO  weight_left = 0.7167414131850209\n",
      "shap       INFO  np.sum(w_aug) = 23.000000000000004\n",
      "shap       INFO  np.sum(self.kernelWeights) = 1.0\n",
      "shap       INFO  phi = array([-4710.54400737, -6092.39449363,   771.9627003 ,  2428.42482135,\n",
      "         193.44169615,   779.80627081,  -240.70684061, -2922.5963916 ,\n",
      "         -53.69072773,    16.99258087,  -178.02482889,   -43.77183223,\n",
      "        2102.23837034, -2277.79814846,    28.55098178,    52.00451096,\n",
      "        -851.96585773,   838.94449253,   -36.42186215,   268.54089048,\n",
      "         -11.1862156 ,   -46.04259683,   -37.139873  ])\n",
      "shap       INFO  num_full_subsets = 1\n",
      "shap       INFO  remaining_weight_vector = array([0.20701126, 0.14490788, 0.11440096, 0.09660526, 0.08523993,\n",
      "       0.07762922, 0.07245394, 0.06900375, 0.06688056, 0.06586722])\n",
      "shap       INFO  num_paired_subset_sizes = 11\n",
      "shap       INFO  weight_left = 0.7167414131850209\n",
      "shap       INFO  np.sum(w_aug) = 23.000000000000004\n",
      "shap       INFO  np.sum(self.kernelWeights) = 1.0000000000000004\n",
      "shap       INFO  phi = array([ -231.73502798, -3098.86354914,   516.50124153,   843.88958711,\n",
      "         275.61151734,   563.06325452,   120.77915332, -1618.75935198,\n",
      "         -41.58495508,     0.        ,  -177.12543761,   -28.77973074,\n",
      "        2121.60725516, -2277.55346573,    20.11359844,    34.94367012,\n",
      "        -758.35128893,   884.53075621,     0.        ,   207.21399767,\n",
      "         -21.16267251,   -48.45268673,    14.82006045])\n",
      "shap       INFO  num_full_subsets = 1\n",
      "shap       INFO  remaining_weight_vector = array([0.20701126, 0.14490788, 0.11440096, 0.09660526, 0.08523993,\n",
      "       0.07762922, 0.07245394, 0.06900375, 0.06688056, 0.06586722])\n",
      "shap       INFO  num_paired_subset_sizes = 11\n",
      "shap       INFO  weight_left = 0.7167414131850209\n",
      "shap       INFO  np.sum(w_aug) = 23.0\n",
      "shap       INFO  np.sum(self.kernelWeights) = 1.0000000000000004\n",
      "shap       INFO  phi = array([ 1030.10228007, -4188.26218651,   209.88608782,  -136.29486123,\n",
      "         299.92109395,   554.35553573,    73.64799801,  -230.96375057,\n",
      "         -25.51366001,    17.47840045,  -181.8827672 ,   119.39022623,\n",
      "        1653.83416257, -2281.28646416,    23.56123865,    20.34182679,\n",
      "        -692.15022781,   785.70081892,   -38.5955457 ,   216.30509203,\n",
      "         -31.50066034,   -35.68469426,    20.06231047])\n",
      "shap       INFO  num_full_subsets = 1\n",
      "shap       INFO  remaining_weight_vector = array([0.20701126, 0.14490788, 0.11440096, 0.09660526, 0.08523993,\n",
      "       0.07762922, 0.07245394, 0.06900375, 0.06688056, 0.06586722])\n",
      "shap       INFO  num_paired_subset_sizes = 11\n",
      "shap       INFO  weight_left = 0.7167414131850209\n",
      "shap       INFO  np.sum(w_aug) = 23.000000000000004\n",
      "shap       INFO  np.sum(self.kernelWeights) = 1.0\n",
      "shap       INFO  phi = array([ 4848.30407556, -6735.02331867,   172.10415423,   118.73379521,\n",
      "         318.69390534,   555.29212093,  -123.54479108, -1010.32284169,\n",
      "         -22.92547246,    12.97760422,   -99.2286347 ,    28.00282768,\n",
      "        1520.74813559, -2153.32744436,     7.97442977,    24.49618154,\n",
      "        -676.47305813,   753.25149431,   -49.61512857,   286.52399297,\n",
      "         -45.33305754,   -41.43467968,    14.02832702])\n",
      "shap       INFO  num_full_subsets = 1\n",
      "shap       INFO  remaining_weight_vector = array([0.20701126, 0.14490788, 0.11440096, 0.09660526, 0.08523993,\n",
      "       0.07762922, 0.07245394, 0.06900375, 0.06688056, 0.06586722])\n",
      "shap       INFO  num_paired_subset_sizes = 11\n",
      "shap       INFO  weight_left = 0.7167414131850209\n",
      "shap       INFO  np.sum(w_aug) = 23.000000000000004\n",
      "shap       INFO  np.sum(self.kernelWeights) = 1.0000000000000002\n",
      "shap       INFO  phi = array([ 3781.57923996, -5131.15557508,   202.31218879,  -279.40115529,\n",
      "         310.42822917,   523.88531651,    96.7794551 ,  -578.60407825,\n",
      "         -46.46114476,     6.85330819,    41.79952029,   -30.8040173 ,\n",
      "        1612.53192399, -2149.65450309,    15.63968288,    24.63973035,\n",
      "        -734.02159255,   785.81467068,   -58.6287631 ,   297.96055722,\n",
      "         -40.10528761,   -32.92677479,    31.70358167])\n",
      "shap       INFO  num_full_subsets = 1\n",
      "shap       INFO  remaining_weight_vector = array([0.20701126, 0.14490788, 0.11440096, 0.09660526, 0.08523993,\n",
      "       0.07762922, 0.07245394, 0.06900375, 0.06688056, 0.06586722])\n",
      "shap       INFO  num_paired_subset_sizes = 11\n",
      "shap       INFO  weight_left = 0.7167414131850209\n",
      "shap       INFO  np.sum(w_aug) = 23.000000000000007\n",
      "shap       INFO  np.sum(self.kernelWeights) = 1.0\n",
      "shap       INFO  phi = array([ 4382.01981847, -5583.23132164,   381.37891999,   452.96379817,\n",
      "         336.92062535,   553.83523459,   465.24140157, -1845.01922219,\n",
      "         -69.00463518,     6.32887327,    70.15481803,   106.86150319,\n",
      "        1657.23240071, -2004.97246185,    23.41825863,    41.6966308 ,\n",
      "        -756.45023398,   786.34887957,   -72.90646067,   248.07659895,\n",
      "         -28.02690864,   -48.37467394,    23.44586387])\n",
      "shap       INFO  num_full_subsets = 1\n",
      "shap       INFO  remaining_weight_vector = array([0.20701126, 0.14490788, 0.11440096, 0.09660526, 0.08523993,\n",
      "       0.07762922, 0.07245394, 0.06900375, 0.06688056, 0.06586722])\n",
      "shap       INFO  num_paired_subset_sizes = 11\n",
      "shap       INFO  weight_left = 0.7167414131850209\n",
      "shap       INFO  np.sum(w_aug) = 23.0\n",
      "shap       INFO  np.sum(self.kernelWeights) = 1.0\n",
      "shap       INFO  phi = array([-1440.01480574, -6276.63857169,   692.27580143,   935.14034914,\n",
      "         390.15737265,   784.31211901,   -83.99911172, -1705.81886581,\n",
      "         -58.02111126,     8.81622186,   115.71672099,   153.95510613,\n",
      "        1655.33989934, -1869.79871078,     9.08788127,    46.36562229,\n",
      "        -719.84472681,   745.81590302,   -92.36728797,   324.46391873,\n",
      "         -47.30133995,   -45.93347642,    16.35795558])\n",
      "shap       INFO  num_full_subsets = 1\n",
      "shap       INFO  remaining_weight_vector = array([0.20701126, 0.14490788, 0.11440096, 0.09660526, 0.08523993,\n",
      "       0.07762922, 0.07245394, 0.06900375, 0.06688056, 0.06586722])\n",
      "shap       INFO  num_paired_subset_sizes = 11\n",
      "shap       INFO  weight_left = 0.7167414131850209\n",
      "shap       INFO  np.sum(w_aug) = 23.000000000000004\n",
      "shap       INFO  np.sum(self.kernelWeights) = 1.0000000000000002\n",
      "shap       INFO  phi = array([-2.02821981e+03, -5.55238311e+03,  6.45522709e+02,  6.39881568e+02,\n",
      "        3.36751308e+02,  8.30361018e+02, -6.85935689e+02, -1.05696455e+03,\n",
      "       -6.31651837e+01,  5.10154051e+00,  5.70097852e+01, -1.58518832e+01,\n",
      "        1.84815804e+03, -1.99891308e+03, -4.77230041e+00,  5.23820773e+01,\n",
      "       -8.03673108e+02,  7.41859254e+02, -9.18840424e+01,  4.51833566e+02,\n",
      "       -6.57649587e+01, -4.62343763e+01, -3.39450928e+01])\n",
      "shap       INFO  num_full_subsets = 1\n",
      "shap       INFO  remaining_weight_vector = array([0.20701126, 0.14490788, 0.11440096, 0.09660526, 0.08523993,\n",
      "       0.07762922, 0.07245394, 0.06900375, 0.06688056, 0.06586722])\n",
      "shap       INFO  num_paired_subset_sizes = 11\n",
      "shap       INFO  weight_left = 0.7167414131850209\n",
      "shap       INFO  np.sum(w_aug) = 23.000000000000007\n",
      "shap       INFO  np.sum(self.kernelWeights) = 1.0\n",
      "shap       INFO  phi = array([ 2761.98671371, -4981.87408068,   731.59982346,   822.77129424,\n",
      "         401.18151909,   678.48022246,  -727.51912178, -2128.44453057,\n",
      "         -61.09683197,    11.03968155,    91.08719303,   -23.65582983,\n",
      "        1802.26577411, -1997.1673892 ,    22.28426183,    23.29377031,\n",
      "        -812.5319137 ,   780.85287317,   -67.37076408,   451.07431401,\n",
      "         -55.09142508,   -46.09189978,    13.86615646])\n",
      "shap       INFO  num_full_subsets = 1\n",
      "shap       INFO  remaining_weight_vector = array([0.20701126, 0.14490788, 0.11440096, 0.09660526, 0.08523993,\n",
      "       0.07762922, 0.07245394, 0.06900375, 0.06688056, 0.06586722])\n",
      "shap       INFO  num_paired_subset_sizes = 11\n",
      "shap       INFO  weight_left = 0.7167414131850209\n",
      "shap       INFO  np.sum(w_aug) = 23.000000000000007\n",
      "shap       INFO  np.sum(self.kernelWeights) = 1.0000000000000004\n",
      "shap       INFO  phi = array([-3138.06690745, -1922.12338217,   513.88954687,   603.32458245,\n",
      "         379.36377522,   812.60713848,  -507.49407419,  -615.14854711,\n",
      "         -40.02958094,     0.        ,    88.72923204,   -27.60982496,\n",
      "        1834.8821025 , -1871.20082231,    25.40972919,    24.41335256,\n",
      "        -868.60172324,   742.70026386,   -13.3685254 ,   309.19091995,\n",
      "         -15.42874679,   -41.8677252 ,    10.79432301])\n",
      "shap       INFO  num_full_subsets = 1\n",
      "shap       INFO  remaining_weight_vector = array([0.20701126, 0.14490788, 0.11440096, 0.09660526, 0.08523993,\n",
      "       0.07762922, 0.07245394, 0.06900375, 0.06688056, 0.06586722])\n",
      "shap       INFO  num_paired_subset_sizes = 11\n",
      "shap       INFO  weight_left = 0.7167414131850209\n",
      "shap       INFO  np.sum(w_aug) = 23.0\n",
      "shap       INFO  np.sum(self.kernelWeights) = 1.0\n",
      "shap       INFO  phi = array([-5.11930560e+03, -1.34724362e+03,  4.62282817e+02,  2.71245239e+02,\n",
      "        3.83874528e+02,  7.31824673e+02, -3.50488108e+02,  8.79408707e+01,\n",
      "       -5.83277316e+01,  4.17703717e+00,  8.96062618e+01, -2.19083447e+01,\n",
      "        1.70527054e+03, -1.59254478e+03,  3.28505028e+01,  1.71645431e+01,\n",
      "       -6.80471767e+02,  6.51971966e+02,  0.00000000e+00,  2.23734173e+02,\n",
      "       -1.84241142e+01, -4.48189664e+01,  1.01104176e+01])\n",
      "shap       INFO  num_full_subsets = 1\n",
      "shap       INFO  remaining_weight_vector = array([0.20701126, 0.14490788, 0.11440096, 0.09660526, 0.08523993,\n",
      "       0.07762922, 0.07245394, 0.06900375, 0.06688056, 0.06586722])\n",
      "shap       INFO  num_paired_subset_sizes = 11\n",
      "shap       INFO  weight_left = 0.7167414131850209\n",
      "shap       INFO  np.sum(w_aug) = 23.0\n",
      "shap       INFO  np.sum(self.kernelWeights) = 1.0\n",
      "shap       INFO  phi = array([ 1572.70162512, -4211.80852589,   699.29500923,   535.28513338,\n",
      "         379.21286661,   757.84285164,   187.74827944, -1865.01378484,\n",
      "         -23.60748636,    13.06098721,    21.323001  ,    71.03469063,\n",
      "        1522.39438654, -1592.85831725,    15.18434733,     9.61003135,\n",
      "        -603.87750047,   648.08937179,     0.        ,   161.59547628,\n",
      "          -6.46113802,   -35.49978348,    16.07547075])\n",
      "shap       INFO  num_full_subsets = 1\n",
      "shap       INFO  remaining_weight_vector = array([0.20701126, 0.14490788, 0.11440096, 0.09660526, 0.08523993,\n",
      "       0.07762922, 0.07245394, 0.06900375, 0.06688056, 0.06586722])\n",
      "shap       INFO  num_paired_subset_sizes = 11\n",
      "shap       INFO  weight_left = 0.7167414131850209\n",
      "shap       INFO  np.sum(w_aug) = 23.0\n",
      "shap       INFO  np.sum(self.kernelWeights) = 1.0000000000000004\n",
      "shap       INFO  phi = array([-2164.94171638, -3236.3282611 ,   721.53307563,   346.68906371,\n",
      "         380.56527409,   411.53279188,  -299.70564833,  -872.58910173,\n",
      "         -42.97313438,     0.        ,     6.48111763,   163.27873665,\n",
      "        1234.58862745, -1711.04308212,    23.83483227,     0.        ,\n",
      "        -589.07512267,   645.95432931,   -29.85659748,   210.72446188,\n",
      "         -22.01418428,   -32.25428444,    19.94829579])\n",
      "shap       INFO  num_full_subsets = 1\n",
      "shap       INFO  remaining_weight_vector = array([0.20701126, 0.14490788, 0.11440096, 0.09660526, 0.08523993,\n",
      "       0.07762922, 0.07245394, 0.06900375, 0.06688056, 0.06586722])\n",
      "shap       INFO  num_paired_subset_sizes = 11\n",
      "shap       INFO  weight_left = 0.7167414131850209\n",
      "shap       INFO  np.sum(w_aug) = 23.000000000000007\n",
      "shap       INFO  np.sum(self.kernelWeights) = 1.0000000000000004\n",
      "shap       INFO  phi = array([-4.12471856e+03, -5.88552317e+03,  1.08668497e+03,  2.08658480e+03,\n",
      "        2.50270859e+02,  8.87244106e+02, -2.85475819e+02, -3.13360971e+03,\n",
      "       -3.68447346e+01,  5.82470628e+00,  0.00000000e+00,  4.84849029e+01,\n",
      "        1.52053381e+03, -1.59073527e+03,  2.98564091e+01,  0.00000000e+00,\n",
      "       -5.39059961e+02,  6.52206350e+02, -5.72394992e+01,  2.79978610e+02,\n",
      "       -2.57039832e+01,  0.00000000e+00, -3.03190024e+01])\n",
      "shap       INFO  num_full_subsets = 1\n",
      "shap       INFO  remaining_weight_vector = array([0.20701126, 0.14490788, 0.11440096, 0.09660526, 0.08523993,\n",
      "       0.07762922, 0.07245394, 0.06900375, 0.06688056, 0.06586722])\n",
      "shap       INFO  num_paired_subset_sizes = 11\n",
      "shap       INFO  weight_left = 0.7167414131850209\n",
      "shap       INFO  np.sum(w_aug) = 23.000000000000007\n",
      "shap       INFO  np.sum(self.kernelWeights) = 1.0000000000000004\n",
      "shap       INFO  phi = array([-4.20497173e+03, -3.72492371e+03,  1.01439651e+03,  1.85688791e+03,\n",
      "        4.92463867e+01,  6.78190629e+02, -9.96112677e+01, -2.96119141e+03,\n",
      "       -4.55816907e+01,  8.85216403e+00,  0.00000000e+00,  7.23554514e+00,\n",
      "        1.54246864e+03, -1.59143329e+03,  1.02374151e+01,  2.98660474e+01,\n",
      "       -6.26513995e+02,  5.97778477e+02, -5.46030153e+01,  3.42802364e+02,\n",
      "       -5.34072666e+01,  3.11210302e+00,  1.73296212e+01])\n",
      "shap       INFO  num_full_subsets = 1\n",
      "shap       INFO  remaining_weight_vector = array([0.20701126, 0.14490788, 0.11440096, 0.09660526, 0.08523993,\n",
      "       0.07762922, 0.07245394, 0.06900375, 0.06688056, 0.06586722])\n",
      "shap       INFO  num_paired_subset_sizes = 11\n",
      "shap       INFO  weight_left = 0.7167414131850209\n",
      "shap       INFO  np.sum(w_aug) = 23.000000000000007\n",
      "shap       INFO  np.sum(self.kernelWeights) = 1.0\n",
      "shap       INFO  phi = array([ 8953.94389592, -4716.60148923,   539.49915773,  -802.33405565,\n",
      "          98.923534  ,   162.16266411,  -380.74838952, -1412.10942931,\n",
      "         -44.47507862,    14.72795279,   -48.0249275 ,    29.13317136,\n",
      "        1647.36394168, -1705.79741994,   -27.57162604,    60.79966636,\n",
      "        -680.10009455,   688.17856899,  -120.72584796,   460.34328754,\n",
      "         -74.98547081,    74.33753098,    16.02283107])\n",
      "shap       INFO  num_full_subsets = 1\n",
      "shap       INFO  remaining_weight_vector = array([0.20701126, 0.14490788, 0.11440096, 0.09660526, 0.08523993,\n",
      "       0.07762922, 0.07245394, 0.06900375, 0.06688056, 0.06586722])\n",
      "shap       INFO  num_paired_subset_sizes = 11\n",
      "shap       INFO  weight_left = 0.7167414131850209\n",
      "shap       INFO  np.sum(w_aug) = 23.0\n",
      "shap       INFO  np.sum(self.kernelWeights) = 1.0000000000000004\n",
      "shap       INFO  phi = array([ 1.05945528e+04, -6.46442985e+03,  7.65238025e+02, -7.72252976e+01,\n",
      "        1.06751210e+02,  2.98027954e+02, -7.26132604e+02, -2.73979928e+03,\n",
      "       -4.97720378e+01,  1.23367011e+01,  2.20810390e+02, -3.66315966e+01,\n",
      "        1.90919888e+03, -1.70819409e+03,  9.15005925e+00,  5.35557424e+01,\n",
      "       -8.29535118e+02,  7.01484896e+02, -1.13434055e+02,  5.14343694e+02,\n",
      "       -6.98674715e+01,  1.18705319e+02, -2.29587200e+01])\n",
      "shap       INFO  num_full_subsets = 1\n",
      "shap       INFO  remaining_weight_vector = array([0.20701126, 0.14490788, 0.11440096, 0.09660526, 0.08523993,\n",
      "       0.07762922, 0.07245394, 0.06900375, 0.06688056, 0.06586722])\n",
      "shap       INFO  num_paired_subset_sizes = 11\n",
      "shap       INFO  weight_left = 0.7167414131850209\n",
      "shap       INFO  np.sum(w_aug) = 23.000000000000007\n",
      "shap       INFO  np.sum(self.kernelWeights) = 1.0\n",
      "shap       INFO  phi = array([ 6468.64246461, -5242.89100757,   560.24734634,  -309.66183164,\n",
      "         290.61854441,   416.70833306,  -718.53628669, -1323.1075259 ,\n",
      "         -34.2348334 ,    12.81025021,   223.8436139 ,   -35.81877265,\n",
      "        1991.14562523, -1866.66294304,     0.        ,    53.78886127,\n",
      "        -861.67539082,   731.62196709,   -57.79615797,   494.89646351,\n",
      "         -59.05202315,   120.05945109,   -24.4248288 ])\n",
      "shap       INFO  num_full_subsets = 1\n",
      "shap       INFO  remaining_weight_vector = array([0.20701126, 0.14490788, 0.11440096, 0.09660526, 0.08523993,\n",
      "       0.07762922, 0.07245394, 0.06900375, 0.06688056, 0.06586722])\n",
      "shap       INFO  num_paired_subset_sizes = 11\n",
      "shap       INFO  weight_left = 0.7167414131850209\n",
      "shap       INFO  np.sum(w_aug) = 23.000000000000004\n",
      "shap       INFO  np.sum(self.kernelWeights) = 1.0000000000000002\n",
      "shap       INFO  phi = array([ 7389.66842411, -4810.72837974,   103.97971997, -1208.19146658,\n",
      "         475.22287142,   241.36995269,  -320.44225411,   281.75089018,\n",
      "         -28.53408091,    16.0774786 ,   226.0808138 ,   -27.88339466,\n",
      "        1968.15912932, -1870.01941044,   -19.05647562,    55.53524765,\n",
      "        -856.23382039,   743.01316068,  -101.23840276,   495.27433829,\n",
      "         -83.60310552,    99.43833738,   -17.61137007])\n",
      "shap       INFO  num_full_subsets = 1\n",
      "shap       INFO  remaining_weight_vector = array([0.20701126, 0.14490788, 0.11440096, 0.09660526, 0.08523993,\n",
      "       0.07762922, 0.07245394, 0.06900375, 0.06688056, 0.06586722])\n",
      "shap       INFO  num_paired_subset_sizes = 11\n",
      "shap       INFO  weight_left = 0.7167414131850209\n",
      "shap       INFO  np.sum(w_aug) = 23.0\n",
      "shap       INFO  np.sum(self.kernelWeights) = 1.0000000000000004\n",
      "shap       INFO  phi = array([ 7.62028387e+03, -5.89871642e+03, -6.29336939e+01, -6.23569161e+02,\n",
      "        1.23896758e+01,  3.65674801e+02,  9.45292955e+01, -5.90670356e+02,\n",
      "       -3.95025358e+01,  4.98851539e+00,  1.80779504e+02,  1.37375501e+01,\n",
      "        2.01177506e+03, -1.99017306e+03, -2.66830865e+02,  2.79396489e+02,\n",
      "       -8.57910933e+02,  7.76506839e+02, -1.08103096e+02,  4.42210286e+02,\n",
      "       -6.43264336e+01,  1.12170157e+02, -1.45873628e+01])\n",
      "shap       INFO  num_full_subsets = 1\n",
      "shap       INFO  remaining_weight_vector = array([0.20701126, 0.14490788, 0.11440096, 0.09660526, 0.08523993,\n",
      "       0.07762922, 0.07245394, 0.06900375, 0.06688056, 0.06586722])\n",
      "shap       INFO  num_paired_subset_sizes = 11\n",
      "shap       INFO  weight_left = 0.7167414131850209\n",
      "shap       INFO  np.sum(w_aug) = 23.000000000000007\n",
      "shap       INFO  np.sum(self.kernelWeights) = 1.0\n",
      "shap       INFO  phi = array([-1329.91018209, -4528.31252938,    30.70232451,  -254.94910659,\n",
      "        -264.64526651,   597.31853885,  -764.88821089,   391.73099807,\n",
      "         -30.8346992 ,    11.99339566,   310.7469825 ,    -5.78571686,\n",
      "        2027.70638334, -1996.55060842,   -61.87676551,   215.97553505,\n",
      "        -814.62996092,   692.37985022,  -106.06446255,   490.99739805,\n",
      "         -81.27436164,    97.50583927,   -30.36237139])\n",
      "shap       INFO  num_full_subsets = 1\n",
      "shap       INFO  remaining_weight_vector = array([0.20701126, 0.14490788, 0.11440096, 0.09660526, 0.08523993,\n",
      "       0.07762922, 0.07245394, 0.06900375, 0.06688056, 0.06586722])\n",
      "shap       INFO  num_paired_subset_sizes = 11\n",
      "shap       INFO  weight_left = 0.7167414131850209\n",
      "shap       INFO  np.sum(w_aug) = 23.000000000000004\n",
      "shap       INFO  np.sum(self.kernelWeights) = 1.0000000000000002\n",
      "shap       INFO  phi = array([ 1440.05954211, -7007.10186636,   449.3618471 ,  1285.11061922,\n",
      "        -280.06392059,   787.14326712,  -110.03735329, -2663.1884696 ,\n",
      "         -60.39520528,    25.30367747,   257.42253993,   -20.2756102 ,\n",
      "        2046.46038139, -2149.30303629,  -112.21467331,   183.01698338,\n",
      "        -859.59731885,   778.00869271,   -97.92715381,   483.95520352,\n",
      "         -68.23695804,   194.97679615,   -20.52200836])\n",
      "shap       INFO  num_full_subsets = 1\n",
      "shap       INFO  remaining_weight_vector = array([0.20701126, 0.14490788, 0.11440096, 0.09660526, 0.08523993,\n",
      "       0.07762922, 0.07245394, 0.06900375, 0.06688056, 0.06586722])\n",
      "shap       INFO  num_paired_subset_sizes = 11\n",
      "shap       INFO  weight_left = 0.7167414131850209\n",
      "shap       INFO  np.sum(w_aug) = 23.000000000000007\n",
      "shap       INFO  np.sum(self.kernelWeights) = 1.0\n",
      "shap       INFO  phi = array([ 4010.54024332, -4665.30112297,   230.73356908,  1155.3461765 ,\n",
      "        -277.99797801,   311.80329977,   329.02849928, -2635.83591853,\n",
      "         -68.20532855,    10.62088162,   332.63180312,   103.73272137,\n",
      "        1946.92982676, -2156.17852911,  -415.64676903,   404.81231568,\n",
      "        -795.38710495,   795.16600545,   -81.45364532,   327.96714765,\n",
      "         -24.77604551,    96.82707862,   -33.18566393])\n",
      "shap       INFO  num_full_subsets = 1\n",
      "shap       INFO  remaining_weight_vector = array([0.20701126, 0.14490788, 0.11440096, 0.09660526, 0.08523993,\n",
      "       0.07762922, 0.07245394, 0.06900375, 0.06688056, 0.06586722])\n",
      "shap       INFO  num_paired_subset_sizes = 11\n",
      "shap       INFO  weight_left = 0.7167414131850209\n",
      "shap       INFO  np.sum(w_aug) = 23.000000000000004\n",
      "shap       INFO  np.sum(self.kernelWeights) = 1.0000000000000004\n",
      "shap       INFO  phi = array([ 8122.38189475, -6523.32519253,   376.48657125,  1173.83201366,\n",
      "        -346.94517909,   481.22668599,  -125.33199469, -3529.91610181,\n",
      "         -87.08498283,    16.96289789,   330.71522095,   335.2082075 ,\n",
      "        1858.03376367, -2165.14903819,  -162.79034315,   369.33788415,\n",
      "        -772.49412424,   837.82516428,   -55.98561495,   238.64215934,\n",
      "         -39.51384258,   169.45321892,   -47.22547875])\n",
      "shap       INFO  num_full_subsets = 1\n",
      "shap       INFO  remaining_weight_vector = array([0.20701126, 0.14490788, 0.11440096, 0.09660526, 0.08523993,\n",
      "       0.07762922, 0.07245394, 0.06900375, 0.06688056, 0.06586722])\n",
      "shap       INFO  num_paired_subset_sizes = 11\n",
      "shap       INFO  weight_left = 0.7167414131850209\n",
      "shap       INFO  np.sum(w_aug) = 23.000000000000004\n",
      "shap       INFO  np.sum(self.kernelWeights) = 1.0000000000000004\n",
      "shap       INFO  phi = array([ 7539.89217691, -5987.72050576,    57.50712053,  -404.53693516,\n",
      "        -501.8707484 ,   153.1917624 ,  -522.2744659 , -1183.02758347,\n",
      "         -63.99341946,    15.75528989,   330.56246899,     0.        ,\n",
      "        1723.98269027, -1993.74134079,   -86.07546171,   376.42501348,\n",
      "        -727.69585814,   777.77775913,   -81.94305783,   439.90472711,\n",
      "         -70.38289985,   206.42221594,    11.36132588])\n",
      "shap       INFO  num_full_subsets = 1\n",
      "shap       INFO  remaining_weight_vector = array([0.20701126, 0.14490788, 0.11440096, 0.09660526, 0.08523993,\n",
      "       0.07762922, 0.07245394, 0.06900375, 0.06688056, 0.06586722])\n",
      "shap       INFO  num_paired_subset_sizes = 11\n",
      "shap       INFO  weight_left = 0.7167414131850209\n",
      "shap       INFO  np.sum(w_aug) = 23.000000000000007\n",
      "shap       INFO  np.sum(self.kernelWeights) = 1.0\n",
      "shap       INFO  phi = array([ 4104.54389501, -4813.7108583 ,  -103.91067323, -1205.4296569 ,\n",
      "        -506.61209302,  -118.17009328,  -970.66764524,   691.51133337,\n",
      "         -55.40487641,     0.        ,   395.15682375,   -37.37061929,\n",
      "        1821.14304102, -2151.09224209,    13.23455411,   366.84463216,\n",
      "        -756.35553787,   832.45046175,  -100.63905526,   491.69147538,\n",
      "         -80.02862642,   179.29113452,    -6.09219732])\n",
      "shap       INFO  num_full_subsets = 1\n",
      "shap       INFO  remaining_weight_vector = array([0.20701126, 0.14490788, 0.11440096, 0.09660526, 0.08523993,\n",
      "       0.07762922, 0.07245394, 0.06900375, 0.06688056, 0.06586722])\n",
      "shap       INFO  num_paired_subset_sizes = 11\n",
      "shap       INFO  weight_left = 0.7167414131850209\n",
      "shap       INFO  np.sum(w_aug) = 23.000000000000004\n",
      "shap       INFO  np.sum(self.kernelWeights) = 1.0000000000000004\n",
      "shap       INFO  phi = array([-3863.71540936, -3507.62935558,   660.58427025,   333.85560617,\n",
      "        -508.40894483,    62.42678333,  -757.45813166,  -921.43428882,\n",
      "         -65.5999937 ,    -7.63917026,   531.4421262 ,   -39.0589879 ,\n",
      "        1797.36584271, -2158.11824596,    26.81626216,   277.70459313,\n",
      "        -764.95618704,   835.09108249,   -66.73337563,   454.76800944,\n",
      "         -41.51323566,   205.10317122,     0.        ])\n",
      "shap       INFO  num_full_subsets = 1\n",
      "shap       INFO  remaining_weight_vector = array([0.20701126, 0.14490788, 0.11440096, 0.09660526, 0.08523993,\n",
      "       0.07762922, 0.07245394, 0.06900375, 0.06688056, 0.06586722])\n",
      "shap       INFO  num_paired_subset_sizes = 11\n",
      "shap       INFO  weight_left = 0.7167414131850209\n",
      "shap       INFO  np.sum(w_aug) = 23.000000000000007\n",
      "shap       INFO  np.sum(self.kernelWeights) = 1.0000000000000002\n",
      "shap       INFO  phi = array([-8.40345703e+03, -4.38060258e+03,  6.69163966e+02,  6.36371323e+02,\n",
      "       -4.40120116e+02,  1.40234121e+02, -4.31806833e+02, -5.54996190e+02,\n",
      "       -6.52479630e+01,  1.35566641e+01,  6.17337004e+02, -6.76601955e+00,\n",
      "        1.40874719e+03, -2.00305023e+03,  1.62775872e+01,  2.52919059e+02,\n",
      "       -6.75480023e+02,  7.94327189e+02, -3.54933467e+01,  2.84729686e+02,\n",
      "       -1.48920710e+01,  2.03711381e+02,  0.00000000e+00])\n",
      "shap       INFO  num_full_subsets = 1\n",
      "shap       INFO  remaining_weight_vector = array([0.20701126, 0.14490788, 0.11440096, 0.09660526, 0.08523993,\n",
      "       0.07762922, 0.07245394, 0.06900375, 0.06688056, 0.06586722])\n",
      "shap       INFO  num_paired_subset_sizes = 11\n",
      "shap       INFO  weight_left = 0.7167414131850209\n",
      "shap       INFO  np.sum(w_aug) = 23.0\n",
      "shap       INFO  np.sum(self.kernelWeights) = 1.0000000000000004\n",
      "shap       INFO  phi = array([-12371.9757545 ,  -1619.25327922,    653.3483298 ,    494.58180528,\n",
      "         -250.74218401,    299.75862613,    -46.28275854,    279.14877319,\n",
      "          -63.06137715,      0.        ,    619.94075839,    -20.39820057,\n",
      "         1229.92113454,  -2161.40064532,     17.39752248,    208.15740671,\n",
      "         -648.03454477,    781.64703568,    -43.28136063,    208.94109059,\n",
      "          -32.60000355,    197.48017181,      0.        ])\n",
      "shap       INFO  num_full_subsets = 1\n",
      "shap       INFO  remaining_weight_vector = array([0.20701126, 0.14490788, 0.11440096, 0.09660526, 0.08523993,\n",
      "       0.07762922, 0.07245394, 0.06900375, 0.06688056, 0.06586722])\n",
      "shap       INFO  num_paired_subset_sizes = 11\n",
      "shap       INFO  weight_left = 0.7167414131850209\n",
      "shap       INFO  np.sum(w_aug) = 23.000000000000004\n",
      "shap       INFO  np.sum(self.kernelWeights) = 1.0\n",
      "shap       INFO  phi = array([ 2261.07592887, -4129.87608977,   441.63171748,   161.7178482 ,\n",
      "         -26.93228901,    85.0817957 ,   203.60666322, -1401.82354156,\n",
      "         -67.43515761,     8.30264708,   338.4750344 ,    41.09692338,\n",
      "        1292.77899026, -1875.15900737,    31.17394232,   115.42560451,\n",
      "        -550.8457972 ,   745.74420344,   -42.75701755,   160.74650896,\n",
      "         -16.72383684,   139.62804541,     8.86706841])\n",
      "shap       INFO  num_full_subsets = 1\n",
      "shap       INFO  remaining_weight_vector = array([0.20701126, 0.14490788, 0.11440096, 0.09660526, 0.08523993,\n",
      "       0.07762922, 0.07245394, 0.06900375, 0.06688056, 0.06586722])\n",
      "shap       INFO  num_paired_subset_sizes = 11\n",
      "shap       INFO  weight_left = 0.7167414131850209\n",
      "shap       INFO  np.sum(w_aug) = 23.000000000000007\n",
      "shap       INFO  np.sum(self.kernelWeights) = 1.0\n",
      "shap       INFO  phi = array([ 5.77315254e+03, -5.27751610e+03,  5.43798328e+02,  7.50095123e+02,\n",
      "        4.90292242e+01,  2.94492708e+02,  2.14379037e+02, -2.76404843e+03,\n",
      "       -7.65805164e+01,  1.89431836e+00,  3.24487180e+02,  2.52565899e+02,\n",
      "        1.11907696e+03, -1.86896529e+03,  9.12465721e+00,  7.88458723e+01,\n",
      "       -6.00496675e+02,  7.51786582e+02, -6.01721407e+01,  1.48448037e+02,\n",
      "       -2.87351117e+01,  6.34266649e+01,  7.56040855e+00])\n",
      "shap       INFO  num_full_subsets = 1\n",
      "shap       INFO  remaining_weight_vector = array([0.20701126, 0.14490788, 0.11440096, 0.09660526, 0.08523993,\n",
      "       0.07762922, 0.07245394, 0.06900375, 0.06688056, 0.06586722])\n",
      "shap       INFO  num_paired_subset_sizes = 11\n",
      "shap       INFO  weight_left = 0.7167414131850209\n",
      "shap       INFO  np.sum(w_aug) = 23.0\n",
      "shap       INFO  np.sum(self.kernelWeights) = 1.0\n",
      "shap       INFO  phi = array([ 6478.42828214, -6744.25803878,   227.55709664,  1212.71661762,\n",
      "         174.72915801,   274.52528303,  -133.36164595, -2598.45861039,\n",
      "        -100.48958419,     8.54234757,    54.73593   ,   182.87939866,\n",
      "        1105.03290664, -1721.88868462,  -223.53288957,   252.36250834,\n",
      "        -599.47053619,   692.62026724,   -61.1084341 ,   262.24870438,\n",
      "         -51.27605155,    63.68471244,     0.        ])\n",
      "shap       INFO  num_full_subsets = 1\n",
      "shap       INFO  remaining_weight_vector = array([0.20701126, 0.14490788, 0.11440096, 0.09660526, 0.08523993,\n",
      "       0.07762922, 0.07245394, 0.06900375, 0.06688056, 0.06586722])\n",
      "shap       INFO  num_paired_subset_sizes = 11\n",
      "shap       INFO  weight_left = 0.7167414131850209\n",
      "shap       INFO  np.sum(w_aug) = 23.000000000000007\n",
      "shap       INFO  np.sum(self.kernelWeights) = 1.0\n",
      "shap       INFO  phi = array([ 6.78120097e+03, -6.60291513e+03,  4.85968580e+01,  3.77406517e+02,\n",
      "        1.37661379e+02,  1.97876273e+02, -2.09078520e+02, -1.46385291e+03,\n",
      "       -9.73685442e+01,  9.83699467e+00,  8.88870780e+00,  8.69350778e+00,\n",
      "        1.19718026e+03, -1.87105138e+03, -2.08717254e+01,  1.78419804e+02,\n",
      "       -6.76544081e+02,  7.41758247e+02, -8.05240598e+01,  3.24209582e+02,\n",
      "       -6.01740085e+01,  6.38929095e+01,  4.98155378e+00])\n",
      "shap       INFO  num_full_subsets = 1\n",
      "shap       INFO  remaining_weight_vector = array([0.20701126, 0.14490788, 0.11440096, 0.09660526, 0.08523993,\n",
      "       0.07762922, 0.07245394, 0.06900375, 0.06688056, 0.06586722])\n",
      "shap       INFO  num_paired_subset_sizes = 11\n",
      "shap       INFO  weight_left = 0.7167414131850209\n",
      "shap       INFO  np.sum(w_aug) = 23.0\n",
      "shap       INFO  np.sum(self.kernelWeights) = 1.0000000000000002\n",
      "shap       INFO  phi = array([ 1482.50280451, -4421.38506086,   120.49614006,   136.75719156,\n",
      "         203.72327323,   301.27550859,  -655.03489786,  -265.86309312,\n",
      "         -80.10867505,     0.        ,    69.53109962,   -38.52545603,\n",
      "        1359.72199372, -2007.6253533 ,    38.9444928 ,    65.4093351 ,\n",
      "        -722.66095616,   794.97333796,   -75.79121061,   332.35572288,\n",
      "         -53.39548884,    68.50067772,    14.3017378 ])\n",
      "shap       INFO  num_full_subsets = 1\n",
      "shap       INFO  remaining_weight_vector = array([0.20701126, 0.14490788, 0.11440096, 0.09660526, 0.08523993,\n",
      "       0.07762922, 0.07245394, 0.06900375, 0.06688056, 0.06586722])\n",
      "shap       INFO  num_paired_subset_sizes = 11\n",
      "shap       INFO  weight_left = 0.7167414131850209\n",
      "shap       INFO  np.sum(w_aug) = 23.000000000000004\n",
      "shap       INFO  np.sum(self.kernelWeights) = 1.0\n",
      "shap       INFO  phi = array([-2.97598224e+03, -7.57288702e+03,  6.01718336e+02,  1.74950954e+03,\n",
      "        1.48471065e+02,  4.84249482e+02, -9.69179639e+02, -1.99600538e+03,\n",
      "       -8.14649099e+01,  3.51319062e+00,  8.55634441e+01, -3.38248765e+01,\n",
      "        1.37889845e+03, -2.00502324e+03,  3.24890019e+01,  2.39620508e+01,\n",
      "       -6.47445918e+02,  7.85600839e+02, -4.92614812e+01,  3.50441181e+02,\n",
      "       -4.28023731e+01,  6.29124858e+01,  1.84743162e+01])\n",
      "shap       INFO  num_full_subsets = 1\n",
      "shap       INFO  remaining_weight_vector = array([0.20701126, 0.14490788, 0.11440096, 0.09660526, 0.08523993,\n",
      "       0.07762922, 0.07245394, 0.06900375, 0.06688056, 0.06586722])\n",
      "shap       INFO  num_paired_subset_sizes = 11\n",
      "shap       INFO  weight_left = 0.7167414131850209\n",
      "shap       INFO  np.sum(w_aug) = 23.000000000000007\n",
      "shap       INFO  np.sum(self.kernelWeights) = 1.0000000000000002\n",
      "shap       INFO  phi = array([-4.50663838e+03, -4.90715641e+03,  7.23338234e+02,  1.97133115e+03,\n",
      "        1.93030146e+02,  6.49043346e+02,  3.90704984e+00, -2.46103552e+03,\n",
      "       -8.37044645e+01,  8.81129140e+00,  5.45690746e+01,  1.99075105e+00,\n",
      "        1.41165915e+03, -2.14433476e+03,  2.99092012e+01,  9.29955131e+00,\n",
      "       -6.32299796e+02,  7.82594779e+02, -4.11026867e+01,  2.59277500e+02,\n",
      "       -2.65907608e+01,  6.43184498e+01,  1.39453797e+01])\n",
      "shap       INFO  num_full_subsets = 1\n",
      "shap       INFO  remaining_weight_vector = array([0.20701126, 0.14490788, 0.11440096, 0.09660526, 0.08523993,\n",
      "       0.07762922, 0.07245394, 0.06900375, 0.06688056, 0.06586722])\n",
      "shap       INFO  num_paired_subset_sizes = 11\n",
      "shap       INFO  weight_left = 0.7167414131850209\n",
      "shap       INFO  np.sum(w_aug) = 23.000000000000004\n",
      "shap       INFO  np.sum(self.kernelWeights) = 1.0\n",
      "shap       INFO  phi = array([  108.26559513, -4554.52675914,   480.65856883,   774.89248633,\n",
      "         188.61988533,   416.73049875,  -366.20554101, -1419.79387099,\n",
      "         -74.39397101,     0.        ,    74.44647434,    78.0119808 ,\n",
      "        1385.28926185, -2004.22577882,    25.55801437,     5.19038467,\n",
      "        -599.36801057,   690.98563403,   -29.188139  ,   153.83941463,\n",
      "         -11.6451114 ,    84.7230315 ,    10.36959789])\n",
      "shap       INFO  num_full_subsets = 1\n",
      "shap       INFO  remaining_weight_vector = array([0.20701126, 0.14490788, 0.11440096, 0.09660526, 0.08523993,\n",
      "       0.07762922, 0.07245394, 0.06900375, 0.06688056, 0.06586722])\n",
      "shap       INFO  num_paired_subset_sizes = 11\n",
      "shap       INFO  weight_left = 0.7167414131850209\n",
      "shap       INFO  np.sum(w_aug) = 23.000000000000007\n",
      "shap       INFO  np.sum(self.kernelWeights) = 1.0000000000000002\n",
      "shap       INFO  phi = array([ -323.893607  , -4596.43033235,   294.19587173,   256.34898526,\n",
      "         188.56243338,   320.3857207 ,  -359.46041993,  -489.40964423,\n",
      "         -66.96593117,    11.99590284,    74.81828318,    69.12483699,\n",
      "        1229.47107815, -1877.54528629,    24.50169383,   -11.94078587,\n",
      "        -467.90565149,   554.95399555,   -17.06250547,   115.11477566,\n",
      "          -9.03174986,   -48.34361304,    12.51201499])\n",
      "shap       INFO  num_full_subsets = 1\n",
      "shap       INFO  remaining_weight_vector = array([0.20701126, 0.14490788, 0.11440096, 0.09660526, 0.08523993,\n",
      "       0.07762922, 0.07245394, 0.06900375, 0.06688056, 0.06586722])\n",
      "shap       INFO  num_paired_subset_sizes = 11\n",
      "shap       INFO  weight_left = 0.7167414131850209\n",
      "shap       INFO  np.sum(w_aug) = 23.000000000000007\n",
      "shap       INFO  np.sum(self.kernelWeights) = 1.0\n",
      "shap       INFO  phi = array([ 1247.09672994, -6895.95157199,  -220.46986477,   165.25283117,\n",
      "         180.10089204,   354.24229225,  -252.7965803 ,   171.64865806,\n",
      "         -43.96821389,    21.31172554,    80.49582879,   158.02449935,\n",
      "         931.39615179, -1712.66900029,    31.58308905,    -7.94695334,\n",
      "        -411.00490563,   451.03547401,   -13.37248573,   112.88127126,\n",
      "           0.        ,   -43.75826752,    12.03841836])\n",
      "shap       INFO  num_full_subsets = 1\n",
      "shap       INFO  remaining_weight_vector = array([0.20701126, 0.14490788, 0.11440096, 0.09660526, 0.08523993,\n",
      "       0.07762922, 0.07245394, 0.06900375, 0.06688056, 0.06586722])\n",
      "shap       INFO  num_paired_subset_sizes = 11\n",
      "shap       INFO  weight_left = 0.7167414131850209\n",
      "shap       INFO  np.sum(w_aug) = 23.000000000000007\n",
      "shap       INFO  np.sum(self.kernelWeights) = 1.0000000000000004\n",
      "shap       INFO  phi = array([ 1344.33645365, -6537.71813597,   264.82145337,  1643.83042887,\n",
      "         186.52378012,   698.24142041,   -82.9493965 , -2303.56405826,\n",
      "         -43.27568356,    20.57778781,    89.51904209,   280.48587782,\n",
      "         699.56491079, -1719.16375757,    25.33174355,   -14.3440467 ,\n",
      "        -379.30397956,   366.29038023,   -12.80797859,   104.07717694,\n",
      "         -14.98250724,   -41.21199548,    17.41631633])\n",
      "shap       INFO  num_full_subsets = 1\n",
      "shap       INFO  remaining_weight_vector = array([0.20701126, 0.14490788, 0.11440096, 0.09660526, 0.08523993,\n",
      "       0.07762922, 0.07245394, 0.06900375, 0.06688056, 0.06586722])\n",
      "shap       INFO  num_paired_subset_sizes = 11\n",
      "shap       INFO  weight_left = 0.7167414131850209\n",
      "shap       INFO  np.sum(w_aug) = 23.0\n",
      "shap       INFO  np.sum(self.kernelWeights) = 1.0000000000000004\n",
      "shap       INFO  phi = array([-1510.44907739, -5259.4155322 ,   673.32796435,  1374.8246317 ,\n",
      "         191.02189404,   240.88561881,  -839.54539341, -1910.44103318,\n",
      "         -48.52670057,    17.01655409,   137.99470618,    62.94732976,\n",
      "         852.89428914, -1731.42693141,    21.34207006,    -6.03092929,\n",
      "        -442.79291171,   367.81421473,   -26.28740632,   149.95576227,\n",
      "         -18.67282977,   -54.57091529,   -59.40993255])\n",
      "shap       INFO  num_full_subsets = 1\n",
      "shap       INFO  remaining_weight_vector = array([0.20701126, 0.14490788, 0.11440096, 0.09660526, 0.08523993,\n",
      "       0.07762922, 0.07245394, 0.06900375, 0.06688056, 0.06586722])\n",
      "shap       INFO  num_paired_subset_sizes = 11\n",
      "shap       INFO  weight_left = 0.7167414131850209\n",
      "shap       INFO  np.sum(w_aug) = 23.000000000000007\n",
      "shap       INFO  np.sum(self.kernelWeights) = 1.0000000000000004\n",
      "shap       INFO  phi = array([-6972.45431211, -5328.55819386,   747.43310343,  2048.46906698,\n",
      "         184.38392651,   570.18562834, -1184.15926602, -1776.08861565,\n",
      "         -67.45445147,    12.11372318,   105.28385613,     0.        ,\n",
      "         963.57353766, -1711.09582725,    31.21925722,    -7.18506323,\n",
      "        -440.68287619,   412.58132906,   -20.47929844,   220.14209154,\n",
      "         -13.75745726,   -42.84639426,   -21.60859891])\n",
      "shap       INFO  num_full_subsets = 1\n",
      "shap       INFO  remaining_weight_vector = array([0.20701126, 0.14490788, 0.11440096, 0.09660526, 0.08523993,\n",
      "       0.07762922, 0.07245394, 0.06900375, 0.06688056, 0.06586722])\n",
      "shap       INFO  num_paired_subset_sizes = 11\n",
      "shap       INFO  weight_left = 0.7167414131850209\n",
      "shap       INFO  np.sum(w_aug) = 23.000000000000004\n",
      "shap       INFO  np.sum(self.kernelWeights) = 1.0\n",
      "shap       INFO  phi = array([-6.87750144e+03, -5.40790852e+03,  6.69975947e+02,  1.33514079e+03,\n",
      "        1.84095813e+02,  2.60357453e+02, -1.08029835e+03, -8.75197978e+02,\n",
      "       -6.36513148e+01,  1.06585047e+01,  9.57154614e+01, -1.06055393e+01,\n",
      "        7.02656475e+02, -1.30063465e+03,  2.63212754e+01,  0.00000000e+00,\n",
      "       -3.12307080e+02,  3.17719509e+02,  1.29594010e+01,  1.12324283e+02,\n",
      "        1.39582600e+01, -3.79724789e+01, -6.23905433e+00])\n",
      "shap       INFO  num_full_subsets = 1\n",
      "shap       INFO  remaining_weight_vector = array([0.20701126, 0.14490788, 0.11440096, 0.09660526, 0.08523993,\n",
      "       0.07762922, 0.07245394, 0.06900375, 0.06688056, 0.06586722])\n",
      "shap       INFO  num_paired_subset_sizes = 11\n",
      "shap       INFO  weight_left = 0.7167414131850209\n",
      "shap       INFO  np.sum(w_aug) = 23.0\n",
      "shap       INFO  np.sum(self.kernelWeights) = 1.0000000000000002\n",
      "shap       INFO  phi = array([ 5.35725320e+03, -6.81674304e+03,  3.42932524e+02,  3.03178443e+02,\n",
      "        1.77205097e+02, -9.91367984e+00, -8.97893699e+02, -1.35936878e+03,\n",
      "       -6.42549600e+01,  2.54158888e+01,  1.22019966e+02, -3.22751297e+01,\n",
      "        7.26193927e+02, -7.09148962e+02,  1.12459461e+01,  0.00000000e+00,\n",
      "       -2.54431379e+02,  2.71808344e+02,  3.60448982e+01,  3.63188785e+01,\n",
      "        3.35692627e+00, -4.21915815e+01, -1.78439125e+01])\n",
      "shap       INFO  num_full_subsets = 1\n",
      "shap       INFO  remaining_weight_vector = array([0.20701126, 0.14490788, 0.11440096, 0.09660526, 0.08523993,\n",
      "       0.07762922, 0.07245394, 0.06900375, 0.06688056, 0.06586722])\n",
      "shap       INFO  num_paired_subset_sizes = 11\n",
      "shap       INFO  weight_left = 0.7167414131850209\n",
      "shap       INFO  np.sum(w_aug) = 23.000000000000004\n",
      "shap       INFO  np.sum(self.kernelWeights) = 1.0000000000000002\n",
      "shap       INFO  phi = array([ 7.49758508e+03, -6.37160796e+03,  3.66453461e+02,  6.68934149e+02,\n",
      "        1.66201392e+02,  3.08754432e+02, -2.23378715e+02, -2.42612086e+03,\n",
      "       -3.85211331e+01,  1.62102490e+01,  1.55529602e+02,  1.53096860e+01,\n",
      "        5.22345207e+02, -5.86549513e+02,  3.18259321e+01, -1.04175326e+01,\n",
      "       -2.16364831e+02,  2.70187990e+02,  1.52526297e+01, -1.13627983e+01,\n",
      "        2.17904752e+01, -3.50514872e+01, -6.56003666e+00])\n",
      "shap       INFO  num_full_subsets = 1\n",
      "shap       INFO  remaining_weight_vector = array([0.20701126, 0.14490788, 0.11440096, 0.09660526, 0.08523993,\n",
      "       0.07762922, 0.07245394, 0.06900375, 0.06688056, 0.06586722])\n",
      "shap       INFO  num_paired_subset_sizes = 11\n",
      "shap       INFO  weight_left = 0.7167414131850209\n",
      "shap       INFO  np.sum(w_aug) = 23.000000000000004\n",
      "shap       INFO  np.sum(self.kernelWeights) = 1.0000000000000004\n",
      "shap       INFO  phi = array([ 6683.26989556, -6566.60401228,   536.40032272,   447.99330248,\n",
      "         168.22732778,   279.10106146,  -125.6809455 , -2353.39217474,\n",
      "         -51.57089774,     6.88237606,   184.93483454,   234.15980201,\n",
      "         392.84926437,  -432.32915129,    29.15019711,   -10.81967591,\n",
      "        -200.17010055,   264.80578849,     0.        ,   -50.79474999,\n",
      "          11.79538595,   -32.82796989,   -13.19021012])\n",
      "shap       INFO  num_full_subsets = 1\n",
      "shap       INFO  remaining_weight_vector = array([0.20701126, 0.14490788, 0.11440096, 0.09660526, 0.08523993,\n",
      "       0.07762922, 0.07245394, 0.06900375, 0.06688056, 0.06586722])\n",
      "shap       INFO  num_paired_subset_sizes = 11\n",
      "shap       INFO  weight_left = 0.7167414131850209\n",
      "shap       INFO  np.sum(w_aug) = 23.000000000000004\n",
      "shap       INFO  np.sum(self.kernelWeights) = 1.0000000000000002\n",
      "shap       INFO  phi = array([ 6.49587742e+03, -7.07399077e+03,  3.61618357e+02, -1.69111770e+02,\n",
      "        1.69936586e+02, -6.43739925e+00, -6.11326035e+01, -1.34949078e+03,\n",
      "       -5.31134808e+01,  1.13023091e+01,  1.28155808e+02,  5.42555572e+01,\n",
      "        4.07633404e+02, -5.96102704e+02,  3.08028006e+01, -3.48221481e+00,\n",
      "       -1.83280768e+02,  3.19068127e+02, -2.21511767e+01,  4.40495570e+01,\n",
      "       -5.59196887e+00, -3.34406441e+01, -1.84394139e+01])\n",
      "shap       INFO  num_full_subsets = 1\n",
      "shap       INFO  remaining_weight_vector = array([0.20701126, 0.14490788, 0.11440096, 0.09660526, 0.08523993,\n",
      "       0.07762922, 0.07245394, 0.06900375, 0.06688056, 0.06586722])\n",
      "shap       INFO  num_paired_subset_sizes = 11\n",
      "shap       INFO  weight_left = 0.7167414131850209\n",
      "shap       INFO  np.sum(w_aug) = 23.000000000000007\n",
      "shap       INFO  np.sum(self.kernelWeights) = 1.0000000000000004\n",
      "shap       INFO  phi = array([ 4216.98942629, -7649.56542516,   612.27400411,   712.36721861,\n",
      "         182.97067139,   -32.68587062,  -550.07971388, -2135.50175843,\n",
      "         -45.13227512,     0.        ,   129.39580785,   105.53054856,\n",
      "         352.89630646,  -440.32279476,    22.00424805,     0.        ,\n",
      "        -206.24672895,   264.84981413,   -24.16500687,   156.98438636,\n",
      "         -26.29664284,   -46.16244881,     0.        ])\n",
      "shap       INFO  num_full_subsets = 1\n",
      "shap       INFO  remaining_weight_vector = array([0.20701126, 0.14490788, 0.11440096, 0.09660526, 0.08523993,\n",
      "       0.07762922, 0.07245394, 0.06900375, 0.06688056, 0.06586722])\n",
      "shap       INFO  num_paired_subset_sizes = 11\n",
      "shap       INFO  weight_left = 0.7167414131850209\n",
      "shap       INFO  np.sum(w_aug) = 23.000000000000004\n",
      "shap       INFO  np.sum(self.kernelWeights) = 0.9999999999999999\n",
      "shap       INFO  phi = array([-3697.19049661, -5844.28249182,   844.73464898,  1528.08004501,\n",
      "         198.60391818,   217.37307766,  -311.54677444, -2147.61556886,\n",
      "         -40.88377796,    13.32888463,    41.95965931,   -10.02263455,\n",
      "         617.02860288,  -718.98299309,    16.66476839,   -10.10052722,\n",
      "        -144.72548483,   216.89917188,   -55.83860245,   223.09655425,\n",
      "         -39.73168696,   -41.62565075,     8.83627555])\n",
      "shap       INFO  num_full_subsets = 1\n",
      "shap       INFO  remaining_weight_vector = array([0.20701126, 0.14490788, 0.11440096, 0.09660526, 0.08523993,\n",
      "       0.07762922, 0.07245394, 0.06900375, 0.06688056, 0.06586722])\n",
      "shap       INFO  num_paired_subset_sizes = 11\n",
      "shap       INFO  weight_left = 0.7167414131850209\n",
      "shap       INFO  np.sum(w_aug) = 23.000000000000004\n",
      "shap       INFO  np.sum(self.kernelWeights) = 1.0000000000000004\n",
      "shap       INFO  phi = array([-8.41498267e+03, -6.43167357e+03,  8.02589106e+02,  1.12911462e+03,\n",
      "        2.01068327e+02,  1.61474823e+02, -1.20952136e+03, -5.27912220e+02,\n",
      "       -3.19176612e+01,  3.97595998e+00,  4.88144579e+01,  2.09139757e+01,\n",
      "        8.19681926e+02, -1.15523355e+03,  2.65568166e+01, -1.08226644e+01,\n",
      "       -3.31129658e+02,  4.05612273e+02, -6.80384636e+01,  2.84376585e+02,\n",
      "       -4.25573507e+01, -4.19077378e+01,  2.19295555e+01])\n",
      "shap       INFO  num_full_subsets = 1\n",
      "shap       INFO  remaining_weight_vector = array([0.20701126, 0.14490788, 0.11440096, 0.09660526, 0.08523993,\n",
      "       0.07762922, 0.07245394, 0.06900375, 0.06688056, 0.06586722])\n",
      "shap       INFO  num_paired_subset_sizes = 11\n",
      "shap       INFO  weight_left = 0.7167414131850209\n",
      "shap       INFO  np.sum(w_aug) = 23.0\n",
      "shap       INFO  np.sum(self.kernelWeights) = 0.9999999999999999\n",
      "shap       INFO  phi = array([   16.2950868 , -6343.89274958,   714.32602091,  1327.50817932,\n",
      "         194.30767667,   187.61480482, -1120.0139129 , -2102.43829185,\n",
      "         -52.63565914,    15.44575916,   114.79685227,   -32.15179623,\n",
      "         871.5424247 , -1154.12053945,    29.14381318,    -9.66736224,\n",
      "        -363.49426063,   419.53731126,   -34.48491235,   297.09916444,\n",
      "         -20.30261172,   -45.84541775,    13.4224606 ])\n",
      "shap       INFO  num_full_subsets = 1\n",
      "shap       INFO  remaining_weight_vector = array([0.20701126, 0.14490788, 0.11440096, 0.09660526, 0.08523993,\n",
      "       0.07762922, 0.07245394, 0.06900375, 0.06688056, 0.06586722])\n",
      "shap       INFO  num_paired_subset_sizes = 11\n",
      "shap       INFO  weight_left = 0.7167414131850209\n",
      "shap       INFO  np.sum(w_aug) = 23.000000000000007\n",
      "shap       INFO  np.sum(self.kernelWeights) = 1.0\n",
      "shap       INFO  phi = array([-1507.52276331, -4551.9320827 ,   676.52048761,  1489.22085016,\n",
      "         182.15661216,   309.68673097,  -558.7160428 , -2141.34849438,\n",
      "         -56.97531848,    14.32663538,   148.005678  ,   -11.80121617,\n",
      "         812.38306747, -1002.4176336 ,    22.77818335,   -12.39146898,\n",
      "        -281.82217269,   318.3246428 ,   -15.49311016,   209.7976676 ,\n",
      "           0.        ,   -41.30754102,    -8.57125526])\n",
      "shap       INFO  num_full_subsets = 1\n",
      "shap       INFO  remaining_weight_vector = array([0.20701126, 0.14490788, 0.11440096, 0.09660526, 0.08523993,\n",
      "       0.07762922, 0.07245394, 0.06900375, 0.06688056, 0.06586722])\n",
      "shap       INFO  num_paired_subset_sizes = 11\n",
      "shap       INFO  weight_left = 0.7167414131850209\n",
      "shap       INFO  np.sum(w_aug) = 23.000000000000007\n",
      "shap       INFO  np.sum(self.kernelWeights) = 1.0000000000000002\n",
      "shap       INFO  phi = array([-1126.1135519 , -4217.54034825,   274.58719259,  -307.6274821 ,\n",
      "         184.95114042,    46.93869928,  -901.75733997,   506.40072192,\n",
      "         -55.84469852,    10.09737866,   140.74790498,    23.12174392,\n",
      "         728.69553088, -1002.67538106,    33.00762901,    -4.84797406,\n",
      "        -407.37810911,   411.65466998,   -15.68016692,   232.10138099,\n",
      "         -34.32843343,   -51.97479221,    11.5114902 ])\n",
      "shap       INFO  num_full_subsets = 1\n",
      "shap       INFO  remaining_weight_vector = array([0.20701126, 0.14490788, 0.11440096, 0.09660526, 0.08523993,\n",
      "       0.07762922, 0.07245394, 0.06900375, 0.06688056, 0.06586722])\n",
      "shap       INFO  num_paired_subset_sizes = 11\n",
      "shap       INFO  weight_left = 0.7167414131850209\n",
      "shap       INFO  np.sum(w_aug) = 23.000000000000004\n",
      "shap       INFO  np.sum(self.kernelWeights) = 1.0000000000000004\n",
      "shap       INFO  phi = array([ 3.21623413e+03, -7.11071354e+03,  7.03560734e+02,  4.54245552e+02,\n",
      "        1.50613189e+02,  1.83954683e+02, -8.74260305e+02, -1.81439475e+03,\n",
      "       -4.58593963e+01,  1.61829322e+01,  1.37614896e+02, -3.70146533e+01,\n",
      "        9.29098314e+02, -1.00279581e+03,  2.97170871e+01, -4.93813918e+00,\n",
      "       -3.83539413e+02,  4.45388008e+02, -3.96412719e+01,  2.42061090e+02,\n",
      "       -2.85319606e+01, -3.92746056e+01,  1.93559038e+01])\n",
      "shap       INFO  num_full_subsets = 1\n",
      "shap       INFO  remaining_weight_vector = array([0.20701126, 0.14490788, 0.11440096, 0.09660526, 0.08523993,\n",
      "       0.07762922, 0.07245394, 0.06900375, 0.06688056, 0.06586722])\n",
      "shap       INFO  num_paired_subset_sizes = 11\n",
      "shap       INFO  weight_left = 0.7167414131850209\n",
      "shap       INFO  np.sum(w_aug) = 23.000000000000004\n",
      "shap       INFO  np.sum(self.kernelWeights) = 1.0000000000000002\n",
      "shap       INFO  phi = array([ 1694.30729889, -4522.57675759,   819.74200642,  1127.9955847 ,\n",
      "         121.84569256,   604.49804723,  -314.68794166, -2730.8094349 ,\n",
      "         -49.50603799,    16.71237014,    88.30331299,    27.52500166,\n",
      "         891.47145263,  -863.89040748,    27.63967869,    -9.99054059,\n",
      "        -327.71723109,   361.97930833,   -18.07991833,   140.60804407,\n",
      "         -13.36414255,   -41.88647473,    21.77034254])\n",
      "shap       INFO  num_full_subsets = 1\n",
      "shap       INFO  remaining_weight_vector = array([0.20701126, 0.14490788, 0.11440096, 0.09660526, 0.08523993,\n",
      "       0.07762922, 0.07245394, 0.06900375, 0.06688056, 0.06586722])\n",
      "shap       INFO  num_paired_subset_sizes = 11\n",
      "shap       INFO  weight_left = 0.7167414131850209\n",
      "shap       INFO  np.sum(w_aug) = 23.0\n",
      "shap       INFO  np.sum(self.kernelWeights) = 0.9999999999999998\n",
      "shap       INFO  phi = array([-4.31150492e+03, -3.37996573e+03,  6.85225935e+02,  1.17583922e+03,\n",
      "       -1.36376027e+02, -1.70240699e+01, -5.80752104e+02, -1.51653019e+03,\n",
      "       -5.41196973e+01,  1.63921615e+01,  2.44214742e+01,  1.65669297e+02,\n",
      "        7.91643656e+02, -8.78265895e+02,  3.05699274e+01,  3.27236355e+00,\n",
      "       -2.82930033e+02,  2.60223180e+02, -6.71239159e+00,  2.39217672e+01,\n",
      "        3.28461998e+01, -3.97235905e+01, -1.31474837e+01])\n",
      "shap       INFO  num_full_subsets = 1\n",
      "shap       INFO  remaining_weight_vector = array([0.20701126, 0.14490788, 0.11440096, 0.09660526, 0.08523993,\n",
      "       0.07762922, 0.07245394, 0.06900375, 0.06688056, 0.06586722])\n",
      "shap       INFO  num_paired_subset_sizes = 11\n",
      "shap       INFO  weight_left = 0.7167414131850209\n",
      "shap       INFO  np.sum(w_aug) = 23.0\n",
      "shap       INFO  np.sum(self.kernelWeights) = 1.0000000000000004\n",
      "shap       INFO  phi = array([-2818.18552831, -4142.78155348,   639.11333035,   572.71347229,\n",
      "        -138.29290013,  -346.85879485,   -71.23712948, -1170.38816302,\n",
      "         -53.3757883 ,    27.11082034,    22.71445276,   120.6550455 ,\n",
      "         482.39128625,  -298.54483946,    17.37138584,    -6.82650747,\n",
      "        -137.63689603,   172.18285808,    16.44674875,  -110.61627708,\n",
      "          27.36736593,   -38.82676419,   -11.44855178])\n",
      "shap       INFO  num_full_subsets = 1\n",
      "shap       INFO  remaining_weight_vector = array([0.20701126, 0.14490788, 0.11440096, 0.09660526, 0.08523993,\n",
      "       0.07762922, 0.07245394, 0.06900375, 0.06688056, 0.06586722])\n",
      "shap       INFO  num_paired_subset_sizes = 11\n",
      "shap       INFO  weight_left = 0.7167414131850209\n",
      "shap       INFO  np.sum(w_aug) = 23.0\n",
      "shap       INFO  np.sum(self.kernelWeights) = 1.0000000000000004\n",
      "shap       INFO  phi = array([ 3336.26508699, -4755.98435106,   440.84172344,  -779.44536241,\n",
      "        -119.11230652,  -456.37758583,   -16.15947086,  -488.94101556,\n",
      "         -49.12411533,    13.67450512,   125.66019033,   278.45538676,\n",
      "         251.04929645,  -432.41809566,    26.85680724,   -11.11208716,\n",
      "        -148.52941645,   224.48460363,   -11.52522976,   -65.87747948,\n",
      "          13.30049004,   -34.20116588,    -8.05337686])\n",
      "shap       INFO  num_full_subsets = 1\n",
      "shap       INFO  remaining_weight_vector = array([0.20701126, 0.14490788, 0.11440096, 0.09660526, 0.08523993,\n",
      "       0.07762922, 0.07245394, 0.06900375, 0.06688056, 0.06586722])\n",
      "shap       INFO  num_paired_subset_sizes = 11\n",
      "shap       INFO  weight_left = 0.7167414131850209\n",
      "shap       INFO  np.sum(w_aug) = 23.000000000000007\n",
      "shap       INFO  np.sum(self.kernelWeights) = 1.0000000000000002\n",
      "shap       INFO  phi = array([ 2607.21444087, -2896.47395034,   526.64311893,  -678.12859557,\n",
      "        -120.52668846,  -467.92905295, -1039.55414326,  -290.53375181,\n",
      "         -42.3207633 ,    29.2609812 ,   172.52701708,    91.48590544,\n",
      "         155.61287524,  -299.6705287 ,    25.48479823,     0.        ,\n",
      "        -136.85047931,   223.23759542,   -23.94286712,    33.57131049,\n",
      "           9.44385932,   -37.49161601,    12.41598809])\n",
      "shap       INFO  num_full_subsets = 1\n",
      "shap       INFO  remaining_weight_vector = array([0.20701126, 0.14490788, 0.11440096, 0.09660526, 0.08523993,\n",
      "       0.07762922, 0.07245394, 0.06900375, 0.06688056, 0.06586722])\n",
      "shap       INFO  num_paired_subset_sizes = 11\n",
      "shap       INFO  weight_left = 0.7167414131850209\n",
      "shap       INFO  np.sum(w_aug) = 23.0\n",
      "shap       INFO  np.sum(self.kernelWeights) = 1.0\n",
      "shap       INFO  phi = array([ 4.16697688e+03, -2.41698427e+03,  5.49772366e+02, -8.45137357e+02,\n",
      "       -1.29155154e+02, -1.61514609e+02, -1.01256348e+03, -4.70006737e+02,\n",
      "       -1.98153676e+01,  2.37598947e+01,  2.17136440e+02,  5.54118015e+01,\n",
      "        2.02222896e+02, -3.07955239e+02,  2.70484336e+01, -1.10807633e+01,\n",
      "       -3.12494925e+01,  2.20634997e+02,  3.92673269e+00,  1.61998207e+01,\n",
      "        1.72854716e+01, -3.96283178e+01, -1.90850611e+01])\n",
      "shap       INFO  num_full_subsets = 1\n",
      "shap       INFO  remaining_weight_vector = array([0.20701126, 0.14490788, 0.11440096, 0.09660526, 0.08523993,\n",
      "       0.07762922, 0.07245394, 0.06900375, 0.06688056, 0.06586722])\n",
      "shap       INFO  num_paired_subset_sizes = 11\n",
      "shap       INFO  weight_left = 0.7167414131850209\n",
      "shap       INFO  np.sum(w_aug) = 23.000000000000004\n",
      "shap       INFO  np.sum(self.kernelWeights) = 1.0\n",
      "shap       INFO  phi = array([ 6188.68109933, -3608.96371201,   276.53017744, -1194.0154663 ,\n",
      "        -125.07873017,  -476.09830441,  -260.28601598,  -189.533568  ,\n",
      "         -31.18137894,    28.91361465,   262.16938314,    50.03083649,\n",
      "         206.75769588,  -158.11664425,    19.33841862,   -11.01342648,\n",
      "         -14.70790602,   175.70196637,    26.71576805,   -50.78278278,\n",
      "          19.66280719,   -42.60556964,   -28.63915212])\n",
      "shap       INFO  num_full_subsets = 1\n",
      "shap       INFO  remaining_weight_vector = array([0.20701126, 0.14490788, 0.11440096, 0.09660526, 0.08523993,\n",
      "       0.07762922, 0.07245394, 0.06900375, 0.06688056, 0.06586722])\n",
      "shap       INFO  num_paired_subset_sizes = 11\n",
      "shap       INFO  weight_left = 0.7167414131850209\n",
      "shap       INFO  np.sum(w_aug) = 23.0\n",
      "shap       INFO  np.sum(self.kernelWeights) = 1.0000000000000004\n",
      "shap       INFO  phi = array([ 3.14363885e+03, -4.84157805e+03,  4.12854416e+02, -1.26524288e+03,\n",
      "       -1.22235350e+02, -4.20811459e+02, -6.02499500e+02,  2.99111561e+02,\n",
      "       -1.01994266e+01,  1.10750327e+01,  3.05353339e+02,  1.44340742e+02,\n",
      "        8.26288027e+01, -1.52085513e+02,  3.48720599e+01, -7.62339380e+00,\n",
      "        2.64642504e+01,  1.75483220e+02,  4.48367353e+00, -4.22812566e+01,\n",
      "        2.65524439e+01, -4.06842702e+01, -2.53702137e+01])\n",
      "shap       INFO  num_full_subsets = 1\n",
      "shap       INFO  remaining_weight_vector = array([0.20701126, 0.14490788, 0.11440096, 0.09660526, 0.08523993,\n",
      "       0.07762922, 0.07245394, 0.06900375, 0.06688056, 0.06586722])\n",
      "shap       INFO  num_paired_subset_sizes = 11\n",
      "shap       INFO  weight_left = 0.7167414131850209\n",
      "shap       INFO  np.sum(w_aug) = 23.000000000000004\n",
      "shap       INFO  np.sum(self.kernelWeights) = 0.9999999999999999\n",
      "shap       INFO  phi = array([ -230.60180688, -5779.19762406,   417.93473984,  -280.33070263,\n",
      "        -110.6843008 ,  -335.02090893,  -630.98889148,  -154.35563667,\n",
      "         -11.20900811,    22.03997884,   285.03454563,    44.91465261,\n",
      "         -18.78426261,   -18.31469205,    32.3389496 ,   -11.15962319,\n",
      "         141.90563817,   -15.5376581 ,     0.        ,   -15.06054858,\n",
      "          32.42241172,   -48.10204197,   -18.65866186])\n",
      "shap       INFO  num_full_subsets = 1\n",
      "shap       INFO  remaining_weight_vector = array([0.20701126, 0.14490788, 0.11440096, 0.09660526, 0.08523993,\n",
      "       0.07762922, 0.07245394, 0.06900375, 0.06688056, 0.06586722])\n",
      "shap       INFO  num_paired_subset_sizes = 11\n",
      "shap       INFO  weight_left = 0.7167414131850209\n",
      "shap       INFO  np.sum(w_aug) = 23.000000000000004\n",
      "shap       INFO  np.sum(self.kernelWeights) = 1.0000000000000004\n",
      "shap       INFO  phi = array([-4.60721066e+03, -5.76148314e+03,  2.66414201e+02, -3.48897598e+02,\n",
      "       -1.24494370e+02, -3.22412985e+02, -7.03525289e+02,  9.14917492e+02,\n",
      "       -1.49454657e+01,  1.94334130e+01,  2.87774511e+02,  5.43994815e+01,\n",
      "       -2.39162695e+02,  2.93226322e+02,  2.47708141e+01, -4.99021474e+00,\n",
      "        9.29449081e+01, -1.66581803e+01,  1.04425474e+01,  0.00000000e+00,\n",
      "        1.64828423e+01, -3.93042867e+01, -2.33117014e+01])\n",
      "shap       INFO  num_full_subsets = 1\n",
      "shap       INFO  remaining_weight_vector = array([0.20701126, 0.14490788, 0.11440096, 0.09660526, 0.08523993,\n",
      "       0.07762922, 0.07245394, 0.06900375, 0.06688056, 0.06586722])\n",
      "shap       INFO  num_paired_subset_sizes = 11\n",
      "shap       INFO  weight_left = 0.7167414131850209\n",
      "shap       INFO  np.sum(w_aug) = 23.000000000000004\n",
      "shap       INFO  np.sum(self.kernelWeights) = 1.0\n",
      "shap       INFO  phi = array([ 8.13943307e+03, -7.08596640e+03,  3.48411477e+02, -2.88161523e+02,\n",
      "       -1.31783160e+02, -4.03442487e+02, -8.80832677e+02, -1.37828216e+03,\n",
      "       -2.92127807e+01,  2.81902976e+01,  2.32206202e+02,  1.34550813e+01,\n",
      "       -2.63490429e+02,  2.87345147e+02,  3.64758915e+01, -1.12005959e+01,\n",
      "        1.41396179e+02, -2.34641867e+01,  7.91995025e+00, -2.19114438e+01,\n",
      "        2.32693430e+01, -5.10556740e+01, -1.67728863e+01])\n",
      "shap       INFO  num_full_subsets = 1\n",
      "shap       INFO  remaining_weight_vector = array([0.20701126, 0.14490788, 0.11440096, 0.09660526, 0.08523993,\n",
      "       0.07762922, 0.07245394, 0.06900375, 0.06688056, 0.06586722])\n",
      "shap       INFO  num_paired_subset_sizes = 11\n",
      "shap       INFO  weight_left = 0.7167414131850209\n",
      "shap       INFO  np.sum(w_aug) = 23.0\n",
      "shap       INFO  np.sum(self.kernelWeights) = 1.0000000000000004\n",
      "shap       INFO  phi = array([ 1.09166908e+04, -5.84171066e+03,  1.32200734e+02, -6.01742108e+02,\n",
      "       -1.39015395e+02, -5.58073632e+02, -3.04803325e+02, -1.31469673e+03,\n",
      "       -1.39001820e+01,  2.13316380e+01,  2.43763917e+02,  1.35630794e+02,\n",
      "       -2.96249638e+02,  5.70200948e+02,  3.28264096e+01, -9.68991727e+00,\n",
      "        1.07599999e+02, -6.67846958e+01,  2.60410144e+01, -1.09352720e+02,\n",
      "        3.05168569e+01, -4.62841483e+01, -3.38138561e+01])\n",
      "shap       INFO  num_full_subsets = 1\n",
      "shap       INFO  remaining_weight_vector = array([0.20701126, 0.14490788, 0.11440096, 0.09660526, 0.08523993,\n",
      "       0.07762922, 0.07245394, 0.06900375, 0.06688056, 0.06586722])\n",
      "shap       INFO  num_paired_subset_sizes = 11\n",
      "shap       INFO  weight_left = 0.7167414131850209\n",
      "shap       INFO  np.sum(w_aug) = 23.000000000000004\n",
      "shap       INFO  np.sum(self.kernelWeights) = 1.0\n",
      "shap       INFO  phi = array([ 9.75189838e+03, -5.26480786e+03, -2.06924198e+01, -1.25926811e+03,\n",
      "       -1.40816311e+02, -5.66118245e+02, -7.94389557e+02, -1.58279728e+01,\n",
      "       -2.70379361e+00,  2.16968348e+01,  2.48103615e+02,  1.26952030e+02,\n",
      "       -5.14378886e+02,  5.72259419e+02,  1.94959349e+01, -3.64255551e+00,\n",
      "        1.69769724e+02, -1.06300015e+02,  1.28617833e+01, -9.70081169e+01,\n",
      "        2.42970224e+01, -3.45184056e+01,  9.78805976e+00])\n",
      "shap       INFO  num_full_subsets = 1\n",
      "shap       INFO  remaining_weight_vector = array([0.20701126, 0.14490788, 0.11440096, 0.09660526, 0.08523993,\n",
      "       0.07762922, 0.07245394, 0.06900375, 0.06688056, 0.06586722])\n",
      "shap       INFO  num_paired_subset_sizes = 11\n",
      "shap       INFO  weight_left = 0.7167414131850209\n",
      "shap       INFO  np.sum(w_aug) = 23.000000000000007\n",
      "shap       INFO  np.sum(self.kernelWeights) = 1.0000000000000004\n",
      "shap       INFO  phi = array([ 8.57111186e+03, -5.04487998e+03, -1.95969626e+02, -1.08041010e+03,\n",
      "       -2.50430539e+02, -9.71400924e+01, -2.64439634e+02, -4.14365007e+01,\n",
      "       -6.11748727e+00,  2.40399243e+01,  3.02628132e+02,  8.58320471e+01,\n",
      "       -3.76159840e+02,  4.07663017e+02,  2.45493377e+01,  0.00000000e+00,\n",
      "        1.63426658e+02, -5.83949426e+01,  2.29256117e+01, -9.86471537e+01,\n",
      "        2.27951335e+01, -3.75540606e+01,  5.33233882e+00])\n",
      "shap       INFO  num_full_subsets = 1\n",
      "shap       INFO  remaining_weight_vector = array([0.20701126, 0.14490788, 0.11440096, 0.09660526, 0.08523993,\n",
      "       0.07762922, 0.07245394, 0.06900375, 0.06688056, 0.06586722])\n",
      "shap       INFO  num_paired_subset_sizes = 11\n",
      "shap       INFO  weight_left = 0.7167414131850209\n",
      "shap       INFO  np.sum(w_aug) = 23.000000000000004\n",
      "shap       INFO  np.sum(self.kernelWeights) = 1.0000000000000002\n",
      "shap       INFO  phi = array([ 1966.98177761, -4407.12713536,   118.1614556 ,  -230.15874082,\n",
      "        -232.30018552,  -213.27140585, -1188.3814086 ,   -11.61605433,\n",
      "         -25.0545196 ,    18.66630973,   228.84435918,    21.85007753,\n",
      "        -346.09084561,   401.85289458,    29.69490037,   -12.34167652,\n",
      "         131.80295969,  -106.55409095,     0.        ,     0.        ,\n",
      "          17.83636601,   -46.35789   ,     5.72506341])\n",
      "shap       INFO  num_full_subsets = 1\n",
      "shap       INFO  remaining_weight_vector = array([0.20701126, 0.14490788, 0.11440096, 0.09660526, 0.08523993,\n",
      "       0.07762922, 0.07245394, 0.06900375, 0.06688056, 0.06586722])\n",
      "shap       INFO  num_paired_subset_sizes = 11\n",
      "shap       INFO  weight_left = 0.7167414131850209\n",
      "shap       INFO  np.sum(w_aug) = 23.000000000000004\n",
      "shap       INFO  np.sum(self.kernelWeights) = 0.9999999999999999\n",
      "shap       INFO  phi = array([-9.27216612e+03, -1.76341263e+03,  5.70988189e+02,  4.72969093e+02,\n",
      "       -6.18540147e+02, -1.18234618e+02, -1.18453823e+03,  8.06579484e+01,\n",
      "       -4.70123835e+01,  1.92831127e+01,  2.23450053e+02, -5.31178662e+00,\n",
      "       -2.78989031e+02,  4.15573905e+02,  2.62866062e+01, -1.14646762e+01,\n",
      "        1.27667267e+02, -1.01272615e+02,  1.48023228e+01,  2.50864264e+01,\n",
      "        1.52679789e+01, -4.66314861e+01,  5.51624129e+00])\n",
      "shap       INFO  num_full_subsets = 1\n",
      "shap       INFO  remaining_weight_vector = array([0.20701126, 0.14490788, 0.11440096, 0.09660526, 0.08523993,\n",
      "       0.07762922, 0.07245394, 0.06900375, 0.06688056, 0.06586722])\n",
      "shap       INFO  num_paired_subset_sizes = 11\n",
      "shap       INFO  weight_left = 0.7167414131850209\n",
      "shap       INFO  np.sum(w_aug) = 23.000000000000004\n",
      "shap       INFO  np.sum(self.kernelWeights) = 1.0\n",
      "shap       INFO  phi = array([-5958.72939759, -4348.93234622,   472.48548452,   719.31961296,\n",
      "        -689.31846927,  -104.42675377,  -943.67503204,  -724.14082214,\n",
      "         -77.97733473,    23.9110168 ,   233.40045417,   -27.40226137,\n",
      "        -215.55828757,   415.51458516,    26.01688514,    -6.32755238,\n",
      "          88.29948051,   -67.31370387,    21.80300609,    11.64022832,\n",
      "          32.69605419,   -44.04331922,     9.24490691])\n",
      "shap       INFO  num_full_subsets = 1\n",
      "shap       INFO  remaining_weight_vector = array([0.20701126, 0.14490788, 0.11440096, 0.09660526, 0.08523993,\n",
      "       0.07762922, 0.07245394, 0.06900375, 0.06688056, 0.06586722])\n",
      "shap       INFO  num_paired_subset_sizes = 11\n",
      "shap       INFO  weight_left = 0.7167414131850209\n",
      "shap       INFO  np.sum(w_aug) = 23.000000000000004\n",
      "shap       INFO  np.sum(self.kernelWeights) = 1.0000000000000004\n",
      "shap       INFO  phi = array([ 2123.66651229, -2080.53849907,    -5.78777528,  -624.85371391,\n",
      "        -253.98666368,  -132.55410697,  -307.86697191,   249.7390396 ,\n",
      "         -24.98160577,    17.012741  ,   213.98245603,    81.47642805,\n",
      "        -299.56937363,   563.65668543,    16.9961199 ,     0.        ,\n",
      "         180.69167611,  -113.34552111,    44.38890026,   -56.53096213,\n",
      "          33.91129675,   -38.94159803,    24.10365945])\n",
      "shap       INFO  num_full_subsets = 1\n",
      "shap       INFO  remaining_weight_vector = array([0.20701126, 0.14490788, 0.11440096, 0.09660526, 0.08523993,\n",
      "       0.07762922, 0.07245394, 0.06900375, 0.06688056, 0.06586722])\n",
      "shap       INFO  num_paired_subset_sizes = 11\n",
      "shap       INFO  weight_left = 0.7167414131850209\n",
      "shap       INFO  np.sum(w_aug) = 23.000000000000004\n",
      "shap       INFO  np.sum(self.kernelWeights) = 1.0000000000000002\n",
      "shap       INFO  phi = array([ 5.70305630e+03, -5.79865066e+03, -2.10314933e+02, -8.93992780e+02,\n",
      "        2.07819712e+01, -2.77753244e+02, -5.50381138e+02,  5.93279818e+02,\n",
      "       -1.08951138e+01,  2.38305957e+01,  1.30794543e+02,  1.22829540e+02,\n",
      "       -3.39115571e+02,  4.16804783e+02,  2.62058491e+01, -5.59390035e+00,\n",
      "        1.56282974e+02, -1.05800396e+02,  1.75576649e+01, -8.40066011e+01,\n",
      "        2.14552036e+01, -3.61911154e+01,  2.08713025e+01])\n",
      "shap       INFO  num_full_subsets = 1\n",
      "shap       INFO  remaining_weight_vector = array([0.20701126, 0.14490788, 0.11440096, 0.09660526, 0.08523993,\n",
      "       0.07762922, 0.07245394, 0.06900375, 0.06688056, 0.06586722])\n",
      "shap       INFO  num_paired_subset_sizes = 11\n",
      "shap       INFO  weight_left = 0.7167414131850209\n",
      "shap       INFO  np.sum(w_aug) = 23.000000000000007\n",
      "shap       INFO  np.sum(self.kernelWeights) = 1.0000000000000004\n",
      "shap       INFO  phi = array([ 7.09849188e+03, -5.80649735e+03, -1.69188010e+02, -7.13832126e+02,\n",
      "        1.55144036e+02, -2.14736433e+02, -9.50570216e+02,  3.26778092e+02,\n",
      "       -3.19509188e+00,  2.62137005e+01,  1.19890808e+02,  8.05775307e+01,\n",
      "       -3.75179731e+02,  4.08505080e+02,  2.68893030e+01, -9.61519469e+00,\n",
      "        1.18478574e+02, -1.06457770e+02,  1.47707691e+01, -4.40804672e+01,\n",
      "        1.78491512e+01, -4.17362095e+01,  1.44037464e+01])\n",
      "shap       INFO  num_full_subsets = 1\n",
      "shap       INFO  remaining_weight_vector = array([0.20701126, 0.14490788, 0.11440096, 0.09660526, 0.08523993,\n",
      "       0.07762922, 0.07245394, 0.06900375, 0.06688056, 0.06586722])\n",
      "shap       INFO  num_paired_subset_sizes = 11\n",
      "shap       INFO  weight_left = 0.7167414131850209\n",
      "shap       INFO  np.sum(w_aug) = 23.000000000000004\n",
      "shap       INFO  np.sum(self.kernelWeights) = 1.0\n",
      "shap       INFO  phi = array([ 9.01975239e+03, -6.00105430e+03, -3.95034460e+02, -1.48888314e+03,\n",
      "        3.56996824e+02, -3.08470442e+02, -6.24249776e+02,  1.26102436e+03,\n",
      "        1.77289006e+01,  1.95898487e+01,  1.54836165e+02,  5.90531953e+01,\n",
      "       -3.28434935e+02,  5.62853211e+02,  2.70407984e+01, -5.24037348e+00,\n",
      "        1.80299580e+02, -1.02383992e+02,  2.04922441e+01, -4.41224880e+01,\n",
      "        2.38475169e+01, -4.95710429e+01,  2.36712844e+01])\n",
      "shap       INFO  num_full_subsets = 1\n",
      "shap       INFO  remaining_weight_vector = array([0.20701126, 0.14490788, 0.11440096, 0.09660526, 0.08523993,\n",
      "       0.07762922, 0.07245394, 0.06900375, 0.06688056, 0.06586722])\n",
      "shap       INFO  num_paired_subset_sizes = 11\n",
      "shap       INFO  weight_left = 0.7167414131850209\n",
      "shap       INFO  np.sum(w_aug) = 23.000000000000007\n",
      "shap       INFO  np.sum(self.kernelWeights) = 1.0\n",
      "shap       INFO  phi = array([ 1.11182231e+04, -7.56343587e+03, -1.72989392e+02, -5.04760978e+02,\n",
      "        4.15938173e+02, -3.03545474e+02, -8.93459472e+02, -3.85881186e+02,\n",
      "       -6.22079379e+01,  2.56148686e+01,  6.28972474e+01,  1.36856712e+02,\n",
      "       -2.55395041e+02,  6.94150167e+02,  2.80390558e+01, -3.23376176e+00,\n",
      "        1.61684805e+02, -1.29257297e+02,  3.12918599e+01, -9.76553091e+01,\n",
      "        3.84166912e+01, -3.93477439e+01,  1.65735613e+01])\n",
      "shap       INFO  num_full_subsets = 1\n",
      "shap       INFO  remaining_weight_vector = array([0.20701126, 0.14490788, 0.11440096, 0.09660526, 0.08523993,\n",
      "       0.07762922, 0.07245394, 0.06900375, 0.06688056, 0.06586722])\n",
      "shap       INFO  num_paired_subset_sizes = 11\n",
      "shap       INFO  weight_left = 0.7167414131850209\n",
      "shap       INFO  np.sum(w_aug) = 23.000000000000004\n",
      "shap       INFO  np.sum(self.kernelWeights) = 1.0\n",
      "shap       INFO  phi = array([10831.13293111, -7604.09363273,    80.23691664,    41.20587716,\n",
      "         412.52415382,  -357.17469086, -1290.7095813 , -1183.5370959 ,\n",
      "         -51.19177962,    25.48972151,   -52.21541413,    35.26282629,\n",
      "        -546.61356857,   570.86260813,    31.26168623,   -19.17469638,\n",
      "         283.66776957,  -257.33234674,    54.22283682,  -155.85797727,\n",
      "          44.20249425,   -47.58484111,    21.27286918])\n",
      "shap       INFO  num_full_subsets = 1\n",
      "shap       INFO  remaining_weight_vector = array([0.20701126, 0.14490788, 0.11440096, 0.09660526, 0.08523993,\n",
      "       0.07762922, 0.07245394, 0.06900375, 0.06688056, 0.06586722])\n",
      "shap       INFO  num_paired_subset_sizes = 11\n",
      "shap       INFO  weight_left = 0.7167414131850209\n",
      "shap       INFO  np.sum(w_aug) = 23.0\n",
      "shap       INFO  np.sum(self.kernelWeights) = 1.0000000000000002\n",
      "shap       INFO  phi = array([10435.81645069, -5836.15251332,   -81.36734484,  -546.55545614,\n",
      "         397.16956521,   128.62022393, -1300.20274296,  -317.87572121,\n",
      "         -43.48799175,    24.00996634,   -88.78804124,     0.        ,\n",
      "        -810.81672339,   683.34190537,    34.85011405,     0.        ,\n",
      "         377.39554356,  -391.48968169,    62.2769632 ,  -139.44880945,\n",
      "          37.38243231,   -34.26957133,     0.        ])\n",
      "shap       INFO  num_full_subsets = 1\n",
      "shap       INFO  remaining_weight_vector = array([0.20701126, 0.14490788, 0.11440096, 0.09660526, 0.08523993,\n",
      "       0.07762922, 0.07245394, 0.06900375, 0.06688056, 0.06586722])\n",
      "shap       INFO  num_paired_subset_sizes = 11\n",
      "shap       INFO  weight_left = 0.7167414131850209\n",
      "shap       INFO  np.sum(w_aug) = 23.000000000000004\n",
      "shap       INFO  np.sum(self.kernelWeights) = 1.0000000000000004\n",
      "shap       INFO  phi = array([ 1.81234861e+04, -4.18814293e+03, -5.67989121e+02, -1.76806779e+03,\n",
      "        4.13871295e+02,  1.30035190e+02, -9.43946502e+02,  3.37551081e+02,\n",
      "       -3.94090228e+01,  2.54706768e+01,  1.75719939e+01,  3.92326579e+01,\n",
      "       -8.72773135e+02,  1.56948132e+03,  3.51024334e+01, -7.42828479e+00,\n",
      "        4.73939735e+02, -1.62665443e+03,  4.92278754e+01, -1.76689879e+02,\n",
      "        5.07022632e+01, -4.25433846e+01,  0.00000000e+00])\n",
      "shap       INFO  num_full_subsets = 1\n",
      "shap       INFO  remaining_weight_vector = array([0.20701126, 0.14490788, 0.11440096, 0.09660526, 0.08523993,\n",
      "       0.07762922, 0.07245394, 0.06900375, 0.06688056, 0.06586722])\n",
      "shap       INFO  num_paired_subset_sizes = 11\n",
      "shap       INFO  weight_left = 0.7167414131850209\n",
      "shap       INFO  np.sum(w_aug) = 23.000000000000007\n",
      "shap       INFO  np.sum(self.kernelWeights) = 1.0\n",
      "shap       INFO  phi = array([ 2.21300910e+04, -4.61490646e+03, -3.04543648e+02, -1.04375266e+03,\n",
      "        4.65483834e+02,  8.86022480e+01, -8.83304130e+02, -1.52272509e+03,\n",
      "       -7.67799436e+01,  3.65552645e+01,  8.04511519e+01,  1.43906556e+02,\n",
      "       -9.49063941e+02,  1.41152393e+03,  2.46188150e+01, -5.81228337e+00,\n",
      "        4.70979233e+02, -1.62208227e+03,  4.67412616e+01, -2.24629125e+02,\n",
      "        5.05708169e+01, -3.76632473e+01,  0.00000000e+00])\n",
      "shap       INFO  num_full_subsets = 1\n",
      "shap       INFO  remaining_weight_vector = array([0.20701126, 0.14490788, 0.11440096, 0.09660526, 0.08523993,\n",
      "       0.07762922, 0.07245394, 0.06900375, 0.06688056, 0.06586722])\n",
      "shap       INFO  num_paired_subset_sizes = 11\n",
      "shap       INFO  weight_left = 0.7167414131850209\n",
      "shap       INFO  np.sum(w_aug) = 23.000000000000004\n",
      "shap       INFO  np.sum(self.kernelWeights) = 1.0000000000000002\n",
      "shap       INFO  phi = array([ 1.87800498e+04, -6.14546058e+03, -3.56573778e+02, -5.80526270e+02,\n",
      "        4.65254901e+02,  5.43522715e+01, -8.88866510e+02, -1.31248561e+03,\n",
      "       -7.78683438e+01,  1.57504849e+01,  2.06594430e+02,  2.07571264e+02,\n",
      "       -1.04457819e+03,  1.56731958e+03,  2.95022877e+01,  0.00000000e+00,\n",
      "        4.68027622e+02, -1.62451105e+03,  3.60905485e+01, -1.95403763e+02,\n",
      "        4.74436930e+01, -4.28970223e+01, -3.99885531e+00])\n",
      "shap       INFO  num_full_subsets = 1\n",
      "shap       INFO  remaining_weight_vector = array([0.20701126, 0.14490788, 0.11440096, 0.09660526, 0.08523993,\n",
      "       0.07762922, 0.07245394, 0.06900375, 0.06688056, 0.06586722])\n",
      "shap       INFO  num_paired_subset_sizes = 11\n",
      "shap       INFO  weight_left = 0.7167414131850209\n",
      "shap       INFO  np.sum(w_aug) = 23.0\n",
      "shap       INFO  np.sum(self.kernelWeights) = 1.0000000000000002\n",
      "shap       INFO  phi = array([ 1.82536871e+04, -7.96523267e+03, -3.93960939e+02, -9.40209704e+02,\n",
      "        5.00735056e+02, -6.44068239e+01, -1.07704434e+03, -6.99376603e+02,\n",
      "       -4.47282009e+01,  9.16851038e+00,  1.94036613e+02,  3.34793752e+01,\n",
      "       -8.91444172e+02,  1.41953742e+03,  2.66722801e+01, -3.12095137e+00,\n",
      "        4.50193959e+02, -1.57428242e+03,  2.89081743e+01, -1.06236572e+02,\n",
      "        3.41396348e+01, -4.27017965e+01, -5.16990581e+00])\n",
      "shap       INFO  num_full_subsets = 1\n",
      "shap       INFO  remaining_weight_vector = array([0.20701126, 0.14490788, 0.11440096, 0.09660526, 0.08523993,\n",
      "       0.07762922, 0.07245394, 0.06900375, 0.06688056, 0.06586722])\n",
      "shap       INFO  num_paired_subset_sizes = 11\n",
      "shap       INFO  weight_left = 0.7167414131850209\n",
      "shap       INFO  np.sum(w_aug) = 23.000000000000004\n",
      "shap       INFO  np.sum(self.kernelWeights) = 1.0\n",
      "shap       INFO  phi = array([ 1.62218890e+04, -6.24501036e+03, -1.32369154e+02, -4.72719588e+02,\n",
      "        6.47790771e+02,  3.49577335e+01, -4.64009798e+02, -1.37628175e+03,\n",
      "       -3.20293925e+01,  8.77032974e+00,  2.06111484e+02,  1.17127545e+02,\n",
      "       -8.46474151e+02,  1.26319916e+03,  2.28194337e+01,  0.00000000e+00,\n",
      "        4.14140161e+02, -5.38315750e+02,  3.70112450e+01, -1.47529162e+02,\n",
      "        3.49013491e+01, -3.81369368e+01,  0.00000000e+00])\n",
      "shap       INFO  num_full_subsets = 1\n",
      "shap       INFO  remaining_weight_vector = array([0.20701126, 0.14490788, 0.11440096, 0.09660526, 0.08523993,\n",
      "       0.07762922, 0.07245394, 0.06900375, 0.06688056, 0.06586722])\n",
      "shap       INFO  num_paired_subset_sizes = 11\n",
      "shap       INFO  weight_left = 0.7167414131850209\n",
      "shap       INFO  np.sum(w_aug) = 23.000000000000004\n",
      "shap       INFO  np.sum(self.kernelWeights) = 1.0000000000000002\n",
      "shap       INFO  phi = array([ 8.25507232e+03, -6.25665063e+03,  1.30125404e+01, -7.50359363e+01,\n",
      "        6.86359317e+02, -5.87022218e+02, -1.27832779e+03, -2.68149661e+02,\n",
      "       -3.60847289e+01,  1.83855639e+01,  2.20530918e+02,  1.41096217e+02,\n",
      "       -8.28784517e+02,  1.40991447e+03,  2.61314596e+01, -5.24791302e+00,\n",
      "        3.87485074e+02, -6.18302480e+02,  3.13022128e+01, -9.43363617e+01,\n",
      "        3.57273098e+01, -5.12339915e+01, -5.01384344e+00])\n",
      "shap       INFO  num_full_subsets = 1\n",
      "shap       INFO  remaining_weight_vector = array([0.20701126, 0.14490788, 0.11440096, 0.09660526, 0.08523993,\n",
      "       0.07762922, 0.07245394, 0.06900375, 0.06688056, 0.06586722])\n",
      "shap       INFO  num_paired_subset_sizes = 11\n",
      "shap       INFO  weight_left = 0.7167414131850209\n",
      "shap       INFO  np.sum(w_aug) = 23.000000000000004\n",
      "shap       INFO  np.sum(self.kernelWeights) = 1.0000000000000002\n",
      "shap       INFO  phi = array([ 4608.60664579, -5624.45809058,   -36.00880113,  -176.32000969,\n",
      "         655.29775333,  -474.25558456,  -337.12741765,   180.13661842,\n",
      "         -40.75137185,    18.82915177,   327.06742218,    54.40622145,\n",
      "       -1049.15498392,  1690.55068542,    27.416886  ,     0.        ,\n",
      "         419.69660737,  -483.21669334,    37.80234092,  -128.88162309,\n",
      "          42.13988202,   -48.61764756,    20.55602424])\n",
      "shap       INFO  num_full_subsets = 1\n",
      "shap       INFO  remaining_weight_vector = array([0.20701126, 0.14490788, 0.11440096, 0.09660526, 0.08523993,\n",
      "       0.07762922, 0.07245394, 0.06900375, 0.06688056, 0.06586722])\n",
      "shap       INFO  num_paired_subset_sizes = 11\n",
      "shap       INFO  weight_left = 0.7167414131850209\n",
      "shap       INFO  np.sum(w_aug) = 23.000000000000004\n",
      "shap       INFO  np.sum(self.kernelWeights) = 1.0000000000000002\n",
      "shap       INFO  phi = array([ 2197.40364632, -2810.1743046 ,   238.4584545 ,   450.5254253 ,\n",
      "         693.07289026,  -125.67577318,  -778.75818642,  -407.63571821,\n",
      "         -57.44484902,    19.20095805,   369.34240277,   204.77795542,\n",
      "        -741.75491431,  1418.3607723 ,    25.27904685,    -8.89462614,\n",
      "         380.55957877,  -485.02777004,    26.24146098,  -139.67920299,\n",
      "          30.39386557,   -40.48345445,   -16.5573143 ])\n",
      "shap       INFO  num_full_subsets = 1\n",
      "shap       INFO  remaining_weight_vector = array([0.20701126, 0.14490788, 0.11440096, 0.09660526, 0.08523993,\n",
      "       0.07762922, 0.07245394, 0.06900375, 0.06688056, 0.06586722])\n",
      "shap       INFO  num_paired_subset_sizes = 11\n",
      "shap       INFO  weight_left = 0.7167414131850209\n",
      "shap       INFO  np.sum(w_aug) = 23.000000000000004\n",
      "shap       INFO  np.sum(self.kernelWeights) = 1.0000000000000002\n",
      "shap       INFO  phi = array([ 6151.17403635, -2619.38937835,     0.        ,  -215.36658199,\n",
      "         695.16856645,  -560.43265509,  -914.44436053,   167.93218502,\n",
      "         -39.27471965,    16.16483842,   351.36758191,    14.64385462,\n",
      "        -716.35443945,  1411.83721926,    23.72058766,     0.        ,\n",
      "         268.83800124,  -398.0649255 ,    12.4503214 ,  -114.36893452,\n",
      "          30.29942181,   -50.6852217 ,   -13.46896035])\n",
      "shap       INFO  num_full_subsets = 1\n",
      "shap       INFO  remaining_weight_vector = array([0.20701126, 0.14490788, 0.11440096, 0.09660526, 0.08523993,\n",
      "       0.07762922, 0.07245394, 0.06900375, 0.06688056, 0.06586722])\n",
      "shap       INFO  num_paired_subset_sizes = 11\n",
      "shap       INFO  weight_left = 0.7167414131850209\n",
      "shap       INFO  np.sum(w_aug) = 23.000000000000004\n",
      "shap       INFO  np.sum(self.kernelWeights) = 1.0000000000000004\n",
      "shap       INFO  phi = array([ 5124.82181536, -2801.76332252,  -198.6850872 ,  -279.83822385,\n",
      "         707.30442851,  -476.21025717, -1226.90150146,   817.62712029,\n",
      "         -20.34506537,    15.23978505,   372.5770063 ,     0.        ,\n",
      "        -668.27432998,  1265.88900394,    26.53640404,   -10.94428028,\n",
      "         278.70743821,  -395.44228402,    24.17757812,   -47.23405781,\n",
      "          24.37206137,   -51.45801139,   -19.81655681])\n",
      "shap       INFO  num_full_subsets = 1\n",
      "shap       INFO  remaining_weight_vector = array([0.20701126, 0.14490788, 0.11440096, 0.09660526, 0.08523993,\n",
      "       0.07762922, 0.07245394, 0.06900375, 0.06688056, 0.06586722])\n",
      "shap       INFO  num_paired_subset_sizes = 11\n",
      "shap       INFO  weight_left = 0.7167414131850209\n",
      "shap       INFO  np.sum(w_aug) = 23.000000000000004\n",
      "shap       INFO  np.sum(self.kernelWeights) = 1.0\n",
      "shap       INFO  phi = array([ 8.38586379e+03, -3.83691549e+03,  1.20751243e+02,  4.33951869e+02,\n",
      "        7.08000674e+02, -1.53436785e+02, -1.37285125e+03, -1.03071416e+03,\n",
      "       -2.95622684e+01,  1.44199941e+01,  3.39503269e+02,  6.23013033e+00,\n",
      "       -4.60373130e+02,  9.87836094e+02,  1.52775393e+01,  5.44504827e+00,\n",
      "        2.40816876e+02, -4.00915058e+02,  1.72564921e+01, -3.69843240e+01,\n",
      "        2.21337743e+01, -4.69482108e+01, -1.08790038e+01])\n",
      "shap       INFO  num_full_subsets = 1\n",
      "shap       INFO  remaining_weight_vector = array([0.20701126, 0.14490788, 0.11440096, 0.09660526, 0.08523993,\n",
      "       0.07762922, 0.07245394, 0.06900375, 0.06688056, 0.06586722])\n",
      "shap       INFO  num_paired_subset_sizes = 11\n",
      "shap       INFO  weight_left = 0.7167414131850209\n",
      "shap       INFO  np.sum(w_aug) = 23.000000000000004\n",
      "shap       INFO  np.sum(self.kernelWeights) = 1.0000000000000002\n",
      "shap       INFO  phi = array([ 3397.35531838, -1732.40128432,   -26.55513061,  -179.01032577,\n",
      "         688.32897337,  -391.86998189,  -956.28620785,   591.84931776,\n",
      "         -19.27936871,    11.89364092,   342.37637992,    74.33966072,\n",
      "        -605.85586011,  1566.14959686,    30.25717277,    -7.15056446,\n",
      "         330.15670958,  -446.10705865,    23.81347754,   -80.18633728,\n",
      "          37.61859336,   -37.47044237,   -10.86288306])\n",
      "shap       INFO  num_full_subsets = 1\n",
      "shap       INFO  remaining_weight_vector = array([0.20701126, 0.14490788, 0.11440096, 0.09660526, 0.08523993,\n",
      "       0.07762922, 0.07245394, 0.06900375, 0.06688056, 0.06586722])\n",
      "shap       INFO  num_paired_subset_sizes = 11\n",
      "shap       INFO  weight_left = 0.7167414131850209\n",
      "shap       INFO  np.sum(w_aug) = 23.000000000000007\n",
      "shap       INFO  np.sum(self.kernelWeights) = 1.0000000000000004\n",
      "shap       INFO  phi = array([-3147.31097168,   153.77477861,   -70.16862164,  -136.42820112,\n",
      "         633.40707171,   -35.6720603 ,  -223.98633413,  1436.59369728,\n",
      "           0.        ,    16.78922526,   344.8597144 ,   106.50106356,\n",
      "        -512.69325258,  1409.45637867,    23.84994921,    -4.66840795,\n",
      "         321.61056967,  -492.72625221,    36.98772744,  -145.49420783,\n",
      "          40.5116884 ,   -40.76090273,   -17.2982057 ])\n",
      "shap       INFO  num_full_subsets = 1\n",
      "shap       INFO  remaining_weight_vector = array([0.20701126, 0.14490788, 0.11440096, 0.09660526, 0.08523993,\n",
      "       0.07762922, 0.07245394, 0.06900375, 0.06688056, 0.06586722])\n",
      "shap       INFO  num_paired_subset_sizes = 11\n",
      "shap       INFO  weight_left = 0.7167414131850209\n",
      "shap       INFO  np.sum(w_aug) = 23.000000000000004\n",
      "shap       INFO  np.sum(self.kernelWeights) = 0.9999999999999999\n",
      "shap       INFO  phi = array([ 1751.4711447 , -2502.06974302,    21.50469111,   986.96939523,\n",
      "         692.46653071,   -83.85838208,  -810.3803801 ,  -517.28448076,\n",
      "           3.51182331,    13.17788957,   339.3589733 ,    89.86882403,\n",
      "        -753.04265212,  1701.59159351,    23.79549731,   -17.57873034,\n",
      "         277.17746238,  -489.21982427,    22.79314484,  -178.46380527,\n",
      "          44.12716017,   -38.57414682,   -17.27341206])\n",
      "shap       INFO  num_full_subsets = 1\n",
      "shap       INFO  remaining_weight_vector = array([0.20701126, 0.14490788, 0.11440096, 0.09660526, 0.08523993,\n",
      "       0.07762922, 0.07245394, 0.06900375, 0.06688056, 0.06586722])\n",
      "shap       INFO  num_paired_subset_sizes = 11\n",
      "shap       INFO  weight_left = 0.7167414131850209\n",
      "shap       INFO  np.sum(w_aug) = 23.000000000000007\n",
      "shap       INFO  np.sum(self.kernelWeights) = 1.0\n",
      "shap       INFO  phi = array([18248.56943779, -2810.94068966,  -786.44918729, -1133.65506947,\n",
      "         683.47005418,  -704.25585009,  -890.21230887,   391.50184435,\n",
      "          25.57054259,    18.65049985,   254.87936988,    90.51362532,\n",
      "        -607.14503262,  1976.71377567,    24.32111102,     0.        ,\n",
      "         421.78534737,  -582.802999  ,    43.64404013,  -193.45182418,\n",
      "          52.59434526,   -42.52363021,   -21.2888851 ])\n",
      "shap       INFO  num_full_subsets = 1\n",
      "shap       INFO  remaining_weight_vector = array([0.20701126, 0.14490788, 0.11440096, 0.09660526, 0.08523993,\n",
      "       0.07762922, 0.07245394, 0.06900375, 0.06688056, 0.06586722])\n",
      "shap       INFO  num_paired_subset_sizes = 11\n",
      "shap       INFO  weight_left = 0.7167414131850209\n",
      "shap       INFO  np.sum(w_aug) = 23.0\n",
      "shap       INFO  np.sum(self.kernelWeights) = 1.0\n",
      "shap       INFO  phi = array([ 2.50045315e+04, -4.64334554e+03, -8.81430179e+02, -1.15625830e+03,\n",
      "        6.99517979e+02, -6.79117729e+02, -6.83555295e+02, -6.32636386e+02,\n",
      "        4.12712171e+01,  1.69650650e+01,  1.72151697e+02,  6.98367234e+01,\n",
      "       -8.72749633e+02,  1.85240238e+03,  1.50500940e+01, -1.36195406e+01,\n",
      "        4.83688491e+02, -5.29970244e+02,  5.30297988e+01, -2.57300157e+02,\n",
      "        5.46928580e+01, -3.81814100e+01, -7.34378942e+00])\n",
      "shap       INFO  num_full_subsets = 1\n",
      "shap       INFO  remaining_weight_vector = array([0.20701126, 0.14490788, 0.11440096, 0.09660526, 0.08523993,\n",
      "       0.07762922, 0.07245394, 0.06900375, 0.06688056, 0.06586722])\n",
      "shap       INFO  num_paired_subset_sizes = 11\n",
      "shap       INFO  weight_left = 0.7167414131850209\n",
      "shap       INFO  np.sum(w_aug) = 23.0\n",
      "shap       INFO  np.sum(self.kernelWeights) = 1.0000000000000002\n",
      "shap       INFO  phi = array([ 2.00284606e+04, -4.25765222e+03, -5.45048760e+02, -3.65308895e+02,\n",
      "        6.96947590e+02, -6.87304888e+02, -5.52487015e+02, -1.23651844e+03,\n",
      "       -1.89857902e+01,  1.54506356e+01,  2.03847055e+02,  1.91641328e+02,\n",
      "       -1.05748373e+03,  2.13398512e+03,  3.27064994e+01, -6.86395326e+00,\n",
      "        4.71036070e+02, -6.24482309e+02,  5.48908500e+01, -2.43156934e+02,\n",
      "        5.32723462e+01, -4.51642859e+01, -8.77139637e+00])\n",
      "shap       INFO  num_full_subsets = 1\n",
      "shap       INFO  remaining_weight_vector = array([0.20701126, 0.14490788, 0.11440096, 0.09660526, 0.08523993,\n",
      "       0.07762922, 0.07245394, 0.06900375, 0.06688056, 0.06586722])\n",
      "shap       INFO  num_paired_subset_sizes = 11\n",
      "shap       INFO  weight_left = 0.7167414131850209\n",
      "shap       INFO  np.sum(w_aug) = 23.000000000000007\n",
      "shap       INFO  np.sum(self.kernelWeights) = 1.0\n",
      "shap       INFO  phi = array([ 1.85863539e+04, -6.15929714e+03, -1.56612282e+02,  2.94564957e+02,\n",
      "        6.93390155e+02, -6.64951404e+02, -1.26009314e+03, -2.09148543e+03,\n",
      "       -3.05067287e+01,  2.14618265e+01,  1.65763772e+02,  6.26258165e+01,\n",
      "       -1.01212808e+03,  1.98221990e+03,  3.07238494e+01, -8.85166610e+00,\n",
      "        4.37027865e+02, -6.26910766e+02,  3.75024641e+01, -1.97187525e+02,\n",
      "        4.42453954e+01, -3.62109792e+01, -7.72811484e+00])\n",
      "shap       INFO  num_full_subsets = 1\n",
      "shap       INFO  remaining_weight_vector = array([0.20701126, 0.14490788, 0.11440096, 0.09660526, 0.08523993,\n",
      "       0.07762922, 0.07245394, 0.06900375, 0.06688056, 0.06586722])\n",
      "shap       INFO  num_paired_subset_sizes = 11\n",
      "shap       INFO  weight_left = 0.7167414131850209\n",
      "shap       INFO  np.sum(w_aug) = 23.000000000000004\n",
      "shap       INFO  np.sum(self.kernelWeights) = 1.0000000000000004\n",
      "shap       INFO  phi = array([ 9.63906816e+03, -5.97065381e+02, -2.45788271e+02, -4.95860094e+02,\n",
      "        6.97848162e+02, -5.00293066e+02, -1.42747794e+03,  4.08828773e+02,\n",
      "        0.00000000e+00,  4.21392584e+00,  1.25266284e+02, -2.43798736e+01,\n",
      "       -9.21846679e+02,  1.85417447e+03,  2.80358411e+01, -8.64254532e+00,\n",
      "        4.65304350e+02, -6.22480715e+02,  4.09948192e+01, -1.39407212e+02,\n",
      "        3.89330908e+01, -3.47077984e+01, -1.12225745e+01])\n",
      "shap       INFO  num_full_subsets = 1\n",
      "shap       INFO  remaining_weight_vector = array([0.20701126, 0.14490788, 0.11440096, 0.09660526, 0.08523993,\n",
      "       0.07762922, 0.07245394, 0.06900375, 0.06688056, 0.06586722])\n",
      "shap       INFO  num_paired_subset_sizes = 11\n",
      "shap       INFO  weight_left = 0.7167414131850209\n",
      "shap       INFO  np.sum(w_aug) = 23.000000000000004\n",
      "shap       INFO  np.sum(self.kernelWeights) = 1.0000000000000002\n",
      "shap       INFO  phi = array([ 3529.32077744, -1030.40235888,    16.20897524,  -146.01001592,\n",
      "         704.7951423 ,  -602.20006411,  -615.82691025,   411.9620178 ,\n",
      "         -18.9569228 ,    19.76798756,   146.13439168,   -25.33088878,\n",
      "        -764.06162595,  1857.90107748,    26.20517339,   -17.943898  ,\n",
      "         399.68626987,  -637.26791907,    35.19139404,  -144.89725537,\n",
      "          42.50857314,   -44.22904561,    -4.49372297])\n",
      "shap       INFO  num_full_subsets = 1\n",
      "shap       INFO  remaining_weight_vector = array([0.20701126, 0.14490788, 0.11440096, 0.09660526, 0.08523993,\n",
      "       0.07762922, 0.07245394, 0.06900375, 0.06688056, 0.06586722])\n",
      "shap       INFO  num_paired_subset_sizes = 11\n",
      "shap       INFO  weight_left = 0.7167414131850209\n",
      "shap       INFO  np.sum(w_aug) = 23.0\n",
      "shap       INFO  np.sum(self.kernelWeights) = 1.0000000000000004\n",
      "shap       INFO  phi = array([ 1825.37993204,  -608.11253078,   338.45228898,   509.89709094,\n",
      "         632.99913487,  -485.31057297, -1089.99889857,  -443.62705795,\n",
      "         -38.65060841,    15.22055263,   137.22467839,    -7.3400685 ,\n",
      "        -766.55612299,  1687.91436079,    30.62094018,   -12.3464929 ,\n",
      "         289.89083392,  -487.2889038 ,    43.74974338,  -121.85109139,\n",
      "          45.89543507,   -42.74424414,    -8.64428162])\n",
      "shap       INFO  num_full_subsets = 1\n",
      "shap       INFO  remaining_weight_vector = array([0.20701126, 0.14490788, 0.11440096, 0.09660526, 0.08523993,\n",
      "       0.07762922, 0.07245394, 0.06900375, 0.06688056, 0.06586722])\n",
      "shap       INFO  num_paired_subset_sizes = 11\n",
      "shap       INFO  weight_left = 0.7167414131850209\n",
      "shap       INFO  np.sum(w_aug) = 23.0\n",
      "shap       INFO  np.sum(self.kernelWeights) = 1.0000000000000004\n",
      "shap       INFO  phi = array([ 5353.7949618 ,   941.85890287,   -83.89859998,  -593.57877076,\n",
      "         542.65359263,  -547.36142615, -1464.75750699,   863.60508271,\n",
      "         -45.76028925,    10.94992108,    47.71490084,   -22.86307972,\n",
      "        -797.76977812,  1255.30825664,    28.79061858,     0.        ,\n",
      "         336.82772457,  -484.69548801,    34.00248829,   -85.6353634 ,\n",
      "          22.56888081,   -46.42392078,     0.        ])\n",
      "shap       INFO  num_full_subsets = 1\n",
      "shap       INFO  remaining_weight_vector = array([0.20701126, 0.14490788, 0.11440096, 0.09660526, 0.08523993,\n",
      "       0.07762922, 0.07245394, 0.06900375, 0.06688056, 0.06586722])\n",
      "shap       INFO  num_paired_subset_sizes = 11\n",
      "shap       INFO  weight_left = 0.7167414131850209\n",
      "shap       INFO  np.sum(w_aug) = 23.0\n",
      "shap       INFO  np.sum(self.kernelWeights) = 1.0\n",
      "shap       INFO  phi = array([ 9.77104023e+03, -8.63720428e+02, -2.29758942e+02,  6.54152341e+01,\n",
      "        5.38681008e+02, -6.87115173e+02, -1.25835654e+03, -3.83806748e+02,\n",
      "       -2.26697353e+01,  0.00000000e+00,  1.95820603e+01, -3.22296096e+01,\n",
      "       -6.33139504e+02,  1.41664347e+03,  2.11142590e+01, -3.99200451e+00,\n",
      "        3.38676394e+02, -4.85826759e+02,  2.00905467e+01, -3.22768347e+01,\n",
      "        2.84990667e+01, -4.16530628e+01, -1.20780865e+01])\n",
      "shap       INFO  num_full_subsets = 1\n",
      "shap       INFO  remaining_weight_vector = array([0.20701126, 0.14490788, 0.11440096, 0.09660526, 0.08523993,\n",
      "       0.07762922, 0.07245394, 0.06900375, 0.06688056, 0.06586722])\n",
      "shap       INFO  num_paired_subset_sizes = 11\n",
      "shap       INFO  weight_left = 0.7167414131850209\n",
      "shap       INFO  np.sum(w_aug) = 23.000000000000007\n",
      "shap       INFO  np.sum(self.kernelWeights) = 1.0000000000000002\n",
      "shap       INFO  phi = array([ 1.72552577e+04,  5.63857078e+02, -3.50948207e+02, -1.89141022e+02,\n",
      "        5.34443948e+02, -8.65908137e+02, -1.28684499e+03, -1.12639516e+03,\n",
      "       -3.36305829e+01,  0.00000000e+00,  1.79335833e+01, -3.09004377e+01,\n",
      "       -7.63554852e+02,  1.41260750e+03,  2.95133108e+01, -7.73620445e+00,\n",
      "        4.57239370e+02, -4.80437855e+02,  4.40623784e+01, -1.28878659e+02,\n",
      "        5.87405801e+01, -3.74364632e+01, -1.22890970e+01])\n",
      "shap       INFO  num_full_subsets = 1\n",
      "shap       INFO  remaining_weight_vector = array([0.20701126, 0.14490788, 0.11440096, 0.09660526, 0.08523993,\n",
      "       0.07762922, 0.07245394, 0.06900375, 0.06688056, 0.06586722])\n",
      "shap       INFO  num_paired_subset_sizes = 11\n",
      "shap       INFO  weight_left = 0.7167414131850209\n",
      "shap       INFO  np.sum(w_aug) = 23.000000000000004\n",
      "shap       INFO  np.sum(self.kernelWeights) = 1.0000000000000002\n",
      "shap       INFO  phi = array([ 2.52870752e+04,  2.40368558e+02, -9.03597528e+02, -1.10096291e+03,\n",
      "        5.23827896e+02, -8.05766861e+02, -1.30386349e+03, -6.30012632e+02,\n",
      "       -2.22492524e+01,  5.70035379e+00, -8.67994185e+01,  1.93273143e+01,\n",
      "       -9.36061883e+02,  1.85931005e+03,  2.59502485e+01, -5.24937230e+00,\n",
      "        5.06952100e+02, -4.89921057e+02,  7.60146780e+01, -2.28044979e+02,\n",
      "        5.11727264e+01, -3.60648840e+01, -3.01934327e+01])\n",
      "shap       INFO  num_full_subsets = 1\n",
      "shap       INFO  remaining_weight_vector = array([0.20701126, 0.14490788, 0.11440096, 0.09660526, 0.08523993,\n",
      "       0.07762922, 0.07245394, 0.06900375, 0.06688056, 0.06586722])\n",
      "shap       INFO  num_paired_subset_sizes = 11\n",
      "shap       INFO  weight_left = 0.7167414131850209\n",
      "shap       INFO  np.sum(w_aug) = 23.0\n",
      "shap       INFO  np.sum(self.kernelWeights) = 1.0000000000000004\n",
      "shap       INFO  phi = array([ 2.20848738e+04,  8.01919024e+02, -1.45400985e+03, -1.45759052e+03,\n",
      "        5.31145639e+02, -7.21308157e+02, -1.54562483e+03,  1.28960135e+03,\n",
      "        1.33555708e+01,  1.38292205e+01, -8.76935204e+01,  7.66456351e+00,\n",
      "       -9.72485496e+02,  1.85908928e+03,  2.04645181e+01, -7.44982272e+00,\n",
      "        5.07041034e+02, -5.36533141e+02,  6.99869549e+01, -2.04138135e+02,\n",
      "        5.89311443e+01, -4.11673633e+01, -2.62547177e+01])\n",
      "shap       INFO  num_full_subsets = 1\n",
      "shap       INFO  remaining_weight_vector = array([0.20701126, 0.14490788, 0.11440096, 0.09660526, 0.08523993,\n",
      "       0.07762922, 0.07245394, 0.06900375, 0.06688056, 0.06586722])\n",
      "shap       INFO  num_paired_subset_sizes = 11\n",
      "shap       INFO  weight_left = 0.7167414131850209\n",
      "shap       INFO  np.sum(w_aug) = 23.0\n",
      "shap       INFO  np.sum(self.kernelWeights) = 0.9999999999999998\n",
      "shap       INFO  phi = array([ 1.48821742e+04, -1.21631821e+03, -5.03279658e+02,  7.08171945e+02,\n",
      "        6.47748904e+02, -5.83447958e+02, -1.14375074e+03, -1.39100213e+03,\n",
      "       -3.89442902e+01,  1.27012235e+01, -8.97242859e+01, -3.86866349e+01,\n",
      "       -9.09597366e+02,  1.56408019e+03,  2.51252194e+01,  0.00000000e+00,\n",
      "        5.85642072e+02, -5.39373499e+02,  5.40647328e+01, -2.17799513e+02,\n",
      "        5.51527782e+01, -3.47186799e+01, -3.37794833e+01])\n",
      "shap       INFO  num_full_subsets = 1\n",
      "shap       INFO  remaining_weight_vector = array([0.20701126, 0.14490788, 0.11440096, 0.09660526, 0.08523993,\n",
      "       0.07762922, 0.07245394, 0.06900375, 0.06688056, 0.06586722])\n",
      "shap       INFO  num_paired_subset_sizes = 11\n",
      "shap       INFO  weight_left = 0.7167414131850209\n",
      "shap       INFO  np.sum(w_aug) = 23.000000000000004\n",
      "shap       INFO  np.sum(self.kernelWeights) = 1.0\n",
      "shap       INFO  phi = array([ 1.86306013e+04,  4.91091311e+02, -5.77241662e+02,  6.38434726e+02,\n",
      "        5.73810869e+02, -4.86053033e+02, -1.00508315e+03, -1.96858440e+03,\n",
      "       -2.90770534e+01,  6.64474903e+00,  4.78963395e+01,  6.01519292e+01,\n",
      "       -1.22599880e+03,  1.98539554e+03,  3.18063483e+01, -1.72839561e+01,\n",
      "        5.11668946e+02, -5.73357106e+02,  5.24254113e+01, -2.70736726e+02,\n",
      "        6.72463028e+01, -3.38265181e+01, -3.20960883e+01])\n",
      "shap       INFO  num_full_subsets = 1\n",
      "shap       INFO  remaining_weight_vector = array([0.20701126, 0.14490788, 0.11440096, 0.09660526, 0.08523993,\n",
      "       0.07762922, 0.07245394, 0.06900375, 0.06688056, 0.06586722])\n",
      "shap       INFO  num_paired_subset_sizes = 11\n",
      "shap       INFO  weight_left = 0.7167414131850209\n",
      "shap       INFO  np.sum(w_aug) = 23.000000000000004\n",
      "shap       INFO  np.sum(self.kernelWeights) = 1.0000000000000002\n",
      "shap       INFO  phi = array([ 3.50887595e+04, -1.27333005e+03, -1.41206818e+03, -1.29995806e+03,\n",
      "        3.75009986e+02, -8.51767838e+02, -7.29844924e+02, -1.50887451e+03,\n",
      "       -1.73180105e+01,  1.38484086e+01,  7.42126535e+01,  4.78994034e+01,\n",
      "       -1.45324835e+03,  1.97795972e+03,  2.54591010e+01,  0.00000000e+00,\n",
      "        5.60351240e+02, -5.30382311e+02,  6.30350615e+01, -3.27708593e+02,\n",
      "        7.71203992e+01, -3.33419600e+01, -3.28832093e+01])\n",
      "shap       INFO  num_full_subsets = 1\n",
      "shap       INFO  remaining_weight_vector = array([0.20701126, 0.14490788, 0.11440096, 0.09660526, 0.08523993,\n",
      "       0.07762922, 0.07245394, 0.06900375, 0.06688056, 0.06586722])\n",
      "shap       INFO  num_paired_subset_sizes = 11\n",
      "shap       INFO  weight_left = 0.7167414131850209\n",
      "shap       INFO  np.sum(w_aug) = 23.000000000000004\n",
      "shap       INFO  np.sum(self.kernelWeights) = 1.0000000000000004\n",
      "shap       INFO  phi = array([ 4.00870007e+04, -4.74038935e+03, -1.27296918e+03, -1.63282677e+03,\n",
      "        3.80078221e+02, -7.80232418e+02, -5.76741564e+02, -2.30104409e+03,\n",
      "       -9.81734471e+00,  1.28383321e+01,  1.53070149e+02,  1.51264213e+02,\n",
      "       -1.62411504e+03,  2.12932958e+03,  3.17452341e+01, -1.13443547e+01,\n",
      "        6.51584048e+02, -5.83267490e+02,  6.32388762e+01, -3.60738574e+02,\n",
      "        7.13138484e+01, -3.88647477e+01, -3.14785000e+01])\n",
      "shap       INFO  num_full_subsets = 1\n",
      "shap       INFO  remaining_weight_vector = array([0.20701126, 0.14490788, 0.11440096, 0.09660526, 0.08523993,\n",
      "       0.07762922, 0.07245394, 0.06900375, 0.06688056, 0.06586722])\n",
      "shap       INFO  num_paired_subset_sizes = 11\n",
      "shap       INFO  weight_left = 0.7167414131850209\n",
      "shap       INFO  np.sum(w_aug) = 23.000000000000004\n",
      "shap       INFO  np.sum(self.kernelWeights) = 1.0000000000000002\n",
      "shap       INFO  phi = array([ 3.43954794e+04, -1.76360049e+03, -1.89509081e+03, -2.71241156e+03,\n",
      "        4.87653151e+02, -7.10887441e+02, -6.51528177e+02,  9.31081196e+02,\n",
      "        9.26833531e+00,  1.30648705e+01,  1.99726565e+02,  8.98970072e+01,\n",
      "       -1.74684937e+03,  2.41186598e+03,  2.95277089e+01, -5.39836276e+00,\n",
      "        6.54465494e+02, -7.20938984e+02,  7.37797526e+01, -3.67716909e+02,\n",
      "        6.84216146e+01, -3.71786364e+01, -7.13323601e+01])\n",
      "shap       INFO  num_full_subsets = 1\n",
      "shap       INFO  remaining_weight_vector = array([0.20701126, 0.14490788, 0.11440096, 0.09660526, 0.08523993,\n",
      "       0.07762922, 0.07245394, 0.06900375, 0.06688056, 0.06586722])\n",
      "shap       INFO  num_paired_subset_sizes = 11\n",
      "shap       INFO  weight_left = 0.7167414131850209\n",
      "shap       INFO  np.sum(w_aug) = 23.000000000000007\n",
      "shap       INFO  np.sum(self.kernelWeights) = 1.0000000000000004\n",
      "shap       INFO  phi = array([ 3.20132152e+04, -1.14629280e+03, -1.74942980e+03, -2.67924032e+03,\n",
      "        7.93770623e+02, -1.01233982e+03, -8.52569746e+02,  1.41782310e+03,\n",
      "       -8.69792325e+00,  2.79894075e+01,  1.47866624e+02,  1.98852173e+01,\n",
      "       -1.70947100e+03,  2.41684444e+03,  2.70790814e+01, -4.36593688e+00,\n",
      "        6.92510515e+02, -7.19527453e+02,  6.04890381e+01, -3.10872573e+02,\n",
      "        6.37659120e+01, -4.33090226e+01, -7.28443948e+01])\n",
      "shap       INFO  num_full_subsets = 1\n",
      "shap       INFO  remaining_weight_vector = array([0.20701126, 0.14490788, 0.11440096, 0.09660526, 0.08523993,\n",
      "       0.07762922, 0.07245394, 0.06900375, 0.06688056, 0.06586722])\n",
      "shap       INFO  num_paired_subset_sizes = 11\n",
      "shap       INFO  weight_left = 0.7167414131850209\n",
      "shap       INFO  np.sum(w_aug) = 23.000000000000007\n",
      "shap       INFO  np.sum(self.kernelWeights) = 1.0000000000000002\n",
      "shap       INFO  phi = array([ 3.46433920e+04, -3.63696089e+03, -1.61490113e+03, -2.57097092e+03,\n",
      "        8.83267172e+02, -8.91621675e+02, -9.32531111e+02,  7.05945961e+02,\n",
      "       -6.62604861e+00,  1.68953098e+01,  1.42466912e+02,  5.42047809e+01,\n",
      "       -1.72219665e+03,  2.41763713e+03,  2.69595635e+01, -8.63014858e+00,\n",
      "        7.41918770e+02, -7.15133004e+02,  5.40894793e+01, -3.08492689e+02,\n",
      "        6.49049917e+01, -4.59781120e+01, -8.01237931e+01])\n",
      "shap       INFO  num_full_subsets = 1\n",
      "shap       INFO  remaining_weight_vector = array([0.20701126, 0.14490788, 0.11440096, 0.09660526, 0.08523993,\n",
      "       0.07762922, 0.07245394, 0.06900375, 0.06688056, 0.06586722])\n",
      "shap       INFO  num_paired_subset_sizes = 11\n",
      "shap       INFO  weight_left = 0.7167414131850209\n",
      "shap       INFO  np.sum(w_aug) = 23.000000000000007\n",
      "shap       INFO  np.sum(self.kernelWeights) = 1.0000000000000004\n",
      "shap       INFO  phi = array([ 3.01682636e+04, -3.98802722e+03, -1.43390724e+03, -1.66547100e+03,\n",
      "        8.75733961e+02, -7.10095360e+02, -7.41090644e+02,  1.13098778e+02,\n",
      "        1.94424888e+01,  0.00000000e+00,  2.26070216e+02,  2.40541310e+02,\n",
      "       -1.69146390e+03,  1.97313350e+03,  2.95518866e+01,  0.00000000e+00,\n",
      "        7.54520484e+02, -7.18093066e+02,  7.19205603e+01, -3.52003722e+02,\n",
      "        7.90337915e+01, -4.39848739e+01, -8.21340011e+01])\n",
      "shap       INFO  num_full_subsets = 1\n",
      "shap       INFO  remaining_weight_vector = array([0.20701126, 0.14490788, 0.11440096, 0.09660526, 0.08523993,\n",
      "       0.07762922, 0.07245394, 0.06900375, 0.06688056, 0.06586722])\n",
      "shap       INFO  num_paired_subset_sizes = 11\n",
      "shap       INFO  weight_left = 0.7167414131850209\n",
      "shap       INFO  np.sum(w_aug) = 23.000000000000004\n",
      "shap       INFO  np.sum(self.kernelWeights) = 1.0\n",
      "shap       INFO  phi = array([ 2.37545557e+04, -2.59248220e+03, -1.38549773e+03, -1.54164218e+03,\n",
      "        8.80210306e+02, -6.33877374e+02, -8.81328000e+02,  1.01690804e+03,\n",
      "        5.37777965e+00,  4.30372415e+00,  2.21867764e+02,  2.68201763e+02,\n",
      "       -1.64777792e+03,  1.85564863e+03,  1.72659067e+01,  0.00000000e+00,\n",
      "        6.54210663e+02, -5.79592627e+02,  5.63645505e+01, -3.16067568e+02,\n",
      "        6.75382975e+01, -4.28280607e+01, -4.50251866e+00])\n",
      "shap       INFO  num_full_subsets = 1\n",
      "shap       INFO  remaining_weight_vector = array([0.20701126, 0.14490788, 0.11440096, 0.09660526, 0.08523993,\n",
      "       0.07762922, 0.07245394, 0.06900375, 0.06688056, 0.06586722])\n",
      "shap       INFO  num_paired_subset_sizes = 11\n",
      "shap       INFO  weight_left = 0.7167414131850209\n",
      "shap       INFO  np.sum(w_aug) = 23.000000000000004\n",
      "shap       INFO  np.sum(self.kernelWeights) = 0.9999999999999998\n",
      "shap       INFO  phi = array([ 3.57887591e+04, -2.26127690e+03, -1.36379835e+03, -1.64488729e+03,\n",
      "        8.78580025e+02, -7.71345604e+02, -1.24907176e+03, -8.17669315e+02,\n",
      "       -2.78009752e+01,  1.90777462e+01,  3.24729246e+02, -7.79538010e+00,\n",
      "       -1.54071035e+03,  1.97061182e+03,  2.37648979e+01, -4.49819532e+00,\n",
      "        6.60073915e+02, -5.83827072e+02,  6.54146188e+01, -2.85132662e+02,\n",
      "        6.96302209e+01, -3.69767711e+01, -9.63770933e+00])\n",
      "shap       INFO  num_full_subsets = 1\n",
      "shap       INFO  remaining_weight_vector = array([0.20701126, 0.14490788, 0.11440096, 0.09660526, 0.08523993,\n",
      "       0.07762922, 0.07245394, 0.06900375, 0.06688056, 0.06586722])\n",
      "shap       INFO  num_paired_subset_sizes = 11\n",
      "shap       INFO  weight_left = 0.7167414131850209\n",
      "shap       INFO  np.sum(w_aug) = 23.000000000000007\n",
      "shap       INFO  np.sum(self.kernelWeights) = 1.0000000000000002\n",
      "shap       INFO  phi = array([ 3.36210969e+04,  2.20932108e+03, -1.36802412e+03, -2.13797556e+03,\n",
      "        8.66151355e+02, -7.83282076e+02, -6.67506153e+02, -1.04136484e+02,\n",
      "       -1.19970406e+01,  4.80734592e+00,  4.73887837e+02,  6.24004780e+01,\n",
      "       -1.74359525e+03,  2.26642878e+03,  2.73693587e+01, -5.66915945e+00,\n",
      "        7.11860243e+02, -6.30495820e+02,  8.49248273e+01, -3.32478910e+02,\n",
      "        8.05010987e+01, -3.24122329e+01, -7.59790045e+00])\n",
      "shap       INFO  num_full_subsets = 1\n",
      "shap       INFO  remaining_weight_vector = array([0.20701126, 0.14490788, 0.11440096, 0.09660526, 0.08523993,\n",
      "       0.07762922, 0.07245394, 0.06900375, 0.06688056, 0.06586722])\n",
      "shap       INFO  num_paired_subset_sizes = 11\n",
      "shap       INFO  weight_left = 0.7167414131850209\n",
      "shap       INFO  np.sum(w_aug) = 23.000000000000007\n",
      "shap       INFO  np.sum(self.kernelWeights) = 1.0000000000000002\n",
      "shap       INFO  phi = array([ 2.97441599e+04, -3.16555020e+03, -1.57491347e+03, -1.89877203e+03,\n",
      "        8.73454313e+02, -7.35430723e+02, -7.27697995e+02,  6.56150557e+02,\n",
      "        9.34164948e+00,  4.59566016e+00,  4.88031784e+02,  9.35167234e+01,\n",
      "       -1.77111368e+03,  2.42523968e+03,  2.40396446e+01, -8.13536143e+00,\n",
      "        6.78218696e+02, -7.12012821e+02,  6.55575635e+01, -3.30346471e+02,\n",
      "        6.17579180e+01, -3.66928019e+01, -9.42221504e+00])\n",
      "shap       INFO  num_full_subsets = 1\n",
      "shap       INFO  remaining_weight_vector = array([0.20701126, 0.14490788, 0.11440096, 0.09660526, 0.08523993,\n",
      "       0.07762922, 0.07245394, 0.06900375, 0.06688056, 0.06586722])\n",
      "shap       INFO  num_paired_subset_sizes = 11\n",
      "shap       INFO  weight_left = 0.7167414131850209\n",
      "shap       INFO  np.sum(w_aug) = 23.000000000000007\n",
      "shap       INFO  np.sum(self.kernelWeights) = 1.0000000000000004\n",
      "shap       INFO  phi = array([ 2.29229135e+04, -2.46593012e+03, -1.25797257e+03, -8.41401707e+02,\n",
      "        8.83484306e+02, -5.75310157e+02, -1.21788236e+03,  3.16221965e+02,\n",
      "        0.00000000e+00,  0.00000000e+00,  4.85747849e+02,  3.17728209e+01,\n",
      "       -1.51672715e+03,  2.13375007e+03,  3.84424097e+01, -1.09139142e+01,\n",
      "        6.28098403e+02, -7.17470672e+02,  4.82589522e+01, -2.06292991e+02,\n",
      "        5.34238624e+01, -4.67703856e+01,  0.00000000e+00])\n",
      "shap       INFO  num_full_subsets = 1\n",
      "shap       INFO  remaining_weight_vector = array([0.20701126, 0.14490788, 0.11440096, 0.09660526, 0.08523993,\n",
      "       0.07762922, 0.07245394, 0.06900375, 0.06688056, 0.06586722])\n",
      "shap       INFO  num_paired_subset_sizes = 11\n",
      "shap       INFO  weight_left = 0.7167414131850209\n",
      "shap       INFO  np.sum(w_aug) = 23.000000000000007\n",
      "shap       INFO  np.sum(self.kernelWeights) = 1.0000000000000004\n",
      "shap       INFO  phi = array([ 2.28279829e+04, -2.50313985e+03, -9.61311637e+02, -3.89191073e+02,\n",
      "        8.80029719e+02, -6.32785350e+02, -3.27392917e+02, -9.28463033e+02,\n",
      "       -3.48251865e+01,  9.35256450e+00,  5.77474760e+02,  1.17038488e+02,\n",
      "       -1.52187190e+03,  2.26635021e+03,  2.69597989e+01,  0.00000000e+00,\n",
      "        6.24350340e+02, -7.19575406e+02,  4.54855356e+01, -2.53927132e+02,\n",
      "        5.53946354e+01, -3.71597590e+01, -3.77136398e+00])\n",
      "shap       INFO  num_full_subsets = 1\n",
      "shap       INFO  remaining_weight_vector = array([0.20701126, 0.14490788, 0.11440096, 0.09660526, 0.08523993,\n",
      "       0.07762922, 0.07245394, 0.06900375, 0.06688056, 0.06586722])\n",
      "shap       INFO  num_paired_subset_sizes = 11\n",
      "shap       INFO  weight_left = 0.7167414131850209\n",
      "shap       INFO  np.sum(w_aug) = 23.0\n",
      "shap       INFO  np.sum(self.kernelWeights) = 1.0\n",
      "shap       INFO  phi = array([ 2.85528750e+04, -4.93079690e+03, -1.04381106e+03, -8.00782656e+02,\n",
      "        8.55773755e+02, -7.16838337e+02, -9.59162987e+02, -1.09623114e+03,\n",
      "        1.08100374e+01,  5.80424348e+00,  5.44934992e+02,  1.08116256e+02,\n",
      "       -1.48993582e+03,  2.11603908e+03,  2.85030709e+01,  0.00000000e+00,\n",
      "        6.48541991e+02, -7.72741236e+02,  5.07244644e+01, -3.03220950e+02,\n",
      "        7.41251954e+01, -4.26091544e+01,  0.00000000e+00])\n",
      "shap       INFO  num_full_subsets = 1\n",
      "shap       INFO  remaining_weight_vector = array([0.20701126, 0.14490788, 0.11440096, 0.09660526, 0.08523993,\n",
      "       0.07762922, 0.07245394, 0.06900375, 0.06688056, 0.06586722])\n",
      "shap       INFO  num_paired_subset_sizes = 11\n",
      "shap       INFO  weight_left = 0.7167414131850209\n",
      "shap       INFO  np.sum(w_aug) = 23.0\n",
      "shap       INFO  np.sum(self.kernelWeights) = 1.0000000000000002\n",
      "shap       INFO  phi = array([ 1.64005999e+04, -5.93628661e+03, -7.43493223e+02, -7.60135759e+02,\n",
      "        8.77689440e+02, -4.49601950e+02, -1.35127564e+03,  5.02736112e+02,\n",
      "       -2.25908545e+01,  9.84786744e+00,  5.64900062e+02,  9.36531504e+00,\n",
      "       -1.65938142e+03,  2.13242781e+03,  3.06584196e+01,  0.00000000e+00,\n",
      "        6.64859161e+02, -7.18489743e+02,  5.92364481e+01, -2.05263551e+02,\n",
      "        4.06720469e+01, -4.58744421e+01,  2.64529732e+01])\n",
      "shap       INFO  num_full_subsets = 1\n",
      "shap       INFO  remaining_weight_vector = array([0.20701126, 0.14490788, 0.11440096, 0.09660526, 0.08523993,\n",
      "       0.07762922, 0.07245394, 0.06900375, 0.06688056, 0.06586722])\n",
      "shap       INFO  num_paired_subset_sizes = 11\n",
      "shap       INFO  weight_left = 0.7167414131850209\n",
      "shap       INFO  np.sum(w_aug) = 23.0\n",
      "shap       INFO  np.sum(self.kernelWeights) = 1.0000000000000002\n",
      "shap       INFO  phi = array([ 1.60880291e+04, -3.14520706e+03, -7.17072107e+02, -7.34776349e+02,\n",
      "        8.82677807e+02, -4.55263108e+02, -1.34175207e+03,  4.75110440e+02,\n",
      "       -3.21803190e+01, -4.50500876e+00,  4.71925429e+02, -1.03869850e+01,\n",
      "       -1.44929972e+03,  2.13119446e+03,  3.01810599e+01, -7.36170950e+00,\n",
      "        6.35888561e+02, -6.15506720e+02,  3.41864355e+01, -1.34974444e+02,\n",
      "        4.56878387e+01, -3.87688796e+01,  2.82800012e+01])\n",
      "shap       INFO  num_full_subsets = 1\n",
      "shap       INFO  remaining_weight_vector = array([0.20701126, 0.14490788, 0.11440096, 0.09660526, 0.08523993,\n",
      "       0.07762922, 0.07245394, 0.06900375, 0.06688056, 0.06586722])\n",
      "shap       INFO  num_paired_subset_sizes = 11\n",
      "shap       INFO  weight_left = 0.7167414131850209\n",
      "shap       INFO  np.sum(w_aug) = 23.000000000000004\n",
      "shap       INFO  np.sum(self.kernelWeights) = 1.0\n",
      "shap       INFO  phi = array([ 2.24656349e+04, -1.48341733e+03, -7.74639477e+02, -1.01375647e+03,\n",
      "        8.79510510e+02, -6.49362252e+02, -9.92865370e+02, -2.86757562e+02,\n",
      "       -6.21469987e+00,  6.39829261e+00,  2.95763949e+02,  5.38021999e+01,\n",
      "       -1.45096454e+03,  2.26685415e+03,  2.24449493e+01, -7.16701061e+00,\n",
      "        5.93549918e+02, -6.22672961e+02,  3.63965322e+01, -1.80444512e+02,\n",
      "        4.86022028e+01, -3.88606145e+01,  1.98652253e+01])\n",
      "shap       INFO  num_full_subsets = 1\n",
      "shap       INFO  remaining_weight_vector = array([0.20701126, 0.14490788, 0.11440096, 0.09660526, 0.08523993,\n",
      "       0.07762922, 0.07245394, 0.06900375, 0.06688056, 0.06586722])\n",
      "shap       INFO  num_paired_subset_sizes = 11\n",
      "shap       INFO  weight_left = 0.7167414131850209\n",
      "shap       INFO  np.sum(w_aug) = 23.0\n",
      "shap       INFO  np.sum(self.kernelWeights) = 1.0000000000000004\n",
      "shap       INFO  phi = array([ 3.33131876e+04, -3.09918918e+03, -1.13173021e+03, -3.05947503e+03,\n",
      "        8.67349943e+02, -6.78473935e+02, -1.00698813e+03,  5.98052782e+02,\n",
      "       -1.25117394e+01,  3.48230961e+00,  2.69874212e+02,  1.45560366e+02,\n",
      "       -1.41154383e+03,  2.25172447e+03,  2.21727538e+01,  0.00000000e+00,\n",
      "        5.98548185e+02, -6.26854293e+02,  5.10200772e+01, -2.73124012e+02,\n",
      "        6.45976139e+01, -3.65381355e+01,  1.26534955e+01])\n",
      "shap       INFO  num_full_subsets = 1\n",
      "shap       INFO  remaining_weight_vector = array([0.20701126, 0.14490788, 0.11440096, 0.09660526, 0.08523993,\n",
      "       0.07762922, 0.07245394, 0.06900375, 0.06688056, 0.06586722])\n",
      "shap       INFO  num_paired_subset_sizes = 11\n",
      "shap       INFO  weight_left = 0.7167414131850209\n",
      "shap       INFO  np.sum(w_aug) = 23.000000000000004\n",
      "shap       INFO  np.sum(self.kernelWeights) = 1.0\n",
      "shap       INFO  phi = array([ 2.33889960e+04, -4.75022074e+03, -8.20657591e+02, -2.62584302e+03,\n",
      "        8.61730429e+02, -4.03057523e+02, -5.70542862e+02,  1.12376833e+03,\n",
      "        2.59018006e+01,  7.64967925e+00,  4.23900955e+02,  3.43444587e+01,\n",
      "       -1.45588050e+03,  2.26831683e+03,  2.59465316e+01, -6.13562956e+00,\n",
      "        6.36509517e+02, -7.10398913e+02,  7.25613037e+01, -3.33499126e+02,\n",
      "        7.09116301e+01, -4.50330492e+01,  2.28476348e+01])\n",
      "shap       INFO  num_full_subsets = 1\n",
      "shap       INFO  remaining_weight_vector = array([0.20701126, 0.14490788, 0.11440096, 0.09660526, 0.08523993,\n",
      "       0.07762922, 0.07245394, 0.06900375, 0.06688056, 0.06586722])\n",
      "shap       INFO  num_paired_subset_sizes = 11\n",
      "shap       INFO  weight_left = 0.7167414131850209\n",
      "shap       INFO  np.sum(w_aug) = 23.000000000000004\n",
      "shap       INFO  np.sum(self.kernelWeights) = 0.9999999999999999\n",
      "shap       INFO  phi = array([ 2.20783488e+04, -5.77180094e+03, -5.43881944e+02, -1.95776634e+03,\n",
      "        8.70190560e+02, -4.59727447e+02, -8.03893606e+02,  2.62999235e+02,\n",
      "       -2.39304071e+01,  8.05838376e+00,  4.36339301e+02,  1.64089510e+02,\n",
      "       -1.62306982e+03,  2.41712317e+03,  3.66623127e+01,  0.00000000e+00,\n",
      "        6.39886533e+02, -6.85294632e+02,  4.77873863e+01, -2.97758687e+02,\n",
      "        6.45255196e+01, -4.02236487e+01,  2.29051701e+01])\n",
      "shap       INFO  num_full_subsets = 1\n",
      "shap       INFO  remaining_weight_vector = array([0.20701126, 0.14490788, 0.11440096, 0.09660526, 0.08523993,\n",
      "       0.07762922, 0.07245394, 0.06900375, 0.06688056, 0.06586722])\n",
      "shap       INFO  num_paired_subset_sizes = 11\n",
      "shap       INFO  weight_left = 0.7167414131850209\n",
      "shap       INFO  np.sum(w_aug) = 23.0\n",
      "shap       INFO  np.sum(self.kernelWeights) = 1.0000000000000004\n",
      "shap       INFO  phi = array([ 1.72419675e+04, -4.73388178e+03, -7.48718675e+02, -2.13589231e+03,\n",
      "        8.66425742e+02, -2.26303731e+02, -1.20331529e+03,  1.70188072e+03,\n",
      "       -6.24790679e+00,  5.57889289e+00,  3.61966700e+02,  4.84668420e+01,\n",
      "       -1.58108068e+03,  2.42149178e+03,  2.60885604e+01, -4.95439989e+00,\n",
      "        6.61140269e+02, -6.76931984e+02,  5.27001327e+01, -2.44575514e+02,\n",
      "        5.93014978e+01, -2.85509143e+01,  2.04812463e+01])\n",
      "shap       INFO  num_full_subsets = 1\n",
      "shap       INFO  remaining_weight_vector = array([0.20701126, 0.14490788, 0.11440096, 0.09660526, 0.08523993,\n",
      "       0.07762922, 0.07245394, 0.06900375, 0.06688056, 0.06586722])\n",
      "shap       INFO  num_paired_subset_sizes = 11\n",
      "shap       INFO  weight_left = 0.7167414131850209\n",
      "shap       INFO  np.sum(w_aug) = 23.000000000000007\n",
      "shap       INFO  np.sum(self.kernelWeights) = 1.0\n",
      "shap       INFO  phi = array([ 2.08308990e+04, -4.74813469e+03, -8.34609301e+02, -2.37533410e+03,\n",
      "        8.77846310e+02, -3.30691352e+02, -1.05205872e+03,  1.45977839e+03,\n",
      "       -4.33867052e+00,  4.40720130e+00,  3.82542311e+02,  2.28458867e+01,\n",
      "       -1.52375971e+03,  2.55205718e+03,  3.16097063e+01, -7.49734286e+00,\n",
      "        6.82115164e+02, -8.21290685e+02,  5.27379250e+01, -2.63539807e+02,\n",
      "        5.56417835e+01, -3.78126344e+01, -1.83281006e+01])\n",
      "shap       INFO  num_full_subsets = 1\n",
      "shap       INFO  remaining_weight_vector = array([0.20701126, 0.14490788, 0.11440096, 0.09660526, 0.08523993,\n",
      "       0.07762922, 0.07245394, 0.06900375, 0.06688056, 0.06586722])\n",
      "shap       INFO  num_paired_subset_sizes = 11\n",
      "shap       INFO  weight_left = 0.7167414131850209\n",
      "shap       INFO  np.sum(w_aug) = 23.000000000000004\n",
      "shap       INFO  np.sum(self.kernelWeights) = 1.0\n",
      "shap       INFO  phi = array([ 3.18045043e+04, -4.05387375e+03, -1.35343896e+03, -3.79574719e+03,\n",
      "        8.75513254e+02, -5.53762165e+02, -8.18867703e+02,  1.91915903e+03,\n",
      "        1.30949420e+01,  5.77644378e+00,  3.59689316e+02,  3.22543805e+01,\n",
      "       -1.66898220e+03,  2.69216385e+03,  3.20423614e+01,  0.00000000e+00,\n",
      "        7.14695987e+02, -8.21874459e+02,  6.13805833e+01, -2.94255486e+02,\n",
      "        4.99782086e+01, -3.48298822e+01, -1.35812700e+01])\n",
      "shap       INFO  num_full_subsets = 1\n",
      "shap       INFO  remaining_weight_vector = array([0.20701126, 0.14490788, 0.11440096, 0.09660526, 0.08523993,\n",
      "       0.07762922, 0.07245394, 0.06900375, 0.06688056, 0.06586722])\n",
      "shap       INFO  num_paired_subset_sizes = 11\n",
      "shap       INFO  weight_left = 0.7167414131850209\n",
      "shap       INFO  np.sum(w_aug) = 23.000000000000007\n",
      "shap       INFO  np.sum(self.kernelWeights) = 1.0000000000000004\n",
      "shap       INFO  phi = array([ 2.88153312e+04, -4.34236330e+03, -1.32964930e+03, -3.60640784e+03,\n",
      "        8.80450153e+02, -7.07702851e+02, -3.86385245e+02,  2.09145519e+03,\n",
      "        2.59255791e+01,  5.63456002e+00,  3.50796624e+02,  1.52719204e+02,\n",
      "       -1.69582485e+03,  2.70245152e+03,  2.20950653e+01, -9.42535896e+00,\n",
      "        7.18708919e+02, -8.16836497e+02,  5.50287832e+01, -3.06062091e+02,\n",
      "        6.40299516e+01, -4.28324045e+01, -1.81611464e+01])\n",
      "shap       INFO  num_full_subsets = 1\n",
      "shap       INFO  remaining_weight_vector = array([0.20701126, 0.14490788, 0.11440096, 0.09660526, 0.08523993,\n",
      "       0.07762922, 0.07245394, 0.06900375, 0.06688056, 0.06586722])\n",
      "shap       INFO  num_paired_subset_sizes = 11\n",
      "shap       INFO  weight_left = 0.7167414131850209\n",
      "shap       INFO  np.sum(w_aug) = 23.0\n",
      "shap       INFO  np.sum(self.kernelWeights) = 1.0000000000000004\n",
      "shap       INFO  phi = array([ 2.67317943e+04, -3.59557532e+03, -1.08367534e+03, -2.60440567e+03,\n",
      "        8.88800540e+02, -6.41048503e+02, -1.03985877e+03,  1.17196753e+03,\n",
      "       -8.68081806e+00,  0.00000000e+00,  3.12469800e+02,  2.86032692e+02,\n",
      "       -1.66076980e+03,  2.84912057e+03,  2.48299638e+01, -5.81632087e+00,\n",
      "        6.79440443e+02, -8.20153651e+02,  5.37197581e+01, -2.92770329e+02,\n",
      "        5.98872408e+01, -4.60274311e+01, -2.04044312e+01])\n",
      "shap       INFO  num_full_subsets = 1\n",
      "shap       INFO  remaining_weight_vector = array([0.20701126, 0.14490788, 0.11440096, 0.09660526, 0.08523993,\n",
      "       0.07762922, 0.07245394, 0.06900375, 0.06688056, 0.06586722])\n",
      "shap       INFO  num_paired_subset_sizes = 11\n",
      "shap       INFO  weight_left = 0.7167414131850209\n",
      "shap       INFO  np.sum(w_aug) = 23.000000000000004\n",
      "shap       INFO  np.sum(self.kernelWeights) = 1.0000000000000004\n",
      "shap       INFO  phi = array([ 2.74825791e+04, -8.32723806e+02, -1.12976987e+03, -3.14225087e+03,\n",
      "        8.77823741e+02, -6.16295510e+02, -1.19546170e+03,  1.74836031e+03,\n",
      "        4.73840820e+01,  7.59556343e+00,  3.12940866e+02,  1.63208588e+01,\n",
      "       -1.41401961e+03,  2.69843731e+03,  1.88877037e+01, -1.27919558e+01,\n",
      "        6.39721758e+02, -8.25043305e+02,  5.68977686e+01, -2.85585188e+02,\n",
      "        5.85475123e+01, -3.28877593e+01, -1.53245955e+01])\n",
      "shap       INFO  num_full_subsets = 1\n",
      "shap       INFO  remaining_weight_vector = array([0.20701126, 0.14490788, 0.11440096, 0.09660526, 0.08523993,\n",
      "       0.07762922, 0.07245394, 0.06900375, 0.06688056, 0.06586722])\n",
      "shap       INFO  num_paired_subset_sizes = 11\n",
      "shap       INFO  weight_left = 0.7167414131850209\n",
      "shap       INFO  np.sum(w_aug) = 23.000000000000007\n",
      "shap       INFO  np.sum(self.kernelWeights) = 1.0000000000000004\n",
      "shap       INFO  phi = array([ 3.44086454e+04, -4.15216155e+03, -1.12571780e+03, -3.04201263e+03,\n",
      "        8.73420897e+02, -4.83364171e+02, -1.38440319e+03,  4.48794533e+02,\n",
      "       -8.67467467e+00,  8.29914351e+00,  3.51886875e+02, -2.01361009e+01,\n",
      "       -1.53488790e+03,  2.84708516e+03,  1.40231629e+01,  0.00000000e+00,\n",
      "        6.98090379e+02, -8.22018392e+02,  6.44141176e+01, -2.96484455e+02,\n",
      "        7.28291750e+01, -3.87993641e+01, -2.43184532e+01])\n",
      "shap       INFO  num_full_subsets = 1\n",
      "shap       INFO  remaining_weight_vector = array([0.20701126, 0.14490788, 0.11440096, 0.09660526, 0.08523993,\n",
      "       0.07762922, 0.07245394, 0.06900375, 0.06688056, 0.06586722])\n",
      "shap       INFO  num_paired_subset_sizes = 11\n",
      "shap       INFO  weight_left = 0.7167414131850209\n",
      "shap       INFO  np.sum(w_aug) = 23.0\n",
      "shap       INFO  np.sum(self.kernelWeights) = 1.0000000000000004\n",
      "shap       INFO  phi = array([ 3.36084204e+04, -4.23047917e+03, -1.05746923e+03, -2.97124383e+03,\n",
      "        8.67523184e+02, -3.91868679e+02, -1.36095861e+03,  3.81949137e+02,\n",
      "        7.56301451e+00,  4.09128607e+00,  3.53057275e+02, -1.16232834e+01,\n",
      "       -1.54291580e+03,  2.69745850e+03,  3.26935253e+01, -5.94852125e+00,\n",
      "        7.16932640e+02, -9.64605724e+02,  6.99193588e+01, -3.42339750e+02,\n",
      "        8.25259103e+01, -3.58661877e+01, -2.56131002e+01])\n",
      "shap       INFO  num_full_subsets = 1\n",
      "shap       INFO  remaining_weight_vector = array([0.20701126, 0.14490788, 0.11440096, 0.09660526, 0.08523993,\n",
      "       0.07762922, 0.07245394, 0.06900375, 0.06688056, 0.06586722])\n",
      "shap       INFO  num_paired_subset_sizes = 11\n",
      "shap       INFO  weight_left = 0.7167414131850209\n",
      "shap       INFO  np.sum(w_aug) = 23.000000000000007\n",
      "shap       INFO  np.sum(self.kernelWeights) = 1.0000000000000004\n",
      "shap       INFO  phi = array([ 3.39734536e+04, -3.32856379e+03, -1.27144297e+03, -3.04336270e+03,\n",
      "        8.54811689e+02, -3.74293542e+02, -1.06521798e+03,  6.29054003e+02,\n",
      "        4.42075903e+00,  6.78961161e+00,  3.13113287e+02,  7.59388877e+01,\n",
      "       -1.72205019e+03,  3.13519216e+03,  2.31110054e+01,  0.00000000e+00,\n",
      "        7.75920756e+02, -1.01598890e+03,  8.16114754e+01, -3.79678647e+02,\n",
      "        8.26112323e+01, -3.91378701e+01, -1.70118084e+01])\n",
      "shap       INFO  num_full_subsets = 1\n",
      "shap       INFO  remaining_weight_vector = array([0.20701126, 0.14490788, 0.11440096, 0.09660526, 0.08523993,\n",
      "       0.07762922, 0.07245394, 0.06900375, 0.06688056, 0.06586722])\n",
      "shap       INFO  num_paired_subset_sizes = 11\n",
      "shap       INFO  weight_left = 0.7167414131850209\n",
      "shap       INFO  np.sum(w_aug) = 23.0\n",
      "shap       INFO  np.sum(self.kernelWeights) = 1.0000000000000004\n",
      "shap       INFO  phi = array([ 4.58436349e+04, -3.24043657e+03, -1.78685621e+03, -4.12901976e+03,\n",
      "        8.57471349e+02, -5.71881818e+02, -1.26551833e+03,  7.35832434e+02,\n",
      "        3.77263369e+01,  3.72610257e+00,  2.63142777e+02,  9.75739278e+01,\n",
      "       -1.88080701e+03,  3.14565683e+03,  2.19908834e+01,  0.00000000e+00,\n",
      "        7.88688163e+02, -9.58834871e+02,  7.96993433e+01, -3.77374971e+02,\n",
      "        7.50403324e+01, -4.32712329e+01, -2.40867753e+01])\n",
      "shap       INFO  num_full_subsets = 1\n",
      "shap       INFO  remaining_weight_vector = array([0.20701126, 0.14490788, 0.11440096, 0.09660526, 0.08523993,\n",
      "       0.07762922, 0.07245394, 0.06900375, 0.06688056, 0.06586722])\n",
      "shap       INFO  num_paired_subset_sizes = 11\n",
      "shap       INFO  weight_left = 0.7167414131850209\n",
      "shap       INFO  np.sum(w_aug) = 23.000000000000007\n",
      "shap       INFO  np.sum(self.kernelWeights) = 1.0\n",
      "shap       INFO  phi = array([ 3.93827009e+04, -4.95527512e+03, -1.69132801e+03, -3.63049527e+03,\n",
      "        8.56658363e+02, -5.48504945e+02, -9.66737574e+02,  1.03987476e+03,\n",
      "        2.73951772e+01,  1.00129236e+01,  3.30721779e+02,  2.00060365e+02,\n",
      "       -2.00389965e+03,  3.13714231e+03,  3.26772267e+01, -5.92896347e+00,\n",
      "        8.11919266e+02, -9.54332807e+02,  8.20792181e+01, -3.62312666e+02,\n",
      "        6.98008315e+01, -4.42032905e+01,  0.00000000e+00])\n",
      "shap       INFO  num_full_subsets = 1\n",
      "shap       INFO  remaining_weight_vector = array([0.20701126, 0.14490788, 0.11440096, 0.09660526, 0.08523993,\n",
      "       0.07762922, 0.07245394, 0.06900375, 0.06688056, 0.06586722])\n",
      "shap       INFO  num_paired_subset_sizes = 11\n",
      "shap       INFO  weight_left = 0.7167414131850209\n",
      "shap       INFO  np.sum(w_aug) = 23.0\n",
      "shap       INFO  np.sum(self.kernelWeights) = 1.0000000000000004\n",
      "shap       INFO  phi = array([ 3.13306960e+04, -5.46492408e+03, -1.30691624e+03, -2.87490032e+03,\n",
      "        8.80944008e+02, -3.64264836e+02, -1.19582101e+03,  1.02392659e+03,\n",
      "        1.44951229e+01,  1.10263602e+01,  4.20944517e+02,  3.13496889e+01,\n",
      "       -1.73474259e+03,  2.97718409e+03,  2.03295315e+01,  0.00000000e+00,\n",
      "        7.40715161e+02, -9.53306358e+02,  5.89186599e+01, -2.89301537e+02,\n",
      "        5.37729499e+01, -4.34195657e+01,  6.29418616e+00])\n",
      "shap       INFO  num_full_subsets = 1\n",
      "shap       INFO  remaining_weight_vector = array([0.20701126, 0.14490788, 0.11440096, 0.09660526, 0.08523993,\n",
      "       0.07762922, 0.07245394, 0.06900375, 0.06688056, 0.06586722])\n",
      "shap       INFO  num_paired_subset_sizes = 11\n",
      "shap       INFO  weight_left = 0.7167414131850209\n",
      "shap       INFO  np.sum(w_aug) = 23.000000000000004\n",
      "shap       INFO  np.sum(self.kernelWeights) = 1.0000000000000002\n",
      "shap       INFO  phi = array([ 1.93756200e+04, -3.40135724e+03, -8.78249040e+02, -2.30878022e+03,\n",
      "        8.77571690e+02, -2.61550621e+02, -1.39436539e+03,  1.83127690e+03,\n",
      "        0.00000000e+00,  0.00000000e+00,  3.60801792e+02,  1.63517409e+01,\n",
      "       -1.69963226e+03,  2.70507207e+03,  2.66456839e+01, -1.24778070e+01,\n",
      "        7.70843376e+02, -9.61600597e+02,  5.35331491e+01, -1.69961639e+02,\n",
      "        4.87761952e+01, -4.24706384e+01,  8.59873293e+00])\n",
      "shap       INFO  num_full_subsets = 1\n",
      "shap       INFO  remaining_weight_vector = array([0.20701126, 0.14490788, 0.11440096, 0.09660526, 0.08523993,\n",
      "       0.07762922, 0.07245394, 0.06900375, 0.06688056, 0.06586722])\n",
      "shap       INFO  num_paired_subset_sizes = 11\n",
      "shap       INFO  weight_left = 0.7167414131850209\n",
      "shap       INFO  np.sum(w_aug) = 23.000000000000004\n",
      "shap       INFO  np.sum(self.kernelWeights) = 0.9999999999999999\n",
      "shap       INFO  phi = array([ 1.80853696e+04, -3.14007528e+03, -6.63404354e+02, -1.84197902e+03,\n",
      "        8.87613908e+02, -4.07358208e+02, -1.32582173e+03,  1.17289541e+03,\n",
      "       -3.26402104e+01,  5.25701282e+00,  1.95813475e+02, -3.63457101e+00,\n",
      "       -1.51845505e+03,  2.69893116e+03,  3.52890842e+01, -9.39708655e+00,\n",
      "        6.95094160e+02, -1.00957631e+03,  3.20403803e+01, -1.65001845e+02,\n",
      "        4.87714072e+01, -4.31125469e+01,  1.90130517e+01])\n",
      "shap       INFO  num_full_subsets = 1\n",
      "shap       INFO  remaining_weight_vector = array([0.20701126, 0.14490788, 0.11440096, 0.09660526, 0.08523993,\n",
      "       0.07762922, 0.07245394, 0.06900375, 0.06688056, 0.06586722])\n",
      "shap       INFO  num_paired_subset_sizes = 11\n",
      "shap       INFO  weight_left = 0.7167414131850209\n",
      "shap       INFO  np.sum(w_aug) = 23.0\n",
      "shap       INFO  np.sum(self.kernelWeights) = 1.0000000000000002\n",
      "shap       INFO  phi = array([ 1.57279389e+04, -3.20724909e+03, -7.64673571e+02, -2.22976627e+03,\n",
      "        8.83305380e+02, -3.06185569e+02, -1.24999589e+03,  2.10539799e+03,\n",
      "       -2.68257572e+01,  0.00000000e+00,  2.00116758e+02,  1.44024899e+01,\n",
      "       -1.31686622e+03,  2.85564181e+03,  2.50759294e+01, -1.88117479e+01,\n",
      "        6.27855318e+02, -1.00372533e+03,  5.36056387e+01, -2.11129978e+02,\n",
      "        5.77800019e+01, -4.08545286e+01,  1.76238940e+01])\n",
      "shap       INFO  num_full_subsets = 1\n",
      "shap       INFO  remaining_weight_vector = array([0.20701126, 0.14490788, 0.11440096, 0.09660526, 0.08523993,\n",
      "       0.07762922, 0.07245394, 0.06900375, 0.06688056, 0.06586722])\n",
      "shap       INFO  num_paired_subset_sizes = 11\n",
      "shap       INFO  weight_left = 0.7167414131850209\n",
      "shap       INFO  np.sum(w_aug) = 23.000000000000004\n",
      "shap       INFO  np.sum(self.kernelWeights) = 1.0\n",
      "shap       INFO  phi = array([ 1.63163778e+04, -3.54284371e+03, -8.78895109e+02, -2.46793266e+03,\n",
      "        8.79476529e+02, -2.08909052e+02, -9.37401034e+02,  2.34622576e+03,\n",
      "        9.55362592e+00,  0.00000000e+00,  1.53556545e+02,  0.00000000e+00,\n",
      "       -1.51032429e+03,  2.86018086e+03,  2.49480451e+01, -6.87088866e+00,\n",
      "        6.21160723e+02, -9.13617322e+02,  4.50184696e+01, -2.46467109e+02,\n",
      "        6.16361957e+01, -3.90438654e+01,  5.94518067e+00])\n",
      "shap       INFO  num_full_subsets = 1\n",
      "shap       INFO  remaining_weight_vector = array([0.20701126, 0.14490788, 0.11440096, 0.09660526, 0.08523993,\n",
      "       0.07762922, 0.07245394, 0.06900375, 0.06688056, 0.06586722])\n",
      "shap       INFO  num_paired_subset_sizes = 11\n",
      "shap       INFO  weight_left = 0.7167414131850209\n",
      "shap       INFO  np.sum(w_aug) = 23.000000000000004\n",
      "shap       INFO  np.sum(self.kernelWeights) = 1.0000000000000002\n",
      "shap       INFO  phi = array([ 2.65938011e+04, -2.80622783e+03, -1.27753792e+03, -3.43176858e+03,\n",
      "        8.72826970e+02, -2.79313918e+02, -1.04712457e+03,  2.31320189e+03,\n",
      "        1.56734183e+01,  0.00000000e+00,  1.16755658e+02,  0.00000000e+00,\n",
      "       -1.58202693e+03,  2.69538299e+03,  3.39857105e+01, -1.02626110e+01,\n",
      "        5.97836892e+02, -8.22427603e+02,  4.66859358e+01, -2.54183961e+02,\n",
      "        5.98458755e+01, -4.77085410e+01,  1.39154336e+01])\n",
      "shap       INFO  num_full_subsets = 1\n",
      "shap       INFO  remaining_weight_vector = array([0.20701126, 0.14490788, 0.11440096, 0.09660526, 0.08523993,\n",
      "       0.07762922, 0.07245394, 0.06900375, 0.06688056, 0.06586722])\n",
      "shap       INFO  num_paired_subset_sizes = 11\n",
      "shap       INFO  weight_left = 0.7167414131850209\n",
      "shap       INFO  np.sum(w_aug) = 23.000000000000004\n",
      "shap       INFO  np.sum(self.kernelWeights) = 1.0\n",
      "shap       INFO  phi = array([ 2.78180377e+04, -4.21628459e+03, -1.26488159e+03, -3.32901216e+03,\n",
      "        8.67833368e+02, -1.80250601e+02, -7.55107790e+02,  1.87454715e+03,\n",
      "        1.59962112e+01,  0.00000000e+00,  1.01029801e+02,  5.58058750e+01,\n",
      "       -1.63543242e+03,  2.85334465e+03,  2.16552317e+01, -9.41472777e+00,\n",
      "        6.57655047e+02, -8.14937246e+02,  5.63198811e+01, -2.69503323e+02,\n",
      "        4.92621033e+01, -4.09027318e+01,  1.75154605e+01])\n",
      "shap       INFO  num_full_subsets = 1\n",
      "shap       INFO  remaining_weight_vector = array([0.20701126, 0.14490788, 0.11440096, 0.09660526, 0.08523993,\n",
      "       0.07762922, 0.07245394, 0.06900375, 0.06688056, 0.06586722])\n",
      "shap       INFO  num_paired_subset_sizes = 11\n",
      "shap       INFO  weight_left = 0.7167414131850209\n",
      "shap       INFO  np.sum(w_aug) = 23.000000000000004\n",
      "shap       INFO  np.sum(self.kernelWeights) = 0.9999999999999999\n",
      "shap       INFO  phi = array([ 2.72897263e+04, -4.91852623e+03, -1.31083645e+03, -2.83231950e+03,\n",
      "        8.71538356e+02, -2.58631232e+02, -7.23647063e+02,  1.52277687e+03,\n",
      "        2.05716247e+01,  0.00000000e+00,  9.69532752e+01,  6.78101921e+01,\n",
      "       -1.66029433e+03,  2.70825047e+03,  3.54941513e+01, -1.00767362e+01,\n",
      "        6.72916394e+02, -8.27276945e+02,  5.32971854e+01, -2.73859035e+02,\n",
      "        5.47984902e+01, -4.63135201e+01,  2.38496799e+01])\n",
      "shap       INFO  num_full_subsets = 1\n",
      "shap       INFO  remaining_weight_vector = array([0.20701126, 0.14490788, 0.11440096, 0.09660526, 0.08523993,\n",
      "       0.07762922, 0.07245394, 0.06900375, 0.06688056, 0.06586722])\n",
      "shap       INFO  num_paired_subset_sizes = 11\n",
      "shap       INFO  weight_left = 0.7167414131850209\n",
      "shap       INFO  np.sum(w_aug) = 23.000000000000004\n",
      "shap       INFO  np.sum(self.kernelWeights) = 1.0\n",
      "shap       INFO  phi = array([ 2.79031862e+04, -5.17325087e+03, -1.10280810e+03, -2.27056093e+03,\n",
      "        8.66844977e+02, -2.02615075e+02, -1.05854847e+03,  5.76270894e+02,\n",
      "        4.39715115e+00,  5.29797256e+00,  7.62030147e+01,  2.53600381e+01,\n",
      "       -1.68978390e+03,  2.42093364e+03,  2.93580266e+01,  0.00000000e+00,\n",
      "        6.70208071e+02, -8.17667793e+02,  5.34235939e+01, -2.57974227e+02,\n",
      "        5.65751765e+01, -4.60902548e+01,  2.22715371e+01])\n",
      "shap       INFO  num_full_subsets = 1\n",
      "shap       INFO  remaining_weight_vector = array([0.20701126, 0.14490788, 0.11440096, 0.09660526, 0.08523993,\n",
      "       0.07762922, 0.07245394, 0.06900375, 0.06688056, 0.06586722])\n",
      "shap       INFO  num_paired_subset_sizes = 11\n",
      "shap       INFO  weight_left = 0.7167414131850209\n",
      "shap       INFO  np.sum(w_aug) = 23.0\n",
      "shap       INFO  np.sum(self.kernelWeights) = 1.0000000000000002\n",
      "shap       INFO  phi = array([ 2.44762157e+04, -3.28403754e+03, -7.76067730e+02, -1.53718935e+03,\n",
      "        8.72508797e+02, -3.35494679e+02, -1.07321636e+03, -1.17019519e+02,\n",
      "       -6.16222700e+00,  1.25282140e+01,  7.02036165e+01, -5.52611865e+00,\n",
      "       -1.66722450e+03,  2.54113563e+03,  3.01796820e+01, -1.28864472e+01,\n",
      "        6.66784908e+02, -8.24024442e+02,  5.87596443e+01, -2.45439980e+02,\n",
      "        5.42705367e+01, -3.67392043e+01,  2.09561674e+01])\n",
      "shap       INFO  num_full_subsets = 1\n",
      "shap       INFO  remaining_weight_vector = array([0.20701126, 0.14490788, 0.11440096, 0.09660526, 0.08523993,\n",
      "       0.07762922, 0.07245394, 0.06900375, 0.06688056, 0.06586722])\n",
      "shap       INFO  num_paired_subset_sizes = 11\n",
      "shap       INFO  weight_left = 0.7167414131850209\n",
      "shap       INFO  np.sum(w_aug) = 23.000000000000004\n",
      "shap       INFO  np.sum(self.kernelWeights) = 1.0000000000000002\n",
      "shap       INFO  phi = array([ 2.19995581e+04, -4.11473132e+03, -5.46825423e+02, -1.26422929e+03,\n",
      "        8.79706228e+02, -1.78143159e+02, -1.02751133e+03, -4.19881192e+02,\n",
      "       -1.52903876e+01,  1.29903180e+01,  2.09249968e+01,  1.12548568e+01,\n",
      "       -1.39601228e+03,  2.55573283e+03,  1.90894286e+01,  0.00000000e+00,\n",
      "        6.15515449e+02, -8.19925540e+02,  5.45186492e+01, -2.88378883e+02,\n",
      "        5.51569442e+01, -4.42479266e+01,  2.13942674e+01])\n",
      "shap       INFO  num_full_subsets = 1\n",
      "shap       INFO  remaining_weight_vector = array([0.20701126, 0.14490788, 0.11440096, 0.09660526, 0.08523993,\n",
      "       0.07762922, 0.07245394, 0.06900375, 0.06688056, 0.06586722])\n",
      "shap       INFO  num_paired_subset_sizes = 11\n",
      "shap       INFO  weight_left = 0.7167414131850209\n",
      "shap       INFO  np.sum(w_aug) = 23.000000000000004\n",
      "shap       INFO  np.sum(self.kernelWeights) = 1.0000000000000004\n",
      "shap       INFO  phi = array([ 2.50515007e+04, -3.35502244e+03, -1.01232998e+03, -1.67940313e+03,\n",
      "        8.60016733e+02, -5.63877257e+01, -7.59372263e+02,  1.89129605e+02,\n",
      "        1.13762729e+01,  7.07574990e+00,  6.93714317e+00,  9.66757240e+00,\n",
      "       -1.48322959e+03,  2.85620975e+03,  2.15579291e+01,  0.00000000e+00,\n",
      "        5.96052356e+02, -8.70559106e+02,  5.29124402e+01, -3.32779304e+02,\n",
      "        7.91974041e+01, -3.59413870e+01,  3.50185046e+01])\n",
      "shap       INFO  num_full_subsets = 1\n",
      "shap       INFO  remaining_weight_vector = array([0.20701126, 0.14490788, 0.11440096, 0.09660526, 0.08523993,\n",
      "       0.07762922, 0.07245394, 0.06900375, 0.06688056, 0.06586722])\n",
      "shap       INFO  num_paired_subset_sizes = 11\n",
      "shap       INFO  weight_left = 0.7167414131850209\n",
      "shap       INFO  np.sum(w_aug) = 23.000000000000004\n",
      "shap       INFO  np.sum(self.kernelWeights) = 1.0000000000000002\n",
      "shap       INFO  phi = array([ 3.85988886e+04, -1.78876678e+03, -1.81534228e+03, -4.01982601e+03,\n",
      "        8.54542378e+02, -2.64466929e+02, -8.70260887e+02,  1.72205195e+03,\n",
      "        5.18298764e+01,  1.39256394e+01,  1.28832268e+01,  1.75727399e+02,\n",
      "       -1.80224557e+03,  2.98773162e+03,  2.01862931e+01, -9.04728197e+00,\n",
      "        6.14843180e+02, -8.61965737e+02,  7.01743810e+01, -3.68193971e+02,\n",
      "        7.45866594e+01, -3.35128704e+01,  1.81176934e+01])\n",
      "shap       INFO  num_full_subsets = 1\n",
      "shap       INFO  remaining_weight_vector = array([0.20701126, 0.14490788, 0.11440096, 0.09660526, 0.08523993,\n",
      "       0.07762922, 0.07245394, 0.06900375, 0.06688056, 0.06586722])\n",
      "shap       INFO  num_paired_subset_sizes = 11\n",
      "shap       INFO  weight_left = 0.7167414131850209\n",
      "shap       INFO  np.sum(w_aug) = 23.000000000000004\n",
      "shap       INFO  np.sum(self.kernelWeights) = 1.0000000000000002\n",
      "shap       INFO  phi = array([ 4.19503281e+04, -1.71612594e+03, -1.64574510e+03, -3.88816572e+03,\n",
      "        7.83284925e+02, -2.36207928e+02, -1.25314749e+03,  8.04753804e+02,\n",
      "        5.83721996e+01,  2.16064468e+01,  5.48595752e+01,  7.55596799e+01,\n",
      "       -1.74318879e+03,  2.98617351e+03,  2.23684729e+01, -7.14597761e+00,\n",
      "        6.79775310e+02, -9.09357417e+02,  7.19103495e+01, -3.84518704e+02,\n",
      "        7.46451791e+01, -4.61034920e+01,  3.01857814e+01])\n",
      "shap       INFO  num_full_subsets = 1\n",
      "shap       INFO  remaining_weight_vector = array([0.20701126, 0.14490788, 0.11440096, 0.09660526, 0.08523993,\n",
      "       0.07762922, 0.07245394, 0.06900375, 0.06688056, 0.06586722])\n",
      "shap       INFO  num_paired_subset_sizes = 11\n",
      "shap       INFO  weight_left = 0.7167414131850209\n",
      "shap       INFO  np.sum(w_aug) = 23.000000000000007\n",
      "shap       INFO  np.sum(self.kernelWeights) = 1.0000000000000002\n",
      "shap       INFO  phi = array([ 4.64324465e+04, -3.97699252e+03, -1.90867479e+03, -4.36144155e+03,\n",
      "        4.87497788e+02, -3.45469472e+02, -1.22256374e+03,  7.69556284e+02,\n",
      "        5.62167206e+01,  1.66821431e+01,  5.62649344e+01,  5.00033706e+01,\n",
      "       -1.83826406e+03,  3.13029359e+03,  2.10984375e+01, -4.83851157e+00,\n",
      "        7.09400131e+02, -9.22314460e+02,  7.28952407e+01, -3.83263646e+02,\n",
      "        7.80255980e+01, -4.45008793e+01,  3.30148660e+01])\n",
      "shap       INFO  num_full_subsets = 1\n",
      "shap       INFO  remaining_weight_vector = array([0.20701126, 0.14490788, 0.11440096, 0.09660526, 0.08523993,\n",
      "       0.07762922, 0.07245394, 0.06900375, 0.06688056, 0.06586722])\n",
      "shap       INFO  num_paired_subset_sizes = 11\n",
      "shap       INFO  weight_left = 0.7167414131850209\n",
      "shap       INFO  np.sum(w_aug) = 23.000000000000007\n",
      "shap       INFO  np.sum(self.kernelWeights) = 1.0000000000000004\n",
      "shap       INFO  phi = array([ 4.45098178e+04, -4.41833110e+03, -1.96246951e+03, -4.21329191e+03,\n",
      "        4.96202961e+02, -3.98637041e+02, -9.08635407e+02,  9.37927624e+02,\n",
      "        5.08000406e+01,  1.84441901e+01,  5.73286023e+01,  1.04380956e+02,\n",
      "       -1.84416429e+03,  3.13984524e+03,  2.91136058e+01, -1.18731795e+01,\n",
      "        7.25648867e+02, -9.16430309e+02,  7.58759672e+01, -3.84470542e+02,\n",
      "        7.23119800e+01, -3.54458232e+01,  2.73478783e+01])\n",
      "shap       INFO  num_full_subsets = 1\n",
      "shap       INFO  remaining_weight_vector = array([0.20701126, 0.14490788, 0.11440096, 0.09660526, 0.08523993,\n",
      "       0.07762922, 0.07245394, 0.06900375, 0.06688056, 0.06586722])\n",
      "shap       INFO  num_paired_subset_sizes = 11\n",
      "shap       INFO  weight_left = 0.7167414131850209\n",
      "shap       INFO  np.sum(w_aug) = 23.000000000000004\n",
      "shap       INFO  np.sum(self.kernelWeights) = 1.0000000000000002\n",
      "shap       INFO  phi = array([ 4.22538713e+04, -4.96715302e+03, -2.02126706e+03, -4.06024872e+03,\n",
      "        4.84555559e+02, -2.60519245e+02, -1.28357793e+03,  1.34463911e+03,\n",
      "        4.38400979e+01,  9.26863798e+00,  9.67625512e+01,  7.84352136e+01,\n",
      "       -1.87586900e+03,  3.12678553e+03,  3.13803859e+01, -5.60914003e+00,\n",
      "        7.38166435e+02, -9.14729677e+02,  6.72488605e+01, -3.66112178e+02,\n",
      "        7.04561507e+01, -3.37779027e+01,  3.19627036e+01])\n",
      "shap       INFO  num_full_subsets = 1\n",
      "shap       INFO  remaining_weight_vector = array([0.20701126, 0.14490788, 0.11440096, 0.09660526, 0.08523993,\n",
      "       0.07762922, 0.07245394, 0.06900375, 0.06688056, 0.06586722])\n",
      "shap       INFO  num_paired_subset_sizes = 11\n",
      "shap       INFO  weight_left = 0.7167414131850209\n",
      "shap       INFO  np.sum(w_aug) = 23.000000000000004\n",
      "shap       INFO  np.sum(self.kernelWeights) = 1.0000000000000002\n",
      "shap       INFO  phi = array([ 3.39898961e+04, -3.15066253e+03, -1.51623018e+03, -3.44623498e+03,\n",
      "        4.90725705e+02, -1.67326012e+02, -1.53131615e+03,  1.32192484e+03,\n",
      "        2.65503807e+01,  1.02246977e+01,  8.90109102e+01, -3.45304960e+00,\n",
      "       -1.84661130e+03,  3.12312749e+03,  2.84698288e+01, -4.76251104e+00,\n",
      "        7.18791467e+02, -9.20547613e+02,  8.11719751e+01, -3.44213825e+02,\n",
      "        6.49630971e+01, -3.89427110e+01,  3.46494684e+01])\n",
      "shap       INFO  num_full_subsets = 1\n",
      "shap       INFO  remaining_weight_vector = array([0.20701126, 0.14490788, 0.11440096, 0.09660526, 0.08523993,\n",
      "       0.07762922, 0.07245394, 0.06900375, 0.06688056, 0.06586722])\n",
      "shap       INFO  num_paired_subset_sizes = 11\n",
      "shap       INFO  weight_left = 0.7167414131850209\n",
      "shap       INFO  np.sum(w_aug) = 23.000000000000007\n",
      "shap       INFO  np.sum(self.kernelWeights) = 1.0000000000000004\n",
      "shap       INFO  phi = array([ 3.24761701e+04, -2.78964934e+03, -1.29360087e+03, -3.24497432e+03,\n",
      "        5.40212408e+02, -2.54977298e+02, -1.36187993e+03,  9.85933798e+02,\n",
      "        1.26135788e+01,  7.10150015e+00,  3.52841166e+01, -5.13736100e+00,\n",
      "       -1.83912958e+03,  3.12908913e+03,  3.48031830e+01,  0.00000000e+00,\n",
      "        7.03938362e+02, -9.07856442e+02,  7.54909369e+01, -3.37924491e+02,\n",
      "        6.69484303e+01, -5.24815522e+01,  3.20855432e+01])\n",
      "shap       INFO  num_full_subsets = 1\n",
      "shap       INFO  remaining_weight_vector = array([0.20701126, 0.14490788, 0.11440096, 0.09660526, 0.08523993,\n",
      "       0.07762922, 0.07245394, 0.06900375, 0.06688056, 0.06586722])\n",
      "shap       INFO  num_paired_subset_sizes = 11\n",
      "shap       INFO  weight_left = 0.7167414131850209\n",
      "shap       INFO  np.sum(w_aug) = 23.000000000000004\n",
      "shap       INFO  np.sum(self.kernelWeights) = 1.0\n",
      "shap       INFO  phi = array([ 4.24797318e+04, -3.49526669e+03, -1.59095761e+03, -3.50777794e+03,\n",
      "        8.06957181e+02, -1.81008421e+02, -1.02587529e+03,  1.41550721e+02,\n",
      "       -9.74629752e+00,  8.61884440e+00,  4.22625456e+01, -1.28562221e+01,\n",
      "       -1.83728102e+03,  3.14007952e+03,  3.43409783e+01, -1.29481862e+01,\n",
      "        6.94194235e+02, -9.21188330e+02,  7.33703608e+01, -3.50712356e+02,\n",
      "        7.02770423e+01, -4.27836286e+01,  2.60837509e+01])\n",
      "shap       INFO  num_full_subsets = 1\n",
      "shap       INFO  remaining_weight_vector = array([0.20701126, 0.14490788, 0.11440096, 0.09660526, 0.08523993,\n",
      "       0.07762922, 0.07245394, 0.06900375, 0.06688056, 0.06586722])\n",
      "shap       INFO  num_paired_subset_sizes = 11\n",
      "shap       INFO  weight_left = 0.7167414131850209\n",
      "shap       INFO  np.sum(w_aug) = 23.000000000000007\n",
      "shap       INFO  np.sum(self.kernelWeights) = 1.0000000000000004\n",
      "shap       INFO  phi = array([ 3.36407184e+04, -3.65634336e+03, -1.09425503e+03, -2.54590268e+03,\n",
      "        8.61439001e+02, -2.87029804e+02, -9.90063254e+02, -1.64903768e+02,\n",
      "       -3.31118190e+01,  6.40819408e+00,  3.68275290e+01,  9.03608915e+01,\n",
      "       -1.85823562e+03,  3.12904356e+03,  1.99220677e+01,  0.00000000e+00,\n",
      "        7.03238373e+02, -9.18231189e+02,  6.13240859e+01, -3.06620280e+02,\n",
      "        6.13568442e+01, -3.79433872e+01,  1.85091448e+01])\n",
      "shap       INFO  num_full_subsets = 1\n",
      "shap       INFO  remaining_weight_vector = array([0.20701126, 0.14490788, 0.11440096, 0.09660526, 0.08523993,\n",
      "       0.07762922, 0.07245394, 0.06900375, 0.06688056, 0.06586722])\n",
      "shap       INFO  num_paired_subset_sizes = 11\n",
      "shap       INFO  weight_left = 0.7167414131850209\n",
      "shap       INFO  np.sum(w_aug) = 23.0\n",
      "shap       INFO  np.sum(self.kernelWeights) = 1.0000000000000004\n",
      "shap       INFO  phi = array([ 2.69741803e+04, -2.73265989e+03, -1.23602936e+03, -2.50619659e+03,\n",
      "        8.59272782e+02, -2.20948463e+02, -1.07633544e+03,  1.21553242e+03,\n",
      "       -8.64276130e+00,  2.37685937e+01, -5.70666796e+01,  8.92244640e+00,\n",
      "       -1.76861289e+03,  3.13540519e+03,  3.04213077e+01, -4.47351029e+00,\n",
      "        6.76442090e+02, -9.23505055e+02,  5.30918057e+01, -2.39875617e+02,\n",
      "        4.73685198e+01, -3.55775078e+01,  3.14217394e+01])\n",
      "shap       INFO  num_full_subsets = 1\n",
      "shap       INFO  remaining_weight_vector = array([0.20701126, 0.14490788, 0.11440096, 0.09660526, 0.08523993,\n",
      "       0.07762922, 0.07245394, 0.06900375, 0.06688056, 0.06586722])\n",
      "shap       INFO  num_paired_subset_sizes = 11\n",
      "shap       INFO  weight_left = 0.7167414131850209\n",
      "shap       INFO  np.sum(w_aug) = 23.0\n",
      "shap       INFO  np.sum(self.kernelWeights) = 1.0\n",
      "shap       INFO  phi = array([ 3.00756681e+04, -5.10382635e+03, -8.73267849e+02, -2.34490576e+03,\n",
      "        8.75289643e+02, -2.24796519e+02, -1.18451975e+03, -7.51758236e+01,\n",
      "        5.66669787e+00,  2.05133324e+01, -4.72944541e+01, -4.85577213e+00,\n",
      "       -1.74083207e+03,  3.13840765e+03,  2.47608018e+01, -6.39708909e+00,\n",
      "        6.29005111e+02, -9.18448405e+02,  4.06882912e+01, -2.14056510e+02,\n",
      "        3.11971376e+01, -3.00635579e+01,  8.59363173e+00])\n",
      "shap       INFO  num_full_subsets = 1\n",
      "shap       INFO  remaining_weight_vector = array([0.20701126, 0.14490788, 0.11440096, 0.09660526, 0.08523993,\n",
      "       0.07762922, 0.07245394, 0.06900375, 0.06688056, 0.06586722])\n",
      "shap       INFO  num_paired_subset_sizes = 11\n",
      "shap       INFO  weight_left = 0.7167414131850209\n",
      "shap       INFO  np.sum(w_aug) = 23.000000000000004\n",
      "shap       INFO  np.sum(self.kernelWeights) = 1.0000000000000004\n",
      "shap       INFO  phi = array([ 2.32929434e+04, -5.80809326e+03, -5.17945970e+02, -1.66397025e+03,\n",
      "        8.86002051e+02, -8.97363875e+01, -1.26498539e+03, -2.22101204e+02,\n",
      "       -2.39969900e+00,  2.21313307e+01,  1.07489533e+02, -3.45345835e+01,\n",
      "       -1.64610742e+03,  3.14084176e+03,  2.71853948e+01, -4.06288781e+00,\n",
      "        6.55234963e+02, -9.15696761e+02,  3.55468287e+01, -1.77703230e+02,\n",
      "        3.20671767e+01, -3.80014828e+01,  1.45982110e+01])\n",
      "shap       INFO  num_full_subsets = 1\n",
      "shap       INFO  remaining_weight_vector = array([0.20701126, 0.14490788, 0.11440096, 0.09660526, 0.08523993,\n",
      "       0.07762922, 0.07245394, 0.06900375, 0.06688056, 0.06586722])\n",
      "shap       INFO  num_paired_subset_sizes = 11\n",
      "shap       INFO  weight_left = 0.7167414131850209\n",
      "shap       INFO  np.sum(w_aug) = 23.0\n",
      "shap       INFO  np.sum(self.kernelWeights) = 0.9999999999999999\n",
      "shap       INFO  phi = array([ 9754.19805727, -4836.97569605,  -295.60425952,  -943.93853696,\n",
      "         892.74803489,    99.32855232, -1490.87485171,  1012.47774176,\n",
      "           0.        ,    20.42716468,     9.76025127,   -35.16110342,\n",
      "       -1513.07082397,  3136.68591541,    38.37502815,     0.        ,\n",
      "         643.38692154,  -913.53922077,    25.86936897,  -126.79585399,\n",
      "          35.10495531,   -39.56622147,    10.02900492])\n",
      "shap       INFO  num_full_subsets = 1\n",
      "shap       INFO  remaining_weight_vector = array([0.20701126, 0.14490788, 0.11440096, 0.09660526, 0.08523993,\n",
      "       0.07762922, 0.07245394, 0.06900375, 0.06688056, 0.06586722])\n",
      "shap       INFO  num_paired_subset_sizes = 11\n",
      "shap       INFO  weight_left = 0.7167414131850209\n",
      "shap       INFO  np.sum(w_aug) = 23.000000000000007\n",
      "shap       INFO  np.sum(self.kernelWeights) = 1.0\n",
      "shap       INFO  phi = array([ 5.75031730e+03, -1.28538180e+02, -4.66395864e+02, -7.42134103e+02,\n",
      "        8.83644223e+02, -1.87284751e+01, -1.40871871e+03,  1.76553866e+03,\n",
      "        3.39929232e+00,  1.12606728e+01,  9.80707518e+00, -2.55448735e+01,\n",
      "       -1.43464964e+03,  3.14552575e+03,  2.65757971e+01, -1.23184317e+01,\n",
      "        5.86265399e+02, -9.22496189e+02,  3.66747029e+01, -1.32991603e+02,\n",
      "        3.80516002e+01, -3.42244982e+01,  1.58865632e+01])\n",
      "shap       INFO  num_full_subsets = 1\n",
      "shap       INFO  remaining_weight_vector = array([0.20701126, 0.14490788, 0.11440096, 0.09660526, 0.08523993,\n",
      "       0.07762922, 0.07245394, 0.06900375, 0.06688056, 0.06586722])\n",
      "shap       INFO  num_paired_subset_sizes = 11\n",
      "shap       INFO  weight_left = 0.7167414131850209\n",
      "shap       INFO  np.sum(w_aug) = 23.000000000000007\n",
      "shap       INFO  np.sum(self.kernelWeights) = 1.0\n",
      "shap       INFO  phi = array([ 1.94582600e+04, -3.92156166e+02, -9.44454043e+02, -2.52883211e+03,\n",
      "        8.67569031e+02, -1.94196527e+02, -9.67313159e+02,  1.97677985e+03,\n",
      "        0.00000000e+00,  2.59785982e+01,  1.17064082e+01, -2.14072105e+01,\n",
      "       -1.27190254e+03,  3.13400080e+03,  3.16644842e+01, -6.10339227e+00,\n",
      "        5.87509348e+02, -9.15526863e+02,  4.82973100e+01, -1.59727372e+02,\n",
      "        3.99156673e+01, -3.42168948e+01,  1.48625707e+01])\n",
      "shap       INFO  num_full_subsets = 1\n",
      "shap       INFO  remaining_weight_vector = array([0.20701126, 0.14490788, 0.11440096, 0.09660526, 0.08523993,\n",
      "       0.07762922, 0.07245394, 0.06900375, 0.06688056, 0.06586722])\n",
      "shap       INFO  num_paired_subset_sizes = 11\n",
      "shap       INFO  weight_left = 0.7167414131850209\n",
      "shap       INFO  np.sum(w_aug) = 23.0\n",
      "shap       INFO  np.sum(self.kernelWeights) = 1.0000000000000002\n",
      "shap       INFO  phi = array([ 2.68645420e+04, -1.67496534e+03, -1.18082833e+03, -2.91692148e+03,\n",
      "        8.73644054e+02, -2.37581710e+02, -1.18890588e+03,  1.61649143e+03,\n",
      "        2.52092403e+01,  1.16239197e+01,  4.30955652e+00, -2.75967554e+01,\n",
      "       -1.38767810e+03,  3.13991357e+03,  2.57842050e+01, -1.10553668e+01,\n",
      "        5.98642413e+02, -9.12701851e+02,  4.75569139e+01, -1.98550507e+02,\n",
      "        4.64635244e+01, -3.65541263e+01,  1.07708623e+01])\n",
      "shap       INFO  num_full_subsets = 1\n",
      "shap       INFO  remaining_weight_vector = array([0.20701126, 0.14490788, 0.11440096, 0.09660526, 0.08523993,\n",
      "       0.07762922, 0.07245394, 0.06900375, 0.06688056, 0.06586722])\n",
      "shap       INFO  num_paired_subset_sizes = 11\n",
      "shap       INFO  weight_left = 0.7167414131850209\n",
      "shap       INFO  np.sum(w_aug) = 23.000000000000004\n",
      "shap       INFO  np.sum(self.kernelWeights) = 1.0000000000000004\n",
      "shap       INFO  phi = array([ 3.17418476e+04, -3.40435899e+03, -9.90850642e+02, -2.52465687e+03,\n",
      "        8.70421069e+02, -9.09506065e+01, -1.00284303e+03, -4.20318861e+01,\n",
      "       -9.88716295e+00,  2.72374247e+01,  1.33209257e+01, -1.01230969e+01,\n",
      "       -1.49793912e+03,  3.13223896e+03,  2.16624515e+01, -3.36218588e+00,\n",
      "        6.27732584e+02, -9.08231796e+02,  6.67613851e+01, -2.43052494e+02,\n",
      "        5.86057710e+01, -5.02850450e+01,  1.52025700e+01])\n",
      "shap       INFO  num_full_subsets = 1\n",
      "shap       INFO  remaining_weight_vector = array([0.20701126, 0.14490788, 0.11440096, 0.09660526, 0.08523993,\n",
      "       0.07762922, 0.07245394, 0.06900375, 0.06688056, 0.06586722])\n",
      "shap       INFO  num_paired_subset_sizes = 11\n",
      "shap       INFO  weight_left = 0.7167414131850209\n",
      "shap       INFO  np.sum(w_aug) = 23.000000000000004\n",
      "shap       INFO  np.sum(self.kernelWeights) = 1.0000000000000004\n",
      "shap       INFO  phi = array([ 3.16744683e+04, -3.10790641e+03, -1.12746730e+03, -2.98245755e+03,\n",
      "        8.67811936e+02, -7.95272497e+01, -4.93469096e+02,  5.15536526e+02,\n",
      "        5.31735922e+00,  1.79810363e+01,  1.33596100e+01,  1.38903213e+02,\n",
      "       -1.45265383e+03,  3.13501606e+03,  2.66565841e+01, -7.91382100e+00,\n",
      "        6.06380150e+02, -9.15266608e+02,  5.72709641e+01, -2.74206388e+02,\n",
      "        6.21165791e+01, -4.14465127e+01,  1.13893366e+01])\n",
      "shap       INFO  num_full_subsets = 1\n",
      "shap       INFO  remaining_weight_vector = array([0.20701126, 0.14490788, 0.11440096, 0.09660526, 0.08523993,\n",
      "       0.07762922, 0.07245394, 0.06900375, 0.06688056, 0.06586722])\n",
      "shap       INFO  num_paired_subset_sizes = 11\n",
      "shap       INFO  weight_left = 0.7167414131850209\n",
      "shap       INFO  np.sum(w_aug) = 23.000000000000007\n",
      "shap       INFO  np.sum(self.kernelWeights) = 0.9999999999999999\n",
      "shap       INFO  phi = array([ 3.54076502e+04, -4.61494816e+03, -1.05002655e+03, -2.69777194e+03,\n",
      "        8.67578712e+02,  4.39727244e+01, -1.10605968e+03, -3.98182051e+02,\n",
      "       -2.91320171e+01,  2.48307145e+01,  2.07156672e+02,  1.84512714e+02,\n",
      "       -1.44335947e+03,  3.13258046e+03,  2.71433867e+01, -1.19952830e+01,\n",
      "        5.99038909e+02, -9.23197916e+02,  5.12703291e+01, -3.17006024e+02,\n",
      "        7.79102921e+01, -3.78890000e+01,  1.25904138e+01])\n",
      "shap       INFO  num_full_subsets = 1\n",
      "shap       INFO  remaining_weight_vector = array([0.20701126, 0.14490788, 0.11440096, 0.09660526, 0.08523993,\n",
      "       0.07762922, 0.07245394, 0.06900375, 0.06688056, 0.06586722])\n",
      "shap       INFO  num_paired_subset_sizes = 11\n",
      "shap       INFO  weight_left = 0.7167414131850209\n",
      "shap       INFO  np.sum(w_aug) = 23.000000000000004\n",
      "shap       INFO  np.sum(self.kernelWeights) = 1.0000000000000002\n",
      "shap       INFO  phi = array([ 2.64896103e+04, -4.61669372e+03, -1.07875086e+03, -2.12909309e+03,\n",
      "        8.75947716e+02,  7.52642479e+01, -9.73287987e+02,  5.56005901e+02,\n",
      "       -2.12830405e+01,  2.01010241e+01,  1.98788530e+02,  1.00378525e+02,\n",
      "       -1.54091650e+03,  3.13832430e+03,  2.83372414e+01, -8.46859326e+00,\n",
      "        6.05776775e+02, -9.14423892e+02,  6.51638505e+01, -3.39997965e+02,\n",
      "        7.42156583e+01, -5.34110296e+01,  1.78891331e+01])\n",
      "shap       INFO  num_full_subsets = 1\n",
      "shap       INFO  remaining_weight_vector = array([0.20701126, 0.14490788, 0.11440096, 0.09660526, 0.08523993,\n",
      "       0.07762922, 0.07245394, 0.06900375, 0.06688056, 0.06586722])\n",
      "shap       INFO  num_paired_subset_sizes = 11\n",
      "shap       INFO  weight_left = 0.7167414131850209\n",
      "shap       INFO  np.sum(w_aug) = 23.0\n",
      "shap       INFO  np.sum(self.kernelWeights) = 1.0\n",
      "shap       INFO  phi = array([ 2.20441119e+04, -3.64121027e+03, -9.89063563e+02, -2.18303959e+03,\n",
      "        8.64673712e+02,  2.92100567e+00, -1.02816319e+03,  1.23934720e+03,\n",
      "       -1.23799939e+01,  1.20804216e+01,  2.02298938e+02,  2.18323919e+01,\n",
      "       -1.60929212e+03,  3.14282578e+03,  3.41790202e+01,  4.40628890e+00,\n",
      "        6.41722667e+02, -9.24902713e+02,  5.15170660e+01, -3.09445966e+02,\n",
      "        6.21465913e+01, -3.15323064e+01,  6.01142348e+00])\n",
      "shap       INFO  num_full_subsets = 1\n",
      "shap       INFO  remaining_weight_vector = array([0.20701126, 0.14490788, 0.11440096, 0.09660526, 0.08523993,\n",
      "       0.07762922, 0.07245394, 0.06900375, 0.06688056, 0.06586722])\n",
      "shap       INFO  num_paired_subset_sizes = 11\n",
      "shap       INFO  weight_left = 0.7167414131850209\n",
      "shap       INFO  np.sum(w_aug) = 23.000000000000007\n",
      "shap       INFO  np.sum(self.kernelWeights) = 1.0000000000000004\n",
      "shap       INFO  phi = array([ 2.27426806e+04, -2.90247571e+03, -7.99056876e+02, -2.42849578e+03,\n",
      "        8.74610486e+02,  8.89333437e+01, -1.24196450e+03,  1.11537534e+03,\n",
      "       -1.32317055e+01,  2.54300329e+01,  1.95282199e+02,  8.13207400e+00,\n",
      "       -1.59539049e+03,  3.13135658e+03,  2.40534940e+01, -3.75379464e+00,\n",
      "        5.99789970e+02, -9.04181031e+02,  5.72173718e+01, -2.44808555e+02,\n",
      "        5.02520539e+01, -4.92946041e+01,  5.05141186e+00])\n",
      "shap       INFO  num_full_subsets = 1\n",
      "shap       INFO  remaining_weight_vector = array([0.20701126, 0.14490788, 0.11440096, 0.09660526, 0.08523993,\n",
      "       0.07762922, 0.07245394, 0.06900375, 0.06688056, 0.06586722])\n",
      "shap       INFO  num_paired_subset_sizes = 11\n",
      "shap       INFO  weight_left = 0.7167414131850209\n",
      "shap       INFO  np.sum(w_aug) = 23.0\n",
      "shap       INFO  np.sum(self.kernelWeights) = 1.0000000000000002\n",
      "shap       INFO  phi = array([ 1.39088318e+04,  8.85385262e+02, -4.27735029e+02, -1.52351911e+03,\n",
      "        8.79001538e+02,  2.82416574e+02, -1.33643141e+03,  1.01494358e+03,\n",
      "       -4.45478036e+01,  2.15511276e+01,  1.86942258e+02, -2.82251441e+01,\n",
      "       -1.38637765e+03,  3.13941059e+03,  3.46593510e+01, -4.78308368e+00,\n",
      "        6.00324054e+02, -9.08618995e+02,  4.14478346e+01, -1.59458190e+02,\n",
      "        2.44486648e+01, -4.52525197e+01,  1.41688696e+01])\n",
      "shap       INFO  num_full_subsets = 1\n",
      "shap       INFO  remaining_weight_vector = array([0.20701126, 0.14490788, 0.11440096, 0.09660526, 0.08523993,\n",
      "       0.07762922, 0.07245394, 0.06900375, 0.06688056, 0.06586722])\n",
      "shap       INFO  num_paired_subset_sizes = 11\n",
      "shap       INFO  weight_left = 0.7167414131850209\n",
      "shap       INFO  np.sum(w_aug) = 23.000000000000004\n",
      "shap       INFO  np.sum(self.kernelWeights) = 1.0\n",
      "shap       INFO  phi = array([ 1.14396911e+04,  1.02366775e+03, -3.42014024e+02, -5.01820340e+02,\n",
      "        8.88420217e+02,  3.53098567e+02, -1.54042244e+03,  3.04384178e+02,\n",
      "       -1.72853736e+01,  1.27732887e+01,  1.98345905e+02, -2.24129837e+01,\n",
      "       -1.24211488e+03,  3.13570441e+03,  3.11604058e+01,  0.00000000e+00,\n",
      "        5.41871248e+02, -9.13461310e+02,  3.18415796e+01, -1.23545685e+02,\n",
      "        3.11508384e+01, -4.16495936e+01,  9.90684762e+00])\n",
      "shap       INFO  num_full_subsets = 1\n",
      "shap       INFO  remaining_weight_vector = array([0.20701126, 0.14490788, 0.11440096, 0.09660526, 0.08523993,\n",
      "       0.07762922, 0.07245394, 0.06900375, 0.06688056, 0.06586722])\n",
      "shap       INFO  num_paired_subset_sizes = 11\n",
      "shap       INFO  weight_left = 0.7167414131850209\n",
      "shap       INFO  np.sum(w_aug) = 23.000000000000004\n",
      "shap       INFO  np.sum(self.kernelWeights) = 1.0000000000000002\n",
      "shap       INFO  phi = array([ 1.53136298e+04, -1.15490182e+03, -4.70410628e+02, -2.29697941e+02,\n",
      "        8.82969951e+02,  2.76131726e+02, -1.50930751e+03, -4.15361637e+02,\n",
      "       -5.59578615e+00,  1.34173900e+01,  1.99966605e+02, -3.46318199e+01,\n",
      "       -1.12438918e+03,  3.13075756e+03,  1.68741829e+01, -6.63475988e+00,\n",
      "        5.36540299e+02, -9.14211673e+02,  4.42663773e+01, -1.05913918e+02,\n",
      "        3.17090138e+01, -3.42736318e+01,  1.58878599e+01])\n",
      "shap       INFO  num_full_subsets = 1\n",
      "shap       INFO  remaining_weight_vector = array([0.20701126, 0.14490788, 0.11440096, 0.09660526, 0.08523993,\n",
      "       0.07762922, 0.07245394, 0.06900375, 0.06688056, 0.06586722])\n",
      "shap       INFO  num_paired_subset_sizes = 11\n",
      "shap       INFO  weight_left = 0.7167414131850209\n",
      "shap       INFO  np.sum(w_aug) = 23.000000000000004\n",
      "shap       INFO  np.sum(self.kernelWeights) = 1.0000000000000002\n",
      "shap       INFO  phi = array([ 1.92219069e+04, -5.21969333e+02, -4.90154891e+02, -1.45587905e+03,\n",
      "        8.56628994e+02,  9.83135908e+01, -1.42868677e+03,  2.28679331e+02,\n",
      "       -1.63931049e+01,  1.18741739e+01,  1.96079141e+02, -2.78261714e+01,\n",
      "       -1.12463513e+03,  3.12629025e+03,  2.84009986e+01, -7.12599597e+00,\n",
      "        5.50282174e+02, -9.20867532e+02,  4.45856947e+01, -1.31741359e+02,\n",
      "        4.03034427e+01, -3.58978525e+01,  1.74030660e+01])\n",
      "shap       INFO  num_full_subsets = 1\n",
      "shap       INFO  remaining_weight_vector = array([0.20701126, 0.14490788, 0.11440096, 0.09660526, 0.08523993,\n",
      "       0.07762922, 0.07245394, 0.06900375, 0.06688056, 0.06586722])\n",
      "shap       INFO  num_paired_subset_sizes = 11\n",
      "shap       INFO  weight_left = 0.7167414131850209\n",
      "shap       INFO  np.sum(w_aug) = 23.000000000000007\n",
      "shap       INFO  np.sum(self.kernelWeights) = 1.0000000000000004\n",
      "shap       INFO  phi = array([ 2.12311560e+04, -2.82863139e+02, -3.29821316e+02, -1.81159722e+03,\n",
      "        8.09801983e+02,  2.05741344e+02, -1.33857335e+03, -1.01246733e+02,\n",
      "        1.40514916e+01,  6.32286368e+00,  2.31773866e+01, -3.36101503e+01,\n",
      "       -1.17392418e+03,  3.13809559e+03,  2.65303325e+01,  0.00000000e+00,\n",
      "        6.06809201e+02, -9.20415065e+02,  5.01301614e+01, -1.99139544e+02,\n",
      "        6.15058738e+01, -3.78245242e+01,  1.29791100e+01])\n",
      "shap       INFO  num_full_subsets = 1\n",
      "shap       INFO  remaining_weight_vector = array([0.20701126, 0.14490788, 0.11440096, 0.09660526, 0.08523993,\n",
      "       0.07762922, 0.07245394, 0.06900375, 0.06688056, 0.06586722])\n",
      "shap       INFO  num_paired_subset_sizes = 11\n",
      "shap       INFO  weight_left = 0.7167414131850209\n",
      "shap       INFO  np.sum(w_aug) = 23.000000000000004\n",
      "shap       INFO  np.sum(self.kernelWeights) = 1.0000000000000004\n",
      "shap       INFO  phi = array([ 2.92858392e+04, -6.25177646e+02, -7.47958527e+02, -2.95070505e+03,\n",
      "        8.66681062e+02,  1.67265791e+02, -1.30651055e+03,  4.73951690e+02,\n",
      "        5.00186775e+01,  1.14413360e+01,  2.58053490e+01, -3.73882569e+01,\n",
      "       -1.38566143e+03,  3.14095254e+03,  2.91085723e+01, -6.22620600e+00,\n",
      "        6.48088936e+02, -9.17871935e+02,  6.14102891e+01, -2.99162119e+02,\n",
      "        7.95884239e+01, -4.95733898e+01,  4.08234606e+00])\n",
      "shap       INFO  num_full_subsets = 1\n",
      "shap       INFO  remaining_weight_vector = array([0.20701126, 0.14490788, 0.11440096, 0.09660526, 0.08523993,\n",
      "       0.07762922, 0.07245394, 0.06900375, 0.06688056, 0.06586722])\n",
      "shap       INFO  num_paired_subset_sizes = 11\n",
      "shap       INFO  weight_left = 0.7167414131850209\n",
      "shap       INFO  np.sum(w_aug) = 23.000000000000004\n",
      "shap       INFO  np.sum(self.kernelWeights) = 1.0\n",
      "shap       INFO  phi = array([ 4.25794933e+04,  1.55919883e+03, -1.46632046e+03, -4.37692723e+03,\n",
      "        8.61591120e+02,  1.64876348e+02, -1.38093445e+03,  9.42947465e+02,\n",
      "        1.59434444e+02,  1.73027295e+01,  8.11902970e+00, -2.75192782e+01,\n",
      "       -1.42499646e+03,  3.13776785e+03,  2.36247213e+01, -7.50003672e+00,\n",
      "        6.75095968e+02, -9.06074771e+02,  7.35982071e+01, -3.54807489e+02,\n",
      "        8.07840855e+01, -3.84826634e+01,  6.65574428e+00])\n",
      "shap       INFO  num_full_subsets = 1\n",
      "shap       INFO  remaining_weight_vector = array([0.20701126, 0.14490788, 0.11440096, 0.09660526, 0.08523993,\n",
      "       0.07762922, 0.07245394, 0.06900375, 0.06688056, 0.06586722])\n",
      "shap       INFO  num_paired_subset_sizes = 11\n",
      "shap       INFO  weight_left = 0.7167414131850209\n",
      "shap       INFO  np.sum(w_aug) = 23.000000000000007\n",
      "shap       INFO  np.sum(self.kernelWeights) = 1.0000000000000004\n",
      "shap       INFO  phi = array([ 4.03732520e+04,  1.75565728e+03, -1.40890992e+03, -4.43915413e+03,\n",
      "        8.51367371e+02,  2.98559715e+02, -1.09607525e+03,  1.17781840e+03,\n",
      "        7.40993891e+01,  2.43062651e+01, -1.62756498e+02,  3.07225590e+01,\n",
      "       -1.48480295e+03,  3.13731703e+03,  2.23415220e+01, -8.72322951e+00,\n",
      "        7.11286048e+02, -9.12806504e+02,  8.34807293e+01, -3.70187039e+02,\n",
      "        7.31364380e+01, -4.78242447e+01, -6.85702949e+01])\n",
      "shap       INFO  num_full_subsets = 1\n",
      "shap       INFO  remaining_weight_vector = array([0.20701126, 0.14490788, 0.11440096, 0.09660526, 0.08523993,\n",
      "       0.07762922, 0.07245394, 0.06900375, 0.06688056, 0.06586722])\n",
      "shap       INFO  num_paired_subset_sizes = 11\n",
      "shap       INFO  weight_left = 0.7167414131850209\n",
      "shap       INFO  np.sum(w_aug) = 23.000000000000004\n",
      "shap       INFO  np.sum(self.kernelWeights) = 1.0000000000000004\n",
      "shap       INFO  phi = array([ 3.87932919e+04, -4.66614148e+03, -1.40242961e+03, -4.32692112e+03,\n",
      "        8.56604423e+02,  2.64614552e+02, -7.27236700e+02,  1.19587204e+03,\n",
      "        5.24653795e+01,  1.41123393e+01, -1.66118541e+02,  5.03557913e+01,\n",
      "       -1.60288345e+03,  3.14326000e+03,  2.50224667e+01,  2.38534610e+00,\n",
      "        7.25261939e+02, -9.13399640e+02,  7.04146801e+01, -3.22154829e+02,\n",
      "        6.64567915e+01, -3.30537016e+01,  0.00000000e+00])\n",
      "shap       INFO  num_full_subsets = 1\n",
      "shap       INFO  remaining_weight_vector = array([0.20701126, 0.14490788, 0.11440096, 0.09660526, 0.08523993,\n",
      "       0.07762922, 0.07245394, 0.06900375, 0.06688056, 0.06586722])\n",
      "shap       INFO  num_paired_subset_sizes = 11\n",
      "shap       INFO  weight_left = 0.7167414131850209\n",
      "shap       INFO  np.sum(w_aug) = 23.000000000000007\n",
      "shap       INFO  np.sum(self.kernelWeights) = 1.0\n",
      "shap       INFO  phi = array([ 3.88590038e+04, -5.99439180e+03, -1.22468966e+03, -3.30648151e+03,\n",
      "        8.58640997e+02,  2.63212790e+02, -8.41762241e+02, -1.46829478e+02,\n",
      "        5.46822310e+01,  1.57973894e+01, -1.78024292e+02,  1.15099895e+01,\n",
      "       -1.54044306e+03,  3.13172930e+03,  2.41037756e+01,  0.00000000e+00,\n",
      "        6.42143185e+02, -9.17381863e+02,  6.63865215e+01, -3.05300241e+02,\n",
      "        6.95258758e+01, -3.97817987e+01,  0.00000000e+00])\n",
      "shap       INFO  num_full_subsets = 1\n",
      "shap       INFO  remaining_weight_vector = array([0.20701126, 0.14490788, 0.11440096, 0.09660526, 0.08523993,\n",
      "       0.07762922, 0.07245394, 0.06900375, 0.06688056, 0.06586722])\n",
      "shap       INFO  num_paired_subset_sizes = 11\n",
      "shap       INFO  weight_left = 0.7167414131850209\n",
      "shap       INFO  np.sum(w_aug) = 23.000000000000007\n",
      "shap       INFO  np.sum(self.kernelWeights) = 1.0\n",
      "shap       INFO  phi = array([ 3.11615157e+04, -3.86060372e+03, -1.32050782e+03, -3.19289807e+03,\n",
      "        8.58915721e+02,  2.02244005e+02, -5.76153439e+02,  1.13759863e+03,\n",
      "        6.55560483e+01,  5.70968736e+00, -1.66668279e+02,  2.08513449e+02,\n",
      "       -1.54541107e+03,  3.13630004e+03,  1.42486453e+01, -1.56634732e+01,\n",
      "        6.95429793e+02, -9.11314947e+02,  7.34349183e+01, -3.19497170e+02,\n",
      "        6.81590723e+01, -5.12144593e+01,  0.00000000e+00])\n",
      "shap       INFO  num_full_subsets = 1\n",
      "shap       INFO  remaining_weight_vector = array([0.20701126, 0.14490788, 0.11440096, 0.09660526, 0.08523993,\n",
      "       0.07762922, 0.07245394, 0.06900375, 0.06688056, 0.06586722])\n",
      "shap       INFO  num_paired_subset_sizes = 11\n",
      "shap       INFO  weight_left = 0.7167414131850209\n",
      "shap       INFO  np.sum(w_aug) = 23.0\n",
      "shap       INFO  np.sum(self.kernelWeights) = 1.0000000000000002\n",
      "shap       INFO  phi = array([ 2.02885541e+04, -5.65778749e+03, -5.73951621e+02, -1.94435403e+03,\n",
      "        8.69278215e+02,  1.84178944e+02, -9.82777307e+02,  5.40505911e+02,\n",
      "        2.25148488e+01,  8.81743288e+00, -1.37324988e+02,  9.74052351e+01,\n",
      "       -1.59649402e+03,  3.13498972e+03,  1.96484652e+01, -5.53037529e+00,\n",
      "        7.03873953e+02, -9.17757391e+02,  6.67318102e+01, -2.60929143e+02,\n",
      "        5.95214629e+01, -3.59632243e+01, -7.97704153e+00])\n",
      "shap       INFO  num_full_subsets = 1\n",
      "shap       INFO  remaining_weight_vector = array([0.20701126, 0.14490788, 0.11440096, 0.09660526, 0.08523993,\n",
      "       0.07762922, 0.07245394, 0.06900375, 0.06688056, 0.06586722])\n",
      "shap       INFO  num_paired_subset_sizes = 11\n",
      "shap       INFO  weight_left = 0.7167414131850209\n",
      "shap       INFO  np.sum(w_aug) = 23.000000000000004\n",
      "shap       INFO  np.sum(self.kernelWeights) = 1.0\n",
      "shap       INFO  phi = array([ 1.21199682e+04, -5.37965707e+03, -1.59808835e+02, -7.08591040e+02,\n",
      "        8.79477163e+02,  4.09165153e+02, -1.16155848e+03, -3.35649714e+01,\n",
      "       -7.65882414e+00,  8.80441554e+00, -1.41746967e+02,  6.80079107e+00,\n",
      "       -1.59928584e+03,  3.12779984e+03,  2.14188723e+01, -1.11793977e+01,\n",
      "        7.04754835e+02, -9.25612784e+02,  5.23315200e+01, -2.16708078e+02,\n",
      "        5.28688822e+01, -3.10368665e+01,  3.99320513e+00])\n",
      "shap       INFO  num_full_subsets = 1\n",
      "shap       INFO  remaining_weight_vector = array([0.20701126, 0.14490788, 0.11440096, 0.09660526, 0.08523993,\n",
      "       0.07762922, 0.07245394, 0.06900375, 0.06688056, 0.06586722])\n",
      "shap       INFO  num_paired_subset_sizes = 11\n",
      "shap       INFO  weight_left = 0.7167414131850209\n",
      "shap       INFO  np.sum(w_aug) = 23.000000000000004\n",
      "shap       INFO  np.sum(self.kernelWeights) = 0.9999999999999999\n",
      "shap       INFO  phi = array([ 6.01370478e+03, -3.04029438e+03, -3.81893182e+01, -3.81363994e+02,\n",
      "        8.73407066e+02,  5.13107148e+02, -1.48225853e+03,  5.37958763e+02,\n",
      "        0.00000000e+00,  0.00000000e+00, -1.43442407e+02, -1.39306721e+01,\n",
      "       -1.58995157e+03,  3.13978192e+03,  2.30709406e+01, -6.09625527e+00,\n",
      "        7.07778533e+02, -9.16844669e+02,  4.09956690e+01, -1.16778169e+02,\n",
      "        2.76623283e+01, -3.34620766e+01,  3.11115014e+00])\n",
      "shap       INFO  num_full_subsets = 1\n",
      "shap       INFO  remaining_weight_vector = array([0.20701126, 0.14490788, 0.11440096, 0.09660526, 0.08523993,\n",
      "       0.07762922, 0.07245394, 0.06900375, 0.06688056, 0.06586722])\n",
      "shap       INFO  num_paired_subset_sizes = 11\n",
      "shap       INFO  weight_left = 0.7167414131850209\n",
      "shap       INFO  np.sum(w_aug) = 23.000000000000004\n",
      "shap       INFO  np.sum(self.kernelWeights) = 1.0000000000000002\n",
      "shap       INFO  phi = array([ 1.47162072e+04, -3.02641549e+03, -1.32190827e+02, -4.26433015e+02,\n",
      "        8.79536830e+02,  3.08271770e+02, -1.38596166e+03, -7.27514466e+02,\n",
      "       -2.46920480e+01,  0.00000000e+00, -1.35454451e+02, -2.86099160e+01,\n",
      "       -1.58822425e+03,  3.13490523e+03,  2.56719902e+01, -1.52587042e+01,\n",
      "        6.99978229e+02, -9.05142282e+02,  4.79576439e+01, -1.00532742e+02,\n",
      "        2.76572341e+01, -4.61578419e+01, -6.08654180e+00])\n",
      "shap       INFO  num_full_subsets = 1\n",
      "shap       INFO  remaining_weight_vector = array([0.20701126, 0.14490788, 0.11440096, 0.09660526, 0.08523993,\n",
      "       0.07762922, 0.07245394, 0.06900375, 0.06688056, 0.06586722])\n",
      "shap       INFO  num_paired_subset_sizes = 11\n",
      "shap       INFO  weight_left = 0.7167414131850209\n",
      "shap       INFO  np.sum(w_aug) = 23.0\n",
      "shap       INFO  np.sum(self.kernelWeights) = 1.0\n",
      "shap       INFO  phi = array([ 1.80450011e+04, -2.49476695e+03, -3.72739334e+02, -7.57860730e+02,\n",
      "        8.73060927e+02,  4.47273836e+02, -1.06004298e+03, -6.67850015e+02,\n",
      "       -1.59057364e+01,  0.00000000e+00, -1.44615387e+02, -3.95693296e+01,\n",
      "       -1.60345851e+03,  3.13177495e+03,  2.54035528e+01, -2.62983331e+00,\n",
      "        7.12180460e+02, -9.17946440e+02,  3.46543354e+01, -1.12179876e+02,\n",
      "        4.62395087e+01, -4.37060666e+01,  0.00000000e+00])\n",
      "shap       INFO  num_full_subsets = 1\n",
      "shap       INFO  remaining_weight_vector = array([0.20701126, 0.14490788, 0.11440096, 0.09660526, 0.08523993,\n",
      "       0.07762922, 0.07245394, 0.06900375, 0.06688056, 0.06586722])\n",
      "shap       INFO  num_paired_subset_sizes = 11\n",
      "shap       INFO  weight_left = 0.7167414131850209\n",
      "shap       INFO  np.sum(w_aug) = 23.000000000000007\n",
      "shap       INFO  np.sum(self.kernelWeights) = 1.0\n",
      "shap       INFO  phi = array([ 2.17764554e+04, -2.26490510e+03, -6.17669448e+02, -1.59248125e+03,\n",
      "        8.70276279e+02,  2.46013853e+02, -7.88341675e+02, -8.61080765e+01,\n",
      "        1.66193202e+01,  1.12019212e+01, -1.37810963e+02,  1.36325756e+01,\n",
      "       -1.59860927e+03,  3.14103996e+03,  2.00563480e+01, -5.94627182e+00,\n",
      "        6.98612350e+02, -9.17222011e+02,  5.18406988e+01, -1.62312822e+02,\n",
      "        3.85184487e+01, -3.85124384e+01,  4.90056851e+00])\n",
      "shap       INFO  num_full_subsets = 1\n",
      "shap       INFO  remaining_weight_vector = array([0.20701126, 0.14490788, 0.11440096, 0.09660526, 0.08523993,\n",
      "       0.07762922, 0.07245394, 0.06900375, 0.06688056, 0.06586722])\n",
      "shap       INFO  num_paired_subset_sizes = 11\n",
      "shap       INFO  weight_left = 0.7167414131850209\n",
      "shap       INFO  np.sum(w_aug) = 23.000000000000007\n",
      "shap       INFO  np.sum(self.kernelWeights) = 1.0\n",
      "shap       INFO  phi = array([ 1.15411663e+04, -1.74759459e+03, -4.60931274e+02, -9.98750087e+02,\n",
      "        8.76279614e+02,  7.89863707e+02, -6.43392726e+02,  6.25086983e+02,\n",
      "       -1.23758242e+01,  9.17068639e+00, -1.38407200e+02,  4.61340347e+01,\n",
      "       -1.59603900e+03,  3.14121525e+03,  2.84107494e+01, -9.21202654e+00,\n",
      "        6.98617862e+02, -9.15580302e+02,  4.43655267e+01, -1.45577501e+02,\n",
      "        4.00237449e+01, -4.76898336e+01,  3.97717620e+00])\n",
      "shap       INFO  num_full_subsets = 1\n",
      "shap       INFO  remaining_weight_vector = array([0.20701126, 0.14490788, 0.11440096, 0.09660526, 0.08523993,\n",
      "       0.07762922, 0.07245394, 0.06900375, 0.06688056, 0.06586722])\n",
      "shap       INFO  num_paired_subset_sizes = 11\n",
      "shap       INFO  weight_left = 0.7167414131850209\n",
      "shap       INFO  np.sum(w_aug) = 23.0\n",
      "shap       INFO  np.sum(self.kernelWeights) = 1.0000000000000004\n",
      "shap       INFO  phi = array([-5.89559506e+03, -1.26382791e+03,  1.22324714e+02,  4.59575900e+02,\n",
      "        8.48518801e+02,  7.06388303e+02, -1.36300470e+03,  1.32419280e+03,\n",
      "       -4.60971826e+01,  6.30952661e+00, -1.46544935e+02,  0.00000000e+00,\n",
      "       -1.60033380e+03,  3.13322869e+03,  2.18013942e+01,  0.00000000e+00,\n",
      "        7.03404290e+02, -9.22135541e+02,  9.53996341e+00, -7.47291661e+00,\n",
      "        1.50996975e+01, -3.58415166e+01,  2.82364916e+00])\n",
      "shap       INFO  num_full_subsets = 1\n",
      "shap       INFO  remaining_weight_vector = array([0.20701126, 0.14490788, 0.11440096, 0.09660526, 0.08523993,\n",
      "       0.07762922, 0.07245394, 0.06900375, 0.06688056, 0.06586722])\n",
      "shap       INFO  num_paired_subset_sizes = 11\n",
      "shap       INFO  weight_left = 0.7167414131850209\n",
      "shap       INFO  np.sum(w_aug) = 23.000000000000007\n",
      "shap       INFO  np.sum(self.kernelWeights) = 1.0000000000000004\n",
      "shap       INFO  phi = array([-7554.76101949,  -433.63806378,   292.99461691,  1654.92221246,\n",
      "         868.72845605,   672.89099343, -1376.90724688,    91.8614455 ,\n",
      "         -71.02066211,   -15.52587519,  -177.91512081,   -40.03527295,\n",
      "       -1600.49989707,  3148.70220448,    30.12512114,    -8.70554314,\n",
      "         710.2575033 ,  -922.22010091,    11.85153922,    56.14110408,\n",
      "           7.85338282,   -37.01351346,    -8.58785488])\n",
      "shap       INFO  num_full_subsets = 1\n",
      "shap       INFO  remaining_weight_vector = array([0.20701126, 0.14490788, 0.11440096, 0.09660526, 0.08523993,\n",
      "       0.07762922, 0.07245394, 0.06900375, 0.06688056, 0.06586722])\n",
      "shap       INFO  num_paired_subset_sizes = 11\n",
      "shap       INFO  weight_left = 0.7167414131850209\n",
      "shap       INFO  np.sum(w_aug) = 23.000000000000004\n",
      "shap       INFO  np.sum(self.kernelWeights) = 1.0000000000000002\n",
      "shap       INFO  phi = array([ 6.86864982e+03, -1.91478624e+03, -1.26250493e+02,  7.33274606e+02,\n",
      "        8.77176014e+02,  3.97269015e+02, -1.42981908e+03, -6.29509366e+02,\n",
      "       -7.34344237e+01, -1.06589553e+01, -1.84200097e+02, -3.16129063e+01,\n",
      "       -1.59375507e+03,  3.12603121e+03,  3.35746388e+01,  0.00000000e+00,\n",
      "        6.96830154e+02, -9.16127152e+02,  2.43332466e+01,  2.33012614e+01,\n",
      "        1.92426935e+01, -3.85804301e+01,  5.17743687e+00])\n",
      "shap       INFO  num_full_subsets = 1\n",
      "shap       INFO  remaining_weight_vector = array([0.20701126, 0.14490788, 0.11440096, 0.09660526, 0.08523993,\n",
      "       0.07762922, 0.07245394, 0.06900375, 0.06688056, 0.06586722])\n",
      "shap       INFO  num_paired_subset_sizes = 11\n",
      "shap       INFO  weight_left = 0.7167414131850209\n",
      "shap       INFO  np.sum(w_aug) = 23.000000000000007\n",
      "shap       INFO  np.sum(self.kernelWeights) = 1.0\n",
      "shap       INFO  phi = array([ 1.42757125e+04, -4.85744044e+03, -3.92411981e+02, -1.36588042e+02,\n",
      "        8.70290026e+02,  4.07202002e+02, -1.06132821e+03, -6.83603954e+02,\n",
      "       -7.77818126e+01, -1.45194690e+01, -1.81312802e+02, -3.20326741e+01,\n",
      "       -1.59913866e+03,  3.13592648e+03,  2.40864665e+01, -1.02473020e+01,\n",
      "        7.00992977e+02, -9.13784795e+02,  5.39495707e+01, -3.54094435e+01,\n",
      "        3.27956295e+01, -3.67422316e+01,  0.00000000e+00])\n",
      "shap       INFO  num_full_subsets = 1\n",
      "shap       INFO  remaining_weight_vector = array([0.20701126, 0.14490788, 0.11440096, 0.09660526, 0.08523993,\n",
      "       0.07762922, 0.07245394, 0.06900375, 0.06688056, 0.06586722])\n",
      "shap       INFO  num_paired_subset_sizes = 11\n",
      "shap       INFO  weight_left = 0.7167414131850209\n",
      "shap       INFO  np.sum(w_aug) = 23.000000000000004\n",
      "shap       INFO  np.sum(self.kernelWeights) = 1.0\n",
      "shap       INFO  phi = array([ 1.51811791e+04, -4.12762011e+03, -3.97743056e+02, -8.66063318e+02,\n",
      "        8.66920552e+02,  2.81084459e+02, -8.96152513e+02, -6.16613880e+01,\n",
      "       -7.20692732e+01, -1.93919221e+01, -1.76338972e+02, -8.40028706e+00,\n",
      "       -1.58790010e+03,  3.13766439e+03,  2.87282808e+01,  0.00000000e+00,\n",
      "        6.95971775e+02, -9.03000966e+02,  5.07809212e+01, -9.91346155e+01,\n",
      "        2.26235468e+01, -4.18222715e+01, -2.65924898e+00])\n",
      "shap       INFO  num_full_subsets = 1\n",
      "shap       INFO  remaining_weight_vector = array([0.20701126, 0.14490788, 0.11440096, 0.09660526, 0.08523993,\n",
      "       0.07762922, 0.07245394, 0.06900375, 0.06688056, 0.06586722])\n",
      "shap       INFO  num_paired_subset_sizes = 11\n",
      "shap       INFO  weight_left = 0.7167414131850209\n",
      "shap       INFO  np.sum(w_aug) = 23.000000000000004\n",
      "shap       INFO  np.sum(self.kernelWeights) = 1.0000000000000004\n",
      "shap       INFO  phi = array([14768.83191298, -3245.48130148,  -372.96456167,  -552.41510655,\n",
      "         758.41118584,   427.67661456,  -634.3311127 ,  -547.48757456,\n",
      "         -50.38345514,     0.        ,  -178.70908533,    99.60756416,\n",
      "       -1594.46926153,  3131.21180903,    16.71532891,   -15.00035761,\n",
      "         692.53274529,  -914.45417942,    60.11507309,  -137.26392806,\n",
      "          42.5896235 ,   -46.12254556,     0.        ])\n",
      "shap       INFO  num_full_subsets = 1\n",
      "shap       INFO  remaining_weight_vector = array([0.20701126, 0.14490788, 0.11440096, 0.09660526, 0.08523993,\n",
      "       0.07762922, 0.07245394, 0.06900375, 0.06688056, 0.06586722])\n",
      "shap       INFO  num_paired_subset_sizes = 11\n",
      "shap       INFO  weight_left = 0.7167414131850209\n",
      "shap       INFO  np.sum(w_aug) = 23.000000000000004\n",
      "shap       INFO  np.sum(self.kernelWeights) = 1.0000000000000004\n",
      "shap       INFO  phi = array([16413.00878019, -3824.46352787,  -678.72703736,  -509.37508497,\n",
      "         855.30910462,   437.73174603,  -623.64861547,  -302.19203528,\n",
      "         -31.4631011 ,    23.02001914,  -239.16108699,    89.87483892,\n",
      "       -1591.6922312 ,  3129.64171479,    28.86851066,     0.        ,\n",
      "         702.30956369,  -921.16286742,    58.61875121,  -169.00726733,\n",
      "          41.34430825,   -46.8321247 ,     0.        ])\n",
      "shap       INFO  num_full_subsets = 1\n",
      "shap       INFO  remaining_weight_vector = array([0.20701126, 0.14490788, 0.11440096, 0.09660526, 0.08523993,\n",
      "       0.07762922, 0.07245394, 0.06900375, 0.06688056, 0.06586722])\n",
      "shap       INFO  num_paired_subset_sizes = 11\n",
      "shap       INFO  weight_left = 0.7167414131850209\n",
      "shap       INFO  np.sum(w_aug) = 23.0\n",
      "shap       INFO  np.sum(self.kernelWeights) = 1.0\n",
      "shap       INFO  phi = array([ 1.29374623e+04, -2.08056853e+03, -7.44744732e+02, -1.19016603e+03,\n",
      "        8.54302876e+02,  5.13199871e+02, -8.07075245e+02,  1.15847102e+03,\n",
      "       -2.28751184e+01,  3.01636310e+01, -2.34168422e+02,  1.35652785e+01,\n",
      "       -1.59633106e+03,  3.12681348e+03,  2.36256863e+01, -9.41202799e+00,\n",
      "        7.01343639e+02, -9.17769409e+02,  4.59460062e+01, -2.05678226e+02,\n",
      "        5.07633272e+01, -3.83762577e+01,  9.46335667e+00])\n",
      "shap       INFO  num_full_subsets = 1\n",
      "shap       INFO  remaining_weight_vector = array([0.20701126, 0.14490788, 0.11440096, 0.09660526, 0.08523993,\n",
      "       0.07762922, 0.07245394, 0.06900375, 0.06688056, 0.06586722])\n",
      "shap       INFO  num_paired_subset_sizes = 11\n",
      "shap       INFO  weight_left = 0.7167414131850209\n",
      "shap       INFO  np.sum(w_aug) = 23.000000000000007\n",
      "shap       INFO  np.sum(self.kernelWeights) = 1.0000000000000002\n",
      "shap       INFO  phi = array([ 1.28316506e+04, -1.04275422e+03, -7.33217095e+02, -5.48674669e+02,\n",
      "        8.34191634e+02,  5.13505195e+02, -7.97606252e+02,  4.68608377e+02,\n",
      "       -4.55512743e+01,  1.08106663e+01, -2.30268595e+02,  1.08426761e+01,\n",
      "       -1.59770971e+03,  3.13584184e+03,  2.89596763e+01,  0.00000000e+00,\n",
      "        7.09396997e+02, -9.20478321e+02,  6.11743754e+01, -2.39587154e+02,\n",
      "        4.65667725e+01, -3.81000111e+01,  0.00000000e+00])\n",
      "shap       INFO  num_full_subsets = 1\n",
      "shap       INFO  remaining_weight_vector = array([0.20701126, 0.14490788, 0.11440096, 0.09660526, 0.08523993,\n",
      "       0.07762922, 0.07245394, 0.06900375, 0.06688056, 0.06586722])\n",
      "shap       INFO  num_paired_subset_sizes = 11\n",
      "shap       INFO  weight_left = 0.7167414131850209\n",
      "shap       INFO  np.sum(w_aug) = 23.000000000000007\n",
      "shap       INFO  np.sum(self.kernelWeights) = 1.0000000000000004\n",
      "shap       INFO  phi = array([ 2.12706123e+04, -1.65812649e+03, -9.83416958e+02, -1.22769808e+03,\n",
      "        8.16830367e+02,  4.23018161e+02, -8.68386663e+02,  1.89461299e+02,\n",
      "       -4.53480886e+01,  2.45979269e+01, -2.28823802e+02,  3.17733120e+01,\n",
      "       -1.58779324e+03,  3.12674832e+03,  2.27540416e+01, -1.06760915e+01,\n",
      "        6.98200117e+02, -9.22561812e+02,  6.46392892e+01, -2.37660771e+02,\n",
      "        4.91789606e+01, -3.84428641e+01,  3.14066177e+00])\n",
      "shap       INFO  num_full_subsets = 1\n",
      "shap       INFO  remaining_weight_vector = array([0.20701126, 0.14490788, 0.11440096, 0.09660526, 0.08523993,\n",
      "       0.07762922, 0.07245394, 0.06900375, 0.06688056, 0.06586722])\n",
      "shap       INFO  num_paired_subset_sizes = 11\n",
      "shap       INFO  weight_left = 0.7167414131850209\n",
      "shap       INFO  np.sum(w_aug) = 23.000000000000004\n",
      "shap       INFO  np.sum(self.kernelWeights) = 1.0000000000000004\n",
      "shap       INFO  phi = array([ 2.36931497e+04, -4.67619427e+03, -9.69109687e+02, -9.59520126e+02,\n",
      "        8.12160012e+02,  5.84176044e+02, -1.19145989e+03, -4.72247285e+02,\n",
      "       -4.24449533e+01,  2.95260988e+01, -2.34849887e+02,  2.28572092e+01,\n",
      "       -1.59800548e+03,  3.12558741e+03,  2.87226206e+01, -5.47154490e+00,\n",
      "        7.03107464e+02, -9.14991594e+02,  6.58118025e+01, -2.25096856e+02,\n",
      "        4.49141297e+01, -4.10774699e+01,  6.68546836e+00])\n",
      "shap       INFO  num_full_subsets = 1\n",
      "shap       INFO  remaining_weight_vector = array([0.20701126, 0.14490788, 0.11440096, 0.09660526, 0.08523993,\n",
      "       0.07762922, 0.07245394, 0.06900375, 0.06688056, 0.06586722])\n",
      "shap       INFO  num_paired_subset_sizes = 11\n",
      "shap       INFO  weight_left = 0.7167414131850209\n",
      "shap       INFO  np.sum(w_aug) = 23.000000000000004\n",
      "shap       INFO  np.sum(self.kernelWeights) = 1.0\n",
      "shap       INFO  phi = array([ 2.46748299e+04, -4.64504083e+03, -9.38028808e+02, -9.72426022e+02,\n",
      "        8.01188186e+02,  5.77395601e+02, -1.18567792e+03, -6.62171765e+02,\n",
      "       -3.01794771e+01,  2.33421699e+01, -2.32545357e+02,  0.00000000e+00,\n",
      "       -1.59560590e+03,  3.13381723e+03,  2.74569169e+01, -1.01414285e+01,\n",
      "        7.06319409e+02, -9.18086252e+02,  7.62865558e+01, -2.37391276e+02,\n",
      "        4.82514033e+01, -4.36225150e+01,  0.00000000e+00])\n",
      "shap       INFO  num_full_subsets = 1\n",
      "shap       INFO  remaining_weight_vector = array([0.20701126, 0.14490788, 0.11440096, 0.09660526, 0.08523993,\n",
      "       0.07762922, 0.07245394, 0.06900375, 0.06688056, 0.06586722])\n",
      "shap       INFO  num_paired_subset_sizes = 11\n",
      "shap       INFO  weight_left = 0.7167414131850209\n",
      "shap       INFO  np.sum(w_aug) = 23.000000000000004\n",
      "shap       INFO  np.sum(self.kernelWeights) = 1.0000000000000002\n",
      "shap       INFO  phi = array([ 2.90153742e+04, -5.04989713e+03, -1.21679131e+03, -1.56926730e+03,\n",
      "        7.90361604e+02,  5.55712253e+02, -1.18846252e+03, -3.28970320e+02,\n",
      "       -1.73351628e+01,  1.27665693e+01, -2.35559100e+02,  1.51788124e+01,\n",
      "       -1.59401699e+03,  3.13641723e+03,  4.33342422e+01,  0.00000000e+00,\n",
      "        7.03023589e+02, -9.17997968e+02,  6.97065582e+01, -2.28523676e+02,\n",
      "        4.77666602e+01, -3.71288537e+01, -8.73871198e+00])\n",
      "shap       INFO  num_full_subsets = 1\n",
      "shap       INFO  remaining_weight_vector = array([0.20701126, 0.14490788, 0.11440096, 0.09660526, 0.08523993,\n",
      "       0.07762922, 0.07245394, 0.06900375, 0.06688056, 0.06586722])\n",
      "shap       INFO  num_paired_subset_sizes = 11\n",
      "shap       INFO  weight_left = 0.7167414131850209\n",
      "shap       INFO  np.sum(w_aug) = 23.000000000000007\n",
      "shap       INFO  np.sum(self.kernelWeights) = 1.0000000000000002\n",
      "shap       INFO  phi = array([ 2.57936345e+04, -3.12737577e+03, -1.40533416e+03, -2.08249898e+03,\n",
      "        6.80232202e+02,  3.95289520e+02, -1.02756961e+03,  9.84897653e+02,\n",
      "       -8.65740746e+00,  2.47597995e+01, -2.42264332e+02,  9.63288192e+00,\n",
      "       -1.59743851e+03,  3.12411421e+03,  2.45155011e+01, -1.20503259e+01,\n",
      "        7.01178484e+02, -9.10092324e+02,  6.14173257e+01, -2.35734638e+02,\n",
      "        4.76611998e+01, -3.11623765e+01,  4.38893356e+00])\n",
      "shap       INFO  num_full_subsets = 1\n",
      "shap       INFO  remaining_weight_vector = array([0.20701126, 0.14490788, 0.11440096, 0.09660526, 0.08523993,\n",
      "       0.07762922, 0.07245394, 0.06900375, 0.06688056, 0.06586722])\n",
      "shap       INFO  num_paired_subset_sizes = 11\n",
      "shap       INFO  weight_left = 0.7167414131850209\n",
      "shap       INFO  np.sum(w_aug) = 23.000000000000007\n",
      "shap       INFO  np.sum(self.kernelWeights) = 1.0000000000000002\n",
      "shap       INFO  phi = array([ 2.20937888e+04, -6.27772948e+03, -8.99293809e+02, -9.09055937e+02,\n",
      "        5.71588967e+02,  5.67096372e+02, -8.24753343e+02, -6.95907633e+02,\n",
      "       -4.90613317e+01,  2.14836088e+01, -2.22679865e+02,  1.29441900e+01,\n",
      "       -1.59562020e+03,  3.13072905e+03,  2.34622418e+01, -5.48629510e+00,\n",
      "        7.01917576e+02, -9.14697873e+02,  6.08762000e+01, -2.35760805e+02,\n",
      "        4.54693246e+01, -3.54549130e+01,  1.44041476e+01])\n",
      "shap       INFO  num_full_subsets = 1\n",
      "shap       INFO  remaining_weight_vector = array([0.20701126, 0.14490788, 0.11440096, 0.09660526, 0.08523993,\n",
      "       0.07762922, 0.07245394, 0.06900375, 0.06688056, 0.06586722])\n",
      "shap       INFO  num_paired_subset_sizes = 11\n",
      "shap       INFO  weight_left = 0.7167414131850209\n",
      "shap       INFO  np.sum(w_aug) = 23.000000000000004\n",
      "shap       INFO  np.sum(self.kernelWeights) = 1.0000000000000004\n",
      "shap       INFO  phi = array([ 1.05908185e+04, -5.13132160e+03, -6.82755261e+02, -2.34255212e+02,\n",
      "        5.79700095e+02,  5.91748344e+02, -3.65533759e+02,  1.00192035e+02,\n",
      "       -2.55419055e+01,  2.60998962e+01, -2.36760009e+02,  0.00000000e+00,\n",
      "       -1.59716517e+03,  3.12660069e+03,  1.91964975e+01, -7.03502247e+00,\n",
      "        6.99657633e+02, -9.16315833e+02,  5.93032996e+01, -2.29358011e+02,\n",
      "        4.79915895e+01, -2.72206294e+01,  1.01000083e+01])\n",
      "shap       INFO  num_full_subsets = 1\n",
      "shap       INFO  remaining_weight_vector = array([0.20701126, 0.14490788, 0.11440096, 0.09660526, 0.08523993,\n",
      "       0.07762922, 0.07245394, 0.06900375, 0.06688056, 0.06586722])\n",
      "shap       INFO  num_paired_subset_sizes = 11\n",
      "shap       INFO  weight_left = 0.7167414131850209\n",
      "shap       INFO  np.sum(w_aug) = 23.000000000000004\n",
      "shap       INFO  np.sum(self.kernelWeights) = 1.0000000000000002\n",
      "shap       INFO  phi = array([ 1.31396957e+04, -5.01834889e+03, -9.20451416e+02, -1.10615638e+03,\n",
      "        5.98952241e+02,  5.99214899e+02, -4.78939244e+02,  1.02830914e+03,\n",
      "        1.04501165e+01,  2.01090226e+01, -2.26770235e+02,  3.73521268e+00,\n",
      "       -1.59751427e+03,  3.13465649e+03,  2.58056089e+01,  0.00000000e+00,\n",
      "        6.99260630e+02, -9.18827594e+02,  6.17044876e+01, -2.27365295e+02,\n",
      "        4.88181783e+01, -3.01226513e+01,  0.00000000e+00])\n",
      "shap       INFO  num_full_subsets = 1\n",
      "shap       INFO  remaining_weight_vector = array([0.20701126, 0.14490788, 0.11440096, 0.09660526, 0.08523993,\n",
      "       0.07762922, 0.07245394, 0.06900375, 0.06688056, 0.06586722])\n",
      "shap       INFO  num_paired_subset_sizes = 11\n",
      "shap       INFO  weight_left = 0.7167414131850209\n",
      "shap       INFO  np.sum(w_aug) = 23.000000000000007\n",
      "shap       INFO  np.sum(self.kernelWeights) = 1.0\n",
      "shap       INFO  phi = array([ 1.16463891e+04, -3.13987201e+03, -1.19782782e+03, -1.08365385e+03,\n",
      "        5.98464073e+02,  9.70779436e+02, -4.96928120e+02,  1.68403403e+03,\n",
      "        2.02841580e+01,  1.79720505e+01, -2.28051150e+02, -3.95851657e+00,\n",
      "       -1.59480414e+03,  3.14383967e+03,  3.00374304e+01, -6.94555624e+00,\n",
      "        7.03657149e+02, -9.16274591e+02,  6.82192163e+01, -2.19755281e+02,\n",
      "        2.53313749e+01, -3.32712771e+01, -1.17799734e+01])\n",
      "shap       INFO  num_full_subsets = 1\n",
      "shap       INFO  remaining_weight_vector = array([0.20701126, 0.14490788, 0.11440096, 0.09660526, 0.08523993,\n",
      "       0.07762922, 0.07245394, 0.06900375, 0.06688056, 0.06586722])\n",
      "shap       INFO  num_paired_subset_sizes = 11\n",
      "shap       INFO  weight_left = 0.7167414131850209\n",
      "shap       INFO  np.sum(w_aug) = 23.000000000000007\n",
      "shap       INFO  np.sum(self.kernelWeights) = 1.0000000000000002\n",
      "shap       INFO  phi = array([12277.31351484, -4813.42391633, -1110.38635983, -1278.19701207,\n",
      "         607.6894734 ,   884.26449159,  -977.73511088,  1779.01984227,\n",
      "           0.        ,    25.49940258,  -232.80859408,     0.        ,\n",
      "       -1593.32042849,  3131.34386107,    28.8497405 ,     0.        ,\n",
      "         702.33930559,  -909.84541396,    61.07823126,  -226.62421467,\n",
      "          47.27534978,   -46.4236963 ,     0.        ])\n",
      "shap       INFO  num_full_subsets = 1\n",
      "shap       INFO  remaining_weight_vector = array([0.20701126, 0.14490788, 0.11440096, 0.09660526, 0.08523993,\n",
      "       0.07762922, 0.07245394, 0.06900375, 0.06688056, 0.06586722])\n",
      "shap       INFO  num_paired_subset_sizes = 11\n",
      "shap       INFO  weight_left = 0.7167414131850209\n",
      "shap       INFO  np.sum(w_aug) = 23.000000000000004\n",
      "shap       INFO  np.sum(self.kernelWeights) = 1.0\n",
      "shap       INFO  phi = array([ 1.22675825e+04, -5.70584977e+03, -9.29795552e+02, -4.95048438e+02,\n",
      "        6.11473288e+02,  8.75022978e+02, -1.31678602e+03,  7.75928024e+02,\n",
      "       -1.21330270e+01,  2.25303264e+01, -2.28597070e+02,  0.00000000e+00,\n",
      "       -1.59478747e+03,  3.13828420e+03,  1.59515934e+01,  0.00000000e+00,\n",
      "        6.98276875e+02, -9.14162575e+02,  5.56905417e+01, -2.21896785e+02,\n",
      "        4.02403909e+01, -3.38066532e+01,  0.00000000e+00])\n",
      "shap       INFO  num_full_subsets = 1\n",
      "shap       INFO  remaining_weight_vector = array([0.20701126, 0.14490788, 0.11440096, 0.09660526, 0.08523993,\n",
      "       0.07762922, 0.07245394, 0.06900375, 0.06688056, 0.06586722])\n",
      "shap       INFO  num_paired_subset_sizes = 11\n",
      "shap       INFO  weight_left = 0.7167414131850209\n",
      "shap       INFO  np.sum(w_aug) = 23.000000000000007\n",
      "shap       INFO  np.sum(self.kernelWeights) = 1.0000000000000002\n",
      "shap       INFO  phi = array([ 4014.05473395, -1893.93715209,  -461.51680235,   440.27538629,\n",
      "         607.86433464,   815.81532954,  -430.99861732,   135.92447541,\n",
      "         -68.46929333,    19.21704697,  -229.08336672,     0.        ,\n",
      "       -1591.36735675,  3137.30374139,    11.79248386,     0.        ,\n",
      "         691.77753654,  -914.32243905,    69.15627184,  -230.84218382,\n",
      "          37.47750484,   -35.50390107,     0.        ])\n",
      "shap       INFO  num_full_subsets = 1\n",
      "shap       INFO  remaining_weight_vector = array([0.20701126, 0.14490788, 0.11440096, 0.09660526, 0.08523993,\n",
      "       0.07762922, 0.07245394, 0.06900375, 0.06688056, 0.06586722])\n",
      "shap       INFO  num_paired_subset_sizes = 11\n",
      "shap       INFO  weight_left = 0.7167414131850209\n",
      "shap       INFO  np.sum(w_aug) = 23.0\n",
      "shap       INFO  np.sum(self.kernelWeights) = 1.0000000000000002\n",
      "shap       INFO  phi = array([  564.76576938, -1704.53905424,  -380.87172914,   953.32082083,\n",
      "         339.40681975,   756.28970692,  -658.90209515,   -81.70290589,\n",
      "         -68.84607827,    14.61160795,  -237.60780575,     0.        ,\n",
      "       -1597.02235173,  3136.00498994,    36.86149995,   -14.82655946,\n",
      "         704.27970234,  -908.44309745,    63.61646128,  -221.70504167,\n",
      "          46.09397324,   -41.40868981,     0.        ])\n",
      "shap       INFO  num_full_subsets = 1\n",
      "shap       INFO  remaining_weight_vector = array([0.20701126, 0.14490788, 0.11440096, 0.09660526, 0.08523993,\n",
      "       0.07762922, 0.07245394, 0.06900375, 0.06688056, 0.06586722])\n",
      "shap       INFO  num_paired_subset_sizes = 11\n",
      "shap       INFO  weight_left = 0.7167414131850209\n",
      "shap       INFO  np.sum(w_aug) = 23.000000000000004\n",
      "shap       INFO  np.sum(self.kernelWeights) = 1.0\n",
      "shap       INFO  phi = array([ 1017.56544095, -1390.1731353 ,  -430.97904555,   641.83379902,\n",
      "         350.01418432,   805.79788428,  -732.15186224,   259.09701264,\n",
      "         -73.12146022,    14.68561305,  -229.18148255,    -4.65994767,\n",
      "       -1605.51249402,  3143.9267225 ,    15.82079218,   -11.77033318,\n",
      "         712.10604614,  -912.17044996,    61.57836177,  -222.46716323,\n",
      "          38.23798857,   -37.42899488,     3.29405062])\n",
      "shap       INFO  num_full_subsets = 1\n",
      "shap       INFO  remaining_weight_vector = array([0.20701126, 0.14490788, 0.11440096, 0.09660526, 0.08523993,\n",
      "       0.07762922, 0.07245394, 0.06900375, 0.06688056, 0.06586722])\n",
      "shap       INFO  num_paired_subset_sizes = 11\n",
      "shap       INFO  weight_left = 0.7167414131850209\n",
      "shap       INFO  np.sum(w_aug) = 23.000000000000004\n",
      "shap       INFO  np.sum(self.kernelWeights) = 1.0000000000000004\n",
      "shap       INFO  phi = array([ 1.45327022e+04, -4.11442721e+03, -5.08721870e+02, -3.03333243e+02,\n",
      "        3.38084952e+02,  7.56340858e+02, -7.85069946e+02, -9.07896332e+02,\n",
      "       -8.22011842e+01,  2.38491437e+01, -2.27749090e+02,  0.00000000e+00,\n",
      "       -1.59688564e+03,  3.14207592e+03,  3.18367041e+01, -7.93639195e+00,\n",
      "        7.02660874e+02, -9.14363504e+02,  5.69798896e+01, -2.26532311e+02,\n",
      "        3.21062550e+01, -3.59630682e+01,  0.00000000e+00])\n"
     ]
    },
    {
     "ename": "NameError",
     "evalue": "name 'shape_values' is not defined",
     "output_type": "error",
     "traceback": [
      "\u001b[0;31m---------------------------------------------------------------------------\u001b[0m",
      "\u001b[0;31mNameError\u001b[0m                                 Traceback (most recent call last)",
      "Cell \u001b[0;32mIn[9], line 6\u001b[0m\n\u001b[1;32m      4\u001b[0m explainer \u001b[38;5;241m=\u001b[39m shap\u001b[38;5;241m.\u001b[39mKernelExplainer(forecasting, exog_train\u001b[38;5;241m.\u001b[39miloc[\u001b[38;5;241m-\u001b[39m\u001b[38;5;241m50\u001b[39m:])\n\u001b[1;32m      5\u001b[0m shap_values \u001b[38;5;241m=\u001b[39m explainer\u001b[38;5;241m.\u001b[39mshap_values(exog_test)\n\u001b[0;32m----> 6\u001b[0m \u001b[43mshape_values\u001b[49m\n",
      "\u001b[0;31mNameError\u001b[0m: name 'shape_values' is not defined"
     ]
    }
   ],
   "source": [
    "def forecasting(X):\n",
    "    return model.forecast(steps=len(X), exog=X)\n",
    "\n",
    "explainer = shap.KernelExplainer(forecasting, exog_train.iloc[-50:])\n",
    "shap_values = explainer.shap_values(exog_test)\n",
    "shape_values"
   ]
  },
  {
   "cell_type": "code",
   "execution_count": 36,
   "id": "5a088ca0-805a-43f7-a5f3-28a96fe071aa",
   "metadata": {},
   "outputs": [
    {
     "data": {
      "image/png": "[encoded data removed]",
      "text/plain": [
       "<Figure size 800x950 with 2 Axes>"
      ]
     },
     "metadata": {},
     "output_type": "display_data"
    }
   ],
   "source": [
    "shap.summary_plot(shap_values, exog_test, plot_type=\"dot\", show=False)\n",
    "plt.savefig(\"shap_summary.png\")\n",
    "plt.show()"
   ]
  },
  {
   "cell_type": "code",
   "execution_count": 47,
   "id": "1d58d2ac-7d57-4154-8848-edd56446a663",
   "metadata": {},
   "outputs": [],
   "source": [
    "# model.summary()"
   ]
  },
  {
   "cell_type": "markdown",
   "id": "cdf2e9f5-7e34-4836-be2b-929708487a67",
   "metadata": {},
   "source": [
    "### Ablation Analysis\n",
    "\n",
    "We can easily group our features into 3 groups for ablation: electrical grid data, weather data, and exogenous variables which are both of them. We need the consumption feature regardless, so there's no dropping this in any circumstance. These are exogenous and let's see if we actually need them. \n",
    "\n",
    "\n",
    "This takes less than 30 seconds to run."
   ]
  },
  {
   "cell_type": "code",
   "execution_count": 24,
   "id": "4626d5e0-fd32-4803-8a5d-ce3ae0192611",
   "metadata": {},
   "outputs": [
    {
     "data": {
      "application/vnd.jupyter.widget-view+json": {
       "model_id": "8372ee5be03748899ba2f0a37765ac90",
       "version_major": 2,
       "version_minor": 0
      },
      "text/plain": [
       "  0%|          | 0/3 [00:00<?, ?it/s]"
      ]
     },
     "metadata": {},
     "output_type": "display_data"
    }
   ],
   "source": [
    "ablated_features = [\n",
    "    ['net_generation', 'total_interchange', 'net_generation_coal',\n",
    "       'net_generation_natural_gas', 'net_generation_nuclear',\n",
    "       'net_generation_hydropower_and_pumped_storage', 'net_generation_solar',\n",
    "       'net_generation_wind'],\n",
    "    ['DAPR', 'MDPR', 'PRCP', 'SN52', 'SN53', 'SNOW', 'SNWD', 'SX52', 'SX53', 'TMAX',\n",
    "       'TMIN', 'TOBS', 'WESD', 'WSFG', 'WT01', 'WT03', 'WT11'],\n",
    "    ['net_generation', 'total_interchange', 'net_generation_coal',\n",
    "       'net_generation_natural_gas', 'net_generation_nuclear',\n",
    "       'net_generation_hydropower_and_pumped_storage', 'net_generation_solar',\n",
    "       'net_generation_wind', 'net_generation_other_fuel_sources', 'DAPR',\n",
    "       'MDPR', 'PRCP', 'SN52', 'SN53', 'SNOW', 'SNWD', 'SX52', 'SX53', 'TMAX',\n",
    "       'TMIN', 'TOBS', 'WESD', 'WSFG', 'WT01', 'WT03', 'WT11']\n",
    "]\n",
    "btss = BlockingTimeSeriesSplit(n_splits=5, val_size=0.2)\n",
    "objectives = []\n",
    "stds = []\n",
    "for ablate in tqdm(ablated_features):\n",
    "    maes = []\n",
    "    for i, (x, y) in enumerate(btss.split(train)):\n",
    "        endog_train = train.loc[x, 'consumption'].reset_index(drop=True).astype(float)\n",
    "        endog_val = train.loc[y, 'consumption'].reset_index(drop=True).astype(float)\n",
    "        if len(ablate) != len(train.columns) - 2:\n",
    "            exog_train = train.loc[x].drop(['date', 'consumption'] + ablate, axis=1).reset_index(drop=True)\n",
    "            exog_val = train.loc[y].drop(['date', 'consumption'] + ablate, axis=1).reset_index(drop=True)\n",
    "        else:\n",
    "            exog_train = None\n",
    "            exog_val = None\n",
    "        model = ARIMA(endog_train, exog_train, order=order).fit()\n",
    "        predictions = model.forecast(steps=len(endog_val), exog=exog_val)\n",
    "        maes.append(mean_absolute_error(predictions, endog_val))\n",
    "    objectives.append(np.mean(maes))\n",
    "    stds.append(np.std(maes))"
   ]
  },
  {
   "cell_type": "code",
   "execution_count": 25,
   "id": "b94ce6db-cf30-416f-9cef-b8b6c00964e5",
   "metadata": {},
   "outputs": [
    {
     "name": "stdout",
     "output_type": "stream",
     "text": [
      "Drop Grid data\t Mean: 16338.987550249914\t Standard Deviation: 5029.5118112639375\n",
      "Drop Weather data\t Mean: 10476.834331463933\t Standard Deviation: 916.0526267047969\n",
      "All Exogs\t Mean: 22836.740992546016\t Standard Deviation: 12595.483925184828\n"
     ]
    }
   ],
   "source": [
    "for ablate, obj, std in zip(['Drop Grid data', 'Drop Weather data', 'All Exogs'], objectives, stds):\n",
    "    print(f\"{ablate}\\t Mean: {obj}\\t Standard Deviation: {std}\")"
   ]
  },
  {
   "cell_type": "markdown",
   "id": "8758042c-96ce-42e6-89b4-c6874fc505da",
   "metadata": {},
   "source": [
    "### Sensitivity Analysis\n",
    "\n",
    "Hyperparameters for the ARIMA model lie in the P, D, Q scheme of choices. We will explore how each varies and plot it. There will be a 3d plot at the end that is recommended to explore. This functions off of the quantile ranges where it's also recommended to configure different values. Please note the errors and scale of the 3d plot when configuring different runs. Run the `alt_orders` cell once to complete this.\n",
    "\n",
    "Getting the orders of each takes around 1 hour to run."
   ]
  },
  {
   "cell_type": "code",
   "execution_count": 115,
   "id": "80fcb26a-2acc-4814-8049-721a5c7dc234",
   "metadata": {},
   "outputs": [
    {
     "data": {
      "text/plain": [
       "(3, 1, 4)"
      ]
     },
     "execution_count": 115,
     "metadata": {},
     "output_type": "execute_result"
    }
   ],
   "source": [
    "order"
   ]
  },
  {
   "cell_type": "code",
   "execution_count": 116,
   "id": "53e83504-0fce-412b-bb35-427c794607eb",
   "metadata": {},
   "outputs": [],
   "source": [
    "def generate_alt_orders(orders, max_diff: int):\n",
    "    P, D, Q = orders\n",
    "    Ps = range(max(P-max_diff, 0), P+max_diff)\n",
    "    Ds = range(max(D-max_diff, 0), D+max_diff)\n",
    "    Qs = range(max(Q-max_diff, 0), Q+max_diff)\n",
    "    return list(itertools.product(Ps, Qs, Ds))"
   ]
  },
  {
   "cell_type": "code",
   "execution_count": 117,
   "id": "427206ed-2615-47c3-9ce1-59449f7dd2ac",
   "metadata": {},
   "outputs": [
    {
     "data": {
      "application/vnd.jupyter.widget-view+json": {
       "model_id": "bde89e4d73b44ee6b75e9c853fd085a7",
       "version_major": 2,
       "version_minor": 0
      },
      "text/plain": [
       "  0%|          | 0/432 [00:00<?, ?it/s]"
      ]
     },
     "metadata": {},
     "output_type": "display_data"
    },
    {
     "name": "stdout",
     "output_type": "stream",
     "text": [
      "(0, 0, 0) A constant trend was included in the model specification, but the `exog` data already contains a column of constants.\n",
      "(0, 0, 1) A constant trend was included in the model specification, but the `exog` data already contains a column of constants.\n",
      "(0, 0, 2) A constant trend was included in the model specification, but the `exog` data already contains a column of constants.\n",
      "(0, 0, 3) A constant trend was included in the model specification, but the `exog` data already contains a column of constants.\n",
      "(0, 0, 4) A constant trend was included in the model specification, but the `exog` data already contains a column of constants.\n",
      "(0, 0, 5) A constant trend was included in the model specification, but the `exog` data already contains a column of constants.\n",
      "(1, 0, 0) A constant trend was included in the model specification, but the `exog` data already contains a column of constants.\n",
      "(1, 0, 1) A constant trend was included in the model specification, but the `exog` data already contains a column of constants.\n",
      "(1, 0, 2) A constant trend was included in the model specification, but the `exog` data already contains a column of constants.\n",
      "(1, 0, 3) A constant trend was included in the model specification, but the `exog` data already contains a column of constants.\n",
      "(1, 0, 4) A constant trend was included in the model specification, but the `exog` data already contains a column of constants.\n",
      "(1, 0, 5) A constant trend was included in the model specification, but the `exog` data already contains a column of constants.\n",
      "(2, 0, 0) A constant trend was included in the model specification, but the `exog` data already contains a column of constants.\n",
      "(2, 0, 1) A constant trend was included in the model specification, but the `exog` data already contains a column of constants.\n",
      "(2, 0, 2) A constant trend was included in the model specification, but the `exog` data already contains a column of constants.\n",
      "(2, 0, 3) A constant trend was included in the model specification, but the `exog` data already contains a column of constants.\n",
      "(2, 0, 4) A constant trend was included in the model specification, but the `exog` data already contains a column of constants.\n",
      "(2, 0, 5) A constant trend was included in the model specification, but the `exog` data already contains a column of constants.\n",
      "(3, 0, 0) A constant trend was included in the model specification, but the `exog` data already contains a column of constants.\n",
      "(3, 0, 1) A constant trend was included in the model specification, but the `exog` data already contains a column of constants.\n",
      "(3, 0, 2) A constant trend was included in the model specification, but the `exog` data already contains a column of constants.\n",
      "(3, 0, 3) A constant trend was included in the model specification, but the `exog` data already contains a column of constants.\n",
      "(3, 0, 4) A constant trend was included in the model specification, but the `exog` data already contains a column of constants.\n",
      "(3, 0, 5) A constant trend was included in the model specification, but the `exog` data already contains a column of constants.\n",
      "(4, 0, 0) A constant trend was included in the model specification, but the `exog` data already contains a column of constants.\n",
      "(4, 0, 1) A constant trend was included in the model specification, but the `exog` data already contains a column of constants.\n",
      "(4, 0, 2) A constant trend was included in the model specification, but the `exog` data already contains a column of constants.\n",
      "(4, 0, 3) A constant trend was included in the model specification, but the `exog` data already contains a column of constants.\n",
      "(4, 0, 4) A constant trend was included in the model specification, but the `exog` data already contains a column of constants.\n",
      "(4, 0, 5) A constant trend was included in the model specification, but the `exog` data already contains a column of constants.\n",
      "(5, 0, 0) A constant trend was included in the model specification, but the `exog` data already contains a column of constants.\n",
      "(5, 0, 1) A constant trend was included in the model specification, but the `exog` data already contains a column of constants.\n",
      "(5, 0, 2) A constant trend was included in the model specification, but the `exog` data already contains a column of constants.\n",
      "(5, 0, 3) A constant trend was included in the model specification, but the `exog` data already contains a column of constants.\n",
      "(5, 0, 4) A constant trend was included in the model specification, but the `exog` data already contains a column of constants.\n",
      "(5, 0, 5) A constant trend was included in the model specification, but the `exog` data already contains a column of constants.\n",
      "(5, 6, 2) LU decomposition error.\n",
      "(5, 7, 4) LU decomposition error.\n",
      "(6, 0, 0) A constant trend was included in the model specification, but the `exog` data already contains a column of constants.\n",
      "(6, 0, 1) A constant trend was included in the model specification, but the `exog` data already contains a column of constants.\n",
      "(6, 0, 2) A constant trend was included in the model specification, but the `exog` data already contains a column of constants.\n",
      "(6, 0, 3) A constant trend was included in the model specification, but the `exog` data already contains a column of constants.\n",
      "(6, 0, 4) A constant trend was included in the model specification, but the `exog` data already contains a column of constants.\n",
      "(6, 0, 5) A constant trend was included in the model specification, but the `exog` data already contains a column of constants.\n",
      "(7, 0, 0) A constant trend was included in the model specification, but the `exog` data already contains a column of constants.\n",
      "(7, 0, 1) A constant trend was included in the model specification, but the `exog` data already contains a column of constants.\n",
      "(7, 0, 2) A constant trend was included in the model specification, but the `exog` data already contains a column of constants.\n",
      "(7, 0, 3) A constant trend was included in the model specification, but the `exog` data already contains a column of constants.\n",
      "(7, 0, 4) A constant trend was included in the model specification, but the `exog` data already contains a column of constants.\n",
      "(7, 0, 5) A constant trend was included in the model specification, but the `exog` data already contains a column of constants.\n"
     ]
    }
   ],
   "source": [
    "alt_orders = generate_alt_orders(order, 5)\n",
    "btss = BlockingTimeSeriesSplit(n_splits=5, val_size=0.2)\n",
    "searched_orders = {}\n",
    "for ods in tqdm(alt_orders):\n",
    "    maes = []\n",
    "    try:\n",
    "        for i, (x, y) in enumerate(btss.split(train)):\n",
    "            endog_train = train.loc[x, 'consumption'].reset_index(drop=True).astype(float)\n",
    "            endog_val = train.loc[y, 'consumption'].reset_index(drop=True).astype(float)\n",
    "            exog_train = train.loc[x].drop(['date', 'consumption'], axis=1).reset_index(drop=True)\n",
    "            exog_val = train.loc[y].drop(['date', 'consumption'], axis=1).reset_index(drop=True)\n",
    "            model = ARIMA(endog_train, exog_train, order=ods).fit()\n",
    "            predictions = model.forecast(steps=len(endog_val), exog=exog_val)\n",
    "            maes.append(mean_absolute_error(predictions, endog_val))\n",
    "        searched_orders[ods] = {'mean': np.mean(maes), 'std': np.std(maes)}\n",
    "    except Exception as e:\n",
    "        print(ods, e)"
   ]
  },
  {
   "cell_type": "code",
   "execution_count": 124,
   "id": "ddb90f0e-7be9-4412-9471-465971d7086f",
   "metadata": {},
   "outputs": [
    {
     "data": {
      "text/html": [
       "<div>\n",
       "<style scoped>\n",
       "    .dataframe tbody tr th:only-of-type {\n",
       "        vertical-align: middle;\n",
       "    }\n",
       "\n",
       "    .dataframe tbody tr th {\n",
       "        vertical-align: top;\n",
       "    }\n",
       "\n",
       "    .dataframe thead th {\n",
       "        text-align: right;\n",
       "    }\n",
       "</style>\n",
       "<table border=\"1\" class=\"dataframe\">\n",
       "  <thead>\n",
       "    <tr style=\"text-align: right;\">\n",
       "      <th></th>\n",
       "      <th>P</th>\n",
       "      <th>Q</th>\n",
       "      <th>D</th>\n",
       "      <th>means</th>\n",
       "      <th>stds</th>\n",
       "    </tr>\n",
       "  </thead>\n",
       "  <tbody>\n",
       "    <tr>\n",
       "      <th>0</th>\n",
       "      <td>0</td>\n",
       "      <td>1</td>\n",
       "      <td>0</td>\n",
       "      <td>9.153151e+03</td>\n",
       "      <td>1.018709e+03</td>\n",
       "    </tr>\n",
       "    <tr>\n",
       "      <th>1</th>\n",
       "      <td>0</td>\n",
       "      <td>1</td>\n",
       "      <td>1</td>\n",
       "      <td>9.208061e+03</td>\n",
       "      <td>1.013690e+03</td>\n",
       "    </tr>\n",
       "    <tr>\n",
       "      <th>2</th>\n",
       "      <td>0</td>\n",
       "      <td>1</td>\n",
       "      <td>2</td>\n",
       "      <td>9.186833e+03</td>\n",
       "      <td>9.937148e+02</td>\n",
       "    </tr>\n",
       "    <tr>\n",
       "      <th>3</th>\n",
       "      <td>0</td>\n",
       "      <td>1</td>\n",
       "      <td>3</td>\n",
       "      <td>9.118336e+03</td>\n",
       "      <td>9.990414e+02</td>\n",
       "    </tr>\n",
       "    <tr>\n",
       "      <th>4</th>\n",
       "      <td>0</td>\n",
       "      <td>1</td>\n",
       "      <td>4</td>\n",
       "      <td>9.048036e+03</td>\n",
       "      <td>1.043332e+03</td>\n",
       "    </tr>\n",
       "    <tr>\n",
       "      <th>...</th>\n",
       "      <td>...</td>\n",
       "      <td>...</td>\n",
       "      <td>...</td>\n",
       "      <td>...</td>\n",
       "      <td>...</td>\n",
       "    </tr>\n",
       "    <tr>\n",
       "      <th>377</th>\n",
       "      <td>7</td>\n",
       "      <td>8</td>\n",
       "      <td>1</td>\n",
       "      <td>1.196006e+19</td>\n",
       "      <td>2.392012e+19</td>\n",
       "    </tr>\n",
       "    <tr>\n",
       "      <th>378</th>\n",
       "      <td>7</td>\n",
       "      <td>8</td>\n",
       "      <td>2</td>\n",
       "      <td>1.315361e+10</td>\n",
       "      <td>1.089287e+10</td>\n",
       "    </tr>\n",
       "    <tr>\n",
       "      <th>379</th>\n",
       "      <td>7</td>\n",
       "      <td>8</td>\n",
       "      <td>3</td>\n",
       "      <td>1.815019e+10</td>\n",
       "      <td>1.615459e+10</td>\n",
       "    </tr>\n",
       "    <tr>\n",
       "      <th>380</th>\n",
       "      <td>7</td>\n",
       "      <td>8</td>\n",
       "      <td>4</td>\n",
       "      <td>3.339613e+10</td>\n",
       "      <td>1.326565e+10</td>\n",
       "    </tr>\n",
       "    <tr>\n",
       "      <th>381</th>\n",
       "      <td>7</td>\n",
       "      <td>8</td>\n",
       "      <td>5</td>\n",
       "      <td>2.162496e+09</td>\n",
       "      <td>9.649265e+08</td>\n",
       "    </tr>\n",
       "  </tbody>\n",
       "</table>\n",
       "<p>382 rows × 5 columns</p>\n",
       "</div>"
      ],
      "text/plain": [
       "     P  Q  D         means          stds\n",
       "0    0  1  0  9.153151e+03  1.018709e+03\n",
       "1    0  1  1  9.208061e+03  1.013690e+03\n",
       "2    0  1  2  9.186833e+03  9.937148e+02\n",
       "3    0  1  3  9.118336e+03  9.990414e+02\n",
       "4    0  1  4  9.048036e+03  1.043332e+03\n",
       "..  .. .. ..           ...           ...\n",
       "377  7  8  1  1.196006e+19  2.392012e+19\n",
       "378  7  8  2  1.315361e+10  1.089287e+10\n",
       "379  7  8  3  1.815019e+10  1.615459e+10\n",
       "380  7  8  4  3.339613e+10  1.326565e+10\n",
       "381  7  8  5  2.162496e+09  9.649265e+08\n",
       "\n",
       "[382 rows x 5 columns]"
      ]
     },
     "execution_count": 124,
     "metadata": {},
     "output_type": "execute_result"
    }
   ],
   "source": [
    "P = [P for P, Q, D in searched_orders.keys()]\n",
    "Q = [Q for P, Q, D in searched_orders.keys()]\n",
    "D = [D for P, Q, D in searched_orders.keys()]\n",
    "means = [val['mean'] for val in searched_orders.values()]\n",
    "stds = [val['std'] for val in searched_orders.values()]\n",
    "sens_df = pd.DataFrame(zip(P, Q, D, means, stds), columns=['P', 'Q', 'D', 'means', 'stds'])\n",
    "sens_df"
   ]
  },
  {
   "cell_type": "code",
   "execution_count": 147,
   "id": "5a99afd6-6cd2-4fa9-8c8f-1be4de27f07a",
   "metadata": {},
   "outputs": [
    {
     "data": {
      "application/vnd.plotly.v1+json": {
       "config": {
        "plotlyServerURL": "https://plot.ly"
       },
       "data": [
        {
         "fillcolor": "rgba(255,0,0,0)",
         "showlegend": false,
         "type": "scatter",
         "x": [
          0,
          1,
          2,
          3,
          4,
          5
         ],
         "y": [
          9210.73292428942,
          9194.16476739127,
          9167.630382492473,
          9080.031372135325,
          9044.060945955373,
          9142.3403177169
         ]
        },
        {
         "fill": "toself",
         "fillcolor": "rgba(255,100,80,0.2)",
         "hoverinfo": "skip",
         "line": {
          "color": "rgba(255,255,255,0)"
         },
         "showlegend": false,
         "type": "scatter",
         "x": [
          0,
          1,
          2,
          3,
          4,
          5,
          5,
          4,
          3,
          2,
          1,
          0
         ],
         "y": [
          10224.896206752626,
          10195.641648134002,
          10147.705839888302,
          10102.310190145894,
          10090.283039697977,
          10116.481089727013,
          8168.199545706788,
          7997.838852212767,
          8057.752554124756,
          8187.554925096643,
          8192.687886648539,
          8196.569641826212
         ]
        }
       ],
       "layout": {
        "autosize": true,
        "template": {
         "data": {
          "bar": [
           {
            "error_x": {
             "color": "#2a3f5f"
            },
            "error_y": {
             "color": "#2a3f5f"
            },
            "marker": {
             "line": {
              "color": "#E5ECF6",
              "width": 0.5
             },
             "pattern": {
              "fillmode": "overlay",
              "size": 10,
              "solidity": 0.2
             }
            },
            "type": "bar"
           }
          ],
          "barpolar": [
           {
            "marker": {
             "line": {
              "color": "#E5ECF6",
              "width": 0.5
             },
             "pattern": {
              "fillmode": "overlay",
              "size": 10,
              "solidity": 0.2
             }
            },
            "type": "barpolar"
           }
          ],
          "carpet": [
           {
            "aaxis": {
             "endlinecolor": "#2a3f5f",
             "gridcolor": "white",
             "linecolor": "white",
             "minorgridcolor": "white",
             "startlinecolor": "#2a3f5f"
            },
            "baxis": {
             "endlinecolor": "#2a3f5f",
             "gridcolor": "white",
             "linecolor": "white",
             "minorgridcolor": "white",
             "startlinecolor": "#2a3f5f"
            },
            "type": "carpet"
           }
          ],
          "choropleth": [
           {
            "colorbar": {
             "outlinewidth": 0,
             "ticks": ""
            },
            "type": "choropleth"
           }
          ],
          "contour": [
           {
            "colorbar": {
             "outlinewidth": 0,
             "ticks": ""
            },
            "colorscale": [
             [
              0,
              "#0d0887"
             ],
             [
              0.1111111111111111,
              "#46039f"
             ],
             [
              0.2222222222222222,
              "#7201a8"
             ],
             [
              0.3333333333333333,
              "#9c179e"
             ],
             [
              0.4444444444444444,
              "#bd3786"
             ],
             [
              0.5555555555555556,
              "#d8576b"
             ],
             [
              0.6666666666666666,
              "#ed7953"
             ],
             [
              0.7777777777777778,
              "#fb9f3a"
             ],
             [
              0.8888888888888888,
              "#fdca26"
             ],
             [
              1,
              "#f0f921"
             ]
            ],
            "type": "contour"
           }
          ],
          "contourcarpet": [
           {
            "colorbar": {
             "outlinewidth": 0,
             "ticks": ""
            },
            "type": "contourcarpet"
           }
          ],
          "heatmap": [
           {
            "colorbar": {
             "outlinewidth": 0,
             "ticks": ""
            },
            "colorscale": [
             [
              0,
              "#0d0887"
             ],
             [
              0.1111111111111111,
              "#46039f"
             ],
             [
              0.2222222222222222,
              "#7201a8"
             ],
             [
              0.3333333333333333,
              "#9c179e"
             ],
             [
              0.4444444444444444,
              "#bd3786"
             ],
             [
              0.5555555555555556,
              "#d8576b"
             ],
             [
              0.6666666666666666,
              "#ed7953"
             ],
             [
              0.7777777777777778,
              "#fb9f3a"
             ],
             [
              0.8888888888888888,
              "#fdca26"
             ],
             [
              1,
              "#f0f921"
             ]
            ],
            "type": "heatmap"
           }
          ],
          "heatmapgl": [
           {
            "colorbar": {
             "outlinewidth": 0,
             "ticks": ""
            },
            "colorscale": [
             [
              0,
              "#0d0887"
             ],
             [
              0.1111111111111111,
              "#46039f"
             ],
             [
              0.2222222222222222,
              "#7201a8"
             ],
             [
              0.3333333333333333,
              "#9c179e"
             ],
             [
              0.4444444444444444,
              "#bd3786"
             ],
             [
              0.5555555555555556,
              "#d8576b"
             ],
             [
              0.6666666666666666,
              "#ed7953"
             ],
             [
              0.7777777777777778,
              "#fb9f3a"
             ],
             [
              0.8888888888888888,
              "#fdca26"
             ],
             [
              1,
              "#f0f921"
             ]
            ],
            "type": "heatmapgl"
           }
          ],
          "histogram": [
           {
            "marker": {
             "pattern": {
              "fillmode": "overlay",
              "size": 10,
              "solidity": 0.2
             }
            },
            "type": "histogram"
           }
          ],
          "histogram2d": [
           {
            "colorbar": {
             "outlinewidth": 0,
             "ticks": ""
            },
            "colorscale": [
             [
              0,
              "#0d0887"
             ],
             [
              0.1111111111111111,
              "#46039f"
             ],
             [
              0.2222222222222222,
              "#7201a8"
             ],
             [
              0.3333333333333333,
              "#9c179e"
             ],
             [
              0.4444444444444444,
              "#bd3786"
             ],
             [
              0.5555555555555556,
              "#d8576b"
             ],
             [
              0.6666666666666666,
              "#ed7953"
             ],
             [
              0.7777777777777778,
              "#fb9f3a"
             ],
             [
              0.8888888888888888,
              "#fdca26"
             ],
             [
              1,
              "#f0f921"
             ]
            ],
            "type": "histogram2d"
           }
          ],
          "histogram2dcontour": [
           {
            "colorbar": {
             "outlinewidth": 0,
             "ticks": ""
            },
            "colorscale": [
             [
              0,
              "#0d0887"
             ],
             [
              0.1111111111111111,
              "#46039f"
             ],
             [
              0.2222222222222222,
              "#7201a8"
             ],
             [
              0.3333333333333333,
              "#9c179e"
             ],
             [
              0.4444444444444444,
              "#bd3786"
             ],
             [
              0.5555555555555556,
              "#d8576b"
             ],
             [
              0.6666666666666666,
              "#ed7953"
             ],
             [
              0.7777777777777778,
              "#fb9f3a"
             ],
             [
              0.8888888888888888,
              "#fdca26"
             ],
             [
              1,
              "#f0f921"
             ]
            ],
            "type": "histogram2dcontour"
           }
          ],
          "mesh3d": [
           {
            "colorbar": {
             "outlinewidth": 0,
             "ticks": ""
            },
            "type": "mesh3d"
           }
          ],
          "parcoords": [
           {
            "line": {
             "colorbar": {
              "outlinewidth": 0,
              "ticks": ""
             }
            },
            "type": "parcoords"
           }
          ],
          "pie": [
           {
            "automargin": true,
            "type": "pie"
           }
          ],
          "scatter": [
           {
            "fillpattern": {
             "fillmode": "overlay",
             "size": 10,
             "solidity": 0.2
            },
            "type": "scatter"
           }
          ],
          "scatter3d": [
           {
            "line": {
             "colorbar": {
              "outlinewidth": 0,
              "ticks": ""
             }
            },
            "marker": {
             "colorbar": {
              "outlinewidth": 0,
              "ticks": ""
             }
            },
            "type": "scatter3d"
           }
          ],
          "scattercarpet": [
           {
            "marker": {
             "colorbar": {
              "outlinewidth": 0,
              "ticks": ""
             }
            },
            "type": "scattercarpet"
           }
          ],
          "scattergeo": [
           {
            "marker": {
             "colorbar": {
              "outlinewidth": 0,
              "ticks": ""
             }
            },
            "type": "scattergeo"
           }
          ],
          "scattergl": [
           {
            "marker": {
             "colorbar": {
              "outlinewidth": 0,
              "ticks": ""
             }
            },
            "type": "scattergl"
           }
          ],
          "scattermapbox": [
           {
            "marker": {
             "colorbar": {
              "outlinewidth": 0,
              "ticks": ""
             }
            },
            "type": "scattermapbox"
           }
          ],
          "scatterpolar": [
           {
            "marker": {
             "colorbar": {
              "outlinewidth": 0,
              "ticks": ""
             }
            },
            "type": "scatterpolar"
           }
          ],
          "scatterpolargl": [
           {
            "marker": {
             "colorbar": {
              "outlinewidth": 0,
              "ticks": ""
             }
            },
            "type": "scatterpolargl"
           }
          ],
          "scatterternary": [
           {
            "marker": {
             "colorbar": {
              "outlinewidth": 0,
              "ticks": ""
             }
            },
            "type": "scatterternary"
           }
          ],
          "surface": [
           {
            "colorbar": {
             "outlinewidth": 0,
             "ticks": ""
            },
            "colorscale": [
             [
              0,
              "#0d0887"
             ],
             [
              0.1111111111111111,
              "#46039f"
             ],
             [
              0.2222222222222222,
              "#7201a8"
             ],
             [
              0.3333333333333333,
              "#9c179e"
             ],
             [
              0.4444444444444444,
              "#bd3786"
             ],
             [
              0.5555555555555556,
              "#d8576b"
             ],
             [
              0.6666666666666666,
              "#ed7953"
             ],
             [
              0.7777777777777778,
              "#fb9f3a"
             ],
             [
              0.8888888888888888,
              "#fdca26"
             ],
             [
              1,
              "#f0f921"
             ]
            ],
            "type": "surface"
           }
          ],
          "table": [
           {
            "cells": {
             "fill": {
              "color": "#EBF0F8"
             },
             "line": {
              "color": "white"
             }
            },
            "header": {
             "fill": {
              "color": "#C8D4E3"
             },
             "line": {
              "color": "white"
             }
            },
            "type": "table"
           }
          ]
         },
         "layout": {
          "annotationdefaults": {
           "arrowcolor": "#2a3f5f",
           "arrowhead": 0,
           "arrowwidth": 1
          },
          "autotypenumbers": "strict",
          "coloraxis": {
           "colorbar": {
            "outlinewidth": 0,
            "ticks": ""
           }
          },
          "colorscale": {
           "diverging": [
            [
             0,
             "#8e0152"
            ],
            [
             0.1,
             "#c51b7d"
            ],
            [
             0.2,
             "#de77ae"
            ],
            [
             0.3,
             "#f1b6da"
            ],
            [
             0.4,
             "#fde0ef"
            ],
            [
             0.5,
             "#f7f7f7"
            ],
            [
             0.6,
             "#e6f5d0"
            ],
            [
             0.7,
             "#b8e186"
            ],
            [
             0.8,
             "#7fbc41"
            ],
            [
             0.9,
             "#4d9221"
            ],
            [
             1,
             "#276419"
            ]
           ],
           "sequential": [
            [
             0,
             "#0d0887"
            ],
            [
             0.1111111111111111,
             "#46039f"
            ],
            [
             0.2222222222222222,
             "#7201a8"
            ],
            [
             0.3333333333333333,
             "#9c179e"
            ],
            [
             0.4444444444444444,
             "#bd3786"
            ],
            [
             0.5555555555555556,
             "#d8576b"
            ],
            [
             0.6666666666666666,
             "#ed7953"
            ],
            [
             0.7777777777777778,
             "#fb9f3a"
            ],
            [
             0.8888888888888888,
             "#fdca26"
            ],
            [
             1,
             "#f0f921"
            ]
           ],
           "sequentialminus": [
            [
             0,
             "#0d0887"
            ],
            [
             0.1111111111111111,
             "#46039f"
            ],
            [
             0.2222222222222222,
             "#7201a8"
            ],
            [
             0.3333333333333333,
             "#9c179e"
            ],
            [
             0.4444444444444444,
             "#bd3786"
            ],
            [
             0.5555555555555556,
             "#d8576b"
            ],
            [
             0.6666666666666666,
             "#ed7953"
            ],
            [
             0.7777777777777778,
             "#fb9f3a"
            ],
            [
             0.8888888888888888,
             "#fdca26"
            ],
            [
             1,
             "#f0f921"
            ]
           ]
          },
          "colorway": [
           "#636efa",
           "#EF553B",
           "#00cc96",
           "#ab63fa",
           "#FFA15A",
           "#19d3f3",
           "#FF6692",
           "#B6E880",
           "#FF97FF",
           "#FECB52"
          ],
          "font": {
           "color": "#2a3f5f"
          },
          "geo": {
           "bgcolor": "white",
           "lakecolor": "white",
           "landcolor": "#E5ECF6",
           "showlakes": true,
           "showland": true,
           "subunitcolor": "white"
          },
          "hoverlabel": {
           "align": "left"
          },
          "hovermode": "closest",
          "mapbox": {
           "style": "light"
          },
          "paper_bgcolor": "white",
          "plot_bgcolor": "#E5ECF6",
          "polar": {
           "angularaxis": {
            "gridcolor": "white",
            "linecolor": "white",
            "ticks": ""
           },
           "bgcolor": "#E5ECF6",
           "radialaxis": {
            "gridcolor": "white",
            "linecolor": "white",
            "ticks": ""
           }
          },
          "scene": {
           "xaxis": {
            "backgroundcolor": "#E5ECF6",
            "gridcolor": "white",
            "gridwidth": 2,
            "linecolor": "white",
            "showbackground": true,
            "ticks": "",
            "zerolinecolor": "white"
           },
           "yaxis": {
            "backgroundcolor": "#E5ECF6",
            "gridcolor": "white",
            "gridwidth": 2,
            "linecolor": "white",
            "showbackground": true,
            "ticks": "",
            "zerolinecolor": "white"
           },
           "zaxis": {
            "backgroundcolor": "#E5ECF6",
            "gridcolor": "white",
            "gridwidth": 2,
            "linecolor": "white",
            "showbackground": true,
            "ticks": "",
            "zerolinecolor": "white"
           }
          },
          "shapedefaults": {
           "line": {
            "color": "#2a3f5f"
           }
          },
          "ternary": {
           "aaxis": {
            "gridcolor": "white",
            "linecolor": "white",
            "ticks": ""
           },
           "baxis": {
            "gridcolor": "white",
            "linecolor": "white",
            "ticks": ""
           },
           "bgcolor": "#E5ECF6",
           "caxis": {
            "gridcolor": "white",
            "linecolor": "white",
            "ticks": ""
           }
          },
          "title": {
           "x": 0.05
          },
          "xaxis": {
           "automargin": true,
           "gridcolor": "white",
           "linecolor": "white",
           "ticks": "",
           "title": {
            "standoff": 15
           },
           "zerolinecolor": "white",
           "zerolinewidth": 2
          },
          "yaxis": {
           "automargin": true,
           "gridcolor": "white",
           "linecolor": "white",
           "ticks": "",
           "title": {
            "standoff": 15
           },
           "zerolinecolor": "white",
           "zerolinewidth": 2
          }
         }
        },
        "title": {
         "text": "Sensitivity of Differentiation (P=1, Q=1)",
         "x": 0.5,
         "xanchor": "center",
         "y": 0.85
        },
        "xaxis": {
         "autorange": true,
         "range": [
          -0.3025970931617822,
          5.302597093161782
         ],
         "title": {
          "text": "Differentiation"
         },
         "type": "linear"
        },
        "yaxis": {
         "autorange": true,
         "range": [
          7814.05256567307,
          10408.682493292323
         ],
         "title": {
          "text": "MAE (MWh)"
         },
         "type": "linear"
        }
       }
      },
      "image/png": "[encoded data removed]",
      "text/html": [
       "<div>                            <div id=\"5e78f29f-198e-4569-ad77-2cb62b5c50c6\" class=\"plotly-graph-div\" style=\"height:525px; width:100%;\"></div>            <script type=\"text/javascript\">                require([\"plotly\"], function(Plotly) {                    window.PLOTLYENV=window.PLOTLYENV || {};                                    if (document.getElementById(\"5e78f29f-198e-4569-ad77-2cb62b5c50c6\")) {                    Plotly.newPlot(                        \"5e78f29f-198e-4569-ad77-2cb62b5c50c6\",                        [{\"fillcolor\":\"rgba(255,0,0,0)\",\"showlegend\":false,\"x\":[0,1,2,3,4,5],\"y\":[9210.73292428942,9194.16476739127,9167.630382492473,9080.031372135325,9044.060945955373,9142.3403177169],\"type\":\"scatter\"},{\"fill\":\"toself\",\"fillcolor\":\"rgba(255,100,80,0.2)\",\"hoverinfo\":\"skip\",\"line\":{\"color\":\"rgba(255,255,255,0)\"},\"showlegend\":false,\"x\":[0,1,2,3,4,5,5,4,3,2,1,0],\"y\":[10224.896206752626,10195.641648134002,10147.705839888302,10102.310190145894,10090.283039697977,10116.481089727013,8168.199545706788,7997.838852212767,8057.752554124756,8187.554925096643,8192.687886648539,8196.569641826212],\"type\":\"scatter\"}],                        {\"template\":{\"data\":{\"histogram2dcontour\":[{\"type\":\"histogram2dcontour\",\"colorbar\":{\"outlinewidth\":0,\"ticks\":\"\"},\"colorscale\":[[0.0,\"#0d0887\"],[0.1111111111111111,\"#46039f\"],[0.2222222222222222,\"#7201a8\"],[0.3333333333333333,\"#9c179e\"],[0.4444444444444444,\"#bd3786\"],[0.5555555555555556,\"#d8576b\"],[0.6666666666666666,\"#ed7953\"],[0.7777777777777778,\"#fb9f3a\"],[0.8888888888888888,\"#fdca26\"],[1.0,\"#f0f921\"]]}],\"choropleth\":[{\"type\":\"choropleth\",\"colorbar\":{\"outlinewidth\":0,\"ticks\":\"\"}}],\"histogram2d\":[{\"type\":\"histogram2d\",\"colorbar\":{\"outlinewidth\":0,\"ticks\":\"\"},\"colorscale\":[[0.0,\"#0d0887\"],[0.1111111111111111,\"#46039f\"],[0.2222222222222222,\"#7201a8\"],[0.3333333333333333,\"#9c179e\"],[0.4444444444444444,\"#bd3786\"],[0.5555555555555556,\"#d8576b\"],[0.6666666666666666,\"#ed7953\"],[0.7777777777777778,\"#fb9f3a\"],[0.8888888888888888,\"#fdca26\"],[1.0,\"#f0f921\"]]}],\"heatmap\":[{\"type\":\"heatmap\",\"colorbar\":{\"outlinewidth\":0,\"ticks\":\"\"},\"colorscale\":[[0.0,\"#0d0887\"],[0.1111111111111111,\"#46039f\"],[0.2222222222222222,\"#7201a8\"],[0.3333333333333333,\"#9c179e\"],[0.4444444444444444,\"#bd3786\"],[0.5555555555555556,\"#d8576b\"],[0.6666666666666666,\"#ed7953\"],[0.7777777777777778,\"#fb9f3a\"],[0.8888888888888888,\"#fdca26\"],[1.0,\"#f0f921\"]]}],\"heatmapgl\":[{\"type\":\"heatmapgl\",\"colorbar\":{\"outlinewidth\":0,\"ticks\":\"\"},\"colorscale\":[[0.0,\"#0d0887\"],[0.1111111111111111,\"#46039f\"],[0.2222222222222222,\"#7201a8\"],[0.3333333333333333,\"#9c179e\"],[0.4444444444444444,\"#bd3786\"],[0.5555555555555556,\"#d8576b\"],[0.6666666666666666,\"#ed7953\"],[0.7777777777777778,\"#fb9f3a\"],[0.8888888888888888,\"#fdca26\"],[1.0,\"#f0f921\"]]}],\"contourcarpet\":[{\"type\":\"contourcarpet\",\"colorbar\":{\"outlinewidth\":0,\"ticks\":\"\"}}],\"contour\":[{\"type\":\"contour\",\"colorbar\":{\"outlinewidth\":0,\"ticks\":\"\"},\"colorscale\":[[0.0,\"#0d0887\"],[0.1111111111111111,\"#46039f\"],[0.2222222222222222,\"#7201a8\"],[0.3333333333333333,\"#9c179e\"],[0.4444444444444444,\"#bd3786\"],[0.5555555555555556,\"#d8576b\"],[0.6666666666666666,\"#ed7953\"],[0.7777777777777778,\"#fb9f3a\"],[0.8888888888888888,\"#fdca26\"],[1.0,\"#f0f921\"]]}],\"surface\":[{\"type\":\"surface\",\"colorbar\":{\"outlinewidth\":0,\"ticks\":\"\"},\"colorscale\":[[0.0,\"#0d0887\"],[0.1111111111111111,\"#46039f\"],[0.2222222222222222,\"#7201a8\"],[0.3333333333333333,\"#9c179e\"],[0.4444444444444444,\"#bd3786\"],[0.5555555555555556,\"#d8576b\"],[0.6666666666666666,\"#ed7953\"],[0.7777777777777778,\"#fb9f3a\"],[0.8888888888888888,\"#fdca26\"],[1.0,\"#f0f921\"]]}],\"mesh3d\":[{\"type\":\"mesh3d\",\"colorbar\":{\"outlinewidth\":0,\"ticks\":\"\"}}],\"scatter\":[{\"fillpattern\":{\"fillmode\":\"overlay\",\"size\":10,\"solidity\":0.2},\"type\":\"scatter\"}],\"parcoords\":[{\"type\":\"parcoords\",\"line\":{\"colorbar\":{\"outlinewidth\":0,\"ticks\":\"\"}}}],\"scatterpolargl\":[{\"type\":\"scatterpolargl\",\"marker\":{\"colorbar\":{\"outlinewidth\":0,\"ticks\":\"\"}}}],\"bar\":[{\"error_x\":{\"color\":\"#2a3f5f\"},\"error_y\":{\"color\":\"#2a3f5f\"},\"marker\":{\"line\":{\"color\":\"#E5ECF6\",\"width\":0.5},\"pattern\":{\"fillmode\":\"overlay\",\"size\":10,\"solidity\":0.2}},\"type\":\"bar\"}],\"scattergeo\":[{\"type\":\"scattergeo\",\"marker\":{\"colorbar\":{\"outlinewidth\":0,\"ticks\":\"\"}}}],\"scatterpolar\":[{\"type\":\"scatterpolar\",\"marker\":{\"colorbar\":{\"outlinewidth\":0,\"ticks\":\"\"}}}],\"histogram\":[{\"marker\":{\"pattern\":{\"fillmode\":\"overlay\",\"size\":10,\"solidity\":0.2}},\"type\":\"histogram\"}],\"scattergl\":[{\"type\":\"scattergl\",\"marker\":{\"colorbar\":{\"outlinewidth\":0,\"ticks\":\"\"}}}],\"scatter3d\":[{\"type\":\"scatter3d\",\"line\":{\"colorbar\":{\"outlinewidth\":0,\"ticks\":\"\"}},\"marker\":{\"colorbar\":{\"outlinewidth\":0,\"ticks\":\"\"}}}],\"scattermapbox\":[{\"type\":\"scattermapbox\",\"marker\":{\"colorbar\":{\"outlinewidth\":0,\"ticks\":\"\"}}}],\"scatterternary\":[{\"type\":\"scatterternary\",\"marker\":{\"colorbar\":{\"outlinewidth\":0,\"ticks\":\"\"}}}],\"scattercarpet\":[{\"type\":\"scattercarpet\",\"marker\":{\"colorbar\":{\"outlinewidth\":0,\"ticks\":\"\"}}}],\"carpet\":[{\"aaxis\":{\"endlinecolor\":\"#2a3f5f\",\"gridcolor\":\"white\",\"linecolor\":\"white\",\"minorgridcolor\":\"white\",\"startlinecolor\":\"#2a3f5f\"},\"baxis\":{\"endlinecolor\":\"#2a3f5f\",\"gridcolor\":\"white\",\"linecolor\":\"white\",\"minorgridcolor\":\"white\",\"startlinecolor\":\"#2a3f5f\"},\"type\":\"carpet\"}],\"table\":[{\"cells\":{\"fill\":{\"color\":\"#EBF0F8\"},\"line\":{\"color\":\"white\"}},\"header\":{\"fill\":{\"color\":\"#C8D4E3\"},\"line\":{\"color\":\"white\"}},\"type\":\"table\"}],\"barpolar\":[{\"marker\":{\"line\":{\"color\":\"#E5ECF6\",\"width\":0.5},\"pattern\":{\"fillmode\":\"overlay\",\"size\":10,\"solidity\":0.2}},\"type\":\"barpolar\"}],\"pie\":[{\"automargin\":true,\"type\":\"pie\"}]},\"layout\":{\"autotypenumbers\":\"strict\",\"colorway\":[\"#636efa\",\"#EF553B\",\"#00cc96\",\"#ab63fa\",\"#FFA15A\",\"#19d3f3\",\"#FF6692\",\"#B6E880\",\"#FF97FF\",\"#FECB52\"],\"font\":{\"color\":\"#2a3f5f\"},\"hovermode\":\"closest\",\"hoverlabel\":{\"align\":\"left\"},\"paper_bgcolor\":\"white\",\"plot_bgcolor\":\"#E5ECF6\",\"polar\":{\"bgcolor\":\"#E5ECF6\",\"angularaxis\":{\"gridcolor\":\"white\",\"linecolor\":\"white\",\"ticks\":\"\"},\"radialaxis\":{\"gridcolor\":\"white\",\"linecolor\":\"white\",\"ticks\":\"\"}},\"ternary\":{\"bgcolor\":\"#E5ECF6\",\"aaxis\":{\"gridcolor\":\"white\",\"linecolor\":\"white\",\"ticks\":\"\"},\"baxis\":{\"gridcolor\":\"white\",\"linecolor\":\"white\",\"ticks\":\"\"},\"caxis\":{\"gridcolor\":\"white\",\"linecolor\":\"white\",\"ticks\":\"\"}},\"coloraxis\":{\"colorbar\":{\"outlinewidth\":0,\"ticks\":\"\"}},\"colorscale\":{\"sequential\":[[0.0,\"#0d0887\"],[0.1111111111111111,\"#46039f\"],[0.2222222222222222,\"#7201a8\"],[0.3333333333333333,\"#9c179e\"],[0.4444444444444444,\"#bd3786\"],[0.5555555555555556,\"#d8576b\"],[0.6666666666666666,\"#ed7953\"],[0.7777777777777778,\"#fb9f3a\"],[0.8888888888888888,\"#fdca26\"],[1.0,\"#f0f921\"]],\"sequentialminus\":[[0.0,\"#0d0887\"],[0.1111111111111111,\"#46039f\"],[0.2222222222222222,\"#7201a8\"],[0.3333333333333333,\"#9c179e\"],[0.4444444444444444,\"#bd3786\"],[0.5555555555555556,\"#d8576b\"],[0.6666666666666666,\"#ed7953\"],[0.7777777777777778,\"#fb9f3a\"],[0.8888888888888888,\"#fdca26\"],[1.0,\"#f0f921\"]],\"diverging\":[[0,\"#8e0152\"],[0.1,\"#c51b7d\"],[0.2,\"#de77ae\"],[0.3,\"#f1b6da\"],[0.4,\"#fde0ef\"],[0.5,\"#f7f7f7\"],[0.6,\"#e6f5d0\"],[0.7,\"#b8e186\"],[0.8,\"#7fbc41\"],[0.9,\"#4d9221\"],[1,\"#276419\"]]},\"xaxis\":{\"gridcolor\":\"white\",\"linecolor\":\"white\",\"ticks\":\"\",\"title\":{\"standoff\":15},\"zerolinecolor\":\"white\",\"automargin\":true,\"zerolinewidth\":2},\"yaxis\":{\"gridcolor\":\"white\",\"linecolor\":\"white\",\"ticks\":\"\",\"title\":{\"standoff\":15},\"zerolinecolor\":\"white\",\"automargin\":true,\"zerolinewidth\":2},\"scene\":{\"xaxis\":{\"backgroundcolor\":\"#E5ECF6\",\"gridcolor\":\"white\",\"linecolor\":\"white\",\"showbackground\":true,\"ticks\":\"\",\"zerolinecolor\":\"white\",\"gridwidth\":2},\"yaxis\":{\"backgroundcolor\":\"#E5ECF6\",\"gridcolor\":\"white\",\"linecolor\":\"white\",\"showbackground\":true,\"ticks\":\"\",\"zerolinecolor\":\"white\",\"gridwidth\":2},\"zaxis\":{\"backgroundcolor\":\"#E5ECF6\",\"gridcolor\":\"white\",\"linecolor\":\"white\",\"showbackground\":true,\"ticks\":\"\",\"zerolinecolor\":\"white\",\"gridwidth\":2}},\"shapedefaults\":{\"line\":{\"color\":\"#2a3f5f\"}},\"annotationdefaults\":{\"arrowcolor\":\"#2a3f5f\",\"arrowhead\":0,\"arrowwidth\":1},\"geo\":{\"bgcolor\":\"white\",\"landcolor\":\"#E5ECF6\",\"subunitcolor\":\"white\",\"showland\":true,\"showlakes\":true,\"lakecolor\":\"white\"},\"title\":{\"x\":0.05},\"mapbox\":{\"style\":\"light\"}}},\"title\":{\"text\":\"Sensitivity of Differentiation (P=1, Q=1)\",\"xanchor\":\"center\",\"x\":0.5,\"y\":0.85},\"xaxis\":{\"title\":{\"text\":\"Differentiation\"}},\"yaxis\":{\"title\":{\"text\":\"MAE (MWh)\"}}},                        {\"responsive\": true}                    ).then(function(){\n",
       "                            \n",
       "var gd = document.getElementById('5e78f29f-198e-4569-ad77-2cb62b5c50c6');\n",
       "var x = new MutationObserver(function (mutations, observer) {{\n",
       "        var display = window.getComputedStyle(gd).display;\n",
       "        if (!display || display === 'none') {{\n",
       "            console.log([gd, 'removed!']);\n",
       "            Plotly.purge(gd);\n",
       "            observer.disconnect();\n",
       "        }}\n",
       "}});\n",
       "\n",
       "// Listen for the removal of the full notebook cells\n",
       "var notebookContainer = gd.closest('#notebook-container');\n",
       "if (notebookContainer) {{\n",
       "    x.observe(notebookContainer, {childList: true});\n",
       "}}\n",
       "\n",
       "// Listen for the clearing of the current output cell\n",
       "var outputEl = gd.closest('.output');\n",
       "if (outputEl) {{\n",
       "    x.observe(outputEl, {childList: true});\n",
       "}}\n",
       "\n",
       "                        })                };                });            </script>        </div>"
      ]
     },
     "metadata": {},
     "output_type": "display_data"
    }
   ],
   "source": [
    "x = sens_df[(sens_df.P==1)&(sens_df.Q==1)].D\n",
    "y = sens_df[(sens_df.P==1)&(sens_df.Q==1)].means\n",
    "stds = sens_df[(sens_df.P==1)&(sens_df.Q==1)].stds\n",
    "fig = go.Figure()\n",
    "fig.add_trace(\n",
    "    go.Scatter(\n",
    "        x=x,\n",
    "        y=y,\n",
    "        showlegend=False,\n",
    "        fillcolor='rgba(255,0,0,0)'\n",
    "    )\n",
    ")\n",
    "fig.add_trace(\n",
    "    go.Scatter(\n",
    "        x = pd.concat([x, x[::-1]]),\n",
    "        y = pd.concat([y + stds, (y - stds)[::-1]]),\n",
    "        fill='toself',\n",
    "        fillcolor='rgba(255,100,80,0.2)',\n",
    "        line=dict(color='rgba(255,255,255,0)'),\n",
    "        hoverinfo=\"skip\",\n",
    "        showlegend=False\n",
    "    )\n",
    ")\n",
    "fig.update_layout(\n",
    "    title={\"text\": \"Sensitivity of Differentiation (P=1, Q=1)\", \"xanchor\": 'center', 'x': 0.5, 'y':0.85},\n",
    "    xaxis_title=\"Differentiation\",\n",
    "    yaxis_title=\"MAE (MWh)\"\n",
    ")\n",
    "fig.show()\n",
    "fig.write_image(\"sensdiff.png\")"
   ]
  },
  {
   "cell_type": "code",
   "execution_count": 148,
   "id": "1d35a9e5-056d-4b2e-be30-59b4ad0d3749",
   "metadata": {},
   "outputs": [
    {
     "data": {
      "application/vnd.plotly.v1+json": {
       "config": {
        "plotlyServerURL": "https://plot.ly"
       },
       "data": [
        {
         "showlegend": false,
         "type": "scatter",
         "x": [
          0,
          1,
          2,
          3,
          4,
          5,
          6,
          7
         ],
         "y": [
          14135.864199130137,
          14269.275901858602,
          15312.70370225915,
          15797.058439607445,
          15556.475688607368,
          15109.961939816369,
          14793.965776640112,
          14204.039496894102
         ]
        },
        {
         "fill": "toself",
         "fillcolor": "rgba(255,100,80,0.2)",
         "hoverinfo": "skip",
         "line": {
          "color": "rgba(255,255,255,0)"
         },
         "showlegend": false,
         "type": "scatter",
         "x": [
          0,
          1,
          2,
          3,
          4,
          5,
          6,
          7,
          7,
          6,
          5,
          4,
          3,
          2,
          1,
          0
         ],
         "y": [
          20448.904318023815,
          21009.792495523026,
          23603.732910174065,
          24372.95978571747,
          23660.317665259357,
          23420.598830902247,
          22145.92864542183,
          21273.824228031444,
          7134.25476575676,
          7442.002907858392,
          6799.32504873049,
          7452.633711955378,
          7221.157093497419,
          7021.674494344235,
          7528.759308194177,
          7822.824080236461
         ]
        }
       ],
       "layout": {
        "autosize": true,
        "template": {
         "data": {
          "bar": [
           {
            "error_x": {
             "color": "#2a3f5f"
            },
            "error_y": {
             "color": "#2a3f5f"
            },
            "marker": {
             "line": {
              "color": "#E5ECF6",
              "width": 0.5
             },
             "pattern": {
              "fillmode": "overlay",
              "size": 10,
              "solidity": 0.2
             }
            },
            "type": "bar"
           }
          ],
          "barpolar": [
           {
            "marker": {
             "line": {
              "color": "#E5ECF6",
              "width": 0.5
             },
             "pattern": {
              "fillmode": "overlay",
              "size": 10,
              "solidity": 0.2
             }
            },
            "type": "barpolar"
           }
          ],
          "carpet": [
           {
            "aaxis": {
             "endlinecolor": "#2a3f5f",
             "gridcolor": "white",
             "linecolor": "white",
             "minorgridcolor": "white",
             "startlinecolor": "#2a3f5f"
            },
            "baxis": {
             "endlinecolor": "#2a3f5f",
             "gridcolor": "white",
             "linecolor": "white",
             "minorgridcolor": "white",
             "startlinecolor": "#2a3f5f"
            },
            "type": "carpet"
           }
          ],
          "choropleth": [
           {
            "colorbar": {
             "outlinewidth": 0,
             "ticks": ""
            },
            "type": "choropleth"
           }
          ],
          "contour": [
           {
            "colorbar": {
             "outlinewidth": 0,
             "ticks": ""
            },
            "colorscale": [
             [
              0,
              "#0d0887"
             ],
             [
              0.1111111111111111,
              "#46039f"
             ],
             [
              0.2222222222222222,
              "#7201a8"
             ],
             [
              0.3333333333333333,
              "#9c179e"
             ],
             [
              0.4444444444444444,
              "#bd3786"
             ],
             [
              0.5555555555555556,
              "#d8576b"
             ],
             [
              0.6666666666666666,
              "#ed7953"
             ],
             [
              0.7777777777777778,
              "#fb9f3a"
             ],
             [
              0.8888888888888888,
              "#fdca26"
             ],
             [
              1,
              "#f0f921"
             ]
            ],
            "type": "contour"
           }
          ],
          "contourcarpet": [
           {
            "colorbar": {
             "outlinewidth": 0,
             "ticks": ""
            },
            "type": "contourcarpet"
           }
          ],
          "heatmap": [
           {
            "colorbar": {
             "outlinewidth": 0,
             "ticks": ""
            },
            "colorscale": [
             [
              0,
              "#0d0887"
             ],
             [
              0.1111111111111111,
              "#46039f"
             ],
             [
              0.2222222222222222,
              "#7201a8"
             ],
             [
              0.3333333333333333,
              "#9c179e"
             ],
             [
              0.4444444444444444,
              "#bd3786"
             ],
             [
              0.5555555555555556,
              "#d8576b"
             ],
             [
              0.6666666666666666,
              "#ed7953"
             ],
             [
              0.7777777777777778,
              "#fb9f3a"
             ],
             [
              0.8888888888888888,
              "#fdca26"
             ],
             [
              1,
              "#f0f921"
             ]
            ],
            "type": "heatmap"
           }
          ],
          "heatmapgl": [
           {
            "colorbar": {
             "outlinewidth": 0,
             "ticks": ""
            },
            "colorscale": [
             [
              0,
              "#0d0887"
             ],
             [
              0.1111111111111111,
              "#46039f"
             ],
             [
              0.2222222222222222,
              "#7201a8"
             ],
             [
              0.3333333333333333,
              "#9c179e"
             ],
             [
              0.4444444444444444,
              "#bd3786"
             ],
             [
              0.5555555555555556,
              "#d8576b"
             ],
             [
              0.6666666666666666,
              "#ed7953"
             ],
             [
              0.7777777777777778,
              "#fb9f3a"
             ],
             [
              0.8888888888888888,
              "#fdca26"
             ],
             [
              1,
              "#f0f921"
             ]
            ],
            "type": "heatmapgl"
           }
          ],
          "histogram": [
           {
            "marker": {
             "pattern": {
              "fillmode": "overlay",
              "size": 10,
              "solidity": 0.2
             }
            },
            "type": "histogram"
           }
          ],
          "histogram2d": [
           {
            "colorbar": {
             "outlinewidth": 0,
             "ticks": ""
            },
            "colorscale": [
             [
              0,
              "#0d0887"
             ],
             [
              0.1111111111111111,
              "#46039f"
             ],
             [
              0.2222222222222222,
              "#7201a8"
             ],
             [
              0.3333333333333333,
              "#9c179e"
             ],
             [
              0.4444444444444444,
              "#bd3786"
             ],
             [
              0.5555555555555556,
              "#d8576b"
             ],
             [
              0.6666666666666666,
              "#ed7953"
             ],
             [
              0.7777777777777778,
              "#fb9f3a"
             ],
             [
              0.8888888888888888,
              "#fdca26"
             ],
             [
              1,
              "#f0f921"
             ]
            ],
            "type": "histogram2d"
           }
          ],
          "histogram2dcontour": [
           {
            "colorbar": {
             "outlinewidth": 0,
             "ticks": ""
            },
            "colorscale": [
             [
              0,
              "#0d0887"
             ],
             [
              0.1111111111111111,
              "#46039f"
             ],
             [
              0.2222222222222222,
              "#7201a8"
             ],
             [
              0.3333333333333333,
              "#9c179e"
             ],
             [
              0.4444444444444444,
              "#bd3786"
             ],
             [
              0.5555555555555556,
              "#d8576b"
             ],
             [
              0.6666666666666666,
              "#ed7953"
             ],
             [
              0.7777777777777778,
              "#fb9f3a"
             ],
             [
              0.8888888888888888,
              "#fdca26"
             ],
             [
              1,
              "#f0f921"
             ]
            ],
            "type": "histogram2dcontour"
           }
          ],
          "mesh3d": [
           {
            "colorbar": {
             "outlinewidth": 0,
             "ticks": ""
            },
            "type": "mesh3d"
           }
          ],
          "parcoords": [
           {
            "line": {
             "colorbar": {
              "outlinewidth": 0,
              "ticks": ""
             }
            },
            "type": "parcoords"
           }
          ],
          "pie": [
           {
            "automargin": true,
            "type": "pie"
           }
          ],
          "scatter": [
           {
            "fillpattern": {
             "fillmode": "overlay",
             "size": 10,
             "solidity": 0.2
            },
            "type": "scatter"
           }
          ],
          "scatter3d": [
           {
            "line": {
             "colorbar": {
              "outlinewidth": 0,
              "ticks": ""
             }
            },
            "marker": {
             "colorbar": {
              "outlinewidth": 0,
              "ticks": ""
             }
            },
            "type": "scatter3d"
           }
          ],
          "scattercarpet": [
           {
            "marker": {
             "colorbar": {
              "outlinewidth": 0,
              "ticks": ""
             }
            },
            "type": "scattercarpet"
           }
          ],
          "scattergeo": [
           {
            "marker": {
             "colorbar": {
              "outlinewidth": 0,
              "ticks": ""
             }
            },
            "type": "scattergeo"
           }
          ],
          "scattergl": [
           {
            "marker": {
             "colorbar": {
              "outlinewidth": 0,
              "ticks": ""
             }
            },
            "type": "scattergl"
           }
          ],
          "scattermapbox": [
           {
            "marker": {
             "colorbar": {
              "outlinewidth": 0,
              "ticks": ""
             }
            },
            "type": "scattermapbox"
           }
          ],
          "scatterpolar": [
           {
            "marker": {
             "colorbar": {
              "outlinewidth": 0,
              "ticks": ""
             }
            },
            "type": "scatterpolar"
           }
          ],
          "scatterpolargl": [
           {
            "marker": {
             "colorbar": {
              "outlinewidth": 0,
              "ticks": ""
             }
            },
            "type": "scatterpolargl"
           }
          ],
          "scatterternary": [
           {
            "marker": {
             "colorbar": {
              "outlinewidth": 0,
              "ticks": ""
             }
            },
            "type": "scatterternary"
           }
          ],
          "surface": [
           {
            "colorbar": {
             "outlinewidth": 0,
             "ticks": ""
            },
            "colorscale": [
             [
              0,
              "#0d0887"
             ],
             [
              0.1111111111111111,
              "#46039f"
             ],
             [
              0.2222222222222222,
              "#7201a8"
             ],
             [
              0.3333333333333333,
              "#9c179e"
             ],
             [
              0.4444444444444444,
              "#bd3786"
             ],
             [
              0.5555555555555556,
              "#d8576b"
             ],
             [
              0.6666666666666666,
              "#ed7953"
             ],
             [
              0.7777777777777778,
              "#fb9f3a"
             ],
             [
              0.8888888888888888,
              "#fdca26"
             ],
             [
              1,
              "#f0f921"
             ]
            ],
            "type": "surface"
           }
          ],
          "table": [
           {
            "cells": {
             "fill": {
              "color": "#EBF0F8"
             },
             "line": {
              "color": "white"
             }
            },
            "header": {
             "fill": {
              "color": "#C8D4E3"
             },
             "line": {
              "color": "white"
             }
            },
            "type": "table"
           }
          ]
         },
         "layout": {
          "annotationdefaults": {
           "arrowcolor": "#2a3f5f",
           "arrowhead": 0,
           "arrowwidth": 1
          },
          "autotypenumbers": "strict",
          "coloraxis": {
           "colorbar": {
            "outlinewidth": 0,
            "ticks": ""
           }
          },
          "colorscale": {
           "diverging": [
            [
             0,
             "#8e0152"
            ],
            [
             0.1,
             "#c51b7d"
            ],
            [
             0.2,
             "#de77ae"
            ],
            [
             0.3,
             "#f1b6da"
            ],
            [
             0.4,
             "#fde0ef"
            ],
            [
             0.5,
             "#f7f7f7"
            ],
            [
             0.6,
             "#e6f5d0"
            ],
            [
             0.7,
             "#b8e186"
            ],
            [
             0.8,
             "#7fbc41"
            ],
            [
             0.9,
             "#4d9221"
            ],
            [
             1,
             "#276419"
            ]
           ],
           "sequential": [
            [
             0,
             "#0d0887"
            ],
            [
             0.1111111111111111,
             "#46039f"
            ],
            [
             0.2222222222222222,
             "#7201a8"
            ],
            [
             0.3333333333333333,
             "#9c179e"
            ],
            [
             0.4444444444444444,
             "#bd3786"
            ],
            [
             0.5555555555555556,
             "#d8576b"
            ],
            [
             0.6666666666666666,
             "#ed7953"
            ],
            [
             0.7777777777777778,
             "#fb9f3a"
            ],
            [
             0.8888888888888888,
             "#fdca26"
            ],
            [
             1,
             "#f0f921"
            ]
           ],
           "sequentialminus": [
            [
             0,
             "#0d0887"
            ],
            [
             0.1111111111111111,
             "#46039f"
            ],
            [
             0.2222222222222222,
             "#7201a8"
            ],
            [
             0.3333333333333333,
             "#9c179e"
            ],
            [
             0.4444444444444444,
             "#bd3786"
            ],
            [
             0.5555555555555556,
             "#d8576b"
            ],
            [
             0.6666666666666666,
             "#ed7953"
            ],
            [
             0.7777777777777778,
             "#fb9f3a"
            ],
            [
             0.8888888888888888,
             "#fdca26"
            ],
            [
             1,
             "#f0f921"
            ]
           ]
          },
          "colorway": [
           "#636efa",
           "#EF553B",
           "#00cc96",
           "#ab63fa",
           "#FFA15A",
           "#19d3f3",
           "#FF6692",
           "#B6E880",
           "#FF97FF",
           "#FECB52"
          ],
          "font": {
           "color": "#2a3f5f"
          },
          "geo": {
           "bgcolor": "white",
           "lakecolor": "white",
           "landcolor": "#E5ECF6",
           "showlakes": true,
           "showland": true,
           "subunitcolor": "white"
          },
          "hoverlabel": {
           "align": "left"
          },
          "hovermode": "closest",
          "mapbox": {
           "style": "light"
          },
          "paper_bgcolor": "white",
          "plot_bgcolor": "#E5ECF6",
          "polar": {
           "angularaxis": {
            "gridcolor": "white",
            "linecolor": "white",
            "ticks": ""
           },
           "bgcolor": "#E5ECF6",
           "radialaxis": {
            "gridcolor": "white",
            "linecolor": "white",
            "ticks": ""
           }
          },
          "scene": {
           "xaxis": {
            "backgroundcolor": "#E5ECF6",
            "gridcolor": "white",
            "gridwidth": 2,
            "linecolor": "white",
            "showbackground": true,
            "ticks": "",
            "zerolinecolor": "white"
           },
           "yaxis": {
            "backgroundcolor": "#E5ECF6",
            "gridcolor": "white",
            "gridwidth": 2,
            "linecolor": "white",
            "showbackground": true,
            "ticks": "",
            "zerolinecolor": "white"
           },
           "zaxis": {
            "backgroundcolor": "#E5ECF6",
            "gridcolor": "white",
            "gridwidth": 2,
            "linecolor": "white",
            "showbackground": true,
            "ticks": "",
            "zerolinecolor": "white"
           }
          },
          "shapedefaults": {
           "line": {
            "color": "#2a3f5f"
           }
          },
          "ternary": {
           "aaxis": {
            "gridcolor": "white",
            "linecolor": "white",
            "ticks": ""
           },
           "baxis": {
            "gridcolor": "white",
            "linecolor": "white",
            "ticks": ""
           },
           "bgcolor": "#E5ECF6",
           "caxis": {
            "gridcolor": "white",
            "linecolor": "white",
            "ticks": ""
           }
          },
          "title": {
           "x": 0.05
          },
          "xaxis": {
           "automargin": true,
           "gridcolor": "white",
           "linecolor": "white",
           "ticks": "",
           "title": {
            "standoff": 15
           },
           "zerolinecolor": "white",
           "zerolinewidth": 2
          },
          "yaxis": {
           "automargin": true,
           "gridcolor": "white",
           "linecolor": "white",
           "ticks": "",
           "title": {
            "standoff": 15
           },
           "zerolinecolor": "white",
           "zerolinewidth": 2
          }
         }
        },
        "title": {
         "text": "Sensitivity of Autoregressions (D=2, Q=2)",
         "x": 0.5,
         "xanchor": "center",
         "y": 0.85
        },
        "xaxis": {
         "autorange": true,
         "range": [
          -0.4236359304264951,
          7.423635930426495
         ],
         "title": {
          "text": "Autoregressions"
         },
         "type": "linear"
        },
        "yaxis": {
         "autorange": true,
         "range": [
          5349.073638396613,
          25823.211196051347
         ],
         "title": {
          "text": "MAE (MWh)"
         },
         "type": "linear"
        }
       }
      },
      "image/png": "[encoded data removed]",
      "text/html": [
       "<div>                            <div id=\"becfba23-198a-4c85-ad9c-5ef5b3abbb26\" class=\"plotly-graph-div\" style=\"height:525px; width:100%;\"></div>            <script type=\"text/javascript\">                require([\"plotly\"], function(Plotly) {                    window.PLOTLYENV=window.PLOTLYENV || {};                                    if (document.getElementById(\"becfba23-198a-4c85-ad9c-5ef5b3abbb26\")) {                    Plotly.newPlot(                        \"becfba23-198a-4c85-ad9c-5ef5b3abbb26\",                        [{\"showlegend\":false,\"x\":[0,1,2,3,4,5,6,7],\"y\":[14135.864199130137,14269.275901858602,15312.70370225915,15797.058439607445,15556.475688607368,15109.961939816369,14793.965776640112,14204.039496894102],\"type\":\"scatter\"},{\"fill\":\"toself\",\"fillcolor\":\"rgba(255,100,80,0.2)\",\"hoverinfo\":\"skip\",\"line\":{\"color\":\"rgba(255,255,255,0)\"},\"showlegend\":false,\"x\":[0,1,2,3,4,5,6,7,7,6,5,4,3,2,1,0],\"y\":[20448.904318023815,21009.792495523026,23603.732910174065,24372.95978571747,23660.317665259357,23420.598830902247,22145.92864542183,21273.824228031444,7134.25476575676,7442.002907858392,6799.32504873049,7452.633711955378,7221.157093497419,7021.674494344235,7528.759308194177,7822.824080236461],\"type\":\"scatter\"}],                        {\"template\":{\"data\":{\"histogram2dcontour\":[{\"type\":\"histogram2dcontour\",\"colorbar\":{\"outlinewidth\":0,\"ticks\":\"\"},\"colorscale\":[[0.0,\"#0d0887\"],[0.1111111111111111,\"#46039f\"],[0.2222222222222222,\"#7201a8\"],[0.3333333333333333,\"#9c179e\"],[0.4444444444444444,\"#bd3786\"],[0.5555555555555556,\"#d8576b\"],[0.6666666666666666,\"#ed7953\"],[0.7777777777777778,\"#fb9f3a\"],[0.8888888888888888,\"#fdca26\"],[1.0,\"#f0f921\"]]}],\"choropleth\":[{\"type\":\"choropleth\",\"colorbar\":{\"outlinewidth\":0,\"ticks\":\"\"}}],\"histogram2d\":[{\"type\":\"histogram2d\",\"colorbar\":{\"outlinewidth\":0,\"ticks\":\"\"},\"colorscale\":[[0.0,\"#0d0887\"],[0.1111111111111111,\"#46039f\"],[0.2222222222222222,\"#7201a8\"],[0.3333333333333333,\"#9c179e\"],[0.4444444444444444,\"#bd3786\"],[0.5555555555555556,\"#d8576b\"],[0.6666666666666666,\"#ed7953\"],[0.7777777777777778,\"#fb9f3a\"],[0.8888888888888888,\"#fdca26\"],[1.0,\"#f0f921\"]]}],\"heatmap\":[{\"type\":\"heatmap\",\"colorbar\":{\"outlinewidth\":0,\"ticks\":\"\"},\"colorscale\":[[0.0,\"#0d0887\"],[0.1111111111111111,\"#46039f\"],[0.2222222222222222,\"#7201a8\"],[0.3333333333333333,\"#9c179e\"],[0.4444444444444444,\"#bd3786\"],[0.5555555555555556,\"#d8576b\"],[0.6666666666666666,\"#ed7953\"],[0.7777777777777778,\"#fb9f3a\"],[0.8888888888888888,\"#fdca26\"],[1.0,\"#f0f921\"]]}],\"heatmapgl\":[{\"type\":\"heatmapgl\",\"colorbar\":{\"outlinewidth\":0,\"ticks\":\"\"},\"colorscale\":[[0.0,\"#0d0887\"],[0.1111111111111111,\"#46039f\"],[0.2222222222222222,\"#7201a8\"],[0.3333333333333333,\"#9c179e\"],[0.4444444444444444,\"#bd3786\"],[0.5555555555555556,\"#d8576b\"],[0.6666666666666666,\"#ed7953\"],[0.7777777777777778,\"#fb9f3a\"],[0.8888888888888888,\"#fdca26\"],[1.0,\"#f0f921\"]]}],\"contourcarpet\":[{\"type\":\"contourcarpet\",\"colorbar\":{\"outlinewidth\":0,\"ticks\":\"\"}}],\"contour\":[{\"type\":\"contour\",\"colorbar\":{\"outlinewidth\":0,\"ticks\":\"\"},\"colorscale\":[[0.0,\"#0d0887\"],[0.1111111111111111,\"#46039f\"],[0.2222222222222222,\"#7201a8\"],[0.3333333333333333,\"#9c179e\"],[0.4444444444444444,\"#bd3786\"],[0.5555555555555556,\"#d8576b\"],[0.6666666666666666,\"#ed7953\"],[0.7777777777777778,\"#fb9f3a\"],[0.8888888888888888,\"#fdca26\"],[1.0,\"#f0f921\"]]}],\"surface\":[{\"type\":\"surface\",\"colorbar\":{\"outlinewidth\":0,\"ticks\":\"\"},\"colorscale\":[[0.0,\"#0d0887\"],[0.1111111111111111,\"#46039f\"],[0.2222222222222222,\"#7201a8\"],[0.3333333333333333,\"#9c179e\"],[0.4444444444444444,\"#bd3786\"],[0.5555555555555556,\"#d8576b\"],[0.6666666666666666,\"#ed7953\"],[0.7777777777777778,\"#fb9f3a\"],[0.8888888888888888,\"#fdca26\"],[1.0,\"#f0f921\"]]}],\"mesh3d\":[{\"type\":\"mesh3d\",\"colorbar\":{\"outlinewidth\":0,\"ticks\":\"\"}}],\"scatter\":[{\"fillpattern\":{\"fillmode\":\"overlay\",\"size\":10,\"solidity\":0.2},\"type\":\"scatter\"}],\"parcoords\":[{\"type\":\"parcoords\",\"line\":{\"colorbar\":{\"outlinewidth\":0,\"ticks\":\"\"}}}],\"scatterpolargl\":[{\"type\":\"scatterpolargl\",\"marker\":{\"colorbar\":{\"outlinewidth\":0,\"ticks\":\"\"}}}],\"bar\":[{\"error_x\":{\"color\":\"#2a3f5f\"},\"error_y\":{\"color\":\"#2a3f5f\"},\"marker\":{\"line\":{\"color\":\"#E5ECF6\",\"width\":0.5},\"pattern\":{\"fillmode\":\"overlay\",\"size\":10,\"solidity\":0.2}},\"type\":\"bar\"}],\"scattergeo\":[{\"type\":\"scattergeo\",\"marker\":{\"colorbar\":{\"outlinewidth\":0,\"ticks\":\"\"}}}],\"scatterpolar\":[{\"type\":\"scatterpolar\",\"marker\":{\"colorbar\":{\"outlinewidth\":0,\"ticks\":\"\"}}}],\"histogram\":[{\"marker\":{\"pattern\":{\"fillmode\":\"overlay\",\"size\":10,\"solidity\":0.2}},\"type\":\"histogram\"}],\"scattergl\":[{\"type\":\"scattergl\",\"marker\":{\"colorbar\":{\"outlinewidth\":0,\"ticks\":\"\"}}}],\"scatter3d\":[{\"type\":\"scatter3d\",\"line\":{\"colorbar\":{\"outlinewidth\":0,\"ticks\":\"\"}},\"marker\":{\"colorbar\":{\"outlinewidth\":0,\"ticks\":\"\"}}}],\"scattermapbox\":[{\"type\":\"scattermapbox\",\"marker\":{\"colorbar\":{\"outlinewidth\":0,\"ticks\":\"\"}}}],\"scatterternary\":[{\"type\":\"scatterternary\",\"marker\":{\"colorbar\":{\"outlinewidth\":0,\"ticks\":\"\"}}}],\"scattercarpet\":[{\"type\":\"scattercarpet\",\"marker\":{\"colorbar\":{\"outlinewidth\":0,\"ticks\":\"\"}}}],\"carpet\":[{\"aaxis\":{\"endlinecolor\":\"#2a3f5f\",\"gridcolor\":\"white\",\"linecolor\":\"white\",\"minorgridcolor\":\"white\",\"startlinecolor\":\"#2a3f5f\"},\"baxis\":{\"endlinecolor\":\"#2a3f5f\",\"gridcolor\":\"white\",\"linecolor\":\"white\",\"minorgridcolor\":\"white\",\"startlinecolor\":\"#2a3f5f\"},\"type\":\"carpet\"}],\"table\":[{\"cells\":{\"fill\":{\"color\":\"#EBF0F8\"},\"line\":{\"color\":\"white\"}},\"header\":{\"fill\":{\"color\":\"#C8D4E3\"},\"line\":{\"color\":\"white\"}},\"type\":\"table\"}],\"barpolar\":[{\"marker\":{\"line\":{\"color\":\"#E5ECF6\",\"width\":0.5},\"pattern\":{\"fillmode\":\"overlay\",\"size\":10,\"solidity\":0.2}},\"type\":\"barpolar\"}],\"pie\":[{\"automargin\":true,\"type\":\"pie\"}]},\"layout\":{\"autotypenumbers\":\"strict\",\"colorway\":[\"#636efa\",\"#EF553B\",\"#00cc96\",\"#ab63fa\",\"#FFA15A\",\"#19d3f3\",\"#FF6692\",\"#B6E880\",\"#FF97FF\",\"#FECB52\"],\"font\":{\"color\":\"#2a3f5f\"},\"hovermode\":\"closest\",\"hoverlabel\":{\"align\":\"left\"},\"paper_bgcolor\":\"white\",\"plot_bgcolor\":\"#E5ECF6\",\"polar\":{\"bgcolor\":\"#E5ECF6\",\"angularaxis\":{\"gridcolor\":\"white\",\"linecolor\":\"white\",\"ticks\":\"\"},\"radialaxis\":{\"gridcolor\":\"white\",\"linecolor\":\"white\",\"ticks\":\"\"}},\"ternary\":{\"bgcolor\":\"#E5ECF6\",\"aaxis\":{\"gridcolor\":\"white\",\"linecolor\":\"white\",\"ticks\":\"\"},\"baxis\":{\"gridcolor\":\"white\",\"linecolor\":\"white\",\"ticks\":\"\"},\"caxis\":{\"gridcolor\":\"white\",\"linecolor\":\"white\",\"ticks\":\"\"}},\"coloraxis\":{\"colorbar\":{\"outlinewidth\":0,\"ticks\":\"\"}},\"colorscale\":{\"sequential\":[[0.0,\"#0d0887\"],[0.1111111111111111,\"#46039f\"],[0.2222222222222222,\"#7201a8\"],[0.3333333333333333,\"#9c179e\"],[0.4444444444444444,\"#bd3786\"],[0.5555555555555556,\"#d8576b\"],[0.6666666666666666,\"#ed7953\"],[0.7777777777777778,\"#fb9f3a\"],[0.8888888888888888,\"#fdca26\"],[1.0,\"#f0f921\"]],\"sequentialminus\":[[0.0,\"#0d0887\"],[0.1111111111111111,\"#46039f\"],[0.2222222222222222,\"#7201a8\"],[0.3333333333333333,\"#9c179e\"],[0.4444444444444444,\"#bd3786\"],[0.5555555555555556,\"#d8576b\"],[0.6666666666666666,\"#ed7953\"],[0.7777777777777778,\"#fb9f3a\"],[0.8888888888888888,\"#fdca26\"],[1.0,\"#f0f921\"]],\"diverging\":[[0,\"#8e0152\"],[0.1,\"#c51b7d\"],[0.2,\"#de77ae\"],[0.3,\"#f1b6da\"],[0.4,\"#fde0ef\"],[0.5,\"#f7f7f7\"],[0.6,\"#e6f5d0\"],[0.7,\"#b8e186\"],[0.8,\"#7fbc41\"],[0.9,\"#4d9221\"],[1,\"#276419\"]]},\"xaxis\":{\"gridcolor\":\"white\",\"linecolor\":\"white\",\"ticks\":\"\",\"title\":{\"standoff\":15},\"zerolinecolor\":\"white\",\"automargin\":true,\"zerolinewidth\":2},\"yaxis\":{\"gridcolor\":\"white\",\"linecolor\":\"white\",\"ticks\":\"\",\"title\":{\"standoff\":15},\"zerolinecolor\":\"white\",\"automargin\":true,\"zerolinewidth\":2},\"scene\":{\"xaxis\":{\"backgroundcolor\":\"#E5ECF6\",\"gridcolor\":\"white\",\"linecolor\":\"white\",\"showbackground\":true,\"ticks\":\"\",\"zerolinecolor\":\"white\",\"gridwidth\":2},\"yaxis\":{\"backgroundcolor\":\"#E5ECF6\",\"gridcolor\":\"white\",\"linecolor\":\"white\",\"showbackground\":true,\"ticks\":\"\",\"zerolinecolor\":\"white\",\"gridwidth\":2},\"zaxis\":{\"backgroundcolor\":\"#E5ECF6\",\"gridcolor\":\"white\",\"linecolor\":\"white\",\"showbackground\":true,\"ticks\":\"\",\"zerolinecolor\":\"white\",\"gridwidth\":2}},\"shapedefaults\":{\"line\":{\"color\":\"#2a3f5f\"}},\"annotationdefaults\":{\"arrowcolor\":\"#2a3f5f\",\"arrowhead\":0,\"arrowwidth\":1},\"geo\":{\"bgcolor\":\"white\",\"landcolor\":\"#E5ECF6\",\"subunitcolor\":\"white\",\"showland\":true,\"showlakes\":true,\"lakecolor\":\"white\"},\"title\":{\"x\":0.05},\"mapbox\":{\"style\":\"light\"}}},\"title\":{\"text\":\"Sensitivity of Autoregressions (D=2, Q=2)\",\"xanchor\":\"center\",\"x\":0.5,\"y\":0.85},\"xaxis\":{\"title\":{\"text\":\"Autoregressions\"}},\"yaxis\":{\"title\":{\"text\":\"MAE (MWh)\"}}},                        {\"responsive\": true}                    ).then(function(){\n",
       "                            \n",
       "var gd = document.getElementById('becfba23-198a-4c85-ad9c-5ef5b3abbb26');\n",
       "var x = new MutationObserver(function (mutations, observer) {{\n",
       "        var display = window.getComputedStyle(gd).display;\n",
       "        if (!display || display === 'none') {{\n",
       "            console.log([gd, 'removed!']);\n",
       "            Plotly.purge(gd);\n",
       "            observer.disconnect();\n",
       "        }}\n",
       "}});\n",
       "\n",
       "// Listen for the removal of the full notebook cells\n",
       "var notebookContainer = gd.closest('#notebook-container');\n",
       "if (notebookContainer) {{\n",
       "    x.observe(notebookContainer, {childList: true});\n",
       "}}\n",
       "\n",
       "// Listen for the clearing of the current output cell\n",
       "var outputEl = gd.closest('.output');\n",
       "if (outputEl) {{\n",
       "    x.observe(outputEl, {childList: true});\n",
       "}}\n",
       "\n",
       "                        })                };                });            </script>        </div>"
      ]
     },
     "metadata": {},
     "output_type": "display_data"
    }
   ],
   "source": [
    "x = sens_df[(sens_df.D==2)&(sens_df.Q==2)].P\n",
    "y = sens_df[(sens_df.D==2)&(sens_df.Q==2)].means\n",
    "stds = sens_df[(sens_df.D==2)&(sens_df.Q==2)].stds\n",
    "fig = go.Figure()\n",
    "fig.add_trace(\n",
    "    go.Scatter(\n",
    "        x=x,\n",
    "        y=y,\n",
    "        showlegend=False\n",
    "    )\n",
    ")\n",
    "fig.add_trace(\n",
    "    go.Scatter(\n",
    "        x = pd.concat([x, x[::-1]]),\n",
    "        y = pd.concat([y + stds, (y - stds)[::-1]]),\n",
    "        fill='toself',\n",
    "        fillcolor='rgba(255,100,80,0.2)',\n",
    "        line=dict(color='rgba(255,255,255,0)'),\n",
    "        hoverinfo=\"skip\",\n",
    "        showlegend=False\n",
    "    )\n",
    ")\n",
    "fig.update_layout(\n",
    "    title={\"text\": \"Sensitivity of Autoregressions (D=2, Q=2)\", \"xanchor\": 'center', 'x': 0.5, 'y':0.85},\n",
    "    xaxis_title=\"Autoregressions\",\n",
    "    yaxis_title=\"MAE (MWh)\"\n",
    ")\n",
    "fig.show()\n",
    "fig.write_image(\"sensar.png\")"
   ]
  },
  {
   "cell_type": "code",
   "execution_count": 149,
   "id": "db07eed0-c1f1-4743-a1c7-06c5e0728031",
   "metadata": {},
   "outputs": [
    {
     "data": {
      "application/vnd.plotly.v1+json": {
       "config": {
        "plotlyServerURL": "https://plot.ly"
       },
       "data": [
        {
         "showlegend": false,
         "type": "scatter",
         "x": [
          1,
          2,
          3,
          4,
          5,
          6,
          7,
          8
         ],
         "y": [
          9186.833053935574,
          14135.864199130137,
          21094.905924121857,
          826474.5649024461,
          15057461.586320344,
          337538780.107771,
          20836717015.637238,
          1041635299833.6285
         ]
        },
        {
         "fill": "toself",
         "fillcolor": "rgba(255,100,80,0.2)",
         "hoverinfo": "skip",
         "line": {
          "color": "rgba(255,255,255,0)"
         },
         "showlegend": false,
         "type": "scatter",
         "x": [
          1,
          2,
          3,
          4,
          5,
          6,
          7,
          8,
          8,
          7,
          6,
          5,
          4,
          3,
          2,
          1
         ],
         "y": [
          10180.547870311813,
          20448.904318023815,
          34177.832381620494,
          1583298.1233169364,
          31178714.041326217,
          566508605.3128892,
          36762653251.831116,
          2059712950296.8096,
          23557649370.44763,
          4910780779.443356,
          108568954.90265274,
          -1063790.8686855305,
          69651.0064879558,
          8011.979466623221,
          7822.824080236461,
          8193.118237559334
         ]
        }
       ],
       "layout": {
        "autosize": true,
        "template": {
         "data": {
          "bar": [
           {
            "error_x": {
             "color": "#2a3f5f"
            },
            "error_y": {
             "color": "#2a3f5f"
            },
            "marker": {
             "line": {
              "color": "#E5ECF6",
              "width": 0.5
             },
             "pattern": {
              "fillmode": "overlay",
              "size": 10,
              "solidity": 0.2
             }
            },
            "type": "bar"
           }
          ],
          "barpolar": [
           {
            "marker": {
             "line": {
              "color": "#E5ECF6",
              "width": 0.5
             },
             "pattern": {
              "fillmode": "overlay",
              "size": 10,
              "solidity": 0.2
             }
            },
            "type": "barpolar"
           }
          ],
          "carpet": [
           {
            "aaxis": {
             "endlinecolor": "#2a3f5f",
             "gridcolor": "white",
             "linecolor": "white",
             "minorgridcolor": "white",
             "startlinecolor": "#2a3f5f"
            },
            "baxis": {
             "endlinecolor": "#2a3f5f",
             "gridcolor": "white",
             "linecolor": "white",
             "minorgridcolor": "white",
             "startlinecolor": "#2a3f5f"
            },
            "type": "carpet"
           }
          ],
          "choropleth": [
           {
            "colorbar": {
             "outlinewidth": 0,
             "ticks": ""
            },
            "type": "choropleth"
           }
          ],
          "contour": [
           {
            "colorbar": {
             "outlinewidth": 0,
             "ticks": ""
            },
            "colorscale": [
             [
              0,
              "#0d0887"
             ],
             [
              0.1111111111111111,
              "#46039f"
             ],
             [
              0.2222222222222222,
              "#7201a8"
             ],
             [
              0.3333333333333333,
              "#9c179e"
             ],
             [
              0.4444444444444444,
              "#bd3786"
             ],
             [
              0.5555555555555556,
              "#d8576b"
             ],
             [
              0.6666666666666666,
              "#ed7953"
             ],
             [
              0.7777777777777778,
              "#fb9f3a"
             ],
             [
              0.8888888888888888,
              "#fdca26"
             ],
             [
              1,
              "#f0f921"
             ]
            ],
            "type": "contour"
           }
          ],
          "contourcarpet": [
           {
            "colorbar": {
             "outlinewidth": 0,
             "ticks": ""
            },
            "type": "contourcarpet"
           }
          ],
          "heatmap": [
           {
            "colorbar": {
             "outlinewidth": 0,
             "ticks": ""
            },
            "colorscale": [
             [
              0,
              "#0d0887"
             ],
             [
              0.1111111111111111,
              "#46039f"
             ],
             [
              0.2222222222222222,
              "#7201a8"
             ],
             [
              0.3333333333333333,
              "#9c179e"
             ],
             [
              0.4444444444444444,
              "#bd3786"
             ],
             [
              0.5555555555555556,
              "#d8576b"
             ],
             [
              0.6666666666666666,
              "#ed7953"
             ],
             [
              0.7777777777777778,
              "#fb9f3a"
             ],
             [
              0.8888888888888888,
              "#fdca26"
             ],
             [
              1,
              "#f0f921"
             ]
            ],
            "type": "heatmap"
           }
          ],
          "heatmapgl": [
           {
            "colorbar": {
             "outlinewidth": 0,
             "ticks": ""
            },
            "colorscale": [
             [
              0,
              "#0d0887"
             ],
             [
              0.1111111111111111,
              "#46039f"
             ],
             [
              0.2222222222222222,
              "#7201a8"
             ],
             [
              0.3333333333333333,
              "#9c179e"
             ],
             [
              0.4444444444444444,
              "#bd3786"
             ],
             [
              0.5555555555555556,
              "#d8576b"
             ],
             [
              0.6666666666666666,
              "#ed7953"
             ],
             [
              0.7777777777777778,
              "#fb9f3a"
             ],
             [
              0.8888888888888888,
              "#fdca26"
             ],
             [
              1,
              "#f0f921"
             ]
            ],
            "type": "heatmapgl"
           }
          ],
          "histogram": [
           {
            "marker": {
             "pattern": {
              "fillmode": "overlay",
              "size": 10,
              "solidity": 0.2
             }
            },
            "type": "histogram"
           }
          ],
          "histogram2d": [
           {
            "colorbar": {
             "outlinewidth": 0,
             "ticks": ""
            },
            "colorscale": [
             [
              0,
              "#0d0887"
             ],
             [
              0.1111111111111111,
              "#46039f"
             ],
             [
              0.2222222222222222,
              "#7201a8"
             ],
             [
              0.3333333333333333,
              "#9c179e"
             ],
             [
              0.4444444444444444,
              "#bd3786"
             ],
             [
              0.5555555555555556,
              "#d8576b"
             ],
             [
              0.6666666666666666,
              "#ed7953"
             ],
             [
              0.7777777777777778,
              "#fb9f3a"
             ],
             [
              0.8888888888888888,
              "#fdca26"
             ],
             [
              1,
              "#f0f921"
             ]
            ],
            "type": "histogram2d"
           }
          ],
          "histogram2dcontour": [
           {
            "colorbar": {
             "outlinewidth": 0,
             "ticks": ""
            },
            "colorscale": [
             [
              0,
              "#0d0887"
             ],
             [
              0.1111111111111111,
              "#46039f"
             ],
             [
              0.2222222222222222,
              "#7201a8"
             ],
             [
              0.3333333333333333,
              "#9c179e"
             ],
             [
              0.4444444444444444,
              "#bd3786"
             ],
             [
              0.5555555555555556,
              "#d8576b"
             ],
             [
              0.6666666666666666,
              "#ed7953"
             ],
             [
              0.7777777777777778,
              "#fb9f3a"
             ],
             [
              0.8888888888888888,
              "#fdca26"
             ],
             [
              1,
              "#f0f921"
             ]
            ],
            "type": "histogram2dcontour"
           }
          ],
          "mesh3d": [
           {
            "colorbar": {
             "outlinewidth": 0,
             "ticks": ""
            },
            "type": "mesh3d"
           }
          ],
          "parcoords": [
           {
            "line": {
             "colorbar": {
              "outlinewidth": 0,
              "ticks": ""
             }
            },
            "type": "parcoords"
           }
          ],
          "pie": [
           {
            "automargin": true,
            "type": "pie"
           }
          ],
          "scatter": [
           {
            "fillpattern": {
             "fillmode": "overlay",
             "size": 10,
             "solidity": 0.2
            },
            "type": "scatter"
           }
          ],
          "scatter3d": [
           {
            "line": {
             "colorbar": {
              "outlinewidth": 0,
              "ticks": ""
             }
            },
            "marker": {
             "colorbar": {
              "outlinewidth": 0,
              "ticks": ""
             }
            },
            "type": "scatter3d"
           }
          ],
          "scattercarpet": [
           {
            "marker": {
             "colorbar": {
              "outlinewidth": 0,
              "ticks": ""
             }
            },
            "type": "scattercarpet"
           }
          ],
          "scattergeo": [
           {
            "marker": {
             "colorbar": {
              "outlinewidth": 0,
              "ticks": ""
             }
            },
            "type": "scattergeo"
           }
          ],
          "scattergl": [
           {
            "marker": {
             "colorbar": {
              "outlinewidth": 0,
              "ticks": ""
             }
            },
            "type": "scattergl"
           }
          ],
          "scattermapbox": [
           {
            "marker": {
             "colorbar": {
              "outlinewidth": 0,
              "ticks": ""
             }
            },
            "type": "scattermapbox"
           }
          ],
          "scatterpolar": [
           {
            "marker": {
             "colorbar": {
              "outlinewidth": 0,
              "ticks": ""
             }
            },
            "type": "scatterpolar"
           }
          ],
          "scatterpolargl": [
           {
            "marker": {
             "colorbar": {
              "outlinewidth": 0,
              "ticks": ""
             }
            },
            "type": "scatterpolargl"
           }
          ],
          "scatterternary": [
           {
            "marker": {
             "colorbar": {
              "outlinewidth": 0,
              "ticks": ""
             }
            },
            "type": "scatterternary"
           }
          ],
          "surface": [
           {
            "colorbar": {
             "outlinewidth": 0,
             "ticks": ""
            },
            "colorscale": [
             [
              0,
              "#0d0887"
             ],
             [
              0.1111111111111111,
              "#46039f"
             ],
             [
              0.2222222222222222,
              "#7201a8"
             ],
             [
              0.3333333333333333,
              "#9c179e"
             ],
             [
              0.4444444444444444,
              "#bd3786"
             ],
             [
              0.5555555555555556,
              "#d8576b"
             ],
             [
              0.6666666666666666,
              "#ed7953"
             ],
             [
              0.7777777777777778,
              "#fb9f3a"
             ],
             [
              0.8888888888888888,
              "#fdca26"
             ],
             [
              1,
              "#f0f921"
             ]
            ],
            "type": "surface"
           }
          ],
          "table": [
           {
            "cells": {
             "fill": {
              "color": "#EBF0F8"
             },
             "line": {
              "color": "white"
             }
            },
            "header": {
             "fill": {
              "color": "#C8D4E3"
             },
             "line": {
              "color": "white"
             }
            },
            "type": "table"
           }
          ]
         },
         "layout": {
          "annotationdefaults": {
           "arrowcolor": "#2a3f5f",
           "arrowhead": 0,
           "arrowwidth": 1
          },
          "autotypenumbers": "strict",
          "coloraxis": {
           "colorbar": {
            "outlinewidth": 0,
            "ticks": ""
           }
          },
          "colorscale": {
           "diverging": [
            [
             0,
             "#8e0152"
            ],
            [
             0.1,
             "#c51b7d"
            ],
            [
             0.2,
             "#de77ae"
            ],
            [
             0.3,
             "#f1b6da"
            ],
            [
             0.4,
             "#fde0ef"
            ],
            [
             0.5,
             "#f7f7f7"
            ],
            [
             0.6,
             "#e6f5d0"
            ],
            [
             0.7,
             "#b8e186"
            ],
            [
             0.8,
             "#7fbc41"
            ],
            [
             0.9,
             "#4d9221"
            ],
            [
             1,
             "#276419"
            ]
           ],
           "sequential": [
            [
             0,
             "#0d0887"
            ],
            [
             0.1111111111111111,
             "#46039f"
            ],
            [
             0.2222222222222222,
             "#7201a8"
            ],
            [
             0.3333333333333333,
             "#9c179e"
            ],
            [
             0.4444444444444444,
             "#bd3786"
            ],
            [
             0.5555555555555556,
             "#d8576b"
            ],
            [
             0.6666666666666666,
             "#ed7953"
            ],
            [
             0.7777777777777778,
             "#fb9f3a"
            ],
            [
             0.8888888888888888,
             "#fdca26"
            ],
            [
             1,
             "#f0f921"
            ]
           ],
           "sequentialminus": [
            [
             0,
             "#0d0887"
            ],
            [
             0.1111111111111111,
             "#46039f"
            ],
            [
             0.2222222222222222,
             "#7201a8"
            ],
            [
             0.3333333333333333,
             "#9c179e"
            ],
            [
             0.4444444444444444,
             "#bd3786"
            ],
            [
             0.5555555555555556,
             "#d8576b"
            ],
            [
             0.6666666666666666,
             "#ed7953"
            ],
            [
             0.7777777777777778,
             "#fb9f3a"
            ],
            [
             0.8888888888888888,
             "#fdca26"
            ],
            [
             1,
             "#f0f921"
            ]
           ]
          },
          "colorway": [
           "#636efa",
           "#EF553B",
           "#00cc96",
           "#ab63fa",
           "#FFA15A",
           "#19d3f3",
           "#FF6692",
           "#B6E880",
           "#FF97FF",
           "#FECB52"
          ],
          "font": {
           "color": "#2a3f5f"
          },
          "geo": {
           "bgcolor": "white",
           "lakecolor": "white",
           "landcolor": "#E5ECF6",
           "showlakes": true,
           "showland": true,
           "subunitcolor": "white"
          },
          "hoverlabel": {
           "align": "left"
          },
          "hovermode": "closest",
          "mapbox": {
           "style": "light"
          },
          "paper_bgcolor": "white",
          "plot_bgcolor": "#E5ECF6",
          "polar": {
           "angularaxis": {
            "gridcolor": "white",
            "linecolor": "white",
            "ticks": ""
           },
           "bgcolor": "#E5ECF6",
           "radialaxis": {
            "gridcolor": "white",
            "linecolor": "white",
            "ticks": ""
           }
          },
          "scene": {
           "xaxis": {
            "backgroundcolor": "#E5ECF6",
            "gridcolor": "white",
            "gridwidth": 2,
            "linecolor": "white",
            "showbackground": true,
            "ticks": "",
            "zerolinecolor": "white"
           },
           "yaxis": {
            "backgroundcolor": "#E5ECF6",
            "gridcolor": "white",
            "gridwidth": 2,
            "linecolor": "white",
            "showbackground": true,
            "ticks": "",
            "zerolinecolor": "white"
           },
           "zaxis": {
            "backgroundcolor": "#E5ECF6",
            "gridcolor": "white",
            "gridwidth": 2,
            "linecolor": "white",
            "showbackground": true,
            "ticks": "",
            "zerolinecolor": "white"
           }
          },
          "shapedefaults": {
           "line": {
            "color": "#2a3f5f"
           }
          },
          "ternary": {
           "aaxis": {
            "gridcolor": "white",
            "linecolor": "white",
            "ticks": ""
           },
           "baxis": {
            "gridcolor": "white",
            "linecolor": "white",
            "ticks": ""
           },
           "bgcolor": "#E5ECF6",
           "caxis": {
            "gridcolor": "white",
            "linecolor": "white",
            "ticks": ""
           }
          },
          "title": {
           "x": 0.05
          },
          "xaxis": {
           "automargin": true,
           "gridcolor": "white",
           "linecolor": "white",
           "ticks": "",
           "title": {
            "standoff": 15
           },
           "zerolinecolor": "white",
           "zerolinewidth": 2
          },
          "yaxis": {
           "automargin": true,
           "gridcolor": "white",
           "linecolor": "white",
           "ticks": "",
           "title": {
            "standoff": 15
           },
           "zerolinecolor": "white",
           "zerolinewidth": 2
          }
         }
        },
        "title": {
         "text": "Sensitivity of Moving Averages (P=2, D=2)",
         "x": 0.5,
         "xanchor": "center",
         "y": 0.85
        },
        "xaxis": {
         "autorange": true,
         "range": [
          0.5763640695735048,
          8.423635930426496
         ],
         "title": {
          "text": "Moving Averages"
         },
         "type": "linear"
        },
        "yaxis": {
         "autorange": true,
         "range": [
          -169977463011.6965,
          2229689349517.637
         ],
         "title": {
          "text": "MAE (MWh)"
         },
         "type": "linear"
        }
       }
      },
      "image/png": "[encoded data removed]",
      "text/html": [
       "<div>                            <div id=\"6dc7ba62-1d93-41ec-88f0-9431bcf13a2a\" class=\"plotly-graph-div\" style=\"height:525px; width:100%;\"></div>            <script type=\"text/javascript\">                require([\"plotly\"], function(Plotly) {                    window.PLOTLYENV=window.PLOTLYENV || {};                                    if (document.getElementById(\"6dc7ba62-1d93-41ec-88f0-9431bcf13a2a\")) {                    Plotly.newPlot(                        \"6dc7ba62-1d93-41ec-88f0-9431bcf13a2a\",                        [{\"showlegend\":false,\"x\":[1,2,3,4,5,6,7,8],\"y\":[9186.833053935574,14135.864199130137,21094.905924121857,826474.5649024461,15057461.586320344,337538780.107771,20836717015.637238,1041635299833.6285],\"type\":\"scatter\"},{\"fill\":\"toself\",\"fillcolor\":\"rgba(255,100,80,0.2)\",\"hoverinfo\":\"skip\",\"line\":{\"color\":\"rgba(255,255,255,0)\"},\"showlegend\":false,\"x\":[1,2,3,4,5,6,7,8,8,7,6,5,4,3,2,1],\"y\":[10180.547870311813,20448.904318023815,34177.832381620494,1583298.1233169364,31178714.041326217,566508605.3128892,36762653251.831116,2059712950296.8096,23557649370.44763,4910780779.443356,108568954.90265274,-1063790.8686855305,69651.0064879558,8011.979466623221,7822.824080236461,8193.118237559334],\"type\":\"scatter\"}],                        {\"template\":{\"data\":{\"histogram2dcontour\":[{\"type\":\"histogram2dcontour\",\"colorbar\":{\"outlinewidth\":0,\"ticks\":\"\"},\"colorscale\":[[0.0,\"#0d0887\"],[0.1111111111111111,\"#46039f\"],[0.2222222222222222,\"#7201a8\"],[0.3333333333333333,\"#9c179e\"],[0.4444444444444444,\"#bd3786\"],[0.5555555555555556,\"#d8576b\"],[0.6666666666666666,\"#ed7953\"],[0.7777777777777778,\"#fb9f3a\"],[0.8888888888888888,\"#fdca26\"],[1.0,\"#f0f921\"]]}],\"choropleth\":[{\"type\":\"choropleth\",\"colorbar\":{\"outlinewidth\":0,\"ticks\":\"\"}}],\"histogram2d\":[{\"type\":\"histogram2d\",\"colorbar\":{\"outlinewidth\":0,\"ticks\":\"\"},\"colorscale\":[[0.0,\"#0d0887\"],[0.1111111111111111,\"#46039f\"],[0.2222222222222222,\"#7201a8\"],[0.3333333333333333,\"#9c179e\"],[0.4444444444444444,\"#bd3786\"],[0.5555555555555556,\"#d8576b\"],[0.6666666666666666,\"#ed7953\"],[0.7777777777777778,\"#fb9f3a\"],[0.8888888888888888,\"#fdca26\"],[1.0,\"#f0f921\"]]}],\"heatmap\":[{\"type\":\"heatmap\",\"colorbar\":{\"outlinewidth\":0,\"ticks\":\"\"},\"colorscale\":[[0.0,\"#0d0887\"],[0.1111111111111111,\"#46039f\"],[0.2222222222222222,\"#7201a8\"],[0.3333333333333333,\"#9c179e\"],[0.4444444444444444,\"#bd3786\"],[0.5555555555555556,\"#d8576b\"],[0.6666666666666666,\"#ed7953\"],[0.7777777777777778,\"#fb9f3a\"],[0.8888888888888888,\"#fdca26\"],[1.0,\"#f0f921\"]]}],\"heatmapgl\":[{\"type\":\"heatmapgl\",\"colorbar\":{\"outlinewidth\":0,\"ticks\":\"\"},\"colorscale\":[[0.0,\"#0d0887\"],[0.1111111111111111,\"#46039f\"],[0.2222222222222222,\"#7201a8\"],[0.3333333333333333,\"#9c179e\"],[0.4444444444444444,\"#bd3786\"],[0.5555555555555556,\"#d8576b\"],[0.6666666666666666,\"#ed7953\"],[0.7777777777777778,\"#fb9f3a\"],[0.8888888888888888,\"#fdca26\"],[1.0,\"#f0f921\"]]}],\"contourcarpet\":[{\"type\":\"contourcarpet\",\"colorbar\":{\"outlinewidth\":0,\"ticks\":\"\"}}],\"contour\":[{\"type\":\"contour\",\"colorbar\":{\"outlinewidth\":0,\"ticks\":\"\"},\"colorscale\":[[0.0,\"#0d0887\"],[0.1111111111111111,\"#46039f\"],[0.2222222222222222,\"#7201a8\"],[0.3333333333333333,\"#9c179e\"],[0.4444444444444444,\"#bd3786\"],[0.5555555555555556,\"#d8576b\"],[0.6666666666666666,\"#ed7953\"],[0.7777777777777778,\"#fb9f3a\"],[0.8888888888888888,\"#fdca26\"],[1.0,\"#f0f921\"]]}],\"surface\":[{\"type\":\"surface\",\"colorbar\":{\"outlinewidth\":0,\"ticks\":\"\"},\"colorscale\":[[0.0,\"#0d0887\"],[0.1111111111111111,\"#46039f\"],[0.2222222222222222,\"#7201a8\"],[0.3333333333333333,\"#9c179e\"],[0.4444444444444444,\"#bd3786\"],[0.5555555555555556,\"#d8576b\"],[0.6666666666666666,\"#ed7953\"],[0.7777777777777778,\"#fb9f3a\"],[0.8888888888888888,\"#fdca26\"],[1.0,\"#f0f921\"]]}],\"mesh3d\":[{\"type\":\"mesh3d\",\"colorbar\":{\"outlinewidth\":0,\"ticks\":\"\"}}],\"scatter\":[{\"fillpattern\":{\"fillmode\":\"overlay\",\"size\":10,\"solidity\":0.2},\"type\":\"scatter\"}],\"parcoords\":[{\"type\":\"parcoords\",\"line\":{\"colorbar\":{\"outlinewidth\":0,\"ticks\":\"\"}}}],\"scatterpolargl\":[{\"type\":\"scatterpolargl\",\"marker\":{\"colorbar\":{\"outlinewidth\":0,\"ticks\":\"\"}}}],\"bar\":[{\"error_x\":{\"color\":\"#2a3f5f\"},\"error_y\":{\"color\":\"#2a3f5f\"},\"marker\":{\"line\":{\"color\":\"#E5ECF6\",\"width\":0.5},\"pattern\":{\"fillmode\":\"overlay\",\"size\":10,\"solidity\":0.2}},\"type\":\"bar\"}],\"scattergeo\":[{\"type\":\"scattergeo\",\"marker\":{\"colorbar\":{\"outlinewidth\":0,\"ticks\":\"\"}}}],\"scatterpolar\":[{\"type\":\"scatterpolar\",\"marker\":{\"colorbar\":{\"outlinewidth\":0,\"ticks\":\"\"}}}],\"histogram\":[{\"marker\":{\"pattern\":{\"fillmode\":\"overlay\",\"size\":10,\"solidity\":0.2}},\"type\":\"histogram\"}],\"scattergl\":[{\"type\":\"scattergl\",\"marker\":{\"colorbar\":{\"outlinewidth\":0,\"ticks\":\"\"}}}],\"scatter3d\":[{\"type\":\"scatter3d\",\"line\":{\"colorbar\":{\"outlinewidth\":0,\"ticks\":\"\"}},\"marker\":{\"colorbar\":{\"outlinewidth\":0,\"ticks\":\"\"}}}],\"scattermapbox\":[{\"type\":\"scattermapbox\",\"marker\":{\"colorbar\":{\"outlinewidth\":0,\"ticks\":\"\"}}}],\"scatterternary\":[{\"type\":\"scatterternary\",\"marker\":{\"colorbar\":{\"outlinewidth\":0,\"ticks\":\"\"}}}],\"scattercarpet\":[{\"type\":\"scattercarpet\",\"marker\":{\"colorbar\":{\"outlinewidth\":0,\"ticks\":\"\"}}}],\"carpet\":[{\"aaxis\":{\"endlinecolor\":\"#2a3f5f\",\"gridcolor\":\"white\",\"linecolor\":\"white\",\"minorgridcolor\":\"white\",\"startlinecolor\":\"#2a3f5f\"},\"baxis\":{\"endlinecolor\":\"#2a3f5f\",\"gridcolor\":\"white\",\"linecolor\":\"white\",\"minorgridcolor\":\"white\",\"startlinecolor\":\"#2a3f5f\"},\"type\":\"carpet\"}],\"table\":[{\"cells\":{\"fill\":{\"color\":\"#EBF0F8\"},\"line\":{\"color\":\"white\"}},\"header\":{\"fill\":{\"color\":\"#C8D4E3\"},\"line\":{\"color\":\"white\"}},\"type\":\"table\"}],\"barpolar\":[{\"marker\":{\"line\":{\"color\":\"#E5ECF6\",\"width\":0.5},\"pattern\":{\"fillmode\":\"overlay\",\"size\":10,\"solidity\":0.2}},\"type\":\"barpolar\"}],\"pie\":[{\"automargin\":true,\"type\":\"pie\"}]},\"layout\":{\"autotypenumbers\":\"strict\",\"colorway\":[\"#636efa\",\"#EF553B\",\"#00cc96\",\"#ab63fa\",\"#FFA15A\",\"#19d3f3\",\"#FF6692\",\"#B6E880\",\"#FF97FF\",\"#FECB52\"],\"font\":{\"color\":\"#2a3f5f\"},\"hovermode\":\"closest\",\"hoverlabel\":{\"align\":\"left\"},\"paper_bgcolor\":\"white\",\"plot_bgcolor\":\"#E5ECF6\",\"polar\":{\"bgcolor\":\"#E5ECF6\",\"angularaxis\":{\"gridcolor\":\"white\",\"linecolor\":\"white\",\"ticks\":\"\"},\"radialaxis\":{\"gridcolor\":\"white\",\"linecolor\":\"white\",\"ticks\":\"\"}},\"ternary\":{\"bgcolor\":\"#E5ECF6\",\"aaxis\":{\"gridcolor\":\"white\",\"linecolor\":\"white\",\"ticks\":\"\"},\"baxis\":{\"gridcolor\":\"white\",\"linecolor\":\"white\",\"ticks\":\"\"},\"caxis\":{\"gridcolor\":\"white\",\"linecolor\":\"white\",\"ticks\":\"\"}},\"coloraxis\":{\"colorbar\":{\"outlinewidth\":0,\"ticks\":\"\"}},\"colorscale\":{\"sequential\":[[0.0,\"#0d0887\"],[0.1111111111111111,\"#46039f\"],[0.2222222222222222,\"#7201a8\"],[0.3333333333333333,\"#9c179e\"],[0.4444444444444444,\"#bd3786\"],[0.5555555555555556,\"#d8576b\"],[0.6666666666666666,\"#ed7953\"],[0.7777777777777778,\"#fb9f3a\"],[0.8888888888888888,\"#fdca26\"],[1.0,\"#f0f921\"]],\"sequentialminus\":[[0.0,\"#0d0887\"],[0.1111111111111111,\"#46039f\"],[0.2222222222222222,\"#7201a8\"],[0.3333333333333333,\"#9c179e\"],[0.4444444444444444,\"#bd3786\"],[0.5555555555555556,\"#d8576b\"],[0.6666666666666666,\"#ed7953\"],[0.7777777777777778,\"#fb9f3a\"],[0.8888888888888888,\"#fdca26\"],[1.0,\"#f0f921\"]],\"diverging\":[[0,\"#8e0152\"],[0.1,\"#c51b7d\"],[0.2,\"#de77ae\"],[0.3,\"#f1b6da\"],[0.4,\"#fde0ef\"],[0.5,\"#f7f7f7\"],[0.6,\"#e6f5d0\"],[0.7,\"#b8e186\"],[0.8,\"#7fbc41\"],[0.9,\"#4d9221\"],[1,\"#276419\"]]},\"xaxis\":{\"gridcolor\":\"white\",\"linecolor\":\"white\",\"ticks\":\"\",\"title\":{\"standoff\":15},\"zerolinecolor\":\"white\",\"automargin\":true,\"zerolinewidth\":2},\"yaxis\":{\"gridcolor\":\"white\",\"linecolor\":\"white\",\"ticks\":\"\",\"title\":{\"standoff\":15},\"zerolinecolor\":\"white\",\"automargin\":true,\"zerolinewidth\":2},\"scene\":{\"xaxis\":{\"backgroundcolor\":\"#E5ECF6\",\"gridcolor\":\"white\",\"linecolor\":\"white\",\"showbackground\":true,\"ticks\":\"\",\"zerolinecolor\":\"white\",\"gridwidth\":2},\"yaxis\":{\"backgroundcolor\":\"#E5ECF6\",\"gridcolor\":\"white\",\"linecolor\":\"white\",\"showbackground\":true,\"ticks\":\"\",\"zerolinecolor\":\"white\",\"gridwidth\":2},\"zaxis\":{\"backgroundcolor\":\"#E5ECF6\",\"gridcolor\":\"white\",\"linecolor\":\"white\",\"showbackground\":true,\"ticks\":\"\",\"zerolinecolor\":\"white\",\"gridwidth\":2}},\"shapedefaults\":{\"line\":{\"color\":\"#2a3f5f\"}},\"annotationdefaults\":{\"arrowcolor\":\"#2a3f5f\",\"arrowhead\":0,\"arrowwidth\":1},\"geo\":{\"bgcolor\":\"white\",\"landcolor\":\"#E5ECF6\",\"subunitcolor\":\"white\",\"showland\":true,\"showlakes\":true,\"lakecolor\":\"white\"},\"title\":{\"x\":0.05},\"mapbox\":{\"style\":\"light\"}}},\"title\":{\"text\":\"Sensitivity of Moving Averages (P=2, D=2)\",\"xanchor\":\"center\",\"x\":0.5,\"y\":0.85},\"xaxis\":{\"title\":{\"text\":\"Moving Averages\"}},\"yaxis\":{\"title\":{\"text\":\"MAE (MWh)\"}}},                        {\"responsive\": true}                    ).then(function(){\n",
       "                            \n",
       "var gd = document.getElementById('6dc7ba62-1d93-41ec-88f0-9431bcf13a2a');\n",
       "var x = new MutationObserver(function (mutations, observer) {{\n",
       "        var display = window.getComputedStyle(gd).display;\n",
       "        if (!display || display === 'none') {{\n",
       "            console.log([gd, 'removed!']);\n",
       "            Plotly.purge(gd);\n",
       "            observer.disconnect();\n",
       "        }}\n",
       "}});\n",
       "\n",
       "// Listen for the removal of the full notebook cells\n",
       "var notebookContainer = gd.closest('#notebook-container');\n",
       "if (notebookContainer) {{\n",
       "    x.observe(notebookContainer, {childList: true});\n",
       "}}\n",
       "\n",
       "// Listen for the clearing of the current output cell\n",
       "var outputEl = gd.closest('.output');\n",
       "if (outputEl) {{\n",
       "    x.observe(outputEl, {childList: true});\n",
       "}}\n",
       "\n",
       "                        })                };                });            </script>        </div>"
      ]
     },
     "metadata": {},
     "output_type": "display_data"
    }
   ],
   "source": [
    "x = sens_df[(sens_df.D==2)&(sens_df.P==0)].Q\n",
    "y = sens_df[(sens_df.D==2)&(sens_df.P==0)].means\n",
    "stds = sens_df[(sens_df.D==2)&(sens_df.P==0)].stds\n",
    "fig = go.Figure()\n",
    "fig.add_trace(\n",
    "    go.Scatter(\n",
    "        x=x,\n",
    "        y=y,\n",
    "        showlegend=False\n",
    "    )\n",
    ")\n",
    "fig.add_trace(\n",
    "    go.Scatter(\n",
    "        x = pd.concat([x, x[::-1]]),\n",
    "        y = pd.concat([y + stds, (y - stds)[::-1]]),\n",
    "        fill='toself',\n",
    "        fillcolor='rgba(255,100,80,0.2)',\n",
    "        line=dict(color='rgba(255,255,255,0)'),\n",
    "        hoverinfo=\"skip\",\n",
    "        showlegend=False\n",
    "    )\n",
    ")\n",
    "fig.update_layout(\n",
    "    title={\"text\": \"Sensitivity of Moving Averages (P=2, D=2)\", \"xanchor\": 'center', 'x': 0.5, 'y':0.85},\n",
    "    xaxis_title=\"Moving Averages\",\n",
    "    yaxis_title=\"MAE (MWh)\"\n",
    ")\n",
    "fig.show()\n",
    "fig.write_image(\"sensma.png\")"
   ]
  },
  {
   "cell_type": "code",
   "execution_count": 138,
   "id": "7e2487e6-3cee-4ed3-9065-a7b145b853dd",
   "metadata": {},
   "outputs": [],
   "source": [
    "q = sens_df.means.quantile(0.3)\n",
    "bigplot = sens_df[(sens_df.means <= q)]"
   ]
  },
  {
   "cell_type": "code",
   "execution_count": 156,
   "id": "5bd2de6c-0587-49ac-88a8-d45560b07fbf",
   "metadata": {},
   "outputs": [
    {
     "data": {
      "application/vnd.plotly.v1+json": {
       "config": {
        "plotlyServerURL": "https://plot.ly"
       },
       "data": [
        {
         "marker": {
          "color": [
           9153.151149990623,
           9208.060650695805,
           9186.833053935574,
           9118.33587674662,
           9048.036467187301,
           9102.857131463763,
           14755.241638905107,
           14135.864199130137,
           14265.622045663957,
           14712.013264788602,
           13858.22540711144,
           21094.905924121857,
           19579.70422423855,
           20097.283456853762,
           22973.826635716978,
           9210.73292428942,
           9194.16476739127,
           9167.630382492473,
           9080.031372135325,
           9044.060945955373,
           9142.3403177169,
           14527.539531077413,
           14269.275901858602,
           15342.865696021006,
           14770.599674950161,
           15124.723500127666,
           22569.24013043036,
           20542.183037765157,
           23016.25157885911,
           19769.31479823887,
           26484.77301243834,
           35045.322409558175,
           9180.98350253345,
           9121.815546765607,
           9159.642061322505,
           9150.37991250601,
           8877.044234946063,
           9004.687866428038,
           14842.123269884814,
           15312.70370225915,
           13778.16313863288,
           15006.551019030929,
           14694.818584547005,
           20526.316116609734,
           21758.255625988033,
           22717.540680286715,
           21826.60743067983,
           9159.634196601903,
           9111.435117775738,
           9188.938828897955,
           8976.385012322316,
           8982.000373589684,
           9240.188508969812,
           14085.85153981156,
           15797.058439607445,
           14033.486120310485,
           13694.084898697678,
           14146.345146133279,
           20061.025267843008,
           21103.742616924173,
           22016.338425057358,
           9066.316339269482,
           9054.675074260856,
           9167.420339764636,
           8892.414184617537,
           8929.479275246134,
           9166.522063102711,
           14621.42263159511,
           15556.475688607368,
           13685.842093332283,
           13716.260999469878,
           13753.470373360291,
           22311.16926274244,
           23327.68340317867,
           9102.337434501147,
           9146.36244157239,
           9110.470723290826,
           9414.715422486448,
           9071.529744705174,
           9189.459118528988,
           47820.811657617975,
           14491.890367123899,
           15109.961939816369,
           14330.771921376796,
           13659.142590916876,
           13836.861684289941,
           22893.451836530003,
           9162.007987256944,
           9172.200002426902,
           9081.10458192988,
           9251.46967105089,
           8780.412173170806,
           8950.223386857871,
           43750.114612980324,
           14241.619526155551,
           14793.965776640112,
           13690.023272396871,
           13661.153812467575,
           14026.742311179769,
           18893.775714395244,
           44318.295527131624,
           21861.30785160028,
           9167.580156938919,
           9189.889015203018,
           9084.960897750021,
           9260.377626582671,
           8980.636623697614,
           8917.158061651124,
           42436.144011273675,
           13898.054017432401,
           14204.039496894102,
           13888.958518136904,
           13672.990520314599,
           13896.292879494751,
           23612.39737567219
          ],
          "colorbar": {
           "title": {
            "text": "MAE (MWh)"
           }
          },
          "showscale": true,
          "size": 6
         },
         "mode": "markers",
         "type": "scatter3d",
         "x": [
          0,
          0,
          0,
          0,
          0,
          0,
          0,
          0,
          0,
          0,
          0,
          0,
          0,
          0,
          0,
          1,
          1,
          1,
          1,
          1,
          1,
          1,
          1,
          1,
          1,
          1,
          1,
          1,
          1,
          1,
          1,
          1,
          2,
          2,
          2,
          2,
          2,
          2,
          2,
          2,
          2,
          2,
          2,
          2,
          2,
          2,
          2,
          3,
          3,
          3,
          3,
          3,
          3,
          3,
          3,
          3,
          3,
          3,
          3,
          3,
          3,
          4,
          4,
          4,
          4,
          4,
          4,
          4,
          4,
          4,
          4,
          4,
          4,
          4,
          5,
          5,
          5,
          5,
          5,
          5,
          5,
          5,
          5,
          5,
          5,
          5,
          5,
          6,
          6,
          6,
          6,
          6,
          6,
          6,
          6,
          6,
          6,
          6,
          6,
          6,
          6,
          6,
          7,
          7,
          7,
          7,
          7,
          7,
          7,
          7,
          7,
          7,
          7,
          7,
          7
         ],
         "y": [
          0,
          1,
          2,
          3,
          4,
          5,
          1,
          2,
          3,
          4,
          5,
          2,
          3,
          4,
          5,
          0,
          1,
          2,
          3,
          4,
          5,
          1,
          2,
          3,
          4,
          5,
          2,
          3,
          4,
          5,
          4,
          5,
          0,
          1,
          2,
          3,
          4,
          5,
          1,
          2,
          3,
          4,
          5,
          2,
          3,
          4,
          5,
          0,
          1,
          2,
          3,
          4,
          5,
          1,
          2,
          3,
          4,
          5,
          3,
          4,
          5,
          0,
          1,
          2,
          3,
          4,
          5,
          1,
          2,
          3,
          4,
          5,
          4,
          5,
          0,
          1,
          2,
          3,
          4,
          5,
          0,
          1,
          2,
          3,
          4,
          5,
          5,
          0,
          1,
          2,
          3,
          4,
          5,
          0,
          1,
          2,
          3,
          4,
          5,
          3,
          4,
          5,
          0,
          1,
          2,
          3,
          4,
          5,
          0,
          1,
          2,
          3,
          4,
          5,
          5
         ],
         "z": [
          1,
          1,
          1,
          1,
          1,
          1,
          2,
          2,
          2,
          2,
          2,
          3,
          3,
          3,
          3,
          1,
          1,
          1,
          1,
          1,
          1,
          2,
          2,
          2,
          2,
          2,
          3,
          3,
          3,
          3,
          4,
          4,
          1,
          1,
          1,
          1,
          1,
          1,
          2,
          2,
          2,
          2,
          2,
          3,
          3,
          3,
          3,
          1,
          1,
          1,
          1,
          1,
          1,
          2,
          2,
          2,
          2,
          2,
          3,
          3,
          3,
          1,
          1,
          1,
          1,
          1,
          1,
          2,
          2,
          2,
          2,
          2,
          3,
          3,
          1,
          1,
          1,
          1,
          1,
          1,
          2,
          2,
          2,
          2,
          2,
          2,
          3,
          1,
          1,
          1,
          1,
          1,
          1,
          2,
          2,
          2,
          2,
          2,
          2,
          3,
          3,
          3,
          1,
          1,
          1,
          1,
          1,
          1,
          2,
          2,
          2,
          2,
          2,
          2,
          3
         ]
        }
       ],
       "layout": {
        "height": 800,
        "scene": {
         "aspectmode": "auto",
         "aspectratio": {
          "x": 1.4837757661276572,
          "y": 1.0598398329483265,
          "z": 0.635903899768996
         },
         "camera": {
          "center": {
           "x": 0,
           "y": 0,
           "z": 0
          },
          "eye": {
           "x": -1.5785605168047598,
           "y": -0.16920423107944693,
           "z": 0.15936179878377593
          },
          "projection": {
           "type": "perspective"
          },
          "up": {
           "x": 0,
           "y": 0,
           "z": 1
          }
         },
         "xaxis": {
          "title": {
           "text": "Autoregressions"
          },
          "type": "linear"
         },
         "yaxis": {
          "title": {
           "text": "Differentiations"
          },
          "type": "linear"
         },
         "zaxis": {
          "title": {
           "text": "Moving Averages"
          },
          "type": "linear"
         }
        },
        "template": {
         "data": {
          "bar": [
           {
            "error_x": {
             "color": "#2a3f5f"
            },
            "error_y": {
             "color": "#2a3f5f"
            },
            "marker": {
             "line": {
              "color": "#E5ECF6",
              "width": 0.5
             },
             "pattern": {
              "fillmode": "overlay",
              "size": 10,
              "solidity": 0.2
             }
            },
            "type": "bar"
           }
          ],
          "barpolar": [
           {
            "marker": {
             "line": {
              "color": "#E5ECF6",
              "width": 0.5
             },
             "pattern": {
              "fillmode": "overlay",
              "size": 10,
              "solidity": 0.2
             }
            },
            "type": "barpolar"
           }
          ],
          "carpet": [
           {
            "aaxis": {
             "endlinecolor": "#2a3f5f",
             "gridcolor": "white",
             "linecolor": "white",
             "minorgridcolor": "white",
             "startlinecolor": "#2a3f5f"
            },
            "baxis": {
             "endlinecolor": "#2a3f5f",
             "gridcolor": "white",
             "linecolor": "white",
             "minorgridcolor": "white",
             "startlinecolor": "#2a3f5f"
            },
            "type": "carpet"
           }
          ],
          "choropleth": [
           {
            "colorbar": {
             "outlinewidth": 0,
             "ticks": ""
            },
            "type": "choropleth"
           }
          ],
          "contour": [
           {
            "colorbar": {
             "outlinewidth": 0,
             "ticks": ""
            },
            "colorscale": [
             [
              0,
              "#0d0887"
             ],
             [
              0.1111111111111111,
              "#46039f"
             ],
             [
              0.2222222222222222,
              "#7201a8"
             ],
             [
              0.3333333333333333,
              "#9c179e"
             ],
             [
              0.4444444444444444,
              "#bd3786"
             ],
             [
              0.5555555555555556,
              "#d8576b"
             ],
             [
              0.6666666666666666,
              "#ed7953"
             ],
             [
              0.7777777777777778,
              "#fb9f3a"
             ],
             [
              0.8888888888888888,
              "#fdca26"
             ],
             [
              1,
              "#f0f921"
             ]
            ],
            "type": "contour"
           }
          ],
          "contourcarpet": [
           {
            "colorbar": {
             "outlinewidth": 0,
             "ticks": ""
            },
            "type": "contourcarpet"
           }
          ],
          "heatmap": [
           {
            "colorbar": {
             "outlinewidth": 0,
             "ticks": ""
            },
            "colorscale": [
             [
              0,
              "#0d0887"
             ],
             [
              0.1111111111111111,
              "#46039f"
             ],
             [
              0.2222222222222222,
              "#7201a8"
             ],
             [
              0.3333333333333333,
              "#9c179e"
             ],
             [
              0.4444444444444444,
              "#bd3786"
             ],
             [
              0.5555555555555556,
              "#d8576b"
             ],
             [
              0.6666666666666666,
              "#ed7953"
             ],
             [
              0.7777777777777778,
              "#fb9f3a"
             ],
             [
              0.8888888888888888,
              "#fdca26"
             ],
             [
              1,
              "#f0f921"
             ]
            ],
            "type": "heatmap"
           }
          ],
          "heatmapgl": [
           {
            "colorbar": {
             "outlinewidth": 0,
             "ticks": ""
            },
            "colorscale": [
             [
              0,
              "#0d0887"
             ],
             [
              0.1111111111111111,
              "#46039f"
             ],
             [
              0.2222222222222222,
              "#7201a8"
             ],
             [
              0.3333333333333333,
              "#9c179e"
             ],
             [
              0.4444444444444444,
              "#bd3786"
             ],
             [
              0.5555555555555556,
              "#d8576b"
             ],
             [
              0.6666666666666666,
              "#ed7953"
             ],
             [
              0.7777777777777778,
              "#fb9f3a"
             ],
             [
              0.8888888888888888,
              "#fdca26"
             ],
             [
              1,
              "#f0f921"
             ]
            ],
            "type": "heatmapgl"
           }
          ],
          "histogram": [
           {
            "marker": {
             "pattern": {
              "fillmode": "overlay",
              "size": 10,
              "solidity": 0.2
             }
            },
            "type": "histogram"
           }
          ],
          "histogram2d": [
           {
            "colorbar": {
             "outlinewidth": 0,
             "ticks": ""
            },
            "colorscale": [
             [
              0,
              "#0d0887"
             ],
             [
              0.1111111111111111,
              "#46039f"
             ],
             [
              0.2222222222222222,
              "#7201a8"
             ],
             [
              0.3333333333333333,
              "#9c179e"
             ],
             [
              0.4444444444444444,
              "#bd3786"
             ],
             [
              0.5555555555555556,
              "#d8576b"
             ],
             [
              0.6666666666666666,
              "#ed7953"
             ],
             [
              0.7777777777777778,
              "#fb9f3a"
             ],
             [
              0.8888888888888888,
              "#fdca26"
             ],
             [
              1,
              "#f0f921"
             ]
            ],
            "type": "histogram2d"
           }
          ],
          "histogram2dcontour": [
           {
            "colorbar": {
             "outlinewidth": 0,
             "ticks": ""
            },
            "colorscale": [
             [
              0,
              "#0d0887"
             ],
             [
              0.1111111111111111,
              "#46039f"
             ],
             [
              0.2222222222222222,
              "#7201a8"
             ],
             [
              0.3333333333333333,
              "#9c179e"
             ],
             [
              0.4444444444444444,
              "#bd3786"
             ],
             [
              0.5555555555555556,
              "#d8576b"
             ],
             [
              0.6666666666666666,
              "#ed7953"
             ],
             [
              0.7777777777777778,
              "#fb9f3a"
             ],
             [
              0.8888888888888888,
              "#fdca26"
             ],
             [
              1,
              "#f0f921"
             ]
            ],
            "type": "histogram2dcontour"
           }
          ],
          "mesh3d": [
           {
            "colorbar": {
             "outlinewidth": 0,
             "ticks": ""
            },
            "type": "mesh3d"
           }
          ],
          "parcoords": [
           {
            "line": {
             "colorbar": {
              "outlinewidth": 0,
              "ticks": ""
             }
            },
            "type": "parcoords"
           }
          ],
          "pie": [
           {
            "automargin": true,
            "type": "pie"
           }
          ],
          "scatter": [
           {
            "fillpattern": {
             "fillmode": "overlay",
             "size": 10,
             "solidity": 0.2
            },
            "type": "scatter"
           }
          ],
          "scatter3d": [
           {
            "line": {
             "colorbar": {
              "outlinewidth": 0,
              "ticks": ""
             }
            },
            "marker": {
             "colorbar": {
              "outlinewidth": 0,
              "ticks": ""
             }
            },
            "type": "scatter3d"
           }
          ],
          "scattercarpet": [
           {
            "marker": {
             "colorbar": {
              "outlinewidth": 0,
              "ticks": ""
             }
            },
            "type": "scattercarpet"
           }
          ],
          "scattergeo": [
           {
            "marker": {
             "colorbar": {
              "outlinewidth": 0,
              "ticks": ""
             }
            },
            "type": "scattergeo"
           }
          ],
          "scattergl": [
           {
            "marker": {
             "colorbar": {
              "outlinewidth": 0,
              "ticks": ""
             }
            },
            "type": "scattergl"
           }
          ],
          "scattermapbox": [
           {
            "marker": {
             "colorbar": {
              "outlinewidth": 0,
              "ticks": ""
             }
            },
            "type": "scattermapbox"
           }
          ],
          "scatterpolar": [
           {
            "marker": {
             "colorbar": {
              "outlinewidth": 0,
              "ticks": ""
             }
            },
            "type": "scatterpolar"
           }
          ],
          "scatterpolargl": [
           {
            "marker": {
             "colorbar": {
              "outlinewidth": 0,
              "ticks": ""
             }
            },
            "type": "scatterpolargl"
           }
          ],
          "scatterternary": [
           {
            "marker": {
             "colorbar": {
              "outlinewidth": 0,
              "ticks": ""
             }
            },
            "type": "scatterternary"
           }
          ],
          "surface": [
           {
            "colorbar": {
             "outlinewidth": 0,
             "ticks": ""
            },
            "colorscale": [
             [
              0,
              "#0d0887"
             ],
             [
              0.1111111111111111,
              "#46039f"
             ],
             [
              0.2222222222222222,
              "#7201a8"
             ],
             [
              0.3333333333333333,
              "#9c179e"
             ],
             [
              0.4444444444444444,
              "#bd3786"
             ],
             [
              0.5555555555555556,
              "#d8576b"
             ],
             [
              0.6666666666666666,
              "#ed7953"
             ],
             [
              0.7777777777777778,
              "#fb9f3a"
             ],
             [
              0.8888888888888888,
              "#fdca26"
             ],
             [
              1,
              "#f0f921"
             ]
            ],
            "type": "surface"
           }
          ],
          "table": [
           {
            "cells": {
             "fill": {
              "color": "#EBF0F8"
             },
             "line": {
              "color": "white"
             }
            },
            "header": {
             "fill": {
              "color": "#C8D4E3"
             },
             "line": {
              "color": "white"
             }
            },
            "type": "table"
           }
          ]
         },
         "layout": {
          "annotationdefaults": {
           "arrowcolor": "#2a3f5f",
           "arrowhead": 0,
           "arrowwidth": 1
          },
          "autotypenumbers": "strict",
          "coloraxis": {
           "colorbar": {
            "outlinewidth": 0,
            "ticks": ""
           }
          },
          "colorscale": {
           "diverging": [
            [
             0,
             "#8e0152"
            ],
            [
             0.1,
             "#c51b7d"
            ],
            [
             0.2,
             "#de77ae"
            ],
            [
             0.3,
             "#f1b6da"
            ],
            [
             0.4,
             "#fde0ef"
            ],
            [
             0.5,
             "#f7f7f7"
            ],
            [
             0.6,
             "#e6f5d0"
            ],
            [
             0.7,
             "#b8e186"
            ],
            [
             0.8,
             "#7fbc41"
            ],
            [
             0.9,
             "#4d9221"
            ],
            [
             1,
             "#276419"
            ]
           ],
           "sequential": [
            [
             0,
             "#0d0887"
            ],
            [
             0.1111111111111111,
             "#46039f"
            ],
            [
             0.2222222222222222,
             "#7201a8"
            ],
            [
             0.3333333333333333,
             "#9c179e"
            ],
            [
             0.4444444444444444,
             "#bd3786"
            ],
            [
             0.5555555555555556,
             "#d8576b"
            ],
            [
             0.6666666666666666,
             "#ed7953"
            ],
            [
             0.7777777777777778,
             "#fb9f3a"
            ],
            [
             0.8888888888888888,
             "#fdca26"
            ],
            [
             1,
             "#f0f921"
            ]
           ],
           "sequentialminus": [
            [
             0,
             "#0d0887"
            ],
            [
             0.1111111111111111,
             "#46039f"
            ],
            [
             0.2222222222222222,
             "#7201a8"
            ],
            [
             0.3333333333333333,
             "#9c179e"
            ],
            [
             0.4444444444444444,
             "#bd3786"
            ],
            [
             0.5555555555555556,
             "#d8576b"
            ],
            [
             0.6666666666666666,
             "#ed7953"
            ],
            [
             0.7777777777777778,
             "#fb9f3a"
            ],
            [
             0.8888888888888888,
             "#fdca26"
            ],
            [
             1,
             "#f0f921"
            ]
           ]
          },
          "colorway": [
           "#636efa",
           "#EF553B",
           "#00cc96",
           "#ab63fa",
           "#FFA15A",
           "#19d3f3",
           "#FF6692",
           "#B6E880",
           "#FF97FF",
           "#FECB52"
          ],
          "font": {
           "color": "#2a3f5f"
          },
          "geo": {
           "bgcolor": "white",
           "lakecolor": "white",
           "landcolor": "#E5ECF6",
           "showlakes": true,
           "showland": true,
           "subunitcolor": "white"
          },
          "hoverlabel": {
           "align": "left"
          },
          "hovermode": "closest",
          "mapbox": {
           "style": "light"
          },
          "paper_bgcolor": "white",
          "plot_bgcolor": "#E5ECF6",
          "polar": {
           "angularaxis": {
            "gridcolor": "white",
            "linecolor": "white",
            "ticks": ""
           },
           "bgcolor": "#E5ECF6",
           "radialaxis": {
            "gridcolor": "white",
            "linecolor": "white",
            "ticks": ""
           }
          },
          "scene": {
           "xaxis": {
            "backgroundcolor": "#E5ECF6",
            "gridcolor": "white",
            "gridwidth": 2,
            "linecolor": "white",
            "showbackground": true,
            "ticks": "",
            "zerolinecolor": "white"
           },
           "yaxis": {
            "backgroundcolor": "#E5ECF6",
            "gridcolor": "white",
            "gridwidth": 2,
            "linecolor": "white",
            "showbackground": true,
            "ticks": "",
            "zerolinecolor": "white"
           },
           "zaxis": {
            "backgroundcolor": "#E5ECF6",
            "gridcolor": "white",
            "gridwidth": 2,
            "linecolor": "white",
            "showbackground": true,
            "ticks": "",
            "zerolinecolor": "white"
           }
          },
          "shapedefaults": {
           "line": {
            "color": "#2a3f5f"
           }
          },
          "ternary": {
           "aaxis": {
            "gridcolor": "white",
            "linecolor": "white",
            "ticks": ""
           },
           "baxis": {
            "gridcolor": "white",
            "linecolor": "white",
            "ticks": ""
           },
           "bgcolor": "#E5ECF6",
           "caxis": {
            "gridcolor": "white",
            "linecolor": "white",
            "ticks": ""
           }
          },
          "title": {
           "x": 0.05
          },
          "xaxis": {
           "automargin": true,
           "gridcolor": "white",
           "linecolor": "white",
           "ticks": "",
           "title": {
            "standoff": 15
           },
           "zerolinecolor": "white",
           "zerolinewidth": 2
          },
          "yaxis": {
           "automargin": true,
           "gridcolor": "white",
           "linecolor": "white",
           "ticks": "",
           "title": {
            "standoff": 15
           },
           "zerolinecolor": "white",
           "zerolinewidth": 2
          }
         }
        },
        "title": {
         "text": "Sensitivity for ARIMA Hyperparameters",
         "x": 0.5,
         "xanchor": "center",
         "y": 0.85
        },
        "width": 1000
       }
      },
      "text/html": [
       "<div>                            <div id=\"c90aaa83-c473-47d1-8801-7f833c4d36da\" class=\"plotly-graph-div\" style=\"height:800px; width:1000px;\"></div>            <script type=\"text/javascript\">                require([\"plotly\"], function(Plotly) {                    window.PLOTLYENV=window.PLOTLYENV || {};                                    if (document.getElementById(\"c90aaa83-c473-47d1-8801-7f833c4d36da\")) {                    Plotly.newPlot(                        \"c90aaa83-c473-47d1-8801-7f833c4d36da\",                        [{\"marker\":{\"color\":[9153.151149990623,9208.060650695805,9186.833053935574,9118.33587674662,9048.036467187301,9102.857131463763,14755.241638905107,14135.864199130137,14265.622045663957,14712.013264788602,13858.22540711144,21094.905924121857,19579.70422423855,20097.283456853762,22973.826635716978,9210.73292428942,9194.16476739127,9167.630382492473,9080.031372135325,9044.060945955373,9142.3403177169,14527.539531077413,14269.275901858602,15342.865696021006,14770.599674950161,15124.723500127666,22569.24013043036,20542.183037765157,23016.25157885911,19769.31479823887,26484.77301243834,35045.322409558175,9180.98350253345,9121.815546765607,9159.642061322505,9150.37991250601,8877.044234946063,9004.687866428038,14842.123269884814,15312.70370225915,13778.16313863288,15006.551019030929,14694.818584547005,20526.316116609734,21758.255625988033,22717.540680286715,21826.60743067983,9159.634196601903,9111.435117775738,9188.938828897955,8976.385012322316,8982.000373589684,9240.188508969812,14085.85153981156,15797.058439607445,14033.486120310485,13694.084898697678,14146.345146133279,20061.025267843008,21103.742616924173,22016.338425057358,9066.316339269482,9054.675074260856,9167.420339764636,8892.414184617537,8929.479275246134,9166.522063102711,14621.42263159511,15556.475688607368,13685.842093332283,13716.260999469878,13753.470373360291,22311.16926274244,23327.68340317867,9102.337434501147,9146.36244157239,9110.470723290826,9414.715422486448,9071.529744705174,9189.459118528988,47820.811657617975,14491.890367123899,15109.961939816369,14330.771921376796,13659.142590916876,13836.861684289941,22893.451836530003,9162.007987256944,9172.200002426902,9081.10458192988,9251.46967105089,8780.412173170806,8950.223386857871,43750.114612980324,14241.619526155551,14793.965776640112,13690.023272396871,13661.153812467575,14026.742311179769,18893.775714395244,44318.295527131624,21861.30785160028,9167.580156938919,9189.889015203018,9084.960897750021,9260.377626582671,8980.636623697614,8917.158061651124,42436.144011273675,13898.054017432401,14204.039496894102,13888.958518136904,13672.990520314599,13896.292879494751,23612.39737567219],\"colorbar\":{\"title\":{\"text\":\"MAE (MWh)\"}},\"showscale\":true,\"size\":6},\"mode\":\"markers\",\"x\":[0,0,0,0,0,0,0,0,0,0,0,0,0,0,0,1,1,1,1,1,1,1,1,1,1,1,1,1,1,1,1,1,2,2,2,2,2,2,2,2,2,2,2,2,2,2,2,3,3,3,3,3,3,3,3,3,3,3,3,3,3,4,4,4,4,4,4,4,4,4,4,4,4,4,5,5,5,5,5,5,5,5,5,5,5,5,5,6,6,6,6,6,6,6,6,6,6,6,6,6,6,6,7,7,7,7,7,7,7,7,7,7,7,7,7],\"y\":[0,1,2,3,4,5,1,2,3,4,5,2,3,4,5,0,1,2,3,4,5,1,2,3,4,5,2,3,4,5,4,5,0,1,2,3,4,5,1,2,3,4,5,2,3,4,5,0,1,2,3,4,5,1,2,3,4,5,3,4,5,0,1,2,3,4,5,1,2,3,4,5,4,5,0,1,2,3,4,5,0,1,2,3,4,5,5,0,1,2,3,4,5,0,1,2,3,4,5,3,4,5,0,1,2,3,4,5,0,1,2,3,4,5,5],\"z\":[1,1,1,1,1,1,2,2,2,2,2,3,3,3,3,1,1,1,1,1,1,2,2,2,2,2,3,3,3,3,4,4,1,1,1,1,1,1,2,2,2,2,2,3,3,3,3,1,1,1,1,1,1,2,2,2,2,2,3,3,3,1,1,1,1,1,1,2,2,2,2,2,3,3,1,1,1,1,1,1,2,2,2,2,2,2,3,1,1,1,1,1,1,2,2,2,2,2,2,3,3,3,1,1,1,1,1,1,2,2,2,2,2,2,3],\"type\":\"scatter3d\"}],                        {\"template\":{\"data\":{\"histogram2dcontour\":[{\"type\":\"histogram2dcontour\",\"colorbar\":{\"outlinewidth\":0,\"ticks\":\"\"},\"colorscale\":[[0.0,\"#0d0887\"],[0.1111111111111111,\"#46039f\"],[0.2222222222222222,\"#7201a8\"],[0.3333333333333333,\"#9c179e\"],[0.4444444444444444,\"#bd3786\"],[0.5555555555555556,\"#d8576b\"],[0.6666666666666666,\"#ed7953\"],[0.7777777777777778,\"#fb9f3a\"],[0.8888888888888888,\"#fdca26\"],[1.0,\"#f0f921\"]]}],\"choropleth\":[{\"type\":\"choropleth\",\"colorbar\":{\"outlinewidth\":0,\"ticks\":\"\"}}],\"histogram2d\":[{\"type\":\"histogram2d\",\"colorbar\":{\"outlinewidth\":0,\"ticks\":\"\"},\"colorscale\":[[0.0,\"#0d0887\"],[0.1111111111111111,\"#46039f\"],[0.2222222222222222,\"#7201a8\"],[0.3333333333333333,\"#9c179e\"],[0.4444444444444444,\"#bd3786\"],[0.5555555555555556,\"#d8576b\"],[0.6666666666666666,\"#ed7953\"],[0.7777777777777778,\"#fb9f3a\"],[0.8888888888888888,\"#fdca26\"],[1.0,\"#f0f921\"]]}],\"heatmap\":[{\"type\":\"heatmap\",\"colorbar\":{\"outlinewidth\":0,\"ticks\":\"\"},\"colorscale\":[[0.0,\"#0d0887\"],[0.1111111111111111,\"#46039f\"],[0.2222222222222222,\"#7201a8\"],[0.3333333333333333,\"#9c179e\"],[0.4444444444444444,\"#bd3786\"],[0.5555555555555556,\"#d8576b\"],[0.6666666666666666,\"#ed7953\"],[0.7777777777777778,\"#fb9f3a\"],[0.8888888888888888,\"#fdca26\"],[1.0,\"#f0f921\"]]}],\"heatmapgl\":[{\"type\":\"heatmapgl\",\"colorbar\":{\"outlinewidth\":0,\"ticks\":\"\"},\"colorscale\":[[0.0,\"#0d0887\"],[0.1111111111111111,\"#46039f\"],[0.2222222222222222,\"#7201a8\"],[0.3333333333333333,\"#9c179e\"],[0.4444444444444444,\"#bd3786\"],[0.5555555555555556,\"#d8576b\"],[0.6666666666666666,\"#ed7953\"],[0.7777777777777778,\"#fb9f3a\"],[0.8888888888888888,\"#fdca26\"],[1.0,\"#f0f921\"]]}],\"contourcarpet\":[{\"type\":\"contourcarpet\",\"colorbar\":{\"outlinewidth\":0,\"ticks\":\"\"}}],\"contour\":[{\"type\":\"contour\",\"colorbar\":{\"outlinewidth\":0,\"ticks\":\"\"},\"colorscale\":[[0.0,\"#0d0887\"],[0.1111111111111111,\"#46039f\"],[0.2222222222222222,\"#7201a8\"],[0.3333333333333333,\"#9c179e\"],[0.4444444444444444,\"#bd3786\"],[0.5555555555555556,\"#d8576b\"],[0.6666666666666666,\"#ed7953\"],[0.7777777777777778,\"#fb9f3a\"],[0.8888888888888888,\"#fdca26\"],[1.0,\"#f0f921\"]]}],\"surface\":[{\"type\":\"surface\",\"colorbar\":{\"outlinewidth\":0,\"ticks\":\"\"},\"colorscale\":[[0.0,\"#0d0887\"],[0.1111111111111111,\"#46039f\"],[0.2222222222222222,\"#7201a8\"],[0.3333333333333333,\"#9c179e\"],[0.4444444444444444,\"#bd3786\"],[0.5555555555555556,\"#d8576b\"],[0.6666666666666666,\"#ed7953\"],[0.7777777777777778,\"#fb9f3a\"],[0.8888888888888888,\"#fdca26\"],[1.0,\"#f0f921\"]]}],\"mesh3d\":[{\"type\":\"mesh3d\",\"colorbar\":{\"outlinewidth\":0,\"ticks\":\"\"}}],\"scatter\":[{\"fillpattern\":{\"fillmode\":\"overlay\",\"size\":10,\"solidity\":0.2},\"type\":\"scatter\"}],\"parcoords\":[{\"type\":\"parcoords\",\"line\":{\"colorbar\":{\"outlinewidth\":0,\"ticks\":\"\"}}}],\"scatterpolargl\":[{\"type\":\"scatterpolargl\",\"marker\":{\"colorbar\":{\"outlinewidth\":0,\"ticks\":\"\"}}}],\"bar\":[{\"error_x\":{\"color\":\"#2a3f5f\"},\"error_y\":{\"color\":\"#2a3f5f\"},\"marker\":{\"line\":{\"color\":\"#E5ECF6\",\"width\":0.5},\"pattern\":{\"fillmode\":\"overlay\",\"size\":10,\"solidity\":0.2}},\"type\":\"bar\"}],\"scattergeo\":[{\"type\":\"scattergeo\",\"marker\":{\"colorbar\":{\"outlinewidth\":0,\"ticks\":\"\"}}}],\"scatterpolar\":[{\"type\":\"scatterpolar\",\"marker\":{\"colorbar\":{\"outlinewidth\":0,\"ticks\":\"\"}}}],\"histogram\":[{\"marker\":{\"pattern\":{\"fillmode\":\"overlay\",\"size\":10,\"solidity\":0.2}},\"type\":\"histogram\"}],\"scattergl\":[{\"type\":\"scattergl\",\"marker\":{\"colorbar\":{\"outlinewidth\":0,\"ticks\":\"\"}}}],\"scatter3d\":[{\"type\":\"scatter3d\",\"line\":{\"colorbar\":{\"outlinewidth\":0,\"ticks\":\"\"}},\"marker\":{\"colorbar\":{\"outlinewidth\":0,\"ticks\":\"\"}}}],\"scattermapbox\":[{\"type\":\"scattermapbox\",\"marker\":{\"colorbar\":{\"outlinewidth\":0,\"ticks\":\"\"}}}],\"scatterternary\":[{\"type\":\"scatterternary\",\"marker\":{\"colorbar\":{\"outlinewidth\":0,\"ticks\":\"\"}}}],\"scattercarpet\":[{\"type\":\"scattercarpet\",\"marker\":{\"colorbar\":{\"outlinewidth\":0,\"ticks\":\"\"}}}],\"carpet\":[{\"aaxis\":{\"endlinecolor\":\"#2a3f5f\",\"gridcolor\":\"white\",\"linecolor\":\"white\",\"minorgridcolor\":\"white\",\"startlinecolor\":\"#2a3f5f\"},\"baxis\":{\"endlinecolor\":\"#2a3f5f\",\"gridcolor\":\"white\",\"linecolor\":\"white\",\"minorgridcolor\":\"white\",\"startlinecolor\":\"#2a3f5f\"},\"type\":\"carpet\"}],\"table\":[{\"cells\":{\"fill\":{\"color\":\"#EBF0F8\"},\"line\":{\"color\":\"white\"}},\"header\":{\"fill\":{\"color\":\"#C8D4E3\"},\"line\":{\"color\":\"white\"}},\"type\":\"table\"}],\"barpolar\":[{\"marker\":{\"line\":{\"color\":\"#E5ECF6\",\"width\":0.5},\"pattern\":{\"fillmode\":\"overlay\",\"size\":10,\"solidity\":0.2}},\"type\":\"barpolar\"}],\"pie\":[{\"automargin\":true,\"type\":\"pie\"}]},\"layout\":{\"autotypenumbers\":\"strict\",\"colorway\":[\"#636efa\",\"#EF553B\",\"#00cc96\",\"#ab63fa\",\"#FFA15A\",\"#19d3f3\",\"#FF6692\",\"#B6E880\",\"#FF97FF\",\"#FECB52\"],\"font\":{\"color\":\"#2a3f5f\"},\"hovermode\":\"closest\",\"hoverlabel\":{\"align\":\"left\"},\"paper_bgcolor\":\"white\",\"plot_bgcolor\":\"#E5ECF6\",\"polar\":{\"bgcolor\":\"#E5ECF6\",\"angularaxis\":{\"gridcolor\":\"white\",\"linecolor\":\"white\",\"ticks\":\"\"},\"radialaxis\":{\"gridcolor\":\"white\",\"linecolor\":\"white\",\"ticks\":\"\"}},\"ternary\":{\"bgcolor\":\"#E5ECF6\",\"aaxis\":{\"gridcolor\":\"white\",\"linecolor\":\"white\",\"ticks\":\"\"},\"baxis\":{\"gridcolor\":\"white\",\"linecolor\":\"white\",\"ticks\":\"\"},\"caxis\":{\"gridcolor\":\"white\",\"linecolor\":\"white\",\"ticks\":\"\"}},\"coloraxis\":{\"colorbar\":{\"outlinewidth\":0,\"ticks\":\"\"}},\"colorscale\":{\"sequential\":[[0.0,\"#0d0887\"],[0.1111111111111111,\"#46039f\"],[0.2222222222222222,\"#7201a8\"],[0.3333333333333333,\"#9c179e\"],[0.4444444444444444,\"#bd3786\"],[0.5555555555555556,\"#d8576b\"],[0.6666666666666666,\"#ed7953\"],[0.7777777777777778,\"#fb9f3a\"],[0.8888888888888888,\"#fdca26\"],[1.0,\"#f0f921\"]],\"sequentialminus\":[[0.0,\"#0d0887\"],[0.1111111111111111,\"#46039f\"],[0.2222222222222222,\"#7201a8\"],[0.3333333333333333,\"#9c179e\"],[0.4444444444444444,\"#bd3786\"],[0.5555555555555556,\"#d8576b\"],[0.6666666666666666,\"#ed7953\"],[0.7777777777777778,\"#fb9f3a\"],[0.8888888888888888,\"#fdca26\"],[1.0,\"#f0f921\"]],\"diverging\":[[0,\"#8e0152\"],[0.1,\"#c51b7d\"],[0.2,\"#de77ae\"],[0.3,\"#f1b6da\"],[0.4,\"#fde0ef\"],[0.5,\"#f7f7f7\"],[0.6,\"#e6f5d0\"],[0.7,\"#b8e186\"],[0.8,\"#7fbc41\"],[0.9,\"#4d9221\"],[1,\"#276419\"]]},\"xaxis\":{\"gridcolor\":\"white\",\"linecolor\":\"white\",\"ticks\":\"\",\"title\":{\"standoff\":15},\"zerolinecolor\":\"white\",\"automargin\":true,\"zerolinewidth\":2},\"yaxis\":{\"gridcolor\":\"white\",\"linecolor\":\"white\",\"ticks\":\"\",\"title\":{\"standoff\":15},\"zerolinecolor\":\"white\",\"automargin\":true,\"zerolinewidth\":2},\"scene\":{\"xaxis\":{\"backgroundcolor\":\"#E5ECF6\",\"gridcolor\":\"white\",\"linecolor\":\"white\",\"showbackground\":true,\"ticks\":\"\",\"zerolinecolor\":\"white\",\"gridwidth\":2},\"yaxis\":{\"backgroundcolor\":\"#E5ECF6\",\"gridcolor\":\"white\",\"linecolor\":\"white\",\"showbackground\":true,\"ticks\":\"\",\"zerolinecolor\":\"white\",\"gridwidth\":2},\"zaxis\":{\"backgroundcolor\":\"#E5ECF6\",\"gridcolor\":\"white\",\"linecolor\":\"white\",\"showbackground\":true,\"ticks\":\"\",\"zerolinecolor\":\"white\",\"gridwidth\":2}},\"shapedefaults\":{\"line\":{\"color\":\"#2a3f5f\"}},\"annotationdefaults\":{\"arrowcolor\":\"#2a3f5f\",\"arrowhead\":0,\"arrowwidth\":1},\"geo\":{\"bgcolor\":\"white\",\"landcolor\":\"#E5ECF6\",\"subunitcolor\":\"white\",\"showland\":true,\"showlakes\":true,\"lakecolor\":\"white\"},\"title\":{\"x\":0.05},\"mapbox\":{\"style\":\"light\"}}},\"title\":{\"text\":\"Sensitivity for ARIMA Hyperparameters\",\"xanchor\":\"center\",\"x\":0.5,\"y\":0.85},\"scene\":{\"xaxis\":{\"title\":{\"text\":\"Autoregressions\"}},\"yaxis\":{\"title\":{\"text\":\"Differentiations\"}},\"zaxis\":{\"title\":{\"text\":\"Moving Averages\"}}},\"height\":800,\"width\":1000},                        {\"responsive\": true}                    ).then(function(){\n",
       "                            \n",
       "var gd = document.getElementById('c90aaa83-c473-47d1-8801-7f833c4d36da');\n",
       "var x = new MutationObserver(function (mutations, observer) {{\n",
       "        var display = window.getComputedStyle(gd).display;\n",
       "        if (!display || display === 'none') {{\n",
       "            console.log([gd, 'removed!']);\n",
       "            Plotly.purge(gd);\n",
       "            observer.disconnect();\n",
       "        }}\n",
       "}});\n",
       "\n",
       "// Listen for the removal of the full notebook cells\n",
       "var notebookContainer = gd.closest('#notebook-container');\n",
       "if (notebookContainer) {{\n",
       "    x.observe(notebookContainer, {childList: true});\n",
       "}}\n",
       "\n",
       "// Listen for the clearing of the current output cell\n",
       "var outputEl = gd.closest('.output');\n",
       "if (outputEl) {{\n",
       "    x.observe(outputEl, {childList: true});\n",
       "}}\n",
       "\n",
       "                        })                };                });            </script>        </div>"
      ]
     },
     "metadata": {},
     "output_type": "display_data"
    }
   ],
   "source": [
    "fig = go.Figure()\n",
    "fig.add_trace(\n",
    "    go.Scatter3d(\n",
    "        x=bigplot.P,\n",
    "        y=bigplot.D,\n",
    "        z=bigplot.Q,\n",
    "        mode='markers',\n",
    "        marker=dict(\n",
    "            size=6,\n",
    "            color=bigplot.means,\n",
    "            colorbar={'title': 'MAE (MWh)'},\n",
    "            showscale=True\n",
    "        )\n",
    "    )\n",
    ")\n",
    "fig.update_layout(\n",
    "    title={\"text\": \"Sensitivity for ARIMA Hyperparameters\", \"xanchor\": 'center', 'x': 0.5, 'y':0.85},\n",
    "    scene=dict(xaxis_title=\"Autoregressions\",\n",
    "    yaxis_title=\"Differentiations\",\n",
    "    zaxis_title=\"Moving Averages\"),\n",
    "    height=800,\n",
    "    width=1000\n",
    ")\n",
    "fig.show()\n",
    "fig.write_image(\"3dplot.png\")"
   ]
  },
  {
   "cell_type": "markdown",
   "id": "6e02b05e-f20b-4cdf-a2d2-bc1fe7b1203e",
   "metadata": {},
   "source": [
    "### Training Data Size vs. MAE\n",
    "\n",
    "Learning curves are much simpler compared to the above. This is straightforward. We start with a small subset of data from the start date and we have a small subset of data. We slowly increase it and see if the error decreases. Feel free to change the `start` variable to any float value, larger or smaller, to see how the model reacts to data. If you're running this without warnings ignored also note how often warnings come up with fitting the ARIMA model.\n",
    "\n",
    "Having start on 0.05 (in the final report) this cell took about 3 minutes to run."
   ]
  },
  {
   "cell_type": "code",
   "execution_count": 12,
   "id": "4092a6ab-4c12-4f6f-831d-683c4973ee46",
   "metadata": {
    "scrolled": true
   },
   "outputs": [
    {
     "data": {
      "application/vnd.jupyter.widget-view+json": {
       "model_id": "9fe30616f1e44921ba549a8a55c424b7",
       "version_major": 2,
       "version_minor": 0
      },
      "text/plain": [
       "  0%|          | 0/17 [00:00<?, ?it/s]"
      ]
     },
     "metadata": {},
     "output_type": "display_data"
    },
    {
     "name": "stderr",
     "output_type": "stream",
     "text": [
      "/home/luismg0203/miniconda3/envs/forecasting/lib/python3.10/site-packages/statsmodels/tsa/statespace/sarimax.py:966: UserWarning: Non-stationary starting autoregressive parameters found. Using zeros as starting parameters.\n",
      "  warn('Non-stationary starting autoregressive parameters'\n",
      "/home/luismg0203/miniconda3/envs/forecasting/lib/python3.10/site-packages/statsmodels/tsa/statespace/sarimax.py:978: UserWarning: Non-invertible starting MA parameters found. Using zeros as starting parameters.\n",
      "  warn('Non-invertible starting MA parameters found.'\n",
      "/home/luismg0203/miniconda3/envs/forecasting/lib/python3.10/site-packages/statsmodels/base/model.py:607: ConvergenceWarning: Maximum Likelihood optimization failed to converge. Check mle_retvals\n",
      "  warnings.warn(\"Maximum Likelihood optimization failed to \"\n",
      "/home/luismg0203/miniconda3/envs/forecasting/lib/python3.10/site-packages/statsmodels/tsa/statespace/sarimax.py:978: UserWarning: Non-invertible starting MA parameters found. Using zeros as starting parameters.\n",
      "  warn('Non-invertible starting MA parameters found.'\n",
      "/home/luismg0203/miniconda3/envs/forecasting/lib/python3.10/site-packages/statsmodels/base/model.py:607: ConvergenceWarning: Maximum Likelihood optimization failed to converge. Check mle_retvals\n",
      "  warnings.warn(\"Maximum Likelihood optimization failed to \"\n",
      "/home/luismg0203/miniconda3/envs/forecasting/lib/python3.10/site-packages/statsmodels/tsa/statespace/sarimax.py:966: UserWarning: Non-stationary starting autoregressive parameters found. Using zeros as starting parameters.\n",
      "  warn('Non-stationary starting autoregressive parameters'\n",
      "/home/luismg0203/miniconda3/envs/forecasting/lib/python3.10/site-packages/statsmodels/tsa/statespace/sarimax.py:978: UserWarning: Non-invertible starting MA parameters found. Using zeros as starting parameters.\n",
      "  warn('Non-invertible starting MA parameters found.'\n",
      "/home/luismg0203/miniconda3/envs/forecasting/lib/python3.10/site-packages/statsmodels/base/model.py:607: ConvergenceWarning: Maximum Likelihood optimization failed to converge. Check mle_retvals\n",
      "  warnings.warn(\"Maximum Likelihood optimization failed to \"\n",
      "/home/luismg0203/miniconda3/envs/forecasting/lib/python3.10/site-packages/statsmodels/base/model.py:607: ConvergenceWarning: Maximum Likelihood optimization failed to converge. Check mle_retvals\n",
      "  warnings.warn(\"Maximum Likelihood optimization failed to \"\n",
      "/home/luismg0203/miniconda3/envs/forecasting/lib/python3.10/site-packages/statsmodels/tsa/statespace/sarimax.py:966: UserWarning: Non-stationary starting autoregressive parameters found. Using zeros as starting parameters.\n",
      "  warn('Non-stationary starting autoregressive parameters'\n",
      "/home/luismg0203/miniconda3/envs/forecasting/lib/python3.10/site-packages/statsmodels/tsa/statespace/sarimax.py:978: UserWarning: Non-invertible starting MA parameters found. Using zeros as starting parameters.\n",
      "  warn('Non-invertible starting MA parameters found.'\n",
      "/home/luismg0203/miniconda3/envs/forecasting/lib/python3.10/site-packages/statsmodels/base/model.py:607: ConvergenceWarning: Maximum Likelihood optimization failed to converge. Check mle_retvals\n",
      "  warnings.warn(\"Maximum Likelihood optimization failed to \"\n",
      "/home/luismg0203/miniconda3/envs/forecasting/lib/python3.10/site-packages/statsmodels/base/model.py:607: ConvergenceWarning: Maximum Likelihood optimization failed to converge. Check mle_retvals\n",
      "  warnings.warn(\"Maximum Likelihood optimization failed to \"\n",
      "/home/luismg0203/miniconda3/envs/forecasting/lib/python3.10/site-packages/statsmodels/base/model.py:607: ConvergenceWarning: Maximum Likelihood optimization failed to converge. Check mle_retvals\n",
      "  warnings.warn(\"Maximum Likelihood optimization failed to \"\n",
      "/home/luismg0203/miniconda3/envs/forecasting/lib/python3.10/site-packages/statsmodels/tsa/statespace/sarimax.py:966: UserWarning: Non-stationary starting autoregressive parameters found. Using zeros as starting parameters.\n",
      "  warn('Non-stationary starting autoregressive parameters'\n",
      "/home/luismg0203/miniconda3/envs/forecasting/lib/python3.10/site-packages/statsmodels/tsa/statespace/sarimax.py:978: UserWarning: Non-invertible starting MA parameters found. Using zeros as starting parameters.\n",
      "  warn('Non-invertible starting MA parameters found.'\n",
      "/home/luismg0203/miniconda3/envs/forecasting/lib/python3.10/site-packages/statsmodels/base/model.py:607: ConvergenceWarning: Maximum Likelihood optimization failed to converge. Check mle_retvals\n",
      "  warnings.warn(\"Maximum Likelihood optimization failed to \"\n",
      "/home/luismg0203/miniconda3/envs/forecasting/lib/python3.10/site-packages/statsmodels/tsa/statespace/sarimax.py:966: UserWarning: Non-stationary starting autoregressive parameters found. Using zeros as starting parameters.\n",
      "  warn('Non-stationary starting autoregressive parameters'\n",
      "/home/luismg0203/miniconda3/envs/forecasting/lib/python3.10/site-packages/statsmodels/tsa/statespace/sarimax.py:978: UserWarning: Non-invertible starting MA parameters found. Using zeros as starting parameters.\n",
      "  warn('Non-invertible starting MA parameters found.'\n",
      "/home/luismg0203/miniconda3/envs/forecasting/lib/python3.10/site-packages/statsmodels/base/model.py:607: ConvergenceWarning: Maximum Likelihood optimization failed to converge. Check mle_retvals\n",
      "  warnings.warn(\"Maximum Likelihood optimization failed to \"\n",
      "/home/luismg0203/miniconda3/envs/forecasting/lib/python3.10/site-packages/statsmodels/base/model.py:607: ConvergenceWarning: Maximum Likelihood optimization failed to converge. Check mle_retvals\n",
      "  warnings.warn(\"Maximum Likelihood optimization failed to \"\n",
      "/home/luismg0203/miniconda3/envs/forecasting/lib/python3.10/site-packages/statsmodels/base/model.py:607: ConvergenceWarning: Maximum Likelihood optimization failed to converge. Check mle_retvals\n",
      "  warnings.warn(\"Maximum Likelihood optimization failed to \"\n",
      "/home/luismg0203/miniconda3/envs/forecasting/lib/python3.10/site-packages/statsmodels/base/model.py:607: ConvergenceWarning: Maximum Likelihood optimization failed to converge. Check mle_retvals\n",
      "  warnings.warn(\"Maximum Likelihood optimization failed to \"\n",
      "/home/luismg0203/miniconda3/envs/forecasting/lib/python3.10/site-packages/statsmodels/base/model.py:607: ConvergenceWarning: Maximum Likelihood optimization failed to converge. Check mle_retvals\n",
      "  warnings.warn(\"Maximum Likelihood optimization failed to \"\n",
      "/home/luismg0203/miniconda3/envs/forecasting/lib/python3.10/site-packages/statsmodels/base/model.py:607: ConvergenceWarning: Maximum Likelihood optimization failed to converge. Check mle_retvals\n",
      "  warnings.warn(\"Maximum Likelihood optimization failed to \"\n",
      "/home/luismg0203/miniconda3/envs/forecasting/lib/python3.10/site-packages/statsmodels/tsa/statespace/sarimax.py:978: UserWarning: Non-invertible starting MA parameters found. Using zeros as starting parameters.\n",
      "  warn('Non-invertible starting MA parameters found.'\n",
      "/home/luismg0203/miniconda3/envs/forecasting/lib/python3.10/site-packages/statsmodels/base/model.py:607: ConvergenceWarning: Maximum Likelihood optimization failed to converge. Check mle_retvals\n",
      "  warnings.warn(\"Maximum Likelihood optimization failed to \"\n",
      "/home/luismg0203/miniconda3/envs/forecasting/lib/python3.10/site-packages/statsmodels/base/model.py:607: ConvergenceWarning: Maximum Likelihood optimization failed to converge. Check mle_retvals\n",
      "  warnings.warn(\"Maximum Likelihood optimization failed to \"\n",
      "/home/luismg0203/miniconda3/envs/forecasting/lib/python3.10/site-packages/statsmodels/base/model.py:607: ConvergenceWarning: Maximum Likelihood optimization failed to converge. Check mle_retvals\n",
      "  warnings.warn(\"Maximum Likelihood optimization failed to \"\n",
      "/home/luismg0203/miniconda3/envs/forecasting/lib/python3.10/site-packages/statsmodels/base/model.py:607: ConvergenceWarning: Maximum Likelihood optimization failed to converge. Check mle_retvals\n",
      "  warnings.warn(\"Maximum Likelihood optimization failed to \"\n",
      "/home/luismg0203/miniconda3/envs/forecasting/lib/python3.10/site-packages/statsmodels/base/model.py:607: ConvergenceWarning: Maximum Likelihood optimization failed to converge. Check mle_retvals\n",
      "  warnings.warn(\"Maximum Likelihood optimization failed to \"\n",
      "/home/luismg0203/miniconda3/envs/forecasting/lib/python3.10/site-packages/statsmodels/tsa/statespace/sarimax.py:966: UserWarning: Non-stationary starting autoregressive parameters found. Using zeros as starting parameters.\n",
      "  warn('Non-stationary starting autoregressive parameters'\n",
      "/home/luismg0203/miniconda3/envs/forecasting/lib/python3.10/site-packages/statsmodels/tsa/statespace/sarimax.py:978: UserWarning: Non-invertible starting MA parameters found. Using zeros as starting parameters.\n",
      "  warn('Non-invertible starting MA parameters found.'\n",
      "/home/luismg0203/miniconda3/envs/forecasting/lib/python3.10/site-packages/statsmodels/base/model.py:607: ConvergenceWarning: Maximum Likelihood optimization failed to converge. Check mle_retvals\n",
      "  warnings.warn(\"Maximum Likelihood optimization failed to \"\n",
      "/home/luismg0203/miniconda3/envs/forecasting/lib/python3.10/site-packages/statsmodels/base/model.py:607: ConvergenceWarning: Maximum Likelihood optimization failed to converge. Check mle_retvals\n",
      "  warnings.warn(\"Maximum Likelihood optimization failed to \"\n",
      "/home/luismg0203/miniconda3/envs/forecasting/lib/python3.10/site-packages/statsmodels/base/model.py:607: ConvergenceWarning: Maximum Likelihood optimization failed to converge. Check mle_retvals\n",
      "  warnings.warn(\"Maximum Likelihood optimization failed to \"\n",
      "/home/luismg0203/miniconda3/envs/forecasting/lib/python3.10/site-packages/statsmodels/base/model.py:607: ConvergenceWarning: Maximum Likelihood optimization failed to converge. Check mle_retvals\n",
      "  warnings.warn(\"Maximum Likelihood optimization failed to \"\n",
      "/home/luismg0203/miniconda3/envs/forecasting/lib/python3.10/site-packages/statsmodels/base/model.py:607: ConvergenceWarning: Maximum Likelihood optimization failed to converge. Check mle_retvals\n",
      "  warnings.warn(\"Maximum Likelihood optimization failed to \"\n",
      "/home/luismg0203/miniconda3/envs/forecasting/lib/python3.10/site-packages/statsmodels/tsa/statespace/sarimax.py:966: UserWarning: Non-stationary starting autoregressive parameters found. Using zeros as starting parameters.\n",
      "  warn('Non-stationary starting autoregressive parameters'\n",
      "/home/luismg0203/miniconda3/envs/forecasting/lib/python3.10/site-packages/statsmodels/tsa/statespace/sarimax.py:978: UserWarning: Non-invertible starting MA parameters found. Using zeros as starting parameters.\n",
      "  warn('Non-invertible starting MA parameters found.'\n",
      "/home/luismg0203/miniconda3/envs/forecasting/lib/python3.10/site-packages/statsmodels/base/model.py:607: ConvergenceWarning: Maximum Likelihood optimization failed to converge. Check mle_retvals\n",
      "  warnings.warn(\"Maximum Likelihood optimization failed to \"\n",
      "/home/luismg0203/miniconda3/envs/forecasting/lib/python3.10/site-packages/statsmodels/base/model.py:607: ConvergenceWarning: Maximum Likelihood optimization failed to converge. Check mle_retvals\n",
      "  warnings.warn(\"Maximum Likelihood optimization failed to \"\n",
      "/home/luismg0203/miniconda3/envs/forecasting/lib/python3.10/site-packages/statsmodels/base/model.py:607: ConvergenceWarning: Maximum Likelihood optimization failed to converge. Check mle_retvals\n",
      "  warnings.warn(\"Maximum Likelihood optimization failed to \"\n",
      "/home/luismg0203/miniconda3/envs/forecasting/lib/python3.10/site-packages/statsmodels/base/model.py:607: ConvergenceWarning: Maximum Likelihood optimization failed to converge. Check mle_retvals\n",
      "  warnings.warn(\"Maximum Likelihood optimization failed to \"\n",
      "/home/luismg0203/miniconda3/envs/forecasting/lib/python3.10/site-packages/statsmodels/tsa/statespace/sarimax.py:966: UserWarning: Non-stationary starting autoregressive parameters found. Using zeros as starting parameters.\n",
      "  warn('Non-stationary starting autoregressive parameters'\n",
      "/home/luismg0203/miniconda3/envs/forecasting/lib/python3.10/site-packages/statsmodels/tsa/statespace/sarimax.py:978: UserWarning: Non-invertible starting MA parameters found. Using zeros as starting parameters.\n",
      "  warn('Non-invertible starting MA parameters found.'\n",
      "/home/luismg0203/miniconda3/envs/forecasting/lib/python3.10/site-packages/statsmodels/base/model.py:607: ConvergenceWarning: Maximum Likelihood optimization failed to converge. Check mle_retvals\n",
      "  warnings.warn(\"Maximum Likelihood optimization failed to \"\n",
      "/home/luismg0203/miniconda3/envs/forecasting/lib/python3.10/site-packages/statsmodels/base/model.py:607: ConvergenceWarning: Maximum Likelihood optimization failed to converge. Check mle_retvals\n",
      "  warnings.warn(\"Maximum Likelihood optimization failed to \"\n",
      "/home/luismg0203/miniconda3/envs/forecasting/lib/python3.10/site-packages/statsmodels/base/model.py:607: ConvergenceWarning: Maximum Likelihood optimization failed to converge. Check mle_retvals\n",
      "  warnings.warn(\"Maximum Likelihood optimization failed to \"\n",
      "/home/luismg0203/miniconda3/envs/forecasting/lib/python3.10/site-packages/statsmodels/base/model.py:607: ConvergenceWarning: Maximum Likelihood optimization failed to converge. Check mle_retvals\n",
      "  warnings.warn(\"Maximum Likelihood optimization failed to \"\n",
      "/home/luismg0203/miniconda3/envs/forecasting/lib/python3.10/site-packages/statsmodels/tsa/statespace/sarimax.py:966: UserWarning: Non-stationary starting autoregressive parameters found. Using zeros as starting parameters.\n",
      "  warn('Non-stationary starting autoregressive parameters'\n",
      "/home/luismg0203/miniconda3/envs/forecasting/lib/python3.10/site-packages/statsmodels/tsa/statespace/sarimax.py:978: UserWarning: Non-invertible starting MA parameters found. Using zeros as starting parameters.\n",
      "  warn('Non-invertible starting MA parameters found.'\n",
      "/home/luismg0203/miniconda3/envs/forecasting/lib/python3.10/site-packages/statsmodels/base/model.py:607: ConvergenceWarning: Maximum Likelihood optimization failed to converge. Check mle_retvals\n",
      "  warnings.warn(\"Maximum Likelihood optimization failed to \"\n",
      "/home/luismg0203/miniconda3/envs/forecasting/lib/python3.10/site-packages/statsmodels/base/model.py:607: ConvergenceWarning: Maximum Likelihood optimization failed to converge. Check mle_retvals\n",
      "  warnings.warn(\"Maximum Likelihood optimization failed to \"\n",
      "/home/luismg0203/miniconda3/envs/forecasting/lib/python3.10/site-packages/statsmodels/base/model.py:607: ConvergenceWarning: Maximum Likelihood optimization failed to converge. Check mle_retvals\n",
      "  warnings.warn(\"Maximum Likelihood optimization failed to \"\n",
      "/home/luismg0203/miniconda3/envs/forecasting/lib/python3.10/site-packages/statsmodels/base/model.py:607: ConvergenceWarning: Maximum Likelihood optimization failed to converge. Check mle_retvals\n",
      "  warnings.warn(\"Maximum Likelihood optimization failed to \"\n",
      "/home/luismg0203/miniconda3/envs/forecasting/lib/python3.10/site-packages/statsmodels/base/model.py:607: ConvergenceWarning: Maximum Likelihood optimization failed to converge. Check mle_retvals\n",
      "  warnings.warn(\"Maximum Likelihood optimization failed to \"\n",
      "/home/luismg0203/miniconda3/envs/forecasting/lib/python3.10/site-packages/statsmodels/tsa/statespace/sarimax.py:966: UserWarning: Non-stationary starting autoregressive parameters found. Using zeros as starting parameters.\n",
      "  warn('Non-stationary starting autoregressive parameters'\n",
      "/home/luismg0203/miniconda3/envs/forecasting/lib/python3.10/site-packages/statsmodels/tsa/statespace/sarimax.py:978: UserWarning: Non-invertible starting MA parameters found. Using zeros as starting parameters.\n",
      "  warn('Non-invertible starting MA parameters found.'\n",
      "/home/luismg0203/miniconda3/envs/forecasting/lib/python3.10/site-packages/statsmodels/base/model.py:607: ConvergenceWarning: Maximum Likelihood optimization failed to converge. Check mle_retvals\n",
      "  warnings.warn(\"Maximum Likelihood optimization failed to \"\n",
      "/home/luismg0203/miniconda3/envs/forecasting/lib/python3.10/site-packages/statsmodels/base/model.py:607: ConvergenceWarning: Maximum Likelihood optimization failed to converge. Check mle_retvals\n",
      "  warnings.warn(\"Maximum Likelihood optimization failed to \"\n",
      "/home/luismg0203/miniconda3/envs/forecasting/lib/python3.10/site-packages/statsmodels/tsa/statespace/sarimax.py:966: UserWarning: Non-stationary starting autoregressive parameters found. Using zeros as starting parameters.\n",
      "  warn('Non-stationary starting autoregressive parameters'\n",
      "/home/luismg0203/miniconda3/envs/forecasting/lib/python3.10/site-packages/statsmodels/tsa/statespace/sarimax.py:978: UserWarning: Non-invertible starting MA parameters found. Using zeros as starting parameters.\n",
      "  warn('Non-invertible starting MA parameters found.'\n",
      "/home/luismg0203/miniconda3/envs/forecasting/lib/python3.10/site-packages/statsmodels/base/model.py:607: ConvergenceWarning: Maximum Likelihood optimization failed to converge. Check mle_retvals\n",
      "  warnings.warn(\"Maximum Likelihood optimization failed to \"\n",
      "/home/luismg0203/miniconda3/envs/forecasting/lib/python3.10/site-packages/statsmodels/base/model.py:607: ConvergenceWarning: Maximum Likelihood optimization failed to converge. Check mle_retvals\n",
      "  warnings.warn(\"Maximum Likelihood optimization failed to \"\n",
      "/home/luismg0203/miniconda3/envs/forecasting/lib/python3.10/site-packages/statsmodels/base/model.py:607: ConvergenceWarning: Maximum Likelihood optimization failed to converge. Check mle_retvals\n",
      "  warnings.warn(\"Maximum Likelihood optimization failed to \"\n",
      "/home/luismg0203/miniconda3/envs/forecasting/lib/python3.10/site-packages/statsmodels/tsa/statespace/sarimax.py:978: UserWarning: Non-invertible starting MA parameters found. Using zeros as starting parameters.\n",
      "  warn('Non-invertible starting MA parameters found.'\n",
      "/home/luismg0203/miniconda3/envs/forecasting/lib/python3.10/site-packages/statsmodels/base/model.py:607: ConvergenceWarning: Maximum Likelihood optimization failed to converge. Check mle_retvals\n",
      "  warnings.warn(\"Maximum Likelihood optimization failed to \"\n",
      "/home/luismg0203/miniconda3/envs/forecasting/lib/python3.10/site-packages/statsmodels/tsa/statespace/sarimax.py:966: UserWarning: Non-stationary starting autoregressive parameters found. Using zeros as starting parameters.\n",
      "  warn('Non-stationary starting autoregressive parameters'\n",
      "/home/luismg0203/miniconda3/envs/forecasting/lib/python3.10/site-packages/statsmodels/tsa/statespace/sarimax.py:978: UserWarning: Non-invertible starting MA parameters found. Using zeros as starting parameters.\n",
      "  warn('Non-invertible starting MA parameters found.'\n",
      "/home/luismg0203/miniconda3/envs/forecasting/lib/python3.10/site-packages/statsmodels/base/model.py:607: ConvergenceWarning: Maximum Likelihood optimization failed to converge. Check mle_retvals\n",
      "  warnings.warn(\"Maximum Likelihood optimization failed to \"\n",
      "/home/luismg0203/miniconda3/envs/forecasting/lib/python3.10/site-packages/statsmodels/base/model.py:607: ConvergenceWarning: Maximum Likelihood optimization failed to converge. Check mle_retvals\n",
      "  warnings.warn(\"Maximum Likelihood optimization failed to \"\n",
      "/home/luismg0203/miniconda3/envs/forecasting/lib/python3.10/site-packages/statsmodels/tsa/statespace/sarimax.py:966: UserWarning: Non-stationary starting autoregressive parameters found. Using zeros as starting parameters.\n",
      "  warn('Non-stationary starting autoregressive parameters'\n",
      "/home/luismg0203/miniconda3/envs/forecasting/lib/python3.10/site-packages/statsmodels/base/model.py:607: ConvergenceWarning: Maximum Likelihood optimization failed to converge. Check mle_retvals\n",
      "  warnings.warn(\"Maximum Likelihood optimization failed to \"\n",
      "/home/luismg0203/miniconda3/envs/forecasting/lib/python3.10/site-packages/statsmodels/base/model.py:607: ConvergenceWarning: Maximum Likelihood optimization failed to converge. Check mle_retvals\n",
      "  warnings.warn(\"Maximum Likelihood optimization failed to \"\n",
      "/home/luismg0203/miniconda3/envs/forecasting/lib/python3.10/site-packages/statsmodels/base/model.py:607: ConvergenceWarning: Maximum Likelihood optimization failed to converge. Check mle_retvals\n",
      "  warnings.warn(\"Maximum Likelihood optimization failed to \"\n",
      "/home/luismg0203/miniconda3/envs/forecasting/lib/python3.10/site-packages/statsmodels/base/model.py:607: ConvergenceWarning: Maximum Likelihood optimization failed to converge. Check mle_retvals\n",
      "  warnings.warn(\"Maximum Likelihood optimization failed to \"\n",
      "/home/luismg0203/miniconda3/envs/forecasting/lib/python3.10/site-packages/statsmodels/base/model.py:607: ConvergenceWarning: Maximum Likelihood optimization failed to converge. Check mle_retvals\n",
      "  warnings.warn(\"Maximum Likelihood optimization failed to \"\n",
      "/home/luismg0203/miniconda3/envs/forecasting/lib/python3.10/site-packages/statsmodels/base/model.py:607: ConvergenceWarning: Maximum Likelihood optimization failed to converge. Check mle_retvals\n",
      "  warnings.warn(\"Maximum Likelihood optimization failed to \"\n",
      "/home/luismg0203/miniconda3/envs/forecasting/lib/python3.10/site-packages/statsmodels/base/model.py:607: ConvergenceWarning: Maximum Likelihood optimization failed to converge. Check mle_retvals\n",
      "  warnings.warn(\"Maximum Likelihood optimization failed to \"\n",
      "/home/luismg0203/miniconda3/envs/forecasting/lib/python3.10/site-packages/statsmodels/base/model.py:607: ConvergenceWarning: Maximum Likelihood optimization failed to converge. Check mle_retvals\n",
      "  warnings.warn(\"Maximum Likelihood optimization failed to \"\n",
      "/home/luismg0203/miniconda3/envs/forecasting/lib/python3.10/site-packages/statsmodels/tsa/statespace/sarimax.py:966: UserWarning: Non-stationary starting autoregressive parameters found. Using zeros as starting parameters.\n",
      "  warn('Non-stationary starting autoregressive parameters'\n",
      "/home/luismg0203/miniconda3/envs/forecasting/lib/python3.10/site-packages/statsmodels/tsa/statespace/sarimax.py:978: UserWarning: Non-invertible starting MA parameters found. Using zeros as starting parameters.\n",
      "  warn('Non-invertible starting MA parameters found.'\n",
      "/home/luismg0203/miniconda3/envs/forecasting/lib/python3.10/site-packages/statsmodels/base/model.py:607: ConvergenceWarning: Maximum Likelihood optimization failed to converge. Check mle_retvals\n",
      "  warnings.warn(\"Maximum Likelihood optimization failed to \"\n",
      "/home/luismg0203/miniconda3/envs/forecasting/lib/python3.10/site-packages/statsmodels/tsa/statespace/sarimax.py:966: UserWarning: Non-stationary starting autoregressive parameters found. Using zeros as starting parameters.\n",
      "  warn('Non-stationary starting autoregressive parameters'\n",
      "/home/luismg0203/miniconda3/envs/forecasting/lib/python3.10/site-packages/statsmodels/tsa/statespace/sarimax.py:978: UserWarning: Non-invertible starting MA parameters found. Using zeros as starting parameters.\n",
      "  warn('Non-invertible starting MA parameters found.'\n",
      "/home/luismg0203/miniconda3/envs/forecasting/lib/python3.10/site-packages/statsmodels/base/model.py:607: ConvergenceWarning: Maximum Likelihood optimization failed to converge. Check mle_retvals\n",
      "  warnings.warn(\"Maximum Likelihood optimization failed to \"\n",
      "/home/luismg0203/miniconda3/envs/forecasting/lib/python3.10/site-packages/statsmodels/base/model.py:607: ConvergenceWarning: Maximum Likelihood optimization failed to converge. Check mle_retvals\n",
      "  warnings.warn(\"Maximum Likelihood optimization failed to \"\n",
      "/home/luismg0203/miniconda3/envs/forecasting/lib/python3.10/site-packages/statsmodels/base/model.py:607: ConvergenceWarning: Maximum Likelihood optimization failed to converge. Check mle_retvals\n",
      "  warnings.warn(\"Maximum Likelihood optimization failed to \"\n",
      "/home/luismg0203/miniconda3/envs/forecasting/lib/python3.10/site-packages/statsmodels/tsa/statespace/sarimax.py:966: UserWarning: Non-stationary starting autoregressive parameters found. Using zeros as starting parameters.\n",
      "  warn('Non-stationary starting autoregressive parameters'\n",
      "/home/luismg0203/miniconda3/envs/forecasting/lib/python3.10/site-packages/statsmodels/tsa/statespace/sarimax.py:978: UserWarning: Non-invertible starting MA parameters found. Using zeros as starting parameters.\n",
      "  warn('Non-invertible starting MA parameters found.'\n",
      "/home/luismg0203/miniconda3/envs/forecasting/lib/python3.10/site-packages/statsmodels/base/model.py:607: ConvergenceWarning: Maximum Likelihood optimization failed to converge. Check mle_retvals\n",
      "  warnings.warn(\"Maximum Likelihood optimization failed to \"\n",
      "/home/luismg0203/miniconda3/envs/forecasting/lib/python3.10/site-packages/statsmodels/tsa/statespace/sarimax.py:966: UserWarning: Non-stationary starting autoregressive parameters found. Using zeros as starting parameters.\n",
      "  warn('Non-stationary starting autoregressive parameters'\n",
      "/home/luismg0203/miniconda3/envs/forecasting/lib/python3.10/site-packages/statsmodels/tsa/statespace/sarimax.py:978: UserWarning: Non-invertible starting MA parameters found. Using zeros as starting parameters.\n",
      "  warn('Non-invertible starting MA parameters found.'\n",
      "/home/luismg0203/miniconda3/envs/forecasting/lib/python3.10/site-packages/statsmodels/base/model.py:607: ConvergenceWarning: Maximum Likelihood optimization failed to converge. Check mle_retvals\n",
      "  warnings.warn(\"Maximum Likelihood optimization failed to \"\n",
      "/home/luismg0203/miniconda3/envs/forecasting/lib/python3.10/site-packages/statsmodels/base/model.py:607: ConvergenceWarning: Maximum Likelihood optimization failed to converge. Check mle_retvals\n",
      "  warnings.warn(\"Maximum Likelihood optimization failed to \"\n",
      "/home/luismg0203/miniconda3/envs/forecasting/lib/python3.10/site-packages/statsmodels/base/model.py:607: ConvergenceWarning: Maximum Likelihood optimization failed to converge. Check mle_retvals\n",
      "  warnings.warn(\"Maximum Likelihood optimization failed to \"\n",
      "/home/luismg0203/miniconda3/envs/forecasting/lib/python3.10/site-packages/statsmodels/base/model.py:607: ConvergenceWarning: Maximum Likelihood optimization failed to converge. Check mle_retvals\n",
      "  warnings.warn(\"Maximum Likelihood optimization failed to \"\n",
      "/home/luismg0203/miniconda3/envs/forecasting/lib/python3.10/site-packages/statsmodels/base/model.py:607: ConvergenceWarning: Maximum Likelihood optimization failed to converge. Check mle_retvals\n",
      "  warnings.warn(\"Maximum Likelihood optimization failed to \"\n",
      "/home/luismg0203/miniconda3/envs/forecasting/lib/python3.10/site-packages/statsmodels/base/model.py:607: ConvergenceWarning: Maximum Likelihood optimization failed to converge. Check mle_retvals\n",
      "  warnings.warn(\"Maximum Likelihood optimization failed to \"\n",
      "/home/luismg0203/miniconda3/envs/forecasting/lib/python3.10/site-packages/statsmodels/base/model.py:607: ConvergenceWarning: Maximum Likelihood optimization failed to converge. Check mle_retvals\n",
      "  warnings.warn(\"Maximum Likelihood optimization failed to \"\n",
      "/home/luismg0203/miniconda3/envs/forecasting/lib/python3.10/site-packages/statsmodels/base/model.py:607: ConvergenceWarning: Maximum Likelihood optimization failed to converge. Check mle_retvals\n",
      "  warnings.warn(\"Maximum Likelihood optimization failed to \"\n",
      "/home/luismg0203/miniconda3/envs/forecasting/lib/python3.10/site-packages/statsmodels/base/model.py:607: ConvergenceWarning: Maximum Likelihood optimization failed to converge. Check mle_retvals\n",
      "  warnings.warn(\"Maximum Likelihood optimization failed to \"\n",
      "/home/luismg0203/miniconda3/envs/forecasting/lib/python3.10/site-packages/statsmodels/base/model.py:607: ConvergenceWarning: Maximum Likelihood optimization failed to converge. Check mle_retvals\n",
      "  warnings.warn(\"Maximum Likelihood optimization failed to \"\n",
      "/home/luismg0203/miniconda3/envs/forecasting/lib/python3.10/site-packages/statsmodels/base/model.py:607: ConvergenceWarning: Maximum Likelihood optimization failed to converge. Check mle_retvals\n",
      "  warnings.warn(\"Maximum Likelihood optimization failed to \"\n",
      "/home/luismg0203/miniconda3/envs/forecasting/lib/python3.10/site-packages/statsmodels/base/model.py:607: ConvergenceWarning: Maximum Likelihood optimization failed to converge. Check mle_retvals\n",
      "  warnings.warn(\"Maximum Likelihood optimization failed to \"\n",
      "/home/luismg0203/miniconda3/envs/forecasting/lib/python3.10/site-packages/statsmodels/tsa/statespace/sarimax.py:966: UserWarning: Non-stationary starting autoregressive parameters found. Using zeros as starting parameters.\n",
      "  warn('Non-stationary starting autoregressive parameters'\n",
      "/home/luismg0203/miniconda3/envs/forecasting/lib/python3.10/site-packages/statsmodels/tsa/statespace/sarimax.py:978: UserWarning: Non-invertible starting MA parameters found. Using zeros as starting parameters.\n",
      "  warn('Non-invertible starting MA parameters found.'\n",
      "/home/luismg0203/miniconda3/envs/forecasting/lib/python3.10/site-packages/statsmodels/base/model.py:607: ConvergenceWarning: Maximum Likelihood optimization failed to converge. Check mle_retvals\n",
      "  warnings.warn(\"Maximum Likelihood optimization failed to \"\n",
      "/home/luismg0203/miniconda3/envs/forecasting/lib/python3.10/site-packages/statsmodels/base/model.py:607: ConvergenceWarning: Maximum Likelihood optimization failed to converge. Check mle_retvals\n",
      "  warnings.warn(\"Maximum Likelihood optimization failed to \"\n",
      "/home/luismg0203/miniconda3/envs/forecasting/lib/python3.10/site-packages/statsmodels/base/model.py:607: ConvergenceWarning: Maximum Likelihood optimization failed to converge. Check mle_retvals\n",
      "  warnings.warn(\"Maximum Likelihood optimization failed to \"\n",
      "/home/luismg0203/miniconda3/envs/forecasting/lib/python3.10/site-packages/statsmodels/tsa/statespace/sarimax.py:966: UserWarning: Non-stationary starting autoregressive parameters found. Using zeros as starting parameters.\n",
      "  warn('Non-stationary starting autoregressive parameters'\n",
      "/home/luismg0203/miniconda3/envs/forecasting/lib/python3.10/site-packages/statsmodels/tsa/statespace/sarimax.py:978: UserWarning: Non-invertible starting MA parameters found. Using zeros as starting parameters.\n",
      "  warn('Non-invertible starting MA parameters found.'\n",
      "/home/luismg0203/miniconda3/envs/forecasting/lib/python3.10/site-packages/statsmodels/base/model.py:607: ConvergenceWarning: Maximum Likelihood optimization failed to converge. Check mle_retvals\n",
      "  warnings.warn(\"Maximum Likelihood optimization failed to \"\n",
      "/home/luismg0203/miniconda3/envs/forecasting/lib/python3.10/site-packages/statsmodels/base/model.py:607: ConvergenceWarning: Maximum Likelihood optimization failed to converge. Check mle_retvals\n",
      "  warnings.warn(\"Maximum Likelihood optimization failed to \"\n",
      "/home/luismg0203/miniconda3/envs/forecasting/lib/python3.10/site-packages/statsmodels/base/model.py:607: ConvergenceWarning: Maximum Likelihood optimization failed to converge. Check mle_retvals\n",
      "  warnings.warn(\"Maximum Likelihood optimization failed to \"\n",
      "/home/luismg0203/miniconda3/envs/forecasting/lib/python3.10/site-packages/statsmodels/base/model.py:607: ConvergenceWarning: Maximum Likelihood optimization failed to converge. Check mle_retvals\n",
      "  warnings.warn(\"Maximum Likelihood optimization failed to \"\n",
      "/home/luismg0203/miniconda3/envs/forecasting/lib/python3.10/site-packages/statsmodels/tsa/statespace/sarimax.py:966: UserWarning: Non-stationary starting autoregressive parameters found. Using zeros as starting parameters.\n",
      "  warn('Non-stationary starting autoregressive parameters'\n",
      "/home/luismg0203/miniconda3/envs/forecasting/lib/python3.10/site-packages/statsmodels/tsa/statespace/sarimax.py:978: UserWarning: Non-invertible starting MA parameters found. Using zeros as starting parameters.\n",
      "  warn('Non-invertible starting MA parameters found.'\n",
      "/home/luismg0203/miniconda3/envs/forecasting/lib/python3.10/site-packages/statsmodels/base/model.py:607: ConvergenceWarning: Maximum Likelihood optimization failed to converge. Check mle_retvals\n",
      "  warnings.warn(\"Maximum Likelihood optimization failed to \"\n"
     ]
    }
   ],
   "source": [
    "plot_xs = []\n",
    "frac_maes = []\n",
    "start = 0.05\n",
    "for frac in tqdm(np.arange(start, 0.86, start)):\n",
    "    split = int(len(data) * frac)\n",
    "    partial_data = data.iloc[:split, :]\n",
    "    for i, (x, y) in enumerate(btss.split(partial_data)):\n",
    "        endog_train = partial_data.loc[x, 'consumption'].reset_index(drop=True).astype(float)\n",
    "        endog_val = partial_data.loc[y, 'consumption'].reset_index(drop=True).astype(float)\n",
    "        exog_train = partial_data.loc[x].drop(['date', 'consumption'], axis=1).reset_index(drop=True)\n",
    "        exog_val = partial_data.loc[y].drop(['date', 'consumption'], axis=1).reset_index(drop=True)\n",
    "        model = ARIMA(endog_train, exog_train, order=order).fit()\n",
    "        predictions = model.forecast(steps=len(endog_val), exog=exog_val)\n",
    "        maes.append(mean_absolute_error(predictions, endog_val))\n",
    "    plot_xs.append(split)\n",
    "    frac_maes.append((np.mean(maes), np.std(maes)))"
   ]
  },
  {
   "cell_type": "code",
   "execution_count": 22,
   "id": "c175accd-4188-4894-a09c-e79713341052",
   "metadata": {},
   "outputs": [
    {
     "data": {
      "application/vnd.plotly.v1+json": {
       "config": {
        "plotlyServerURL": "https://plot.ly"
       },
       "data": [
        {
         "error_y": {
          "array": [
           12838.746520831473,
           11285.185585761215,
           10376.419555136355,
           9660.912897673881,
           8906.412307966364,
           8917.93442049881,
           8593.723292857872,
           8400.35992705905,
           8146.5412928140695,
           8107.328544878743,
           7840.016544106472,
           7793.877426387804,
           7624.776983522386,
           7427.525973137016,
           7296.964891041977,
           7445.0044366689235,
           7239.9278947768635
          ],
          "type": "data"
         },
         "type": "scatter",
         "x": [
          159,
          319,
          479,
          639,
          799,
          958,
          1118,
          1278,
          1438,
          1598,
          1757,
          1917,
          2077,
          2237,
          2397,
          2556,
          2716
         ],
         "y": [
          13713.879785287552,
          10936.595144300447,
          10230.270838626568,
          9112.909988796557,
          8731.417390946377,
          8912.738951896172,
          8186.3595178673395,
          8124.0128874807815,
          8110.980899254543,
          8397.310237303902,
          8320.345392926009,
          8502.43559243933,
          8713.564370107144,
          8638.021598884388,
          8748.318956787276,
          9225.173636469282,
          9211.66401075375
         ]
        }
       ],
       "layout": {
        "height": 360,
        "template": {
         "data": {
          "bar": [
           {
            "error_x": {
             "color": "#2a3f5f"
            },
            "error_y": {
             "color": "#2a3f5f"
            },
            "marker": {
             "line": {
              "color": "#E5ECF6",
              "width": 0.5
             },
             "pattern": {
              "fillmode": "overlay",
              "size": 10,
              "solidity": 0.2
             }
            },
            "type": "bar"
           }
          ],
          "barpolar": [
           {
            "marker": {
             "line": {
              "color": "#E5ECF6",
              "width": 0.5
             },
             "pattern": {
              "fillmode": "overlay",
              "size": 10,
              "solidity": 0.2
             }
            },
            "type": "barpolar"
           }
          ],
          "carpet": [
           {
            "aaxis": {
             "endlinecolor": "#2a3f5f",
             "gridcolor": "white",
             "linecolor": "white",
             "minorgridcolor": "white",
             "startlinecolor": "#2a3f5f"
            },
            "baxis": {
             "endlinecolor": "#2a3f5f",
             "gridcolor": "white",
             "linecolor": "white",
             "minorgridcolor": "white",
             "startlinecolor": "#2a3f5f"
            },
            "type": "carpet"
           }
          ],
          "choropleth": [
           {
            "colorbar": {
             "outlinewidth": 0,
             "ticks": ""
            },
            "type": "choropleth"
           }
          ],
          "contour": [
           {
            "colorbar": {
             "outlinewidth": 0,
             "ticks": ""
            },
            "colorscale": [
             [
              0,
              "#0d0887"
             ],
             [
              0.1111111111111111,
              "#46039f"
             ],
             [
              0.2222222222222222,
              "#7201a8"
             ],
             [
              0.3333333333333333,
              "#9c179e"
             ],
             [
              0.4444444444444444,
              "#bd3786"
             ],
             [
              0.5555555555555556,
              "#d8576b"
             ],
             [
              0.6666666666666666,
              "#ed7953"
             ],
             [
              0.7777777777777778,
              "#fb9f3a"
             ],
             [
              0.8888888888888888,
              "#fdca26"
             ],
             [
              1,
              "#f0f921"
             ]
            ],
            "type": "contour"
           }
          ],
          "contourcarpet": [
           {
            "colorbar": {
             "outlinewidth": 0,
             "ticks": ""
            },
            "type": "contourcarpet"
           }
          ],
          "heatmap": [
           {
            "colorbar": {
             "outlinewidth": 0,
             "ticks": ""
            },
            "colorscale": [
             [
              0,
              "#0d0887"
             ],
             [
              0.1111111111111111,
              "#46039f"
             ],
             [
              0.2222222222222222,
              "#7201a8"
             ],
             [
              0.3333333333333333,
              "#9c179e"
             ],
             [
              0.4444444444444444,
              "#bd3786"
             ],
             [
              0.5555555555555556,
              "#d8576b"
             ],
             [
              0.6666666666666666,
              "#ed7953"
             ],
             [
              0.7777777777777778,
              "#fb9f3a"
             ],
             [
              0.8888888888888888,
              "#fdca26"
             ],
             [
              1,
              "#f0f921"
             ]
            ],
            "type": "heatmap"
           }
          ],
          "heatmapgl": [
           {
            "colorbar": {
             "outlinewidth": 0,
             "ticks": ""
            },
            "colorscale": [
             [
              0,
              "#0d0887"
             ],
             [
              0.1111111111111111,
              "#46039f"
             ],
             [
              0.2222222222222222,
              "#7201a8"
             ],
             [
              0.3333333333333333,
              "#9c179e"
             ],
             [
              0.4444444444444444,
              "#bd3786"
             ],
             [
              0.5555555555555556,
              "#d8576b"
             ],
             [
              0.6666666666666666,
              "#ed7953"
             ],
             [
              0.7777777777777778,
              "#fb9f3a"
             ],
             [
              0.8888888888888888,
              "#fdca26"
             ],
             [
              1,
              "#f0f921"
             ]
            ],
            "type": "heatmapgl"
           }
          ],
          "histogram": [
           {
            "marker": {
             "pattern": {
              "fillmode": "overlay",
              "size": 10,
              "solidity": 0.2
             }
            },
            "type": "histogram"
           }
          ],
          "histogram2d": [
           {
            "colorbar": {
             "outlinewidth": 0,
             "ticks": ""
            },
            "colorscale": [
             [
              0,
              "#0d0887"
             ],
             [
              0.1111111111111111,
              "#46039f"
             ],
             [
              0.2222222222222222,
              "#7201a8"
             ],
             [
              0.3333333333333333,
              "#9c179e"
             ],
             [
              0.4444444444444444,
              "#bd3786"
             ],
             [
              0.5555555555555556,
              "#d8576b"
             ],
             [
              0.6666666666666666,
              "#ed7953"
             ],
             [
              0.7777777777777778,
              "#fb9f3a"
             ],
             [
              0.8888888888888888,
              "#fdca26"
             ],
             [
              1,
              "#f0f921"
             ]
            ],
            "type": "histogram2d"
           }
          ],
          "histogram2dcontour": [
           {
            "colorbar": {
             "outlinewidth": 0,
             "ticks": ""
            },
            "colorscale": [
             [
              0,
              "#0d0887"
             ],
             [
              0.1111111111111111,
              "#46039f"
             ],
             [
              0.2222222222222222,
              "#7201a8"
             ],
             [
              0.3333333333333333,
              "#9c179e"
             ],
             [
              0.4444444444444444,
              "#bd3786"
             ],
             [
              0.5555555555555556,
              "#d8576b"
             ],
             [
              0.6666666666666666,
              "#ed7953"
             ],
             [
              0.7777777777777778,
              "#fb9f3a"
             ],
             [
              0.8888888888888888,
              "#fdca26"
             ],
             [
              1,
              "#f0f921"
             ]
            ],
            "type": "histogram2dcontour"
           }
          ],
          "mesh3d": [
           {
            "colorbar": {
             "outlinewidth": 0,
             "ticks": ""
            },
            "type": "mesh3d"
           }
          ],
          "parcoords": [
           {
            "line": {
             "colorbar": {
              "outlinewidth": 0,
              "ticks": ""
             }
            },
            "type": "parcoords"
           }
          ],
          "pie": [
           {
            "automargin": true,
            "type": "pie"
           }
          ],
          "scatter": [
           {
            "fillpattern": {
             "fillmode": "overlay",
             "size": 10,
             "solidity": 0.2
            },
            "type": "scatter"
           }
          ],
          "scatter3d": [
           {
            "line": {
             "colorbar": {
              "outlinewidth": 0,
              "ticks": ""
             }
            },
            "marker": {
             "colorbar": {
              "outlinewidth": 0,
              "ticks": ""
             }
            },
            "type": "scatter3d"
           }
          ],
          "scattercarpet": [
           {
            "marker": {
             "colorbar": {
              "outlinewidth": 0,
              "ticks": ""
             }
            },
            "type": "scattercarpet"
           }
          ],
          "scattergeo": [
           {
            "marker": {
             "colorbar": {
              "outlinewidth": 0,
              "ticks": ""
             }
            },
            "type": "scattergeo"
           }
          ],
          "scattergl": [
           {
            "marker": {
             "colorbar": {
              "outlinewidth": 0,
              "ticks": ""
             }
            },
            "type": "scattergl"
           }
          ],
          "scattermapbox": [
           {
            "marker": {
             "colorbar": {
              "outlinewidth": 0,
              "ticks": ""
             }
            },
            "type": "scattermapbox"
           }
          ],
          "scatterpolar": [
           {
            "marker": {
             "colorbar": {
              "outlinewidth": 0,
              "ticks": ""
             }
            },
            "type": "scatterpolar"
           }
          ],
          "scatterpolargl": [
           {
            "marker": {
             "colorbar": {
              "outlinewidth": 0,
              "ticks": ""
             }
            },
            "type": "scatterpolargl"
           }
          ],
          "scatterternary": [
           {
            "marker": {
             "colorbar": {
              "outlinewidth": 0,
              "ticks": ""
             }
            },
            "type": "scatterternary"
           }
          ],
          "surface": [
           {
            "colorbar": {
             "outlinewidth": 0,
             "ticks": ""
            },
            "colorscale": [
             [
              0,
              "#0d0887"
             ],
             [
              0.1111111111111111,
              "#46039f"
             ],
             [
              0.2222222222222222,
              "#7201a8"
             ],
             [
              0.3333333333333333,
              "#9c179e"
             ],
             [
              0.4444444444444444,
              "#bd3786"
             ],
             [
              0.5555555555555556,
              "#d8576b"
             ],
             [
              0.6666666666666666,
              "#ed7953"
             ],
             [
              0.7777777777777778,
              "#fb9f3a"
             ],
             [
              0.8888888888888888,
              "#fdca26"
             ],
             [
              1,
              "#f0f921"
             ]
            ],
            "type": "surface"
           }
          ],
          "table": [
           {
            "cells": {
             "fill": {
              "color": "#EBF0F8"
             },
             "line": {
              "color": "white"
             }
            },
            "header": {
             "fill": {
              "color": "#C8D4E3"
             },
             "line": {
              "color": "white"
             }
            },
            "type": "table"
           }
          ]
         },
         "layout": {
          "annotationdefaults": {
           "arrowcolor": "#2a3f5f",
           "arrowhead": 0,
           "arrowwidth": 1
          },
          "autotypenumbers": "strict",
          "coloraxis": {
           "colorbar": {
            "outlinewidth": 0,
            "ticks": ""
           }
          },
          "colorscale": {
           "diverging": [
            [
             0,
             "#8e0152"
            ],
            [
             0.1,
             "#c51b7d"
            ],
            [
             0.2,
             "#de77ae"
            ],
            [
             0.3,
             "#f1b6da"
            ],
            [
             0.4,
             "#fde0ef"
            ],
            [
             0.5,
             "#f7f7f7"
            ],
            [
             0.6,
             "#e6f5d0"
            ],
            [
             0.7,
             "#b8e186"
            ],
            [
             0.8,
             "#7fbc41"
            ],
            [
             0.9,
             "#4d9221"
            ],
            [
             1,
             "#276419"
            ]
           ],
           "sequential": [
            [
             0,
             "#0d0887"
            ],
            [
             0.1111111111111111,
             "#46039f"
            ],
            [
             0.2222222222222222,
             "#7201a8"
            ],
            [
             0.3333333333333333,
             "#9c179e"
            ],
            [
             0.4444444444444444,
             "#bd3786"
            ],
            [
             0.5555555555555556,
             "#d8576b"
            ],
            [
             0.6666666666666666,
             "#ed7953"
            ],
            [
             0.7777777777777778,
             "#fb9f3a"
            ],
            [
             0.8888888888888888,
             "#fdca26"
            ],
            [
             1,
             "#f0f921"
            ]
           ],
           "sequentialminus": [
            [
             0,
             "#0d0887"
            ],
            [
             0.1111111111111111,
             "#46039f"
            ],
            [
             0.2222222222222222,
             "#7201a8"
            ],
            [
             0.3333333333333333,
             "#9c179e"
            ],
            [
             0.4444444444444444,
             "#bd3786"
            ],
            [
             0.5555555555555556,
             "#d8576b"
            ],
            [
             0.6666666666666666,
             "#ed7953"
            ],
            [
             0.7777777777777778,
             "#fb9f3a"
            ],
            [
             0.8888888888888888,
             "#fdca26"
            ],
            [
             1,
             "#f0f921"
            ]
           ]
          },
          "colorway": [
           "#636efa",
           "#EF553B",
           "#00cc96",
           "#ab63fa",
           "#FFA15A",
           "#19d3f3",
           "#FF6692",
           "#B6E880",
           "#FF97FF",
           "#FECB52"
          ],
          "font": {
           "color": "#2a3f5f"
          },
          "geo": {
           "bgcolor": "white",
           "lakecolor": "white",
           "landcolor": "#E5ECF6",
           "showlakes": true,
           "showland": true,
           "subunitcolor": "white"
          },
          "hoverlabel": {
           "align": "left"
          },
          "hovermode": "closest",
          "mapbox": {
           "style": "light"
          },
          "paper_bgcolor": "white",
          "plot_bgcolor": "#E5ECF6",
          "polar": {
           "angularaxis": {
            "gridcolor": "white",
            "linecolor": "white",
            "ticks": ""
           },
           "bgcolor": "#E5ECF6",
           "radialaxis": {
            "gridcolor": "white",
            "linecolor": "white",
            "ticks": ""
           }
          },
          "scene": {
           "xaxis": {
            "backgroundcolor": "#E5ECF6",
            "gridcolor": "white",
            "gridwidth": 2,
            "linecolor": "white",
            "showbackground": true,
            "ticks": "",
            "zerolinecolor": "white"
           },
           "yaxis": {
            "backgroundcolor": "#E5ECF6",
            "gridcolor": "white",
            "gridwidth": 2,
            "linecolor": "white",
            "showbackground": true,
            "ticks": "",
            "zerolinecolor": "white"
           },
           "zaxis": {
            "backgroundcolor": "#E5ECF6",
            "gridcolor": "white",
            "gridwidth": 2,
            "linecolor": "white",
            "showbackground": true,
            "ticks": "",
            "zerolinecolor": "white"
           }
          },
          "shapedefaults": {
           "line": {
            "color": "#2a3f5f"
           }
          },
          "ternary": {
           "aaxis": {
            "gridcolor": "white",
            "linecolor": "white",
            "ticks": ""
           },
           "baxis": {
            "gridcolor": "white",
            "linecolor": "white",
            "ticks": ""
           },
           "bgcolor": "#E5ECF6",
           "caxis": {
            "gridcolor": "white",
            "linecolor": "white",
            "ticks": ""
           }
          },
          "title": {
           "x": 0.05
          },
          "xaxis": {
           "automargin": true,
           "gridcolor": "white",
           "linecolor": "white",
           "ticks": "",
           "title": {
            "standoff": 15
           },
           "zerolinecolor": "white",
           "zerolinewidth": 2
          },
          "yaxis": {
           "automargin": true,
           "gridcolor": "white",
           "linecolor": "white",
           "ticks": "",
           "title": {
            "standoff": 15
           },
           "zerolinecolor": "white",
           "zerolinewidth": 2
          }
         }
        },
        "title": {
         "text": "Learning Curve for ARIMA Model",
         "x": 0.5,
         "xanchor": "center",
         "y": 0.85
        },
        "xaxis": {
         "autorange": true,
         "range": [
          4.251846557064567,
          2870.7481534429353
         ],
         "title": {
          "text": "Number of Training Examples"
         },
         "type": "linear"
        },
        "yaxis": {
         "autorange": true,
         "range": [
          -2053.593420821566,
          28058.216818063265
         ],
         "title": {
          "text": "MAE (MWh)"
         },
         "type": "linear"
        }
       }
      },
      "image/png": "[encoded data removed]",
      "text/html": [
       "<div>                            <div id=\"484467af-1197-42c8-a04c-2b3c1899d3b6\" class=\"plotly-graph-div\" style=\"height:525px; width:100%;\"></div>            <script type=\"text/javascript\">                require([\"plotly\"], function(Plotly) {                    window.PLOTLYENV=window.PLOTLYENV || {};                                    if (document.getElementById(\"484467af-1197-42c8-a04c-2b3c1899d3b6\")) {                    Plotly.newPlot(                        \"484467af-1197-42c8-a04c-2b3c1899d3b6\",                        [{\"error_y\":{\"array\":[12838.746520831473,11285.185585761215,10376.419555136355,9660.912897673881,8906.412307966364,8917.93442049881,8593.723292857872,8400.35992705905,8146.5412928140695,8107.328544878743,7840.016544106472,7793.877426387804,7624.776983522386,7427.525973137016,7296.964891041977,7445.0044366689235,7239.9278947768635],\"type\":\"data\"},\"x\":[159,319,479,639,799,958,1118,1278,1438,1598,1757,1917,2077,2237,2397,2556,2716],\"y\":[13713.879785287552,10936.595144300447,10230.270838626568,9112.909988796557,8731.417390946377,8912.738951896172,8186.3595178673395,8124.0128874807815,8110.980899254543,8397.310237303902,8320.345392926009,8502.43559243933,8713.564370107144,8638.021598884388,8748.318956787276,9225.173636469282,9211.66401075375],\"type\":\"scatter\"}],                        {\"template\":{\"data\":{\"histogram2dcontour\":[{\"type\":\"histogram2dcontour\",\"colorbar\":{\"outlinewidth\":0,\"ticks\":\"\"},\"colorscale\":[[0.0,\"#0d0887\"],[0.1111111111111111,\"#46039f\"],[0.2222222222222222,\"#7201a8\"],[0.3333333333333333,\"#9c179e\"],[0.4444444444444444,\"#bd3786\"],[0.5555555555555556,\"#d8576b\"],[0.6666666666666666,\"#ed7953\"],[0.7777777777777778,\"#fb9f3a\"],[0.8888888888888888,\"#fdca26\"],[1.0,\"#f0f921\"]]}],\"choropleth\":[{\"type\":\"choropleth\",\"colorbar\":{\"outlinewidth\":0,\"ticks\":\"\"}}],\"histogram2d\":[{\"type\":\"histogram2d\",\"colorbar\":{\"outlinewidth\":0,\"ticks\":\"\"},\"colorscale\":[[0.0,\"#0d0887\"],[0.1111111111111111,\"#46039f\"],[0.2222222222222222,\"#7201a8\"],[0.3333333333333333,\"#9c179e\"],[0.4444444444444444,\"#bd3786\"],[0.5555555555555556,\"#d8576b\"],[0.6666666666666666,\"#ed7953\"],[0.7777777777777778,\"#fb9f3a\"],[0.8888888888888888,\"#fdca26\"],[1.0,\"#f0f921\"]]}],\"heatmap\":[{\"type\":\"heatmap\",\"colorbar\":{\"outlinewidth\":0,\"ticks\":\"\"},\"colorscale\":[[0.0,\"#0d0887\"],[0.1111111111111111,\"#46039f\"],[0.2222222222222222,\"#7201a8\"],[0.3333333333333333,\"#9c179e\"],[0.4444444444444444,\"#bd3786\"],[0.5555555555555556,\"#d8576b\"],[0.6666666666666666,\"#ed7953\"],[0.7777777777777778,\"#fb9f3a\"],[0.8888888888888888,\"#fdca26\"],[1.0,\"#f0f921\"]]}],\"heatmapgl\":[{\"type\":\"heatmapgl\",\"colorbar\":{\"outlinewidth\":0,\"ticks\":\"\"},\"colorscale\":[[0.0,\"#0d0887\"],[0.1111111111111111,\"#46039f\"],[0.2222222222222222,\"#7201a8\"],[0.3333333333333333,\"#9c179e\"],[0.4444444444444444,\"#bd3786\"],[0.5555555555555556,\"#d8576b\"],[0.6666666666666666,\"#ed7953\"],[0.7777777777777778,\"#fb9f3a\"],[0.8888888888888888,\"#fdca26\"],[1.0,\"#f0f921\"]]}],\"contourcarpet\":[{\"type\":\"contourcarpet\",\"colorbar\":{\"outlinewidth\":0,\"ticks\":\"\"}}],\"contour\":[{\"type\":\"contour\",\"colorbar\":{\"outlinewidth\":0,\"ticks\":\"\"},\"colorscale\":[[0.0,\"#0d0887\"],[0.1111111111111111,\"#46039f\"],[0.2222222222222222,\"#7201a8\"],[0.3333333333333333,\"#9c179e\"],[0.4444444444444444,\"#bd3786\"],[0.5555555555555556,\"#d8576b\"],[0.6666666666666666,\"#ed7953\"],[0.7777777777777778,\"#fb9f3a\"],[0.8888888888888888,\"#fdca26\"],[1.0,\"#f0f921\"]]}],\"surface\":[{\"type\":\"surface\",\"colorbar\":{\"outlinewidth\":0,\"ticks\":\"\"},\"colorscale\":[[0.0,\"#0d0887\"],[0.1111111111111111,\"#46039f\"],[0.2222222222222222,\"#7201a8\"],[0.3333333333333333,\"#9c179e\"],[0.4444444444444444,\"#bd3786\"],[0.5555555555555556,\"#d8576b\"],[0.6666666666666666,\"#ed7953\"],[0.7777777777777778,\"#fb9f3a\"],[0.8888888888888888,\"#fdca26\"],[1.0,\"#f0f921\"]]}],\"mesh3d\":[{\"type\":\"mesh3d\",\"colorbar\":{\"outlinewidth\":0,\"ticks\":\"\"}}],\"scatter\":[{\"fillpattern\":{\"fillmode\":\"overlay\",\"size\":10,\"solidity\":0.2},\"type\":\"scatter\"}],\"parcoords\":[{\"type\":\"parcoords\",\"line\":{\"colorbar\":{\"outlinewidth\":0,\"ticks\":\"\"}}}],\"scatterpolargl\":[{\"type\":\"scatterpolargl\",\"marker\":{\"colorbar\":{\"outlinewidth\":0,\"ticks\":\"\"}}}],\"bar\":[{\"error_x\":{\"color\":\"#2a3f5f\"},\"error_y\":{\"color\":\"#2a3f5f\"},\"marker\":{\"line\":{\"color\":\"#E5ECF6\",\"width\":0.5},\"pattern\":{\"fillmode\":\"overlay\",\"size\":10,\"solidity\":0.2}},\"type\":\"bar\"}],\"scattergeo\":[{\"type\":\"scattergeo\",\"marker\":{\"colorbar\":{\"outlinewidth\":0,\"ticks\":\"\"}}}],\"scatterpolar\":[{\"type\":\"scatterpolar\",\"marker\":{\"colorbar\":{\"outlinewidth\":0,\"ticks\":\"\"}}}],\"histogram\":[{\"marker\":{\"pattern\":{\"fillmode\":\"overlay\",\"size\":10,\"solidity\":0.2}},\"type\":\"histogram\"}],\"scattergl\":[{\"type\":\"scattergl\",\"marker\":{\"colorbar\":{\"outlinewidth\":0,\"ticks\":\"\"}}}],\"scatter3d\":[{\"type\":\"scatter3d\",\"line\":{\"colorbar\":{\"outlinewidth\":0,\"ticks\":\"\"}},\"marker\":{\"colorbar\":{\"outlinewidth\":0,\"ticks\":\"\"}}}],\"scattermapbox\":[{\"type\":\"scattermapbox\",\"marker\":{\"colorbar\":{\"outlinewidth\":0,\"ticks\":\"\"}}}],\"scatterternary\":[{\"type\":\"scatterternary\",\"marker\":{\"colorbar\":{\"outlinewidth\":0,\"ticks\":\"\"}}}],\"scattercarpet\":[{\"type\":\"scattercarpet\",\"marker\":{\"colorbar\":{\"outlinewidth\":0,\"ticks\":\"\"}}}],\"carpet\":[{\"aaxis\":{\"endlinecolor\":\"#2a3f5f\",\"gridcolor\":\"white\",\"linecolor\":\"white\",\"minorgridcolor\":\"white\",\"startlinecolor\":\"#2a3f5f\"},\"baxis\":{\"endlinecolor\":\"#2a3f5f\",\"gridcolor\":\"white\",\"linecolor\":\"white\",\"minorgridcolor\":\"white\",\"startlinecolor\":\"#2a3f5f\"},\"type\":\"carpet\"}],\"table\":[{\"cells\":{\"fill\":{\"color\":\"#EBF0F8\"},\"line\":{\"color\":\"white\"}},\"header\":{\"fill\":{\"color\":\"#C8D4E3\"},\"line\":{\"color\":\"white\"}},\"type\":\"table\"}],\"barpolar\":[{\"marker\":{\"line\":{\"color\":\"#E5ECF6\",\"width\":0.5},\"pattern\":{\"fillmode\":\"overlay\",\"size\":10,\"solidity\":0.2}},\"type\":\"barpolar\"}],\"pie\":[{\"automargin\":true,\"type\":\"pie\"}]},\"layout\":{\"autotypenumbers\":\"strict\",\"colorway\":[\"#636efa\",\"#EF553B\",\"#00cc96\",\"#ab63fa\",\"#FFA15A\",\"#19d3f3\",\"#FF6692\",\"#B6E880\",\"#FF97FF\",\"#FECB52\"],\"font\":{\"color\":\"#2a3f5f\"},\"hovermode\":\"closest\",\"hoverlabel\":{\"align\":\"left\"},\"paper_bgcolor\":\"white\",\"plot_bgcolor\":\"#E5ECF6\",\"polar\":{\"bgcolor\":\"#E5ECF6\",\"angularaxis\":{\"gridcolor\":\"white\",\"linecolor\":\"white\",\"ticks\":\"\"},\"radialaxis\":{\"gridcolor\":\"white\",\"linecolor\":\"white\",\"ticks\":\"\"}},\"ternary\":{\"bgcolor\":\"#E5ECF6\",\"aaxis\":{\"gridcolor\":\"white\",\"linecolor\":\"white\",\"ticks\":\"\"},\"baxis\":{\"gridcolor\":\"white\",\"linecolor\":\"white\",\"ticks\":\"\"},\"caxis\":{\"gridcolor\":\"white\",\"linecolor\":\"white\",\"ticks\":\"\"}},\"coloraxis\":{\"colorbar\":{\"outlinewidth\":0,\"ticks\":\"\"}},\"colorscale\":{\"sequential\":[[0.0,\"#0d0887\"],[0.1111111111111111,\"#46039f\"],[0.2222222222222222,\"#7201a8\"],[0.3333333333333333,\"#9c179e\"],[0.4444444444444444,\"#bd3786\"],[0.5555555555555556,\"#d8576b\"],[0.6666666666666666,\"#ed7953\"],[0.7777777777777778,\"#fb9f3a\"],[0.8888888888888888,\"#fdca26\"],[1.0,\"#f0f921\"]],\"sequentialminus\":[[0.0,\"#0d0887\"],[0.1111111111111111,\"#46039f\"],[0.2222222222222222,\"#7201a8\"],[0.3333333333333333,\"#9c179e\"],[0.4444444444444444,\"#bd3786\"],[0.5555555555555556,\"#d8576b\"],[0.6666666666666666,\"#ed7953\"],[0.7777777777777778,\"#fb9f3a\"],[0.8888888888888888,\"#fdca26\"],[1.0,\"#f0f921\"]],\"diverging\":[[0,\"#8e0152\"],[0.1,\"#c51b7d\"],[0.2,\"#de77ae\"],[0.3,\"#f1b6da\"],[0.4,\"#fde0ef\"],[0.5,\"#f7f7f7\"],[0.6,\"#e6f5d0\"],[0.7,\"#b8e186\"],[0.8,\"#7fbc41\"],[0.9,\"#4d9221\"],[1,\"#276419\"]]},\"xaxis\":{\"gridcolor\":\"white\",\"linecolor\":\"white\",\"ticks\":\"\",\"title\":{\"standoff\":15},\"zerolinecolor\":\"white\",\"automargin\":true,\"zerolinewidth\":2},\"yaxis\":{\"gridcolor\":\"white\",\"linecolor\":\"white\",\"ticks\":\"\",\"title\":{\"standoff\":15},\"zerolinecolor\":\"white\",\"automargin\":true,\"zerolinewidth\":2},\"scene\":{\"xaxis\":{\"backgroundcolor\":\"#E5ECF6\",\"gridcolor\":\"white\",\"linecolor\":\"white\",\"showbackground\":true,\"ticks\":\"\",\"zerolinecolor\":\"white\",\"gridwidth\":2},\"yaxis\":{\"backgroundcolor\":\"#E5ECF6\",\"gridcolor\":\"white\",\"linecolor\":\"white\",\"showbackground\":true,\"ticks\":\"\",\"zerolinecolor\":\"white\",\"gridwidth\":2},\"zaxis\":{\"backgroundcolor\":\"#E5ECF6\",\"gridcolor\":\"white\",\"linecolor\":\"white\",\"showbackground\":true,\"ticks\":\"\",\"zerolinecolor\":\"white\",\"gridwidth\":2}},\"shapedefaults\":{\"line\":{\"color\":\"#2a3f5f\"}},\"annotationdefaults\":{\"arrowcolor\":\"#2a3f5f\",\"arrowhead\":0,\"arrowwidth\":1},\"geo\":{\"bgcolor\":\"white\",\"landcolor\":\"#E5ECF6\",\"subunitcolor\":\"white\",\"showland\":true,\"showlakes\":true,\"lakecolor\":\"white\"},\"title\":{\"x\":0.05},\"mapbox\":{\"style\":\"light\"}}},\"title\":{\"text\":\"Learning Curve for ARIMA Model\",\"xanchor\":\"center\",\"x\":0.5,\"y\":0.85},\"xaxis\":{\"title\":{\"text\":\"Number of Training Examples\"}},\"yaxis\":{\"title\":{\"text\":\"MAE (MWh)\"}}},                        {\"responsive\": true}                    ).then(function(){\n",
       "                            \n",
       "var gd = document.getElementById('484467af-1197-42c8-a04c-2b3c1899d3b6');\n",
       "var x = new MutationObserver(function (mutations, observer) {{\n",
       "        var display = window.getComputedStyle(gd).display;\n",
       "        if (!display || display === 'none') {{\n",
       "            console.log([gd, 'removed!']);\n",
       "            Plotly.purge(gd);\n",
       "            observer.disconnect();\n",
       "        }}\n",
       "}});\n",
       "\n",
       "// Listen for the removal of the full notebook cells\n",
       "var notebookContainer = gd.closest('#notebook-container');\n",
       "if (notebookContainer) {{\n",
       "    x.observe(notebookContainer, {childList: true});\n",
       "}}\n",
       "\n",
       "// Listen for the clearing of the current output cell\n",
       "var outputEl = gd.closest('.output');\n",
       "if (outputEl) {{\n",
       "    x.observe(outputEl, {childList: true});\n",
       "}}\n",
       "\n",
       "                        })                };                });            </script>        </div>"
      ]
     },
     "metadata": {},
     "output_type": "display_data"
    }
   ],
   "source": [
    "fig = go.Figure()\n",
    "fig.add_trace(\n",
    "    go.Scatter(\n",
    "        x=plot_xs,\n",
    "        y=[mae for mae, _ in frac_maes],\n",
    "        error_y=dict(type='data', array=[std for _, std in frac_maes])\n",
    "    )\n",
    ")\n",
    "fig.update_layout(\n",
    "    title={\"text\": \"Learning Curve for ARIMA Model\", \"xanchor\": 'center', 'x': 0.5, 'y':0.85},\n",
    "    xaxis_title=\"Number of Training Examples\",\n",
    "    yaxis_title=\"MAE (MWh)\"\n",
    ")\n",
    "fig.show()\n",
    "fig.write_image(\"learning_curve.png\")"
   ]
  },
  {
   "cell_type": "code",
   "execution_count": 60,
   "id": "ecbedf58-9488-4f9c-8deb-83026c68f1a6",
   "metadata": {},
   "outputs": [],
   "source": [
    "# maes = []\n",
    "# for i, (x, y) in enumerate(btss.split(train)):\n",
    "#     endog_train = train.loc[x, 'consumption'].reset_index(drop=True).astype(float)\n",
    "#     endog_val = train.loc[y, 'consumption'].reset_index(drop=True).astype(float)\n",
    "#     exog_train = train.loc[x].drop(['date', 'consumption'], axis=1).reset_index(drop=True)\n",
    "#     exog_val = train.loc[y].drop(['date', 'consumption'], axis=1).reset_index(drop=True)\n",
    "#     model = ARIMA(endog_train, exog_train, order=order).fit()\n",
    "#     predictions = model.forecast(steps=len(endog_val), exog=exog_val)\n",
    "#     maes.append(mean_absolute_error(predictions, endog_val))\n",
    "#     print(mean_absolute_error(predictions, endog_val))\n",
    "# print(np.mean(maes))"
   ]
  },
  {
   "cell_type": "code",
   "execution_count": 57,
   "id": "3fd689a5-fd18-4d82-8b57-5db9df9c20f3",
   "metadata": {},
   "outputs": [
    {
     "data": {
      "text/plain": [
       "(2716, 28)"
      ]
     },
     "execution_count": 57,
     "metadata": {},
     "output_type": "execute_result"
    }
   ],
   "source": [
    "train.shape"
   ]
  },
  {
   "cell_type": "markdown",
   "id": "ce003998-a7e4-4018-9b40-13f47ef71949",
   "metadata": {},
   "source": [
    "## Failure Analysis"
   ]
  },
  {
   "cell_type": "code",
   "execution_count": null,
   "id": "34dbbce2-be2c-41ab-9aff-63fdb27937bc",
   "metadata": {},
   "outputs": [],
   "source": []
  }
 ],
 "metadata": {
  "kernelspec": {
   "display_name": "Python 3 (ipykernel)",
   "language": "python",
   "name": "python3"
  },
  "language_info": {
   "codemirror_mode": {
    "name": "ipython",
    "version": 3
   },
   "file_extension": ".py",
   "mimetype": "text/x-python",
   "name": "python",
   "nbconvert_exporter": "python",
   "pygments_lexer": "ipython3",
   "version": "3.10.14"
  }
 },
 "nbformat": 4,
 "nbformat_minor": 5
}
